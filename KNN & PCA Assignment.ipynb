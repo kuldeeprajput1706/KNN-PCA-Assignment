<!DOCTYPE html>
<!-- saved from url=(0097)https://colab.research.google.com/drive/1lKj2PjoA-%2DRqc0XIHJeDcimLU4iwhyW3#scrollTo=mHSYsowmdTRP -->
<html lang="en" theme="light" editor="Default Light"><head><meta http-equiv="Content-Type" content="text/html; charset=UTF-8"><meta http-equiv="origin-trial" content="A7vZI3v+Gz7JfuRolKNM4Aff6zaGuT7X0mf3wtoZTnKv6497cVMnhy03KDqX7kBz/q/iidW7srW31oQbBt4VhgoAAACUeyJvcmlnaW4iOiJodHRwczovL3d3dy5nb29nbGUuY29tOjQ0MyIsImZlYXR1cmUiOiJEaXNhYmxlVGhpcmRQYXJ0eVN0b3JhZ2VQYXJ0aXRpb25pbmczIiwiZXhwaXJ5IjoxNzU3OTgwODAwLCJpc1N1YmRvbWFpbiI6dHJ1ZSwiaXNUaGlyZFBhcnR5Ijp0cnVlfQ=="><meta http-equiv="origin-trial" content="A7vZI3v+Gz7JfuRolKNM4Aff6zaGuT7X0mf3wtoZTnKv6497cVMnhy03KDqX7kBz/q/iidW7srW31oQbBt4VhgoAAACUeyJvcmlnaW4iOiJodHRwczovL3d3dy5nb29nbGUuY29tOjQ0MyIsImZlYXR1cmUiOiJEaXNhYmxlVGhpcmRQYXJ0eVN0b3JhZ2VQYXJ0aXRpb25pbmczIiwiZXhwaXJ5IjoxNzU3OTgwODAwLCJpc1N1YmRvbWFpbiI6dHJ1ZSwiaXNUaGlyZFBhcnR5Ijp0cnVlfQ=="><meta name="og-profile-acct" content="rjptkuldeep99@gmail.com"><script type="text/javascript" async="" charset="utf-8" src="./KNN &amp; PCA Assignment_files/recaptcha__en.js.download" crossorigin="anonymous" integrity="sha384-LpPE17frK5ghpDNcL02QVoY7N6n375lMdZEBjkcA4rqimdzMm/XNiOx2MI2jTEkt" nonce=""></script><script type="text/javascript" async="" charset="utf-8" src="./KNN &amp; PCA Assignment_files/recaptcha__en.js.download" crossorigin="anonymous" integrity="sha384-LpPE17frK5ghpDNcL02QVoY7N6n375lMdZEBjkcA4rqimdzMm/XNiOx2MI2jTEkt" nonce=""></script><script src="./KNN &amp; PCA Assignment_files/cb=gapi.loaded_1" nonce="" async=""></script><script src="./KNN &amp; PCA Assignment_files/cb=gapi.loaded_0" nonce="" async=""></script><script type="text/javascript" async="" src="./KNN &amp; PCA Assignment_files/js" nonce=""></script><script async="" src="./KNN &amp; PCA Assignment_files/analytics.js.download"></script><script nonce="">
      document.addEventListener('keydown', (e) => {
        // Stop propagation on ESC because otherwise it will halt outbound XHRs
        // See b/131755324 for more info.
        if (e.key === 'Escape') {
          e.stopPropagation();
          e.preventDefault();
        }
      });
    </script><meta name="referrer" content="origin"><meta name="viewport" content="width=device-width, initial-scale=1"><title>KNN &amp; PCA | Assignment.ipynb - Colab</title><link href="./KNN &amp; PCA Assignment_files/css2" rel="stylesheet"><link href="./KNN &amp; PCA Assignment_files/css" rel="stylesheet"><link rel="search" type="application/opensearchdescription+xml" href="https://colab.research.google.com/opensearch.xml" title="Google Colab"><style>.gb_5d{font:13px/27px Roboto,Arial,sans-serif;z-index:986}@-webkit-keyframes gb__a{0%{opacity:0}50%{opacity:1}}@keyframes gb__a{0%{opacity:0}50%{opacity:1}}a.gb_Qa{border:none;color:#4285f4;cursor:default;font-weight:bold;outline:none;position:relative;text-align:center;text-decoration:none;text-transform:uppercase;white-space:nowrap;-webkit-user-select:none}a.gb_Qa:hover::after,a.gb_Qa:focus::after{background-color:rgba(0,0,0,.12);content:"";height:100%;left:0;position:absolute;top:0;width:100%}a.gb_Qa:hover,a.gb_Qa:focus{text-decoration:none}a.gb_Qa:active{background-color:rgba(153,153,153,.4);text-decoration:none}a.gb_Ra{background-color:#4285f4;color:#fff}a.gb_Ra:active{background-color:#0043b2}.gb_Sa{box-shadow:0 1px 1px rgba(0,0,0,.16)}.gb_Qa,.gb_Ra,.gb_Ta,.gb_Ua{display:inline-block;line-height:28px;padding:0 12px;border-radius:2px}.gb_Ta{background:#f8f8f8;border:1px solid #c6c6c6}.gb_Ua{background:#f8f8f8}.gb_Ta,#gb a.gb_Ta.gb_Ta,.gb_Ua{color:#666;cursor:default;text-decoration:none}#gb a.gb_Ua{cursor:default;text-decoration:none}.gb_Ua{border:1px solid #4285f4;font-weight:bold;outline:none;background:#4285f4;background:-webkit-gradient(linear,left top,left bottom,from(top),color-stop(#4387fd),to(#4683ea));background:-webkit-linear-gradient(top,#4387fd,#4683ea);background:linear-gradient(top,#4387fd,#4683ea);filter:progid:DXImageTransform.Microsoft.gradient(startColorstr=#4387fd,endColorstr=#4683ea,GradientType=0)}#gb a.gb_Ua{color:#fff}.gb_Ua:hover{box-shadow:0 1px 0 rgba(0,0,0,.15)}.gb_Ua:active{box-shadow:inset 0 2px 0 rgba(0,0,0,.15);background:#3c78dc;background:-webkit-gradient(linear,left top,left bottom,from(top),color-stop(#3c7ae4),to(#3f76d3));background:-webkit-linear-gradient(top,#3c7ae4,#3f76d3);background:linear-gradient(top,#3c7ae4,#3f76d3);filter:progid:DXImageTransform.Microsoft.gradient(startColorstr=#3c7ae4,endColorstr=#3f76d3,GradientType=0)}#gb .gb_Va{background:#fff;border:1px solid #dadce0;color:#1a73e8;display:inline-block;text-decoration:none}#gb .gb_Va:hover{background:#f8fbff;border-color:#dadce0;color:#174ea6}#gb .gb_Va:focus{background:#f4f8ff;color:#174ea6;outline:1px solid #174ea6}#gb .gb_Va:active,#gb .gb_Va:focus:active{background:#ecf3fe;color:#174ea6}#gb .gb_Va.gb_H{background:transparent;border:1px solid #5f6368;color:#8ab4f8;text-decoration:none}#gb .gb_Va.gb_H:hover{background:rgba(255,255,255,.04);color:#e8eaed}#gb .gb_Va.gb_H:focus{background:rgba(232,234,237,.12);color:#e8eaed;outline:1px solid #e8eaed}#gb .gb_Va.gb_H:active,#gb .gb_Va.gb_H:focus:active{background:rgba(232,234,237,.1);color:#e8eaed}.gb_id{display:inline-block;vertical-align:middle}.gb_Re .gb_Q{bottom:-3px;right:-5px}.gb_D{position:relative}.gb_B{display:inline-block;outline:none;vertical-align:middle;border-radius:2px;box-sizing:border-box;height:40px;width:40px;cursor:pointer;text-decoration:none}#gb#gb a.gb_B{cursor:pointer;text-decoration:none}.gb_B,a.gb_B{color:#000}.gb_jd{border-color:transparent;border-bottom-color:#fff;border-style:dashed dashed solid;border-width:0 8.5px 8.5px;display:none;position:absolute;left:11.5px;top:33px;z-index:1;height:0;width:0;-webkit-animation:gb__a .2s;animation:gb__a .2s}.gb_kd{border-color:transparent;border-style:dashed dashed solid;border-width:0 8.5px 8.5px;display:none;position:absolute;left:11.5px;z-index:1;height:0;width:0;-webkit-animation:gb__a .2s;animation:gb__a .2s;border-bottom-color:rgba(0,0,0,.2);top:32px}x:-o-prefocus,div.gb_kd{border-bottom-color:#ccc}.gb_la{background:#fff;border:1px solid #ccc;border-color:rgba(0,0,0,.2);color:#000;-webkit-box-shadow:0 2px 10px rgba(0,0,0,.2);box-shadow:0 2px 10px rgba(0,0,0,.2);display:none;outline:none;overflow:hidden;position:absolute;right:8px;top:62px;-webkit-animation:gb__a .2s;animation:gb__a .2s;border-radius:2px;-webkit-user-select:text}.gb_id.gb_Wc .gb_jd,.gb_id.gb_Wc .gb_kd,.gb_id.gb_Wc .gb_la,.gb_Wc.gb_la{display:block}.gb_id.gb_Wc.gb_ld .gb_jd,.gb_id.gb_Wc.gb_ld .gb_kd{display:none}.gb_Se{position:absolute;right:8px;top:62px;z-index:-1}.gb_md .gb_jd,.gb_md .gb_kd,.gb_md .gb_la{margin-top:-10px}.gb_id:first-child,#gbsfw:first-child+.gb_id{padding-left:4px}.gb_Fa.gb_Te .gb_id:first-child{padding-left:0}.gb_Ue{position:relative}.gb_5c .gb_Ue,.gb_Md .gb_Ue{float:right}.gb_B{padding:8px;cursor:pointer}.gb_B::after{content:"";position:absolute;top:-4px;bottom:-4px;left:-4px;right:-4px}.gb_Fa .gb_nd:not(.gb_Qa):focus img{background-color:rgba(0,0,0,.2);outline:none;-webkit-border-radius:50%;border-radius:50%}.gb_od button svg,.gb_B{-webkit-border-radius:50%;border-radius:50%}.gb_od button:focus:not(:focus-visible) svg,.gb_od button:hover svg,.gb_od button:active svg,.gb_B:focus:not(:focus-visible),.gb_B:hover,.gb_B:active,.gb_B[aria-expanded=true]{outline:none}.gb_Oc .gb_od.gb_pd button:focus-visible svg,.gb_od button:focus-visible svg,.gb_B:focus-visible{outline:1px solid #202124}.gb_Oc .gb_od button:focus-visible svg,.gb_Oc .gb_B:focus-visible{outline:1px solid #f1f3f4}@media (forced-colors:active){.gb_Oc .gb_od.gb_pd button:focus-visible svg,.gb_od button:focus-visible svg,.gb_Oc .gb_od button:focus-visible svg{outline:1px solid currentcolor}}.gb_Oc .gb_od.gb_pd button:focus svg,.gb_Oc .gb_od.gb_pd button:focus:hover svg,.gb_od button:focus svg,.gb_od button:focus:hover svg,.gb_B:focus,.gb_B:focus:hover{background-color:rgba(60,64,67,.1)}.gb_Oc .gb_od.gb_pd button:active svg,.gb_od button:active svg,.gb_B:active{background-color:rgba(60,64,67,.12)}.gb_Oc .gb_od.gb_pd button:hover svg,.gb_od button:hover svg,.gb_B:hover{background-color:rgba(60,64,67,.08)}.gb_Wa .gb_B.gb_Za:hover{background-color:transparent}.gb_B[aria-expanded=true],.gb_B:hover[aria-expanded=true]{background-color:rgba(95,99,104,.24)}.gb_B[aria-expanded=true] .gb_F{fill:#5f6368;opacity:1}.gb_Oc .gb_od button:hover svg,.gb_Oc .gb_B:hover{background-color:rgba(232,234,237,.08)}.gb_Oc .gb_od button:focus svg,.gb_Oc .gb_od button:focus:hover svg,.gb_Oc .gb_B:focus,.gb_Oc .gb_B:focus:hover{background-color:rgba(232,234,237,.1)}.gb_Oc .gb_od button:active svg,.gb_Oc .gb_B:active{background-color:rgba(232,234,237,.12)}.gb_Oc .gb_B[aria-expanded=true],.gb_Oc .gb_B:hover[aria-expanded=true]{background-color:rgba(255,255,255,.12)}.gb_Oc .gb_B[aria-expanded=true] .gb_F{fill:#fff;opacity:1}.gb_id{padding:4px}.gb_Fa.gb_Te .gb_id{padding:4px 2px}.gb_Fa.gb_Te .gb_z.gb_id{padding-left:6px}.gb_la{z-index:991;line-height:normal}.gb_la.gb_qd{left:0;right:auto}@media (max-width:350px){.gb_la.gb_qd{left:0}}.gb_Ve .gb_la{top:56px}.gb_R{display:none!important}.gb_td{visibility:hidden}.gb_J .gb_B,.gb_ka .gb_J .gb_B{background-position:-64px -29px}.gb_1 .gb_J .gb_B{background-position:-29px -29px;opacity:1}.gb_J .gb_B,.gb_J .gb_B:hover,.gb_J .gb_B:focus{opacity:1}.gb_L{display:none}@media screen and (max-width:319px){.gb_rd:not(.gb_sd) .gb_J{display:none;visibility:hidden}}.gb_Q{display:none}.gb_cd{font-family:Google Sans,Roboto,Helvetica,Arial,sans-serif;font-size:20px;font-weight:400;letter-spacing:.25px;line-height:48px;margin-bottom:2px;opacity:1;overflow:hidden;padding-left:16px;position:relative;text-overflow:ellipsis;vertical-align:middle;top:2px;white-space:nowrap;-webkit-flex:1 1 auto;-webkit-box-flex:1;flex:1 1 auto}.gb_cd.gb_dd{color:#3c4043}.gb_Fa.gb_cc .gb_cd{margin-bottom:0}.gb_ed.gb_fd .gb_cd{padding-left:4px}.gb_Fa.gb_cc .gb_gd{position:relative;top:-2px}.gb_hd{display:none}.gb_Fa{color:black;min-width:160px;position:relative;-webkit-transition:box-shadow 250ms;transition:box-shadow 250ms}.gb_Fa.gb_Vc{min-width:120px}.gb_Fa.gb_zd .gb_Ad{display:none}.gb_Fa.gb_zd .gb_rd{height:56px}header.gb_Fa{display:block}.gb_Fa svg{fill:currentColor}.gb_Hd{position:fixed;top:0;width:100%}.gb_Bd{-webkit-box-shadow:0 4px 5px 0 rgba(0,0,0,.14),0 1px 10px 0 rgba(0,0,0,.12),0 2px 4px -1px rgba(0,0,0,.2);box-shadow:0 4px 5px 0 rgba(0,0,0,.14),0 1px 10px 0 rgba(0,0,0,.12),0 2px 4px -1px rgba(0,0,0,.2)}.gb_Id{height:64px}.gb_rd{-webkit-box-sizing:border-box;box-sizing:border-box;position:relative;width:100%;display:-webkit-box;display:-webkit-flex;display:flex;-webkit-box-pack:space-between;-webkit-justify-content:space-between;justify-content:space-between;min-width:-webkit-min-content;min-width:min-content}.gb_Fa:not(.gb_cc) .gb_rd{padding:8px}.gb_Fa.gb_Jd .gb_rd{-webkit-flex:1 0 auto;-webkit-box-flex:1;flex:1 0 auto}.gb_Fa .gb_rd.gb_sd.gb_Kd{min-width:0}.gb_Fa.gb_cc .gb_rd{padding:4px;padding-left:8px;min-width:0}.gb_Ad{height:48px;vertical-align:middle;white-space:nowrap;-webkit-box-align:center;-webkit-align-items:center;align-items:center;display:-webkit-box;display:-webkit-flex;display:flex;-webkit-user-select:none}.gb_Dd>.gb_Ad{display:table-cell;width:100%}.gb_ed{padding-right:30px;box-sizing:border-box;-webkit-flex:1 0 auto;-webkit-box-flex:1;flex:1 0 auto}.gb_Fa.gb_cc .gb_ed{padding-right:14px}.gb_Ed{-webkit-flex:1 1 100%;-webkit-box-flex:1;flex:1 1 100%}.gb_Ed>:only-child{display:inline-block}.gb_Fd.gb_6c{padding-left:4px}.gb_Fd.gb_Ld,.gb_Fa.gb_Jd .gb_Fd,.gb_Fa.gb_cc:not(.gb_Md) .gb_Fd{padding-left:0}.gb_Fa.gb_cc .gb_Fd.gb_Ld{padding-right:0}.gb_Fa.gb_cc .gb_Fd.gb_Ld .gb_Wa{margin-left:10px}.gb_6c{display:inline}.gb_Fa.gb_0c .gb_Fd.gb_Nd,.gb_Fa.gb_Md .gb_Fd.gb_Nd{padding-left:2px}.gb_cd{display:inline-block}.gb_Fd{-webkit-box-sizing:border-box;box-sizing:border-box;height:48px;line-height:normal;padding:0 4px;padding-left:30px;-webkit-flex:0 0 auto;-webkit-box-flex:0;flex:0 0 auto;-webkit-box-pack:flex-end;-webkit-justify-content:flex-end;justify-content:flex-end}.gb_Md{height:48px}.gb_Fa.gb_Md{min-width:auto}.gb_Md .gb_Fd{float:right;padding-left:32px}.gb_Md .gb_Fd.gb_Od{padding-left:0}.gb_Pd{font-size:14px;max-width:200px;overflow:hidden;padding:0 12px;text-overflow:ellipsis;white-space:nowrap;-webkit-user-select:text}.gb_vd{-webkit-transition:background-color .4s;-webkit-transition:background-color .4s;transition:background-color .4s}.gb_Qd{color:black}.gb_Oc{color:white}.gb_Fa a,.gb_Sc a{color:inherit}.gb_ba{color:rgba(0,0,0,.87)}.gb_Fa svg,.gb_Sc svg,.gb_ed .gb_yd,.gb_5c .gb_yd{color:#5f6368;opacity:1}.gb_Oc svg,.gb_Sc.gb_Xc svg,.gb_Oc .gb_ed .gb_yd,.gb_Oc .gb_ed .gb_Nc,.gb_Oc .gb_ed .gb_gd,.gb_Sc.gb_Xc .gb_yd{color:rgba(255,255,255,.87)}.gb_Oc .gb_ed .gb_Mc:not(.gb_Rd){opacity:.87}.gb_dd{color:inherit;opacity:1;text-rendering:optimizeLegibility;-webkit-font-smoothing:antialiased}.gb_Oc .gb_dd,.gb_Qd .gb_dd{opacity:1}.gb_Sd{position:relative}.gb_M{font-family:arial,sans-serif;line-height:normal;padding-right:15px}a.gb_X,span.gb_X{color:rgba(0,0,0,.87);text-decoration:none}.gb_Oc a.gb_X,.gb_Oc span.gb_X{color:white}a.gb_X:focus{outline-offset:2px}a.gb_X:hover{text-decoration:underline}.gb_Z{display:inline-block;padding-left:15px}.gb_Z .gb_X{display:inline-block;line-height:24px;vertical-align:middle}.gb_wd{font-family:Google Sans,Roboto,Helvetica,Arial,sans-serif;font-weight:500;font-size:14px;letter-spacing:.25px;line-height:16px;margin-left:10px;margin-right:8px;min-width:96px;padding:9px 23px;text-align:center;vertical-align:middle;border-radius:4px;box-sizing:border-box}.gb_Fa.gb_Md .gb_wd{margin-left:8px}#gb a.gb_Ua.gb_wd{cursor:pointer}.gb_Ua.gb_wd:hover{background:#1b66c9;-webkit-box-shadow:0 1px 3px 1px rgba(66,64,67,.15),0 1px 2px 0 rgba(60,64,67,.3);box-shadow:0 1px 3px 1px rgba(66,64,67,.15),0 1px 2px 0 rgba(60,64,67,.3)}.gb_Ua.gb_wd:focus,.gb_Ua.gb_wd:hover:focus{background:#1c5fba;-webkit-box-shadow:0 1px 3px 1px rgba(66,64,67,.15),0 1px 2px 0 rgba(60,64,67,.3);box-shadow:0 1px 3px 1px rgba(66,64,67,.15),0 1px 2px 0 rgba(60,64,67,.3)}.gb_Ua.gb_wd:active{background:#1b63c1;-webkit-box-shadow:0 1px 3px 1px rgba(66,64,67,.15),0 1px 2px 0 rgba(60,64,67,.3);box-shadow:0 1px 3px 1px rgba(66,64,67,.15),0 1px 2px 0 rgba(60,64,67,.3)}.gb_wd{background:#1a73e8;border:1px solid transparent}.gb_Fa.gb_cc .gb_wd{padding:9px 15px;min-width:80px}.gb_Td{text-align:left}#gb .gb_Oc a.gb_wd:not(.gb_H),#gb.gb_Oc a.gb_wd{background:#fff;border-color:#dadce0;-webkit-box-shadow:none;box-shadow:none;color:#1a73e8}#gb a.gb_Ua.gb_H.gb_wd{background:#8ab4f8;border:1px solid transparent;-webkit-box-shadow:none;box-shadow:none;color:#202124}#gb .gb_Oc a.gb_wd:hover:not(.gb_H),#gb.gb_Oc a.gb_wd:hover{background:#f8fbff;border-color:#cce0fc}#gb a.gb_Ua.gb_H.gb_wd:hover{background:#93baf9;border-color:transparent;-webkit-box-shadow:0 1px 3px 1px rgba(0,0,0,.15),0 1px 2px rgba(0,0,0,.3);box-shadow:0 1px 3px 1px rgba(0,0,0,.15),0 1px 2px rgba(0,0,0,.3)}#gb .gb_Oc a.gb_wd:focus:not(.gb_H),#gb .gb_Oc a.gb_wd:focus:hover:not(.gb_H),#gb.gb_Oc a.gb_wd:focus:not(.gb_H),#gb.gb_Oc a.gb_wd:focus:hover:not(.gb_H){background:#f4f8ff;outline:1px solid #c9ddfc}#gb a.gb_Ua.gb_H.gb_wd:focus,#gb a.gb_Ua.gb_H.gb_wd:focus:hover{background:#a6c6fa;border-color:transparent;-webkit-box-shadow:none;box-shadow:none}#gb .gb_Oc a.gb_wd:active:not(.gb_H),#gb.gb_Oc a.gb_wd:active{background:#ecf3fe}#gb a.gb_Ua.gb_H.gb_wd:active{background:#a1c3f9;-webkit-box-shadow:0 1px 2px rgba(60,64,67,.3),0 2px 6px 2px rgba(60,64,67,.15);box-shadow:0 1px 2px rgba(60,64,67,.3),0 2px 6px 2px rgba(60,64,67,.15)}.gb_K{display:none}@media screen and (max-width:319px){.gb_rd .gb_J{display:none;visibility:hidden}}.gb_Wa{background-color:rgba(255,255,255,.88);border:1px solid #dadce0;-webkit-box-sizing:border-box;box-sizing:border-box;cursor:pointer;display:inline-block;max-height:48px;overflow:hidden;outline:none;padding:0;vertical-align:middle;width:134px;-webkit-border-radius:8px;border-radius:8px}.gb_Wa.gb_H{background-color:transparent;border:1px solid #5f6368}.gb_3a{display:inherit}.gb_Wa.gb_H .gb_3a{background:#fff;-webkit-border-radius:4px;border-radius:4px;display:inline-block;left:8px;margin-right:5px;position:relative;padding:3px;top:-1px}.gb_Wa:hover{border:1px solid #d2e3fc;background-color:rgba(248,250,255,.88)}.gb_Wa.gb_H:hover{background-color:rgba(241,243,244,.04);border:1px solid #5f6368}.gb_Wa:focus-visible,.gb_Wa:focus{background-color:#fff;outline:1px solid #202124;-webkit-box-shadow:0 1px 2px 0 rgba(60,64,67,.3),0 1px 3px 1px rgba(60,64,67,.15);box-shadow:0 1px 2px 0 rgba(60,64,67,.3),0 1px 3px 1px rgba(60,64,67,.15)}.gb_Wa.gb_H:focus-visible,.gb_Wa.gb_H:focus{background-color:rgba(241,243,244,.12);outline:1px solid #f1f3f4;-webkit-box-shadow:0 1px 3px 1px rgba(0,0,0,.15),0 1px 2px 0 rgba(0,0,0,.3);box-shadow:0 1px 3px 1px rgba(0,0,0,.15),0 1px 2px 0 rgba(0,0,0,.3)}.gb_Wa.gb_H:active,.gb_Wa.gb_Wc.gb_H:focus{background-color:rgba(241,243,244,.1);border:1px solid #5f6368}.gb_4a{display:inline-block;padding-bottom:2px;padding-left:7px;padding-top:2px;text-align:center;vertical-align:middle;line-height:32px;width:78px}.gb_Wa.gb_H .gb_4a{line-height:26px;margin-left:0;padding-bottom:0;padding-left:0;padding-top:0;width:72px}.gb_4a.gb_5a{background-color:#f1f3f4;-webkit-border-radius:4px;border-radius:4px;margin-left:8px;padding-left:0;line-height:30px}.gb_4a.gb_5a .gb_Kc{vertical-align:middle}.gb_Fa:not(.gb_cc) .gb_Wa{margin-left:10px;margin-right:4px}.gb_Ud{max-height:32px;width:78px}.gb_Wa.gb_H .gb_Ud{max-height:26px;width:72px}.gb_P{-webkit-background-size:32px 32px;background-size:32px 32px;border:0;-webkit-border-radius:50%;border-radius:50%;display:block;margin:0px;position:relative;height:32px;width:32px;z-index:0}.gb_eb{background-color:#e8f0fe;border:1px solid rgba(32,33,36,.08);position:relative}.gb_eb.gb_P{height:30px;width:30px}.gb_eb.gb_P:hover,.gb_eb.gb_P:active{-webkit-box-shadow:none;box-shadow:none}.gb_fb{background:#fff;border:none;-webkit-border-radius:50%;border-radius:50%;bottom:2px;-webkit-box-shadow:0px 1px 2px 0px rgba(60,64,67,.30),0px 1px 3px 1px rgba(60,64,67,.15);box-shadow:0px 1px 2px 0px rgba(60,64,67,.30),0px 1px 3px 1px rgba(60,64,67,.15);height:14px;margin:2px;position:absolute;right:0;width:14px;line-height:normal;z-index:1}.gb_xc{color:#1f71e7;font:400 22px/32px Google Sans,Roboto,Helvetica,Arial,sans-serif;text-align:center;text-transform:uppercase}@media (-webkit-min-device-pixel-ratio:1.25),(min-resolution:1.25dppx),(min-device-pixel-ratio:1.25){.gb_P::before,.gb_gb::before{display:inline-block;-webkit-transform:scale(0.5);-webkit-transform:scale(0.5);transform:scale(0.5);-webkit-transform-origin:left 0;-webkit-transform-origin:left 0;transform-origin:left 0}.gb_3 .gb_gb::before{-webkit-transform:scale(scale(0.416666667));-webkit-transform:scale(scale(0.416666667));transform:scale(scale(0.416666667))}}.gb_P:hover,.gb_P:focus{-webkit-box-shadow:0 1px 0 rgba(0,0,0,.15);box-shadow:0 1px 0 rgba(0,0,0,.15)}.gb_P:active{-webkit-box-shadow:inset 0 2px 0 rgba(0,0,0,.15);box-shadow:inset 0 2px 0 rgba(0,0,0,.15)}.gb_P:active::after{background:rgba(0,0,0,.1);-webkit-border-radius:50%;border-radius:50%;content:"";display:block;height:100%}.gb_hb{cursor:pointer;line-height:40px;min-width:30px;opacity:.75;overflow:hidden;vertical-align:middle;text-overflow:ellipsis}.gb_B.gb_hb{width:auto}.gb_hb:hover,.gb_hb:focus{opacity:.85}.gb_md .gb_hb,.gb_md .gb_Xd{line-height:26px}#gb#gb.gb_md a.gb_hb,.gb_md .gb_Xd{font-size:11px;height:auto}.gb_ib{border-top:4px solid #000;border-left:4px dashed transparent;border-right:4px dashed transparent;display:inline-block;margin-left:6px;opacity:.75;vertical-align:middle}.gb_Za:hover .gb_ib{opacity:.85}.gb_Wa>.gb_z{padding:3px 3px 3px 4px}.gb_Zd.gb_td{color:#fff}.gb_1 .gb_hb,.gb_1 .gb_ib{opacity:1}#gb#gb.gb_1.gb_1 a.gb_hb,#gb#gb .gb_1.gb_1 a.gb_hb{color:#fff}.gb_1.gb_1 .gb_ib{border-top-color:#fff;opacity:1}.gb_ka .gb_P:hover,.gb_1 .gb_P:hover,.gb_ka .gb_P:focus,.gb_1 .gb_P:focus{-webkit-box-shadow:0 1px 0 rgba(0,0,0,.15),0 1px 2px rgba(0,0,0,.2);box-shadow:0 1px 0 rgba(0,0,0,.15),0 1px 2px rgba(0,0,0,.2)}.gb_0d .gb_z,.gb_1d .gb_z{position:absolute;right:1px}.gb_z.gb_0,.gb_jb.gb_0,.gb_Za.gb_0{-webkit-flex:0 1 auto;-webkit-box-flex:0;flex:0 1 auto}.gb_2d.gb_3d .gb_hb{width:30px!important}.gb_4d{height:40px;position:absolute;right:-5px;top:-5px;width:40px}.gb_5d .gb_4d,.gb_6d .gb_4d{right:0;top:0}.gb_z .gb_B{padding:4px}.gb_S{display:none}sentinel{}</style><script nonce="">;this.gbar_={CONFIG:[[[0,"www.gstatic.com","og.qtm.en_US.hsxAeDZfu4U.2019.O","co.in","en","425",0,[4,2,"","","","798919218","0"],null,"2DmwaOb4L9_bp84P443Y4AI",null,0,"og.qtm.1g5Ujf7Z0Ho.L.W.O","AA2YrTtqQBzHPMqVb9ymSBkWHEaw7gav3Q","AA2YrTvsVPw7vJUW446KreqmAvmIuZqijA","",2,1,200,"IND",null,null,"425","425",1,null,null,114591953,null,0,0],null,[1,0.1000000014901161,2,1],null,[1,0,0,null,"0","rjptkuldeep99@gmail.com","","AIhRldLxZPjzcMw-XRg6PkV83_KzANihq6slA3f-j_Vi9ZLrYGVgNqnEve9gT1jROTzWBG0DwuOuEeFF8k2q7Ecmk6hcRpVsiA",0,0,null,""],[0,0,"",1,0,0,0,0,0,0,null,0,0,null,0,0,null,null,0,0,0,"","","","","","",null,0,0,0,0,0,null,null,null,"rgba(32,33,36,1)","rgba(255,255,255,1)",0,0,0,null,null,null,0],["%1$s (default)","Brand account",1,"%1$s (delegated)",1,null,83,"https://colab.research.google.com/?authuser=$authuser",null,null,null,1,"https://accounts.google.com/ListAccounts?listPages=0\u0026authuser=0\u0026pid=425\u0026gpsia=1\u0026source=ogb\u0026atic=1\u0026mo=1\u0026mn=1\u0026hl=en\u0026ts=250",0,"dashboard",null,null,null,null,"Profile","",1,null,"Signed out","https://accounts.google.com/AccountChooser?source=ogb\u0026continue=$continue\u0026Email=$email\u0026ec=GAhAqQM","https://accounts.google.com/RemoveLocalAccount?source=ogb","Remove","Sign in",0,1,1,0,1,1,0,null,null,null,"Session expired",null,null,null,"Visitor",null,"Default","Delegated","Sign out of all accounts",1,null,null,0,null,null,"myaccount.google.com","https",0,1,0],null,["1","gci_91f30755d6a6b787dcc2a4062e6e9824.js","googleapis.client:gapi.iframes","0","en"],null,null,null,null,["m;/_/scs/abc-static/_/js/k=gapi.gapi.en.GJa4oir6WlA.O/d=1/rs=AHpOoo-oT18V72om9ubISB9Na8GvbQT5cg/m=__features__","https://apis.google.com","","","1","",null,1,"es_plusone_gc_20250803.0_p0","en",null,0],[0.009999999776482582,"co.in","425",[null,"","0",null,1,5184000,null,null,"",null,null,null,null,null,0,null,0,null,1,0,0,0,null,null,0,0,null,0,0,0,0,0],null,null,null,0],[1,null,null,40400,425,"IND","en","798919218.0",8,null,1,0,null,null,null,null,"3700332,3700949,105071013,105071015,105109531,105109534",null,null,null,"2DmwaOb4L9_bp84P443Y4AI",0,0,0,null,2,5,"nn",104,0,0,null,null,1,114591953,0,0],[[null,null,null,"https://www.gstatic.com/og/_/js/k=og.qtm.en_US.hsxAeDZfu4U.2019.O/rt=j/m=qabr,qgl,q_dnp,qcwid,qbd,qapid,qads,qrcd,q_dg/exm=qaaw,qadd,qaid,qein,qhaw,qhba,qhbr,qhch,qhga,qhid,qhin/d=1/ed=1/rs=AA2YrTtqQBzHPMqVb9ymSBkWHEaw7gav3Q"],[null,null,null,"https://www.gstatic.com/og/_/ss/k=og.qtm.1g5Ujf7Z0Ho.L.W.O/m=qcwid,qba/excm=qaaw,qadd,qaid,qein,qhaw,qhba,qhbr,qhch,qhga,qhid,qhin/d=1/ed=1/ct=zgms/rs=AA2YrTvsVPw7vJUW446KreqmAvmIuZqijA"]],null,null,null,[[[null,null,[null,null,null,"https://ogs.google.com/u/0/widget/account?amb=1\u0026apv2=1"],0,414,436,57,4,1,0,0,65,66,8000,"https://accounts.google.com/SignOutOptions?hl=en\u0026continue=https://colab.research.google.com/\u0026ec=GBRAqQM",68,2,null,null,1,113,"Something went wrong.%1$s Refresh to try again or %2$schoose another account%3$s.",3,null,null,75,0,null,null,null,null,null,null,null,"/widget/account",["https","myaccount.google.com",0,32,83,0],0,0,1,["Critical security alert","Important account alert","Storage usage alert",null,1,1,0],0,1,null,1,1,null,null,null,null,0,0,0,null,0,0,null,null,null,null,null,null,null,null,null,0],[null,null,[null,null,null,"https://ogs.google.com/u/0/widget/callout/sid?dc=1"],null,280,420,70,25,0,null,0,null,null,8000,null,71,4,null,null,null,null,null,null,null,null,76,null,null,null,107,108,109,"",null,null,null,null,null,null,null,null,null,null,null,null,null,null,null,null,null,null,null,null,0]],null,null,"425","425",1,0,null,"en",0,["https://colab.research.google.com/?authuser=$authuser","https://accounts.google.com/AddSession?hl=en\u0026continue=https://colab.research.google.com/\u0026ec=GAlAqQM","https://accounts.google.com/Logout?hl=en\u0026continue=https://colab.research.google.com/\u0026timeStmp=1756379608\u0026secTok=.AG5fkS_eMrUcksOgzxNBjnF5Envai09-nA\u0026ec=GAdAqQM","https://accounts.google.com/ListAccounts?listPages=0\u0026authuser=0\u0026pid=425\u0026gpsia=1\u0026source=ogb\u0026atic=1\u0026mo=1\u0026mn=1\u0026hl=en\u0026ts=250",0,0,"",0,0,null,0,0,"https://accounts.google.com/ServiceLogin?passive=true\u0026continue=https%3A%2F%2Fcolab.research.google.com%2F\u0026ec=GAZAqQM",null,null,0,null,null,null,0],0,0,0,[null,"",null,null,null,1,null,0,0,"","","","https://ogads-pa.clients6.google.com",0,0,0,"","",0,0,null,86400,null,1,null,null,0,null,0,0,"8559284470",0,1,0],0,null,null,null,1,0,"rjptkuldeep99@gmail.com",0],null,[["mousedown","touchstart","touchmove","wheel","keydown"],300000],[[null,null,null,"https://accounts.google.com/RotateCookiesPage"],3,null,null,null,0,1]]],};this.gbar_=this.gbar_||{};(function(_){var window=this;
try{
_._F_toggles_initialize=function(a){(typeof globalThis!=="undefined"?globalThis:typeof self!=="undefined"?self:this)._F_toggles_gbar_=a||[]};(0,_._F_toggles_initialize)([]);
/*

 Copyright The Closure Library Authors.
 SPDX-License-Identifier: Apache-2.0
*/
var ja,pa,qa,ua,wa,xa,Fa,Ga,$a,cb,eb,jb,fb,lb,rb,Db,Eb,Fb,Gb;_.aa=function(a,b){if(Error.captureStackTrace)Error.captureStackTrace(this,_.aa);else{const c=Error().stack;c&&(this.stack=c)}a&&(this.message=String(a));b!==void 0&&(this.cause=b)};_.ba=function(a){a.zk=!0;return a};_.ia=function(a){var b=a;if(da(b)){if(!/^\s*(?:-?[1-9]\d*|0)?\s*$/.test(b))throw Error(String(b));}else if(ea(b)&&!Number.isSafeInteger(b))throw Error(String(b));return fa?BigInt(a):a=ha(a)?a?"1":"0":da(a)?a.trim()||"0":String(a)};
ja=function(a,b){if(a.length>b.length)return!1;if(a.length<b.length||a===b)return!0;for(let c=0;c<a.length;c++){const d=a[c],e=b[c];if(d>e)return!1;if(d<e)return!0}};_.ka=function(a){_.t.setTimeout(()=>{throw a;},0)};_.ma=function(){return _.la().toLowerCase().indexOf("webkit")!=-1};_.la=function(){var a=_.t.navigator;return a&&(a=a.userAgent)?a:""};pa=function(a){if(!na||!oa)return!1;for(let b=0;b<oa.brands.length;b++){const {brand:c}=oa.brands[b];if(c&&c.indexOf(a)!=-1)return!0}return!1};
_.u=function(a){return _.la().indexOf(a)!=-1};qa=function(){return na?!!oa&&oa.brands.length>0:!1};_.ra=function(){return qa()?!1:_.u("Opera")};_.sa=function(){return qa()?!1:_.u("Trident")||_.u("MSIE")};_.ta=function(){return _.u("Firefox")||_.u("FxiOS")};_.va=function(){return _.u("Safari")&&!(ua()||(qa()?0:_.u("Coast"))||_.ra()||(qa()?0:_.u("Edge"))||(qa()?pa("Microsoft Edge"):_.u("Edg/"))||(qa()?pa("Opera"):_.u("OPR"))||_.ta()||_.u("Silk")||_.u("Android"))};
ua=function(){return qa()?pa("Chromium"):(_.u("Chrome")||_.u("CriOS"))&&!(qa()?0:_.u("Edge"))||_.u("Silk")};wa=function(){return na?!!oa&&!!oa.platform:!1};xa=function(){return _.u("iPhone")&&!_.u("iPod")&&!_.u("iPad")};_.ya=function(){return xa()||_.u("iPad")||_.u("iPod")};_.za=function(){return wa()?oa.platform==="macOS":_.u("Macintosh")};_.Ba=function(a,b){return _.Aa(a,b)>=0};_.Ca=function(a,b=!1){return b&&Symbol.for&&a?Symbol.for(a):a!=null?Symbol(a):Symbol()};
_.Ea=function(a,b){return b===void 0?a.j!==Da&&!!(2&(a.fa[_.v]|0)):!!(2&b)&&a.j!==Da};Fa=function(a){return a};Ga=function(a,b){a.__closure__error__context__984382||(a.__closure__error__context__984382={});a.__closure__error__context__984382.severity=b};_.Ha=function(a){a=Error(a);Ga(a,"warning");return a};_.Ja=function(a,b){if(a!=null){var c;var d=(c=Ia)!=null?c:Ia={};c=d[a]||0;c>=b||(d[a]=c+1,a=Error(),Ga(a,"incident"),_.ka(a))}};
_.La=function(a){if(typeof a!=="boolean")throw Error("k`"+_.Ka(a)+"`"+a);return a};_.Ma=function(a){if(a==null||typeof a==="boolean")return a;if(typeof a==="number")return!!a};_.Oa=function(a){if(!(0,_.Na)(a))throw _.Ha("enum");return a|0};_.Pa=function(a){return a==null?a:(0,_.Na)(a)?a|0:void 0};_.Qa=function(a){if(typeof a!=="number")throw _.Ha("int32");if(!(0,_.Na)(a))throw _.Ha("int32");return a|0};_.Ra=function(a){if(a!=null&&typeof a!=="string")throw Error();return a};
_.Sa=function(a){return a==null||typeof a==="string"?a:void 0};_.Va=function(a,b,c){if(a!=null&&a[_.Ta]===_.Ua)return a;if(Array.isArray(a)){var d=a[_.v]|0;c=d|c&32|c&2;c!==d&&(a[_.v]=c);return new b(a)}};_.Ya=function(a){const b=_.Wa(_.Xa);return b?a[b]:void 0};$a=function(a,b){b<100||_.Ja(Za,1)};
cb=function(a,b,c,d){const e=d!==void 0;d=!!d;var f=_.Wa(_.Xa),g;!e&&f&&(g=a[f])&&g.xd($a);f=[];var h=a.length;let k;g=4294967295;let l=!1;const m=!!(b&64),p=m?b&128?0:-1:void 0;if(!(b&1||(k=h&&a[h-1],k!=null&&typeof k==="object"&&k.constructor===Object?(h--,g=h):k=void 0,!m||b&128||e))){l=!0;var r;g=((r=ab)!=null?r:Fa)(g-p,p,a,k,void 0)+p}b=void 0;for(r=0;r<h;r++){let w=a[r];if(w!=null&&(w=c(w,d))!=null)if(m&&r>=g){const D=r-p;var q=void 0;((q=b)!=null?q:b={})[D]=w}else f[r]=w}if(k)for(let w in k){q=
k[w];if(q==null||(q=c(q,d))==null)continue;h=+w;let D;if(m&&!Number.isNaN(h)&&(D=h+p)<g)f[D]=q;else{let Q;((Q=b)!=null?Q:b={})[w]=q}}b&&(l?f.push(b):f[g]=b);e&&_.Wa(_.Xa)&&(a=_.Ya(a))&&"function"==typeof _.bb&&a instanceof _.bb&&(f[_.Xa]=a.i());return f};
eb=function(a){switch(typeof a){case "number":return Number.isFinite(a)?a:""+a;case "bigint":return(0,_.db)(a)?Number(a):""+a;case "boolean":return a?1:0;case "object":if(Array.isArray(a)){const b=a[_.v]|0;return a.length===0&&b&1?void 0:cb(a,b,eb)}if(a!=null&&a[_.Ta]===_.Ua)return fb(a);if("function"==typeof _.gb&&a instanceof _.gb)return a.j();return}return a};jb=function(a,b){if(b){ab=b==null||b===Fa||b[hb]!==ib?Fa:b;try{return fb(a)}finally{ab=void 0}}return fb(a)};
fb=function(a){a=a.fa;return cb(a,a[_.v]|0,eb)};
_.mb=function(a,b,c,d=0){if(a==null){var e=32;c?(a=[c],e|=128):a=[];b&&(e=e&-8380417|(b&1023)<<13)}else{if(!Array.isArray(a))throw Error("l");e=a[_.v]|0;if(kb&&1&e)throw Error("m");2048&e&&!(2&e)&&lb();if(e&256)throw Error("n");if(e&64)return d!==0||e&2048||(a[_.v]=e|2048),a;if(c&&(e|=128,c!==a[0]))throw Error("o");a:{c=a;e|=64;var f=c.length;if(f){var g=f-1;const k=c[g];if(k!=null&&typeof k==="object"&&k.constructor===Object){b=e&128?0:-1;g-=b;if(g>=1024)throw Error("q");for(var h in k)if(f=+h,f<
g)c[f+b]=k[h],delete k[h];else break;e=e&-8380417|(g&1023)<<13;break a}}if(b){h=Math.max(b,f-(e&128?0:-1));if(h>1024)throw Error("r");e=e&-8380417|(h&1023)<<13}}}e|=64;d===0&&(e|=2048);a[_.v]=e;return a};lb=function(){if(kb)throw Error("p");_.Ja(nb,5)};
rb=function(a,b){if(typeof a!=="object")return a;if(Array.isArray(a)){var c=a[_.v]|0;a.length===0&&c&1?a=void 0:c&2||(!b||4096&c||16&c?a=_.ob(a,c,!1,b&&!(c&16)):(a[_.v]|=34,c&4&&Object.freeze(a)));return a}if(a!=null&&a[_.Ta]===_.Ua)return b=a.fa,c=b[_.v]|0,_.Ea(a,c)?a:_.pb(a,b,c)?_.qb(a,b):_.ob(b,c);if("function"==typeof _.gb&&a instanceof _.gb)return a};_.qb=function(a,b,c){a=new a.constructor(b);c&&(a.j=Da);a.o=Da;return a};
_.ob=function(a,b,c,d){d!=null||(d=!!(34&b));a=cb(a,b,rb,d);d=32;c&&(d|=2);b=b&8380609|d;a[_.v]=b;return a};_.tb=function(a){const b=a.fa,c=b[_.v]|0;return _.Ea(a,c)?_.pb(a,b,c)?_.qb(a,b,!0):new a.constructor(_.ob(b,c,!1)):a};_.ub=function(a){if(a.j!==Da)return!1;var b=a.fa;b=_.ob(b,b[_.v]|0);b[_.v]|=2048;a.fa=b;a.j=void 0;a.o=void 0;return!0};_.vb=function(a){if(!_.ub(a)&&_.Ea(a,a.fa[_.v]|0))throw Error();};_.wb=function(a,b){b===void 0&&(b=a[_.v]|0);b&32&&!(b&4096)&&(a[_.v]=b|4096)};
_.pb=function(a,b,c){return c&2?!0:c&32&&!(c&4096)?(b[_.v]=c|2,a.j=Da,!0):!1};_.xb=function(a,b,c,d,e){const f=c+(e?0:-1);var g=a.length-1;if(g>=1+(e?0:-1)&&f>=g){const h=a[g];if(h!=null&&typeof h==="object"&&h.constructor===Object)return h[c]=d,b}if(f<=g)return a[f]=d,b;if(d!==void 0){let h;g=((h=b)!=null?h:b=a[_.v]|0)>>13&1023||536870912;c>=g?d!=null&&(a[g+(e?0:-1)]={[c]:d}):a[f]=d}return b};
_.zb=function(a,b,c,d,e){let f=!1;d=_.yb(a,d,e,g=>{const h=_.Va(g,c,b);f=h!==g&&h!=null;return h});if(d!=null)return f&&!_.Ea(d)&&_.wb(a,b),d};_.Ab=function(){const a=class{constructor(){throw Error();}};Object.setPrototypeOf(a,a.prototype);return a};_.x=function(a,b){return a!=null?!!a:!!b};_.y=function(a,b){b==void 0&&(b="");return a!=null?a:b};_.Bb=function(a,b,c){for(const d in a)b.call(c,a[d],d,a)};_.Cb=function(a){for(const b in a)return!1;return!0};Db=Object.defineProperty;
Eb=function(a){a=["object"==typeof globalThis&&globalThis,a,"object"==typeof window&&window,"object"==typeof self&&self,"object"==typeof global&&global];for(var b=0;b<a.length;++b){var c=a[b];if(c&&c.Math==Math)return c}throw Error("a");};Fb=Eb(this);Gb=function(a,b){if(b)a:{var c=Fb;a=a.split(".");for(var d=0;d<a.length-1;d++){var e=a[d];if(!(e in c))break a;c=c[e]}a=a[a.length-1];d=c[a];b=b(d);b!=d&&b!=null&&Db(c,a,{configurable:!0,writable:!0,value:b})}};Gb("globalThis",function(a){return a||Fb});
Gb("Symbol.dispose",function(a){return a?a:Symbol("b")});Gb("Promise.prototype.finally",function(a){return a?a:function(b){return this.then(function(c){return Promise.resolve(b()).then(function(){return c})},function(c){return Promise.resolve(b()).then(function(){throw c;})})}});
Gb("Array.prototype.flat",function(a){return a?a:function(b){b=b===void 0?1:b;var c=[];Array.prototype.forEach.call(this,function(d){Array.isArray(d)&&b>0?(d=Array.prototype.flat.call(d,b-1),c.push.apply(c,d)):c.push(d)});return c}});var Jb,Kb,Nb;_.Hb=_.Hb||{};_.t=this||self;Jb=function(a,b){var c=_.Ib("WIZ_global_data.oxN3nb");a=c&&c[a];return a!=null?a:b};Kb=_.t._F_toggles_gbar_||[];_.Ib=function(a,b){a=a.split(".");b=b||_.t;for(var c=0;c<a.length;c++)if(b=b[a[c]],b==null)return null;return b};_.Ka=function(a){var b=typeof a;return b!="object"?b:a?Array.isArray(a)?"array":b:"null"};_.Lb=function(a){var b=typeof a;return b=="object"&&a!=null||b=="function"};_.Mb="closure_uid_"+(Math.random()*1E9>>>0);
Nb=function(a,b,c){return a.call.apply(a.bind,arguments)};_.z=function(a,b,c){_.z=Nb;return _.z.apply(null,arguments)};_.Ob=function(a,b){var c=Array.prototype.slice.call(arguments,1);return function(){var d=c.slice();d.push.apply(d,arguments);return a.apply(this,d)}};_.A=function(a,b){a=a.split(".");for(var c=_.t,d;a.length&&(d=a.shift());)a.length||b===void 0?c[d]&&c[d]!==Object.prototype[d]?c=c[d]:c=c[d]={}:c[d]=b};_.Wa=function(a){return a};
_.B=function(a,b){function c(){}c.prototype=b.prototype;a.X=b.prototype;a.prototype=new c;a.prototype.constructor=a;a.nk=function(d,e,f){for(var g=Array(arguments.length-2),h=2;h<arguments.length;h++)g[h-2]=arguments[h];return b.prototype[e].apply(d,g)}};_.B(_.aa,Error);_.aa.prototype.name="CustomError";var Pb=!!(Kb[0]>>15&1),Qb=!!(Kb[0]&1024),Rb=!!(Kb[0]>>16&1),Sb=!!(Kb[0]&128);var Tb=Jb(1,!0),na=Pb?Rb:Jb(610401301,!1),kb=Pb?Qb||!Sb:Jb(748402147,Tb);_.Ub=_.ba(a=>a!==null&&a!==void 0);var ea=_.ba(a=>typeof a==="number"),da=_.ba(a=>typeof a==="string"),ha=_.ba(a=>typeof a==="boolean");var fa=typeof _.t.BigInt==="function"&&typeof _.t.BigInt(0)==="bigint";var Xb,Vb,Yb,Wb;_.db=_.ba(a=>fa?a>=Vb&&a<=Wb:a[0]==="-"?ja(a,Xb):ja(a,Yb));Xb=Number.MIN_SAFE_INTEGER.toString();Vb=fa?BigInt(Number.MIN_SAFE_INTEGER):void 0;Yb=Number.MAX_SAFE_INTEGER.toString();Wb=fa?BigInt(Number.MAX_SAFE_INTEGER):void 0;_.Zb=typeof TextDecoder!=="undefined";_.$b=typeof TextEncoder!=="undefined";var oa,ac=_.t.navigator;oa=ac?ac.userAgentData||null:null;_.Aa=function(a,b){return Array.prototype.indexOf.call(a,b,void 0)};_.bc=function(a,b,c){Array.prototype.forEach.call(a,b,c)};_.cc=function(a,b){return Array.prototype.some.call(a,b,void 0)};_.dc=function(a){_.dc[" "](a);return a};_.dc[" "]=function(){};var rc;_.ec=_.ra();_.fc=_.sa();_.hc=_.u("Edge");_.ic=_.u("Gecko")&&!(_.ma()&&!_.u("Edge"))&&!(_.u("Trident")||_.u("MSIE"))&&!_.u("Edge");_.jc=_.ma()&&!_.u("Edge");_.kc=_.za();_.lc=wa()?oa.platform==="Windows":_.u("Windows");_.mc=wa()?oa.platform==="Android":_.u("Android");_.nc=xa();_.oc=_.u("iPad");_.pc=_.u("iPod");_.qc=_.ya();
a:{let a="";const b=function(){const c=_.la();if(_.ic)return/rv:([^\);]+)(\)|;)/.exec(c);if(_.hc)return/Edge\/([\d\.]+)/.exec(c);if(_.fc)return/\b(?:MSIE|rv)[: ]([^\);]+)(\)|;)/.exec(c);if(_.jc)return/WebKit\/(\S+)/.exec(c);if(_.ec)return/(?:Version)[ \/]?(\S+)/.exec(c)}();b&&(a=b?b[1]:"");if(_.fc){var sc;const c=_.t.document;sc=c?c.documentMode:void 0;if(sc!=null&&sc>parseFloat(a)){rc=String(sc);break a}}rc=a}_.tc=rc;_.uc=_.ta();_.vc=xa()||_.u("iPod");_.wc=_.u("iPad");_.xc=_.u("Android")&&!(ua()||_.ta()||_.ra()||_.u("Silk"));_.yc=ua();_.zc=_.va()&&!_.ya();var Za,nb,hb;_.Xa=_.Ca();_.Ac=_.Ca();Za=_.Ca();_.Bc=_.Ca();nb=_.Ca();_.Ta=_.Ca("m_m",!0);hb=_.Ca();_.Cc=_.Ca();var Ec;_.v=_.Ca("jas",!0);Ec=[];Ec[_.v]=7;_.Dc=Object.freeze(Ec);var Da;_.Ua={};Da={};_.Fc=Object.freeze({});var ib={};var Ia=void 0;_.Gc=typeof BigInt==="function"?BigInt.asIntN:void 0;_.Hc=Number.isSafeInteger;_.Na=Number.isFinite;_.Ic=Math.trunc;var ab;_.Jc=_.ia(0);_.Kc={};_.Lc=function(a,b,c,d,e){b=_.yb(a.fa,b,c,e);if(b!==null||d&&a.o!==Da)return b};_.yb=function(a,b,c,d){if(b===-1)return null;const e=b+(c?0:-1),f=a.length-1;let g,h;if(!(f<1+(c?0:-1))){if(e>=f)if(g=a[f],g!=null&&typeof g==="object"&&g.constructor===Object)c=g[b],h=!0;else if(e===f)c=g;else return;else c=a[e];if(d&&c!=null){d=d(c);if(d==null)return d;if(!Object.is(d,c))return h?g[b]=d:a[e]=d,d}return c}};_.Mc=function(a,b,c,d){_.vb(a);const e=a.fa;_.xb(e,e[_.v]|0,b,c,d);return a};
_.C=function(a,b,c,d){let e=a.fa,f=e[_.v]|0;b=_.zb(e,f,b,c,d);if(b==null)return b;f=e[_.v]|0;if(!_.Ea(a,f)){const g=_.tb(b);g!==b&&(_.ub(a)&&(e=a.fa,f=e[_.v]|0),b=g,f=_.xb(e,f,c,b,d),_.wb(e,f))}return b};_.E=function(a,b,c){c==null&&(c=void 0);_.Mc(a,b,c);c&&!_.Ea(c)&&_.wb(a.fa);return a};_.Nc=function(a,b,c,d){return _.Pa(_.Lc(a,b,c,d))};_.F=function(a,b,c=!1,d){let e;return(e=_.Ma(_.Lc(a,b,d)))!=null?e:c};_.G=function(a,b,c="",d){let e;return(e=_.Sa(_.Lc(a,b,d)))!=null?e:c};
_.I=function(a,b,c){return _.Sa(_.Lc(a,b,c,_.Kc))};_.J=function(a,b,c,d){return _.Mc(a,b,c==null?c:_.La(c),d)};_.K=function(a,b,c){return _.Mc(a,b,c==null?c:_.Qa(c))};_.L=function(a,b,c,d){return _.Mc(a,b,_.Ra(c),d)};_.N=function(a,b,c,d){return _.Mc(a,b,c==null?c:_.Oa(c),d)};_.O=class{constructor(a,b,c){this.fa=_.mb(a,b,c)}toJSON(){return jb(this)}wa(a){return JSON.stringify(jb(this,a))}};_.O.prototype[_.Ta]=_.Ua;_.O.prototype.toString=function(){return this.fa.toString()};_.Oc=_.Ab();_.Pc=_.Ab();_.Rc=_.Ab();_.Sc=Symbol();var Tc=class extends _.O{constructor(a){super(a)}};_.Uc=class extends _.O{constructor(a){super(a)}D(a){return _.K(this,3,a)}};var Vc=class extends _.O{constructor(a){super(a)}Wb(a){return _.L(this,24,a)}};_.Wc=class extends _.O{constructor(a){super(a)}};_.P=function(){this.qa=this.qa;this.Y=this.Y};_.P.prototype.qa=!1;_.P.prototype.isDisposed=function(){return this.qa};_.P.prototype.dispose=function(){this.qa||(this.qa=!0,this.R())};_.P.prototype[Symbol.dispose]=function(){this.dispose()};_.P.prototype.R=function(){if(this.Y)for(;this.Y.length;)this.Y.shift()()};var Xc=class extends _.P{constructor(){var a=window;super();this.o=a;this.i=[];this.j={}}resolve(a){let b=this.o;a=a.split(".");const c=a.length;for(let d=0;d<c;++d)if(b[a[d]])b=b[a[d]];else return null;return b instanceof Function?b:null}tb(){const a=this.i.length,b=this.i,c=[];for(let d=0;d<a;++d){const e=b[d].i(),f=this.resolve(e);if(f&&f!=this.j[e])try{b[d].tb(f)}catch(g){}else c.push(b[d])}this.i=c.concat(b.slice(a))}};var Zc=class extends _.P{constructor(){var a=_.Yc;super();this.o=a;this.A=this.i=null;this.v=0;this.B={};this.j=!1;a=window.navigator.userAgent;a.indexOf("MSIE")>=0&&a.indexOf("Trident")>=0&&(a=/\b(?:MSIE|rv)[: ]([^\);]+)(\)|;)/.exec(a))&&a[1]&&parseFloat(a[1])<9&&(this.j=!0)}C(a,b){this.i=b;this.A=a;b.preventDefault?b.preventDefault():b.returnValue=!1}};_.$c=class extends _.O{constructor(a){super(a)}};var ad=class extends _.O{constructor(a){super(a)}};var dd;_.bd=function(a,b,c=98,d=new _.Uc){if(a.i){const e=new Tc;_.L(e,1,b.message);_.L(e,2,b.stack);_.K(e,3,b.lineNumber);_.N(e,5,1);_.E(d,40,e);a.i.log(c,d)}};dd=class{constructor(){var a=cd;this.i=null;_.F(a,4,!0)}log(a,b,c=new _.Uc){_.bd(this,a,98,c)}};var ed,fd;ed=function(a){if(a.o.length>0){var b=a.i!==void 0,c=a.j!==void 0;if(b||c){b=b?a.v:a.A;c=a.o;a.o=[];try{_.bc(c,b,a)}catch(d){console.error(d)}}}};_.gd=class{constructor(a){this.i=a;this.j=void 0;this.o=[]}then(a,b,c){this.o.push(new fd(a,b,c));ed(this)}resolve(a){if(this.i!==void 0||this.j!==void 0)throw Error("v");this.i=a;ed(this)}reject(a){if(this.i!==void 0||this.j!==void 0)throw Error("v");this.j=a;ed(this)}v(a){a.j&&a.j.call(a.i,this.i)}A(a){a.o&&a.o.call(a.i,this.j)}};
fd=class{constructor(a,b,c){this.j=a;this.o=b;this.i=c}};_.hd=a=>{var b="qc";if(a.qc&&a.hasOwnProperty(b))return a.qc;b=new a;return a.qc=b};_.R=class{constructor(){this.v=new _.gd;this.i=new _.gd;this.D=new _.gd;this.B=new _.gd;this.C=new _.gd;this.A=new _.gd;this.o=new _.gd;this.j=new _.gd;this.F=new _.gd;this.G=new _.gd}K(){return this.v}qa(){return this.i}O(){return this.D}M(){return this.B}P(){return this.C}L(){return this.A}Y(){return this.o}J(){return this.j}N(){return this.F}static i(){return _.hd(_.R)}};var ld;_.jd=function(){return _.C(_.id,Vc,1)};_.kd=function(){return _.C(_.id,_.Wc,5)};ld=class extends _.O{constructor(a){super(a)}};var md;window.gbar_&&window.gbar_.CONFIG?md=window.gbar_.CONFIG[0]||{}:md=[];_.id=new ld(md);var cd=_.C(_.id,ad,3)||new ad;_.jd()||new Vc;_.Yc=new dd;_.A("gbar_._DumpException",function(a){_.Yc?_.Yc.log(a):console.error(a)});_.nd=new Zc;var pd;_.qd=function(a,b){var c=_.od.i();if(a in c.i){if(c.i[a]!=b)throw new pd;}else{c.i[a]=b;const h=c.j[a];if(h)for(let k=0,l=h.length;k<l;k++){b=h[k];var d=c.i;delete b.i[a];if(_.Cb(b.i)){for(var e=b.j.length,f=Array(e),g=0;g<e;g++)f[g]=d[b.j[g]];b.o.apply(b.v,f)}}delete c.j[a]}};_.od=class{constructor(){this.i={};this.j={}}static i(){return _.hd(_.od)}};_.rd=class extends _.aa{constructor(){super()}};pd=class extends _.rd{};_.A("gbar.A",_.gd);_.gd.prototype.aa=_.gd.prototype.then;_.A("gbar.B",_.R);_.R.prototype.ba=_.R.prototype.qa;_.R.prototype.bb=_.R.prototype.O;_.R.prototype.bd=_.R.prototype.P;_.R.prototype.bf=_.R.prototype.K;_.R.prototype.bg=_.R.prototype.M;_.R.prototype.bh=_.R.prototype.L;_.R.prototype.bj=_.R.prototype.Y;_.R.prototype.bk=_.R.prototype.J;_.R.prototype.bl=_.R.prototype.N;_.A("gbar.a",_.R.i());window.gbar&&window.gbar.ap&&window.gbar.ap(window.gbar.a);var sd=new Xc;_.qd("api",sd);
var td=_.kd()||new _.Wc,ud=window,vd=_.y(_.I(td,8));ud.__PVT=vd;_.qd("eq",_.nd);
}catch(e){_._DumpException(e)}
try{
_.wd=class extends _.O{constructor(a){super(a)}};
}catch(e){_._DumpException(e)}
try{
var xd=class extends _.O{constructor(a){super(a)}};var yd=class extends _.P{constructor(){super();this.j=[];this.i=[]}o(a,b){this.j.push({features:a,options:b!=null?b:null})}init(a,b,c){window.gapi={};const d=window.___jsl={};d.h=_.y(_.I(a,1));_.Ma(_.Lc(a,12))!=null&&(d.dpo=_.x(_.F(a,12)));d.ms=_.y(_.I(a,2));d.m=_.y(_.I(a,3));d.l=[];_.G(b,1)&&(a=_.I(b,3))&&this.i.push(a);_.G(c,1)&&(c=_.I(c,2))&&this.i.push(c);_.A("gapi.load",(0,_.z)(this.o,this));return this}};var zd=_.C(_.id,_.$c,14);if(zd){var Bd=_.C(_.id,_.wd,9)||new _.wd,Cd=new xd,Dd=new yd;Dd.init(zd,Bd,Cd);_.qd("gs",Dd)};
}catch(e){_._DumpException(e)}
})(this.gbar_);
// Google Inc.
</script><script nonce="">try {const preferences = JSON.parse(window.localStorage.getItem("datalab_prefs_rjptkuldeep99@gmail.com")); document.querySelector('html') .setAttribute('theme', preferences['siteTheme'] || 'default');} catch (e) {}</script><script nonce="">window.performance.mark('head_start');</script><link rel="stylesheet" href="./KNN &amp; PCA Assignment_files/bundle.css"><script nonce="">var colabVersionTag = 'colab_20250826-060113_RC01_799646228'; var colabScsVersion = 'b5feca4c550ea3c1129faec560eb681d'; var hl = 'en'; var colabExperiments = JSON.parse('\x7b\x22add_df_vars_in_ai_conversation_context\x22: false, \x22add_df_vars_in_ai_generate_context\x22: false, \x22add_notebook_diffs_to_chat_history\x22: false, \x22add_nvidia_cudf_facts_to_chat_context\x22: true, \x22add_prompt_cell\x22: false, \x22agent_client_update_task_max_request_size_bytes\x22: 10000000, \x22agent_scroll_delay_ms\x22: 200, \x22agent_update_task_max_request_size_bytes\x22: 10000000, \x22ai_banner\x22: false, \x22ai_characters_per_token\x22: 3.0, \x22ai_prompt_token_limit\x22: 32000, \x22ai_unsubscribed_warning\x22: false, \x22ai_user_input_char_limit\x22: 2000, \x22aida_complete_code_model_id\x22: \x22\x22, \x22aida_converse_max_facts\x22: 20, \x22aida_do_conversation_model_id\x22: \x22aida_v3p1s_streaming\x22, \x22aida_dsa_model_strategy\x22: -1, \x22aida_generate_code_model_id\x22: \x22aida_v3p1s\x22, \x22aida_generate_code_no_max_tokens\x22: true, \x22allow_dsa_page_interaction\x22: true, \x22allow_readonly_cells\x22: true, \x22allow_subpaths_in_kernel_url\x22: false, \x22allowed_public_url_domains\x22: \x5b\x22huggingface.co\x22, \x22dagshub.com\x22, \x22storage.googleapis.com\x22\x5d, \x22backend_url_allowlist\x22: \x5b\x22localhost\x22, \x22127.0.0.1\x22, \x22\x5b::1\x5d\x22, \x22kkb-production.jupyter-proxy.kaggle.net\x22, \x22kkb-staging.jupyter-proxy.kaggle.net\x22, \x22isolabs-kernels.corp.goog\x22\x5d, \x22backend_version\x22: \x22next\x22, \x22backtracking_strategy\x22: \x22non-literals\x22, \x22bigquery_sql_engine\x22: false, \x22bigquery_sql_engine_library\x22: \x22\x22, \x22ccu_info_abort_timeout_ms\x22: 3000, \x22cell_tags\x22: false, \x22cell_ui_refresh\x22: false, \x22chat_explain_error_temp\x22: \x221.0\x22, \x22chat_model_id_override\x22: \x22\x22, \x22classified_generate\x22: false, \x22classroom_iframe_parent_origin\x22: \x22\x22, \x22client_trim_completion_text\x22: 400, \x22clone_notebook_link\x22: true, \x22cloud_origin\x22: \x22\x22, \x22cloud_run\x22: false, \x22code_report_millis\x22: 600000, \x22colab_fetch_try_reauth\x22: false, \x22comment_poll_long\x22: 900000, \x22comment_poll_short\x22: 60000, \x22complete_code\x22: true, \x22compose_skip_suffix_check\x22: false, \x22composer\x22: true, \x22composer_auto_code\x22: true, \x22composer_autocomplete\x22: false, \x22composer_bigquery_context\x22: false, \x22composer_context_max_variable_length\x22: 500000, \x22composer_early_stopping_for_image_truncation\x22: false, \x22composer_focused_cell_context\x22: true, \x22composer_fp_context\x22: false, \x22composer_generate_code\x22: true, \x22composer_generated_cell_placement_logic\x22: false, \x22composer_kernel_files_in_context\x22: true, \x22composer_model_strategy\x22: 0, \x22composer_show_debug_info\x22: false, \x22composer_survey\x22: true, \x22composer_transform_code\x22: true, \x22composer_visible_cells_context\x22: true, \x22converse_notebook_context_length\x22: 40000, \x22copy_cell_output\x22: false, \x22corp_third_party_widgets\x22: false, \x22crawler\x22: false, \x22create_gemini_api_key\x22: false, \x22critique_comments\x22: false, \x22data_inspector\x22: false, \x22dbu\x22: \x22\x22, \x22debug_adapter\x22: false, \x22debug_external\x22: \x22external\x22, \x22debug_prod\x22: \x22prod\x22, \x22debugger_server_side_globals\x22: true, \x22dep_cells_commands\x22: true, \x22dep_cells_enabled\x22: false, \x22dep_graph\x22: false, \x22deprecate_prompt\x22: true, \x22deprecate_unpin\x22: false, \x22development\x22: false, \x22dialog_ui_refresh\x22: false, \x22document_change_poll_interval\x22: 30000, \x22drive_anon_api_key\x22: \x22AIzaSyB10s2vWUTwP0pj20wZoxmpZIt3rRodYeg\x22, \x22drive_api_key\x22: \x22AIzaSyCN_sSPJMpYrAzC5AtTrltNC8oRmLtoqBk\x22, \x22drive_background_save_project_number\x22: \x22948411933973\x22, \x22drive_realtime_project_number\x22: \x22903414543955\x22, \x22drop_chat_links\x22: true, \x22dsa\x22: true, \x22dsa_file_not_sent_survey_timeout\x22: 60000, \x22dsa_markdown_cells\x22: false, \x22dsa_sample_datasets_toast\x22: true, \x22embedded_toolbar_customization\x22: true, \x22embedded_use_websockets\x22: false, \x22embedding_app\x22: \x22\x22, \x22enable_adhoc_backends\x22: false, \x22enable_agent_connect_to_new_vm\x22: true, \x22enable_cell_pair_slides\x22: true, \x22enable_composer_changeset_stacking\x22: false, \x22enable_composer_code_report\x22: false, \x22enable_composer_suggestion_chips\x22: false, \x22enable_dasher_subscription_ui\x22: true, \x22enable_edu_subscription_ui\x22: true, \x22enable_improved_composer_context_mentions\x22: false, \x22enable_more_reprs\x22: true, \x22enable_mpp_orc_model_overrides\x22: true, \x22enable_rt_on_create\x22: false, \x22execution_status_propagation\x22: true, \x22explain_error_model_id_override\x22: \x22\x22, \x22explain_error_trim_traceback\x22: true, \x22explicit_ai_backend\x22: \x22\x22, \x22external_trusted_github_org_repos_quick_add\x22: \x22GoogleChrome\/CrUX,google\/generative-ai-docs,google-health\/cxr-foundation,google-health\/derm-foundation,google-health\/path-foundation\x22, \x22file_browser_poll_interval_millis\x22: 10000, \x22file_upload_rate_limit\x22: 5, \x22first_party_auth\x22: true, \x22fix_imports\x22: false, \x22fp_context\x22: false, \x22generate_code\x22: true, \x22generate_df\x22: true, \x22generate_prompt_reduce_blank_responses\x22: false, \x22generate_prompt_reduce_name_errors\x22: false, \x22get_started\x22: false, \x22gis_auth\x22: true, \x22github_client_id\x22: \x225036cf6d81e65aaa6340\x22, \x22gpu_utilization_check_interval_ms\x22: 600000, \x22hats_surveys\x22: true, \x22hrc\x22: false, \x22import_data\x22: false, \x22inline_completion_ai_campaign_max_views\x22: 3, \x22inline_completion_ai_campaign_throttle_ms\x22: 600000, \x22is_prober\x22: false, \x22jspb_analytics\x22: true, \x22jsraw\x22: \x22compiled\x22, \x22kaggle_backend_runtime_selector\x22: false, \x22kaggle_client_id\x22: \x22\x22, \x22kaggle_integrations\x22: false, \x22kaggle_resource_picker\x22: false, \x22kaggle_submit_to_competition\x22: false, \x22kernel_use_connected_endpoint_for_unassign\x22: true, \x22kernel_utils_fetch\x22: false, \x22key_promoter\x22: false, \x22kr\x22: false, \x22light_editor_themes\x22: false, \x22link_id_assignments\x22: true, \x22link_imports_to_installs\x22: true, \x22local_cloud_apis\x22: false, \x22local_service_worker\x22: false, \x22lsp_diagnostics_reporting\x22: false, \x22lsp_inlay_hint\x22: false, \x22makersuite_api_key\x22: \x22AIzaSyAmDcruecW4rCL1KdwcbIVHL4LkXxahIgw\x22, \x22makersuite_service_url\x22: \x22https:\/\/alkalimakersuite-pa.clients6.google.com\x22, \x22markdown_spellchecker\x22: false, \x22migrate_ccu_info\x22: false, \x22min_dep_cells_runtime_kernel_cl\x22: 694609395, \x22ml_enabled\x22: true, \x22mobile\x22: false, \x22moma_rag\x22: false, \x22moma_rag_composer\x22: false, \x22mpp_orc_temperature_override\x22: \x221.0\x22, \x22multi_modal_context_for_composer\x22: true, \x22multi_modal_context_for_transform\x22: false, \x22next_steps\x22: true, \x22nl2code_missing_imports\x22: true, \x22no_fun\x22: false, \x22oneplatform_api_key\x22: \x22AIzaSyA2BvntLwNwFthUB4w6_Bhn0cMlVHwyaHc\x22, \x22oneplatform_endpoint\x22: \x22https:\/\/colab.clients6.google.com\x22, \x22outage_notification\x22: \x22\x22, \x22outage_notification_link\x22: \x22\x22, \x22outputframe_version\x22: \x22\x22, \x22override_suf_params_for_test\x22: false, \x22panel_ui_refresh\x22: false, \x22parallel_prompting\x22: true, \x22pds_minting\x22: false, \x22prepare_runtime_for_notebook\x22: false, \x22prereq_cells_next_steps\x22: true, \x22presentation_mode\x22: true, \x22presentation_mode_connect_runtime\x22: false, \x22presentation_mode_start_from_beginning\x22: true, \x22prevent_ai_long_response_generate\x22: false, \x22prevent_ai_long_response_generate_with_df\x22: false, \x22prevent_ai_long_response_suggest_fix\x22: false, \x22prompt_for_dsa_trusted_tester_consent\x22: false, \x22recaptcha_polling_frequency_ms\x22: 300000, \x22recaptcha_v2_site_key\x22: \x226LfQttQUAAAAADuPanA_VZMaZgBAOnHZNuuqUewp\x22, \x22recaptcha_v3_site_key\x22: \x226LfQPtEUAAAAAHBpAdFng54jyuB1V5w5dofknpip\x22, \x22reconnect_max_delay_seconds\x22: 300, \x22reduced_gemini_sparks\x22: false, \x22refocus_focused_code_cell\x22: true, \x22remove_ai_explain_cell_fencing\x22: true, \x22remove_ai_explain_error_fencing\x22: true, \x22remove_ai_generate_fencing\x22: true, \x22require_ai_consent\x22: true, \x22resource_poll_interval_ms\x22: 10000, \x22rp_kxhr_skip_fallback\x22: false, \x22rp_serve_kernel_port\x22: true, \x22rp_socketio_fallback\x22: true, \x22rp_token_refresh_headroom_millis\x22: 300000, \x22rt_opt_in\x22: \x22OFF\x22, \x22run_mode\x22: false, \x22runtime_env_overrides\x22: \x22\\n          \x5b\\n            \x5b\\\x22ENABLE_DIRECTORYPREFETCHER\\\x22, \\\x221\\\x22\x5d\\n          \x5d\\n        \x22, \x22runtime_type_for_test\x22: \x22\x22, \x22runtime_version_names\x22: \x5b\x222025.07\x22\x5d, \x22runtime_version_selector\x22: false, \x22server_execution_queue\x22: true, \x22server_side_generate_prompt_formatting_cloud\x22: false, \x22session_resume_coalesce\x22: true, \x22show_edu_signup_link\x22: true, \x22show_empty_notebook_actions\x22: true, \x22show_gemini_button_text_label\x22: true, \x22show_payments_interstitial\x22: false, \x22show_rel_notes_on_open\x22: true, \x22show_signup_survey\x22: true, \x22show_subscription_renewal_time\x22: false, \x22show_switch_to_prod_link\x22: false, \x22signup_ccu_increase\x22: true, \x22single_page_consent_form\x22: true, \x22smartpaste\x22: false, \x22smartpaste_chars_limit\x22: -1, \x22smartpaste_serving_config\x22: \x22freeform_servomatic_goose_v3_xs_smart_paste\x22, \x22sql_cell\x22: false, \x22sql_cell_buttons\x22: false, \x22sql_completion_lsp\x22: false, \x22storage_partition_trial\x22: true, \x22storage_partition_trial_token\x22: \x22Agk\/t4Bt05W7j6CHeqXH9+6ccDayrBsQPqCLDPSElphe\/7cUobayuvN0A3huajTbJenIjp6qibLteh6e0IEWrgIAAAB4eyJvcmlnaW4iOiJodHRwczovL2NvbGFiLnJlc2VhcmNoLmdvb2dsZS5jb206NDQzIiwiZmVhdHVyZSI6IkRpc2FibGVUaGlyZFBhcnR5U3RvcmFnZVBhcnRpdGlvbmluZzIiLCJleHBpcnkiOjE3NDIzNDIzOTl9\x22, \x22suggest_plots\x22: true, \x22task_service_initial_poll_interval_ms\x22: 500, \x22task_service_max_poll_count\x22: 180, \x22task_service_max_poll_interval_ms\x22: 4000, \x22task_service_poll_interval_growth_factor\x22: 1.3, \x22task_service_poll_interval_ms\x22: 500, \x22task_service_poll_timeout_ms\x22: 90000, \x22task_service_wait_before_polling_ms\x22: 1000, \x22term4all\x22: true, \x22terminate_session_on_connect_to_new_vm\x22: true, \x22text_compose_report_changes_millis\x22: 10000, \x22text_span_comments\x22: false, \x22tpu_node_redirect\x22: true, \x22tpu_resource_stats\x22: false, \x22transform_code\x22: false, \x22transform_code_context_file_per_cell\x22: false, \x22trim_filename_extension\x22: false, \x22turn_off_agent_mode_when_safe\x22: true, \x22unmanaged_vm_min_label_block\x22: \x22\x22, \x22unmanaged_vm_min_label_warn\x22: \x22\x22, \x22unmanaged_vm_min_release_tag_block\x22: \x22\x22, \x22unmanaged_vm_min_release_tag_warn\x22: \x22\x22, \x22unsupported_magics_check\x22: true, \x22use_ai_service\x22: false, \x22use_colab_adk_service\x22: false, \x22user_visible_accelerator_models\x22: \x5b\x22T4\x22, \x22A100\x22, \x22L4\x22, \x22V28\x22, \x22V5E1\x22, \x22V6E1\x22\x5d, \x22user_visible_gpu_types\x22: \x5b\x22T4\x22, \x22A100\x22, \x22L4\x22\x5d, \x22v_100_redirect\x22: true, \x22verbose_warnings\x22: false, \x22vertex_ai_api_environment_override\x22: \x22\x22, \x22viz_cell\x22: false, \x22want_completions_ai_consent_campaign\x22: true, \x22workstations\x22: false, \x22ids\x22: \x5b20730375, 20730457, 20730460, 20730324, 20730454, 20730177, 20730363, 20730183, 20730369, 20730150, 20730470, 20730265\x5d, \x22flag_ids\x22: \x7b\x22add_df_vars_in_ai_conversation_context\x22: 45678289, \x22add_df_vars_in_ai_generate_context\x22: 45687604, \x22add_notebook_diffs_to_chat_history\x22: 45691117, \x22add_nvidia_cudf_facts_to_chat_context\x22: 45685179, \x22add_prompt_cell\x22: 45644995, \x22agent_client_update_task_max_request_size_bytes\x22: 45712580, \x22agent_scroll_delay_ms\x22: 45680776, \x22ai_banner\x22: 45670540, \x22ai_characters_per_token\x22: 45692654, \x22ai_prompt_token_limit\x22: 45692138, \x22ai_unsubscribed_warning\x22: 45504730, \x22ai_user_input_char_limit\x22: 45661098, \x22aida_complete_code_model_id\x22: 45427660, \x22aida_converse_max_facts\x22: 45680037, \x22aida_do_conversation_model_id\x22: 45427664, \x22aida_dsa_model_strategy\x22: 45693665, \x22aida_generate_code_model_id\x22: 45427663, \x22aida_generate_code_no_max_tokens\x22: 45694652, \x22allow_dsa_page_interaction\x22: 45675785, \x22allow_readonly_cells\x22: 45671718, \x22allow_subpaths_in_kernel_url\x22: 45699272, \x22allowed_public_url_domains\x22: 45425558, \x22backend_url_allowlist\x22: 45660303, \x22backend_version\x22: 45425541, \x22backtracking_strategy\x22: 45644832, \x22bigquery_sql_engine\x22: 45697421, \x22bigquery_sql_engine_library\x22: 45700104, \x22ccu_info_abort_timeout_ms\x22: 45691627, \x22cell_tags\x22: 45425779, \x22cell_ui_refresh\x22: 45673630, \x22chat_explain_error_temp\x22: 45655973, \x22chat_model_id_override\x22: 45631876, \x22classified_generate\x22: 45425499, \x22classroom_iframe_parent_origin\x22: 45425537, \x22client_trim_completion_text\x22: 45425628, \x22clone_notebook_link\x22: 45716348, \x22cloud_origin\x22: 45425538, \x22cloud_run\x22: 45697172, \x22code_report_millis\x22: 45658073, \x22colab_fetch_try_reauth\x22: 45713304, \x22comment_poll_long\x22: 45425588, \x22comment_poll_short\x22: 45425587, \x22complete_code\x22: 45686676, \x22compose_skip_suffix_check\x22: 45615470, \x22composer\x22: 45683351, \x22composer_auto_code\x22: 45693768, \x22composer_autocomplete\x22: 45718105, \x22composer_bigquery_context\x22: 45710683, \x22composer_context_max_variable_length\x22: 45688573, \x22composer_early_stopping_for_image_truncation\x22: 45719141, \x22composer_focused_cell_context\x22: 45697545, \x22composer_fp_context\x22: 45701859, \x22composer_generate_code\x22: 45702500, \x22composer_generated_cell_placement_logic\x22: 45721730, \x22composer_kernel_files_in_context\x22: 45701855, \x22composer_model_strategy\x22: 45711731, \x22composer_show_debug_info\x22: 45700003, \x22composer_survey\x22: 45707270, \x22composer_transform_code\x22: 45700458, \x22composer_visible_cells_context\x22: 45716167, \x22converse_notebook_context_length\x22: 45705427, \x22copy_cell_output\x22: 45712093, \x22corp_third_party_widgets\x22: 45678906, \x22crawler\x22: 45425491, \x22create_gemini_api_key\x22: 45654552, \x22critique_comments\x22: 45612076, \x22data_inspector\x22: 45697206, \x22dbu\x22: 45425545, \x22debug_adapter\x22: 45690097, \x22debug_external\x22: 45425470, \x22debug_prod\x22: 45425471, \x22debugger_server_side_globals\x22: 45687360, \x22dep_cells_commands\x22: 45622249, \x22dep_cells_enabled\x22: 45653551, \x22dep_graph\x22: 45629071, \x22deprecate_prompt\x22: 45679897, \x22deprecate_unpin\x22: 45701465, \x22development\x22: 45425544, \x22dialog_ui_refresh\x22: 45698577, \x22document_change_poll_interval\x22: 45425589, \x22drive_anon_api_key\x22: 45425478, \x22drive_api_key\x22: 45425473, \x22drive_background_save_project_number\x22: 45425479, \x22drive_realtime_project_number\x22: 45425629, \x22drop_chat_links\x22: 45646864, \x22dsa\x22: 45656258, \x22dsa_file_not_sent_survey_timeout\x22: 45688578, \x22dsa_markdown_cells\x22: 45707419, \x22dsa_sample_datasets_toast\x22: 45682045, \x22embedded_toolbar_customization\x22: 45692827, \x22embedded_use_websockets\x22: 45691694, \x22enable_adhoc_backends\x22: 45425506, \x22enable_agent_connect_to_new_vm\x22: 45670252, \x22enable_cell_pair_slides\x22: 45719587, \x22enable_composer_changeset_stacking\x22: 45717253, \x22enable_composer_code_report\x22: 45708595, \x22enable_composer_suggestion_chips\x22: 45710464, \x22enable_dasher_subscription_ui\x22: 45639531, \x22enable_edu_subscription_ui\x22: 45693272, \x22enable_improved_composer_context_mentions\x22: 45721452, \x22enable_more_reprs\x22: 45613354, \x22enable_mpp_orc_model_overrides\x22: 45649913, \x22enable_rt_on_create\x22: 45667583, \x22execution_status_propagation\x22: 45644828, \x22explain_error_model_id_override\x22: 45631875, \x22explain_error_trim_traceback\x22: 45618831, \x22explicit_ai_backend\x22: 45638548, \x22external_trusted_github_org_repos_quick_add\x22: 45425555, \x22file_browser_poll_interval_millis\x22: 45643722, \x22file_upload_rate_limit\x22: 45637799, \x22first_party_auth\x22: 45425560, \x22fix_imports\x22: 45624140, \x22fp_context\x22: 45684902, \x22generate_code\x22: 45425492, \x22generate_df\x22: 45425503, \x22generate_prompt_reduce_blank_responses\x22: 45643396, \x22generate_prompt_reduce_name_errors\x22: 45634392, \x22get_started\x22: 45430267, \x22gis_auth\x22: 45425625, \x22github_client_id\x22: 45425556, \x22gpu_utilization_check_interval_ms\x22: 45425561, \x22hats_surveys\x22: 45425559, \x22import_data\x22: 45430411, \x22inline_completion_ai_campaign_max_views\x22: 45676328, \x22inline_completion_ai_campaign_throttle_ms\x22: 45671534, \x22is_prober\x22: 45429104, \x22jspb_analytics\x22: 45704358, \x22jsraw\x22: 45425557, \x22kaggle_backend_runtime_selector\x22: 45704319, \x22kaggle_client_id\x22: 45690272, \x22kaggle_integrations\x22: 45690259, \x22kaggle_resource_picker\x22: 45697311, \x22kaggle_submit_to_competition\x22: 45693906, \x22kernel_use_connected_endpoint_for_unassign\x22: 45684913, \x22kernel_utils_fetch\x22: 45708200, \x22key_promoter\x22: 45425570, \x22light_editor_themes\x22: 45721031, \x22link_id_assignments\x22: 45644831, \x22link_imports_to_installs\x22: 45644830, \x22local_cloud_apis\x22: 45425630, \x22local_service_worker\x22: 45425550, \x22lsp_diagnostics_reporting\x22: 45425604, \x22lsp_inlay_hint\x22: 45614695, \x22makersuite_api_key\x22: 45655361, \x22makersuite_service_url\x22: 45655362, \x22markdown_spellchecker\x22: 45671479, \x22migrate_ccu_info\x22: 45716751, \x22min_dep_cells_runtime_kernel_cl\x22: 45654240, \x22ml_enabled\x22: 45425493, \x22mobile\x22: 45425562, \x22moma_rag\x22: 45686203, \x22moma_rag_composer\x22: 45706746, \x22mpp_orc_temperature_override\x22: 45649914, \x22multi_modal_context_for_composer\x22: 45691122, \x22multi_modal_context_for_transform\x22: 45687634, \x22next_steps\x22: 45428239, \x22nl2code_missing_imports\x22: 45615676, \x22no_fun\x22: 45425540, \x22oneplatform_api_key\x22: 45717742, \x22oneplatform_endpoint\x22: 45717924, \x22outage_notification\x22: 45425584, \x22outage_notification_link\x22: 45425585, \x22outputframe_version\x22: 45425591, \x22override_suf_params_for_test\x22: 45425592, \x22panel_ui_refresh\x22: 45721124, \x22parallel_prompting\x22: 45666384, \x22pds_minting\x22: 45648255, \x22prepare_runtime_for_notebook\x22: 45699118, \x22prereq_cells_next_steps\x22: 45640400, \x22presentation_mode\x22: 45699417, \x22presentation_mode_connect_runtime\x22: 45722751, \x22presentation_mode_start_from_beginning\x22: 45714276, \x22prevent_ai_long_response_generate\x22: 45680972, \x22prevent_ai_long_response_generate_with_df\x22: 45681123, \x22prevent_ai_long_response_suggest_fix\x22: 45681124, \x22prompt_for_dsa_trusted_tester_consent\x22: 45670923, \x22recaptcha_polling_frequency_ms\x22: 45425582, \x22recaptcha_v2_site_key\x22: 45425581, \x22recaptcha_v3_site_key\x22: 45425580, \x22reconnect_max_delay_seconds\x22: 45425539, \x22reduced_gemini_sparks\x22: 45719726, \x22refocus_focused_code_cell\x22: 45714009, \x22remove_ai_explain_cell_fencing\x22: 45677303, \x22remove_ai_explain_error_fencing\x22: 45677302, \x22remove_ai_generate_fencing\x22: 45673079, \x22require_ai_consent\x22: 45425489, \x22resource_poll_interval_ms\x22: 45425590, \x22rp_kxhr_skip_fallback\x22: 45656329, \x22rp_serve_kernel_port\x22: 45572083, \x22rp_socketio_fallback\x22: 45658495, \x22rp_token_refresh_headroom_millis\x22: 45517773, \x22rt_opt_in\x22: 45667546, \x22run_mode\x22: 45642857, \x22runtime_env_overrides\x22: 45425583, \x22runtime_type_for_test\x22: 45425586, \x22runtime_version_names\x22: 45714997, \x22runtime_version_selector\x22: 45713197, \x22server_execution_queue\x22: 45425600, \x22server_side_generate_prompt_formatting_cloud\x22: 45655196, \x22session_resume_coalesce\x22: 45425603, \x22show_edu_signup_link\x22: 45692615, \x22show_empty_notebook_actions\x22: 45677304, \x22show_gemini_button_text_label\x22: 45681647, \x22show_payments_interstitial\x22: 45425543, \x22show_rel_notes_on_open\x22: 45644210, \x22show_signup_survey\x22: 45425620, \x22show_subscription_renewal_time\x22: 45425569, \x22show_switch_to_prod_link\x22: 45425483, \x22signup_ccu_increase\x22: 45689970, \x22single_page_consent_form\x22: 45656775, \x22smartpaste\x22: 45627425, \x22smartpaste_chars_limit\x22: 45714219, \x22smartpaste_serving_config\x22: 45630585, \x22sql_cell\x22: 45425497, \x22sql_cell_buttons\x22: 45425498, \x22sql_completion_lsp\x22: 45688254, \x22suggest_plots\x22: 45696393, \x22task_service_initial_poll_interval_ms\x22: 45696534, \x22task_service_max_poll_count\x22: 45669592, \x22task_service_max_poll_interval_ms\x22: 45696536, \x22task_service_poll_interval_growth_factor\x22: 45696535, \x22task_service_poll_interval_ms\x22: 45669591, \x22task_service_poll_timeout_ms\x22: 45696537, \x22task_service_wait_before_polling_ms\x22: 45669590, \x22term4all\x22: 45425542, \x22terminate_session_on_connect_to_new_vm\x22: 45683597, \x22text_compose_report_changes_millis\x22: 45425568, \x22text_span_comments\x22: 45545873, \x22tpu_node_redirect\x22: 45634372, \x22tpu_resource_stats\x22: 45655215, \x22transform_code\x22: 45667102, \x22transform_code_context_file_per_cell\x22: 45671260, \x22trim_filename_extension\x22: 45691676, \x22turn_off_agent_mode_when_safe\x22: 45679577, \x22unmanaged_vm_min_label_block\x22: 45425546, \x22unmanaged_vm_min_label_warn\x22: 45425547, \x22unmanaged_vm_min_release_tag_block\x22: 45425548, \x22unmanaged_vm_min_release_tag_warn\x22: 45425549, \x22unsupported_magics_check\x22: 45644829, \x22use_ai_service\x22: 45713338, \x22use_colab_adk_service\x22: 20730464, \x22user_visible_accelerator_models\x22: 45682571, \x22user_visible_gpu_types\x22: 45620529, \x22v_100_redirect\x22: 45644963, \x22verbose_warnings\x22: 45425551, \x22vertex_ai_api_environment_override\x22: 45612077, \x22viz_cell\x22: 45690754, \x22want_completions_ai_consent_campaign\x22: 45671138, \x22workstations\x22: 45425626\x7d\x7d'); var colabUserEmail = 'rjptkuldeep99@gmail.com'; var colabRenderDataToken = 'AFWLbD1mwJUC8YqAz5w0SKmlnBTobEcSqMWdcfXW4HjV9eDwmHTtWNjuYA4DLD1vFs01EbWoHCmjXf7cGx_cpPi_xB7SkWerJVFD'; var colabConfig = '\x5b\x5b\x22rjptkuldeep99@gmail.com\x22,\x5b1,\x22AHXL0D3pWIEiFOGXZMJxlEYVSN5Zfvs6k8OmUcXUZcZxn0BmLhLIwQl1pBdtba+i8UFpfEpsQoth50ClT1yZYZTo0yJXFmR9+XmJmnYKJE6x+UOGq16J27CZBISjaD8yUw8aBEg4NKHehn32flqr\/C9WWUL3JRj3sMTewvbZxS8erJKVeoFSUTayuttZDes4OFnzlYJBSaP4DrE4BKphUv5gEAMvVgNvwNwtqmy2aJP9785NHuV0WAAG8ekhzQmsDQ0qOQZwOqLyu24DJDFzAYszEMv9easoUT7UwbPS71OQIR8OougvEU9KM1q3DlX7RGmazDH8mjdXAZL+NOxQkwcO4fI7K8JtHGGeRD27HtpSEjrwm39cTXd9PlF5ivvuLG56l4acvU6pVNdcJ25JxWBiPeLPseUTybv06mUG0zozm4KDo6cyz9KIGNysb5LWUXB0pXHosyZF6vnF4riD\/Z4pdV7zgnyC8AffJtByimpjEzYoH+CE7KWrX71QAduwpzvjcW+rEZWLVwTjv+R3qHQMYghRq3ogbJ1IRY2YoqK26lBtkNWKuvTRLxzN8zjOKPLx288RkNWP6dmJqM86grakmKu+s9LWTR4uh5iZ0Ut\/5dCIsL+VkaTxzAQHUwFnpNhq4QcjFu\/JRES1xnO9nZbn4jZd0alKtasCCo0tdVHNrpsOPhmC5vABgPALxojuxjkywmDzbZbLZtnYkJy36U5ivEWW7pfiRmbHnUy8ElAvv4ZkR6+ZB18eifeZUuCfibZRqNSS6kfPLK2cOMJCLHWR7kpM56PVz+JPU0iBGfrAhHX6gYCU948J2glJWVCKFNmO8U89O89VkWd2qB9X2uGRaXzuAaMOa5PEdcj+9ExQXR8PtLyvC9ydJ\/i5EQehCKdhKVUEWsE9NMTtt4pHOefhPGjlCrLzuHn\/2ToPqmFKlqGjsf3ur9I\/sWdRD0nq9c1b1Wbcl2JSnkIbzWxWKpL4ede1j+lBSCTYxnrLr1UiRxSYGBB3MIfNLRHxoK26PVe73mmIszgwLGHNXbbE\/OHRq0lsUMtfTEsUC+QbZ\/h2+Pzxk405lwXa7EX78NMNdZ5BB05WEfdnZlW+mI6IUH30Ru1NshZFrhp3s8g+wTQyGsQMXtsbIxnu+PFYL1gRiCOS0mDFBqsPoXF9qZ5KqlzsLiHoABBSHfvwtc1+bZHx6CPBdf8qlq\/oVi00xLy3kLgXHAUdcCg+j0TTVAvOXLRr4uecCQpiLJhY+\/1I1QByTM3ynaZUGDrQz7AhraS5CbUsWm\/Fd4HAbdUhZvUXMbYGhVpc2MI7ARM0p4VT\/ukzVal9lyjhE5e9z+sKtpauQn0eeBRzpgds9+HInqT9UDkt1K+5BEdGxPHpnJFB4wY9R+Ygpxd+44UYJx1o3\/AtYfGHzTNy6C8c\/N6FfVoTPad4R8\/dCihaPRKy8xmiZxktL98T9rKHrXc3cFW24Qx2X4HiBX5Bhzvm+ey7vYltSTmY2WcbiXbnzINdemBO95NuCKbpIv5QKpfXawObA0LyuHePY78hQABjQ3hEoKP9ucdLQz7hDzfyVhLYcn9l+L66luKKKHGRkgy8ssmTvcrX0facEIeahOwTC\/M9oe+8topdg7MDwx3KzFMtDjTzbO3jg3PusyMvBTaWa3CkQ9iArxRDYttabkk2pLpB7R5aClz6pVTHlZici3LKMif5WvF8kXCU6kYbybGjGGhPLOngtwRADxgWx8Vbrrh4p5XHedLMOp5X7jyoYJ7MuNhsLa02q0bxvU6jX+7827Va3iIW51m8W+t1z60EBlQH3wIOXRfVHRIFUS93vp88hrIZ7FST2Gwqbdl2NNFABjtoVhKcqA9KuKMqkpMDG0H0+N4OvHumFrtQNvrX\/qwvBwD5SW8xF7PXkt2VaU8\x3d\x22,\x22AJ9oCCxIErdNuCaMY4r2mcjuiuUGY3SDuKZEMRqeXzNBUcEFJW1p+YNQMN90WBmpKmcXww89+vmnmnbsrZB+fNomZQqgfLUFHYc0pGgq8lTfY\/o70rhTtGqCTe+P1df1g5IKFjA0KHrz\x22,\x22https:\/\/payments.google.com\/payments\x22,0,0,null,null,null,\x22$11.79\x22,\x22$58.99\x22,\x22$11.79\x22,\x22$58.99\x22,0,0,0\x5d,\x5b1,4,5\x5d,\x22IN\x22,0\x5d\x5d';</script><link id="favicon-link" rel="shortcut icon" href="https://ssl.gstatic.com/colaboratory-static/common/b5feca4c550ea3c1129faec560eb681d/img%2Ffavicon.ico"><meta name="google-site-verification" content="wRgpUU3mIRZPD1GORBPNonaotM72092B_DsqQFWNa4s"><meta name="google-site-verification" content="dsf7CRwnDkQv6Ot4gXTXx8_nVf8A9cb5o30hZ7cGAIo"><meta name="google-site-verification" content="K1UdZBHJXQYnJGXIK1KuutmVy6dn3vG2sEyV9D1C6dM"><meta name="google-site-verification" content="wdGthzzfu0IjM3qpFqTuQL9poAQZAvAaFKyuzetLpIM"><meta name="google-site-verification" content="qZJ77guHGO0TObHUBRYVdXQlIhXBBuz8dahJVmIlzCo"><meta name="google-site-verification" content="7ahoeOOKT2ZR781GZ5xK4L9t7yO1ZOHc-gaoUALEYgw"><meta name="google-site-verification" content="PHgaSKwdxZELS21aixtLhfpvaHtKen9pnVJ25EI35Zs"><meta name="google-site-verification" content="qylwTsZSLomIg1JrChne7cPcXmtC2Xh_5ZxlJWLlAH0"><meta name="google-site-verification" content="BQfukMqFy1nu2Q2gjGbNTDA8MJ_Y4L2brCYA1h6ewkY"><meta name="google-site-verification" content="pIZq7V_Vt54MAfdQe5afm8zeJrl3o4GkRW-etNvnlKI"><meta name="google-site-verification" content="Ozey1ptWUQW13_lCEhpPMOcmRBLqdyB3WEL-TJUjskU"><meta name="google-site-verification" content="z-WR3zzv8XZ5FFfBLLDbyTiN35UXm01nWUS2Uej5pwg"><meta name="google-site-verification" content="rF5iXzWe9KZXJes1dQNhOUkS4_z_e97IrsVoCx2trek"><meta name="google-site-verification" content="vsXaeD7OD0m3iK8Z54fG8TYGC5eT17KeL_xMHtdiyWI"><meta name="google-site-verification" content="cpB5oulaGwqSxsg4E-9q2MVbK87iE9NAUUVxdveucPw"><meta name="google-site-verification" content="b6bOMRzMVX2bJABYDGBPtpGcB_AUZ-o2SOTggQXErkg"><meta name="google-site-verification" content="88fgsZDoVRBuRnDPMIEjcHCxsEXzODOqEsJoqtvQsDc"><meta name="google-site-verification" content="hZkpVtQ8gdGznkTfUekRWeGY05QyeLXb6q946CFw2-c"><meta name="google-site-verification" content="sMarhZgb4va_L_7UTdMR43gDZ2gVqc_5GHN4REpQPGY"><meta name="google-site-verification" content="26aKGBCw3XblB5Ou01UhxY5WDtMqHjoTm6P-lvF6AqE"><meta name="google-site-verification" content="DGionF7db9g0dOgeBXwOAN2tmCzWBdo5yOdc_-5UcuE"><meta name="google-site-verification" content="Q9LlidR0toR7UtSyVO23xNeaqJmRp8I6r4ghBQTtntU"><meta name="google-site-verification" content="rQawcZaTEK_UrDG30cz_7nVKOVvBass61QEes0Tm04g"><meta name="google-site-verification" content="-N1hdkiHJQ6kwJALkHVh2ZzV2fFNER0schZl2AU6zvc"><meta name="google-site-verification" content="8L3ghjzKIj241AYAmEygniTe604tsXFkIrb1v-DBtGo"><meta name="google-site-verification" content="Gz6pcDgVFH_aS-aPTYW21rSHcWl0LAgKCWJtdXPVTNo"><meta name="google-site-verification" content="KiunYPvrY5x8umvAWcjhwPrB677xCar2LeT_8yaVrDg"><meta name="google-site-verification" content="LypEVvHhYiLSzDs9PabhmOmsfMfEjVGq2rLXJbtqdzY"><meta property="og:type" content="article"><meta property="og:image" content="https://colab.research.google.com/img/colab_favicon_256px.png"><meta property="og:title" content="Google Colab"><meta http-equiv="origin-trial" content="Agk/t4Bt05W7j6CHeqXH9+6ccDayrBsQPqCLDPSElphe/7cUobayuvN0A3huajTbJenIjp6qibLteh6e0IEWrgIAAAB4eyJvcmlnaW4iOiJodHRwczovL2NvbGFiLnJlc2VhcmNoLmdvb2dsZS5jb206NDQzIiwiZmVhdHVyZSI6IkRpc2FibGVUaGlyZFBhcnR5U3RvcmFnZVBhcnRpdGlvbmluZzIiLCJleHBpcnkiOjE3NDIzNDIzOTl9"><script nonce="">window.performance.mark('head_end'); window.performance.measure('head', 'head_start', 'head_end');</script><script async="" src="./KNN &amp; PCA Assignment_files/lazy.min.js.download" nonce=""></script><style id="inert-style">
[inert] {
  pointer-events: none;
  cursor: default;
}

[inert], [inert] * {
  user-select: none;
  -webkit-user-select: none;
  -moz-user-select: none;
  -ms-user-select: none;
}
</style><script async="" type="text/javascript" charset="UTF-8" src="./KNN &amp; PCA Assignment_files/rs=AA2YrTtqQBzHPMqVb9ymSBkWHEaw7gav3Q" nonce=""></script><link type="text/css" href="./KNN &amp; PCA Assignment_files/rs=AA2YrTvsVPw7vJUW446KreqmAvmIuZqijA" rel="stylesheet"><style type="text/css">.MathJax_Hover_Frame {border-radius: .25em; -webkit-border-radius: .25em; -moz-border-radius: .25em; -khtml-border-radius: .25em; box-shadow: 0px 0px 15px #83A; -webkit-box-shadow: 0px 0px 15px #83A; -moz-box-shadow: 0px 0px 15px #83A; -khtml-box-shadow: 0px 0px 15px #83A; border: 1px solid #A6D ! important; display: inline-block; position: absolute}
.MathJax_Menu_Button .MathJax_Hover_Arrow {position: absolute; cursor: pointer; display: inline-block; border: 2px solid #AAA; border-radius: 4px; -webkit-border-radius: 4px; -moz-border-radius: 4px; -khtml-border-radius: 4px; font-family: 'Courier New',Courier; font-size: 9px; color: #F0F0F0}
.MathJax_Menu_Button .MathJax_Hover_Arrow span {display: block; background-color: #AAA; border: 1px solid; border-radius: 3px; line-height: 0; padding: 4px}
.MathJax_Hover_Arrow:hover {color: white!important; border: 2px solid #CCC!important}
.MathJax_Hover_Arrow:hover span {background-color: #CCC!important}
</style><style type="text/css">#MathJax_About {position: fixed; left: 50%; width: auto; text-align: center; border: 3px outset; padding: 1em 2em; background-color: #DDDDDD; color: black; cursor: default; font-family: message-box; font-size: 120%; font-style: normal; text-indent: 0; text-transform: none; line-height: normal; letter-spacing: normal; word-spacing: normal; word-wrap: normal; white-space: nowrap; float: none; z-index: 201; border-radius: 15px; -webkit-border-radius: 15px; -moz-border-radius: 15px; -khtml-border-radius: 15px; box-shadow: 0px 10px 20px #808080; -webkit-box-shadow: 0px 10px 20px #808080; -moz-box-shadow: 0px 10px 20px #808080; -khtml-box-shadow: 0px 10px 20px #808080; filter: progid:DXImageTransform.Microsoft.dropshadow(OffX=2, OffY=2, Color='gray', Positive='true')}
#MathJax_About.MathJax_MousePost {outline: none}
.MathJax_Menu {position: absolute; background-color: white; color: black; width: auto; padding: 2px; border: 1px solid #CCCCCC; margin: 0; cursor: default; font: menu; text-align: left; text-indent: 0; text-transform: none; line-height: normal; letter-spacing: normal; word-spacing: normal; word-wrap: normal; white-space: nowrap; float: none; z-index: 201; box-shadow: 0px 10px 20px #808080; -webkit-box-shadow: 0px 10px 20px #808080; -moz-box-shadow: 0px 10px 20px #808080; -khtml-box-shadow: 0px 10px 20px #808080; filter: progid:DXImageTransform.Microsoft.dropshadow(OffX=2, OffY=2, Color='gray', Positive='true')}
.MathJax_MenuItem {padding: 2px 2em; background: transparent}
.MathJax_MenuArrow {position: absolute; right: .5em; padding-top: .25em; color: #666666; font-size: .75em}
.MathJax_MenuActive .MathJax_MenuArrow {color: white}
.MathJax_MenuArrow.RTL {left: .5em; right: auto}
.MathJax_MenuCheck {position: absolute; left: .7em}
.MathJax_MenuCheck.RTL {right: .7em; left: auto}
.MathJax_MenuRadioCheck {position: absolute; left: 1em}
.MathJax_MenuRadioCheck.RTL {right: 1em; left: auto}
.MathJax_MenuLabel {padding: 2px 2em 4px 1.33em; font-style: italic}
.MathJax_MenuRule {border-top: 1px solid #CCCCCC; margin: 4px 1px 0px}
.MathJax_MenuDisabled {color: GrayText}
.MathJax_MenuActive {background-color: Highlight; color: HighlightText}
.MathJax_MenuDisabled:focus, .MathJax_MenuLabel:focus {background-color: #E8E8E8}
.MathJax_ContextMenu:focus {outline: none}
.MathJax_ContextMenu .MathJax_MenuItem:focus {outline: none}
#MathJax_AboutClose {top: .2em; right: .2em}
.MathJax_Menu .MathJax_MenuClose {top: -10px; left: -10px}
.MathJax_MenuClose {position: absolute; cursor: pointer; display: inline-block; border: 2px solid #AAA; border-radius: 18px; -webkit-border-radius: 18px; -moz-border-radius: 18px; -khtml-border-radius: 18px; font-family: 'Courier New',Courier; font-size: 24px; color: #F0F0F0}
.MathJax_MenuClose span {display: block; background-color: #AAA; border: 1.5px solid; border-radius: 18px; -webkit-border-radius: 18px; -moz-border-radius: 18px; -khtml-border-radius: 18px; line-height: 0; padding: 8px 0 6px}
.MathJax_MenuClose:hover {color: white!important; border: 2px solid #CCC!important}
.MathJax_MenuClose:hover span {background-color: #CCC!important}
.MathJax_MenuClose:hover:focus {outline: none}
</style><style type="text/css">.MJX_Assistive_MathML {position: absolute!important; top: 0; left: 0; clip: rect(1px, 1px, 1px, 1px); padding: 1px 0 0 0!important; border: 0!important; height: 1px!important; width: 1px!important; overflow: hidden!important; display: block!important; -webkit-touch-callout: none; -webkit-user-select: none; -khtml-user-select: none; -moz-user-select: none; -ms-user-select: none; user-select: none}
.MJX_Assistive_MathML.MJX_Assistive_MathML_Block {width: 100%!important}
</style><style type="text/css">#MathJax_Zoom {position: absolute; background-color: #F0F0F0; overflow: auto; display: block; z-index: 301; padding: .5em; border: 1px solid black; margin: 0; font-weight: normal; font-style: normal; text-align: left; text-indent: 0; text-transform: none; line-height: normal; letter-spacing: normal; word-spacing: normal; word-wrap: normal; white-space: nowrap; float: none; -webkit-box-sizing: content-box; -moz-box-sizing: content-box; box-sizing: content-box; box-shadow: 5px 5px 15px #AAAAAA; -webkit-box-shadow: 5px 5px 15px #AAAAAA; -moz-box-shadow: 5px 5px 15px #AAAAAA; -khtml-box-shadow: 5px 5px 15px #AAAAAA; filter: progid:DXImageTransform.Microsoft.dropshadow(OffX=2, OffY=2, Color='gray', Positive='true')}
#MathJax_ZoomOverlay {position: absolute; left: 0; top: 0; z-index: 300; display: inline-block; width: 100%; height: 100%; border: 0; padding: 0; margin: 0; background-color: white; opacity: 0; filter: alpha(opacity=0)}
#MathJax_ZoomFrame {position: relative; display: inline-block; height: 0; width: 0}
#MathJax_ZoomEventTrap {position: absolute; left: 0; top: 0; z-index: 302; display: inline-block; border: 0; padding: 0; margin: 0; background-color: white; opacity: 0; filter: alpha(opacity=0)}
</style><style type="text/css">.MathJax_Preview {color: #888}
#MathJax_Message {position: fixed; left: 1em; bottom: 1.5em; background-color: #E6E6E6; border: 1px solid #959595; margin: 0px; padding: 2px 8px; z-index: 102; color: black; font-size: 80%; width: auto; white-space: nowrap}
#MathJax_MSIE_Frame {position: absolute; top: 0; left: 0; width: 0px; z-index: 101; border: 0px; margin: 0px; padding: 0px}
.MathJax_Error {color: #CC0000; font-style: italic}
</style><style type="text/css">.MJXp-script {font-size: .8em}
.MJXp-right {-webkit-transform-origin: right; -moz-transform-origin: right; -ms-transform-origin: right; -o-transform-origin: right; transform-origin: right}
.MJXp-bold {font-weight: bold}
.MJXp-italic {font-style: italic}
.MJXp-scr {font-family: MathJax_Script,'Times New Roman',Times,STIXGeneral,serif}
.MJXp-frak {font-family: MathJax_Fraktur,'Times New Roman',Times,STIXGeneral,serif}
.MJXp-sf {font-family: MathJax_SansSerif,'Times New Roman',Times,STIXGeneral,serif}
.MJXp-cal {font-family: MathJax_Caligraphic,'Times New Roman',Times,STIXGeneral,serif}
.MJXp-mono {font-family: MathJax_Typewriter,'Times New Roman',Times,STIXGeneral,serif}
.MJXp-largeop {font-size: 150%}
.MJXp-largeop.MJXp-int {vertical-align: -.2em}
.MJXp-math {display: inline-block; line-height: 1.2; text-indent: 0; font-family: 'Times New Roman',Times,STIXGeneral,serif; white-space: nowrap; border-collapse: collapse}
.MJXp-display {display: block; text-align: center; margin: 1em 0}
.MJXp-math span {display: inline-block}
.MJXp-box {display: block!important; text-align: center}
.MJXp-box:after {content: " "}
.MJXp-rule {display: block!important; margin-top: .1em}
.MJXp-char {display: block!important}
.MJXp-mo {margin: 0 .15em}
.MJXp-mfrac {margin: 0 .125em; vertical-align: .25em}
.MJXp-denom {display: inline-table!important; width: 100%}
.MJXp-denom > * {display: table-row!important}
.MJXp-surd {vertical-align: top}
.MJXp-surd > * {display: block!important}
.MJXp-script-box > *  {display: table!important; height: 50%}
.MJXp-script-box > * > * {display: table-cell!important; vertical-align: top}
.MJXp-script-box > *:last-child > * {vertical-align: bottom}
.MJXp-script-box > * > * > * {display: block!important}
.MJXp-mphantom {visibility: hidden}
.MJXp-munderover, .MJXp-munder {display: inline-table!important}
.MJXp-over {display: inline-block!important; text-align: center}
.MJXp-over > * {display: block!important}
.MJXp-munderover > *, .MJXp-munder > * {display: table-row!important}
.MJXp-mtable {vertical-align: .25em; margin: 0 .125em}
.MJXp-mtable > * {display: inline-table!important; vertical-align: middle}
.MJXp-mtr {display: table-row!important}
.MJXp-mtd {display: table-cell!important; text-align: center; padding: .5em 0 0 .5em}
.MJXp-mtr > .MJXp-mtd:first-child {padding-left: 0}
.MJXp-mtr:first-child > .MJXp-mtd {padding-top: 0}
.MJXp-mlabeledtr {display: table-row!important}
.MJXp-mlabeledtr > .MJXp-mtd:first-child {padding-left: 0}
.MJXp-mlabeledtr:first-child > .MJXp-mtd {padding-top: 0}
.MJXp-merror {background-color: #FFFF88; color: #CC0000; border: 1px solid #CC0000; padding: 1px 3px; font-style: normal; font-size: 90%}
.MJXp-scale0 {-webkit-transform: scaleX(.0); -moz-transform: scaleX(.0); -ms-transform: scaleX(.0); -o-transform: scaleX(.0); transform: scaleX(.0)}
.MJXp-scale1 {-webkit-transform: scaleX(.1); -moz-transform: scaleX(.1); -ms-transform: scaleX(.1); -o-transform: scaleX(.1); transform: scaleX(.1)}
.MJXp-scale2 {-webkit-transform: scaleX(.2); -moz-transform: scaleX(.2); -ms-transform: scaleX(.2); -o-transform: scaleX(.2); transform: scaleX(.2)}
.MJXp-scale3 {-webkit-transform: scaleX(.3); -moz-transform: scaleX(.3); -ms-transform: scaleX(.3); -o-transform: scaleX(.3); transform: scaleX(.3)}
.MJXp-scale4 {-webkit-transform: scaleX(.4); -moz-transform: scaleX(.4); -ms-transform: scaleX(.4); -o-transform: scaleX(.4); transform: scaleX(.4)}
.MJXp-scale5 {-webkit-transform: scaleX(.5); -moz-transform: scaleX(.5); -ms-transform: scaleX(.5); -o-transform: scaleX(.5); transform: scaleX(.5)}
.MJXp-scale6 {-webkit-transform: scaleX(.6); -moz-transform: scaleX(.6); -ms-transform: scaleX(.6); -o-transform: scaleX(.6); transform: scaleX(.6)}
.MJXp-scale7 {-webkit-transform: scaleX(.7); -moz-transform: scaleX(.7); -ms-transform: scaleX(.7); -o-transform: scaleX(.7); transform: scaleX(.7)}
.MJXp-scale8 {-webkit-transform: scaleX(.8); -moz-transform: scaleX(.8); -ms-transform: scaleX(.8); -o-transform: scaleX(.8); transform: scaleX(.8)}
.MJXp-scale9 {-webkit-transform: scaleX(.9); -moz-transform: scaleX(.9); -ms-transform: scaleX(.9); -o-transform: scaleX(.9); transform: scaleX(.9)}
.MathJax_PHTML .noError {vertical-align: ; font-size: 90%; text-align: left; color: black; padding: 1px 3px; border: 1px solid}
</style><style type="text/css">.MathJax_Display {text-align: center; margin: 0; position: relative; display: block!important; text-indent: 0; max-width: none; max-height: none; min-width: 0; min-height: 0; width: 100%}
.MathJax .merror {background-color: #FFFF88; color: #CC0000; border: 1px solid #CC0000; padding: 1px 3px; font-style: normal; font-size: 90%}
.MathJax .MJX-monospace {font-family: monospace}
.MathJax .MJX-sans-serif {font-family: sans-serif}
#MathJax_Tooltip {background-color: InfoBackground; color: InfoText; border: 1px solid black; box-shadow: 2px 2px 5px #AAAAAA; -webkit-box-shadow: 2px 2px 5px #AAAAAA; -moz-box-shadow: 2px 2px 5px #AAAAAA; -khtml-box-shadow: 2px 2px 5px #AAAAAA; filter: progid:DXImageTransform.Microsoft.dropshadow(OffX=2, OffY=2, Color='gray', Positive='true'); padding: 3px 4px; z-index: 401; position: absolute; left: 0; top: 0; width: auto; height: auto; display: none}
.MathJax {display: inline; font-style: normal; font-weight: normal; line-height: normal; font-size: 100%; font-size-adjust: none; text-indent: 0; text-align: left; text-transform: none; letter-spacing: normal; word-spacing: normal; word-wrap: normal; white-space: nowrap; float: none; direction: ltr; max-width: none; max-height: none; min-width: 0; min-height: 0; border: 0; padding: 0; margin: 0}
.MathJax:focus, body :focus .MathJax {display: inline-table}
.MathJax.MathJax_FullWidth {text-align: center; display: table-cell!important; width: 10000em!important}
.MathJax img, .MathJax nobr, .MathJax a {border: 0; padding: 0; margin: 0; max-width: none; max-height: none; min-width: 0; min-height: 0; vertical-align: 0; line-height: normal; text-decoration: none}
img.MathJax_strut {border: 0!important; padding: 0!important; margin: 0!important; vertical-align: 0!important}
.MathJax span {display: inline; position: static; border: 0; padding: 0; margin: 0; vertical-align: 0; line-height: normal; text-decoration: none; box-sizing: content-box}
.MathJax nobr {white-space: nowrap!important}
.MathJax img {display: inline!important; float: none!important}
.MathJax * {transition: none; -webkit-transition: none; -moz-transition: none; -ms-transition: none; -o-transition: none}
.MathJax_Processing {visibility: hidden; position: fixed; width: 0; height: 0; overflow: hidden}
.MathJax_Processed {display: none!important}
.MathJax_test {font-style: normal; font-weight: normal; font-size: 100%; font-size-adjust: none; text-indent: 0; text-transform: none; letter-spacing: normal; word-spacing: normal; overflow: hidden; height: 1px}
.MathJax_test.mjx-test-display {display: table!important}
.MathJax_test.mjx-test-inline {display: inline!important; margin-right: -1px}
.MathJax_test.mjx-test-default {display: block!important; clear: both}
.MathJax_ex_box {display: inline-block!important; position: absolute; overflow: hidden; min-height: 0; max-height: none; padding: 0; border: 0; margin: 0; width: 1px; height: 60ex}
.MathJax_em_box {display: inline-block!important; position: absolute; overflow: hidden; min-height: 0; max-height: none; padding: 0; border: 0; margin: 0; width: 1px; height: 60em}
.mjx-test-inline .MathJax_left_box {display: inline-block; width: 0; float: left}
.mjx-test-inline .MathJax_right_box {display: inline-block; width: 0; float: right}
.mjx-test-display .MathJax_right_box {display: table-cell!important; width: 10000em!important; min-width: 0; max-width: none; padding: 0; border: 0; margin: 0}
.MathJax .MathJax_HitBox {cursor: text; background: white; opacity: 0; filter: alpha(opacity=0)}
.MathJax .MathJax_HitBox * {filter: none; opacity: 1; background: transparent}
#MathJax_Tooltip * {filter: none; opacity: 1; background: transparent}
@font-face {font-family: MathJax_Main; src: url('https://colab.research.google.com/static/mathjax/fonts/HTML-CSS/TeX/woff/MathJax_Main-Regular.woff?V=2.7.5') format('woff'), url('https://colab.research.google.com/static/mathjax/fonts/HTML-CSS/TeX/otf/MathJax_Main-Regular.otf?V=2.7.5') format('opentype')}
@font-face {font-family: MathJax_Main-bold; src: url('https://colab.research.google.com/static/mathjax/fonts/HTML-CSS/TeX/woff/MathJax_Main-Bold.woff?V=2.7.5') format('woff'), url('https://colab.research.google.com/static/mathjax/fonts/HTML-CSS/TeX/otf/MathJax_Main-Bold.otf?V=2.7.5') format('opentype')}
@font-face {font-family: MathJax_Main-italic; src: url('https://colab.research.google.com/static/mathjax/fonts/HTML-CSS/TeX/woff/MathJax_Main-Italic.woff?V=2.7.5') format('woff'), url('https://colab.research.google.com/static/mathjax/fonts/HTML-CSS/TeX/otf/MathJax_Main-Italic.otf?V=2.7.5') format('opentype')}
@font-face {font-family: MathJax_Math-italic; src: url('https://colab.research.google.com/static/mathjax/fonts/HTML-CSS/TeX/woff/MathJax_Math-Italic.woff?V=2.7.5') format('woff'), url('https://colab.research.google.com/static/mathjax/fonts/HTML-CSS/TeX/otf/MathJax_Math-Italic.otf?V=2.7.5') format('opentype')}
@font-face {font-family: MathJax_Caligraphic; src: url('https://colab.research.google.com/static/mathjax/fonts/HTML-CSS/TeX/woff/MathJax_Caligraphic-Regular.woff?V=2.7.5') format('woff'), url('https://colab.research.google.com/static/mathjax/fonts/HTML-CSS/TeX/otf/MathJax_Caligraphic-Regular.otf?V=2.7.5') format('opentype')}
@font-face {font-family: MathJax_Size1; src: url('https://colab.research.google.com/static/mathjax/fonts/HTML-CSS/TeX/woff/MathJax_Size1-Regular.woff?V=2.7.5') format('woff'), url('https://colab.research.google.com/static/mathjax/fonts/HTML-CSS/TeX/otf/MathJax_Size1-Regular.otf?V=2.7.5') format('opentype')}
@font-face {font-family: MathJax_Size2; src: url('https://colab.research.google.com/static/mathjax/fonts/HTML-CSS/TeX/woff/MathJax_Size2-Regular.woff?V=2.7.5') format('woff'), url('https://colab.research.google.com/static/mathjax/fonts/HTML-CSS/TeX/otf/MathJax_Size2-Regular.otf?V=2.7.5') format('opentype')}
@font-face {font-family: MathJax_Size3; src: url('https://colab.research.google.com/static/mathjax/fonts/HTML-CSS/TeX/woff/MathJax_Size3-Regular.woff?V=2.7.5') format('woff'), url('https://colab.research.google.com/static/mathjax/fonts/HTML-CSS/TeX/otf/MathJax_Size3-Regular.otf?V=2.7.5') format('opentype')}
@font-face {font-family: MathJax_Size4; src: url('https://colab.research.google.com/static/mathjax/fonts/HTML-CSS/TeX/woff/MathJax_Size4-Regular.woff?V=2.7.5') format('woff'), url('https://colab.research.google.com/static/mathjax/fonts/HTML-CSS/TeX/otf/MathJax_Size4-Regular.otf?V=2.7.5') format('opentype')}
.MathJax .noError {vertical-align: ; font-size: 90%; text-align: left; color: black; padding: 1px 3px; border: 1px solid}
</style><script async="async" type="text/javascript" src="./KNN &amp; PCA Assignment_files/editor.main.js.download"></script><link rel="stylesheet" type="text/css" data-name="vs/editor/editor.main" href="./KNN &amp; PCA Assignment_files/editor.main.css"><script async="async" type="text/javascript" src="./KNN &amp; PCA Assignment_files/editor.main.nls.js.download"></script><script src="./KNN &amp; PCA Assignment_files/api.js.download" nonce=""></script><script src="./KNN &amp; PCA Assignment_files/api(1).js.download" nonce=""></script><style type="text/css" media="screen" class="monaco-colors">.codicon-add:before { content: '\ea60'; }
.codicon-plus:before { content: '\ea60'; }
.codicon-gist-new:before { content: '\ea60'; }
.codicon-repo-create:before { content: '\ea60'; }
.codicon-lightbulb:before { content: '\ea61'; }
.codicon-light-bulb:before { content: '\ea61'; }
.codicon-repo:before { content: '\ea62'; }
.codicon-repo-delete:before { content: '\ea62'; }
.codicon-gist-fork:before { content: '\ea63'; }
.codicon-repo-forked:before { content: '\ea63'; }
.codicon-git-pull-request:before { content: '\ea64'; }
.codicon-git-pull-request-abandoned:before { content: '\ea64'; }
.codicon-record-keys:before { content: '\ea65'; }
.codicon-keyboard:before { content: '\ea65'; }
.codicon-tag:before { content: '\ea66'; }
.codicon-tag-add:before { content: '\ea66'; }
.codicon-tag-remove:before { content: '\ea66'; }
.codicon-person:before { content: '\ea67'; }
.codicon-person-follow:before { content: '\ea67'; }
.codicon-person-outline:before { content: '\ea67'; }
.codicon-person-filled:before { content: '\ea67'; }
.codicon-git-branch:before { content: '\ea68'; }
.codicon-git-branch-create:before { content: '\ea68'; }
.codicon-git-branch-delete:before { content: '\ea68'; }
.codicon-source-control:before { content: '\ea68'; }
.codicon-mirror:before { content: '\ea69'; }
.codicon-mirror-public:before { content: '\ea69'; }
.codicon-star:before { content: '\ea6a'; }
.codicon-star-add:before { content: '\ea6a'; }
.codicon-star-delete:before { content: '\ea6a'; }
.codicon-star-empty:before { content: '\ea6a'; }
.codicon-comment:before { content: '\ea6b'; }
.codicon-comment-add:before { content: '\ea6b'; }
.codicon-alert:before { content: '\ea6c'; }
.codicon-warning:before { content: '\ea6c'; }
.codicon-search:before { content: '\ea6d'; }
.codicon-search-save:before { content: '\ea6d'; }
.codicon-log-out:before { content: '\ea6e'; }
.codicon-sign-out:before { content: '\ea6e'; }
.codicon-log-in:before { content: '\ea6f'; }
.codicon-sign-in:before { content: '\ea6f'; }
.codicon-eye:before { content: '\ea70'; }
.codicon-eye-unwatch:before { content: '\ea70'; }
.codicon-eye-watch:before { content: '\ea70'; }
.codicon-circle-filled:before { content: '\ea71'; }
.codicon-primitive-dot:before { content: '\ea71'; }
.codicon-close-dirty:before { content: '\ea71'; }
.codicon-debug-breakpoint:before { content: '\ea71'; }
.codicon-debug-breakpoint-disabled:before { content: '\ea71'; }
.codicon-debug-hint:before { content: '\ea71'; }
.codicon-primitive-square:before { content: '\ea72'; }
.codicon-edit:before { content: '\ea73'; }
.codicon-pencil:before { content: '\ea73'; }
.codicon-info:before { content: '\ea74'; }
.codicon-issue-opened:before { content: '\ea74'; }
.codicon-gist-private:before { content: '\ea75'; }
.codicon-git-fork-private:before { content: '\ea75'; }
.codicon-lock:before { content: '\ea75'; }
.codicon-mirror-private:before { content: '\ea75'; }
.codicon-close:before { content: '\ea76'; }
.codicon-remove-close:before { content: '\ea76'; }
.codicon-x:before { content: '\ea76'; }
.codicon-repo-sync:before { content: '\ea77'; }
.codicon-sync:before { content: '\ea77'; }
.codicon-clone:before { content: '\ea78'; }
.codicon-desktop-download:before { content: '\ea78'; }
.codicon-beaker:before { content: '\ea79'; }
.codicon-microscope:before { content: '\ea79'; }
.codicon-vm:before { content: '\ea7a'; }
.codicon-device-desktop:before { content: '\ea7a'; }
.codicon-file:before { content: '\ea7b'; }
.codicon-file-text:before { content: '\ea7b'; }
.codicon-more:before { content: '\ea7c'; }
.codicon-ellipsis:before { content: '\ea7c'; }
.codicon-kebab-horizontal:before { content: '\ea7c'; }
.codicon-mail-reply:before { content: '\ea7d'; }
.codicon-reply:before { content: '\ea7d'; }
.codicon-organization:before { content: '\ea7e'; }
.codicon-organization-filled:before { content: '\ea7e'; }
.codicon-organization-outline:before { content: '\ea7e'; }
.codicon-new-file:before { content: '\ea7f'; }
.codicon-file-add:before { content: '\ea7f'; }
.codicon-new-folder:before { content: '\ea80'; }
.codicon-file-directory-create:before { content: '\ea80'; }
.codicon-trash:before { content: '\ea81'; }
.codicon-trashcan:before { content: '\ea81'; }
.codicon-history:before { content: '\ea82'; }
.codicon-clock:before { content: '\ea82'; }
.codicon-folder:before { content: '\ea83'; }
.codicon-file-directory:before { content: '\ea83'; }
.codicon-symbol-folder:before { content: '\ea83'; }
.codicon-logo-github:before { content: '\ea84'; }
.codicon-mark-github:before { content: '\ea84'; }
.codicon-github:before { content: '\ea84'; }
.codicon-terminal:before { content: '\ea85'; }
.codicon-console:before { content: '\ea85'; }
.codicon-repl:before { content: '\ea85'; }
.codicon-zap:before { content: '\ea86'; }
.codicon-symbol-event:before { content: '\ea86'; }
.codicon-error:before { content: '\ea87'; }
.codicon-stop:before { content: '\ea87'; }
.codicon-variable:before { content: '\ea88'; }
.codicon-symbol-variable:before { content: '\ea88'; }
.codicon-array:before { content: '\ea8a'; }
.codicon-symbol-array:before { content: '\ea8a'; }
.codicon-symbol-module:before { content: '\ea8b'; }
.codicon-symbol-package:before { content: '\ea8b'; }
.codicon-symbol-namespace:before { content: '\ea8b'; }
.codicon-symbol-object:before { content: '\ea8b'; }
.codicon-symbol-method:before { content: '\ea8c'; }
.codicon-symbol-function:before { content: '\ea8c'; }
.codicon-symbol-constructor:before { content: '\ea8c'; }
.codicon-symbol-boolean:before { content: '\ea8f'; }
.codicon-symbol-null:before { content: '\ea8f'; }
.codicon-symbol-numeric:before { content: '\ea90'; }
.codicon-symbol-number:before { content: '\ea90'; }
.codicon-symbol-structure:before { content: '\ea91'; }
.codicon-symbol-struct:before { content: '\ea91'; }
.codicon-symbol-parameter:before { content: '\ea92'; }
.codicon-symbol-type-parameter:before { content: '\ea92'; }
.codicon-symbol-key:before { content: '\ea93'; }
.codicon-symbol-text:before { content: '\ea93'; }
.codicon-symbol-reference:before { content: '\ea94'; }
.codicon-go-to-file:before { content: '\ea94'; }
.codicon-symbol-enum:before { content: '\ea95'; }
.codicon-symbol-value:before { content: '\ea95'; }
.codicon-symbol-ruler:before { content: '\ea96'; }
.codicon-symbol-unit:before { content: '\ea96'; }
.codicon-activate-breakpoints:before { content: '\ea97'; }
.codicon-archive:before { content: '\ea98'; }
.codicon-arrow-both:before { content: '\ea99'; }
.codicon-arrow-down:before { content: '\ea9a'; }
.codicon-arrow-left:before { content: '\ea9b'; }
.codicon-arrow-right:before { content: '\ea9c'; }
.codicon-arrow-small-down:before { content: '\ea9d'; }
.codicon-arrow-small-left:before { content: '\ea9e'; }
.codicon-arrow-small-right:before { content: '\ea9f'; }
.codicon-arrow-small-up:before { content: '\eaa0'; }
.codicon-arrow-up:before { content: '\eaa1'; }
.codicon-bell:before { content: '\eaa2'; }
.codicon-bold:before { content: '\eaa3'; }
.codicon-book:before { content: '\eaa4'; }
.codicon-bookmark:before { content: '\eaa5'; }
.codicon-debug-breakpoint-conditional-unverified:before { content: '\eaa6'; }
.codicon-debug-breakpoint-conditional:before { content: '\eaa7'; }
.codicon-debug-breakpoint-conditional-disabled:before { content: '\eaa7'; }
.codicon-debug-breakpoint-data-unverified:before { content: '\eaa8'; }
.codicon-debug-breakpoint-data:before { content: '\eaa9'; }
.codicon-debug-breakpoint-data-disabled:before { content: '\eaa9'; }
.codicon-debug-breakpoint-log-unverified:before { content: '\eaaa'; }
.codicon-debug-breakpoint-log:before { content: '\eaab'; }
.codicon-debug-breakpoint-log-disabled:before { content: '\eaab'; }
.codicon-briefcase:before { content: '\eaac'; }
.codicon-broadcast:before { content: '\eaad'; }
.codicon-browser:before { content: '\eaae'; }
.codicon-bug:before { content: '\eaaf'; }
.codicon-calendar:before { content: '\eab0'; }
.codicon-case-sensitive:before { content: '\eab1'; }
.codicon-check:before { content: '\eab2'; }
.codicon-checklist:before { content: '\eab3'; }
.codicon-chevron-down:before { content: '\eab4'; }
.codicon-drop-down-button:before { content: '\eab4'; }
.codicon-chevron-left:before { content: '\eab5'; }
.codicon-chevron-right:before { content: '\eab6'; }
.codicon-chevron-up:before { content: '\eab7'; }
.codicon-chrome-close:before { content: '\eab8'; }
.codicon-chrome-maximize:before { content: '\eab9'; }
.codicon-chrome-minimize:before { content: '\eaba'; }
.codicon-chrome-restore:before { content: '\eabb'; }
.codicon-circle:before { content: '\eabc'; }
.codicon-circle-outline:before { content: '\eabc'; }
.codicon-debug-breakpoint-unverified:before { content: '\eabc'; }
.codicon-circle-slash:before { content: '\eabd'; }
.codicon-circuit-board:before { content: '\eabe'; }
.codicon-clear-all:before { content: '\eabf'; }
.codicon-clippy:before { content: '\eac0'; }
.codicon-close-all:before { content: '\eac1'; }
.codicon-cloud-download:before { content: '\eac2'; }
.codicon-cloud-upload:before { content: '\eac3'; }
.codicon-code:before { content: '\eac4'; }
.codicon-collapse-all:before { content: '\eac5'; }
.codicon-color-mode:before { content: '\eac6'; }
.codicon-comment-discussion:before { content: '\eac7'; }
.codicon-compare-changes:before { content: '\eafd'; }
.codicon-credit-card:before { content: '\eac9'; }
.codicon-dash:before { content: '\eacc'; }
.codicon-dashboard:before { content: '\eacd'; }
.codicon-database:before { content: '\eace'; }
.codicon-debug-continue:before { content: '\eacf'; }
.codicon-debug-disconnect:before { content: '\ead0'; }
.codicon-debug-pause:before { content: '\ead1'; }
.codicon-debug-restart:before { content: '\ead2'; }
.codicon-debug-start:before { content: '\ead3'; }
.codicon-debug-step-into:before { content: '\ead4'; }
.codicon-debug-step-out:before { content: '\ead5'; }
.codicon-debug-step-over:before { content: '\ead6'; }
.codicon-debug-stop:before { content: '\ead7'; }
.codicon-debug:before { content: '\ead8'; }
.codicon-device-camera-video:before { content: '\ead9'; }
.codicon-device-camera:before { content: '\eada'; }
.codicon-device-mobile:before { content: '\eadb'; }
.codicon-diff-added:before { content: '\eadc'; }
.codicon-diff-ignored:before { content: '\eadd'; }
.codicon-diff-modified:before { content: '\eade'; }
.codicon-diff-removed:before { content: '\eadf'; }
.codicon-diff-renamed:before { content: '\eae0'; }
.codicon-diff:before { content: '\eae1'; }
.codicon-discard:before { content: '\eae2'; }
.codicon-editor-layout:before { content: '\eae3'; }
.codicon-empty-window:before { content: '\eae4'; }
.codicon-exclude:before { content: '\eae5'; }
.codicon-extensions:before { content: '\eae6'; }
.codicon-eye-closed:before { content: '\eae7'; }
.codicon-file-binary:before { content: '\eae8'; }
.codicon-file-code:before { content: '\eae9'; }
.codicon-file-media:before { content: '\eaea'; }
.codicon-file-pdf:before { content: '\eaeb'; }
.codicon-file-submodule:before { content: '\eaec'; }
.codicon-file-symlink-directory:before { content: '\eaed'; }
.codicon-file-symlink-file:before { content: '\eaee'; }
.codicon-file-zip:before { content: '\eaef'; }
.codicon-files:before { content: '\eaf0'; }
.codicon-filter:before { content: '\eaf1'; }
.codicon-flame:before { content: '\eaf2'; }
.codicon-fold-down:before { content: '\eaf3'; }
.codicon-fold-up:before { content: '\eaf4'; }
.codicon-fold:before { content: '\eaf5'; }
.codicon-folder-active:before { content: '\eaf6'; }
.codicon-folder-opened:before { content: '\eaf7'; }
.codicon-gear:before { content: '\eaf8'; }
.codicon-gift:before { content: '\eaf9'; }
.codicon-gist-secret:before { content: '\eafa'; }
.codicon-gist:before { content: '\eafb'; }
.codicon-git-commit:before { content: '\eafc'; }
.codicon-git-compare:before { content: '\eafd'; }
.codicon-git-merge:before { content: '\eafe'; }
.codicon-github-action:before { content: '\eaff'; }
.codicon-github-alt:before { content: '\eb00'; }
.codicon-globe:before { content: '\eb01'; }
.codicon-grabber:before { content: '\eb02'; }
.codicon-graph:before { content: '\eb03'; }
.codicon-gripper:before { content: '\eb04'; }
.codicon-heart:before { content: '\eb05'; }
.codicon-home:before { content: '\eb06'; }
.codicon-horizontal-rule:before { content: '\eb07'; }
.codicon-hubot:before { content: '\eb08'; }
.codicon-inbox:before { content: '\eb09'; }
.codicon-issue-closed:before { content: '\eba4'; }
.codicon-issue-reopened:before { content: '\eb0b'; }
.codicon-issues:before { content: '\eb0c'; }
.codicon-italic:before { content: '\eb0d'; }
.codicon-jersey:before { content: '\eb0e'; }
.codicon-json:before { content: '\eb0f'; }
.codicon-bracket:before { content: '\eb0f'; }
.codicon-kebab-vertical:before { content: '\eb10'; }
.codicon-key:before { content: '\eb11'; }
.codicon-law:before { content: '\eb12'; }
.codicon-lightbulb-autofix:before { content: '\eb13'; }
.codicon-link-external:before { content: '\eb14'; }
.codicon-link:before { content: '\eb15'; }
.codicon-list-ordered:before { content: '\eb16'; }
.codicon-list-unordered:before { content: '\eb17'; }
.codicon-live-share:before { content: '\eb18'; }
.codicon-loading:before { content: '\eb19'; }
.codicon-location:before { content: '\eb1a'; }
.codicon-mail-read:before { content: '\eb1b'; }
.codicon-mail:before { content: '\eb1c'; }
.codicon-markdown:before { content: '\eb1d'; }
.codicon-megaphone:before { content: '\eb1e'; }
.codicon-mention:before { content: '\eb1f'; }
.codicon-milestone:before { content: '\eb20'; }
.codicon-mortar-board:before { content: '\eb21'; }
.codicon-move:before { content: '\eb22'; }
.codicon-multiple-windows:before { content: '\eb23'; }
.codicon-mute:before { content: '\eb24'; }
.codicon-no-newline:before { content: '\eb25'; }
.codicon-note:before { content: '\eb26'; }
.codicon-octoface:before { content: '\eb27'; }
.codicon-open-preview:before { content: '\eb28'; }
.codicon-package:before { content: '\eb29'; }
.codicon-paintcan:before { content: '\eb2a'; }
.codicon-pin:before { content: '\eb2b'; }
.codicon-play:before { content: '\eb2c'; }
.codicon-run:before { content: '\eb2c'; }
.codicon-plug:before { content: '\eb2d'; }
.codicon-preserve-case:before { content: '\eb2e'; }
.codicon-preview:before { content: '\eb2f'; }
.codicon-project:before { content: '\eb30'; }
.codicon-pulse:before { content: '\eb31'; }
.codicon-question:before { content: '\eb32'; }
.codicon-quote:before { content: '\eb33'; }
.codicon-radio-tower:before { content: '\eb34'; }
.codicon-reactions:before { content: '\eb35'; }
.codicon-references:before { content: '\eb36'; }
.codicon-refresh:before { content: '\eb37'; }
.codicon-regex:before { content: '\eb38'; }
.codicon-remote-explorer:before { content: '\eb39'; }
.codicon-remote:before { content: '\eb3a'; }
.codicon-remove:before { content: '\eb3b'; }
.codicon-replace-all:before { content: '\eb3c'; }
.codicon-replace:before { content: '\eb3d'; }
.codicon-repo-clone:before { content: '\eb3e'; }
.codicon-repo-force-push:before { content: '\eb3f'; }
.codicon-repo-pull:before { content: '\eb40'; }
.codicon-repo-push:before { content: '\eb41'; }
.codicon-report:before { content: '\eb42'; }
.codicon-request-changes:before { content: '\eb43'; }
.codicon-rocket:before { content: '\eb44'; }
.codicon-root-folder-opened:before { content: '\eb45'; }
.codicon-root-folder:before { content: '\eb46'; }
.codicon-rss:before { content: '\eb47'; }
.codicon-ruby:before { content: '\eb48'; }
.codicon-save-all:before { content: '\eb49'; }
.codicon-save-as:before { content: '\eb4a'; }
.codicon-save:before { content: '\eb4b'; }
.codicon-screen-full:before { content: '\eb4c'; }
.codicon-screen-normal:before { content: '\eb4d'; }
.codicon-search-stop:before { content: '\eb4e'; }
.codicon-server:before { content: '\eb50'; }
.codicon-settings-gear:before { content: '\eb51'; }
.codicon-settings:before { content: '\eb52'; }
.codicon-shield:before { content: '\eb53'; }
.codicon-smiley:before { content: '\eb54'; }
.codicon-sort-precedence:before { content: '\eb55'; }
.codicon-split-horizontal:before { content: '\eb56'; }
.codicon-split-vertical:before { content: '\eb57'; }
.codicon-squirrel:before { content: '\eb58'; }
.codicon-star-full:before { content: '\eb59'; }
.codicon-star-half:before { content: '\eb5a'; }
.codicon-symbol-class:before { content: '\eb5b'; }
.codicon-symbol-color:before { content: '\eb5c'; }
.codicon-symbol-customcolor:before { content: '\eb5c'; }
.codicon-symbol-constant:before { content: '\eb5d'; }
.codicon-symbol-enum-member:before { content: '\eb5e'; }
.codicon-symbol-field:before { content: '\eb5f'; }
.codicon-symbol-file:before { content: '\eb60'; }
.codicon-symbol-interface:before { content: '\eb61'; }
.codicon-symbol-keyword:before { content: '\eb62'; }
.codicon-symbol-misc:before { content: '\eb63'; }
.codicon-symbol-operator:before { content: '\eb64'; }
.codicon-symbol-property:before { content: '\eb65'; }
.codicon-wrench:before { content: '\eb65'; }
.codicon-wrench-subaction:before { content: '\eb65'; }
.codicon-symbol-snippet:before { content: '\eb66'; }
.codicon-tasklist:before { content: '\eb67'; }
.codicon-telescope:before { content: '\eb68'; }
.codicon-text-size:before { content: '\eb69'; }
.codicon-three-bars:before { content: '\eb6a'; }
.codicon-thumbsdown:before { content: '\eb6b'; }
.codicon-thumbsup:before { content: '\eb6c'; }
.codicon-tools:before { content: '\eb6d'; }
.codicon-triangle-down:before { content: '\eb6e'; }
.codicon-triangle-left:before { content: '\eb6f'; }
.codicon-triangle-right:before { content: '\eb70'; }
.codicon-triangle-up:before { content: '\eb71'; }
.codicon-twitter:before { content: '\eb72'; }
.codicon-unfold:before { content: '\eb73'; }
.codicon-unlock:before { content: '\eb74'; }
.codicon-unmute:before { content: '\eb75'; }
.codicon-unverified:before { content: '\eb76'; }
.codicon-verified:before { content: '\eb77'; }
.codicon-versions:before { content: '\eb78'; }
.codicon-vm-active:before { content: '\eb79'; }
.codicon-vm-outline:before { content: '\eb7a'; }
.codicon-vm-running:before { content: '\eb7b'; }
.codicon-watch:before { content: '\eb7c'; }
.codicon-whitespace:before { content: '\eb7d'; }
.codicon-whole-word:before { content: '\eb7e'; }
.codicon-window:before { content: '\eb7f'; }
.codicon-word-wrap:before { content: '\eb80'; }
.codicon-zoom-in:before { content: '\eb81'; }
.codicon-zoom-out:before { content: '\eb82'; }
.codicon-list-filter:before { content: '\eb83'; }
.codicon-list-flat:before { content: '\eb84'; }
.codicon-list-selection:before { content: '\eb85'; }
.codicon-selection:before { content: '\eb85'; }
.codicon-list-tree:before { content: '\eb86'; }
.codicon-debug-breakpoint-function-unverified:before { content: '\eb87'; }
.codicon-debug-breakpoint-function:before { content: '\eb88'; }
.codicon-debug-breakpoint-function-disabled:before { content: '\eb88'; }
.codicon-debug-stackframe-active:before { content: '\eb89'; }
.codicon-circle-small-filled:before { content: '\eb8a'; }
.codicon-debug-stackframe-dot:before { content: '\eb8a'; }
.codicon-debug-stackframe:before { content: '\eb8b'; }
.codicon-debug-stackframe-focused:before { content: '\eb8b'; }
.codicon-debug-breakpoint-unsupported:before { content: '\eb8c'; }
.codicon-symbol-string:before { content: '\eb8d'; }
.codicon-debug-reverse-continue:before { content: '\eb8e'; }
.codicon-debug-step-back:before { content: '\eb8f'; }
.codicon-debug-restart-frame:before { content: '\eb90'; }
.codicon-call-incoming:before { content: '\eb92'; }
.codicon-call-outgoing:before { content: '\eb93'; }
.codicon-menu:before { content: '\eb94'; }
.codicon-expand-all:before { content: '\eb95'; }
.codicon-feedback:before { content: '\eb96'; }
.codicon-group-by-ref-type:before { content: '\eb97'; }
.codicon-ungroup-by-ref-type:before { content: '\eb98'; }
.codicon-account:before { content: '\eb99'; }
.codicon-bell-dot:before { content: '\eb9a'; }
.codicon-debug-console:before { content: '\eb9b'; }
.codicon-library:before { content: '\eb9c'; }
.codicon-output:before { content: '\eb9d'; }
.codicon-run-all:before { content: '\eb9e'; }
.codicon-sync-ignored:before { content: '\eb9f'; }
.codicon-pinned:before { content: '\eba0'; }
.codicon-github-inverted:before { content: '\eba1'; }
.codicon-debug-alt:before { content: '\eb91'; }
.codicon-server-process:before { content: '\eba2'; }
.codicon-server-environment:before { content: '\eba3'; }
.codicon-pass:before { content: '\eba4'; }
.codicon-stop-circle:before { content: '\eba5'; }
.codicon-play-circle:before { content: '\eba6'; }
.codicon-record:before { content: '\eba7'; }
.codicon-debug-alt-small:before { content: '\eba8'; }
.codicon-vm-connect:before { content: '\eba9'; }
.codicon-cloud:before { content: '\ebaa'; }
.codicon-merge:before { content: '\ebab'; }
.codicon-export:before { content: '\ebac'; }
.codicon-graph-left:before { content: '\ebad'; }
.codicon-magnet:before { content: '\ebae'; }
.codicon-notebook:before { content: '\ebaf'; }
.codicon-redo:before { content: '\ebb0'; }
.codicon-check-all:before { content: '\ebb1'; }
.codicon-pinned-dirty:before { content: '\ebb2'; }
.codicon-pass-filled:before { content: '\ebb3'; }
.codicon-circle-large-filled:before { content: '\ebb4'; }
.codicon-circle-large:before { content: '\ebb5'; }
.codicon-circle-large-outline:before { content: '\ebb5'; }
.codicon-combine:before { content: '\ebb6'; }
.codicon-gather:before { content: '\ebb6'; }
.codicon-table:before { content: '\ebb7'; }
.codicon-variable-group:before { content: '\ebb8'; }
.codicon-type-hierarchy:before { content: '\ebb9'; }
.codicon-type-hierarchy-sub:before { content: '\ebba'; }
.codicon-type-hierarchy-super:before { content: '\ebbb'; }
.codicon-git-pull-request-create:before { content: '\ebbc'; }
.codicon-run-above:before { content: '\ebbd'; }
.codicon-run-below:before { content: '\ebbe'; }
.codicon-notebook-template:before { content: '\ebbf'; }
.codicon-debug-rerun:before { content: '\ebc0'; }
.codicon-workspace-trusted:before { content: '\ebc1'; }
.codicon-workspace-untrusted:before { content: '\ebc2'; }
.codicon-workspace-unspecified:before { content: '\ebc3'; }
.codicon-terminal-cmd:before { content: '\ebc4'; }
.codicon-terminal-debian:before { content: '\ebc5'; }
.codicon-terminal-linux:before { content: '\ebc6'; }
.codicon-terminal-powershell:before { content: '\ebc7'; }
.codicon-terminal-tmux:before { content: '\ebc8'; }
.codicon-terminal-ubuntu:before { content: '\ebc9'; }
.codicon-terminal-bash:before { content: '\ebca'; }
.codicon-arrow-swap:before { content: '\ebcb'; }
.codicon-copy:before { content: '\ebcc'; }
.codicon-person-add:before { content: '\ebcd'; }
.codicon-filter-filled:before { content: '\ebce'; }
.codicon-wand:before { content: '\ebcf'; }
.codicon-debug-line-by-line:before { content: '\ebd0'; }
.codicon-inspect:before { content: '\ebd1'; }
.codicon-layers:before { content: '\ebd2'; }
.codicon-layers-dot:before { content: '\ebd3'; }
.codicon-layers-active:before { content: '\ebd4'; }
.codicon-compass:before { content: '\ebd5'; }
.codicon-compass-dot:before { content: '\ebd6'; }
.codicon-compass-active:before { content: '\ebd7'; }
.codicon-azure:before { content: '\ebd8'; }
.codicon-issue-draft:before { content: '\ebd9'; }
.codicon-git-pull-request-closed:before { content: '\ebda'; }
.codicon-git-pull-request-draft:before { content: '\ebdb'; }
.codicon-debug-all:before { content: '\ebdc'; }
.codicon-debug-coverage:before { content: '\ebdd'; }
.codicon-run-errors:before { content: '\ebde'; }
.codicon-folder-library:before { content: '\ebdf'; }
.codicon-debug-continue-small:before { content: '\ebe0'; }
.codicon-beaker-stop:before { content: '\ebe1'; }
.codicon-graph-line:before { content: '\ebe2'; }
.codicon-graph-scatter:before { content: '\ebe3'; }
.codicon-pie-chart:before { content: '\ebe4'; }
.codicon-bracket-dot:before { content: '\ebe5'; }
.codicon-bracket-error:before { content: '\ebe6'; }
.codicon-lock-small:before { content: '\ebe7'; }
.codicon-azure-devops:before { content: '\ebe8'; }
.codicon-verified-filled:before { content: '\ebe9'; }
.codicon-newline:before { content: '\ebea'; }
.codicon-layout:before { content: '\ebeb'; }
.codicon-layout-activitybar-left:before { content: '\ebec'; }
.codicon-layout-activitybar-right:before { content: '\ebed'; }
.codicon-layout-panel-left:before { content: '\ebee'; }
.codicon-layout-panel-center:before { content: '\ebef'; }
.codicon-layout-panel-justify:before { content: '\ebf0'; }
.codicon-layout-panel-right:before { content: '\ebf1'; }
.codicon-layout-panel:before { content: '\ebf2'; }
.codicon-layout-sidebar-left:before { content: '\ebf3'; }
.codicon-layout-sidebar-right:before { content: '\ebf4'; }
.codicon-layout-statusbar:before { content: '\ebf5'; }
.codicon-layout-menubar:before { content: '\ebf6'; }
.codicon-layout-centered:before { content: '\ebf7'; }
.codicon-layout-sidebar-right-off:before { content: '\ec00'; }
.codicon-layout-panel-off:before { content: '\ec01'; }
.codicon-layout-sidebar-left-off:before { content: '\ec02'; }
.codicon-target:before { content: '\ebf8'; }
.codicon-indent:before { content: '\ebf9'; }
.codicon-record-small:before { content: '\ebfa'; }
.codicon-error-small:before { content: '\ebfb'; }
.codicon-arrow-circle-down:before { content: '\ebfc'; }
.codicon-arrow-circle-left:before { content: '\ebfd'; }
.codicon-arrow-circle-right:before { content: '\ebfe'; }
.codicon-arrow-circle-up:before { content: '\ebff'; }
.codicon-heart-filled:before { content: '\ec04'; }
.codicon-map:before { content: '\ec05'; }
.codicon-map-filled:before { content: '\ec06'; }
.codicon-circle-small:before { content: '\ec07'; }
.codicon-bell-slash:before { content: '\ec08'; }
.codicon-bell-slash-dot:before { content: '\ec09'; }
.codicon-comment-unresolved:before { content: '\ec0a'; }
.codicon-git-pull-request-go-to-changes:before { content: '\ec0b'; }
.codicon-git-pull-request-new-changes:before { content: '\ec0c'; }
.codicon-search-fuzzy:before { content: '\ec0d'; }
.codicon-comment-draft:before { content: '\ec0e'; }
.codicon-send:before { content: '\ec0f'; }
.codicon-sparkle:before { content: '\ec10'; }
.codicon-insert:before { content: '\ec11'; }
.codicon-dialog-error:before { content: '\ea87'; }
.codicon-dialog-warning:before { content: '\ea6c'; }
.codicon-dialog-info:before { content: '\ea74'; }
.codicon-dialog-close:before { content: '\ea76'; }
.codicon-tree-item-expanded:before { content: '\eab4'; }
.codicon-tree-filter-on-type-on:before { content: '\eb83'; }
.codicon-tree-filter-on-type-off:before { content: '\eb85'; }
.codicon-tree-filter-clear:before { content: '\ea76'; }
.codicon-tree-item-loading:before { content: '\eb19'; }
.codicon-menu-selection:before { content: '\eab2'; }
.codicon-menu-submenu:before { content: '\eab6'; }
.codicon-menubar-more:before { content: '\ea7c'; }
.codicon-scrollbar-button-left:before { content: '\eb6f'; }
.codicon-scrollbar-button-right:before { content: '\eb70'; }
.codicon-scrollbar-button-up:before { content: '\eb71'; }
.codicon-scrollbar-button-down:before { content: '\eb6e'; }
.codicon-toolbar-more:before { content: '\ea7c'; }
.codicon-quick-input-back:before { content: '\ea9b'; }
.codicon-widget-close:before { content: '\ea76'; }
.codicon-goto-previous-location:before { content: '\eaa1'; }
.codicon-goto-next-location:before { content: '\ea9a'; }
.codicon-diff-review-insert:before { content: '\ea60'; }
.codicon-diff-review-remove:before { content: '\eb3b'; }
.codicon-diff-review-close:before { content: '\ea76'; }
.codicon-parameter-hints-next:before { content: '\eab4'; }
.codicon-parameter-hints-previous:before { content: '\eab7'; }
.codicon-suggest-more-info:before { content: '\eab6'; }
.codicon-inline-suggestion-hints-next:before { content: '\eab6'; }
.codicon-inline-suggestion-hints-previous:before { content: '\eab5'; }
.codicon-diff-insert:before { content: '\ea60'; }
.codicon-diff-remove:before { content: '\eb3b'; }
.codicon-find-selection:before { content: '\eb85'; }
.codicon-find-collapsed:before { content: '\eab6'; }
.codicon-find-expanded:before { content: '\eab4'; }
.codicon-find-replace:before { content: '\eb3d'; }
.codicon-find-replace-all:before { content: '\eb3c'; }
.codicon-find-previous-match:before { content: '\eaa1'; }
.codicon-find-next-match:before { content: '\ea9a'; }
.codicon-folding-expanded:before { content: '\eab4'; }
.codicon-folding-collapsed:before { content: '\eab6'; }
.codicon-folding-manual-collapsed:before { content: '\eab6'; }
.codicon-folding-manual-expanded:before { content: '\eab4'; }
.codicon-marker-navigation-next:before { content: '\ea9a'; }
.codicon-marker-navigation-previous:before { content: '\eaa1'; }
.codicon-extensions-warning-message:before { content: '\ea6c'; }
.monaco-editor .inputarea.ime-input { background-color: #f7f7f7; }
.monaco-editor .view-overlays .current-line { border: 2px solid #eeeeee; }
.monaco-editor .margin-view-overlays .current-line-margin { border: 2px solid #eeeeee; }
.monaco-editor .bracket-indent-guide.lvl-0 { --guide-color: rgba(4, 49, 250, 0.3); --guide-color-active: #0431fa; }
.monaco-editor .bracket-indent-guide.lvl-1 { --guide-color: rgba(49, 147, 49, 0.3); --guide-color-active: #319331; }
.monaco-editor .bracket-indent-guide.lvl-2 { --guide-color: rgba(123, 56, 20, 0.3); --guide-color-active: #7b3814; }
.monaco-editor .bracket-indent-guide.lvl-3 { --guide-color: rgba(4, 49, 250, 0.3); --guide-color-active: #0431fa; }
.monaco-editor .bracket-indent-guide.lvl-4 { --guide-color: rgba(49, 147, 49, 0.3); --guide-color-active: #319331; }
.monaco-editor .bracket-indent-guide.lvl-5 { --guide-color: rgba(123, 56, 20, 0.3); --guide-color-active: #7b3814; }
.monaco-editor .bracket-indent-guide.lvl-6 { --guide-color: rgba(4, 49, 250, 0.3); --guide-color-active: #0431fa; }
.monaco-editor .bracket-indent-guide.lvl-7 { --guide-color: rgba(49, 147, 49, 0.3); --guide-color-active: #319331; }
.monaco-editor .bracket-indent-guide.lvl-8 { --guide-color: rgba(123, 56, 20, 0.3); --guide-color-active: #7b3814; }
.monaco-editor .bracket-indent-guide.lvl-9 { --guide-color: rgba(4, 49, 250, 0.3); --guide-color-active: #0431fa; }
.monaco-editor .bracket-indent-guide.lvl-10 { --guide-color: rgba(49, 147, 49, 0.3); --guide-color-active: #319331; }
.monaco-editor .bracket-indent-guide.lvl-11 { --guide-color: rgba(123, 56, 20, 0.3); --guide-color-active: #7b3814; }
.monaco-editor .bracket-indent-guide.lvl-12 { --guide-color: rgba(4, 49, 250, 0.3); --guide-color-active: #0431fa; }
.monaco-editor .bracket-indent-guide.lvl-13 { --guide-color: rgba(49, 147, 49, 0.3); --guide-color-active: #319331; }
.monaco-editor .bracket-indent-guide.lvl-14 { --guide-color: rgba(123, 56, 20, 0.3); --guide-color-active: #7b3814; }
.monaco-editor .bracket-indent-guide.lvl-15 { --guide-color: rgba(4, 49, 250, 0.3); --guide-color-active: #0431fa; }
.monaco-editor .bracket-indent-guide.lvl-16 { --guide-color: rgba(49, 147, 49, 0.3); --guide-color-active: #319331; }
.monaco-editor .bracket-indent-guide.lvl-17 { --guide-color: rgba(123, 56, 20, 0.3); --guide-color-active: #7b3814; }
.monaco-editor .bracket-indent-guide.lvl-18 { --guide-color: rgba(4, 49, 250, 0.3); --guide-color-active: #0431fa; }
.monaco-editor .bracket-indent-guide.lvl-19 { --guide-color: rgba(49, 147, 49, 0.3); --guide-color-active: #319331; }
.monaco-editor .bracket-indent-guide.lvl-20 { --guide-color: rgba(123, 56, 20, 0.3); --guide-color-active: #7b3814; }
.monaco-editor .bracket-indent-guide.lvl-21 { --guide-color: rgba(4, 49, 250, 0.3); --guide-color-active: #0431fa; }
.monaco-editor .bracket-indent-guide.lvl-22 { --guide-color: rgba(49, 147, 49, 0.3); --guide-color-active: #319331; }
.monaco-editor .bracket-indent-guide.lvl-23 { --guide-color: rgba(123, 56, 20, 0.3); --guide-color-active: #7b3814; }
.monaco-editor .bracket-indent-guide.lvl-24 { --guide-color: rgba(4, 49, 250, 0.3); --guide-color-active: #0431fa; }
.monaco-editor .bracket-indent-guide.lvl-25 { --guide-color: rgba(49, 147, 49, 0.3); --guide-color-active: #319331; }
.monaco-editor .bracket-indent-guide.lvl-26 { --guide-color: rgba(123, 56, 20, 0.3); --guide-color-active: #7b3814; }
.monaco-editor .bracket-indent-guide.lvl-27 { --guide-color: rgba(4, 49, 250, 0.3); --guide-color-active: #0431fa; }
.monaco-editor .bracket-indent-guide.lvl-28 { --guide-color: rgba(49, 147, 49, 0.3); --guide-color-active: #319331; }
.monaco-editor .bracket-indent-guide.lvl-29 { --guide-color: rgba(123, 56, 20, 0.3); --guide-color-active: #7b3814; }
.monaco-editor .vertical { box-shadow: 1px 0 0 0 var(--guide-color) inset; }
.monaco-editor .horizontal-top { border-top: 1px solid var(--guide-color); }
.monaco-editor .horizontal-bottom { border-bottom: 1px solid var(--guide-color); }
.monaco-editor .vertical.indent-active { box-shadow: 1px 0 0 0 var(--guide-color-active) inset; }
.monaco-editor .horizontal-top.indent-active { border-top: 1px solid var(--guide-color-active); }
.monaco-editor .horizontal-bottom.indent-active { border-bottom: 1px solid var(--guide-color-active); }
.monaco-editor .line-numbers.dimmed-line-number { color: rgba(153, 153, 153, 0.4); }
.monaco-editor .cursors-layer .cursor { background-color: #000000; border-color: #000000; color: #ffffff; }
.monaco-editor .unexpected-closing-bracket { color: rgba(255, 18, 18, 0.8); }
.monaco-editor .bracket-highlighting-0 { color: #0431fa; }
.monaco-editor .bracket-highlighting-1 { color: #319331; }
.monaco-editor .bracket-highlighting-2 { color: #7b3814; }
.monaco-editor .bracket-highlighting-3 { color: #0431fa; }
.monaco-editor .bracket-highlighting-4 { color: #319331; }
.monaco-editor .bracket-highlighting-5 { color: #7b3814; }
.monaco-editor .bracket-highlighting-6 { color: #0431fa; }
.monaco-editor .bracket-highlighting-7 { color: #319331; }
.monaco-editor .bracket-highlighting-8 { color: #7b3814; }
.monaco-editor .bracket-highlighting-9 { color: #0431fa; }
.monaco-editor .bracket-highlighting-10 { color: #319331; }
.monaco-editor .bracket-highlighting-11 { color: #7b3814; }
.monaco-editor .bracket-highlighting-12 { color: #0431fa; }
.monaco-editor .bracket-highlighting-13 { color: #319331; }
.monaco-editor .bracket-highlighting-14 { color: #7b3814; }
.monaco-editor .bracket-highlighting-15 { color: #0431fa; }
.monaco-editor .bracket-highlighting-16 { color: #319331; }
.monaco-editor .bracket-highlighting-17 { color: #7b3814; }
.monaco-editor .bracket-highlighting-18 { color: #0431fa; }
.monaco-editor .bracket-highlighting-19 { color: #319331; }
.monaco-editor .bracket-highlighting-20 { color: #7b3814; }
.monaco-editor .bracket-highlighting-21 { color: #0431fa; }
.monaco-editor .bracket-highlighting-22 { color: #319331; }
.monaco-editor .bracket-highlighting-23 { color: #7b3814; }
.monaco-editor .bracket-highlighting-24 { color: #0431fa; }
.monaco-editor .bracket-highlighting-25 { color: #319331; }
.monaco-editor .bracket-highlighting-26 { color: #7b3814; }
.monaco-editor .bracket-highlighting-27 { color: #0431fa; }
.monaco-editor .bracket-highlighting-28 { color: #319331; }
.monaco-editor .bracket-highlighting-29 { color: #7b3814; }
.monaco-editor .squiggly-error { background: url("data:image/svg+xml,%3Csvg%20xmlns%3D'http%3A%2F%2Fwww.w3.org%2F2000%2Fsvg'%20viewBox%3D'0%200%206%203'%20enable-background%3D'new%200%200%206%203'%20height%3D'3'%20width%3D'6'%3E%3Cg%20fill%3D'%23e51400'%3E%3Cpolygon%20points%3D'5.5%2C0%202.5%2C3%201.1%2C3%204.1%2C0'%2F%3E%3Cpolygon%20points%3D'4%2C0%206%2C2%206%2C0.6%205.4%2C0'%2F%3E%3Cpolygon%20points%3D'0%2C2%201%2C3%202.4%2C3%200%2C0.6'%2F%3E%3C%2Fg%3E%3C%2Fsvg%3E") repeat-x bottom left; }
.monaco-editor .squiggly-warning { background: url("data:image/svg+xml,%3Csvg%20xmlns%3D'http%3A%2F%2Fwww.w3.org%2F2000%2Fsvg'%20viewBox%3D'0%200%206%203'%20enable-background%3D'new%200%200%206%203'%20height%3D'3'%20width%3D'6'%3E%3Cg%20fill%3D'%23bf8803'%3E%3Cpolygon%20points%3D'5.5%2C0%202.5%2C3%201.1%2C3%204.1%2C0'%2F%3E%3Cpolygon%20points%3D'4%2C0%206%2C2%206%2C0.6%205.4%2C0'%2F%3E%3Cpolygon%20points%3D'0%2C2%201%2C3%202.4%2C3%200%2C0.6'%2F%3E%3C%2Fg%3E%3C%2Fsvg%3E") repeat-x bottom left; }
.monaco-editor .squiggly-info { background: url("data:image/svg+xml,%3Csvg%20xmlns%3D'http%3A%2F%2Fwww.w3.org%2F2000%2Fsvg'%20viewBox%3D'0%200%206%203'%20enable-background%3D'new%200%200%206%203'%20height%3D'3'%20width%3D'6'%3E%3Cg%20fill%3D'%231a85ff'%3E%3Cpolygon%20points%3D'5.5%2C0%202.5%2C3%201.1%2C3%204.1%2C0'%2F%3E%3Cpolygon%20points%3D'4%2C0%206%2C2%206%2C0.6%205.4%2C0'%2F%3E%3Cpolygon%20points%3D'0%2C2%201%2C3%202.4%2C3%200%2C0.6'%2F%3E%3C%2Fg%3E%3C%2Fsvg%3E") repeat-x bottom left; }
.monaco-editor .squiggly-hint { background: url("data:image/svg+xml,%3Csvg%20xmlns%3D%22http%3A%2F%2Fwww.w3.org%2F2000%2Fsvg%22%20height%3D%223%22%20width%3D%2212%22%3E%3Cg%20fill%3D%22%236c6c6c%22%3E%3Ccircle%20cx%3D%221%22%20cy%3D%221%22%20r%3D%221%22%2F%3E%3Ccircle%20cx%3D%225%22%20cy%3D%221%22%20r%3D%221%22%2F%3E%3Ccircle%20cx%3D%229%22%20cy%3D%221%22%20r%3D%221%22%2F%3E%3C%2Fg%3E%3C%2Fsvg%3E") no-repeat bottom left; }
.monaco-editor.showUnused .squiggly-inline-unnecessary { opacity: 0.467; }
.monaco-editor .selectionHighlight { background-color: rgba(173, 214, 255, 0.15); }

	.monaco-editor .diagonal-fill {
		background-image: linear-gradient(
			-45deg,
			rgba(34, 34, 34, 0.2) 12.5%,
			#0000 12.5%, #0000 50%,
			rgba(34, 34, 34, 0.2) 50%, rgba(34, 34, 34, 0.2) 62.5%,
			#0000 62.5%, #0000 100%
		);
		background-size: 8px 8px;
	}
	
.monaco-editor .findMatch { background-color: rgba(234, 92, 0, 0.33); }
.monaco-editor .currentFindMatch { background-color: #a8ac94; }
.monaco-editor .findScope { background-color: rgba(180, 180, 180, 0.3); }
.monaco-editor .find-widget { background-color: #f3f3f3; }
.monaco-editor .find-widget { box-shadow: 0 0 8px 2px rgba(0, 0, 0, 0.16); }
.monaco-editor .find-widget { color: #616161; }
.monaco-editor .find-widget.no-results .matchesCount { color: #a1260d; }
.monaco-editor .find-widget .monaco-sash { background-color: #c8c8c8; }

		.monaco-editor .find-widget .button:not(.disabled):hover,
		.monaco-editor .find-widget .codicon-find-selection:hover {
			background-color: rgba(184, 184, 184, 0.31) !important;
		}
	
.monaco-editor .find-widget .monaco-inputbox.synthetic-focus { outline-color: #0090f1; }
.monaco-editor .monaco-hover .hover-row:not(:first-child):not(:empty) { border-top: 1px solid rgba(200, 200, 200, 0.5); }
.monaco-editor .monaco-hover hr { border-top: 1px solid rgba(200, 200, 200, 0.5); }
.monaco-editor .monaco-hover hr { border-bottom: 0px solid rgba(200, 200, 200, 0.5); }
.monaco-editor { --vscode-foreground: #616161;
--vscode-disabledForeground: rgba(97, 97, 97, 0.5);
--vscode-errorForeground: #a1260d;
--vscode-descriptionForeground: #717171;
--vscode-icon-foreground: #424242;
--vscode-focusBorder: #0090f1;
--vscode-textSeparator-foreground: rgba(0, 0, 0, 0.18);
--vscode-textLink-foreground: #006ab1;
--vscode-textLink-activeForeground: #006ab1;
--vscode-textPreformat-foreground: #a31515;
--vscode-textBlockQuote-background: rgba(127, 127, 127, 0.1);
--vscode-textBlockQuote-border: rgba(0, 122, 204, 0.5);
--vscode-textCodeBlock-background: rgba(220, 220, 220, 0.4);
--vscode-widget-shadow: rgba(0, 0, 0, 0.16);
--vscode-input-background: #ffffff;
--vscode-input-foreground: #616161;
--vscode-inputOption-activeBorder: #007acc;
--vscode-inputOption-hoverBackground: rgba(184, 184, 184, 0.31);
--vscode-inputOption-activeBackground: rgba(0, 144, 241, 0.2);
--vscode-inputOption-activeForeground: #000000;
--vscode-input-placeholderForeground: rgba(97, 97, 97, 0.5);
--vscode-inputValidation-infoBackground: #d6ecf2;
--vscode-inputValidation-infoBorder: #007acc;
--vscode-inputValidation-warningBackground: #f6f5d2;
--vscode-inputValidation-warningBorder: #b89500;
--vscode-inputValidation-errorBackground: #f2dede;
--vscode-inputValidation-errorBorder: #be1100;
--vscode-dropdown-background: #ffffff;
--vscode-dropdown-foreground: #616161;
--vscode-dropdown-border: #cecece;
--vscode-button-foreground: #ffffff;
--vscode-button-separator: rgba(255, 255, 255, 0.4);
--vscode-button-background: #007acc;
--vscode-button-hoverBackground: #0062a3;
--vscode-button-secondaryForeground: #ffffff;
--vscode-button-secondaryBackground: #5f6a79;
--vscode-button-secondaryHoverBackground: #4c5561;
--vscode-badge-background: #c4c4c4;
--vscode-badge-foreground: #333333;
--vscode-scrollbar-shadow: #dddddd;
--vscode-scrollbarSlider-background: rgba(100, 100, 100, 0.4);
--vscode-scrollbarSlider-hoverBackground: rgba(100, 100, 100, 0.7);
--vscode-scrollbarSlider-activeBackground: rgba(0, 0, 0, 0.6);
--vscode-progressBar-background: #0e70c0;
--vscode-editorError-foreground: #e51400;
--vscode-editorWarning-foreground: #bf8803;
--vscode-editorInfo-foreground: #1a85ff;
--vscode-editorHint-foreground: #6c6c6c;
--vscode-sash-hoverBorder: #0090f1;
--vscode-editor-background: #f7f7f7;
--vscode-editor-foreground: #000000;
--vscode-editorStickyScroll-background: #f7f7f7;
--vscode-editorStickyScrollHover-background: #f0f0f0;
--vscode-editorWidget-background: #f3f3f3;
--vscode-editorWidget-foreground: #616161;
--vscode-editorWidget-border: #c8c8c8;
--vscode-quickInput-background: #f3f3f3;
--vscode-quickInput-foreground: #616161;
--vscode-quickInputTitle-background: rgba(0, 0, 0, 0.06);
--vscode-pickerGroup-foreground: #0066bf;
--vscode-pickerGroup-border: #cccedb;
--vscode-keybindingLabel-background: rgba(221, 221, 221, 0.4);
--vscode-keybindingLabel-foreground: #555555;
--vscode-keybindingLabel-border: rgba(204, 204, 204, 0.4);
--vscode-keybindingLabel-bottomBorder: rgba(187, 187, 187, 0.4);
--vscode-editor-selectionBackground: #add6ff;
--vscode-editor-inactiveSelectionBackground: #e5ebf1;
--vscode-editor-selectionHighlightBackground: rgba(173, 214, 255, 0.3);
--vscode-editor-findMatchBackground: #a8ac94;
--vscode-editor-findMatchHighlightBackground: rgba(234, 92, 0, 0.33);
--vscode-editor-findRangeHighlightBackground: rgba(180, 180, 180, 0.3);
--vscode-searchEditor-findMatchBackground: rgba(234, 92, 0, 0.22);
--vscode-search-resultsInfoForeground: #616161;
--vscode-editor-hoverHighlightBackground: rgba(173, 214, 255, 0.15);
--vscode-editorHoverWidget-background: #f3f3f3;
--vscode-editorHoverWidget-foreground: #616161;
--vscode-editorHoverWidget-border: #c8c8c8;
--vscode-editorHoverWidget-statusBarBackground: #e7e7e7;
--vscode-editorLink-activeForeground: #0000ff;
--vscode-editorInlayHint-foreground: #616161;
--vscode-editorInlayHint-background: rgba(196, 196, 196, 0.3);
--vscode-editorInlayHint-typeForeground: #616161;
--vscode-editorInlayHint-typeBackground: rgba(196, 196, 196, 0.3);
--vscode-editorInlayHint-parameterForeground: #616161;
--vscode-editorInlayHint-parameterBackground: rgba(196, 196, 196, 0.3);
--vscode-editorLightBulb-foreground: #ddb100;
--vscode-editorLightBulbAutoFix-foreground: #007acc;
--vscode-diffEditor-insertedTextBackground: #aceebb;
--vscode-diffEditor-removedTextBackground: #ffcecb;
--vscode-diffEditor-insertedLineBackground: #dafbe1;
--vscode-diffEditor-removedLineBackground: #ffebe9;
--vscode-diffEditor-diagonalFill: rgba(34, 34, 34, 0.2);
--vscode-diffEditor-unchangedRegionBackground: #e4e4e4;
--vscode-diffEditor-unchangedRegionForeground: #4d4c4c;
--vscode-diffEditor-unchangedCodeBackground: rgba(184, 184, 184, 0.16);
--vscode-list-focusOutline: #0090f1;
--vscode-list-activeSelectionBackground: #d6ebff;
--vscode-list-activeSelectionForeground: #000000;
--vscode-list-inactiveSelectionBackground: #e4e6f1;
--vscode-list-hoverBackground: #f0f0f0;
--vscode-list-dropBackground: #d6ebff;
--vscode-list-highlightForeground: #0066bf;
--vscode-list-focusHighlightForeground: #0066bf;
--vscode-list-invalidItemForeground: #b89500;
--vscode-list-errorForeground: #b01011;
--vscode-list-warningForeground: #855f00;
--vscode-listFilterWidget-background: #f3f3f3;
--vscode-listFilterWidget-outline: rgba(0, 0, 0, 0);
--vscode-listFilterWidget-noMatchesOutline: #be1100;
--vscode-listFilterWidget-shadow: rgba(0, 0, 0, 0.16);
--vscode-list-filterMatchBackground: rgba(234, 92, 0, 0.33);
--vscode-tree-indentGuidesStroke: #a9a9a9;
--vscode-tree-inactiveIndentGuidesStroke: rgba(169, 169, 169, 0.4);
--vscode-tree-tableColumnsBorder: rgba(97, 97, 97, 0.13);
--vscode-tree-tableOddRowsBackground: rgba(97, 97, 97, 0.04);
--vscode-list-deemphasizedForeground: #8e8e90;
--vscode-checkbox-background: #ffffff;
--vscode-checkbox-selectBackground: #f3f3f3;
--vscode-checkbox-foreground: #616161;
--vscode-checkbox-border: #cecece;
--vscode-checkbox-selectBorder: #424242;
--vscode-quickInputList-focusForeground: #000000;
--vscode-quickInputList-focusBackground: #d6ebff;
--vscode-menu-foreground: #616161;
--vscode-menu-background: #ffffff;
--vscode-menu-selectionForeground: #000000;
--vscode-menu-selectionBackground: #d6ebff;
--vscode-menu-separatorBackground: #d4d4d4;
--vscode-toolbar-hoverBackground: rgba(184, 184, 184, 0.31);
--vscode-toolbar-activeBackground: rgba(166, 166, 166, 0.31);
--vscode-editor-snippetTabstopHighlightBackground: rgba(10, 50, 100, 0.2);
--vscode-editor-snippetFinalTabstopHighlightBorder: rgba(10, 50, 100, 0.5);
--vscode-breadcrumb-foreground: rgba(97, 97, 97, 0.8);
--vscode-breadcrumb-background: #f7f7f7;
--vscode-breadcrumb-focusForeground: #4e4e4e;
--vscode-breadcrumb-activeSelectionForeground: #4e4e4e;
--vscode-breadcrumbPicker-background: #f3f3f3;
--vscode-merge-currentHeaderBackground: rgba(64, 200, 174, 0.5);
--vscode-merge-currentContentBackground: rgba(64, 200, 174, 0.2);
--vscode-merge-incomingHeaderBackground: rgba(64, 166, 255, 0.5);
--vscode-merge-incomingContentBackground: rgba(64, 166, 255, 0.2);
--vscode-merge-commonHeaderBackground: rgba(96, 96, 96, 0.4);
--vscode-merge-commonContentBackground: rgba(96, 96, 96, 0.16);
--vscode-editorOverviewRuler-currentContentForeground: rgba(64, 200, 174, 0.5);
--vscode-editorOverviewRuler-incomingContentForeground: rgba(64, 166, 255, 0.5);
--vscode-editorOverviewRuler-commonContentForeground: rgba(96, 96, 96, 0.4);
--vscode-editorOverviewRuler-findMatchForeground: rgba(209, 134, 22, 0.49);
--vscode-editorOverviewRuler-selectionHighlightForeground: rgba(0, 0, 0, 0);
--vscode-minimap-findMatchHighlight: #d18616;
--vscode-minimap-selectionOccurrenceHighlight: #c9c9c9;
--vscode-minimap-selectionHighlight: #add6ff;
--vscode-minimap-errorHighlight: rgba(255, 18, 18, 0.7);
--vscode-minimap-warningHighlight: #bf8803;
--vscode-minimap-foregroundOpacity: #000000;
--vscode-minimapSlider-background: rgba(100, 100, 100, 0.2);
--vscode-minimapSlider-hoverBackground: rgba(100, 100, 100, 0.35);
--vscode-minimapSlider-activeBackground: rgba(0, 0, 0, 0.3);
--vscode-problemsErrorIcon-foreground: #e51400;
--vscode-problemsWarningIcon-foreground: #bf8803;
--vscode-problemsInfoIcon-foreground: #1a85ff;
--vscode-charts-foreground: #616161;
--vscode-charts-lines: rgba(97, 97, 97, 0.5);
--vscode-charts-red: #e51400;
--vscode-charts-blue: #1a85ff;
--vscode-charts-yellow: #bf8803;
--vscode-charts-orange: #d18616;
--vscode-charts-green: #388a34;
--vscode-charts-purple: #652d90;
--vscode-symbolIcon-arrayForeground: #616161;
--vscode-symbolIcon-booleanForeground: #616161;
--vscode-symbolIcon-classForeground: #d67e00;
--vscode-symbolIcon-colorForeground: #616161;
--vscode-symbolIcon-constantForeground: #616161;
--vscode-symbolIcon-constructorForeground: #652d90;
--vscode-symbolIcon-enumeratorForeground: #d67e00;
--vscode-symbolIcon-enumeratorMemberForeground: #007acc;
--vscode-symbolIcon-eventForeground: #d67e00;
--vscode-symbolIcon-fieldForeground: #007acc;
--vscode-symbolIcon-fileForeground: #616161;
--vscode-symbolIcon-folderForeground: #616161;
--vscode-symbolIcon-functionForeground: #652d90;
--vscode-symbolIcon-interfaceForeground: #007acc;
--vscode-symbolIcon-keyForeground: #616161;
--vscode-symbolIcon-keywordForeground: #616161;
--vscode-symbolIcon-methodForeground: #652d90;
--vscode-symbolIcon-moduleForeground: #616161;
--vscode-symbolIcon-namespaceForeground: #616161;
--vscode-symbolIcon-nullForeground: #616161;
--vscode-symbolIcon-numberForeground: #616161;
--vscode-symbolIcon-objectForeground: #616161;
--vscode-symbolIcon-operatorForeground: #616161;
--vscode-symbolIcon-packageForeground: #616161;
--vscode-symbolIcon-propertyForeground: #616161;
--vscode-symbolIcon-referenceForeground: #616161;
--vscode-symbolIcon-snippetForeground: #616161;
--vscode-symbolIcon-stringForeground: #616161;
--vscode-symbolIcon-structForeground: #616161;
--vscode-symbolIcon-textForeground: #616161;
--vscode-symbolIcon-typeParameterForeground: #616161;
--vscode-symbolIcon-unitForeground: #616161;
--vscode-symbolIcon-variableForeground: #007acc;
--vscode-editor-lineHighlightBorder: #eeeeee;
--vscode-editor-rangeHighlightBackground: rgba(253, 255, 0, 0.2);
--vscode-editor-symbolHighlightBackground: rgba(234, 92, 0, 0.33);
--vscode-editorCursor-foreground: #000000;
--vscode-editorWhitespace-foreground: rgba(51, 51, 51, 0.2);
--vscode-editorIndentGuide-background: #d3d3d3;
--vscode-editorIndentGuide-activeBackground: #939393;
--vscode-editorLineNumber-foreground: #999999;
--vscode-editorActiveLineNumber-foreground: #0b216f;
--vscode-editorLineNumber-activeForeground: #0b216f;
--vscode-editorRuler-foreground: #d3d3d3;
--vscode-editorCodeLens-foreground: #919191;
--vscode-editorBracketMatch-background: rgba(0, 100, 0, 0.1);
--vscode-editorBracketMatch-border: #b9b9b9;
--vscode-editorOverviewRuler-border: rgba(127, 127, 127, 0.3);
--vscode-editorGutter-background: #f7f7f7;
--vscode-editorUnnecessaryCode-opacity: rgba(0, 0, 0, 0.47);
--vscode-editorGhostText-foreground: rgba(0, 0, 0, 0.47);
--vscode-editorOverviewRuler-rangeHighlightForeground: rgba(0, 122, 204, 0.6);
--vscode-editorOverviewRuler-errorForeground: rgba(255, 18, 18, 0.7);
--vscode-editorOverviewRuler-warningForeground: #bf8803;
--vscode-editorOverviewRuler-infoForeground: #1a85ff;
--vscode-editorBracketHighlight-foreground1: #0431fa;
--vscode-editorBracketHighlight-foreground2: #319331;
--vscode-editorBracketHighlight-foreground3: #7b3814;
--vscode-editorBracketHighlight-foreground4: rgba(0, 0, 0, 0);
--vscode-editorBracketHighlight-foreground5: rgba(0, 0, 0, 0);
--vscode-editorBracketHighlight-foreground6: rgba(0, 0, 0, 0);
--vscode-editorBracketHighlight-unexpectedBracket-foreground: rgba(255, 18, 18, 0.8);
--vscode-editorBracketPairGuide-background1: rgba(0, 0, 0, 0);
--vscode-editorBracketPairGuide-background2: rgba(0, 0, 0, 0);
--vscode-editorBracketPairGuide-background3: rgba(0, 0, 0, 0);
--vscode-editorBracketPairGuide-background4: rgba(0, 0, 0, 0);
--vscode-editorBracketPairGuide-background5: rgba(0, 0, 0, 0);
--vscode-editorBracketPairGuide-background6: rgba(0, 0, 0, 0);
--vscode-editorBracketPairGuide-activeBackground1: rgba(0, 0, 0, 0);
--vscode-editorBracketPairGuide-activeBackground2: rgba(0, 0, 0, 0);
--vscode-editorBracketPairGuide-activeBackground3: rgba(0, 0, 0, 0);
--vscode-editorBracketPairGuide-activeBackground4: rgba(0, 0, 0, 0);
--vscode-editorBracketPairGuide-activeBackground5: rgba(0, 0, 0, 0);
--vscode-editorBracketPairGuide-activeBackground6: rgba(0, 0, 0, 0);
--vscode-editorUnicodeHighlight-border: #cea33d;
--vscode-editorUnicodeHighlight-background: rgba(206, 163, 61, 0.08);
--vscode-editorOverviewRuler-bracketMatchForeground: #a0a0a0;
--vscode-editor-linkedEditingBackground: rgba(255, 0, 0, 0.3);
--vscode-editor-wordHighlightBackground: rgba(87, 87, 87, 0.25);
--vscode-editor-wordHighlightStrongBackground: #d6ebff;
--vscode-editor-wordHighlightTextBackground: rgba(173, 214, 255, 0.45);
--vscode-editorOverviewRuler-wordHighlightForeground: rgba(160, 160, 160, 0.8);
--vscode-editorOverviewRuler-wordHighlightStrongForeground: rgba(192, 160, 192, 0.8);
--vscode-editorOverviewRuler-wordHighlightTextForeground: rgba(0, 0, 0, 0);
--vscode-peekViewTitle-background: #f3f3f3;
--vscode-peekViewTitleLabel-foreground: #000000;
--vscode-peekViewTitleDescription-foreground: #616161;
--vscode-peekView-border: #1a85ff;
--vscode-peekViewResult-background: #f3f3f3;
--vscode-peekViewResult-lineForeground: #646465;
--vscode-peekViewResult-fileForeground: #1e1e1e;
--vscode-peekViewResult-selectionBackground: rgba(51, 153, 255, 0.2);
--vscode-peekViewResult-selectionForeground: #6c6c6c;
--vscode-peekViewEditor-background: #f2f8fc;
--vscode-peekViewEditorGutter-background: #f2f8fc;
--vscode-peekViewEditorStickyScroll-background: #f2f8fc;
--vscode-peekViewResult-matchHighlightBackground: rgba(234, 92, 0, 0.3);
--vscode-peekViewEditor-matchHighlightBackground: rgba(245, 216, 2, 0.87);
--vscode-editorMarkerNavigationError-background: #e51400;
--vscode-editorMarkerNavigationError-headerBackground: rgba(229, 20, 0, 0.1);
--vscode-editorMarkerNavigationWarning-background: #bf8803;
--vscode-editorMarkerNavigationWarning-headerBackground: rgba(191, 136, 3, 0.1);
--vscode-editorMarkerNavigationInfo-background: #1a85ff;
--vscode-editorMarkerNavigationInfo-headerBackground: rgba(26, 133, 255, 0.1);
--vscode-editorMarkerNavigation-background: #f7f7f7;
--vscode-editorHoverWidget-highlightForeground: #0066bf;
--vscode-editorSuggestWidget-background: #f3f3f3;
--vscode-editorSuggestWidget-border: #c8c8c8;
--vscode-editorSuggestWidget-foreground: #000000;
--vscode-editorSuggestWidget-selectedForeground: #000000;
--vscode-editorSuggestWidget-selectedBackground: #d6ebff;
--vscode-editorSuggestWidget-highlightForeground: #0066bf;
--vscode-editorSuggestWidget-focusHighlightForeground: #0066bf;
--vscode-editorSuggestWidgetStatus-foreground: rgba(0, 0, 0, 0.5);
--vscode-editor-foldBackground: rgba(173, 214, 255, 0.3);
--vscode-editorGutter-foldingControlForeground: #424242; }

.mtk1 { color: #000000; }
.mtk2 { color: #f7f7f7; }
.mtk3 { color: #808080; }
.mtk4 { color: #ff0000; }
.mtk5 { color: #0451a5; }
.mtk6 { color: #0000ff; }
.mtk7 { color: #098658; }
.mtk8 { color: #008000; }
.mtk9 { color: #dd0000; }
.mtk10 { color: #811f3f; }
.mtk11 { color: #a53434; }
.mtk12 { color: #116644; }
.mtk13 { color: #383838; }
.mtk14 { color: #257693; }
.mtk15 { color: #6a5221; }
.mtk16 { color: #001080; }
.mtk17 { color: #cd3131; }
.mtk18 { color: #863b00; }
.mtk19 { color: #9723b4; }
.mtk20 { color: #af00db; }
.mtk21 { color: #a31515; }
.mtk22 { color: #800000; }
.mtk23 { color: #e00000; }
.mtk24 { color: #3030c0; }
.mtk25 { color: #666666; }
.mtk26 { color: #778899; }
.mtk27 { color: #c700c7; }
.mtk28 { color: #4f76ac; }
.mtk29 { color: #008080; }
.mtk30 { color: #001188; }
.mtk31 { color: #4864aa; }
.mtki { font-style: italic; }
.mtkb { font-weight: bold; }
.mtku { text-decoration: underline; text-underline-position: under; }
.mtks { text-decoration: line-through; }
.mtks.mtku { text-decoration: underline line-through; text-underline-position: under; }</style><script async="async" type="text/javascript" src="./KNN &amp; PCA Assignment_files/markdown.js.download"></script></head><body class="" style="overscroll-behavior: contain;"><div style="visibility: hidden; overflow: hidden; position: absolute; top: 0px; height: 1px; width: auto; padding: 0px; border: 0px; margin: 0px; text-align: left; text-indent: 0px; text-transform: none; line-height: normal; letter-spacing: normal; word-spacing: normal;"><div id="MathJax_Hidden"></div></div><div id="MathJax_Message" style="display: none;"></div><div class="scripts"><script nonce="">window.performance.mark('external_scripts_start');</script><script src="./KNN &amp; PCA Assignment_files/gapi_loader.js.download" nonce=""></script><script src="./KNN &amp; PCA Assignment_files/socketio_binary.js.download" nonce=""></script><script src="./KNN &amp; PCA Assignment_files/analytics_binary.js.download" nonce=""></script><script src="./KNN &amp; PCA Assignment_files/MathJax.js.download" nonce=""></script><script src="./KNN &amp; PCA Assignment_files/js_monaco_editor_vs_loader.js.download" nonce=""></script><script nonce="">window.performance.mark('external_scripts_end'); window.performance.measure('external_scripts', 'external_scripts_start', 'external_scripts_end'); window.performance.mark('colab_load_start');</script><script src="./KNN &amp; PCA Assignment_files/external_binary.js.download" nonce=""></script><script nonce="">
          window.performance.mark('colab_load_end');
          window.performance.measure('colab_load', 'colab_load_start', 'colab_load_end');
        </script></div><colab-snackbar leading="" labeltext="" id="message-area" class="message-area"><template shadowrootmode="open"><!----><style>
        :host .mdc-snackbar {
          z-index: var(--colab-above-dialog-z-index);
        }

        :host .mdc-snackbar__surface {
          background-color: var(--colab-inverse-surface-color);
        }

        :host .mdc-snackbar__label {
          color: var(--colab-inverse-on-surface-color);
        }
      </style>
      <!--?lit$764029187$-->
      <div class="mdc-snackbar mdc-snackbar--leading">
        <div class="mdc-snackbar__surface">
          <!--?lit$764029187$-->
          <div class="mdc-snackbar__actions">
            <slot name="action"></slot>
            <slot name="dismiss"></slot>
          </div>
        </div>
      </div><!--?--></template>
      <md-icon-button class="close" slot="dismiss" title="Close" data-aria-label="Close" value=""><template shadowrootmode="open" shadowrootdelegatesfocus><!----><button id="button" class="icon-button  standard " aria-label="Close">
        <!--?lit$764029187$--><md-focus-ring part="focus-ring" for="button" aria-hidden="true"><template shadowrootmode="open"><!----></template></md-focus-ring>
        <!--?lit$764029187$--><md-ripple aria-hidden="true"><template shadowrootmode="open"><!----><div class="surface   "></div></template></md-ripple>
        <!--?lit$764029187$--><span class="icon"><slot></slot></span>
        <!--?lit$764029187$-->
        <!--?lit$764029187$--><span class="touch"></span>
  </button></template>
        <md-icon aria-hidden="true"><template shadowrootmode="open"><!----><slot></slot></template>close</md-icon>
      </md-icon-button>
    </colab-snackbar><colab-snackbar leading="" labeltext="" id="message-area-secondary" class="message-area startup"><template shadowrootmode="open"><!----><style>
        :host .mdc-snackbar {
          z-index: var(--colab-above-dialog-z-index);
        }

        :host .mdc-snackbar__surface {
          background-color: var(--colab-inverse-surface-color);
        }

        :host .mdc-snackbar__label {
          color: var(--colab-inverse-on-surface-color);
        }
      </style>
      <!--?lit$764029187$-->
      <div class="mdc-snackbar mdc-snackbar--leading">
        <div class="mdc-snackbar__surface">
          <!--?lit$764029187$--><div class="mdc-snackbar__label" role="status" aria-live="polite">Loading...</div>
          <div class="mdc-snackbar__actions">
            <slot name="action"></slot>
            <slot name="dismiss"></slot>
          </div>
        </div>
      </div><!--?--></template>
      <md-icon-button class="close" slot="dismiss" title="Close" data-aria-label="Close" value=""><template shadowrootmode="open" shadowrootdelegatesfocus><!----><button id="button" class="icon-button  standard " aria-label="Close">
        <!--?lit$764029187$--><md-focus-ring part="focus-ring" for="button" aria-hidden="true"><template shadowrootmode="open"><!----></template></md-focus-ring>
        <!--?lit$764029187$--><md-ripple aria-hidden="true"><template shadowrootmode="open"><!----><div class="surface   "></div></template></md-ripple>
        <!--?lit$764029187$--><span class="icon"><slot></slot></span>
        <!--?lit$764029187$-->
        <!--?lit$764029187$--><span class="touch"></span>
  </button></template>
        <md-icon aria-hidden="true"><template shadowrootmode="open"><!----><slot></slot></template>close</md-icon>
      </md-icon-button>
    </colab-snackbar><div ng-non-bindable=""></div><div class="gb_S" ng-non-bindable=""><div class="gb_Cc"><div>Google Account</div><div class="gb_g">kuldeep rajput</div><div>rjptkuldeep99@gmail.com</div><div class="gb_Dc"></div></div></div><script nonce="">this.gbar_=this.gbar_||{};(function(_){var window=this;
try{
var Id;Id=class extends _.rd{};_.Jd=function(a,b){if(b in a.i)return a.i[b];throw new Id;};_.Kd=function(a){return _.Jd(_.od.i(),a)};
}catch(e){_._DumpException(e)}
try{
/*

 Copyright Google LLC
 SPDX-License-Identifier: Apache-2.0
*/
var Nd;_.Ld=function(a){const b=a.length;if(b>0){const c=Array(b);for(let d=0;d<b;d++)c[d]=a[d];return c}return[]};Nd=function(a){return new _.Md(b=>b.substr(0,a.length+1).toLowerCase()===a+":")};_.Od=globalThis.trustedTypes;_.Pd=class{constructor(a){this.i=a}toString(){return this.i}};_.Qd=new _.Pd("about:invalid#zClosurez");_.Md=class{constructor(a){this.Th=a}};_.Rd=[Nd("data"),Nd("http"),Nd("https"),Nd("mailto"),Nd("ftp"),new _.Md(a=>/^[^:]*([/?#]|$)/.test(a))];_.Sd=class{constructor(a){this.i=a}toString(){return this.i+""}};_.Td=new _.Sd(_.Od?_.Od.emptyHTML:"");
}catch(e){_._DumpException(e)}
try{
var Xd,ie,Wd,Yd,ce;_.Ud=function(a){if(a==null)return a;if(typeof a==="string"&&a)a=+a;else if(typeof a!=="number")return;return(0,_.Na)(a)?a|0:void 0};_.Vd=function(a,b){return a.lastIndexOf(b,0)==0};Xd=function(){let a=null;if(!Wd)return a;try{const b=c=>c;a=Wd.createPolicy("ogb-qtm#html",{createHTML:b,createScript:b,createScriptURL:b})}catch(b){}return a};_.Zd=function(){Yd===void 0&&(Yd=Xd());return Yd};_.ae=function(a){const b=_.Zd();a=b?b.createScriptURL(a):a;return new _.$d(a)};
_.be=function(a){if(a instanceof _.$d)return a.i;throw Error("x");};_.de=function(a){if(ce.test(a))return a};_.ee=function(a){if(a instanceof _.Pd)if(a instanceof _.Pd)a=a.i;else throw Error("x");else a=_.de(a);return a};_.fe=function(a,b=document){let c;const d=(c=b.querySelector)==null?void 0:c.call(b,`${a}[nonce]`);return d==null?"":d.nonce||d.getAttribute("nonce")||""};_.S=function(a,b,c){return _.Ma(_.Lc(a,b,c,_.Kc))};_.ge=function(a,b){return _.Ud(_.Lc(a,b,void 0,_.Kc))};
_.he=function(a){var b=_.Ka(a);return b=="array"||b=="object"&&typeof a.length=="number"};Wd=_.Od;_.$d=class{constructor(a){this.i=a}toString(){return this.i+""}};ce=/^\s*(?!javascript:)(?:[\w+.-]+:|[^:/?#]*(?:[/?#]|$))/i;var oe,se,je;_.le=function(a){return a?new je(_.ke(a)):ie||(ie=new je)};_.me=function(a,b){return typeof b==="string"?a.getElementById(b):b};_.T=function(a,b){var c=b||document;c.getElementsByClassName?a=c.getElementsByClassName(a)[0]:(c=document,a=a?(b||c).querySelector(a?"."+a:""):_.ne(c,"*",a,b)[0]||null);return a||null};_.ne=function(a,b,c,d){a=d||a;return(b=b&&b!="*"?String(b).toUpperCase():"")||c?a.querySelectorAll(b+(c?"."+c:"")):a.getElementsByTagName("*")};
_.pe=function(a,b){_.Bb(b,function(c,d){d=="style"?a.style.cssText=c:d=="class"?a.className=c:d=="for"?a.htmlFor=c:oe.hasOwnProperty(d)?a.setAttribute(oe[d],c):_.Vd(d,"aria-")||_.Vd(d,"data-")?a.setAttribute(d,c):a[d]=c})};oe={cellpadding:"cellPadding",cellspacing:"cellSpacing",colspan:"colSpan",frameborder:"frameBorder",height:"height",maxlength:"maxLength",nonce:"nonce",role:"role",rowspan:"rowSpan",type:"type",usemap:"useMap",valign:"vAlign",width:"width"};
_.qe=function(a){return a?a.defaultView:window};_.te=function(a,b){const c=b[1],d=_.re(a,String(b[0]));c&&(typeof c==="string"?d.className=c:Array.isArray(c)?d.className=c.join(" "):_.pe(d,c));b.length>2&&se(a,d,b);return d};se=function(a,b,c){function d(e){e&&b.appendChild(typeof e==="string"?a.createTextNode(e):e)}for(let e=2;e<c.length;e++){const f=c[e];!_.he(f)||_.Lb(f)&&f.nodeType>0?d(f):_.bc(f&&typeof f.length=="number"&&typeof f.item=="function"?_.Ld(f):f,d)}};
_.ue=function(a){return _.re(document,a)};_.re=function(a,b){b=String(b);a.contentType==="application/xhtml+xml"&&(b=b.toLowerCase());return a.createElement(b)};_.ve=function(a){let b;for(;b=a.firstChild;)a.removeChild(b)};_.we=function(a){return a&&a.parentNode?a.parentNode.removeChild(a):null};_.xe=function(a,b){return a&&b?a==b||a.contains(b):!1};_.ke=function(a){return a.nodeType==9?a:a.ownerDocument||a.document};je=function(a){this.i=a||_.t.document||document};_.n=je.prototype;
_.n.H=function(a){return _.me(this.i,a)};_.n.Pa=function(a,b,c){return _.te(this.i,arguments)};_.n.appendChild=function(a,b){a.appendChild(b)};_.n.Je=_.ve;_.n.ng=_.we;_.n.mg=_.xe;
}catch(e){_._DumpException(e)}
try{
_.Mi=function(a){const b=_.fe("script",a.ownerDocument);b&&a.setAttribute("nonce",b)};_.Ni=function(a){if(!a)return null;a=_.I(a,4);var b;a===null||a===void 0?b=null:b=_.ae(a);return b};_.Oi=function(a,b,c){a=a.fa;return _.zb(a,a[_.v]|0,b,c)!==void 0};_.Pi=class extends _.O{constructor(a){super(a)}};_.Qi=function(a,b){return(b||document).getElementsByTagName(String(a))};
}catch(e){_._DumpException(e)}
try{
var Si=function(a,b,c){a<b?Ri(a+1,b):_.Yc.log(Error("W`"+a+"`"+b),{url:c})},Ri=function(a,b){if(Ti){const c=_.ue("SCRIPT");c.async=!0;c.type="text/javascript";c.charset="UTF-8";c.src=_.be(Ti);_.Mi(c);c.onerror=_.Ob(Si,a,b,c.src);_.Qi("HEAD")[0].appendChild(c)}},Ui=class extends _.O{constructor(a){super(a)}};var Vi=_.C(_.id,Ui,17)||new Ui,Wi,Ti=(Wi=_.C(Vi,_.Pi,1))?_.Ni(Wi):null,Xi,Yi=(Xi=_.C(Vi,_.Pi,2))?_.Ni(Xi):null,Zi=function(){Ri(1,2);if(Yi){const a=_.ue("LINK");a.setAttribute("type","text/css");a.href=_.be(Yi).toString();a.rel="stylesheet";let b=_.fe("style",document);b&&a.setAttribute("nonce",b);_.Qi("HEAD")[0].appendChild(a)}};(function(){const a=_.jd();if(_.S(a,18))Zi();else{const b=_.ge(a,19)||0;window.addEventListener("load",()=>{window.setTimeout(Zi,b)})}})();
}catch(e){_._DumpException(e)}
})(this.gbar_);
// Google Inc.
</script><div style="position: absolute; width: 0px; height: 0px; overflow: hidden; padding: 0px; border: 0px; margin: 0px;"><div id="MathJax_Font_Test" style="position: absolute; visibility: hidden; top: 0px; left: 0px; width: auto; min-width: 0px; max-width: none; padding: 0px; border: 0px; margin: 0px; white-space: nowrap; text-align: left; text-indent: 0px; text-transform: none; line-height: normal; letter-spacing: normal; word-spacing: normal; font-size: 40px; font-weight: normal; font-style: normal; font-size-adjust: none; font-family: MathJax_Size1, monospace;"></div></div><iframe id="hfcr" src="./KNN &amp; PCA Assignment_files/RotateCookiesPage.html" style="display: none;"></iframe><div class="notebook-vertical" style="position: relative;">
      <!--?lit$764029187$--><colab-skip-link><template shadowrootmode="open"><!----><md-elevated-button class="link" href="#notebook-main" value=""><template shadowrootmode="open" shadowrootdelegatesfocus><!---->
      <!--?lit$764029187$--><md-elevation part="elevation" aria-hidden="true"><template shadowrootmode="open"><!----><span class="shadow"></span></template></md-elevation>
      <div class="background"></div>
      <md-focus-ring part="focus-ring" for="link" aria-hidden="true"><template shadowrootmode="open"><!----></template></md-focus-ring>
      <md-ripple part="ripple" for="link" aria-hidden="true"><template shadowrootmode="open"><!----><div class="surface   "></div></template></md-ripple>
      <!--?lit$764029187$--><a id="link" class="button" href="https://colab.research.google.com/drive/1lKj2PjoA--Rqc0XIHJeDcimLU4iwhyW3#notebook-main"><!--?lit$764029187$-->
      <span class="touch"></span>
      <!--?lit$764029187$--><slot name="icon"></slot>
      <span class="label"><slot></slot></span>
      <!--?lit$764029187$-->
    
    </a>
    </template><!--?lit$764029187$-->Skip to main content</md-elevated-button></template></colab-skip-link>
      <div class="top-floater"><div role="banner">
    <!--?lit$764029187$-->
    <!--?lit$764029187$-->
          <div id="private-outputs-warning" class="header-warning private-outputs-warning" hidden=""><md-icon aria-hidden="true"><template shadowrootmode="open"><!----><slot></slot></template>info</md-icon>
            <div class="message">
              <!--?lit$764029187$-->This notebook is open with private outputs. Outputs will not be saved. You can disable this in <a href="https://colab.research.google.com/drive/1lKj2PjoA--Rqc0XIHJeDcimLU4iwhyW3#" id="private-outputs-notebook-info-link" command="notebook-settings" aria-describedby="private-outputs-notebook-info-link-tooltip">Notebook settings</a><colab-tooltip-trigger aria-hidden="true" for="private-outputs-notebook-info-link" id="private-outputs-notebook-info-link-tooltip"><template shadowrootmode="open"><!----><!--?lit$764029187$--><!----><div><!--?lit$764029187$-->Open notebook settings</div><!----><!--?--></template>
        </colab-tooltip-trigger>.
            </div>
          <div class="actions"><md-icon-button class="close" title="Close" data-aria-label="Close" value=""><template shadowrootmode="open" shadowrootdelegatesfocus><!----><button id="button" class="icon-button  standard " aria-label="Close">
        <!--?lit$764029187$--><md-focus-ring part="focus-ring" for="button" aria-hidden="true"><template shadowrootmode="open"><!----></template></md-focus-ring>
        <!--?lit$764029187$--><md-ripple aria-hidden="true"><template shadowrootmode="open"><!----><div class="surface   "></div></template></md-ripple>
        <!--?lit$764029187$--><span class="icon"><slot></slot></span>
        <!--?lit$764029187$-->
        <!--?lit$764029187$--><span class="touch"></span>
  </button></template>
          <md-icon aria-hidden="true"><template shadowrootmode="open"><!----><slot></slot></template>close</md-icon>
        </md-icon-button></div></div>
        
    <!--?lit$764029187$--> <!--?lit$764029187$-->

    <div id="header" class="horizontal layout">
      <div id="header-background"><div></div></div>
      <div id="header-content">
        <!--?lit$764029187$-->
        <!--?lit$764029187$--><div id="header-logo">
              <!--?lit$764029187$--> <!--?lit$764029187$--><a href="https://drive.google.com/drive/search?q=owner%3Ame%20(type%3Aapplication%2Fvnd.google.colaboratory%20%7C%7C%20type%3Aapplication%2Fvnd.google.colab)&amp;authuser=0" aria-label="View in Google Drive">
        <!--?lit$764029187$--><md-icon class="colab-large-icon" aria-hidden="true"><template shadowrootmode="open"><!----><slot></slot></template><!--?lit$764029187$--><svg viewBox="0 0 24 24"><!--?lit$764029187$-->
      <g id="colab-logo">
        <path d="M4.54,9.46,2.19,7.1a6.93,6.93,0,0,0,0,9.79l2.36-2.36A3.59,3.59,0,0,1,4.54,9.46Z" style="fill:var(--colab-logo-dark)"></path>
        <path d="M2.19,7.1,4.54,9.46a3.59,3.59,0,0,1,5.08,0l1.71-2.93h0l-.1-.08h0A6.93,6.93,0,0,0,2.19,7.1Z" style="fill:var(--colab-logo-light)"></path>
        <path d="M11.34,17.46h0L9.62,14.54a3.59,3.59,0,0,1-5.08,0L2.19,16.9a6.93,6.93,0,0,0,9,.65l.11-.09" style="fill:var(--colab-logo-light)"></path>
        <path d="M12,7.1a6.93,6.93,0,0,0,0,9.79l2.36-2.36a3.59,3.59,0,1,1,5.08-5.08L21.81,7.1A6.93,6.93,0,0,0,12,7.1Z" style="fill:var(--colab-logo-light)"></path>
        <path d="M21.81,7.1,19.46,9.46a3.59,3.59,0,0,1-5.08,5.08L12,16.9A6.93,6.93,0,0,0,21.81,7.1Z" style="fill:var(--colab-logo-dark)"></path>
      </g></svg></md-icon>
      </a><!--?-->
            </div>
        <div id="header-doc-toolbar" class="flex">
          <div id="document-info">
            <!--?lit$764029187$--> <!--?lit$764029187$--><md-icon class="file-location-icon" id="file-type" aria-hidden="true" title="Notebook stored in Google Drive"><template shadowrootmode="open"><!----><slot></slot></template><!--?lit$764029187$-->
      <svg viewBox="0 0 192 192">
        <path d="M128.33,122l7.59,26.17l19.89,21.42c0,0,0,0,0,0v0c2.69-1.55,4.98-3.8,6.59-6.59l18.48-32 c1.61-2.78,2.41-5.89,2.41-9l-28.38-5.5L128.33,122z" fill="#EA4335"></path>
        <path d="M123.48,18.41c-2.69-1.55-5.78-2.41-9-2.41H77.53c-3.2,0-6.32,0.88-9,2.41l0,0l7.96,26.81l19.44,20.64 L96,66l0,0l19.58-20.89L123.48,18.41C123.48,18.41,123.48,18.41,123.48,18.41C123.48,18.41,123.48,18.41,123.48,18.41z" fill="#188038"></path>
        <path d="M63.67,122l-28.33-6.5L8.72,122c0,3.1,0.8,6.2,2.4,8.99L29.6,163c1.61,2.78,3.9,5.03,6.59,6.59 l19.59-20.18L63.67,122L63.67,122z" fill="#1967D2"></path>
        <path d="M155.47,69l-25.4-44c-1.61-2.79-3.9-5.04-6.59-6.59L96,66l32.33,56h54.95c0-3.11-0.8-6.21-2.41-9 L155.47,69z" fill="#FBBC04"></path><path d="M128.33,122H63.67l-27.48,47.59c2.69,1.55,5.78,2.41,9,2.41h101.61c3.22,0,6.31-0.86,9-2.41L128.33,122z" fill="#4285F4"></path>
        <path d="M96,66L68.53,18.41c-2.69,1.55-4.97,3.79-6.58,6.57l-50.83,88.05c-1.6,2.78-2.4,5.88-2.4,8.97h54.95L96,66 z" fill="#34A853"></path>
      </svg></md-icon>
    <input id="doc-name" class="doc-name" maxlength="259" autocomplete="off" aria-label="Notebook name" command="rename" aria-describedby="doc-name-tooltip" style="width: 257.594px;"><colab-tooltip-trigger aria-hidden="true" for="doc-name" id="doc-name-tooltip"><template shadowrootmode="open"><!----><!--?lit$764029187$--><!----><div><!--?lit$764029187$-->Rename notebook</div><!----><!--?--></template>
        </colab-tooltip-trigger><colab-input-sizer aria-hidden="true" style="left: -1000%; position: absolute; font-family: &quot;Google Sans&quot;, Roboto, Noto, sans-serif; font-size: 18px; font-weight: 400; letter-spacing: normal; padding-left: 3px; padding-right: 4px; white-space: pre;">KNN &amp; PCA | Assignment.ipynb_</colab-input-sizer>
            <!--?lit$764029187$-->
                  <md-icon-button id="star-icon" command="toggle-star" aria-describedby="star-icon-tooltip" data-aria-label="Star" value=""><template shadowrootmode="open" shadowrootdelegatesfocus><!----><button id="button" class="icon-button  standard " aria-label="Star">
        <!--?lit$764029187$--><md-focus-ring part="focus-ring" for="button" aria-hidden="true"><template shadowrootmode="open"><!----></template></md-focus-ring>
        <!--?lit$764029187$--><md-ripple aria-hidden="true"><template shadowrootmode="open"><!----><div class="surface   "></div></template></md-ripple>
        <!--?lit$764029187$--><span class="icon"><slot></slot></span>
        <!--?lit$764029187$-->
        <!--?lit$764029187$--><span class="touch"></span>
  </button></template>
                    <md-icon aria-hidden="true"><template shadowrootmode="open"><!----><slot></slot></template>star</md-icon>
                  </md-icon-button><colab-tooltip-trigger aria-hidden="true" for="star-icon" id="star-icon-tooltip"><template shadowrootmode="open"><!----><!--?lit$764029187$--><!----><div><!--?lit$764029187$-->Star notebook in Google Drive</div><!----><!--?--></template>
        </colab-tooltip-trigger>
                
            <!--?lit$764029187$--><colab-last-saved-indicator aria-live="polite" aria-atomic="true"><template shadowrootmode="open"><!----><md-icon-button id="button" data-aria-label="All changes saved" value=""><template shadowrootmode="open" shadowrootdelegatesfocus><!----><button id="button" class="icon-button  standard " aria-label="All changes saved">
        <!--?lit$764029187$--><md-focus-ring part="focus-ring" for="button" aria-hidden="true"><template shadowrootmode="open"><!----></template></md-focus-ring>
        <!--?lit$764029187$--><md-ripple aria-hidden="true"><template shadowrootmode="open"><!----><div class="surface   "></div></template></md-ripple>
        <!--?lit$764029187$--><span class="icon"><slot></slot></span>
        <!--?lit$764029187$-->
        <!--?lit$764029187$--><span class="touch"></span>
  </button></template><md-icon aria-hidden="true"><template shadowrootmode="open"><!----><slot></slot></template><!--?lit$764029187$-->cloud_done</md-icon></md-icon-button><colab-tooltip-trigger aria-hidden="true" for="button" id="button-tooltip" message="All changes saved"><template shadowrootmode="open"><!----><!--?lit$764029187$--><!----><div><!--?lit$764029187$-->All changes saved</div><!----><!--?--></template>
        </colab-tooltip-trigger></template></colab-last-saved-indicator>
          </div>
        <div class="menubar-wrapper"><div><!----><div id="top-menubar" class="goog-menubar format-lightborder" role="menubar" tabindex="0" style="user-select: none;"><!--?lit$764029187$--><div class="goog-menu-button goog-inline-block" id="file-menu-button" role="button" aria-expanded="false" aria-haspopup="true" style="user-select: none;"><div class="goog-inline-block goog-menu-button-outer-box" style="user-select: none;"><div class="goog-inline-block goog-menu-button-inner-box" style="user-select: none;"><div class="goog-inline-block goog-menu-button-caption" style="user-select: none;"><!--?lit$764029187$-->File</div><div class="goog-inline-block goog-menu-button-dropdown" style="user-select: none;">&nbsp;</div></div></div></div><div class="goog-menu-button goog-inline-block" id="edit-menu-button" role="button" aria-expanded="false" aria-haspopup="true" style="user-select: none;"><div class="goog-inline-block goog-menu-button-outer-box" style="user-select: none;"><div class="goog-inline-block goog-menu-button-inner-box" style="user-select: none;"><div class="goog-inline-block goog-menu-button-caption" style="user-select: none;"><!--?lit$764029187$-->Edit</div><div class="goog-inline-block goog-menu-button-dropdown" style="user-select: none;">&nbsp;</div></div></div></div><div class="goog-menu-button goog-inline-block" id="view-menu-button" role="button" aria-expanded="false" aria-haspopup="true" style="user-select: none;"><div class="goog-inline-block goog-menu-button-outer-box" style="user-select: none;"><div class="goog-inline-block goog-menu-button-inner-box" style="user-select: none;"><div class="goog-inline-block goog-menu-button-caption" style="user-select: none;"><!--?lit$764029187$-->View</div><div class="goog-inline-block goog-menu-button-dropdown" style="user-select: none;">&nbsp;</div></div></div></div><div class="goog-menu-button goog-inline-block" id="insert-menu-button" role="button" aria-expanded="false" aria-haspopup="true" style="user-select: none;"><div class="goog-inline-block goog-menu-button-outer-box" style="user-select: none;"><div class="goog-inline-block goog-menu-button-inner-box" style="user-select: none;"><div class="goog-inline-block goog-menu-button-caption" style="user-select: none;"><!--?lit$764029187$-->Insert</div><div class="goog-inline-block goog-menu-button-dropdown" style="user-select: none;">&nbsp;</div></div></div></div><div class="goog-menu-button goog-inline-block" id="runtime-menu-button" role="button" aria-expanded="false" aria-haspopup="true" style="user-select: none;"><div class="goog-inline-block goog-menu-button-outer-box" style="user-select: none;"><div class="goog-inline-block goog-menu-button-inner-box" style="user-select: none;"><div class="goog-inline-block goog-menu-button-caption" style="user-select: none;"><!--?lit$764029187$-->Runtime</div><div class="goog-inline-block goog-menu-button-dropdown" style="user-select: none;">&nbsp;</div></div></div></div><div class="goog-menu-button goog-inline-block" id="tools-menu-button" role="button" aria-expanded="false" aria-haspopup="true" style="user-select: none;"><div class="goog-inline-block goog-menu-button-outer-box" style="user-select: none;"><div class="goog-inline-block goog-menu-button-inner-box" style="user-select: none;"><div class="goog-inline-block goog-menu-button-caption" style="user-select: none;"><!--?lit$764029187$-->Tools</div><div class="goog-inline-block goog-menu-button-dropdown" style="user-select: none;">&nbsp;</div></div></div></div><div class="goog-menu-button goog-inline-block" id="help-menu-button" role="button" aria-expanded="false" aria-haspopup="true" style="user-select: none;"><div class="goog-inline-block goog-menu-button-outer-box" style="user-select: none;"><div class="goog-inline-block goog-menu-button-inner-box" style="user-select: none;"><div class="goog-inline-block goog-menu-button-caption" style="user-select: none;"><!--?lit$764029187$-->Help</div><div class="goog-inline-block goog-menu-button-dropdown" style="user-select: none;">&nbsp;</div></div></div></div></div></div></div></div>
        <div id="header-right">
          <!--?lit$764029187$-->
    <colab-collaborator-bar id="collaborator-bar"><template shadowrootmode="open"><!----> <div class="collaborator-bar">
      <!--?lit$764029187$-->
      <!--?lit$764029187$-->
    </div></template></colab-collaborator-bar>
  
          <!--?lit$764029187$--> <md-icon-button id="comments" command="open-comments-thread" data-aria-label="Open comments pane" aria-describedby="comments-tooltip" value=""><template shadowrootmode="open" shadowrootdelegatesfocus><!----><button id="button" class="icon-button  standard " aria-label="Open comments pane">
        <!--?lit$764029187$--><md-focus-ring part="focus-ring" for="button" aria-hidden="true"><template shadowrootmode="open"><!----></template></md-focus-ring>
        <!--?lit$764029187$--><md-ripple aria-hidden="true"><template shadowrootmode="open"><!----><div class="surface   "></div></template></md-ripple>
        <!--?lit$764029187$--><span class="icon"><slot></slot></span>
        <!--?lit$764029187$-->
        <!--?lit$764029187$--><span class="touch"></span>
  </button></template>
                <md-icon aria-hidden="true"><template shadowrootmode="open"><!----><slot></slot></template>comment</md-icon>
              </md-icon-button><colab-tooltip-trigger aria-hidden="true" for="comments" id="comments-tooltip"><template shadowrootmode="open"><!----><!--?lit$764029187$--><!----><div><!--?lit$764029187$-->Open comments pane</div><!----><!--?--></template>
        </colab-tooltip-trigger>
          <!--?lit$764029187$--> <md-icon-button id="settings-cog" command="preferences" data-aria-label="Open settings" aria-describedby="settings-cog-tooltip" value=""><template shadowrootmode="open" shadowrootdelegatesfocus><!----><button id="button" class="icon-button  standard " aria-label="Open settings">
        <!--?lit$764029187$--><md-focus-ring part="focus-ring" for="button" aria-hidden="true"><template shadowrootmode="open"><!----></template></md-focus-ring>
        <!--?lit$764029187$--><md-ripple aria-hidden="true"><template shadowrootmode="open"><!----><div class="surface   "></div></template></md-ripple>
        <!--?lit$764029187$--><span class="icon"><slot></slot></span>
        <!--?lit$764029187$-->
        <!--?lit$764029187$--><span class="touch"></span>
  </button></template>
                <md-icon aria-hidden="true"><template shadowrootmode="open"><!----><slot></slot></template>settings</md-icon>
              </md-icon-button><colab-tooltip-trigger aria-hidden="true" for="settings-cog" id="settings-cog-tooltip"><template shadowrootmode="open"><!----><!--?lit$764029187$--><!----><div><!--?lit$764029187$-->Open settings</div><!----><!--?--></template>
        </colab-tooltip-trigger>
          <!--?lit$764029187$--> <md-filled-tonal-button id="share-toolbar-button" command="share" data-aria-label="Share notebook" aria-describedby="share-toolbar-button-tooltip" value="" has-icon=""><template shadowrootmode="open" shadowrootdelegatesfocus><!---->
      <!--?lit$764029187$--><md-elevation part="elevation" aria-hidden="true"><template shadowrootmode="open"><!----><span class="shadow"></span></template></md-elevation>
      <div class="background"></div>
      <md-focus-ring part="focus-ring" for="button" aria-hidden="true"><template shadowrootmode="open"><!----></template></md-focus-ring>
      <md-ripple part="ripple" for="button" aria-hidden="true"><template shadowrootmode="open"><!----><div class="surface"></div></template></md-ripple>
      <!--?lit$764029187$--><button id="button" class="button" aria-label="Share notebook">
      <!--?lit$764029187$-->
      <span class="touch"></span>
      <!--?lit$764029187$--><slot name="icon"></slot>
      <span class="label"><slot></slot></span>
      <!--?lit$764029187$-->
    
    </button>
    </template>
                <md-icon slot="icon" aria-hidden="true"><template shadowrootmode="open"><!----><slot></slot></template><!--?lit$764029187$-->people</md-icon>
                <!--?lit$764029187$-->Share
              </md-filled-tonal-button><colab-tooltip-trigger aria-hidden="true" for="share-toolbar-button" id="share-toolbar-button-tooltip"><template shadowrootmode="open"><!----><!--?lit$764029187$--><!----><div><!--?lit$764029187$-->Share notebook</div><!----><!--?--></template>
        </colab-tooltip-trigger>
          <!--?lit$764029187$--> <md-text-button class="show-chat-button" id="show-chat-button" command="toggle-composer" data-aria-label="Toggle Gemini" aria-describedby="show-chat-button-tooltip" value="" has-icon=""><template shadowrootmode="open" shadowrootdelegatesfocus><!---->
      <!--?lit$764029187$-->
      <div class="background"></div>
      <md-focus-ring part="focus-ring" for="button" aria-hidden="true"><template shadowrootmode="open"><!----></template></md-focus-ring>
      <md-ripple part="ripple" for="button" aria-hidden="true"><template shadowrootmode="open"><!----><div class="surface"></div></template></md-ripple>
      <!--?lit$764029187$--><button id="button" class="button" aria-label="Toggle Gemini">
      <!--?lit$764029187$-->
      <span class="touch"></span>
      <!--?lit$764029187$--><slot name="icon"></slot>
      <span class="label"><slot></slot></span>
      <!--?lit$764029187$-->
    
    </button>
    </template>
                <md-icon slot="icon" aria-hidden="true"><template shadowrootmode="open"><!----><slot></slot></template>spark</md-icon>
                <!--?lit$764029187$-->Gemini
              </md-text-button><colab-tooltip-trigger aria-hidden="true" for="show-chat-button" id="show-chat-button-tooltip"><template shadowrootmode="open"><!----><!--?lit$764029187$--><!----><div><!--?lit$764029187$-->Toggle Gemini</div><!----><!--?--></template>
        </colab-tooltip-trigger>
          <div class="header-onegoogle-container"><div class="onegoogle"><div class="gb_Fa gb_Md gb_5d gb_0c" id="gb"><div class="gb_Fd gb_2d gb_Ad" ng-non-bindable="" data-ogsr-up="" style="padding:0;height:auto;display:block"><div class="gb_Ue" style="display:block"><div class="gb_6c"></div><div class="gb_z gb_id gb_Pf gb_0"><div class="gb_D gb_jb gb_Pf gb_0"><a class="gb_B gb_Za gb_0" aria-expanded="false" aria-label="Google Account: kuldeep rajput  
(rjptkuldeep99@gmail.com)" href="https://accounts.google.com/SignOutOptions?hl=en&amp;continue=https://colab.research.google.com/&amp;ec=GBRAqQM" tabindex="0" role="button"><span class="gb_Vd"><img class="gb_P gbii" src="./KNN &amp; PCA Assignment_files/unnamed.jpg" srcset="https://lh3.googleusercontent.com/ogw/AF2bZygWngZr61hYjjwJK3awffPD5Sv0lWxckZvH-hsyoT1bvg=s32-c-mo 1x, https://lh3.googleusercontent.com/ogw/AF2bZygWngZr61hYjjwJK3awffPD5Sv0lWxckZvH-hsyoT1bvg=s64-c-mo 2x " alt="" aria-hidden="true" data-noaft=""></span><div class="gb_Q gb_R" aria-hidden="true"><svg class="gb_Ka" height="14" viewBox="0 0 14 14" width="14" xmlns="http://www.w3.org/2000/svg"><circle class="gb_La" cx="7" cy="7" r="7"></circle><path class="gb_Na" d="M6 10H8V12H6V10ZM6 2H8V8H6V2Z"></path></svg></div></a></div></div></div><div style="overflow: hidden; position: absolute; top: 0px; visibility: hidden; width: 436px; z-index: 991; height: 0px; margin-top: 57px; right: 0px; margin-right: 4px;"></div><div style="overflow: hidden; position: absolute; top: 0px; visibility: hidden; width: 420px; z-index: 991; height: 280px; margin-top: 70px; right: 0px; margin-right: 25px;"></div></div></div><script nonce="">this.gbar_=this.gbar_||{};(function(_){var window=this;
try{
_.Ed=function(a,b,c){if(!a.j)if(c instanceof Array)for(var d of c)_.Ed(a,b,d);else{d=(0,_.z)(a.C,a,b);const e=a.v+c;a.v++;b.dataset.eqid=e;a.B[e]=d;b&&b.addEventListener?b.addEventListener(c,d,!1):b&&b.attachEvent?b.attachEvent("on"+c,d):a.o.log(Error("t`"+b))}};
}catch(e){_._DumpException(e)}
try{
var Fd=document.querySelector(".gb_J .gb_B"),Gd=document.querySelector("#gb.gb_Vc");Fd&&!Gd&&_.Ed(_.nd,Fd,"click");
}catch(e){_._DumpException(e)}
try{
_.mh=function(a){if(a.v)return a.v;for(const b in a.i)if(a.i[b].ha()&&a.i[b].B())return a.i[b];return null};_.nh=function(a,b){a.i[b.J()]=b};var oh=new class extends _.P{constructor(){var a=_.Yc;super();this.B=a;this.v=null;this.o={};this.C={};this.i={};this.j=null}A(a){this.i[a]&&(_.mh(this)&&_.mh(this).J()==a||this.i[a].P(!0))}Ra(a){this.j=a;for(const b in this.i)this.i[b].ha()&&this.i[b].Ra(a)}kc(a){return a in this.i?this.i[a]:null}};_.qd("dd",oh);
}catch(e){_._DumpException(e)}
try{
_.Fi=function(a,b){return _.J(a,36,b)};
}catch(e){_._DumpException(e)}
try{
var Gi=document.querySelector(".gb_z .gb_B"),Hi=document.querySelector("#gb.gb_Vc");Gi&&!Hi&&_.Ed(_.nd,Gi,"click");
}catch(e){_._DumpException(e)}
})(this.gbar_);
// Google Inc.
</script></div></div>
        </div>
      </div>
    </div>
  </div></div><colab-notebook-toolbar id="top-toolbar" class="horizontal layout center noshrink"><!----> <!--?lit$764029187$-->
    <!--?lit$764029187$--> <colab-toolbar-button icon="search" id="toolbar-show-command-palette" command="show-command-palette"><template shadowrootmode="open"><!----><md-text-button id="button" data-aria-disabled="false" value="" has-icon=""><template shadowrootmode="open" shadowrootdelegatesfocus><!---->
      <!--?lit$764029187$-->
      <div class="background"></div>
      <md-focus-ring part="focus-ring" for="button" aria-hidden="true"><template shadowrootmode="open"><!----></template></md-focus-ring>
      <md-ripple part="ripple" for="button" aria-hidden="true"><template shadowrootmode="open"><!----><div class="surface"></div></template></md-ripple>
      <!--?lit$764029187$--><button id="button" class="button">
      <!--?lit$764029187$-->
      <span class="touch"></span>
      <!--?lit$764029187$--><slot name="icon"></slot>
      <span class="label"><slot></slot></span>
      <!--?lit$764029187$-->
    
    </button>
    </template>
        <!--?lit$764029187$--><md-icon slot="icon" aria-hidden="true"><template shadowrootmode="open"><!----><slot></slot></template><!--?lit$764029187$-->search</md-icon>
        <span class="button-content"><slot></slot></span>
        <!--?lit$764029187$--><span class="screenreader-only"><!--?lit$764029187$-->Show command palette <!--?lit$764029187$-->Ctrl+Shift+P</span>
      </md-text-button>
      <!--?lit$764029187$--> <colab-tooltip-trigger for="button" aria-hidden="true" id="tooltip" message="Show command palette" shortcut="Ctrl+Shift+P"><template shadowrootmode="open"><!----><!--?lit$764029187$--><!----><div><!--?lit$764029187$-->Show command palette (Ctrl+Shift+P)</div><!----><!--?--></template>
          </colab-tooltip-trigger><!--?--></template>
            <!--?lit$764029187$-->Commands
          </colab-toolbar-button>
          <span class="colab-separator"></span>
    <!--?lit$764029187$-->
          <colab-toolbar-button command="insert-cell-below" icon="add" id="toolbar-add-code"><template shadowrootmode="open"><!----><md-text-button id="button" data-aria-disabled="false" value="" has-icon=""><template shadowrootmode="open" shadowrootdelegatesfocus><!---->
      <!--?lit$764029187$-->
      <div class="background"></div>
      <md-focus-ring part="focus-ring" for="button" aria-hidden="true"><template shadowrootmode="open"><!----></template></md-focus-ring>
      <md-ripple part="ripple" for="button" aria-hidden="true"><template shadowrootmode="open"><!----><div class="surface"></div></template></md-ripple>
      <!--?lit$764029187$--><button id="button" class="button">
      <!--?lit$764029187$-->
      <span class="touch"></span>
      <!--?lit$764029187$--><slot name="icon"></slot>
      <span class="label"><slot></slot></span>
      <!--?lit$764029187$-->
    
    </button>
    </template>
        <!--?lit$764029187$--><md-icon slot="icon" aria-hidden="true"><template shadowrootmode="open"><!----><slot></slot></template><!--?lit$764029187$-->add</md-icon>
        <span class="button-content"><slot></slot></span>
        <!--?lit$764029187$--><span class="screenreader-only"><!--?lit$764029187$-->Insert code cell below <!--?lit$764029187$-->Ctrl+M B</span>
      </md-text-button>
      <!--?lit$764029187$--> <colab-tooltip-trigger for="button" aria-hidden="true" id="tooltip" message="Insert code cell below" shortcut="Ctrl+M B"><template shadowrootmode="open"><!----><!--?lit$764029187$--><!----><div><!--?lit$764029187$-->Insert code cell below (Ctrl+M B)</div><!----><!--?--></template>
          </colab-tooltip-trigger><!--?--></template>
            <!--?lit$764029187$-->Code
          </colab-toolbar-button>
          <!--?lit$764029187$-->
          <colab-toolbar-button command="add-text" icon="add" id="toolbar-add-text"><template shadowrootmode="open"><!----><md-text-button id="button" data-aria-disabled="false" value="" has-icon=""><template shadowrootmode="open" shadowrootdelegatesfocus><!---->
      <!--?lit$764029187$-->
      <div class="background"></div>
      <md-focus-ring part="focus-ring" for="button" aria-hidden="true"><template shadowrootmode="open"><!----></template></md-focus-ring>
      <md-ripple part="ripple" for="button" aria-hidden="true"><template shadowrootmode="open"><!----><div class="surface"></div></template></md-ripple>
      <!--?lit$764029187$--><button id="button" class="button">
      <!--?lit$764029187$-->
      <span class="touch"></span>
      <!--?lit$764029187$--><slot name="icon"></slot>
      <span class="label"><slot></slot></span>
      <!--?lit$764029187$-->
    
    </button>
    </template>
        <!--?lit$764029187$--><md-icon slot="icon" aria-hidden="true"><template shadowrootmode="open"><!----><slot></slot></template><!--?lit$764029187$-->add</md-icon>
        <span class="button-content"><slot></slot></span>
        <!--?lit$764029187$--><span class="screenreader-only"><!--?lit$764029187$-->Add text cell <!--?lit$764029187$--></span>
      </md-text-button>
      <!--?lit$764029187$--> <colab-tooltip-trigger for="button" aria-hidden="true" id="tooltip" message="Add text cell" shortcut=""><template shadowrootmode="open"><!----><!--?lit$764029187$--><!----><div><!--?lit$764029187$-->Add text cell</div><!----><!--?--></template>
          </colab-tooltip-trigger><!--?--></template>
            <!--?lit$764029187$-->Text
          </colab-toolbar-button>
        
    <span class="colab-separator"></span>
    <colab-notebook-toolbar-run-button><template shadowrootmode="open"><!----><colab-toolbar-button icon="play_arrow" tooltipid="toolbar-run-button-tooltip" id="toolbar-run-button" tooltiptext="Run all cells in notebook"><template shadowrootmode="open"><!----><md-text-button id="button" data-aria-disabled="false" value="" has-icon=""><template shadowrootmode="open" shadowrootdelegatesfocus><!---->
      <!--?lit$764029187$-->
      <div class="background"></div>
      <md-focus-ring part="focus-ring" for="button" aria-hidden="true"><template shadowrootmode="open"><!----></template></md-focus-ring>
      <md-ripple part="ripple" for="button" aria-hidden="true"><template shadowrootmode="open"><!----><div class="surface"></div></template></md-ripple>
      <!--?lit$764029187$--><button id="button" class="button">
      <!--?lit$764029187$-->
      <span class="touch"></span>
      <!--?lit$764029187$--><slot name="icon"></slot>
      <span class="label"><slot></slot></span>
      <!--?lit$764029187$-->
    
    </button>
    </template>
        <!--?lit$764029187$--><md-icon slot="icon" aria-hidden="true"><template shadowrootmode="open"><!----><slot></slot></template><!--?lit$764029187$-->play_arrow</md-icon>
        <span class="button-content"><slot></slot></span>
        <!--?lit$764029187$--><span class="screenreader-only"><!--?lit$764029187$-->Run all cells in notebook <!--?lit$764029187$--></span>
      </md-text-button>
      <!--?lit$764029187$--> <colab-tooltip-trigger for="button" aria-hidden="true" id="toolbar-run-button-tooltip" message="Run all cells in notebook" shortcut=""><template shadowrootmode="open"><!----><!--?lit$764029187$--><!----><div><!--?lit$764029187$-->Run all cells in notebook</div><!----><!--?--></template>
          </colab-tooltip-trigger><!--?--></template>
        <!--?lit$764029187$-->Run all
      </colab-toolbar-button>
      <!--?lit$764029187$--><md-icon-button data-aria-haspopup="menu" data-aria-expanded="false" id="toolbar-run-button-more-actions" data-aria-label="More actions" value=""><template shadowrootmode="open" shadowrootdelegatesfocus><!----><button id="button" class="icon-button  standard " aria-label="More actions" aria-haspopup="menu" aria-expanded="false">
        <!--?lit$764029187$--><md-focus-ring part="focus-ring" for="button" aria-hidden="true"><template shadowrootmode="open"><!----></template></md-focus-ring>
        <!--?lit$764029187$--><md-ripple aria-hidden="true"><template shadowrootmode="open"><!----><div class="surface"></div></template></md-ripple>
        <!--?lit$764029187$--><span class="icon"><slot></slot></span>
        <!--?lit$764029187$-->
        <!--?lit$764029187$--><span class="touch"></span>
  </button></template>
        <md-icon aria-hidden="true"><template shadowrootmode="open"><!----><slot></slot></template>arrow_drop_down</md-icon>
      </md-icon-button>
      <colab-tooltip-trigger aria-hidden="true" for="toolbar-run-button-more-actions" message="More actions"><template shadowrootmode="open"><!----><!--?lit$764029187$--><!----><div><!--?lit$764029187$-->More actions</div><!----><!--?--></template>
      </colab-tooltip-trigger>
      <!--?lit$764029187$--><md-menu positioning="popover" quick="" aria-labelledby="toolbar-run-button-more-actions" anchor="toolbar-run-button-more-actions" aria-hidden="true"><template shadowrootmode="open"><!---->
      <div class="menu   " popover="manual" style="display: none;">
        <!--?lit$764029187$--><md-elevation part="elevation" aria-hidden="true"><template shadowrootmode="open"><!----><span class="shadow"></span></template></md-elevation>
        <div class="items">
          <div class="item-padding"> <!--?lit$764029187$--><slot></slot> </div>
        </div>
      </div>
    </template>
    <!--?lit$764029187$--><!----><md-menu-item command="restart" md-menu-item="" tabindex="-1"><template shadowrootmode="open" shadowrootdelegatesfocus><!---->
      <li id="item" tabindex="0" role="menuitem" class="list-item"><!--?lit$764029187$-->
      <md-item><template shadowrootmode="open"><!---->
      <slot name="container"></slot>
      <slot class="non-text" name="start"></slot>
      <div class="text">
        <slot name="overline"></slot>
        <slot class="default-slot"></slot>
        <slot name="headline"></slot>
        <slot name="supporting-text"></slot>
      </div>
      <slot class="non-text" name="trailing-supporting-text"></slot>
      <slot class="non-text" name="end"></slot>
    </template>
        <div slot="container">
          <!--?lit$764029187$--> <md-ripple part="ripple" for="item" aria-hidden="true"><template shadowrootmode="open"><!----><div class="surface   "></div></template></md-ripple> <!--?lit$764029187$--> <md-focus-ring part="focus-ring" for="item" inward="" aria-hidden="true"><template shadowrootmode="open"><!----></template></md-focus-ring>
        </div>
        <slot name="start" slot="start"></slot>
        <slot name="end" slot="end"></slot>
        <!--?lit$764029187$-->
      <slot></slot>
      <slot name="overline" slot="overline"></slot>
      <slot name="headline" slot="headline"></slot>
      <slot name="supporting-text" slot="supporting-text"></slot>
      <slot name="trailing-supporting-text" slot="trailing-supporting-text"></slot>
    
      </md-item>
    </li>
    </template>
    <span slot="headline"><!--?lit$764029187$-->Restart session</span>
  </md-menu-item><!----><!----><md-menu-item command="restart-and-run-all" md-menu-item="" tabindex="-1"><template shadowrootmode="open" shadowrootdelegatesfocus><!---->
      <li id="item" tabindex="0" role="menuitem" class="list-item"><!--?lit$764029187$-->
      <md-item><template shadowrootmode="open"><!---->
      <slot name="container"></slot>
      <slot class="non-text" name="start"></slot>
      <div class="text">
        <slot name="overline"></slot>
        <slot class="default-slot"></slot>
        <slot name="headline"></slot>
        <slot name="supporting-text"></slot>
      </div>
      <slot class="non-text" name="trailing-supporting-text"></slot>
      <slot class="non-text" name="end"></slot>
    </template>
        <div slot="container">
          <!--?lit$764029187$--> <md-ripple part="ripple" for="item" aria-hidden="true"><template shadowrootmode="open"><!----><div class="surface   "></div></template></md-ripple> <!--?lit$764029187$--> <md-focus-ring part="focus-ring" for="item" inward="" aria-hidden="true"><template shadowrootmode="open"><!----></template></md-focus-ring>
        </div>
        <slot name="start" slot="start"></slot>
        <slot name="end" slot="end"></slot>
        <!--?lit$764029187$-->
      <slot></slot>
      <slot name="overline" slot="overline"></slot>
      <slot name="headline" slot="headline"></slot>
      <slot name="supporting-text" slot="supporting-text"></slot>
      <slot name="trailing-supporting-text" slot="trailing-supporting-text"></slot>
    
      </md-item>
    </li>
    </template>
    <span slot="headline"><!--?lit$764029187$-->Restart session and run all</span>
  </md-menu-item><!----><!----><md-divider><template shadowrootmode="open"><!----></template></md-divider><!----><!----><md-menu-item command="interrupt" md-menu-item="" tabindex="-1"><template shadowrootmode="open" shadowrootdelegatesfocus><!---->
      <li id="item" tabindex="0" role="menuitem" class="list-item"><!--?lit$764029187$-->
      <md-item><template shadowrootmode="open"><!---->
      <slot name="container"></slot>
      <slot class="non-text" name="start"></slot>
      <div class="text">
        <slot name="overline"></slot>
        <slot class="default-slot"></slot>
        <slot name="headline"></slot>
        <slot name="supporting-text"></slot>
      </div>
      <slot class="non-text" name="trailing-supporting-text"></slot>
      <slot class="non-text" name="end"></slot>
    </template>
        <div slot="container">
          <!--?lit$764029187$--> <md-ripple part="ripple" for="item" aria-hidden="true"><template shadowrootmode="open"><!----><div class="surface   "></div></template></md-ripple> <!--?lit$764029187$--> <md-focus-ring part="focus-ring" for="item" inward="" aria-hidden="true"><template shadowrootmode="open"><!----></template></md-focus-ring>
        </div>
        <slot name="start" slot="start"></slot>
        <slot name="end" slot="end"></slot>
        <!--?lit$764029187$-->
      <slot></slot>
      <slot name="overline" slot="overline"></slot>
      <slot name="headline" slot="headline"></slot>
      <slot name="supporting-text" slot="supporting-text"></slot>
      <slot name="trailing-supporting-text" slot="trailing-supporting-text"></slot>
    
      </md-item>
    </li>
    </template>
    <span slot="headline"><!--?lit$764029187$-->Interrupt execution</span>
  </md-menu-item><!----><!----><md-menu-item command="clear-outputs" md-menu-item="" tabindex="0"><template shadowrootmode="open" shadowrootdelegatesfocus><!---->
      <li id="item" tabindex="0" role="menuitem" class="list-item   "><!--?lit$764029187$-->
      <md-item><template shadowrootmode="open"><!---->
      <slot name="container"></slot>
      <slot class="non-text" name="start"></slot>
      <div class="text">
        <slot name="overline"></slot>
        <slot class="default-slot"></slot>
        <slot name="headline"></slot>
        <slot name="supporting-text"></slot>
      </div>
      <slot class="non-text" name="trailing-supporting-text"></slot>
      <slot class="non-text" name="end"></slot>
    </template>
        <div slot="container">
          <!--?lit$764029187$--> <md-ripple part="ripple" for="item" aria-hidden="true"><template shadowrootmode="open"><!----><div class="surface   "></div></template></md-ripple> <!--?lit$764029187$--> <md-focus-ring part="focus-ring" for="item" inward="" aria-hidden="true"><template shadowrootmode="open"><!----></template></md-focus-ring>
        </div>
        <slot name="start" slot="start"></slot>
        <slot name="end" slot="end"></slot>
        <!--?lit$764029187$-->
      <slot></slot>
      <slot name="overline" slot="overline"></slot>
      <slot name="headline" slot="headline"></slot>
      <slot name="supporting-text" slot="supporting-text"></slot>
      <slot name="trailing-supporting-text" slot="trailing-supporting-text"></slot>
    
      </md-item>
    </li>
    </template>
    <span slot="headline"><!--?lit$764029187$-->Clear all outputs</span>
  </md-menu-item><!---->
  </md-menu><!--?--><!--?--></template>
    </colab-notebook-toolbar-run-button>
    <!--?lit$764029187$-->
    <!--?lit$764029187$-->
    <!--?lit$764029187$-->
    <!--?lit$764029187$-->
    <!--?lit$764029187$--> <span class="collapsed-options">
          <colab-last-saved-indicator aria-live="polite" aria-atomic="true"><template shadowrootmode="open"><!----><md-icon-button id="button" data-aria-label="All changes saved" value=""><template shadowrootmode="open" shadowrootdelegatesfocus><!----><button id="button" class="icon-button  standard " aria-label="All changes saved">
        <!--?lit$764029187$--><md-focus-ring part="focus-ring" for="button" aria-hidden="true"><template shadowrootmode="open"><!----></template></md-focus-ring>
        <!--?lit$764029187$--><md-ripple aria-hidden="true"><template shadowrootmode="open"><!----><div class="surface   "></div></template></md-ripple>
        <!--?lit$764029187$--><span class="icon"><slot></slot></span>
        <!--?lit$764029187$-->
        <!--?lit$764029187$--><span class="touch"></span>
  </button></template><md-icon aria-hidden="true"><template shadowrootmode="open"><!----><slot></slot></template><!--?lit$764029187$-->cloud_done</md-icon></md-icon-button><colab-tooltip-trigger aria-hidden="true" for="button" id="button-tooltip" message="All changes saved"><template shadowrootmode="open"><!----><!--?lit$764029187$--><!----><div><!--?lit$764029187$-->All changes saved</div><!----><!--?--></template>
        </colab-tooltip-trigger></template></colab-last-saved-indicator>
        </span>

    <span class="flex"></span>

    <!--?lit$764029187$--><colab-connect-warning-button><template shadowrootmode="open"><!----><!--?lit$764029187$--><!--?--><!--?--></template></colab-connect-warning-button>
    <!--?lit$764029187$--><!--?lit$764029187$--><colab-connect-button><template shadowrootmode="open"><!----> <!--?lit$764029187$--> <!--?lit$764029187$--><md-icon-button id="connect-icon" class="icon-okay" data-aria-label="Focus the last run cell" value=""><template shadowrootmode="open" shadowrootdelegatesfocus><!----><button id="button" class="icon-button  standard " aria-label="Focus the last run cell">
        <!--?lit$764029187$--><md-focus-ring part="focus-ring" for="button" aria-hidden="true"><template shadowrootmode="open"><!----></template></md-focus-ring>
        <!--?lit$764029187$--><md-ripple aria-hidden="true"><template shadowrootmode="open"><!----><div class="surface   "></div></template></md-ripple>
        <!--?lit$764029187$--><span class="icon"><slot></slot></span>
        <!--?lit$764029187$-->
        <!--?lit$764029187$--><span class="touch"></span>
  </button></template>
            <md-icon aria-hidden="true"><template shadowrootmode="open"><!----><slot></slot></template><!--?lit$764029187$-->done</md-icon>
          </md-icon-button>
          <colab-tooltip-trigger for="connect-icon" id="connect-icon-tooltip" aria-hidden="true" message="Focus the last run cell"><template shadowrootmode="open"><!----><!--?lit$764029187$--><!----><div><!--?lit$764029187$-->Focus the last run cell</div><!----><!--?--></template>
          </colab-tooltip-trigger>
      <colab-toolbar-button id="connect" tooltipid="colab-connect-tooltip" tooltiptext="Connected to
Python 3 Google Compute Engine backend
RAM: 1.21 GB/12.67 GB
Disk: 38.99 GB/107.72 GB"><template shadowrootmode="open"><!----><md-text-button id="button" value="" data-aria-disabled="false"><template shadowrootmode="open" shadowrootdelegatesfocus><!---->
      <!--?lit$764029187$-->
      <div class="background"></div>
      <md-focus-ring part="focus-ring" for="button" aria-hidden="true"><template shadowrootmode="open"><!----></template></md-focus-ring>
      <md-ripple part="ripple" for="button" aria-hidden="true"><template shadowrootmode="open"><!----><div class="surface   "></div></template></md-ripple>
      <!--?lit$764029187$--><button id="button" class="button">
      <!--?lit$764029187$-->
      <span class="touch"></span>
      <!--?lit$764029187$--><slot name="icon"></slot>
      <span class="label"><slot></slot></span>
      <!--?lit$764029187$-->
    
    </button>
    </template>
        <!--?lit$764029187$-->
        <span class="button-content"><slot></slot></span>
        <!--?lit$764029187$--><span class="screenreader-only"><!--?lit$764029187$-->Connected to
Python 3 Google Compute Engine backend
RAM: 1.21 GB/12.67 GB
Disk: 38.99 GB/107.72 GB <!--?lit$764029187$--></span>
      </md-text-button>
      <!--?lit$764029187$--> <colab-tooltip-trigger for="button" aria-hidden="true" id="colab-connect-tooltip" message="Connected to
Python 3 Google Compute Engine backend
RAM: 1.21 GB/12.67 GB
Disk: 38.99 GB/107.72 GB" shortcut=""><template shadowrootmode="open"><!----><!--?lit$764029187$--><!----><div><!--?lit$764029187$-->Connected to</div><!----><!----><div><!--?lit$764029187$-->Python 3 Google Compute Engine backend</div><!----><!----><div><!--?lit$764029187$-->RAM: 1.21 GB/12.67 GB</div><!----><!----><div><!--?lit$764029187$-->Disk: 38.99 GB/107.72 GB</div><!----><!--?--></template>
          </colab-tooltip-trigger><!--?--></template>
        <!--?lit$764029187$--> <div id="connect-button-resource-display">
          <!--?lit$764029187$--><colab-usage-sparkline class="ram" label="RAM"><template shadowrootmode="open"><!---->
      <div class="label"><!--?lit$764029187$-->RAM</div>
      <!--?lit$764029187$-->
      <canvas height="14" width="20"></canvas>
    </template></colab-usage-sparkline>
          <!--?lit$764029187$--><colab-usage-sparkline class="disks" label="Disk"><template shadowrootmode="open"><!---->
      <div class="label"><!--?lit$764029187$-->Disk</div>
      <!--?lit$764029187$-->
      <canvas height="14" width="20"></canvas>
    </template></colab-usage-sparkline>
        </div>
      </colab-toolbar-button>
      <!--?lit$764029187$--> <md-icon-button id="connect-dropdown" data-aria-expanded="false" data-aria-haspopup="menu" data-aria-label="Additional connection options" value=""><template shadowrootmode="open" shadowrootdelegatesfocus><!----><button id="button" class="icon-button  standard " aria-label="Additional connection options" aria-haspopup="menu" aria-expanded="false">
        <!--?lit$764029187$--><md-focus-ring part="focus-ring" for="button" aria-hidden="true"><template shadowrootmode="open"><!----></template></md-focus-ring>
        <!--?lit$764029187$--><md-ripple aria-hidden="true"><template shadowrootmode="open"><!----><div class="surface   "></div></template></md-ripple>
        <!--?lit$764029187$--><span class="icon"><slot></slot></span>
        <!--?lit$764029187$-->
        <!--?lit$764029187$--><span class="touch"></span>
  </button></template>
        <md-icon aria-hidden="true"><template shadowrootmode="open"><!----><slot></slot></template>arrow_drop_down</md-icon>
      </md-icon-button>
      <colab-tooltip-trigger for="connect-dropdown" id="connect-dropdown-tooltip" aria-hidden="true" message="Additional connection options"><template shadowrootmode="open"><!----><!--?lit$764029187$--><!----><div><!--?lit$764029187$-->Additional connection options</div><!----><!--?--></template>
      </colab-tooltip-trigger>
      <!--?lit$764029187$--><!--?--></template></colab-connect-button><!--?-->
    <!--?lit$764029187$-->
    <span class="collapsed-options">
      <!--?lit$764029187$--><span class="colab-separator"></span>
      <!--?lit$764029187$--> <md-icon-button id="share-button-toolbar" command="share" data-aria-label="Share notebook" aria-describedby="share-button-toolbar-tooltip" value=""><template shadowrootmode="open" shadowrootdelegatesfocus><!----><button id="button" class="icon-button  standard " aria-label="Share notebook">
        <!--?lit$764029187$--><md-focus-ring part="focus-ring" for="button" aria-hidden="true"><template shadowrootmode="open"><!----></template></md-focus-ring>
        <!--?lit$764029187$--><md-ripple aria-hidden="true"><template shadowrootmode="open"><!----><div class="surface   "></div></template></md-ripple>
        <!--?lit$764029187$--><span class="icon"><slot></slot></span>
        <!--?lit$764029187$-->
        <!--?lit$764029187$--><span class="touch"></span>
  </button></template>
            <md-icon filled="" aria-hidden="true"><template shadowrootmode="open"><!----><slot></slot></template><!--?lit$764029187$-->people</md-icon>
          </md-icon-button><colab-tooltip-trigger aria-hidden="true" for="share-button-toolbar" id="share-button-toolbar-tooltip"><template shadowrootmode="open"><!----><!--?lit$764029187$--><!----><div><!--?lit$764029187$-->Share notebook</div><!----><!--?--></template>
        </colab-tooltip-trigger>
      <md-icon-button id="settings-button-toolbar" command="preferences" data-aria-label="Open settings" aria-describedby="settings-button-toolbar-tooltip" value=""><template shadowrootmode="open" shadowrootdelegatesfocus><!----><button id="button" class="icon-button  standard " aria-label="Open settings">
        <!--?lit$764029187$--><md-focus-ring part="focus-ring" for="button" aria-hidden="true"><template shadowrootmode="open"><!----></template></md-focus-ring>
        <!--?lit$764029187$--><md-ripple aria-hidden="true"><template shadowrootmode="open"><!----><div class="surface   "></div></template></md-ripple>
        <!--?lit$764029187$--><span class="icon"><slot></slot></span>
        <!--?lit$764029187$-->
        <!--?lit$764029187$--><span class="touch"></span>
  </button></template>
        <md-icon filled="" aria-hidden="true"><template shadowrootmode="open"><!----><slot></slot></template>settings</md-icon>
      </md-icon-button><colab-tooltip-trigger aria-hidden="true" for="settings-button-toolbar" id="settings-button-toolbar-tooltip"><template shadowrootmode="open"><!----><!--?lit$764029187$--><!----><div><!--?lit$764029187$-->Open settings</div><!----><!--?--></template>
        </colab-tooltip-trigger>
      <!--?lit$764029187$--> <md-icon-button class="show-chat-button" id="show-chat-button-toolbar" command="toggle-composer" data-aria-label="Toggle Gemini" aria-describedby="show-chat-button-toolbar-tooltip" value=""><template shadowrootmode="open" shadowrootdelegatesfocus><!----><button id="button" class="icon-button  standard " aria-label="Toggle Gemini">
        <!--?lit$764029187$--><md-focus-ring part="focus-ring" for="button" aria-hidden="true"><template shadowrootmode="open"><!----></template></md-focus-ring>
        <!--?lit$764029187$--><md-ripple aria-hidden="true"><template shadowrootmode="open"><!----><div class="surface   "></div></template></md-ripple>
        <!--?lit$764029187$--><span class="icon"><slot></slot></span>
        <!--?lit$764029187$-->
        <!--?lit$764029187$--><span class="touch"></span>
  </button></template>
            <md-icon aria-hidden="true"><template shadowrootmode="open"><!----><slot></slot></template>spark</md-icon>
          </md-icon-button><colab-tooltip-trigger aria-hidden="true" for="show-chat-button-toolbar" id="show-chat-button-toolbar-tooltip"><template shadowrootmode="open"><!----><!--?lit$764029187$--><!----><div><!--?lit$764029187$-->Toggle Gemini</div><!----><!--?--></template>
        </colab-tooltip-trigger>
    </span>
    <span class="colab-separator"></span>
    <!--?lit$764029187$--><md-icon-button toggle="" command="toggle-header" id="toggle-header-button" data-aria-label="Toggle header visibility" aria-describedby="toggle-header-button-tooltip" value=""><template shadowrootmode="open" shadowrootdelegatesfocus><!----><button id="button" class="icon-button  standard " aria-label="Toggle header visibility" aria-pressed="false">
        <!--?lit$764029187$--><md-focus-ring part="focus-ring" for="button" aria-hidden="true"><template shadowrootmode="open"><!----></template></md-focus-ring>
        <!--?lit$764029187$--><md-ripple aria-hidden="true"><template shadowrootmode="open"><!----><div class="surface   "></div></template></md-ripple>
        <!--?lit$764029187$--><span class="icon"><slot></slot></span>
        <!--?lit$764029187$-->
        <!--?lit$764029187$--><span class="touch"></span>
  </button></template>
    <md-icon aria-hidden="true"><template shadowrootmode="open"><!----><slot></slot></template>expand_less</md-icon>
    <md-icon slot="selected" aria-hidden="true"><template shadowrootmode="open"><!----><slot></slot></template>expand_more</md-icon>
  </md-icon-button><colab-tooltip-trigger aria-hidden="true" for="toggle-header-button" id="toggle-header-button-tooltip"><template shadowrootmode="open"><!----><!--?lit$764029187$--><!----><div><!--?lit$764029187$-->Toggle header visibility</div><!----><!--?--></template>
        </colab-tooltip-trigger><!--?--></colab-notebook-toolbar><div class="notebook-horizontal">
        <!--?lit$764029187$--><colab-left-pane role="complementary" aria-label="left pane"><!----><div class="colab-left-pane-nib layout vertical" role="toolbar" aria-orientation="vertical">
        <div class="left-pane-top"><!----><div class="left-pane-button">
        <!--?lit$764029187$--><md-icon-button toggle="" command="show-toc-pane" data-aria-label="Table of contents" title="Table of contents" value=""><template shadowrootmode="open" shadowrootdelegatesfocus><!----><button id="button" class="icon-button  standard " aria-label="Table of contents" aria-pressed="false">
        <!--?lit$764029187$--><md-focus-ring part="focus-ring" for="button" aria-hidden="true"><template shadowrootmode="open"><!----></template></md-focus-ring>
        <!--?lit$764029187$--><md-ripple aria-hidden="true"><template shadowrootmode="open"><!----><div class="surface"></div></template></md-ripple>
        <!--?lit$764029187$--><span class="icon"><slot></slot></span>
        <!--?lit$764029187$-->
        <!--?lit$764029187$--><span class="touch"></span>
  </button></template>
      <md-icon aria-hidden="true"><template shadowrootmode="open"><!----><slot></slot></template><!--?lit$764029187$-->format_list_bulleted</md-icon>
    </md-icon-button> <!--?lit$764029187$-->
      </div><!----><div class="left-pane-button">
        <!--?lit$764029187$--><md-icon-button toggle="" command="find" data-aria-label="Find and replace" title="Find and replace" tabindex="-1" value=""><template shadowrootmode="open" shadowrootdelegatesfocus><!----><button id="button" class="icon-button  standard " aria-label="Find and replace" aria-pressed="false">
        <!--?lit$764029187$--><md-focus-ring part="focus-ring" for="button" aria-hidden="true"><template shadowrootmode="open"><!----></template></md-focus-ring>
        <!--?lit$764029187$--><md-ripple aria-hidden="true"><template shadowrootmode="open"><!----><div class="surface"></div></template></md-ripple>
        <!--?lit$764029187$--><span class="icon"><slot></slot></span>
        <!--?lit$764029187$-->
        <!--?lit$764029187$--><span class="touch"></span>
  </button></template>
      <md-icon aria-hidden="true"><template shadowrootmode="open"><!----><slot></slot></template><!--?lit$764029187$-->find_in_page</md-icon>
    </md-icon-button> <!--?lit$764029187$-->
      </div><!----><div class="left-pane-button">
        <!--?lit$764029187$--><md-icon-button toggle="" command="snippets" data-aria-label="Code snippets" title="Code snippets" tabindex="-1" value=""><template shadowrootmode="open" shadowrootdelegatesfocus><!----><button id="button" class="icon-button  standard " aria-label="Code snippets" aria-pressed="false">
        <!--?lit$764029187$--><md-focus-ring part="focus-ring" for="button" aria-hidden="true"><template shadowrootmode="open"><!----></template></md-focus-ring>
        <!--?lit$764029187$--><md-ripple aria-hidden="true"><template shadowrootmode="open"><!----><div class="surface"></div></template></md-ripple>
        <!--?lit$764029187$--><span class="icon"><slot></slot></span>
        <!--?lit$764029187$-->
        <!--?lit$764029187$--><span class="touch"></span>
  </button></template>
      <md-icon aria-hidden="true"><template shadowrootmode="open"><!----><slot></slot></template><!--?lit$764029187$-->code</md-icon>
    </md-icon-button> <!--?lit$764029187$-->
      </div><!----><div class="left-pane-button">
        <!--?lit$764029187$--><md-icon-button toggle="" command="open-user-secrets" data-aria-label="Secrets" title="Secrets" tabindex="-1" value=""><template shadowrootmode="open" shadowrootdelegatesfocus><!----><button id="button" class="icon-button  standard " aria-label="Secrets" aria-pressed="false">
        <!--?lit$764029187$--><md-focus-ring part="focus-ring" for="button" aria-hidden="true"><template shadowrootmode="open"><!----></template></md-focus-ring>
        <!--?lit$764029187$--><md-ripple aria-hidden="true"><template shadowrootmode="open"><!----><div class="surface"></div></template></md-ripple>
        <!--?lit$764029187$--><span class="icon"><slot></slot></span>
        <!--?lit$764029187$-->
        <!--?lit$764029187$--><span class="touch"></span>
  </button></template>
      <md-icon aria-hidden="true"><template shadowrootmode="open"><!----><slot></slot></template><!--?lit$764029187$-->vpn_key</md-icon>
    </md-icon-button> <!--?lit$764029187$-->
      </div><!----><div class="left-pane-button">
        <!--?lit$764029187$--><md-icon-button toggle="" command="show-files" data-aria-label="Files" title="Files" tabindex="-1" value=""><template shadowrootmode="open" shadowrootdelegatesfocus><!----><button id="button" class="icon-button  standard " aria-label="Files" aria-pressed="false">
        <!--?lit$764029187$--><md-focus-ring part="focus-ring" for="button" aria-hidden="true"><template shadowrootmode="open"><!----></template></md-focus-ring>
        <!--?lit$764029187$--><md-ripple aria-hidden="true"><template shadowrootmode="open"><!----><div class="surface"></div></template></md-ripple>
        <!--?lit$764029187$--><span class="icon"><slot></slot></span>
        <!--?lit$764029187$-->
        <!--?lit$764029187$--><span class="touch"></span>
  </button></template>
      <md-icon aria-hidden="true"><template shadowrootmode="open"><!----><slot></slot></template><!--?lit$764029187$-->folder</md-icon>
    </md-icon-button> <!--?lit$764029187$-->
      </div></div>
      </div></colab-left-pane>
        <div class="layout vertical grow">
          <colab-tab-layout-container class="layout horizontal grow flexible-tabs"><!----> <div class="layout horizontal tab-pane-parent">
      <!--?lit$764029187$--> <div class="layout vertical tab-pane-parent">
      <!--?lit$764029187$--><colab-tab-pane class="layout vertical grow no-header focused" align="horizontal"><!----> <div class="layout vertical grow">
    <div class="tab-pane-header layout horizontal noshrink">
      <md-tabs><template shadowrootmode="open"><!---->
      <div class="tabs">
        <slot></slot>
      </div>
      <md-divider part="divider"><template shadowrootmode="open"><!----></template></md-divider>
    </template><md-primary-tab noink="" title="" aria-labelledby="tab-title-vOyFXCNBYi8a" class="selected-tab" tabindex="0" md-tab="" active=""><template shadowrootmode="open"><!----><div class="button" role="presentation">
      <md-focus-ring part="focus-ring" inward="" aria-hidden="true"><template shadowrootmode="open"><!----></template></md-focus-ring>
      <md-elevation part="elevation" aria-hidden="true"><template shadowrootmode="open"><!----><span class="shadow"></span></template></md-elevation>
      <md-ripple aria-hidden="true"><template shadowrootmode="open"><!----><div class="surface   "></div></template></md-ripple>
      <div role="presentation" class="content  has-label stacked ">
        <slot name="icon"></slot>
        <slot></slot>
        <!--?lit$764029187$--><div class="indicator"></div>
      </div>
      <!--?lit$764029187$-->
    </div></template>
          <div class="colab-tab-header">
            <span class="colab-tab-title" id="tab-title-vOyFXCNBYi8a"><!--?lit$764029187$--><!--?lit$764029187$-->Notebook<!--?--></span>
            <!--?lit$764029187$-->
          </div>
        </md-primary-tab></md-tabs>
      <div class="layout grow"></div>
      <!--?lit$764029187$--> <md-icon-button data-aria-expanded="false" data-aria-haspopup="menu" title="More tab actions" data-aria-label="More tab actions" value=""><template shadowrootmode="open" shadowrootdelegatesfocus><!----><button id="button" class="icon-button  standard " aria-label="More tab actions" aria-haspopup="menu" aria-expanded="false">
        <!--?lit$764029187$--><md-focus-ring part="focus-ring" for="button" aria-hidden="true"><template shadowrootmode="open"><!----></template></md-focus-ring>
        <!--?lit$764029187$--><md-ripple aria-hidden="true"><template shadowrootmode="open"><!----><div class="surface   "></div></template></md-ripple>
        <!--?lit$764029187$--><span class="icon"><slot></slot></span>
        <!--?lit$764029187$-->
        <!--?lit$764029187$--><span class="touch"></span>
  </button></template>
    <md-icon aria-hidden="true"><template shadowrootmode="open"><!----><slot></slot></template>more_horiz</md-icon>
  </md-icon-button>
    </div>
    <div class="layout vertical grow tab-pane-container"> <colab-tab class="layout vertical grow notebook-tab-content selected-tab"><!----> <div class="overflow-flexbox-workaround">
      <colab-shaded-scroller ignore-dom-changes="" tabindex="-1" role="main" id="notebook-main" class="notebook-container" aria-label="Notebook">
        <div class="notebook-scrolling-horizontal-container">
          <div class="notebook-scrolling-horizontal">
            <div class="notebook-content-background">
              <!--?lit$764029187$-->
              <div class="notebook-content ">
                <!--?lit$764029187$--><div class="add-cell">
      <div class="add-cell-buttons">
        <md-outlined-button class="add-code add-button" data-aria-label="Add code cell
Ctrl+M B" title="Add code cell
Ctrl+M B" value="" has-icon=""><template shadowrootmode="open" shadowrootdelegatesfocus><!---->
      <!--?lit$764029187$--><div class="outline"></div>
      <div class="background"></div>
      <md-focus-ring part="focus-ring" for="button" aria-hidden="true"><template shadowrootmode="open"><!----></template></md-focus-ring>
      <md-ripple part="ripple" for="button" aria-hidden="true"><template shadowrootmode="open"><!----><div class="surface   "></div></template></md-ripple>
      <!--?lit$764029187$--><button id="button" class="button" aria-label="Add code cell
Ctrl+M B">
      <!--?lit$764029187$-->
      <span class="touch"></span>
      <!--?lit$764029187$--><slot name="icon"></slot>
      <span class="label"><slot></slot></span>
      <!--?lit$764029187$-->
    
    </button>
    </template>
          <md-icon slot="icon" aria-hidden="true"><template shadowrootmode="open"><!----><slot></slot></template>add</md-icon>
          <!--?lit$764029187$-->Code
        </md-outlined-button>
        <md-outlined-button class="add-text add-button" data-aria-label="Add text cell" title="Add text cell" value="" has-icon=""><template shadowrootmode="open" shadowrootdelegatesfocus><!---->
      <!--?lit$764029187$--><div class="outline"></div>
      <div class="background"></div>
      <md-focus-ring part="focus-ring" for="button" aria-hidden="true"><template shadowrootmode="open"><!----></template></md-focus-ring>
      <md-ripple part="ripple" for="button" aria-hidden="true"><template shadowrootmode="open"><!----><div class="surface   "></div></template></md-ripple>
      <!--?lit$764029187$--><button id="button" class="button" aria-label="Add text cell">
      <!--?lit$764029187$-->
      <span class="touch"></span>
      <!--?lit$764029187$--><slot name="icon"></slot>
      <span class="label"><slot></slot></span>
      <!--?lit$764029187$-->
    
    </button>
    </template>
          <md-icon slot="icon" aria-hidden="true"><template shadowrootmode="open"><!----><slot></slot></template>add</md-icon>
          <!--?lit$764029187$-->Text
        </md-outlined-button>
        <!--?lit$764029187$-->
        <!--?lit$764029187$-->
      </div><hr>
    </div>
                <div class="notebook-cell-list"><div class="cell code" id="cell-L7WVeL13Yi6c" tabindex="-1" role="region" aria-label="Cell 0: Code cell: " style=""><div class="cell-tag-editor sticky"></div><div class="agent-focus-label">
      <md-icon aria-hidden="true"><template shadowrootmode="open"><!----><slot></slot></template>spark</md-icon>
      <!--?lit$764029187$-->Gemini
    </div><div class="cell-toolbar sticky"></div><div class="main-content" elevation="0"><div class="cell-contents"><div class="cell-mask"></div><span class="imported-info-area"></span><div class="codecell-input-output">
      <div class="inputarea horizontal layout code">
        <div class="cell-gutter">
          <!-- Bounding range for vertical scrolling of icons -->
          <div class="cell-execution-container">
            <colab-run-button><template shadowrootmode="open"><!----> <div class="cell-execution stale">
      <button id="run-button" aria-describedby="run-button-tooltip" aria-label="Run cell" aria-disabled="false">
        <!--?lit$764029187$--><span class="execution-count"><!--?lit$764029187$-->[ ]</span>
        <span aria-hidden="true" class="cell-execution-indicator"><!--?lit$764029187$-->
<svg xmlns="http://www.w3.org/2000/svg" viewBox="0 0 24 24">
  <!--?lit$764029187$-->
  <mask id="playSymbolMask">
    <rect width="100%" height="100%" fill="white"></rect>
    <polygon points="10,8 17,12 10,16" fill="black"></polygon>
  </mask>
  <circle cx="12" cy="12" r="7.8" mask="url(#playSymbolMask)" id="filledCircle"></circle>
</svg></span>
      </button>
      <!--?lit$764029187$--><colab-tooltip-trigger for="run-button" id="run-button-tooltip" aria-hidden="true" message="Run cell (Ctrl+Enter)
cell has not been executed in this session"><template shadowrootmode="open"><!----><!--?lit$764029187$--><!----><div><!--?lit$764029187$-->Run cell (Ctrl+Enter)</div><!----><!----><div><!--?lit$764029187$-->cell has not been executed in this session</div><!----><!--?--></template>
    </colab-tooltip-trigger>
      <!--?lit$764029187$--><!--?-->
    </div></template></colab-run-button>
          </div>
        </div>
      <div class="editor flex lazy-editor" style=""><pre class="lazy-virtualized" style="font-size: 14px; line-height: 19px;"><pre class="lazy-gutter"></pre><pre class="monaco-colorized colab colab colab" data-lang="notebook-python"><span><span></span></span><br></pre><colab-read-only-cell-placeholder style="display: block;"><template shadowrootmode="open"><!----><div><!--?lit$764029187$-->Start coding or <span tabindex="0" role="button" class="link">generate</span> with AI.</div></template></colab-read-only-cell-placeholder></pre></div><colab-form class="formview vertical layout flex"><div class="widget-area vertical layout"></div></colab-form></div>
    <div class="output" aria-label="Cell 0 output" role="region"><!----> <div class="output-header"> </div>
        <div class="output-content" hidden="">
          <div class="output-info"> </div>
          <div class="output-iframe-container" hidden="">
            <div class="output-iframe-sizer"> <div><div></div></div></div>
          </div>
        </div></div></div><colab-cell-next-steps><template shadowrootmode="open"><!----></template></colab-cell-next-steps></div></div><div class="add-cell">
      <div class="add-cell-buttons">
        <md-outlined-button class="add-code add-button" data-aria-label="Add code cell
Ctrl+M B" title="Add code cell
Ctrl+M B" value="" has-icon=""><template shadowrootmode="open" shadowrootdelegatesfocus><!---->
      <!--?lit$764029187$--><div class="outline"></div>
      <div class="background"></div>
      <md-focus-ring part="focus-ring" for="button" aria-hidden="true"><template shadowrootmode="open"><!----></template></md-focus-ring>
      <md-ripple part="ripple" for="button" aria-hidden="true"><template shadowrootmode="open"><!----><div class="surface"></div></template></md-ripple>
      <!--?lit$764029187$--><button id="button" class="button" aria-label="Add code cell
Ctrl+M B">
      <!--?lit$764029187$-->
      <span class="touch"></span>
      <!--?lit$764029187$--><slot name="icon"></slot>
      <span class="label"><slot></slot></span>
      <!--?lit$764029187$-->
    
    </button>
    </template>
          <md-icon slot="icon" aria-hidden="true"><template shadowrootmode="open"><!----><slot></slot></template>add</md-icon>
          <!--?lit$764029187$-->Code
        </md-outlined-button>
        <md-outlined-button class="add-text add-button" data-aria-label="Add text cell" title="Add text cell" value="" has-icon=""><template shadowrootmode="open" shadowrootdelegatesfocus><!---->
      <!--?lit$764029187$--><div class="outline"></div>
      <div class="background"></div>
      <md-focus-ring part="focus-ring" for="button" aria-hidden="true"><template shadowrootmode="open"><!----></template></md-focus-ring>
      <md-ripple part="ripple" for="button" aria-hidden="true"><template shadowrootmode="open"><!----><div class="surface"></div></template></md-ripple>
      <!--?lit$764029187$--><button id="button" class="button" aria-label="Add text cell">
      <!--?lit$764029187$-->
      <span class="touch"></span>
      <!--?lit$764029187$--><slot name="icon"></slot>
      <span class="label"><slot></slot></span>
      <!--?lit$764029187$-->
    
    </button>
    </template>
          <md-icon slot="icon" aria-hidden="true"><template shadowrootmode="open"><!----><slot></slot></template>add</md-icon>
          <!--?lit$764029187$-->Text
        </md-outlined-button>
        <!--?lit$764029187$-->
        <!--?lit$764029187$-->
      </div><hr>
    </div></div><div class="cell text" id="cell-JFighMz7Y3uP" tabindex="-1" role="region" aria-label="Cell 1: Text cell: KNN &amp; PCA | Assignment" style="opacity: 1;"><div class="cell-tag-editor sticky"></div><div class="agent-focus-label">
      <md-icon aria-hidden="true"><template shadowrootmode="open"><!----><slot></slot></template>spark</md-icon>
      <!--?lit$764029187$-->Gemini
    </div><div class="cell-toolbar sticky"></div><div class="main-content" elevation="0"><div class="cell-contents"><div class="cell-mask"></div><span class="imported-info-area"></span><!----> <div class="toolbar-root"><div class="markdown-toolbar"><!----><!--?lit$764029187$--><!----><md-icon-button id="markdown-toolbar-header-JFighMz7Y3uP" class="markdown-toolbar-header" aria-describedby="markdown-toolbar-header-JFighMz7Y3uP-tooltip" data-aria-label="Toggle heading" value=""><template shadowrootmode="open" shadowrootdelegatesfocus><!----><button id="button" class="icon-button  standard " aria-label="Toggle heading">
        <!--?lit$764029187$--><md-focus-ring part="focus-ring" for="button" aria-hidden="true"><template shadowrootmode="open"><!----></template></md-focus-ring>
        <!--?lit$764029187$--><md-ripple aria-hidden="true"><template shadowrootmode="open"><!----><div class="surface"></div></template></md-ripple>
        <!--?lit$764029187$--><span class="icon"><slot></slot></span>
        <!--?lit$764029187$-->
        <!--?lit$764029187$--><span class="touch"></span>
  </button></template>
        <!--?lit$764029187$--><md-icon aria-hidden="true"><template shadowrootmode="open"><!----><slot></slot></template><!--?lit$764029187$-->format_size</md-icon>
      </md-icon-button>
      <colab-tooltip-trigger aria-hidden="true" for="markdown-toolbar-header-JFighMz7Y3uP" id="markdown-toolbar-header-JFighMz7Y3uP-tooltip" message="Toggle heading"><template shadowrootmode="open"><!----><!--?lit$764029187$--><!----><div><!--?lit$764029187$-->Toggle heading</div><!----><!--?--></template></colab-tooltip-trigger><!----><!----><md-icon-button id="markdown-toolbar-bold-JFighMz7Y3uP" class="markdown-toolbar-bold" aria-describedby="markdown-toolbar-bold-JFighMz7Y3uP-tooltip" data-aria-label="Bold" value=""><template shadowrootmode="open" shadowrootdelegatesfocus><!----><button id="button" class="icon-button  standard " aria-label="Bold">
        <!--?lit$764029187$--><md-focus-ring part="focus-ring" for="button" aria-hidden="true"><template shadowrootmode="open"><!----></template></md-focus-ring>
        <!--?lit$764029187$--><md-ripple aria-hidden="true"><template shadowrootmode="open"><!----><div class="surface"></div></template></md-ripple>
        <!--?lit$764029187$--><span class="icon"><slot></slot></span>
        <!--?lit$764029187$-->
        <!--?lit$764029187$--><span class="touch"></span>
  </button></template>
        <!--?lit$764029187$--><md-icon aria-hidden="true"><template shadowrootmode="open"><!----><slot></slot></template><!--?lit$764029187$-->format_bold</md-icon>
      </md-icon-button>
      <colab-tooltip-trigger aria-hidden="true" for="markdown-toolbar-bold-JFighMz7Y3uP" id="markdown-toolbar-bold-JFighMz7Y3uP-tooltip" message="Bold"><template shadowrootmode="open"><!----><!--?lit$764029187$--><!----><div><!--?lit$764029187$-->Bold</div><!----><!--?--></template></colab-tooltip-trigger><!----><!----><md-icon-button id="markdown-toolbar-italic-JFighMz7Y3uP" class="markdown-toolbar-italic" aria-describedby="markdown-toolbar-italic-JFighMz7Y3uP-tooltip" data-aria-label="Italicize" value=""><template shadowrootmode="open" shadowrootdelegatesfocus><!----><button id="button" class="icon-button  standard " aria-label="Italicize">
        <!--?lit$764029187$--><md-focus-ring part="focus-ring" for="button" aria-hidden="true"><template shadowrootmode="open"><!----></template></md-focus-ring>
        <!--?lit$764029187$--><md-ripple aria-hidden="true"><template shadowrootmode="open"><!----><div class="surface"></div></template></md-ripple>
        <!--?lit$764029187$--><span class="icon"><slot></slot></span>
        <!--?lit$764029187$-->
        <!--?lit$764029187$--><span class="touch"></span>
  </button></template>
        <!--?lit$764029187$--><md-icon aria-hidden="true"><template shadowrootmode="open"><!----><slot></slot></template><!--?lit$764029187$-->format_italic</md-icon>
      </md-icon-button>
      <colab-tooltip-trigger aria-hidden="true" for="markdown-toolbar-italic-JFighMz7Y3uP" id="markdown-toolbar-italic-JFighMz7Y3uP-tooltip" message="Italicize"><template shadowrootmode="open"><!----><!--?lit$764029187$--><!----><div><!--?lit$764029187$-->Italicize</div><!----><!--?--></template></colab-tooltip-trigger><!----><!----><md-icon-button id="markdown-toolbar-code-JFighMz7Y3uP" class="markdown-toolbar-code" aria-describedby="markdown-toolbar-code-JFighMz7Y3uP-tooltip" data-aria-label="Format as code" value=""><template shadowrootmode="open" shadowrootdelegatesfocus><!----><button id="button" class="icon-button  standard " aria-label="Format as code">
        <!--?lit$764029187$--><md-focus-ring part="focus-ring" for="button" aria-hidden="true"><template shadowrootmode="open"><!----></template></md-focus-ring>
        <!--?lit$764029187$--><md-ripple aria-hidden="true"><template shadowrootmode="open"><!----><div class="surface   "></div></template></md-ripple>
        <!--?lit$764029187$--><span class="icon"><slot></slot></span>
        <!--?lit$764029187$-->
        <!--?lit$764029187$--><span class="touch"></span>
  </button></template>
        <!--?lit$764029187$--><md-icon aria-hidden="true"><template shadowrootmode="open"><!----><slot></slot></template><!--?lit$764029187$-->code</md-icon>
      </md-icon-button>
      <colab-tooltip-trigger aria-hidden="true" for="markdown-toolbar-code-JFighMz7Y3uP" id="markdown-toolbar-code-JFighMz7Y3uP-tooltip" message="Format as code"><template shadowrootmode="open"><!----><!--?lit$764029187$--><!----><div><!--?lit$764029187$-->Format as code</div><!----><!--?--></template></colab-tooltip-trigger><!----><!----><md-icon-button id="markdown-toolbar-link-JFighMz7Y3uP" class="markdown-toolbar-link" aria-describedby="markdown-toolbar-link-JFighMz7Y3uP-tooltip" data-aria-label="Insert link" value=""><template shadowrootmode="open" shadowrootdelegatesfocus><!----><button id="button" class="icon-button  standard " aria-label="Insert link">
        <!--?lit$764029187$--><md-focus-ring part="focus-ring" for="button" aria-hidden="true"><template shadowrootmode="open"><!----></template></md-focus-ring>
        <!--?lit$764029187$--><md-ripple aria-hidden="true"><template shadowrootmode="open"><!----><div class="surface"></div></template></md-ripple>
        <!--?lit$764029187$--><span class="icon"><slot></slot></span>
        <!--?lit$764029187$-->
        <!--?lit$764029187$--><span class="touch"></span>
  </button></template>
        <!--?lit$764029187$--><md-icon aria-hidden="true"><template shadowrootmode="open"><!----><slot></slot></template><!--?lit$764029187$-->link</md-icon>
      </md-icon-button>
      <colab-tooltip-trigger aria-hidden="true" for="markdown-toolbar-link-JFighMz7Y3uP" id="markdown-toolbar-link-JFighMz7Y3uP-tooltip" message="Insert link"><template shadowrootmode="open"><!----><!--?lit$764029187$--><!----><div><!--?lit$764029187$-->Insert link</div><!----><!--?--></template></colab-tooltip-trigger><!----><!----><label for="markdown-image-input-JFighMz7Y3uP" class="colab-icon markdown-toolbar-insert-image">
        <md-ripple aria-hidden="true"><template shadowrootmode="open"><!----><div class="surface   "></div></template></md-ripple>
        <span role="button" tabindex="0" id="markdown-toolbar-insert-image-JFighMz7Y3uP" aria-describedby="markdown-toolbar-insert-image-JFighMz7Y3uP-tooltip" aria-label="Insert image">
          <md-focus-ring aria-hidden="true"><template shadowrootmode="open"><!----></template></md-focus-ring>
          <md-icon aria-hidden="true"><template shadowrootmode="open"><!----><slot></slot></template>image</md-icon>
        </span>
        <colab-tooltip-trigger aria-hidden="true" for="markdown-toolbar-insert-image-JFighMz7Y3uP" id="markdown-toolbar-insert-image-JFighMz7Y3uP-tooltip" message="Insert image"><template shadowrootmode="open"><!----><!--?lit$764029187$--><!----><div><!--?lit$764029187$-->Insert image</div><!----><!--?--></template></colab-tooltip-trigger>
      </label>
      <input class="markdown-image-input" type="file" multiple="" accept="image/*" id="markdown-image-input-JFighMz7Y3uP"><!----><!----><md-icon-button id="markdown-toolbar-blockquote-JFighMz7Y3uP" class="markdown-toolbar-blockquote" aria-describedby="markdown-toolbar-blockquote-JFighMz7Y3uP-tooltip" data-aria-label="Add blockquote" value=""><template shadowrootmode="open" shadowrootdelegatesfocus><!----><button id="button" class="icon-button  standard " aria-label="Add blockquote">
        <!--?lit$764029187$--><md-focus-ring part="focus-ring" for="button" aria-hidden="true"><template shadowrootmode="open"><!----></template></md-focus-ring>
        <!--?lit$764029187$--><md-ripple aria-hidden="true"><template shadowrootmode="open"><!----><div class="surface   "></div></template></md-ripple>
        <!--?lit$764029187$--><span class="icon"><slot></slot></span>
        <!--?lit$764029187$-->
        <!--?lit$764029187$--><span class="touch"></span>
  </button></template>
        <!--?lit$764029187$--><md-icon aria-hidden="true"><template shadowrootmode="open"><!----><slot></slot></template><!--?lit$764029187$-->format_quote</md-icon>
      </md-icon-button>
      <colab-tooltip-trigger aria-hidden="true" for="markdown-toolbar-blockquote-JFighMz7Y3uP" id="markdown-toolbar-blockquote-JFighMz7Y3uP-tooltip" message="Add blockquote"><template shadowrootmode="open"><!----><!--?lit$764029187$--><!----><div><!--?lit$764029187$-->Add blockquote</div><!----><!--?--></template></colab-tooltip-trigger><!----><!----><md-icon-button id="markdown-toolbar-ol-JFighMz7Y3uP" class="markdown-toolbar-ol" aria-describedby="markdown-toolbar-ol-JFighMz7Y3uP-tooltip" data-aria-label="Add numbered list" value=""><template shadowrootmode="open" shadowrootdelegatesfocus><!----><button id="button" class="icon-button  standard " aria-label="Add numbered list">
        <!--?lit$764029187$--><md-focus-ring part="focus-ring" for="button" aria-hidden="true"><template shadowrootmode="open"><!----></template></md-focus-ring>
        <!--?lit$764029187$--><md-ripple aria-hidden="true"><template shadowrootmode="open"><!----><div class="surface"></div></template></md-ripple>
        <!--?lit$764029187$--><span class="icon"><slot></slot></span>
        <!--?lit$764029187$-->
        <!--?lit$764029187$--><span class="touch"></span>
  </button></template>
        <!--?lit$764029187$--><md-icon aria-hidden="true"><template shadowrootmode="open"><!----><slot></slot></template><!--?lit$764029187$-->format_list_numbered</md-icon>
      </md-icon-button>
      <colab-tooltip-trigger aria-hidden="true" for="markdown-toolbar-ol-JFighMz7Y3uP" id="markdown-toolbar-ol-JFighMz7Y3uP-tooltip" message="Add numbered list"><template shadowrootmode="open"><!----><!--?lit$764029187$--><!----><div><!--?lit$764029187$-->Add numbered list</div><!----><!--?--></template></colab-tooltip-trigger><!----><!----><md-icon-button id="markdown-toolbar-ul-JFighMz7Y3uP" class="markdown-toolbar-ul" aria-describedby="markdown-toolbar-ul-JFighMz7Y3uP-tooltip" data-aria-label="Add bulleted list" value=""><template shadowrootmode="open" shadowrootdelegatesfocus><!----><button id="button" class="icon-button  standard " aria-label="Add bulleted list">
        <!--?lit$764029187$--><md-focus-ring part="focus-ring" for="button" aria-hidden="true"><template shadowrootmode="open"><!----></template></md-focus-ring>
        <!--?lit$764029187$--><md-ripple aria-hidden="true"><template shadowrootmode="open"><!----><div class="surface   "></div></template></md-ripple>
        <!--?lit$764029187$--><span class="icon"><slot></slot></span>
        <!--?lit$764029187$-->
        <!--?lit$764029187$--><span class="touch"></span>
  </button></template>
        <!--?lit$764029187$--><md-icon aria-hidden="true"><template shadowrootmode="open"><!----><slot></slot></template><!--?lit$764029187$-->format_list_bulleted</md-icon>
      </md-icon-button>
      <colab-tooltip-trigger aria-hidden="true" for="markdown-toolbar-ul-JFighMz7Y3uP" id="markdown-toolbar-ul-JFighMz7Y3uP-tooltip" message="Add bulleted list"><template shadowrootmode="open"><!----><!--?lit$764029187$--><!----><div><!--?lit$764029187$-->Add bulleted list</div><!----><!--?--></template></colab-tooltip-trigger><!----><!----><md-icon-button id="markdown-toolbar-hr-JFighMz7Y3uP" class="markdown-toolbar-hr" aria-describedby="markdown-toolbar-hr-JFighMz7Y3uP-tooltip" data-aria-label="Add horizontal rule" value=""><template shadowrootmode="open" shadowrootdelegatesfocus><!----><button id="button" class="icon-button  standard " aria-label="Add horizontal rule">
        <!--?lit$764029187$--><md-focus-ring part="focus-ring" for="button" aria-hidden="true"><template shadowrootmode="open"><!----></template></md-focus-ring>
        <!--?lit$764029187$--><md-ripple aria-hidden="true"><template shadowrootmode="open"><!----><div class="surface"></div></template></md-ripple>
        <!--?lit$764029187$--><span class="icon"><slot></slot></span>
        <!--?lit$764029187$-->
        <!--?lit$764029187$--><span class="touch"></span>
  </button></template>
        <!--?lit$764029187$--><md-icon aria-hidden="true"><template shadowrootmode="open"><!----><slot></slot></template><!--?lit$764029187$-->horizontal_rule</md-icon>
      </md-icon-button>
      <colab-tooltip-trigger aria-hidden="true" for="markdown-toolbar-hr-JFighMz7Y3uP" id="markdown-toolbar-hr-JFighMz7Y3uP-tooltip" message="Add horizontal rule"><template shadowrootmode="open"><!----><!--?lit$764029187$--><!----><div><!--?lit$764029187$-->Add horizontal rule</div><!----><!--?--></template></colab-tooltip-trigger><!----><!----><md-icon-button id="markdown-toolbar-latex-JFighMz7Y3uP" class="markdown-toolbar-latex" aria-describedby="markdown-toolbar-latex-JFighMz7Y3uP-tooltip" data-aria-label="LaTeX" value=""><template shadowrootmode="open" shadowrootdelegatesfocus><!----><button id="button" class="icon-button  standard " aria-label="LaTeX">
        <!--?lit$764029187$--><md-focus-ring part="focus-ring" for="button" aria-hidden="true"><template shadowrootmode="open"><!----></template></md-focus-ring>
        <!--?lit$764029187$--><md-ripple aria-hidden="true"><template shadowrootmode="open"><!----><div class="surface   "></div></template></md-ripple>
        <!--?lit$764029187$--><span class="icon"><slot></slot></span>
        <!--?lit$764029187$-->
        <!--?lit$764029187$--><span class="touch"></span>
  </button></template>
        <!--?lit$764029187$--><span aria-hidden="true">ψ</span>
      </md-icon-button>
      <colab-tooltip-trigger aria-hidden="true" for="markdown-toolbar-latex-JFighMz7Y3uP" id="markdown-toolbar-latex-JFighMz7Y3uP-tooltip" message="LaTeX"><template shadowrootmode="open"><!----><!--?lit$764029187$--><!----><div><!--?lit$764029187$-->LaTeX</div><!----><!--?--></template></colab-tooltip-trigger><!----><!----><md-icon-button id="markdown-toolbar-emoji-JFighMz7Y3uP" class="markdown-toolbar-emoji" aria-describedby="markdown-toolbar-emoji-JFighMz7Y3uP-tooltip" data-aria-label="Insert emoji" value=""><template shadowrootmode="open" shadowrootdelegatesfocus><!----><button id="button" class="icon-button  standard " aria-label="Insert emoji">
        <!--?lit$764029187$--><md-focus-ring part="focus-ring" for="button" aria-hidden="true"><template shadowrootmode="open"><!----></template></md-focus-ring>
        <!--?lit$764029187$--><md-ripple aria-hidden="true"><template shadowrootmode="open"><!----><div class="surface   "></div></template></md-ripple>
        <!--?lit$764029187$--><span class="icon"><slot></slot></span>
        <!--?lit$764029187$-->
        <!--?lit$764029187$--><span class="touch"></span>
  </button></template>
        <!--?lit$764029187$--><md-icon aria-hidden="true"><template shadowrootmode="open"><!----><slot></slot></template><!--?lit$764029187$-->mood</md-icon>
      </md-icon-button>
      <colab-tooltip-trigger aria-hidden="true" for="markdown-toolbar-emoji-JFighMz7Y3uP" id="markdown-toolbar-emoji-JFighMz7Y3uP-tooltip" message="Insert emoji"><template shadowrootmode="open"><!----><!--?lit$764029187$--><!----><div><!--?lit$764029187$-->Insert emoji</div><!----><!--?--></template></colab-tooltip-trigger><!----><!----><md-icon-button id="markdown-toolbar-preview-JFighMz7Y3uP" class="markdown-toolbar-preview" aria-describedby="markdown-toolbar-preview-JFighMz7Y3uP-tooltip" data-aria-label="Reposition markdown preview" value=""><template shadowrootmode="open" shadowrootdelegatesfocus><!----><button id="button" class="icon-button  standard " aria-label="Reposition markdown preview">
        <!--?lit$764029187$--><md-focus-ring part="focus-ring" for="button" aria-hidden="true"><template shadowrootmode="open"><!----></template></md-focus-ring>
        <!--?lit$764029187$--><md-ripple aria-hidden="true"><template shadowrootmode="open"><!----><div class="surface"></div></template></md-ripple>
        <!--?lit$764029187$--><span class="icon"><slot></slot></span>
        <!--?lit$764029187$-->
        <!--?lit$764029187$--><span class="touch"></span>
  </button></template>
        <!--?lit$764029187$--><md-icon aria-hidden="true"><template shadowrootmode="open"><!----><slot></slot></template><!--?lit$764029187$--><svg viewBox="0 0 24 24"><!--?lit$764029187$--><g id="markdown-preview-below">
  <rect width="20" height="18" x="2" y="2" rx="2" ry="2" style="fill:none;stroke:var(--colab-icon-color)"></rect>
  <line x1="4.5" y1="13" x2="19.5" y2="13" style="stroke:var(--colab-primary-text-color);stroke-dasharray:2"></line>
  <line x1="2.5" y1="4" x2="21.5" y2="4" style="stroke:var(--colab-icon-color);stroke-width:3px;"></line>
</g></svg></md-icon>
      </md-icon-button>
      <colab-tooltip-trigger aria-hidden="true" for="markdown-toolbar-preview-JFighMz7Y3uP" id="markdown-toolbar-preview-JFighMz7Y3uP-tooltip" message="Reposition markdown preview"><template shadowrootmode="open"><!----><!--?lit$764029187$--><!----><div><!--?lit$764029187$-->Reposition markdown preview</div><!----><!--?--></template></colab-tooltip-trigger><!----><!--?--></div></div>
      <div class="editor-container horizontal">
        <div class="editor-root"><div class="editor flex monaco" data-keybinding-context="4" data-mode-id="markdown" style="height: 29px; --vscode-editorCodeLens-lineHeight: 16px; --vscode-editorCodeLens-fontSize: 12px; --vscode-editorCodeLens-fontFeatureSettings: &quot;liga&quot; off, &quot;calt&quot; off; display: none;"><div class="monaco-editor no-user-select  showUnused showDeprecated vs" role="code" data-uri="inmemory://model/6" style="width: 641px; height: 29px;"><div data-mprt="3" class="overflow-guard" style="width: 641px; height: 29px; overflow: clip;"><div class="margin" role="presentation" aria-hidden="true" style="position: absolute; contain: strict; will-change: unset; top: 0px; height: 29px; width: 6px;"><div class="glyph-margin" style="left: 0px; width: 0px; height: 29px;"></div><div class="margin-view-zones" role="presentation" aria-hidden="true" style="position: absolute;"></div><div class="margin-view-overlays" role="presentation" aria-hidden="true" style="position: absolute; font-family: monospace, Consolas, &quot;Courier New&quot;, monospace; font-weight: normal; font-size: 14px; font-feature-settings: &quot;liga&quot; 0, &quot;calt&quot; 0; font-variation-settings: normal; line-height: 19px; letter-spacing: 0px; width: 6px; height: 29px;"><div style="position:absolute;top:0px;width:100%;height:19px;"><div class="current-line current-line-margin-both" style="width:6px; height:19px;"></div></div></div><div class="glyph-margin-widgets" style="position: absolute; top: 0px;"></div></div><div class="monaco-scrollable-element editor-scrollable vs" role="presentation" data-mprt="5" style="position: absolute; overflow: hidden; left: 6px; width: 635px; height: 29px;"><div class="lines-content monaco-editor-background" style="position: absolute; overflow: hidden; width: 1e+06px; height: 29px; contain: strict; will-change: unset; top: 0px; left: 0px;"><div class="view-overlays" role="presentation" aria-hidden="true" style="position: absolute; font-family: monospace, Consolas, &quot;Courier New&quot;, monospace; font-weight: normal; font-size: 14px; font-feature-settings: &quot;liga&quot; 0, &quot;calt&quot; 0; font-variation-settings: normal; line-height: 19px; letter-spacing: 0px; height: 0px; width: 635px;"><div style="position:absolute;top:0px;width:100%;height:19px;"><div class="current-line" style="width:635px; height:19px;"></div></div></div><div role="presentation" aria-hidden="true" class="view-rulers"></div><div class="view-zones" role="presentation" aria-hidden="true" style="position: absolute;"></div><div class="view-lines monaco-mouse-cursor-text" role="presentation" aria-hidden="true" data-mprt="7" style="position: absolute; font-family: monospace, Consolas, &quot;Courier New&quot;, monospace; font-weight: normal; font-size: 14px; font-feature-settings: &quot;liga&quot; 0, &quot;calt&quot; 0; font-variation-settings: normal; line-height: 19px; letter-spacing: 0px; width: 635px; height: 29px;"><div style="top:0px;height:19px;" class="view-line"><span><span class="mtk6">#&nbsp;KNN&nbsp;&amp;&nbsp;PCA&nbsp;|&nbsp;Assignment</span></span></div></div><div data-mprt="1" class="contentWidgets" style="position: absolute; top: 0px;"><div class="lightBulbWidget codicon codicon-light-bulb" widgetid="LightBulbWidget" title="Show Code Actions (Ctrl+.)" style="position: absolute; display: none; visibility: hidden; max-width: 635px;"></div></div><div role="presentation" aria-hidden="true" class="cursors-layer cursor-line-style cursor-solid"><div class="cursor monaco-mouse-cursor-text " style="height: 19px; top: 0px; left: 184px; font-family: monospace, Consolas, &quot;Courier New&quot;, monospace; font-weight: normal; font-size: 14px; font-feature-settings: &quot;liga&quot; 0, &quot;calt&quot; 0; font-variation-settings: normal; line-height: 19px; letter-spacing: 0px; display: block; visibility: hidden; padding-left: 1px; width: 2px;"></div></div></div><div role="presentation" aria-hidden="true" class="invisible scrollbar horizontal" style="position: absolute; width: 621px; height: 10px; left: 0px; bottom: 0px;"><div class="slider" style="position: absolute; top: 0px; left: 0px; height: 10px; transform: translate3d(0px, 0px, 0px); contain: strict; will-change: unset; width: 621px;"></div></div><canvas class="decorationsOverviewRuler" aria-hidden="true" width="14" height="29" style="position: absolute; transform: translate3d(0px, 0px, 0px); contain: strict; top: 0px; right: 0px; width: 14px; height: 29px; will-change: unset; display: block;"></canvas><div role="presentation" aria-hidden="true" class="invisible scrollbar vertical" style="position: absolute; width: 14px; height: 29px; right: 0px; top: 0px;"><div class="slider" style="position: absolute; top: 0px; left: 0px; width: 14px; transform: translate3d(0px, 0px, 0px); contain: strict; will-change: unset; height: 29px;"></div></div></div><div role="presentation" aria-hidden="true" style="width: 641px;"></div><textarea data-mprt="6" class="inputarea monaco-mouse-cursor-text" wrap="on" autocorrect="off" autocapitalize="off" autocomplete="off" spellcheck="false" aria-label="Editor content;Press Alt+F1 for Accessibility Options." tabindex="0" role="textbox" aria-roledescription="editor" aria-multiline="true" aria-haspopup="false" aria-autocomplete="both" style="tab-size: 15.3984px; font-family: monospace, Consolas, &quot;Courier New&quot;, monospace; font-weight: normal; font-size: 14px; font-feature-settings: &quot;liga&quot; 0, &quot;calt&quot; 0; font-variation-settings: normal; line-height: 19px; letter-spacing: 0px; top: 0px; left: 6px; width: 616px; height: 1px;"></textarea><div style="position: absolute; top: 0px; left: 0px; width: 0px; height: 0px;" class="monaco-editor-background textAreaCover"></div><div data-mprt="4" class="overlayWidgets" style="width: 641px;"></div><div data-mprt="8" class="minimap slider-mouseover" role="presentation" aria-hidden="true" style="position: absolute; left: 0px; width: 0px; height: 29px;"><div class="minimap-shadow-hidden" style="height: 29px;"></div><canvas width="0" height="29" style="position: absolute; left: 0px; width: 0px; height: 29px;"></canvas><canvas class="minimap-decorations-layer" width="0" height="29" style="position: absolute; left: 0px; width: 0px; height: 29px;"></canvas><div class="minimap-slider" style="position: absolute; transform: translate3d(0px, 0px, 0px); contain: strict; width: 0px; will-change: unset;"><div class="minimap-slider-horizontal" style="position: absolute; width: 0px; height: 0px;"></div></div></div><div role="presentation" aria-hidden="true" class="blockDecorations-container"></div></div><div data-mprt="2" class="overflowingContentWidgets" style="display: none;"></div><div class=".in-cell-overflowing"><div widgetid="editor.contrib.quickInputWidget" style="position: absolute; top: 0px; right: 50%;"></div></div></div></div></div>
        <div class="text-top-div">
          <div class="markdown"><span><div class="text-cell-section-header layout horizontal center"><md-icon-button class="header-section-toggle" title="Collapse 12 child cells under KNN &amp; PCA | Assignment (Press &lt;Shift&gt; to also collapse sibling sections)" data-aria-label="Collapse 12 child cells under KNN &amp; PCA | Assignment (Press &lt;Shift&gt; to also collapse sibling sections)" style="" value=""><template shadowrootmode="open" shadowrootdelegatesfocus><!----><button id="button" class="icon-button  standard " aria-label="Collapse 12 child cells under KNN &amp; PCA | Assignment (Press &lt;Shift&gt; to also collapse sibling sections)">
        <!--?lit$764029187$--><md-focus-ring part="focus-ring" for="button" aria-hidden="true"><template shadowrootmode="open"><!----></template></md-focus-ring>
        <!--?lit$764029187$--><md-ripple aria-hidden="true"><template shadowrootmode="open"><!----><div class="surface   "></div></template></md-ripple>
        <!--?lit$764029187$--><span class="icon"><slot></slot></span>
        <!--?lit$764029187$-->
        <!--?lit$764029187$--><span class="touch"></span>
  </button></template><md-icon aria-hidden="true"><template shadowrootmode="open"><!----><slot></slot></template>keyboard_arrow_down</md-icon></md-icon-button><h1>KNN &amp; PCA | Assignment</h1></div>
</span></div>
        </div>
      </div>

      <div class="section-header" style="display: none;">
        <colab-run-button><template shadowrootmode="open"><!----> <div class="cell-execution">
      <button id="run-button" aria-label="Run cell" aria-disabled="false">
        <!--?lit$764029187$--><span class="execution-count"><!--?lit$764029187$-->[ ]</span>
        <span aria-hidden="true" class="cell-execution-indicator"><!--?lit$764029187$-->
<svg xmlns="http://www.w3.org/2000/svg" viewBox="0 0 24 24">
  <!--?lit$764029187$-->
  <mask id="playSymbolMask">
    <rect width="100%" height="100%" fill="white"></rect>
    <polygon points="10,8 17,12 10,16" fill="black"></polygon>
  </mask>
  <circle cx="12" cy="12" r="7.8" mask="url(#playSymbolMask)" id="filledCircle"></circle>
</svg></span>
      </button>
      <!--?lit$764029187$-->
      <!--?lit$764029187$--><!--?-->
    </div></template></colab-run-button>
        <div class="section-header-container" title="click to expand">
          <md-icon aria-hidden="true"><template shadowrootmode="open"><!----><slot></slot></template>subdirectory_arrow_right</md-icon>
          <span>12 cells hidden</span>
        </div>
      </div></div></div><div class="add-cell">
      <div class="add-cell-buttons">
        <md-outlined-button class="add-code add-button" data-aria-label="Add code cell
Ctrl+M B" title="Add code cell
Ctrl+M B" value="" has-icon=""><template shadowrootmode="open" shadowrootdelegatesfocus><!---->
      <!--?lit$764029187$--><div class="outline"></div>
      <div class="background"></div>
      <md-focus-ring part="focus-ring" for="button" aria-hidden="true"><template shadowrootmode="open"><!----></template></md-focus-ring>
      <md-ripple part="ripple" for="button" aria-hidden="true"><template shadowrootmode="open"><!----><div class="surface   "></div></template></md-ripple>
      <!--?lit$764029187$--><button id="button" class="button" aria-label="Add code cell
Ctrl+M B">
      <!--?lit$764029187$-->
      <span class="touch"></span>
      <!--?lit$764029187$--><slot name="icon"></slot>
      <span class="label"><slot></slot></span>
      <!--?lit$764029187$-->
    
    </button>
    </template>
          <md-icon slot="icon" aria-hidden="true"><template shadowrootmode="open"><!----><slot></slot></template>add</md-icon>
          <!--?lit$764029187$-->Code
        </md-outlined-button>
        <md-outlined-button class="add-text add-button" data-aria-label="Add text cell" title="Add text cell" value="" has-icon=""><template shadowrootmode="open" shadowrootdelegatesfocus><!---->
      <!--?lit$764029187$--><div class="outline"></div>
      <div class="background"></div>
      <md-focus-ring part="focus-ring" for="button" aria-hidden="true"><template shadowrootmode="open"><!----></template></md-focus-ring>
      <md-ripple part="ripple" for="button" aria-hidden="true"><template shadowrootmode="open"><!----><div class="surface"></div></template></md-ripple>
      <!--?lit$764029187$--><button id="button" class="button" aria-label="Add text cell">
      <!--?lit$764029187$-->
      <span class="touch"></span>
      <!--?lit$764029187$--><slot name="icon"></slot>
      <span class="label"><slot></slot></span>
      <!--?lit$764029187$-->
    
    </button>
    </template>
          <md-icon slot="icon" aria-hidden="true"><template shadowrootmode="open"><!----><slot></slot></template>add</md-icon>
          <!--?lit$764029187$-->Text
        </md-outlined-button>
        <!--?lit$764029187$-->
        <!--?lit$764029187$-->
      </div><hr>
    </div></div><div class="cell text" id="cell-m4mPhN_7YwPH" tabindex="-1" role="region" aria-label="Cell 2: Text cell: " style="opacity: 1;"><div class="cell-tag-editor sticky"></div><div class="agent-focus-label">
      <md-icon aria-hidden="true"><template shadowrootmode="open"><!----><slot></slot></template>spark</md-icon>
      <!--?lit$764029187$-->Gemini
    </div><div class="cell-toolbar sticky"></div><div class="main-content" elevation="0"><div class="cell-contents"><div class="cell-mask"></div><span class="imported-info-area"></span><!----> <div class="toolbar-root"><div class="markdown-toolbar"><!----><!--?lit$764029187$--><!----><md-icon-button id="markdown-toolbar-header-m4mPhN_7YwPH" class="markdown-toolbar-header" aria-describedby="markdown-toolbar-header-m4mPhN_7YwPH-tooltip" data-aria-label="Toggle heading" value=""><template shadowrootmode="open" shadowrootdelegatesfocus><!----><button id="button" class="icon-button  standard " aria-label="Toggle heading">
        <!--?lit$764029187$--><md-focus-ring part="focus-ring" for="button" aria-hidden="true"><template shadowrootmode="open"><!----></template></md-focus-ring>
        <!--?lit$764029187$--><md-ripple aria-hidden="true"><template shadowrootmode="open"><!----><div class="surface   "></div></template></md-ripple>
        <!--?lit$764029187$--><span class="icon"><slot></slot></span>
        <!--?lit$764029187$-->
        <!--?lit$764029187$--><span class="touch"></span>
  </button></template>
        <!--?lit$764029187$--><md-icon aria-hidden="true"><template shadowrootmode="open"><!----><slot></slot></template><!--?lit$764029187$-->format_size</md-icon>
      </md-icon-button>
      <colab-tooltip-trigger aria-hidden="true" for="markdown-toolbar-header-m4mPhN_7YwPH" id="markdown-toolbar-header-m4mPhN_7YwPH-tooltip" message="Toggle heading"><template shadowrootmode="open"><!----><!--?lit$764029187$--><!----><div><!--?lit$764029187$-->Toggle heading</div><!----><!--?--></template></colab-tooltip-trigger><!----><!----><md-icon-button id="markdown-toolbar-bold-m4mPhN_7YwPH" class="markdown-toolbar-bold" aria-describedby="markdown-toolbar-bold-m4mPhN_7YwPH-tooltip" data-aria-label="Bold" value=""><template shadowrootmode="open" shadowrootdelegatesfocus><!----><button id="button" class="icon-button  standard " aria-label="Bold">
        <!--?lit$764029187$--><md-focus-ring part="focus-ring" for="button" aria-hidden="true"><template shadowrootmode="open"><!----></template></md-focus-ring>
        <!--?lit$764029187$--><md-ripple aria-hidden="true"><template shadowrootmode="open"><!----><div class="surface   "></div></template></md-ripple>
        <!--?lit$764029187$--><span class="icon"><slot></slot></span>
        <!--?lit$764029187$-->
        <!--?lit$764029187$--><span class="touch"></span>
  </button></template>
        <!--?lit$764029187$--><md-icon aria-hidden="true"><template shadowrootmode="open"><!----><slot></slot></template><!--?lit$764029187$-->format_bold</md-icon>
      </md-icon-button>
      <colab-tooltip-trigger aria-hidden="true" for="markdown-toolbar-bold-m4mPhN_7YwPH" id="markdown-toolbar-bold-m4mPhN_7YwPH-tooltip" message="Bold"><template shadowrootmode="open"><!----><!--?lit$764029187$--><!----><div><!--?lit$764029187$-->Bold</div><!----><!--?--></template></colab-tooltip-trigger><!----><!----><md-icon-button id="markdown-toolbar-italic-m4mPhN_7YwPH" class="markdown-toolbar-italic" aria-describedby="markdown-toolbar-italic-m4mPhN_7YwPH-tooltip" data-aria-label="Italicize" value=""><template shadowrootmode="open" shadowrootdelegatesfocus><!----><button id="button" class="icon-button  standard " aria-label="Italicize">
        <!--?lit$764029187$--><md-focus-ring part="focus-ring" for="button" aria-hidden="true"><template shadowrootmode="open"><!----></template></md-focus-ring>
        <!--?lit$764029187$--><md-ripple aria-hidden="true"><template shadowrootmode="open"><!----><div class="surface"></div></template></md-ripple>
        <!--?lit$764029187$--><span class="icon"><slot></slot></span>
        <!--?lit$764029187$-->
        <!--?lit$764029187$--><span class="touch"></span>
  </button></template>
        <!--?lit$764029187$--><md-icon aria-hidden="true"><template shadowrootmode="open"><!----><slot></slot></template><!--?lit$764029187$-->format_italic</md-icon>
      </md-icon-button>
      <colab-tooltip-trigger aria-hidden="true" for="markdown-toolbar-italic-m4mPhN_7YwPH" id="markdown-toolbar-italic-m4mPhN_7YwPH-tooltip" message="Italicize"><template shadowrootmode="open"><!----><!--?lit$764029187$--><!----><div><!--?lit$764029187$-->Italicize</div><!----><!--?--></template></colab-tooltip-trigger><!----><!----><md-icon-button id="markdown-toolbar-code-m4mPhN_7YwPH" class="markdown-toolbar-code" aria-describedby="markdown-toolbar-code-m4mPhN_7YwPH-tooltip" data-aria-label="Format as code" value=""><template shadowrootmode="open" shadowrootdelegatesfocus><!----><button id="button" class="icon-button  standard " aria-label="Format as code">
        <!--?lit$764029187$--><md-focus-ring part="focus-ring" for="button" aria-hidden="true"><template shadowrootmode="open"><!----></template></md-focus-ring>
        <!--?lit$764029187$--><md-ripple aria-hidden="true"><template shadowrootmode="open"><!----><div class="surface"></div></template></md-ripple>
        <!--?lit$764029187$--><span class="icon"><slot></slot></span>
        <!--?lit$764029187$-->
        <!--?lit$764029187$--><span class="touch"></span>
  </button></template>
        <!--?lit$764029187$--><md-icon aria-hidden="true"><template shadowrootmode="open"><!----><slot></slot></template><!--?lit$764029187$-->code</md-icon>
      </md-icon-button>
      <colab-tooltip-trigger aria-hidden="true" for="markdown-toolbar-code-m4mPhN_7YwPH" id="markdown-toolbar-code-m4mPhN_7YwPH-tooltip" message="Format as code"><template shadowrootmode="open"><!----><!--?lit$764029187$--><!----><div><!--?lit$764029187$-->Format as code</div><!----><!--?--></template></colab-tooltip-trigger><!----><!----><md-icon-button id="markdown-toolbar-link-m4mPhN_7YwPH" class="markdown-toolbar-link" aria-describedby="markdown-toolbar-link-m4mPhN_7YwPH-tooltip" data-aria-label="Insert link" value=""><template shadowrootmode="open" shadowrootdelegatesfocus><!----><button id="button" class="icon-button  standard " aria-label="Insert link">
        <!--?lit$764029187$--><md-focus-ring part="focus-ring" for="button" aria-hidden="true"><template shadowrootmode="open"><!----></template></md-focus-ring>
        <!--?lit$764029187$--><md-ripple aria-hidden="true"><template shadowrootmode="open"><!----><div class="surface   "></div></template></md-ripple>
        <!--?lit$764029187$--><span class="icon"><slot></slot></span>
        <!--?lit$764029187$-->
        <!--?lit$764029187$--><span class="touch"></span>
  </button></template>
        <!--?lit$764029187$--><md-icon aria-hidden="true"><template shadowrootmode="open"><!----><slot></slot></template><!--?lit$764029187$-->link</md-icon>
      </md-icon-button>
      <colab-tooltip-trigger aria-hidden="true" for="markdown-toolbar-link-m4mPhN_7YwPH" id="markdown-toolbar-link-m4mPhN_7YwPH-tooltip" message="Insert link"><template shadowrootmode="open"><!----><!--?lit$764029187$--><!----><div><!--?lit$764029187$-->Insert link</div><!----><!--?--></template></colab-tooltip-trigger><!----><!----><label for="markdown-image-input-m4mPhN_7YwPH" class="colab-icon markdown-toolbar-insert-image">
        <md-ripple aria-hidden="true"><template shadowrootmode="open"><!----><div class="surface   "></div></template></md-ripple>
        <span role="button" tabindex="0" id="markdown-toolbar-insert-image-m4mPhN_7YwPH" aria-describedby="markdown-toolbar-insert-image-m4mPhN_7YwPH-tooltip" aria-label="Insert image">
          <md-focus-ring aria-hidden="true"><template shadowrootmode="open"><!----></template></md-focus-ring>
          <md-icon aria-hidden="true"><template shadowrootmode="open"><!----><slot></slot></template>image</md-icon>
        </span>
        <colab-tooltip-trigger aria-hidden="true" for="markdown-toolbar-insert-image-m4mPhN_7YwPH" id="markdown-toolbar-insert-image-m4mPhN_7YwPH-tooltip" message="Insert image"><template shadowrootmode="open"><!----><!--?lit$764029187$--><!----><div><!--?lit$764029187$-->Insert image</div><!----><!--?--></template></colab-tooltip-trigger>
      </label>
      <input class="markdown-image-input" type="file" multiple="" accept="image/*" id="markdown-image-input-m4mPhN_7YwPH"><!----><!----><md-icon-button id="markdown-toolbar-blockquote-m4mPhN_7YwPH" class="markdown-toolbar-blockquote" aria-describedby="markdown-toolbar-blockquote-m4mPhN_7YwPH-tooltip" data-aria-label="Add blockquote" value=""><template shadowrootmode="open" shadowrootdelegatesfocus><!----><button id="button" class="icon-button  standard " aria-label="Add blockquote">
        <!--?lit$764029187$--><md-focus-ring part="focus-ring" for="button" aria-hidden="true"><template shadowrootmode="open"><!----></template></md-focus-ring>
        <!--?lit$764029187$--><md-ripple aria-hidden="true"><template shadowrootmode="open"><!----><div class="surface   "></div></template></md-ripple>
        <!--?lit$764029187$--><span class="icon"><slot></slot></span>
        <!--?lit$764029187$-->
        <!--?lit$764029187$--><span class="touch"></span>
  </button></template>
        <!--?lit$764029187$--><md-icon aria-hidden="true"><template shadowrootmode="open"><!----><slot></slot></template><!--?lit$764029187$-->format_quote</md-icon>
      </md-icon-button>
      <colab-tooltip-trigger aria-hidden="true" for="markdown-toolbar-blockquote-m4mPhN_7YwPH" id="markdown-toolbar-blockquote-m4mPhN_7YwPH-tooltip" message="Add blockquote"><template shadowrootmode="open"><!----><!--?lit$764029187$--><!----><div><!--?lit$764029187$-->Add blockquote</div><!----><!--?--></template></colab-tooltip-trigger><!----><!----><md-icon-button id="markdown-toolbar-ol-m4mPhN_7YwPH" class="markdown-toolbar-ol" aria-describedby="markdown-toolbar-ol-m4mPhN_7YwPH-tooltip" data-aria-label="Add numbered list" value=""><template shadowrootmode="open" shadowrootdelegatesfocus><!----><button id="button" class="icon-button  standard " aria-label="Add numbered list">
        <!--?lit$764029187$--><md-focus-ring part="focus-ring" for="button" aria-hidden="true"><template shadowrootmode="open"><!----></template></md-focus-ring>
        <!--?lit$764029187$--><md-ripple aria-hidden="true"><template shadowrootmode="open"><!----><div class="surface   "></div></template></md-ripple>
        <!--?lit$764029187$--><span class="icon"><slot></slot></span>
        <!--?lit$764029187$-->
        <!--?lit$764029187$--><span class="touch"></span>
  </button></template>
        <!--?lit$764029187$--><md-icon aria-hidden="true"><template shadowrootmode="open"><!----><slot></slot></template><!--?lit$764029187$-->format_list_numbered</md-icon>
      </md-icon-button>
      <colab-tooltip-trigger aria-hidden="true" for="markdown-toolbar-ol-m4mPhN_7YwPH" id="markdown-toolbar-ol-m4mPhN_7YwPH-tooltip" message="Add numbered list"><template shadowrootmode="open"><!----><!--?lit$764029187$--><!----><div><!--?lit$764029187$-->Add numbered list</div><!----><!--?--></template></colab-tooltip-trigger><!----><!----><md-icon-button id="markdown-toolbar-ul-m4mPhN_7YwPH" class="markdown-toolbar-ul" aria-describedby="markdown-toolbar-ul-m4mPhN_7YwPH-tooltip" data-aria-label="Add bulleted list" value=""><template shadowrootmode="open" shadowrootdelegatesfocus><!----><button id="button" class="icon-button  standard " aria-label="Add bulleted list">
        <!--?lit$764029187$--><md-focus-ring part="focus-ring" for="button" aria-hidden="true"><template shadowrootmode="open"><!----></template></md-focus-ring>
        <!--?lit$764029187$--><md-ripple aria-hidden="true"><template shadowrootmode="open"><!----><div class="surface   "></div></template></md-ripple>
        <!--?lit$764029187$--><span class="icon"><slot></slot></span>
        <!--?lit$764029187$-->
        <!--?lit$764029187$--><span class="touch"></span>
  </button></template>
        <!--?lit$764029187$--><md-icon aria-hidden="true"><template shadowrootmode="open"><!----><slot></slot></template><!--?lit$764029187$-->format_list_bulleted</md-icon>
      </md-icon-button>
      <colab-tooltip-trigger aria-hidden="true" for="markdown-toolbar-ul-m4mPhN_7YwPH" id="markdown-toolbar-ul-m4mPhN_7YwPH-tooltip" message="Add bulleted list"><template shadowrootmode="open"><!----><!--?lit$764029187$--><!----><div><!--?lit$764029187$-->Add bulleted list</div><!----><!--?--></template></colab-tooltip-trigger><!----><!----><md-icon-button id="markdown-toolbar-hr-m4mPhN_7YwPH" class="markdown-toolbar-hr" aria-describedby="markdown-toolbar-hr-m4mPhN_7YwPH-tooltip" data-aria-label="Add horizontal rule" value=""><template shadowrootmode="open" shadowrootdelegatesfocus><!----><button id="button" class="icon-button  standard " aria-label="Add horizontal rule">
        <!--?lit$764029187$--><md-focus-ring part="focus-ring" for="button" aria-hidden="true"><template shadowrootmode="open"><!----></template></md-focus-ring>
        <!--?lit$764029187$--><md-ripple aria-hidden="true"><template shadowrootmode="open"><!----><div class="surface   "></div></template></md-ripple>
        <!--?lit$764029187$--><span class="icon"><slot></slot></span>
        <!--?lit$764029187$-->
        <!--?lit$764029187$--><span class="touch"></span>
  </button></template>
        <!--?lit$764029187$--><md-icon aria-hidden="true"><template shadowrootmode="open"><!----><slot></slot></template><!--?lit$764029187$-->horizontal_rule</md-icon>
      </md-icon-button>
      <colab-tooltip-trigger aria-hidden="true" for="markdown-toolbar-hr-m4mPhN_7YwPH" id="markdown-toolbar-hr-m4mPhN_7YwPH-tooltip" message="Add horizontal rule"><template shadowrootmode="open"><!----><!--?lit$764029187$--><!----><div><!--?lit$764029187$-->Add horizontal rule</div><!----><!--?--></template></colab-tooltip-trigger><!----><!----><md-icon-button id="markdown-toolbar-latex-m4mPhN_7YwPH" class="markdown-toolbar-latex" aria-describedby="markdown-toolbar-latex-m4mPhN_7YwPH-tooltip" data-aria-label="LaTeX" value=""><template shadowrootmode="open" shadowrootdelegatesfocus><!----><button id="button" class="icon-button  standard " aria-label="LaTeX">
        <!--?lit$764029187$--><md-focus-ring part="focus-ring" for="button" aria-hidden="true"><template shadowrootmode="open"><!----></template></md-focus-ring>
        <!--?lit$764029187$--><md-ripple aria-hidden="true"><template shadowrootmode="open"><!----><div class="surface"></div></template></md-ripple>
        <!--?lit$764029187$--><span class="icon"><slot></slot></span>
        <!--?lit$764029187$-->
        <!--?lit$764029187$--><span class="touch"></span>
  </button></template>
        <!--?lit$764029187$--><span aria-hidden="true">ψ</span>
      </md-icon-button>
      <colab-tooltip-trigger aria-hidden="true" for="markdown-toolbar-latex-m4mPhN_7YwPH" id="markdown-toolbar-latex-m4mPhN_7YwPH-tooltip" message="LaTeX"><template shadowrootmode="open"><!----><!--?lit$764029187$--><!----><div><!--?lit$764029187$-->LaTeX</div><!----><!--?--></template></colab-tooltip-trigger><!----><!----><md-icon-button id="markdown-toolbar-emoji-m4mPhN_7YwPH" class="markdown-toolbar-emoji" aria-describedby="markdown-toolbar-emoji-m4mPhN_7YwPH-tooltip" data-aria-label="Insert emoji" value=""><template shadowrootmode="open" shadowrootdelegatesfocus><!----><button id="button" class="icon-button  standard " aria-label="Insert emoji">
        <!--?lit$764029187$--><md-focus-ring part="focus-ring" for="button" aria-hidden="true"><template shadowrootmode="open"><!----></template></md-focus-ring>
        <!--?lit$764029187$--><md-ripple aria-hidden="true"><template shadowrootmode="open"><!----><div class="surface   "></div></template></md-ripple>
        <!--?lit$764029187$--><span class="icon"><slot></slot></span>
        <!--?lit$764029187$-->
        <!--?lit$764029187$--><span class="touch"></span>
  </button></template>
        <!--?lit$764029187$--><md-icon aria-hidden="true"><template shadowrootmode="open"><!----><slot></slot></template><!--?lit$764029187$-->mood</md-icon>
      </md-icon-button>
      <colab-tooltip-trigger aria-hidden="true" for="markdown-toolbar-emoji-m4mPhN_7YwPH" id="markdown-toolbar-emoji-m4mPhN_7YwPH-tooltip" message="Insert emoji"><template shadowrootmode="open"><!----><!--?lit$764029187$--><!----><div><!--?lit$764029187$-->Insert emoji</div><!----><!--?--></template></colab-tooltip-trigger><!----><!----><md-icon-button id="markdown-toolbar-preview-m4mPhN_7YwPH" class="markdown-toolbar-preview" aria-describedby="markdown-toolbar-preview-m4mPhN_7YwPH-tooltip" data-aria-label="Reposition markdown preview" value=""><template shadowrootmode="open" shadowrootdelegatesfocus><!----><button id="button" class="icon-button  standard " aria-label="Reposition markdown preview">
        <!--?lit$764029187$--><md-focus-ring part="focus-ring" for="button" aria-hidden="true"><template shadowrootmode="open"><!----></template></md-focus-ring>
        <!--?lit$764029187$--><md-ripple aria-hidden="true"><template shadowrootmode="open"><!----><div class="surface"></div></template></md-ripple>
        <!--?lit$764029187$--><span class="icon"><slot></slot></span>
        <!--?lit$764029187$-->
        <!--?lit$764029187$--><span class="touch"></span>
  </button></template>
        <!--?lit$764029187$--><md-icon aria-hidden="true"><template shadowrootmode="open"><!----><slot></slot></template><!--?lit$764029187$--><svg viewBox="0 0 24 24"><!--?lit$764029187$--><g id="markdown-preview-below">
  <rect width="20" height="18" x="2" y="2" rx="2" ry="2" style="fill:none;stroke:var(--colab-icon-color)"></rect>
  <line x1="4.5" y1="13" x2="19.5" y2="13" style="stroke:var(--colab-primary-text-color);stroke-dasharray:2"></line>
  <line x1="2.5" y1="4" x2="21.5" y2="4" style="stroke:var(--colab-icon-color);stroke-width:3px;"></line>
</g></svg></md-icon>
      </md-icon-button>
      <colab-tooltip-trigger aria-hidden="true" for="markdown-toolbar-preview-m4mPhN_7YwPH" id="markdown-toolbar-preview-m4mPhN_7YwPH-tooltip" message="Reposition markdown preview"><template shadowrootmode="open"><!----><!--?lit$764029187$--><!----><div><!--?lit$764029187$-->Reposition markdown preview</div><!----><!--?--></template></colab-tooltip-trigger><!----><!--?--></div></div>
      <div class="editor-container horizontal">
        <div class="editor-root"><div class="editor flex monaco" data-keybinding-context="3" data-mode-id="markdown" style="height: 4228px; --vscode-editorCodeLens-lineHeight: 16px; --vscode-editorCodeLens-fontSize: 12px; --vscode-editorCodeLens-fontFeatureSettings: &quot;liga&quot; off, &quot;calt&quot; off; display: none;"><div class="monaco-editor no-user-select  showUnused showDeprecated vs" role="code" data-uri="inmemory://model/5" style="width: 641px; height: 4228px;"><div data-mprt="3" class="overflow-guard" style="width: 641px; height: 4228px; overflow: clip;"><div class="margin" role="presentation" aria-hidden="true" style="position: absolute; contain: strict; will-change: unset; top: 0px; height: 4228px; width: 6px;"><div class="glyph-margin" style="left: 0px; width: 0px; height: 4228px;"></div><div class="margin-view-zones" role="presentation" aria-hidden="true" style="position: absolute;"></div><div class="margin-view-overlays" role="presentation" aria-hidden="true" style="position: absolute; font-family: monospace, Consolas, &quot;Courier New&quot;, monospace; font-weight: normal; font-size: 14px; font-feature-settings: &quot;liga&quot; 0, &quot;calt&quot; 0; font-variation-settings: normal; line-height: 19px; letter-spacing: 0px; width: 6px; height: 4228px;"><div style="position:absolute;top:0px;width:100%;height:19px;"></div><div style="position:absolute;top:19px;width:100%;height:19px;"></div><div style="position:absolute;top:38px;width:100%;height:19px;"></div><div style="position:absolute;top:57px;width:100%;height:19px;"></div><div style="position: absolute; top: 76px; width: 100%; height: 19px;"></div><div style="position:absolute;top:95px;width:100%;height:19px;"></div><div style="position:absolute;top:114px;width:100%;height:19px;"></div><div style="position: absolute; top: 133px; width: 100%; height: 19px;"></div><div style="position: absolute; top: 152px; width: 100%; height: 19px;"></div><div style="position: absolute; top: 171px; width: 100%; height: 19px;"></div><div style="position: absolute; top: 190px; width: 100%; height: 19px;"></div><div style="position: absolute; top: 209px; width: 100%; height: 19px;"></div><div style="position: absolute; top: 228px; width: 100%; height: 19px;"></div><div style="position: absolute; top: 247px; width: 100%; height: 19px;"></div><div style="position: absolute; top: 266px; width: 100%; height: 19px;"></div><div style="position: absolute; top: 285px; width: 100%; height: 19px;"></div><div style="position: absolute; top: 304px; width: 100%; height: 19px;"></div><div style="position: absolute; top: 323px; width: 100%; height: 19px;"></div><div style="position: absolute; top: 342px; width: 100%; height: 19px;"></div><div style="position: absolute; top: 361px; width: 100%; height: 19px;"></div><div style="position: absolute; top: 380px; width: 100%; height: 19px;"></div><div style="position: absolute; top: 399px; width: 100%; height: 19px;"></div><div style="position: absolute; top: 418px; width: 100%; height: 19px;"></div><div style="position: absolute; top: 437px; width: 100%; height: 19px;"></div><div style="position: absolute; top: 456px; width: 100%; height: 19px;"></div><div style="position: absolute; top: 475px; width: 100%; height: 19px;"></div><div style="position: absolute; top: 494px; width: 100%; height: 19px;"></div><div style="position: absolute; top: 513px; width: 100%; height: 19px;"></div><div style="position: absolute; top: 532px; width: 100%; height: 19px;"></div><div style="position: absolute; top: 551px; width: 100%; height: 19px;"></div><div style="position: absolute; top: 570px; width: 100%; height: 19px;"></div><div style="position: absolute; top: 589px; width: 100%; height: 19px;"></div><div style="position: absolute; top: 608px; width: 100%; height: 19px;"></div><div style="position: absolute; top: 627px; width: 100%; height: 19px;"></div><div style="position: absolute; top: 646px; width: 100%; height: 19px;"></div><div style="position: absolute; top: 665px; width: 100%; height: 19px;"></div><div style="position: absolute; top: 684px; width: 100%; height: 19px;"></div><div style="position: absolute; top: 703px; width: 100%; height: 19px;"></div><div style="position: absolute; top: 722px; width: 100%; height: 19px;"></div><div style="position: absolute; top: 741px; width: 100%; height: 19px;"></div><div style="position: absolute; top: 760px; width: 100%; height: 19px;"></div><div style="position: absolute; top: 779px; width: 100%; height: 19px;"></div><div style="position: absolute; top: 798px; width: 100%; height: 19px;"></div><div style="position: absolute; top: 817px; width: 100%; height: 19px;"></div><div style="position: absolute; top: 836px; width: 100%; height: 19px;"></div><div style="position: absolute; top: 855px; width: 100%; height: 19px;"></div><div style="position: absolute; top: 874px; width: 100%; height: 19px;"></div><div style="position: absolute; top: 893px; width: 100%; height: 19px;"></div><div style="position: absolute; top: 912px; width: 100%; height: 19px;"></div><div style="position: absolute; top: 931px; width: 100%; height: 19px;"></div><div style="position: absolute; top: 950px; width: 100%; height: 19px;"></div><div style="position: absolute; top: 969px; width: 100%; height: 19px;"></div><div style="position:absolute;top:988px;width:100%;height:19px;"></div><div style="position:absolute;top:1007px;width:100%;height:19px;"></div><div style="position:absolute;top:1026px;width:100%;height:19px;"></div><div style="position:absolute;top:1045px;width:100%;height:19px;"></div><div style="position:absolute;top:1064px;width:100%;height:19px;"></div><div style="position:absolute;top:1083px;width:100%;height:19px;"></div><div style="position:absolute;top:1102px;width:100%;height:19px;"></div><div style="position:absolute;top:1121px;width:100%;height:19px;"></div><div style="position:absolute;top:1140px;width:100%;height:19px;"></div><div style="position:absolute;top:1159px;width:100%;height:19px;"></div><div style="position:absolute;top:1178px;width:100%;height:19px;"></div><div style="position:absolute;top:1197px;width:100%;height:19px;"></div><div style="position:absolute;top:1216px;width:100%;height:19px;"></div><div style="position:absolute;top:1235px;width:100%;height:19px;"></div><div style="position:absolute;top:1254px;width:100%;height:19px;"></div><div style="position:absolute;top:1273px;width:100%;height:19px;"></div><div style="position:absolute;top:1292px;width:100%;height:19px;"></div><div style="position:absolute;top:1311px;width:100%;height:19px;"></div><div style="position:absolute;top:1330px;width:100%;height:19px;"></div><div style="position:absolute;top:1349px;width:100%;height:19px;"></div><div style="position:absolute;top:1368px;width:100%;height:19px;"></div><div style="position:absolute;top:1387px;width:100%;height:19px;"></div><div style="position:absolute;top:1406px;width:100%;height:19px;"></div><div style="position:absolute;top:1425px;width:100%;height:19px;"></div><div style="position:absolute;top:1444px;width:100%;height:19px;"></div><div style="position:absolute;top:1463px;width:100%;height:19px;"></div><div style="position:absolute;top:1482px;width:100%;height:19px;"></div><div style="position:absolute;top:1501px;width:100%;height:19px;"></div><div style="position:absolute;top:1520px;width:100%;height:19px;"></div><div style="position:absolute;top:1539px;width:100%;height:19px;"></div><div style="position:absolute;top:1558px;width:100%;height:19px;"></div><div style="position:absolute;top:1577px;width:100%;height:19px;"></div><div style="position:absolute;top:1596px;width:100%;height:19px;"></div><div style="position:absolute;top:1615px;width:100%;height:19px;"></div><div style="position:absolute;top:1634px;width:100%;height:19px;"></div><div style="position:absolute;top:1653px;width:100%;height:19px;"></div><div style="position:absolute;top:1672px;width:100%;height:19px;"></div><div style="position:absolute;top:1691px;width:100%;height:19px;"></div><div style="position:absolute;top:1710px;width:100%;height:19px;"></div><div style="position:absolute;top:1729px;width:100%;height:19px;"></div><div style="position:absolute;top:1748px;width:100%;height:19px;"></div><div style="position:absolute;top:1767px;width:100%;height:19px;"></div><div style="position:absolute;top:1786px;width:100%;height:19px;"></div><div style="position:absolute;top:1805px;width:100%;height:19px;"></div><div style="position:absolute;top:1824px;width:100%;height:19px;"></div><div style="position:absolute;top:1843px;width:100%;height:19px;"></div><div style="position:absolute;top:1862px;width:100%;height:19px;"></div><div style="position:absolute;top:1881px;width:100%;height:19px;"></div><div style="position:absolute;top:1900px;width:100%;height:19px;"></div><div style="position:absolute;top:1919px;width:100%;height:19px;"></div><div style="position:absolute;top:1938px;width:100%;height:19px;"></div><div style="position:absolute;top:1957px;width:100%;height:19px;"></div><div style="position:absolute;top:1976px;width:100%;height:19px;"></div><div style="position:absolute;top:1995px;width:100%;height:19px;"></div><div style="position:absolute;top:2014px;width:100%;height:19px;"></div><div style="position:absolute;top:2033px;width:100%;height:19px;"></div><div style="position:absolute;top:2052px;width:100%;height:19px;"></div><div style="position:absolute;top:2071px;width:100%;height:19px;"></div><div style="position:absolute;top:2090px;width:100%;height:19px;"></div><div style="position:absolute;top:2109px;width:100%;height:19px;"></div><div style="position:absolute;top:2128px;width:100%;height:19px;"></div><div style="position:absolute;top:2147px;width:100%;height:19px;"></div><div style="position:absolute;top:2166px;width:100%;height:19px;"></div><div style="position:absolute;top:2185px;width:100%;height:19px;"></div><div style="position:absolute;top:2204px;width:100%;height:19px;"></div><div style="position:absolute;top:2223px;width:100%;height:19px;"></div><div style="position:absolute;top:2242px;width:100%;height:19px;"></div><div style="position:absolute;top:2261px;width:100%;height:19px;"></div><div style="position:absolute;top:2280px;width:100%;height:19px;"></div><div style="position:absolute;top:2299px;width:100%;height:19px;"></div><div style="position:absolute;top:2318px;width:100%;height:19px;"></div><div style="position:absolute;top:2337px;width:100%;height:19px;"></div><div style="position:absolute;top:2356px;width:100%;height:19px;"></div><div style="position:absolute;top:2375px;width:100%;height:19px;"></div><div style="position:absolute;top:2394px;width:100%;height:19px;"></div><div style="position:absolute;top:2413px;width:100%;height:19px;"></div><div style="position:absolute;top:2432px;width:100%;height:19px;"></div><div style="position:absolute;top:2451px;width:100%;height:19px;"></div><div style="position:absolute;top:2470px;width:100%;height:19px;"></div><div style="position:absolute;top:2489px;width:100%;height:19px;"></div><div style="position:absolute;top:2508px;width:100%;height:19px;"></div><div style="position:absolute;top:2527px;width:100%;height:19px;"></div><div style="position:absolute;top:2546px;width:100%;height:19px;"></div><div style="position:absolute;top:2565px;width:100%;height:19px;"></div><div style="position:absolute;top:2584px;width:100%;height:19px;"></div><div style="position:absolute;top:2603px;width:100%;height:19px;"></div><div style="position:absolute;top:2622px;width:100%;height:19px;"></div><div style="position:absolute;top:2641px;width:100%;height:19px;"></div><div style="position:absolute;top:2660px;width:100%;height:19px;"></div><div style="position:absolute;top:2679px;width:100%;height:19px;"></div><div style="position:absolute;top:2698px;width:100%;height:19px;"></div><div style="position:absolute;top:2717px;width:100%;height:19px;"></div><div style="position:absolute;top:2736px;width:100%;height:19px;"></div><div style="position:absolute;top:2755px;width:100%;height:19px;"></div><div style="position:absolute;top:2774px;width:100%;height:19px;"></div><div style="position:absolute;top:2793px;width:100%;height:19px;"></div><div style="position:absolute;top:2812px;width:100%;height:19px;"></div><div style="position:absolute;top:2831px;width:100%;height:19px;"></div><div style="position:absolute;top:2850px;width:100%;height:19px;"></div><div style="position:absolute;top:2869px;width:100%;height:19px;"></div><div style="position:absolute;top:2888px;width:100%;height:19px;"></div><div style="position:absolute;top:2907px;width:100%;height:19px;"></div><div style="position:absolute;top:2926px;width:100%;height:19px;"></div><div style="position:absolute;top:2945px;width:100%;height:19px;"></div><div style="position:absolute;top:2964px;width:100%;height:19px;"></div><div style="position:absolute;top:2983px;width:100%;height:19px;"></div><div style="position:absolute;top:3002px;width:100%;height:19px;"></div><div style="position:absolute;top:3021px;width:100%;height:19px;"></div><div style="position:absolute;top:3040px;width:100%;height:19px;"></div><div style="position:absolute;top:3059px;width:100%;height:19px;"></div><div style="position:absolute;top:3078px;width:100%;height:19px;"></div><div style="position:absolute;top:3097px;width:100%;height:19px;"></div><div style="position:absolute;top:3116px;width:100%;height:19px;"></div><div style="position:absolute;top:3135px;width:100%;height:19px;"></div><div style="position:absolute;top:3154px;width:100%;height:19px;"></div><div style="position:absolute;top:3173px;width:100%;height:19px;"></div><div style="position:absolute;top:3192px;width:100%;height:19px;"></div><div style="position:absolute;top:3211px;width:100%;height:19px;"></div><div style="position:absolute;top:3230px;width:100%;height:19px;"></div><div style="position:absolute;top:3249px;width:100%;height:19px;"></div><div style="position:absolute;top:3268px;width:100%;height:19px;"></div><div style="position:absolute;top:3287px;width:100%;height:19px;"></div><div style="position:absolute;top:3306px;width:100%;height:19px;"></div><div style="position:absolute;top:3325px;width:100%;height:19px;"></div><div style="position:absolute;top:3344px;width:100%;height:19px;"></div><div style="position:absolute;top:3363px;width:100%;height:19px;"></div><div style="position:absolute;top:3382px;width:100%;height:19px;"></div><div style="position:absolute;top:3401px;width:100%;height:19px;"></div><div style="position:absolute;top:3420px;width:100%;height:19px;"></div><div style="position:absolute;top:3439px;width:100%;height:19px;"></div><div style="position:absolute;top:3458px;width:100%;height:19px;"></div><div style="position:absolute;top:3477px;width:100%;height:19px;"></div><div style="position:absolute;top:3496px;width:100%;height:19px;"></div><div style="position:absolute;top:3515px;width:100%;height:19px;"></div><div style="position:absolute;top:3534px;width:100%;height:19px;"></div><div style="position:absolute;top:3553px;width:100%;height:19px;"></div><div style="position:absolute;top:3572px;width:100%;height:19px;"></div><div style="position:absolute;top:3591px;width:100%;height:19px;"></div><div style="position:absolute;top:3610px;width:100%;height:19px;"></div><div style="position:absolute;top:3629px;width:100%;height:19px;"></div><div style="position:absolute;top:3648px;width:100%;height:19px;"></div><div style="position:absolute;top:3667px;width:100%;height:19px;"></div><div style="position:absolute;top:3686px;width:100%;height:19px;"></div><div style="position:absolute;top:3705px;width:100%;height:19px;"></div><div style="position:absolute;top:3724px;width:100%;height:19px;"></div><div style="position:absolute;top:3743px;width:100%;height:19px;"></div><div style="position:absolute;top:3762px;width:100%;height:19px;"></div><div style="position:absolute;top:3781px;width:100%;height:19px;"></div><div style="position:absolute;top:3800px;width:100%;height:19px;"></div><div style="position:absolute;top:3819px;width:100%;height:19px;"></div><div style="position:absolute;top:3838px;width:100%;height:19px;"></div><div style="position:absolute;top:3857px;width:100%;height:19px;"></div><div style="position:absolute;top:3876px;width:100%;height:19px;"></div><div style="position:absolute;top:3895px;width:100%;height:19px;"></div><div style="position:absolute;top:3914px;width:100%;height:19px;"></div><div style="position:absolute;top:3933px;width:100%;height:19px;"></div><div style="position:absolute;top:3952px;width:100%;height:19px;"></div><div style="position:absolute;top:3971px;width:100%;height:19px;"></div><div style="position:absolute;top:3990px;width:100%;height:19px;"></div><div style="position:absolute;top:4009px;width:100%;height:19px;"></div><div style="position:absolute;top:4028px;width:100%;height:19px;"><div class="current-line current-line-margin-both" style="width:6px; height:19px;"></div></div><div style="position:absolute;top:4047px;width:100%;height:19px;"></div><div style="position:absolute;top:4066px;width:100%;height:19px;"></div><div style="position:absolute;top:4085px;width:100%;height:19px;"></div><div style="position:absolute;top:4104px;width:100%;height:19px;"></div><div style="position:absolute;top:4123px;width:100%;height:19px;"></div><div style="position:absolute;top:4142px;width:100%;height:19px;"></div><div style="position:absolute;top:4161px;width:100%;height:19px;"></div><div style="position:absolute;top:4180px;width:100%;height:19px;"></div><div style="position:absolute;top:4199px;width:100%;height:19px;"></div></div><div class="glyph-margin-widgets" style="position: absolute; top: 0px;"></div></div><div class="monaco-scrollable-element editor-scrollable vs" role="presentation" data-mprt="5" style="position: absolute; overflow: hidden; left: 6px; width: 635px; height: 4228px;"><div class="lines-content monaco-editor-background" style="position: absolute; overflow: hidden; width: 1e+06px; height: 4228px; contain: strict; will-change: unset; top: 0px; left: 0px;"><div class="view-overlays" role="presentation" aria-hidden="true" style="position: absolute; font-family: monospace, Consolas, &quot;Courier New&quot;, monospace; font-weight: normal; font-size: 14px; font-feature-settings: &quot;liga&quot; 0, &quot;calt&quot; 0; font-variation-settings: normal; line-height: 19px; letter-spacing: 0px; height: 0px; width: 635px;"><div style="position:absolute;top:0px;width:100%;height:19px;"></div><div style="position:absolute;top:19px;width:100%;height:19px;"></div><div style="position:absolute;top:38px;width:100%;height:19px;"></div><div style="position:absolute;top:57px;width:100%;height:19px;"></div><div style="position: absolute; top: 76px; width: 100%; height: 19px;"></div><div style="position:absolute;top:95px;width:100%;height:19px;"></div><div style="position:absolute;top:114px;width:100%;height:19px;"><div class="cdr unicode-highlight" style="left:23px;width:8px;height:19px;"></div></div><div style="position: absolute; top: 133px; width: 100%; height: 19px;"></div><div style="position: absolute; top: 152px; width: 100%; height: 19px;"></div><div style="position:absolute;top:171px;width:100%;height:19px;"></div><div style="position: absolute; top: 190px; width: 100%; height: 19px;"></div><div style="position: absolute; top: 209px; width: 100%; height: 19px;"></div><div style="position: absolute; top: 228px; width: 100%; height: 19px;"></div><div style="position: absolute; top: 247px; width: 100%; height: 19px;"></div><div style="position: absolute; top: 266px; width: 100%; height: 19px;"></div><div style="position: absolute; top: 285px; width: 100%; height: 19px;"></div><div style="position: absolute; top: 304px; width: 100%; height: 19px;"></div><div style="position: absolute; top: 323px; width: 100%; height: 19px;"></div><div style="position: absolute; top: 342px; width: 100%; height: 19px;"></div><div style="position: absolute; top: 361px; width: 100%; height: 19px;"></div><div style="position: absolute; top: 380px; width: 100%; height: 19px;"></div><div style="position: absolute; top: 399px; width: 100%; height: 19px;"></div><div style="position: absolute; top: 418px; width: 100%; height: 19px;"></div><div style="position: absolute; top: 437px; width: 100%; height: 19px;"></div><div style="position: absolute; top: 456px; width: 100%; height: 19px;"></div><div style="position: absolute; top: 475px; width: 100%; height: 19px;"></div><div style="position: absolute; top: 494px; width: 100%; height: 19px;"></div><div style="position: absolute; top: 513px; width: 100%; height: 19px;"></div><div style="position:absolute;top:532px;width:100%;height:19px;"></div><div style="position: absolute; top: 551px; width: 100%; height: 19px;"><div class="cdr unicode-highlight" style="left:154px;width:8px;height:19px;"></div></div><div style="position: absolute; top: 570px; width: 100%; height: 19px;"></div><div style="position: absolute; top: 589px; width: 100%; height: 19px;"></div><div style="position: absolute; top: 608px; width: 100%; height: 19px;"></div><div style="position: absolute; top: 627px; width: 100%; height: 19px;"></div><div style="position: absolute; top: 646px; width: 100%; height: 19px;"><div class="cdr unicode-highlight" style="left:570px;width:8px;height:19px;"></div></div><div style="position: absolute; top: 665px; width: 100%; height: 19px;"></div><div style="position: absolute; top: 684px; width: 100%; height: 19px;"></div><div style="position:absolute;top:703px;width:100%;height:19px;"></div><div style="position: absolute; top: 722px; width: 100%; height: 19px;"><div class="cdr unicode-highlight" style="left:154px;width:8px;height:19px;"></div></div><div style="position: absolute; top: 741px; width: 100%; height: 19px;"></div><div style="position: absolute; top: 760px; width: 100%; height: 19px;"></div><div style="position:absolute;top:779px;width:100%;height:19px;"></div><div style="position: absolute; top: 798px; width: 100%; height: 19px;"></div><div style="position: absolute; top: 817px; width: 100%; height: 19px;"></div><div style="position: absolute; top: 836px; width: 100%; height: 19px;"></div><div style="position: absolute; top: 855px; width: 100%; height: 19px;"></div><div style="position: absolute; top: 874px; width: 100%; height: 19px;"></div><div style="position: absolute; top: 893px; width: 100%; height: 19px;"></div><div style="position: absolute; top: 912px; width: 100%; height: 19px;"></div><div style="position: absolute; top: 931px; width: 100%; height: 19px;"></div><div style="position: absolute; top: 950px; width: 100%; height: 19px;"></div><div style="position: absolute; top: 969px; width: 100%; height: 19px;"></div><div style="position:absolute;top:988px;width:100%;height:19px;"></div><div style="position:absolute;top:1007px;width:100%;height:19px;"></div><div style="position:absolute;top:1026px;width:100%;height:19px;"></div><div style="position:absolute;top:1045px;width:100%;height:19px;"></div><div style="position:absolute;top:1064px;width:100%;height:19px;"></div><div style="position:absolute;top:1083px;width:100%;height:19px;"></div><div style="position:absolute;top:1102px;width:100%;height:19px;"></div><div style="position:absolute;top:1121px;width:100%;height:19px;"></div><div style="position:absolute;top:1140px;width:100%;height:19px;"></div><div style="position:absolute;top:1159px;width:100%;height:19px;"></div><div style="position:absolute;top:1178px;width:100%;height:19px;"></div><div style="position:absolute;top:1197px;width:100%;height:19px;"></div><div style="position:absolute;top:1216px;width:100%;height:19px;"></div><div style="position:absolute;top:1235px;width:100%;height:19px;"></div><div style="position:absolute;top:1254px;width:100%;height:19px;"></div><div style="position:absolute;top:1273px;width:100%;height:19px;"></div><div style="position:absolute;top:1292px;width:100%;height:19px;"></div><div style="position:absolute;top:1311px;width:100%;height:19px;"></div><div style="position:absolute;top:1330px;width:100%;height:19px;"></div><div style="position:absolute;top:1349px;width:100%;height:19px;"></div><div style="position:absolute;top:1368px;width:100%;height:19px;"></div><div style="position:absolute;top:1387px;width:100%;height:19px;"></div><div style="position:absolute;top:1406px;width:100%;height:19px;"></div><div style="position:absolute;top:1425px;width:100%;height:19px;"></div><div style="position:absolute;top:1444px;width:100%;height:19px;"></div><div style="position:absolute;top:1463px;width:100%;height:19px;"><div class="cdr unicode-highlight" style="left:385px;width:8px;height:19px;"></div></div><div style="position:absolute;top:1482px;width:100%;height:19px;"></div><div style="position:absolute;top:1501px;width:100%;height:19px;"></div><div style="position:absolute;top:1520px;width:100%;height:19px;"></div><div style="position:absolute;top:1539px;width:100%;height:19px;"></div><div style="position:absolute;top:1558px;width:100%;height:19px;"></div><div style="position:absolute;top:1577px;width:100%;height:19px;"></div><div style="position:absolute;top:1596px;width:100%;height:19px;"></div><div style="position:absolute;top:1615px;width:100%;height:19px;"></div><div style="position:absolute;top:1634px;width:100%;height:19px;"></div><div style="position:absolute;top:1653px;width:100%;height:19px;"></div><div style="position:absolute;top:1672px;width:100%;height:19px;"></div><div style="position:absolute;top:1691px;width:100%;height:19px;"></div><div style="position:absolute;top:1710px;width:100%;height:19px;"></div><div style="position:absolute;top:1729px;width:100%;height:19px;"></div><div style="position:absolute;top:1748px;width:100%;height:19px;"></div><div style="position:absolute;top:1767px;width:100%;height:19px;"></div><div style="position:absolute;top:1786px;width:100%;height:19px;"></div><div style="position:absolute;top:1805px;width:100%;height:19px;"></div><div style="position:absolute;top:1824px;width:100%;height:19px;"></div><div style="position:absolute;top:1843px;width:100%;height:19px;"></div><div style="position:absolute;top:1862px;width:100%;height:19px;"></div><div style="position:absolute;top:1881px;width:100%;height:19px;"></div><div style="position:absolute;top:1900px;width:100%;height:19px;"></div><div style="position:absolute;top:1919px;width:100%;height:19px;"></div><div style="position:absolute;top:1938px;width:100%;height:19px;"></div><div style="position:absolute;top:1957px;width:100%;height:19px;"></div><div style="position:absolute;top:1976px;width:100%;height:19px;"></div><div style="position:absolute;top:1995px;width:100%;height:19px;"></div><div style="position:absolute;top:2014px;width:100%;height:19px;"></div><div style="position:absolute;top:2033px;width:100%;height:19px;"></div><div style="position:absolute;top:2052px;width:100%;height:19px;"></div><div style="position:absolute;top:2071px;width:100%;height:19px;"></div><div style="position:absolute;top:2090px;width:100%;height:19px;"></div><div style="position:absolute;top:2109px;width:100%;height:19px;"></div><div style="position:absolute;top:2128px;width:100%;height:19px;"></div><div style="position:absolute;top:2147px;width:100%;height:19px;"></div><div style="position:absolute;top:2166px;width:100%;height:19px;"></div><div style="position:absolute;top:2185px;width:100%;height:19px;"></div><div style="position:absolute;top:2204px;width:100%;height:19px;"></div><div style="position:absolute;top:2223px;width:100%;height:19px;"></div><div style="position:absolute;top:2242px;width:100%;height:19px;"></div><div style="position:absolute;top:2261px;width:100%;height:19px;"></div><div style="position:absolute;top:2280px;width:100%;height:19px;"></div><div style="position:absolute;top:2299px;width:100%;height:19px;"></div><div style="position:absolute;top:2318px;width:100%;height:19px;"></div><div style="position:absolute;top:2337px;width:100%;height:19px;"></div><div style="position:absolute;top:2356px;width:100%;height:19px;"></div><div style="position:absolute;top:2375px;width:100%;height:19px;"></div><div style="position:absolute;top:2394px;width:100%;height:19px;"></div><div style="position:absolute;top:2413px;width:100%;height:19px;"></div><div style="position:absolute;top:2432px;width:100%;height:19px;"></div><div style="position:absolute;top:2451px;width:100%;height:19px;"></div><div style="position:absolute;top:2470px;width:100%;height:19px;"></div><div style="position:absolute;top:2489px;width:100%;height:19px;"></div><div style="position:absolute;top:2508px;width:100%;height:19px;"></div><div style="position:absolute;top:2527px;width:100%;height:19px;"></div><div style="position:absolute;top:2546px;width:100%;height:19px;"></div><div style="position:absolute;top:2565px;width:100%;height:19px;"></div><div style="position:absolute;top:2584px;width:100%;height:19px;"></div><div style="position:absolute;top:2603px;width:100%;height:19px;"></div><div style="position:absolute;top:2622px;width:100%;height:19px;"></div><div style="position:absolute;top:2641px;width:100%;height:19px;"></div><div style="position:absolute;top:2660px;width:100%;height:19px;"></div><div style="position:absolute;top:2679px;width:100%;height:19px;"></div><div style="position:absolute;top:2698px;width:100%;height:19px;"></div><div style="position:absolute;top:2717px;width:100%;height:19px;"></div><div style="position:absolute;top:2736px;width:100%;height:19px;"></div><div style="position:absolute;top:2755px;width:100%;height:19px;"></div><div style="position:absolute;top:2774px;width:100%;height:19px;"></div><div style="position:absolute;top:2793px;width:100%;height:19px;"></div><div style="position:absolute;top:2812px;width:100%;height:19px;"></div><div style="position:absolute;top:2831px;width:100%;height:19px;"></div><div style="position:absolute;top:2850px;width:100%;height:19px;"></div><div style="position:absolute;top:2869px;width:100%;height:19px;"></div><div style="position:absolute;top:2888px;width:100%;height:19px;"></div><div style="position:absolute;top:2907px;width:100%;height:19px;"></div><div style="position:absolute;top:2926px;width:100%;height:19px;"></div><div style="position:absolute;top:2945px;width:100%;height:19px;"></div><div style="position:absolute;top:2964px;width:100%;height:19px;"></div><div style="position:absolute;top:2983px;width:100%;height:19px;"></div><div style="position:absolute;top:3002px;width:100%;height:19px;"></div><div style="position:absolute;top:3021px;width:100%;height:19px;"></div><div style="position:absolute;top:3040px;width:100%;height:19px;"></div><div style="position:absolute;top:3059px;width:100%;height:19px;"></div><div style="position:absolute;top:3078px;width:100%;height:19px;"></div><div style="position:absolute;top:3097px;width:100%;height:19px;"></div><div style="position:absolute;top:3116px;width:100%;height:19px;"></div><div style="position:absolute;top:3135px;width:100%;height:19px;"></div><div style="position:absolute;top:3154px;width:100%;height:19px;"></div><div style="position:absolute;top:3173px;width:100%;height:19px;"></div><div style="position:absolute;top:3192px;width:100%;height:19px;"></div><div style="position:absolute;top:3211px;width:100%;height:19px;"></div><div style="position:absolute;top:3230px;width:100%;height:19px;"></div><div style="position:absolute;top:3249px;width:100%;height:19px;"></div><div style="position:absolute;top:3268px;width:100%;height:19px;"></div><div style="position:absolute;top:3287px;width:100%;height:19px;"></div><div style="position:absolute;top:3306px;width:100%;height:19px;"></div><div style="position:absolute;top:3325px;width:100%;height:19px;"></div><div style="position:absolute;top:3344px;width:100%;height:19px;"></div><div style="position:absolute;top:3363px;width:100%;height:19px;"></div><div style="position:absolute;top:3382px;width:100%;height:19px;"><div class="cdr unicode-highlight" style="left:131px;width:8px;height:19px;"></div><div class="cdr unicode-highlight" style="left:323px;width:8px;height:19px;"></div></div><div style="position:absolute;top:3401px;width:100%;height:19px;"></div><div style="position:absolute;top:3420px;width:100%;height:19px;"></div><div style="position:absolute;top:3439px;width:100%;height:19px;"></div><div style="position:absolute;top:3458px;width:100%;height:19px;"></div><div style="position:absolute;top:3477px;width:100%;height:19px;"></div><div style="position:absolute;top:3496px;width:100%;height:19px;"></div><div style="position:absolute;top:3515px;width:100%;height:19px;"></div><div style="position:absolute;top:3534px;width:100%;height:19px;"></div><div style="position:absolute;top:3553px;width:100%;height:19px;"></div><div style="position:absolute;top:3572px;width:100%;height:19px;"></div><div style="position:absolute;top:3591px;width:100%;height:19px;"></div><div style="position:absolute;top:3610px;width:100%;height:19px;"></div><div style="position:absolute;top:3629px;width:100%;height:19px;"></div><div style="position:absolute;top:3648px;width:100%;height:19px;"></div><div style="position:absolute;top:3667px;width:100%;height:19px;"></div><div style="position:absolute;top:3686px;width:100%;height:19px;"></div><div style="position:absolute;top:3705px;width:100%;height:19px;"></div><div style="position:absolute;top:3724px;width:100%;height:19px;"></div><div style="position:absolute;top:3743px;width:100%;height:19px;"></div><div style="position:absolute;top:3762px;width:100%;height:19px;"></div><div style="position:absolute;top:3781px;width:100%;height:19px;"></div><div style="position:absolute;top:3800px;width:100%;height:19px;"></div><div style="position:absolute;top:3819px;width:100%;height:19px;"></div><div style="position:absolute;top:3838px;width:100%;height:19px;"></div><div style="position:absolute;top:3857px;width:100%;height:19px;"></div><div style="position:absolute;top:3876px;width:100%;height:19px;"></div><div style="position:absolute;top:3895px;width:100%;height:19px;"></div><div style="position:absolute;top:3914px;width:100%;height:19px;"></div><div style="position:absolute;top:3933px;width:100%;height:19px;"></div><div style="position:absolute;top:3952px;width:100%;height:19px;"></div><div style="position:absolute;top:3971px;width:100%;height:19px;"></div><div style="position:absolute;top:3990px;width:100%;height:19px;"></div><div style="position:absolute;top:4009px;width:100%;height:19px;"></div><div style="position:absolute;top:4028px;width:100%;height:19px;"><div class="current-line" style="width:635px; height:19px;"></div></div><div style="position:absolute;top:4047px;width:100%;height:19px;"></div><div style="position:absolute;top:4066px;width:100%;height:19px;"></div><div style="position:absolute;top:4085px;width:100%;height:19px;"></div><div style="position:absolute;top:4104px;width:100%;height:19px;"></div><div style="position:absolute;top:4123px;width:100%;height:19px;"></div><div style="position:absolute;top:4142px;width:100%;height:19px;"></div><div style="position:absolute;top:4161px;width:100%;height:19px;"></div><div style="position:absolute;top:4180px;width:100%;height:19px;"></div><div style="position:absolute;top:4199px;width:100%;height:19px;"></div></div><div role="presentation" aria-hidden="true" class="view-rulers"><div class="view-ruler" style="width: 2px; height: 4228px; left: 615.938px;"></div></div><div class="view-zones" role="presentation" aria-hidden="true" style="position: absolute;"></div><div class="view-lines monaco-mouse-cursor-text" role="presentation" aria-hidden="true" data-mprt="7" style="position: absolute; font-family: monospace, Consolas, &quot;Courier New&quot;, monospace; font-weight: normal; font-size: 14px; font-feature-settings: &quot;liga&quot; 0, &quot;calt&quot; 0; font-variation-settings: normal; line-height: 19px; letter-spacing: 0px; width: 635px; height: 4228px;"><div style="top:0px;height:19px;" class="view-line"><span><span class="mtk1">Question&nbsp;1:&nbsp;What&nbsp;is&nbsp;K-Nearest&nbsp;Neighbors&nbsp;</span><span class="mtk1 bracket-highlighting-0">(</span><span class="mtk1">KNN</span><span class="mtk1 bracket-highlighting-0">)</span><span class="mtk1">&nbsp;and&nbsp;how&nbsp;does&nbsp;it&nbsp;work&nbsp;in&nbsp;both</span></span></div><div style="top:19px;height:19px;" class="view-line"><span><span class="mtk1">classification&nbsp;and&nbsp;regression&nbsp;problems?</span></span></div><div style="top:38px;height:19px;" class="view-line"><span><span></span></span></div><div style="top:57px;height:19px;" class="view-line"><span><span class="mtk1">Ans.&nbsp;K-Nearest&nbsp;Neighbors&nbsp;</span><span class="mtk1 bracket-highlighting-0">(</span><span class="mtk1">KNN</span><span class="mtk1 bracket-highlighting-0">)</span><span class="mtk1">:</span></span></div><div style="top: 76px; height: 19px;" class="view-line"><span><span></span></span></div><div style="top:95px;height:19px;" class="view-line"><span><span class="mtk1">&nbsp;KNN&nbsp;is&nbsp;a&nbsp;supervised&nbsp;learning&nbsp;algorithm&nbsp;used&nbsp;for&nbsp;c</span><span class="mtk1">lassification&nbsp;and&nbsp;regression.</span></span></div><div style="top:114px;height:19px;" class="view-line"><span><span class="mtk1">&nbsp;It’s&nbsp;a&nbsp;lazy&nbsp;learner&nbsp;</span><span class="mtk1 bracket-highlighting-0">(</span><span class="mtk1">no&nbsp;explicit&nbsp;training&nbsp;phase</span><span class="mtk1 bracket-highlighting-0">)</span><span class="mtk1">&nbsp;and&nbsp;non-parametric&nbsp;</span><span class="mtk1 bracket-highlighting-0">(</span><span class="mtk1">makes&nbsp;no&nbsp;</span></span></div><div style="top:133px;height:19px;" class="view-line"><span><span class="">&nbsp;</span><span class="mtk1">assumptions&nbsp;about&nbsp;data&nbsp;distribution</span><span class="mtk1 bracket-highlighting-0">)</span><span class="mtk1">.</span></span></div><div style="top: 152px; height: 19px;" class="view-line"><span><span></span></span></div><div style="top: 171px; height: 19px;" class="view-line"><span><span class="mtk1">How&nbsp;it&nbsp;works&nbsp;</span><span class="mtk1 bracket-highlighting-0">(</span><span class="mtk1">General&nbsp;Idea</span><span class="mtk1 bracket-highlighting-0">)</span><span class="mtk1">:</span></span></div><div style="top: 190px; height: 19px;" class="view-line"><span><span></span></span></div><div style="top: 209px; height: 19px;" class="view-line"><span><span class="mtk1">Choose&nbsp;a&nbsp;number&nbsp;K&nbsp;</span><span class="mtk1 bracket-highlighting-0">(</span><span class="mtk1">the&nbsp;number&nbsp;of&nbsp;neighbors</span><span class="mtk1 bracket-highlighting-0">)</span><span class="mtk1">.</span></span></div><div style="top: 228px; height: 19px;" class="view-line"><span><span></span></span></div><div style="top: 247px; height: 19px;" class="view-line"><span><span class="mtk1">For&nbsp;a&nbsp;new&nbsp;data&nbsp;point:</span></span></div><div style="top: 266px; height: 19px;" class="view-line"><span><span></span></span></div><div style="top: 285px; height: 19px;" class="view-line"><span><span class="mtk1">Calculate&nbsp;the&nbsp;distance&nbsp;</span><span class="mtk1 bracket-highlighting-0">(</span><span class="mtk1">commonly&nbsp;Euclidean</span><span class="mtk1 bracket-highlighting-0">)</span><span class="mtk1">&nbsp;between&nbsp;the&nbsp;new&nbsp;point&nbsp;and&nbsp;all&nbsp;</span></span></div><div style="top: 304px; height: 19px;" class="view-line"><span><span class="mtk1">points&nbsp;in&nbsp;the&nbsp;training&nbsp;data.</span></span></div><div style="top: 323px; height: 19px;" class="view-line"><span><span></span></span></div><div style="top: 342px; height: 19px;" class="view-line"><span><span class="mtk1">Identify&nbsp;the&nbsp;K&nbsp;closest&nbsp;data&nbsp;points&nbsp;</span><span class="mtk1 bracket-highlighting-0">(</span><span class="mtk1">neighbors</span><span class="mtk1 bracket-highlighting-0">)</span><span class="mtk1">.</span></span></div><div style="top: 361px; height: 19px;" class="view-line"><span><span></span></span></div><div style="top: 380px; height: 19px;" class="view-line"><span><span class="mtk1">Predict&nbsp;the&nbsp;output&nbsp;based&nbsp;on&nbsp;those&nbsp;neighbors.</span></span></div><div style="top: 399px; height: 19px;" class="view-line"><span><span></span></span></div><div style="top: 418px; height: 19px;" class="view-line"><span><span class="mtk1">In&nbsp;Classification:</span></span></div><div style="top: 437px; height: 19px;" class="view-line"><span><span></span></span></div><div style="top: 456px; height: 19px;" class="view-line"><span><span class="mtk1">Each&nbsp;neighbor&nbsp;"votes"&nbsp;for&nbsp;its&nbsp;class.</span></span></div><div style="top: 475px; height: 19px;" class="view-line"><span><span></span></span></div><div style="top: 494px; height: 19px;" class="view-line"><span><span class="mtk1">The&nbsp;class&nbsp;with&nbsp;the&nbsp;majority&nbsp;votes&nbsp;becomes&nbsp;the&nbsp;pred</span><span class="mtk1">icted&nbsp;class.</span></span></div><div style="top: 513px; height: 19px;" class="view-line"><span><span></span></span></div><div style="top: 532px; height: 19px;" class="view-line"><span><span class="mtk1">👉&nbsp;Example:</span></span></div><div style="top: 551px; height: 19px;" class="view-line"><span><span class="mtk1">If&nbsp;K=5&nbsp;and&nbsp;neighbors’&nbsp;classes&nbsp;are&nbsp;</span><span class="mtk21">[A,&nbsp;A,&nbsp;B,&nbsp;A,&nbsp;B]</span><span class="mtk1">&nbsp;→&nbsp;Majority&nbsp;is&nbsp;A,&nbsp;so&nbsp;</span></span></div><div style="top: 570px; height: 19px;" class="view-line"><span><span class="mtk1">prediction&nbsp;=&nbsp;A.</span></span></div><div style="top: 589px; height: 19px;" class="view-line"><span><span></span></span></div><div style="top: 608px; height: 19px;" class="view-line"><span><span class="mtk1">In&nbsp;Regression:</span></span></div><div style="top: 627px; height: 19px;" class="view-line"><span><span></span></span></div><div style="top: 646px; height: 19px;" class="view-line"><span><span class="mtk1">Instead&nbsp;of&nbsp;voting,&nbsp;take&nbsp;the&nbsp;average&nbsp;</span><span class="mtk1 bracket-highlighting-0">(</span><span class="mtk1">or&nbsp;weighted&nbsp;average</span><span class="mtk1 bracket-highlighting-0">)</span><span class="mtk1">&nbsp;of&nbsp;the&nbsp;neighbors’&nbsp;</span></span></div><div style="top: 665px; height: 19px;" class="view-line"><span><span class="mtk1">values.</span></span></div><div style="top: 684px; height: 19px;" class="view-line"><span><span></span></span></div><div style="top: 703px; height: 19px;" class="view-line"><span><span class="mtk1">👉&nbsp;Example:</span></span></div><div style="top: 722px; height: 19px;" class="view-line"><span><span class="mtk1">If&nbsp;K=3&nbsp;and&nbsp;neighbors’&nbsp;target&nbsp;values&nbsp;are&nbsp;</span><span class="mtk21">[10,&nbsp;12,&nbsp;14]</span><span class="mtk1">&nbsp;→&nbsp;Prediction&nbsp;=&nbsp;</span><span class="mtk1 bracket-highlighting-0">(</span><span class="mtk1">10+12+14</span><span class="mtk1 bracket-highlighting-0">)</span><span class="mtk1">/</span></span></div><div style="top: 741px; height: 19px;" class="view-line"><span><span class="mtk1">3&nbsp;=&nbsp;12.</span></span></div><div style="top: 760px; height: 19px;" class="view-line"><span><span></span></span></div><div style="top: 779px; height: 19px;" class="view-line"><span><span class="mtk1">Key&nbsp;Points&nbsp;about&nbsp;KNN:</span></span></div><div style="top: 798px; height: 19px;" class="view-line"><span><span></span></span></div><div style="top: 817px; height: 19px;" class="view-line"><span><span class="mtk1">Distance&nbsp;Metrics:&nbsp;Euclidean,&nbsp;Manhattan,&nbsp;Minkowski,</span><span class="mtk1">&nbsp;Cosine&nbsp;similarity.</span></span></div><div style="top: 836px; height: 19px;" class="view-line"><span><span></span></span></div><div style="top: 855px; height: 19px;" class="view-line"><span><span class="mtk1">Choice&nbsp;of&nbsp;K:</span></span></div><div style="top: 874px; height: 19px;" class="view-line"><span><span></span></span></div><div style="top: 893px; height: 19px;" class="view-line"><span><span class="mtk1">Small&nbsp;K&nbsp;→&nbsp;sensitive&nbsp;to&nbsp;noise&nbsp;</span><span class="mtk1 bracket-highlighting-0">(</span><span class="mtk1">overfitting</span><span class="mtk1 bracket-highlighting-0">)</span><span class="mtk1">.</span></span></div><div style="top: 912px; height: 19px;" class="view-line"><span><span></span></span></div><div style="top: 931px; height: 19px;" class="view-line"><span><span class="mtk1">Large&nbsp;K&nbsp;→&nbsp;smoother&nbsp;decision&nbsp;boundary&nbsp;but&nbsp;may&nbsp;</span><span class="mtk1">underfit.</span></span></div><div style="top: 950px; height: 19px;" class="view-line"><span><span></span></span></div><div style="top: 969px; height: 19px;" class="view-line"><span><span class="mtk1">Feature&nbsp;Scaling:&nbsp;Very&nbsp;important&nbsp;</span><span class="mtk1 bracket-highlighting-0">(</span><span class="mtk1">since&nbsp;distances&nbsp;dominate</span><span class="mtk1 bracket-highlighting-0">)</span><span class="mtk1">&nbsp;→&nbsp;use&nbsp;normalization/</span></span></div><div style="top: 988px; height: 19px;" class="view-line"><span><span class="mtk1">standardization</span></span></div><div style="top:1007px;height:19px;" class="view-line"><span><span></span></span></div><div style="top:1026px;height:19px;" class="view-line"><span><span></span></span></div><div style="top:1045px;height:19px;" class="view-line"><span><span class="mtk1">Question&nbsp;2:&nbsp;What&nbsp;is&nbsp;the&nbsp;Curse&nbsp;of&nbsp;Dimensionality&nbsp;an</span><span class="mtk1">d&nbsp;how&nbsp;does&nbsp;it&nbsp;affect&nbsp;KNN</span></span></div><div style="top:1064px;height:19px;" class="view-line"><span><span class="mtk1">performance?</span></span></div><div style="top:1083px;height:19px;" class="view-line"><span><span></span></span></div><div style="top:1102px;height:19px;" class="view-line"><span><span class="mtk1">Ans.&nbsp;&nbsp;-&nbsp;&nbsp;Curse&nbsp;of&nbsp;Dimensionality</span></span></div><div style="top:1121px;height:19px;" class="view-line"><span><span></span></span></div><div style="top:1140px;height:19px;" class="view-line"><span><span class="mtk1">The&nbsp;curse&nbsp;of&nbsp;dimensionality&nbsp;refers&nbsp;to&nbsp;the&nbsp;problems</span><span class="mtk1">&nbsp;that&nbsp;arise&nbsp;when&nbsp;data&nbsp;has&nbsp;too&nbsp;</span></span></div><div style="top:1159px;height:19px;" class="view-line"><span><span class="mtk1">many&nbsp;features&nbsp;</span><span class="mtk1 bracket-highlighting-0">(</span><span class="mtk1">dimensions</span><span class="mtk1 bracket-highlighting-0">)</span><span class="mtk1">.</span></span></div><div style="top:1178px;height:19px;" class="view-line"><span><span class="mtk1">As&nbsp;dimensions&nbsp;increase:</span></span></div><div style="top:1197px;height:19px;" class="view-line"><span><span></span></span></div><div style="top:1216px;height:19px;" class="view-line"><span><span class="mtk1">Data&nbsp;becomes&nbsp;sparse&nbsp;</span><span class="mtk1 bracket-highlighting-0">(</span><span class="mtk1">spread&nbsp;out</span><span class="mtk1 bracket-highlighting-0">)</span><span class="mtk1">.</span></span></div><div style="top:1235px;height:19px;" class="view-line"><span><span></span></span></div><div style="top:1254px;height:19px;" class="view-line"><span><span class="mtk1">Distances&nbsp;between&nbsp;points&nbsp;become&nbsp;less&nbsp;meaningful.</span></span></div><div style="top:1273px;height:19px;" class="view-line"><span><span></span></span></div><div style="top:1292px;height:19px;" class="view-line"><span><span class="mtk1">Models&nbsp;relying&nbsp;on&nbsp;distance&nbsp;similarity&nbsp;</span><span class="mtk1 bracket-highlighting-0">(</span><span class="mtk1">like&nbsp;KNN</span><span class="mtk1 bracket-highlighting-0">)</span><span class="mtk1">&nbsp;start&nbsp;to&nbsp;perform&nbsp;poorly.</span></span></div><div style="top:1311px;height:19px;" class="view-line"><span><span></span></span></div><div style="top:1330px;height:19px;" class="view-line"><span><span class="mtk6">-&nbsp;</span><span class="mtk1">How&nbsp;It&nbsp;Affects&nbsp;KNN&nbsp;Performance</span></span></div><div style="top:1349px;height:19px;" class="view-line"><span><span></span></span></div><div style="top:1368px;height:19px;" class="view-line"><span><span class="mtk1">Distance&nbsp;Becomes&nbsp;Less&nbsp;Discriminative</span></span></div><div style="top:1387px;height:19px;" class="view-line"><span><span></span></span></div><div style="top:1406px;height:19px;" class="view-line"><span><span class="mtk1">In&nbsp;high&nbsp;dimensions,&nbsp;the&nbsp;difference&nbsp;between&nbsp;the&nbsp;nea</span><span class="mtk1">rest&nbsp;and&nbsp;farthest&nbsp;neighbor&nbsp;</span></span></div><div style="top:1425px;height:19px;" class="view-line"><span><span class="mtk1">shrinks.</span></span></div><div style="top:1444px;height:19px;" class="view-line"><span><span></span></span></div><div style="top:1463px;height:19px;" class="view-line"><span><span class="mtk1">All&nbsp;points&nbsp;appear&nbsp;almost&nbsp;equally&nbsp;distant&nbsp;→&nbsp;KNN&nbsp;</span><span class="mtk1">can’t&nbsp;distinguish&nbsp;neighbors&nbsp;well.</span></span></div><div style="top:1482px;height:19px;" class="view-line"><span><span></span></span></div><div style="top:1501px;height:19px;" class="view-line"><span><span class="mtk1">Increased&nbsp;Computation</span></span></div><div style="top:1520px;height:19px;" class="view-line"><span><span></span></span></div><div style="top:1539px;height:19px;" class="view-line"><span><span class="mtk1">KNN&nbsp;requires&nbsp;computing&nbsp;distances&nbsp;to&nbsp;all&nbsp;training&nbsp;p</span><span class="mtk1">oints.</span></span></div><div style="top:1558px;height:19px;" class="view-line"><span><span></span></span></div><div style="top:1577px;height:19px;" class="view-line"><span><span class="mtk1">As&nbsp;dimensions&nbsp;grow,&nbsp;computation&nbsp;becomes&nbsp;expensive.</span></span></div><div style="top:1596px;height:19px;" class="view-line"><span><span></span></span></div><div style="top:1615px;height:19px;" class="view-line"><span><span class="mtk1">Overfitting&nbsp;Risk</span></span></div><div style="top:1634px;height:19px;" class="view-line"><span><span></span></span></div><div style="top:1653px;height:19px;" class="view-line"><span><span class="mtk1">With&nbsp;many&nbsp;irrelevant&nbsp;features,&nbsp;KNN&nbsp;may&nbsp;consider&nbsp;no</span><span class="mtk1">isy&nbsp;dimensions&nbsp;in&nbsp;distance&nbsp;</span></span></div><div style="top:1672px;height:19px;" class="view-line"><span><span class="mtk1">calculation.</span></span></div><div style="top:1691px;height:19px;" class="view-line"><span><span></span></span></div><div style="top:1710px;height:19px;" class="view-line"><span><span class="mtk1">This&nbsp;misleads&nbsp;the&nbsp;algorithm&nbsp;→&nbsp;poor&nbsp;generalization.</span></span></div><div style="top:1729px;height:19px;" class="view-line"><span><span></span></span></div><div style="top:1748px;height:19px;" class="view-line"><span><span class="mtk6">-&nbsp;</span><span class="mtk1">Example:</span></span></div><div style="top:1767px;height:19px;" class="view-line"><span><span></span></span></div><div style="top:1786px;height:19px;" class="view-line"><span><span class="mtk1">Imagine&nbsp;classifying&nbsp;points&nbsp;in:</span></span></div><div style="top:1805px;height:19px;" class="view-line"><span><span></span></span></div><div style="top:1824px;height:19px;" class="view-line"><span><span class="mtk1">2D&nbsp;</span><span class="mtk1 bracket-highlighting-0">(</span><span class="mtk1">x,y</span><span class="mtk1 bracket-highlighting-0">)</span><span class="mtk1">:&nbsp;You&nbsp;can&nbsp;easily&nbsp;find&nbsp;"close&nbsp;neighbors."</span></span></div><div style="top:1843px;height:19px;" class="view-line"><span><span></span></span></div><div style="top:1862px;height:19px;" class="view-line"><span><span class="mtk1">100D:&nbsp;Almost&nbsp;every&nbsp;point&nbsp;is&nbsp;far&nbsp;away&nbsp;→&nbsp;"nearest"&nbsp;</span><span class="mtk1">loses&nbsp;meaning.</span></span></div><div style="top:1881px;height:19px;" class="view-line"><span><span></span></span></div><div style="top:1900px;height:19px;" class="view-line"><span><span class="mtk6">-&nbsp;</span><span class="mtk1">How&nbsp;to&nbsp;Reduce&nbsp;Curse&nbsp;of&nbsp;Dimensionality&nbsp;in&nbsp;KNN</span></span></div><div style="top:1919px;height:19px;" class="view-line"><span><span></span></span></div><div style="top:1938px;height:19px;" class="view-line"><span><span class="mtk1">Feature&nbsp;Selection:&nbsp;Keep&nbsp;only&nbsp;important&nbsp;features.</span></span></div><div style="top:1957px;height:19px;" class="view-line"><span><span></span></span></div><div style="top:1976px;height:19px;" class="view-line"><span><span class="mtk1">Dimensionality&nbsp;Reduction:&nbsp;Use&nbsp;PCA,&nbsp;t-SNE,&nbsp;Autoenco</span><span class="mtk1">ders.</span></span></div><div style="top:1995px;height:19px;" class="view-line"><span><span></span></span></div><div style="top:2014px;height:19px;" class="view-line"><span><span class="mtk1">Scaling/Normalization:&nbsp;Ensures&nbsp;no&nbsp;feature&nbsp;dominate</span><span class="mtk1">s&nbsp;distance.</span></span></div><div style="top:2033px;height:19px;" class="view-line"><span><span></span></span></div><div style="top:2052px;height:19px;" class="view-line"><span><span class="mtk1">Use&nbsp;weighted&nbsp;distances:&nbsp;Closer&nbsp;neighbors&nbsp;get&nbsp;highe</span><span class="mtk1">r&nbsp;weight.</span></span></div><div style="top:2071px;height:19px;" class="view-line"><span><span></span></span></div><div style="top:2090px;height:19px;" class="view-line"><span><span class="mtk1">Question&nbsp;3:&nbsp;What&nbsp;is&nbsp;Principal&nbsp;Component&nbsp;Analysis&nbsp;</span><span class="mtk1 bracket-highlighting-0">(</span><span class="mtk1">PCA</span><span class="mtk1 bracket-highlighting-0">)</span><span class="mtk1">?&nbsp;How&nbsp;is&nbsp;it&nbsp;different&nbsp;from</span></span></div><div style="top:2109px;height:19px;" class="view-line"><span><span class="mtk1">feature&nbsp;selection?</span></span></div><div style="top:2128px;height:19px;" class="view-line"><span><span></span></span></div><div style="top:2147px;height:19px;" class="view-line"><span><span class="mtk1">Ans.Principal&nbsp;Component&nbsp;Analysis&nbsp;</span><span class="mtk1 bracket-highlighting-0">(</span><span class="mtk1">PCA</span><span class="mtk1 bracket-highlighting-0">)</span></span></div><div style="top:2166px;height:19px;" class="view-line"><span><span></span></span></div><div style="top:2185px;height:19px;" class="view-line"><span><span class="mtk1">PCA&nbsp;is&nbsp;a&nbsp;dimensionality&nbsp;reduction&nbsp;technique&nbsp;used&nbsp;i</span><span class="mtk1">n&nbsp;machine&nbsp;learning&nbsp;and&nbsp;</span></span></div><div style="top:2204px;height:19px;" class="view-line"><span><span class="mtk1">statistics.</span></span></div><div style="top:2223px;height:19px;" class="view-line"><span><span class="mtk1">It&nbsp;transforms&nbsp;high-dimensional&nbsp;data&nbsp;into&nbsp;a&nbsp;new&nbsp;set</span><span class="mtk1">&nbsp;of&nbsp;features&nbsp;</span><span class="mtk1 bracket-highlighting-0">(</span><span class="mtk1">called&nbsp;</span></span></div><div style="top:2242px;height:19px;" class="view-line"><span><span class="mtk1">principal&nbsp;components</span><span class="mtk1 bracket-highlighting-0">)</span><span class="mtk1">&nbsp;that&nbsp;capture&nbsp;the&nbsp;maximum&nbsp;variance&nbsp;in&nbsp;the&nbsp;data.</span></span></div><div style="top:2261px;height:19px;" class="view-line"><span><span></span></span></div><div style="top:2280px;height:19px;" class="view-line"><span><span class="mtk6">-&nbsp;</span><span class="mtk1">How&nbsp;PCA&nbsp;Works&nbsp;</span><span class="mtk1 bracket-highlighting-0">(</span><span class="mtk1">Steps</span><span class="mtk1 bracket-highlighting-0">)</span><span class="mtk1">:</span></span></div><div style="top:2299px;height:19px;" class="view-line"><span><span></span></span></div><div style="top:2318px;height:19px;" class="view-line"><span><span class="mtk1">Standardize&nbsp;the&nbsp;data&nbsp;</span><span class="mtk1 bracket-highlighting-0">(</span><span class="mtk1">so&nbsp;all&nbsp;features&nbsp;are&nbsp;on&nbsp;the&nbsp;same&nbsp;scale</span><span class="mtk1 bracket-highlighting-0">)</span><span class="mtk1">.</span></span></div><div style="top:2337px;height:19px;" class="view-line"><span><span></span></span></div><div style="top:2356px;height:19px;" class="view-line"><span><span class="mtk1">Compute&nbsp;the&nbsp;covariance&nbsp;matrix&nbsp;to&nbsp;understand&nbsp;featur</span><span class="mtk1">e&nbsp;relationships.</span></span></div><div style="top:2375px;height:19px;" class="view-line"><span><span></span></span></div><div style="top:2394px;height:19px;" class="view-line"><span><span class="mtk1">Find&nbsp;eigenvalues&nbsp;&amp;&nbsp;eigenvectors&nbsp;of&nbsp;the&nbsp;covariance&nbsp;</span><span class="mtk1">matrix.</span></span></div><div style="top:2413px;height:19px;" class="view-line"><span><span></span></span></div><div style="top:2432px;height:19px;" class="view-line"><span><span class="mtk1">Eigenvectors&nbsp;=&nbsp;directions&nbsp;of&nbsp;new&nbsp;features&nbsp;</span><span class="mtk1 bracket-highlighting-0">(</span><span class="mtk1">principal&nbsp;components</span><span class="mtk1 bracket-highlighting-0">)</span><span class="mtk1">.</span></span></div><div style="top:2451px;height:19px;" class="view-line"><span><span></span></span></div><div style="top:2470px;height:19px;" class="view-line"><span><span class="mtk1">Eigenvalues&nbsp;=&nbsp;how&nbsp;much&nbsp;variance&nbsp;each&nbsp;component&nbsp;exp</span><span class="mtk1">lains.</span></span></div><div style="top:2489px;height:19px;" class="view-line"><span><span></span></span></div><div style="top:2508px;height:19px;" class="view-line"><span><span class="mtk1">Select&nbsp;top&nbsp;k&nbsp;components&nbsp;that&nbsp;explain&nbsp;most&nbsp;of&nbsp;the&nbsp;v</span><span class="mtk1">ariance.</span></span></div><div style="top:2527px;height:19px;" class="view-line"><span><span></span></span></div><div style="top:2546px;height:19px;" class="view-line"><span><span class="mtk1">Transform&nbsp;original&nbsp;data&nbsp;into&nbsp;this&nbsp;new&nbsp;reduced&nbsp;feat</span><span class="mtk1">ure&nbsp;space.</span></span></div><div style="top:2565px;height:19px;" class="view-line"><span><span></span></span></div><div style="top:2584px;height:19px;" class="view-line"><span><span class="mtk6">-&nbsp;</span><span class="mtk1">Example:&nbsp;If&nbsp;you&nbsp;have&nbsp;100&nbsp;features,&nbsp;PCA&nbsp;may&nbsp;reduce&nbsp;</span><span class="mtk1">them&nbsp;to&nbsp;10&nbsp;principal&nbsp;</span></span></div><div style="top:2603px;height:19px;" class="view-line"><span><span class="mtk1">components&nbsp;while&nbsp;still&nbsp;keeping&nbsp;~90%&nbsp;of&nbsp;the&nbsp;varianc</span><span class="mtk1">e.</span></span></div><div style="top:2622px;height:19px;" class="view-line"><span><span></span></span></div><div style="top:2641px;height:19px;" class="view-line"><span><span class="mtk6">-&nbsp;</span><span class="mtk1">Principal&nbsp;Component&nbsp;Analysis&nbsp;</span><span class="mtk1 bracket-highlighting-0">(</span><span class="mtk1">PCA</span><span class="mtk1 bracket-highlighting-0">)</span><span class="mtk1">&nbsp;and&nbsp;feature&nbsp;selection&nbsp;are&nbsp;both&nbsp;</span></span></div><div style="top:2660px;height:19px;" class="view-line"><span><span class="mtk1">dimensionality&nbsp;reduction&nbsp;techniques,&nbsp;but&nbsp;they&nbsp;work</span><span class="mtk1">&nbsp;differently.&nbsp;PCA&nbsp;is&nbsp;a&nbsp;</span></span></div><div style="top:2679px;height:19px;" class="view-line"><span><span class="mtk1">feature&nbsp;extraction&nbsp;method&nbsp;that&nbsp;transforms&nbsp;the&nbsp;orig</span><span class="mtk1">inal&nbsp;features&nbsp;into&nbsp;new&nbsp;ones&nbsp;</span></span></div><div style="top:2698px;height:19px;" class="view-line"><span><span class="mtk1">called&nbsp;principal&nbsp;components,&nbsp;which&nbsp;are&nbsp;linear&nbsp;comb</span><span class="mtk1">inations&nbsp;of&nbsp;the&nbsp;existing&nbsp;</span></span></div><div style="top:2717px;height:19px;" class="view-line"><span><span class="mtk1">features&nbsp;and&nbsp;capture&nbsp;the&nbsp;maximum&nbsp;variance&nbsp;in&nbsp;the&nbsp;d</span><span class="mtk1">ata.&nbsp;In&nbsp;contrast,&nbsp;feature&nbsp;</span></span></div><div style="top:2736px;height:19px;" class="view-line"><span><span class="mtk1">selection&nbsp;does&nbsp;not&nbsp;create&nbsp;new&nbsp;features&nbsp;but&nbsp;instead</span><span class="mtk1">&nbsp;identifies&nbsp;and&nbsp;retains&nbsp;only&nbsp;</span></span></div><div style="top:2755px;height:19px;" class="view-line"><span><span class="mtk1">the&nbsp;most&nbsp;relevant&nbsp;original&nbsp;features,&nbsp;removing&nbsp;the&nbsp;</span><span class="mtk1">less&nbsp;useful&nbsp;or&nbsp;redundant&nbsp;</span></span></div><div style="top:2774px;height:19px;" class="view-line"><span><span class="mtk1">ones.&nbsp;While&nbsp;PCA&nbsp;often&nbsp;improves&nbsp;performance&nbsp;by&nbsp;elim</span><span class="mtk1">inating&nbsp;correlations&nbsp;and&nbsp;</span></span></div><div style="top:2793px;height:19px;" class="view-line"><span><span class="mtk1">reducing&nbsp;noise,&nbsp;it&nbsp;reduces&nbsp;interpretability&nbsp;since&nbsp;</span><span class="mtk1">the&nbsp;new&nbsp;components&nbsp;are&nbsp;not&nbsp;</span></span></div><div style="top:2812px;height:19px;" class="view-line"><span><span class="mtk1">the&nbsp;same&nbsp;as&nbsp;the&nbsp;original&nbsp;features.&nbsp;Feature&nbsp;selecti</span><span class="mtk1">on,&nbsp;on&nbsp;the&nbsp;other&nbsp;hand,&nbsp;</span></span></div><div style="top:2831px;height:19px;" class="view-line"><span><span class="mtk1">maintains&nbsp;interpretability&nbsp;because&nbsp;it&nbsp;directly&nbsp;wor</span><span class="mtk1">ks&nbsp;with&nbsp;the&nbsp;original&nbsp;feature&nbsp;</span></span></div><div style="top:2850px;height:19px;" class="view-line"><span><span class="mtk1">set.</span></span></div><div style="top:2869px;height:19px;" class="view-line"><span><span></span></span></div><div style="top:2888px;height:19px;" class="view-line"><span><span class="mtk1">Question&nbsp;4:&nbsp;What&nbsp;are&nbsp;eigenvalues&nbsp;and&nbsp;eigenvectors&nbsp;</span><span class="mtk1">in&nbsp;PCA,&nbsp;and&nbsp;why&nbsp;are&nbsp;they</span></span></div><div style="top:2907px;height:19px;" class="view-line"><span><span class="mtk1">important?</span></span></div><div style="top:2926px;height:19px;" class="view-line"><span><span></span></span></div><div style="top:2945px;height:19px;" class="view-line"><span><span class="mtk1">Ans.&nbsp;Eigenvalues&nbsp;and&nbsp;Eigenvectors&nbsp;in&nbsp;PCA</span></span></div><div style="top:2964px;height:19px;" class="view-line"><span><span></span></span></div><div style="top:2983px;height:19px;" class="view-line"><span><span class="mtk1">Eigenvectors:</span></span></div><div style="top:3002px;height:19px;" class="view-line"><span><span class="mtk1">These&nbsp;represent&nbsp;the&nbsp;directions&nbsp;of&nbsp;the&nbsp;new&nbsp;feature&nbsp;</span><span class="mtk1">space&nbsp;</span><span class="mtk1 bracket-highlighting-0">(</span><span class="mtk1">principal&nbsp;components</span><span class="mtk1 bracket-highlighting-0">)</span><span class="mtk1">.</span></span></div><div style="top:3021px;height:19px;" class="view-line"><span><span class="mtk1">Each&nbsp;eigenvector&nbsp;points&nbsp;in&nbsp;the&nbsp;direction&nbsp;where&nbsp;dat</span><span class="mtk1">a&nbsp;varies&nbsp;the&nbsp;most.</span></span></div><div style="top:3040px;height:19px;" class="view-line"><span><span></span></span></div><div style="top:3059px;height:19px;" class="view-line"><span><span class="mtk1">Eigenvalues:</span></span></div><div style="top:3078px;height:19px;" class="view-line"><span><span class="mtk1">These&nbsp;represent&nbsp;the&nbsp;amount&nbsp;of&nbsp;variance&nbsp;captured&nbsp;by</span><span class="mtk1">&nbsp;their&nbsp;corresponding&nbsp;</span></span></div><div style="top:3097px;height:19px;" class="view-line"><span><span class="mtk1">eigenvectors.</span></span></div><div style="top:3116px;height:19px;" class="view-line"><span><span class="mtk1">Larger&nbsp;eigenvalue&nbsp;→&nbsp;more&nbsp;information&nbsp;</span><span class="mtk1 bracket-highlighting-0">(</span><span class="mtk1">variance</span><span class="mtk1 bracket-highlighting-0">)</span><span class="mtk1">&nbsp;that&nbsp;component&nbsp;holds.</span></span></div><div style="top:3135px;height:19px;" class="view-line"><span><span></span></span></div><div style="top:3154px;height:19px;" class="view-line"><span><span class="mtk6">-&nbsp;</span><span class="mtk1">Why&nbsp;They&nbsp;Are&nbsp;Important&nbsp;in&nbsp;PCA</span></span></div><div style="top:3173px;height:19px;" class="view-line"><span><span></span></span></div><div style="top:3192px;height:19px;" class="view-line"><span><span class="mtk1">Determine&nbsp;Principal&nbsp;Components</span></span></div><div style="top:3211px;height:19px;" class="view-line"><span><span></span></span></div><div style="top:3230px;height:19px;" class="view-line"><span><span class="mtk1">PCA&nbsp;computes&nbsp;eigenvectors&nbsp;of&nbsp;the&nbsp;covariance&nbsp;matrix</span><span class="mtk1">&nbsp;of&nbsp;the&nbsp;data.</span></span></div><div style="top:3249px;height:19px;" class="view-line"><span><span></span></span></div><div style="top:3268px;height:19px;" class="view-line"><span><span class="mtk1">Each&nbsp;eigenvector&nbsp;is&nbsp;a&nbsp;principal&nbsp;component&nbsp;directio</span><span class="mtk1">n.</span></span></div><div style="top:3287px;height:19px;" class="view-line"><span><span></span></span></div><div style="top:3306px;height:19px;" class="view-line"><span><span class="mtk1">Rank&nbsp;Components&nbsp;by&nbsp;Importance</span></span></div><div style="top:3325px;height:19px;" class="view-line"><span><span></span></span></div><div style="top:3344px;height:19px;" class="view-line"><span><span class="mtk1">Eigenvalues&nbsp;tell&nbsp;us&nbsp;how&nbsp;much&nbsp;variance&nbsp;each&nbsp;compone</span><span class="mtk1">nt&nbsp;explains.</span></span></div><div style="top:3363px;height:19px;" class="view-line"><span><span></span></span></div><div style="top:3382px;height:19px;" class="view-line"><span><span class="mtk6">-&nbsp;</span><span class="mtk1">Example:&nbsp;If&nbsp;PC1’s&nbsp;eigenvalue&nbsp;=&nbsp;5&nbsp;and&nbsp;PC2’s&nbsp;</span><span class="mtk1">eigenvalue&nbsp;=&nbsp;2,&nbsp;then&nbsp;PC1&nbsp;captures&nbsp;</span></span></div><div style="top:3401px;height:19px;" class="view-line"><span><span class="mtk1">more&nbsp;variance.</span></span></div><div style="top:3420px;height:19px;" class="view-line"><span><span></span></span></div><div style="top:3439px;height:19px;" class="view-line"><span><span class="mtk1">Dimensionality&nbsp;Reduction</span></span></div><div style="top:3458px;height:19px;" class="view-line"><span><span></span></span></div><div style="top:3477px;height:19px;" class="view-line"><span><span class="mtk1">We&nbsp;keep&nbsp;only&nbsp;the&nbsp;top&nbsp;k&nbsp;eigenvectors&nbsp;</span><span class="mtk1 bracket-highlighting-0">(</span><span class="mtk1">with&nbsp;the&nbsp;largest&nbsp;eigenvalues</span><span class="mtk1 bracket-highlighting-0">)</span><span class="mtk1">.</span></span></div><div style="top:3496px;height:19px;" class="view-line"><span><span></span></span></div><div style="top:3515px;height:19px;" class="view-line"><span><span class="mtk1">This&nbsp;way,&nbsp;we&nbsp;reduce&nbsp;dimensions&nbsp;while&nbsp;keeping&nbsp;most&nbsp;</span><span class="mtk1">of&nbsp;the&nbsp;variance.</span></span></div><div style="top:3534px;height:19px;" class="view-line"><span><span></span></span></div><div style="top:3553px;height:19px;" class="view-line"><span><span class="mtk1">Question&nbsp;5:&nbsp;How&nbsp;do&nbsp;KNN&nbsp;and&nbsp;PCA&nbsp;complement&nbsp;each&nbsp;oth</span><span class="mtk1">er&nbsp;when&nbsp;applied&nbsp;in&nbsp;a&nbsp;single</span></span></div><div style="top:3572px;height:19px;" class="view-line"><span><span class="mtk1">pipeline?</span></span></div><div style="top:3591px;height:19px;" class="view-line"><span><span></span></span></div><div style="top:3610px;height:19px;" class="view-line"><span><span class="mtk1">Ans.&nbsp;How&nbsp;KNN&nbsp;and&nbsp;PCA&nbsp;Complement&nbsp;Each&nbsp;Other</span></span></div><div style="top:3629px;height:19px;" class="view-line"><span><span></span></span></div><div style="top:3648px;height:19px;" class="view-line"><span><span class="mtk1">1.KNN&nbsp;struggles&nbsp;in&nbsp;high&nbsp;dimensions</span></span></div><div style="top:3667px;height:19px;" class="view-line"><span><span></span></span></div><div style="top:3686px;height:19px;" class="view-line"><span><span class="mtk1">KNN&nbsp;relies&nbsp;on&nbsp;distance&nbsp;calculations.</span></span></div><div style="top:3705px;height:19px;" class="view-line"><span><span></span></span></div><div style="top:3724px;height:19px;" class="view-line"><span><span class="mtk1">In&nbsp;high-dimensional&nbsp;spaces&nbsp;</span><span class="mtk1 bracket-highlighting-0">(</span><span class="mtk1">curse&nbsp;of&nbsp;dimensionality</span><span class="mtk1 bracket-highlighting-0">)</span><span class="mtk1">,&nbsp;distances&nbsp;lose&nbsp;meaning&nbsp;→&nbsp;</span></span></div><div style="top:3743px;height:19px;" class="view-line"><span><span class="mtk1">performance&nbsp;drops.</span></span></div><div style="top:3762px;height:19px;" class="view-line"><span><span></span></span></div><div style="top:3781px;height:19px;" class="view-line"><span><span class="mtk1">2.PCA&nbsp;reduces&nbsp;dimensions&nbsp;before&nbsp;KNN</span></span></div><div style="top:3800px;height:19px;" class="view-line"><span><span></span></span></div><div style="top:3819px;height:19px;" class="view-line"><span><span class="mtk1">PCA&nbsp;transforms&nbsp;the&nbsp;data&nbsp;into&nbsp;a&nbsp;smaller&nbsp;set&nbsp;of&nbsp;unco</span><span class="mtk1">rrelated&nbsp;features&nbsp;</span><span class="mtk1 bracket-highlighting-0">(</span><span class="mtk1">principal&nbsp;</span></span></div><div style="top:3838px;height:19px;" class="view-line"><span><span class="mtk1">components</span><span class="mtk1 bracket-highlighting-0">)</span><span class="mtk1">.</span></span></div><div style="top:3857px;height:19px;" class="view-line"><span><span></span></span></div><div style="top:3876px;height:19px;" class="view-line"><span><span class="mtk1">This&nbsp;removes&nbsp;noise&nbsp;and&nbsp;redundancy,&nbsp;making&nbsp;distance</span><span class="mtk1">&nbsp;calculations&nbsp;more&nbsp;reliable.</span></span></div><div style="top:3895px;height:19px;" class="view-line"><span><span></span></span></div><div style="top:3914px;height:19px;" class="view-line"><span><span class="mtk1">3.Improved&nbsp;Efficiency</span></span></div><div style="top:3933px;height:19px;" class="view-line"><span><span></span></span></div><div style="top:3952px;height:19px;" class="view-line"><span><span class="mtk1">With&nbsp;fewer&nbsp;dimensions,&nbsp;KNN&nbsp;computes&nbsp;distances&nbsp;much</span><span class="mtk1">&nbsp;faster.</span></span></div><div style="top:3971px;height:19px;" class="view-line"><span><span></span></span></div><div style="top:3990px;height:19px;" class="view-line"><span><span class="mtk1">This&nbsp;is&nbsp;important&nbsp;since&nbsp;KNN&nbsp;has&nbsp;high&nbsp;prediction-ti</span><span class="mtk1">me&nbsp;cost.</span></span></div><div style="top:4009px;height:19px;" class="view-line"><span><span></span></span></div><div style="top:4028px;height:19px;" class="view-line"><span><span class="mtk1">4.Better&nbsp;Generalization</span></span></div><div style="top:4047px;height:19px;" class="view-line"><span><span></span></span></div><div style="top:4066px;height:19px;" class="view-line"><span><span class="mtk1">By&nbsp;keeping&nbsp;only&nbsp;the&nbsp;top&nbsp;principal&nbsp;components,&nbsp;PCA&nbsp;</span><span class="mtk1">reduces&nbsp;overfitting.</span></span></div><div style="top:4085px;height:19px;" class="view-line"><span><span></span></span></div><div style="top:4104px;height:19px;" class="view-line"><span><span class="mtk1">KNN&nbsp;then&nbsp;focuses&nbsp;on&nbsp;the&nbsp;most&nbsp;informative&nbsp;features,</span><span class="mtk1">&nbsp;improving&nbsp;accuracy.</span></span></div><div style="top:4123px;height:19px;" class="view-line"><span><span></span></span></div><div style="top:4142px;height:19px;" class="view-line"><span><span class="mtk6">-&nbsp;</span><span class="mtk1">In&nbsp;short:</span></span></div><div style="top:4161px;height:19px;" class="view-line"><span><span></span></span></div><div style="top:4180px;height:19px;" class="view-line"><span><span class="mtk1">When&nbsp;combined,&nbsp;PCA&nbsp;reduces&nbsp;data&nbsp;complexity&nbsp;and&nbsp;noi</span><span class="mtk1">se,&nbsp;and&nbsp;KNN&nbsp;uses&nbsp;the&nbsp;cleaner,&nbsp;</span></span></div><div style="top:4199px;height:19px;" class="view-line"><span><span class="mtk1">lower-dimensional&nbsp;space&nbsp;to&nbsp;make&nbsp;more&nbsp;accurate&nbsp;dist</span><span class="mtk1">ance-based&nbsp;predictions.</span></span></div></div><div data-mprt="1" class="contentWidgets" style="position: absolute; top: 0px;"><div class="lightBulbWidget codicon codicon-light-bulb" widgetid="LightBulbWidget" title="Show Code Actions (Ctrl+.)" style="position: absolute; display: none; visibility: hidden; max-width: 635px;"></div></div><div role="presentation" aria-hidden="true" class="cursors-layer cursor-line-style cursor-solid"><div class="cursor monaco-mouse-cursor-text " style="height: 19px; top: 4028px; left: 14px; font-family: monospace, Consolas, &quot;Courier New&quot;, monospace; font-weight: normal; font-size: 14px; font-feature-settings: &quot;liga&quot; 0, &quot;calt&quot; 0; font-variation-settings: normal; line-height: 19px; letter-spacing: 0px; display: block; visibility: hidden; padding-left: 1px; width: 2px;"></div></div></div><div role="presentation" aria-hidden="true" class="invisible scrollbar horizontal" style="position: absolute; width: 621px; height: 10px; left: 0px; bottom: 0px;"><div class="slider" style="position: absolute; top: 0px; left: 0px; height: 10px; transform: translate3d(0px, 0px, 0px); contain: strict; will-change: unset; width: 621px;"></div></div><canvas class="decorationsOverviewRuler" aria-hidden="true" width="14" height="4228" style="position: absolute; transform: translate3d(0px, 0px, 0px); contain: strict; top: 0px; right: 0px; width: 14px; height: 4228px; will-change: unset; display: block;"></canvas><div role="presentation" aria-hidden="true" class="invisible scrollbar vertical" style="position: absolute; width: 14px; height: 4228px; right: 0px; top: 0px;"><div class="slider" style="position: absolute; top: 0px; left: 0px; width: 14px; transform: translate3d(0px, 0px, 0px); contain: strict; will-change: unset; height: 4228px;"></div></div></div><div role="presentation" aria-hidden="true" style="width: 641px;"></div><textarea data-mprt="6" class="inputarea monaco-mouse-cursor-text" wrap="on" autocorrect="off" autocapitalize="off" autocomplete="off" spellcheck="false" aria-label="Editor content;Press Alt+F1 for Accessibility Options." tabindex="0" role="textbox" aria-roledescription="editor" aria-multiline="true" aria-haspopup="false" aria-autocomplete="both" style="tab-size: 15.3984px; font-family: monospace, Consolas, &quot;Courier New&quot;, monospace; font-weight: normal; font-size: 14px; font-feature-settings: &quot;liga&quot; 0, &quot;calt&quot; 0; font-variation-settings: normal; line-height: 19px; letter-spacing: 0px; top: 4028px; left: 6px; width: 616px; height: 1px;"></textarea><div style="position: absolute; top: 0px; left: 0px; width: 0px; height: 0px;" class="monaco-editor-background textAreaCover"></div><div data-mprt="4" class="overlayWidgets" style="width: 641px;"><div class="monaco-hover hidden" tabindex="0" role="tooltip" widgetid="editor.contrib.modesGlyphHoverWidget" style="position: absolute;"><div class="monaco-scrollable-element " role="presentation" style="position: relative; overflow: hidden;"><div class="monaco-hover-content" style="overflow: hidden;"></div><div role="presentation" aria-hidden="true" class="invisible scrollbar horizontal" style="position: absolute;"><div class="slider" style="position: absolute; top: 0px; left: 0px; height: 10px; transform: translate3d(0px, 0px, 0px); contain: strict;"></div></div><div role="presentation" aria-hidden="true" class="invisible scrollbar vertical" style="position: absolute;"><div class="slider" style="position: absolute; top: 0px; left: 0px; width: 10px; transform: translate3d(0px, 0px, 0px); contain: strict;"></div></div><div class="shadow"></div><div class="shadow"></div><div class="shadow"></div></div></div></div><div data-mprt="8" class="minimap slider-mouseover" role="presentation" aria-hidden="true" style="position: absolute; left: 0px; width: 0px; height: 4228px;"><div class="minimap-shadow-hidden" style="height: 4228px;"></div><canvas width="0" height="4228" style="position: absolute; left: 0px; width: 0px; height: 4228px;"></canvas><canvas class="minimap-decorations-layer" width="0" height="4228" style="position: absolute; left: 0px; width: 0px; height: 4228px;"></canvas><div class="minimap-slider" style="position: absolute; transform: translate3d(0px, 0px, 0px); contain: strict; width: 0px; will-change: unset;"><div class="minimap-slider-horizontal" style="position: absolute; width: 0px; height: 0px;"></div></div></div><div role="presentation" aria-hidden="true" class="blockDecorations-container"></div></div><div data-mprt="2" class="overflowingContentWidgets" style="display: none;"><div widgetid="editor.contrib.resizableContentHoverWidget" style="position: fixed; height: 41px; width: 502px; z-index: 50; display: none; visibility: hidden; max-width: 1360px; top: 325.594px; left: 76px;"><div class="monaco-sash vertical" style="left: 500px;"></div><div class="monaco-sash vertical disabled" style="left: -2px;"></div><div class="monaco-sash orthogonal-edge-north horizontal" style="top: -2px;"><div class="orthogonal-drag-handle end"></div></div><div class="monaco-sash orthogonal-edge-south horizontal disabled" style="top: 39px;"><div class="orthogonal-drag-handle end"></div></div><div class="monaco-hover hidden" tabindex="0" role="tooltip" style="width: 502px; height: 41px;"><div class="monaco-scrollable-element " role="presentation" style="position: relative; overflow: hidden;"><div class="monaco-hover-content" style="overflow: hidden; font-size: 14px; line-height: 1.35714; max-width: 500px; max-height: 1057px; width: 500px; height: 31px; padding-bottom: 10px;"><div class="hover-row markdown-hover"><div class="hover-contents"><div class="rendered-markdown"><p>The character <code>U+2019</code> "<code>’</code>" could be confused with the ASCII character <code>U+0060</code> "<code>`</code>", which is more common in source code.&nbsp;<a data-href="command:editor.action.unicodeHighlight.showExcludeOptions?%7B%22codePoint%22%3A8217%2C%22reason%22%3A%7B%22kind%22%3A0%2C%22confusableWith%22%3A%22%60%22%2C%22notAmbiguousInLocales%22%3A%5B%22es%22%2C%22fr%22%2C%22it%22%2C%22ko%22%2C%22tr%22%2C%22zh-hans%22%2C%22zh-hant%22%5D%7D%2C%22inComment%22%3Afalse%2C%22inString%22%3Afalse%7D" href="https://colab.research.google.com/drive/1lKj2PjoA--Rqc0XIHJeDcimLU4iwhyW3" title="command:editor.action.unicodeHighlight.showExcludeOptions?%7B%22codePoint%22%3A8217%2C%22reason%22%3A%7B%22kind%22%3A0%2C%22confusableWith%22%3A%22%60%22%2C%22notAmbiguousInLocales%22%3A%5B%22es%22%2C%22fr%22%2C%22it%22%2C%22ko%22%2C%22tr%22%2C%22zh-hans%22%2C%22zh-hant%22%5D%7D%2C%22inComment%22%3Afalse%2C%22inString%22%3Afalse%7D">Adjust settings</a></p></div></div></div></div><div role="presentation" aria-hidden="true" class="invisible scrollbar horizontal fade" style="position: absolute; width: 490px; height: 10px; left: 0px; bottom: 0px;"><div class="slider" style="position: absolute; top: 0px; left: 0px; height: 10px; transform: translate3d(0px, 0px, 0px); contain: strict; width: 274px;"></div></div><div role="presentation" aria-hidden="true" class="invisible scrollbar vertical" style="position: absolute; width: 10px; height: 41px; right: 0px; top: 0px;"><div class="slider" style="position: absolute; top: 0px; left: 0px; width: 10px; transform: translate3d(0px, 0px, 0px); contain: strict; height: 41px;"></div></div><div class="shadow"></div><div class="shadow"></div><div class="shadow"></div></div></div></div></div><div class=".in-cell-overflowing"><div widgetid="editor.contrib.quickInputWidget" style="position: absolute; top: 0px; right: 50%;"></div></div></div></div></div>
        <div class="text-top-div">
          <div class="markdown"><span><p>Question 1: What is K-Nearest Neighbors (KNN) and how does it work in both
classification and regression problems?</p>
<p>Ans. K-Nearest Neighbors (KNN):</p>
<p> KNN is a supervised learning algorithm used for classification and regression.
 It’s a lazy learner (no explicit training phase) and non-parametric (makes no assumptions about data distribution).</p>
<p>How it works (General Idea):</p>
<p>Choose a number K (the number of neighbors).</p>
<p>For a new data point:</p>
<p>Calculate the distance (commonly Euclidean) between the new point and all points in the training data.</p>
<p>Identify the K closest data points (neighbors).</p>
<p>Predict the output based on those neighbors.</p>
<p>In Classification:</p>
<p>Each neighbor "votes" for its class.</p>
<p>The class with the majority votes becomes the predicted class.</p>
<p>👉 Example:
If K=5 and neighbors’ classes are [A, A, B, A, B] → Majority is A, so prediction = A.</p>
<p>In Regression:</p>
<p>Instead of voting, take the average (or weighted average) of the neighbors’ values.</p>
<p>👉 Example:
If K=3 and neighbors’ target values are [10, 12, 14] → Prediction = (10+12+14)/3 = 12.</p>
<p>Key Points about KNN:</p>
<p>Distance Metrics: Euclidean, Manhattan, Minkowski, Cosine similarity.</p>
<p>Choice of K:</p>
<p>Small K → sensitive to noise (overfitting).</p>
<p>Large K → smoother decision boundary but may underfit.</p>
<p>Feature Scaling: Very important (since distances dominate) → use normalization/standardization</p>
<p>Question 2: What is the Curse of Dimensionality and how does it affect KNN
performance?</p>
<p>Ans.  -  Curse of Dimensionality</p>
<p>The curse of dimensionality refers to the problems that arise when data has too many features (dimensions).
As dimensions increase:</p>
<p>Data becomes sparse (spread out).</p>
<p>Distances between points become less meaningful.</p>
<p>Models relying on distance similarity (like KNN) start to perform poorly.</p>
<ul>
<li>How It Affects KNN Performance</li>
</ul>
<p>Distance Becomes Less Discriminative</p>
<p>In high dimensions, the difference between the nearest and farthest neighbor shrinks.</p>
<p>All points appear almost equally distant → KNN can’t distinguish neighbors well.</p>
<p>Increased Computation</p>
<p>KNN requires computing distances to all training points.</p>
<p>As dimensions grow, computation becomes expensive.</p>
<p>Overfitting Risk</p>
<p>With many irrelevant features, KNN may consider noisy dimensions in distance calculation.</p>
<p>This misleads the algorithm → poor generalization.</p>
<ul>
<li>Example:</li>
</ul>
<p>Imagine classifying points in:</p>
<p>2D (x,y): You can easily find "close neighbors."</p>
<p>100D: Almost every point is far away → "nearest" loses meaning.</p>
<ul>
<li>How to Reduce Curse of Dimensionality in KNN</li>
</ul>
<p>Feature Selection: Keep only important features.</p>
<p>Dimensionality Reduction: Use PCA, t-SNE, Autoencoders.</p>
<p>Scaling/Normalization: Ensures no feature dominates distance.</p>
<p>Use weighted distances: Closer neighbors get higher weight.</p>
<p>Question 3: What is Principal Component Analysis (PCA)? How is it different from
feature selection?</p>
<p>Ans.Principal Component Analysis (PCA)</p>
<p>PCA is a dimensionality reduction technique used in machine learning and statistics.
It transforms high-dimensional data into a new set of features (called principal components) that capture the maximum variance in the data.</p>
<ul>
<li>How PCA Works (Steps):</li>
</ul>
<p>Standardize the data (so all features are on the same scale).</p>
<p>Compute the covariance matrix to understand feature relationships.</p>
<p>Find eigenvalues &amp; eigenvectors of the covariance matrix.</p>
<p>Eigenvectors = directions of new features (principal components).</p>
<p>Eigenvalues = how much variance each component explains.</p>
<p>Select top k components that explain most of the variance.</p>
<p>Transform original data into this new reduced feature space.</p>
<ul>
<li><p>Example: If you have 100 features, PCA may reduce them to 10 principal components while still keeping ~90% of the variance.</p>
</li>
<li><p>Principal Component Analysis (PCA) and feature selection are both dimensionality reduction techniques, but they work differently. PCA is a feature extraction method that transforms the original features into new ones called principal components, which are linear combinations of the existing features and capture the maximum variance in the data. In contrast, feature selection does not create new features but instead identifies and retains only the most relevant original features, removing the less useful or redundant ones. While PCA often improves performance by eliminating correlations and reducing noise, it reduces interpretability since the new components are not the same as the original features. Feature selection, on the other hand, maintains interpretability because it directly works with the original feature set.</p>
</li>
</ul>
<p>Question 4: What are eigenvalues and eigenvectors in PCA, and why are they
important?</p>
<p>Ans. Eigenvalues and Eigenvectors in PCA</p>
<p>Eigenvectors:
These represent the directions of the new feature space (principal components).
Each eigenvector points in the direction where data varies the most.</p>
<p>Eigenvalues:
These represent the amount of variance captured by their corresponding eigenvectors.
Larger eigenvalue → more information (variance) that component holds.</p>
<ul>
<li>Why They Are Important in PCA</li>
</ul>
<p>Determine Principal Components</p>
<p>PCA computes eigenvectors of the covariance matrix of the data.</p>
<p>Each eigenvector is a principal component direction.</p>
<p>Rank Components by Importance</p>
<p>Eigenvalues tell us how much variance each component explains.</p>
<ul>
<li>Example: If PC1’s eigenvalue = 5 and PC2’s eigenvalue = 2, then PC1 captures more variance.</li>
</ul>
<p>Dimensionality Reduction</p>
<p>We keep only the top k eigenvectors (with the largest eigenvalues).</p>
<p>This way, we reduce dimensions while keeping most of the variance.</p>
<p>Question 5: How do KNN and PCA complement each other when applied in a single
pipeline?</p>
<p>Ans. How KNN and PCA Complement Each Other</p>
<p>1.KNN struggles in high dimensions</p>
<p>KNN relies on distance calculations.</p>
<p>In high-dimensional spaces (curse of dimensionality), distances lose meaning → performance drops.</p>
<p>2.PCA reduces dimensions before KNN</p>
<p>PCA transforms the data into a smaller set of uncorrelated features (principal components).</p>
<p>This removes noise and redundancy, making distance calculations more reliable.</p>
<p>3.Improved Efficiency</p>
<p>With fewer dimensions, KNN computes distances much faster.</p>
<p>This is important since KNN has high prediction-time cost.</p>
<p>4.Better Generalization</p>
<p>By keeping only the top principal components, PCA reduces overfitting.</p>
<p>KNN then focuses on the most informative features, improving accuracy.</p>
<ul>
<li>In short:</li>
</ul>
<p>When combined, PCA reduces data complexity and noise, and KNN uses the cleaner, lower-dimensional space to make more accurate distance-based predictions.</p>
</span></div>
        </div>
      </div>

      <div class="section-header" style="display: none;">
        <colab-run-button><template shadowrootmode="open"><!----> <div class="cell-execution">
      <button id="run-button" aria-label="Run cell" aria-disabled="false">
        <!--?lit$764029187$--><span class="execution-count"><!--?lit$764029187$-->[ ]</span>
        <span aria-hidden="true" class="cell-execution-indicator"><!--?lit$764029187$-->
<svg xmlns="http://www.w3.org/2000/svg" viewBox="0 0 24 24">
  <!--?lit$764029187$-->
  <mask id="playSymbolMask">
    <rect width="100%" height="100%" fill="white"></rect>
    <polygon points="10,8 17,12 10,16" fill="black"></polygon>
  </mask>
  <circle cx="12" cy="12" r="7.8" mask="url(#playSymbolMask)" id="filledCircle"></circle>
</svg></span>
      </button>
      <!--?lit$764029187$-->
      <!--?lit$764029187$--><!--?-->
    </div></template></colab-run-button>
        <div class="section-header-container" title="click to expand">
          <md-icon aria-hidden="true"><template shadowrootmode="open"><!----><slot></slot></template>subdirectory_arrow_right</md-icon>
          <span>0 cells hidden</span>
        </div>
      </div></div></div><div class="add-cell">
      <div class="add-cell-buttons">
        <md-outlined-button class="add-code add-button" data-aria-label="Add code cell
Ctrl+M B" title="Add code cell
Ctrl+M B" value="" has-icon=""><template shadowrootmode="open" shadowrootdelegatesfocus><!---->
      <!--?lit$764029187$--><div class="outline"></div>
      <div class="background"></div>
      <md-focus-ring part="focus-ring" for="button" aria-hidden="true"><template shadowrootmode="open"><!----></template></md-focus-ring>
      <md-ripple part="ripple" for="button" aria-hidden="true"><template shadowrootmode="open"><!----><div class="surface"></div></template></md-ripple>
      <!--?lit$764029187$--><button id="button" class="button" aria-label="Add code cell
Ctrl+M B">
      <!--?lit$764029187$-->
      <span class="touch"></span>
      <!--?lit$764029187$--><slot name="icon"></slot>
      <span class="label"><slot></slot></span>
      <!--?lit$764029187$-->
    
    </button>
    </template>
          <md-icon slot="icon" aria-hidden="true"><template shadowrootmode="open"><!----><slot></slot></template>add</md-icon>
          <!--?lit$764029187$-->Code
        </md-outlined-button>
        <md-outlined-button class="add-text add-button" data-aria-label="Add text cell" title="Add text cell" value="" has-icon=""><template shadowrootmode="open" shadowrootdelegatesfocus><!---->
      <!--?lit$764029187$--><div class="outline"></div>
      <div class="background"></div>
      <md-focus-ring part="focus-ring" for="button" aria-hidden="true"><template shadowrootmode="open"><!----></template></md-focus-ring>
      <md-ripple part="ripple" for="button" aria-hidden="true"><template shadowrootmode="open"><!----><div class="surface"></div></template></md-ripple>
      <!--?lit$764029187$--><button id="button" class="button" aria-label="Add text cell">
      <!--?lit$764029187$-->
      <span class="touch"></span>
      <!--?lit$764029187$--><slot name="icon"></slot>
      <span class="label"><slot></slot></span>
      <!--?lit$764029187$-->
    
    </button>
    </template>
          <md-icon slot="icon" aria-hidden="true"><template shadowrootmode="open"><!----><slot></slot></template>add</md-icon>
          <!--?lit$764029187$-->Text
        </md-outlined-button>
        <!--?lit$764029187$-->
        <!--?lit$764029187$-->
      </div><hr>
    </div></div><div class="cell text" id="cell-srdwq-UocHlS" tabindex="-1" role="region" aria-label="Cell 3: Text cell: " style="opacity: 1;"><div class="cell-tag-editor sticky"></div><div class="agent-focus-label">
      <md-icon aria-hidden="true"><template shadowrootmode="open"><!----><slot></slot></template>spark</md-icon>
      <!--?lit$764029187$-->Gemini
    </div><div class="cell-toolbar sticky"></div><div class="main-content" elevation="0"><div class="cell-contents"><div class="cell-mask"></div><span class="imported-info-area"></span><!----> <div class="toolbar-root"><div class="markdown-toolbar"><!----><!--?lit$764029187$--><!----><md-icon-button id="markdown-toolbar-header-srdwq-UocHlS" class="markdown-toolbar-header" aria-describedby="markdown-toolbar-header-srdwq-UocHlS-tooltip" data-aria-label="Toggle heading" value=""><template shadowrootmode="open" shadowrootdelegatesfocus><!----><button id="button" class="icon-button  standard " aria-label="Toggle heading">
        <!--?lit$764029187$--><md-focus-ring part="focus-ring" for="button" aria-hidden="true"><template shadowrootmode="open"><!----></template></md-focus-ring>
        <!--?lit$764029187$--><md-ripple aria-hidden="true"><template shadowrootmode="open"><!----><div class="surface   "></div></template></md-ripple>
        <!--?lit$764029187$--><span class="icon"><slot></slot></span>
        <!--?lit$764029187$-->
        <!--?lit$764029187$--><span class="touch"></span>
  </button></template>
        <!--?lit$764029187$--><md-icon aria-hidden="true"><template shadowrootmode="open"><!----><slot></slot></template><!--?lit$764029187$-->format_size</md-icon>
      </md-icon-button>
      <colab-tooltip-trigger aria-hidden="true" for="markdown-toolbar-header-srdwq-UocHlS" id="markdown-toolbar-header-srdwq-UocHlS-tooltip" message="Toggle heading"><template shadowrootmode="open"><!----><!--?lit$764029187$--><!----><div><!--?lit$764029187$-->Toggle heading</div><!----><!--?--></template></colab-tooltip-trigger><!----><!----><md-icon-button id="markdown-toolbar-bold-srdwq-UocHlS" class="markdown-toolbar-bold" aria-describedby="markdown-toolbar-bold-srdwq-UocHlS-tooltip" data-aria-label="Bold" value=""><template shadowrootmode="open" shadowrootdelegatesfocus><!----><button id="button" class="icon-button  standard " aria-label="Bold">
        <!--?lit$764029187$--><md-focus-ring part="focus-ring" for="button" aria-hidden="true"><template shadowrootmode="open"><!----></template></md-focus-ring>
        <!--?lit$764029187$--><md-ripple aria-hidden="true"><template shadowrootmode="open"><!----><div class="surface   "></div></template></md-ripple>
        <!--?lit$764029187$--><span class="icon"><slot></slot></span>
        <!--?lit$764029187$-->
        <!--?lit$764029187$--><span class="touch"></span>
  </button></template>
        <!--?lit$764029187$--><md-icon aria-hidden="true"><template shadowrootmode="open"><!----><slot></slot></template><!--?lit$764029187$-->format_bold</md-icon>
      </md-icon-button>
      <colab-tooltip-trigger aria-hidden="true" for="markdown-toolbar-bold-srdwq-UocHlS" id="markdown-toolbar-bold-srdwq-UocHlS-tooltip" message="Bold"><template shadowrootmode="open"><!----><!--?lit$764029187$--><!----><div><!--?lit$764029187$-->Bold</div><!----><!--?--></template></colab-tooltip-trigger><!----><!----><md-icon-button id="markdown-toolbar-italic-srdwq-UocHlS" class="markdown-toolbar-italic" aria-describedby="markdown-toolbar-italic-srdwq-UocHlS-tooltip" data-aria-label="Italicize" value=""><template shadowrootmode="open" shadowrootdelegatesfocus><!----><button id="button" class="icon-button  standard " aria-label="Italicize">
        <!--?lit$764029187$--><md-focus-ring part="focus-ring" for="button" aria-hidden="true"><template shadowrootmode="open"><!----></template></md-focus-ring>
        <!--?lit$764029187$--><md-ripple aria-hidden="true"><template shadowrootmode="open"><!----><div class="surface   "></div></template></md-ripple>
        <!--?lit$764029187$--><span class="icon"><slot></slot></span>
        <!--?lit$764029187$-->
        <!--?lit$764029187$--><span class="touch"></span>
  </button></template>
        <!--?lit$764029187$--><md-icon aria-hidden="true"><template shadowrootmode="open"><!----><slot></slot></template><!--?lit$764029187$-->format_italic</md-icon>
      </md-icon-button>
      <colab-tooltip-trigger aria-hidden="true" for="markdown-toolbar-italic-srdwq-UocHlS" id="markdown-toolbar-italic-srdwq-UocHlS-tooltip" message="Italicize"><template shadowrootmode="open"><!----><!--?lit$764029187$--><!----><div><!--?lit$764029187$-->Italicize</div><!----><!--?--></template></colab-tooltip-trigger><!----><!----><md-icon-button id="markdown-toolbar-code-srdwq-UocHlS" class="markdown-toolbar-code" aria-describedby="markdown-toolbar-code-srdwq-UocHlS-tooltip" data-aria-label="Format as code" value=""><template shadowrootmode="open" shadowrootdelegatesfocus><!----><button id="button" class="icon-button  standard " aria-label="Format as code">
        <!--?lit$764029187$--><md-focus-ring part="focus-ring" for="button" aria-hidden="true"><template shadowrootmode="open"><!----></template></md-focus-ring>
        <!--?lit$764029187$--><md-ripple aria-hidden="true"><template shadowrootmode="open"><!----><div class="surface   "></div></template></md-ripple>
        <!--?lit$764029187$--><span class="icon"><slot></slot></span>
        <!--?lit$764029187$-->
        <!--?lit$764029187$--><span class="touch"></span>
  </button></template>
        <!--?lit$764029187$--><md-icon aria-hidden="true"><template shadowrootmode="open"><!----><slot></slot></template><!--?lit$764029187$-->code</md-icon>
      </md-icon-button>
      <colab-tooltip-trigger aria-hidden="true" for="markdown-toolbar-code-srdwq-UocHlS" id="markdown-toolbar-code-srdwq-UocHlS-tooltip" message="Format as code"><template shadowrootmode="open"><!----><!--?lit$764029187$--><!----><div><!--?lit$764029187$-->Format as code</div><!----><!--?--></template></colab-tooltip-trigger><!----><!----><md-icon-button id="markdown-toolbar-link-srdwq-UocHlS" class="markdown-toolbar-link" aria-describedby="markdown-toolbar-link-srdwq-UocHlS-tooltip" data-aria-label="Insert link" value=""><template shadowrootmode="open" shadowrootdelegatesfocus><!----><button id="button" class="icon-button  standard " aria-label="Insert link">
        <!--?lit$764029187$--><md-focus-ring part="focus-ring" for="button" aria-hidden="true"><template shadowrootmode="open"><!----></template></md-focus-ring>
        <!--?lit$764029187$--><md-ripple aria-hidden="true"><template shadowrootmode="open"><!----><div class="surface   "></div></template></md-ripple>
        <!--?lit$764029187$--><span class="icon"><slot></slot></span>
        <!--?lit$764029187$-->
        <!--?lit$764029187$--><span class="touch"></span>
  </button></template>
        <!--?lit$764029187$--><md-icon aria-hidden="true"><template shadowrootmode="open"><!----><slot></slot></template><!--?lit$764029187$-->link</md-icon>
      </md-icon-button>
      <colab-tooltip-trigger aria-hidden="true" for="markdown-toolbar-link-srdwq-UocHlS" id="markdown-toolbar-link-srdwq-UocHlS-tooltip" message="Insert link"><template shadowrootmode="open"><!----><!--?lit$764029187$--><!----><div><!--?lit$764029187$-->Insert link</div><!----><!--?--></template></colab-tooltip-trigger><!----><!----><label for="markdown-image-input-srdwq-UocHlS" class="colab-icon markdown-toolbar-insert-image">
        <md-ripple aria-hidden="true"><template shadowrootmode="open"><!----><div class="surface   "></div></template></md-ripple>
        <span role="button" tabindex="0" id="markdown-toolbar-insert-image-srdwq-UocHlS" aria-describedby="markdown-toolbar-insert-image-srdwq-UocHlS-tooltip" aria-label="Insert image">
          <md-focus-ring aria-hidden="true"><template shadowrootmode="open"><!----></template></md-focus-ring>
          <md-icon aria-hidden="true"><template shadowrootmode="open"><!----><slot></slot></template>image</md-icon>
        </span>
        <colab-tooltip-trigger aria-hidden="true" for="markdown-toolbar-insert-image-srdwq-UocHlS" id="markdown-toolbar-insert-image-srdwq-UocHlS-tooltip" message="Insert image"><template shadowrootmode="open"><!----><!--?lit$764029187$--><!----><div><!--?lit$764029187$-->Insert image</div><!----><!--?--></template></colab-tooltip-trigger>
      </label>
      <input class="markdown-image-input" type="file" multiple="" accept="image/*" id="markdown-image-input-srdwq-UocHlS"><!----><!----><md-icon-button id="markdown-toolbar-blockquote-srdwq-UocHlS" class="markdown-toolbar-blockquote" aria-describedby="markdown-toolbar-blockquote-srdwq-UocHlS-tooltip" data-aria-label="Add blockquote" value=""><template shadowrootmode="open" shadowrootdelegatesfocus><!----><button id="button" class="icon-button  standard " aria-label="Add blockquote">
        <!--?lit$764029187$--><md-focus-ring part="focus-ring" for="button" aria-hidden="true"><template shadowrootmode="open"><!----></template></md-focus-ring>
        <!--?lit$764029187$--><md-ripple aria-hidden="true"><template shadowrootmode="open"><!----><div class="surface   "></div></template></md-ripple>
        <!--?lit$764029187$--><span class="icon"><slot></slot></span>
        <!--?lit$764029187$-->
        <!--?lit$764029187$--><span class="touch"></span>
  </button></template>
        <!--?lit$764029187$--><md-icon aria-hidden="true"><template shadowrootmode="open"><!----><slot></slot></template><!--?lit$764029187$-->format_quote</md-icon>
      </md-icon-button>
      <colab-tooltip-trigger aria-hidden="true" for="markdown-toolbar-blockquote-srdwq-UocHlS" id="markdown-toolbar-blockquote-srdwq-UocHlS-tooltip" message="Add blockquote"><template shadowrootmode="open"><!----><!--?lit$764029187$--><!----><div><!--?lit$764029187$-->Add blockquote</div><!----><!--?--></template></colab-tooltip-trigger><!----><!----><md-icon-button id="markdown-toolbar-ol-srdwq-UocHlS" class="markdown-toolbar-ol" aria-describedby="markdown-toolbar-ol-srdwq-UocHlS-tooltip" data-aria-label="Add numbered list" value=""><template shadowrootmode="open" shadowrootdelegatesfocus><!----><button id="button" class="icon-button  standard " aria-label="Add numbered list">
        <!--?lit$764029187$--><md-focus-ring part="focus-ring" for="button" aria-hidden="true"><template shadowrootmode="open"><!----></template></md-focus-ring>
        <!--?lit$764029187$--><md-ripple aria-hidden="true"><template shadowrootmode="open"><!----><div class="surface   "></div></template></md-ripple>
        <!--?lit$764029187$--><span class="icon"><slot></slot></span>
        <!--?lit$764029187$-->
        <!--?lit$764029187$--><span class="touch"></span>
  </button></template>
        <!--?lit$764029187$--><md-icon aria-hidden="true"><template shadowrootmode="open"><!----><slot></slot></template><!--?lit$764029187$-->format_list_numbered</md-icon>
      </md-icon-button>
      <colab-tooltip-trigger aria-hidden="true" for="markdown-toolbar-ol-srdwq-UocHlS" id="markdown-toolbar-ol-srdwq-UocHlS-tooltip" message="Add numbered list"><template shadowrootmode="open"><!----><!--?lit$764029187$--><!----><div><!--?lit$764029187$-->Add numbered list</div><!----><!--?--></template></colab-tooltip-trigger><!----><!----><md-icon-button id="markdown-toolbar-ul-srdwq-UocHlS" class="markdown-toolbar-ul" aria-describedby="markdown-toolbar-ul-srdwq-UocHlS-tooltip" data-aria-label="Add bulleted list" value=""><template shadowrootmode="open" shadowrootdelegatesfocus><!----><button id="button" class="icon-button  standard " aria-label="Add bulleted list">
        <!--?lit$764029187$--><md-focus-ring part="focus-ring" for="button" aria-hidden="true"><template shadowrootmode="open"><!----></template></md-focus-ring>
        <!--?lit$764029187$--><md-ripple aria-hidden="true"><template shadowrootmode="open"><!----><div class="surface   "></div></template></md-ripple>
        <!--?lit$764029187$--><span class="icon"><slot></slot></span>
        <!--?lit$764029187$-->
        <!--?lit$764029187$--><span class="touch"></span>
  </button></template>
        <!--?lit$764029187$--><md-icon aria-hidden="true"><template shadowrootmode="open"><!----><slot></slot></template><!--?lit$764029187$-->format_list_bulleted</md-icon>
      </md-icon-button>
      <colab-tooltip-trigger aria-hidden="true" for="markdown-toolbar-ul-srdwq-UocHlS" id="markdown-toolbar-ul-srdwq-UocHlS-tooltip" message="Add bulleted list"><template shadowrootmode="open"><!----><!--?lit$764029187$--><!----><div><!--?lit$764029187$-->Add bulleted list</div><!----><!--?--></template></colab-tooltip-trigger><!----><!----><md-icon-button id="markdown-toolbar-hr-srdwq-UocHlS" class="markdown-toolbar-hr" aria-describedby="markdown-toolbar-hr-srdwq-UocHlS-tooltip" data-aria-label="Add horizontal rule" value=""><template shadowrootmode="open" shadowrootdelegatesfocus><!----><button id="button" class="icon-button  standard " aria-label="Add horizontal rule">
        <!--?lit$764029187$--><md-focus-ring part="focus-ring" for="button" aria-hidden="true"><template shadowrootmode="open"><!----></template></md-focus-ring>
        <!--?lit$764029187$--><md-ripple aria-hidden="true"><template shadowrootmode="open"><!----><div class="surface   "></div></template></md-ripple>
        <!--?lit$764029187$--><span class="icon"><slot></slot></span>
        <!--?lit$764029187$-->
        <!--?lit$764029187$--><span class="touch"></span>
  </button></template>
        <!--?lit$764029187$--><md-icon aria-hidden="true"><template shadowrootmode="open"><!----><slot></slot></template><!--?lit$764029187$-->horizontal_rule</md-icon>
      </md-icon-button>
      <colab-tooltip-trigger aria-hidden="true" for="markdown-toolbar-hr-srdwq-UocHlS" id="markdown-toolbar-hr-srdwq-UocHlS-tooltip" message="Add horizontal rule"><template shadowrootmode="open"><!----><!--?lit$764029187$--><!----><div><!--?lit$764029187$-->Add horizontal rule</div><!----><!--?--></template></colab-tooltip-trigger><!----><!----><md-icon-button id="markdown-toolbar-latex-srdwq-UocHlS" class="markdown-toolbar-latex" aria-describedby="markdown-toolbar-latex-srdwq-UocHlS-tooltip" data-aria-label="LaTeX" value=""><template shadowrootmode="open" shadowrootdelegatesfocus><!----><button id="button" class="icon-button  standard " aria-label="LaTeX">
        <!--?lit$764029187$--><md-focus-ring part="focus-ring" for="button" aria-hidden="true"><template shadowrootmode="open"><!----></template></md-focus-ring>
        <!--?lit$764029187$--><md-ripple aria-hidden="true"><template shadowrootmode="open"><!----><div class="surface   "></div></template></md-ripple>
        <!--?lit$764029187$--><span class="icon"><slot></slot></span>
        <!--?lit$764029187$-->
        <!--?lit$764029187$--><span class="touch"></span>
  </button></template>
        <!--?lit$764029187$--><span aria-hidden="true">ψ</span>
      </md-icon-button>
      <colab-tooltip-trigger aria-hidden="true" for="markdown-toolbar-latex-srdwq-UocHlS" id="markdown-toolbar-latex-srdwq-UocHlS-tooltip" message="LaTeX"><template shadowrootmode="open"><!----><!--?lit$764029187$--><!----><div><!--?lit$764029187$-->LaTeX</div><!----><!--?--></template></colab-tooltip-trigger><!----><!----><md-icon-button id="markdown-toolbar-emoji-srdwq-UocHlS" class="markdown-toolbar-emoji" aria-describedby="markdown-toolbar-emoji-srdwq-UocHlS-tooltip" data-aria-label="Insert emoji" value=""><template shadowrootmode="open" shadowrootdelegatesfocus><!----><button id="button" class="icon-button  standard " aria-label="Insert emoji">
        <!--?lit$764029187$--><md-focus-ring part="focus-ring" for="button" aria-hidden="true"><template shadowrootmode="open"><!----></template></md-focus-ring>
        <!--?lit$764029187$--><md-ripple aria-hidden="true"><template shadowrootmode="open"><!----><div class="surface"></div></template></md-ripple>
        <!--?lit$764029187$--><span class="icon"><slot></slot></span>
        <!--?lit$764029187$-->
        <!--?lit$764029187$--><span class="touch"></span>
  </button></template>
        <!--?lit$764029187$--><md-icon aria-hidden="true"><template shadowrootmode="open"><!----><slot></slot></template><!--?lit$764029187$-->mood</md-icon>
      </md-icon-button>
      <colab-tooltip-trigger aria-hidden="true" for="markdown-toolbar-emoji-srdwq-UocHlS" id="markdown-toolbar-emoji-srdwq-UocHlS-tooltip" message="Insert emoji"><template shadowrootmode="open"><!----><!--?lit$764029187$--><!----><div><!--?lit$764029187$-->Insert emoji</div><!----><!--?--></template></colab-tooltip-trigger><!----><!----><md-icon-button id="markdown-toolbar-preview-srdwq-UocHlS" class="markdown-toolbar-preview" aria-describedby="markdown-toolbar-preview-srdwq-UocHlS-tooltip" data-aria-label="Reposition markdown preview" value=""><template shadowrootmode="open" shadowrootdelegatesfocus><!----><button id="button" class="icon-button  standard " aria-label="Reposition markdown preview">
        <!--?lit$764029187$--><md-focus-ring part="focus-ring" for="button" aria-hidden="true"><template shadowrootmode="open"><!----></template></md-focus-ring>
        <!--?lit$764029187$--><md-ripple aria-hidden="true"><template shadowrootmode="open"><!----><div class="surface"></div></template></md-ripple>
        <!--?lit$764029187$--><span class="icon"><slot></slot></span>
        <!--?lit$764029187$-->
        <!--?lit$764029187$--><span class="touch"></span>
  </button></template>
        <!--?lit$764029187$--><md-icon aria-hidden="true"><template shadowrootmode="open"><!----><slot></slot></template><!--?lit$764029187$--><svg viewBox="0 0 24 24"><!--?lit$764029187$--><g id="markdown-preview-below">
  <rect width="20" height="18" x="2" y="2" rx="2" ry="2" style="fill:none;stroke:var(--colab-icon-color)"></rect>
  <line x1="4.5" y1="13" x2="19.5" y2="13" style="stroke:var(--colab-primary-text-color);stroke-dasharray:2"></line>
  <line x1="2.5" y1="4" x2="21.5" y2="4" style="stroke:var(--colab-icon-color);stroke-width:3px;"></line>
</g></svg></md-icon>
      </md-icon-button>
      <colab-tooltip-trigger aria-hidden="true" for="markdown-toolbar-preview-srdwq-UocHlS" id="markdown-toolbar-preview-srdwq-UocHlS-tooltip" message="Reposition markdown preview"><template shadowrootmode="open"><!----><!--?lit$764029187$--><!----><div><!--?lit$764029187$-->Reposition markdown preview</div><!----><!--?--></template></colab-tooltip-trigger><!----><!--?--></div></div>
      <div class="editor-container horizontal">
        <div class="editor-root"><div class="editor flex monaco" data-keybinding-context="6" data-mode-id="markdown" style="height: 67px; --vscode-editorCodeLens-lineHeight: 16px; --vscode-editorCodeLens-fontSize: 12px; --vscode-editorCodeLens-fontFeatureSettings: &quot;liga&quot; off, &quot;calt&quot; off; display: none;"><div class="monaco-editor no-user-select  showUnused showDeprecated vs" role="code" data-uri="inmemory://model/7" style="width: 641px; height: 67px;"><div data-mprt="3" class="overflow-guard" style="width: 641px; height: 67px; overflow: clip;"><div class="margin" role="presentation" aria-hidden="true" style="position: absolute; contain: strict; will-change: unset; top: 0px; height: 67px; width: 6px;"><div class="glyph-margin" style="left: 0px; width: 0px; height: 67px;"></div><div class="margin-view-zones" role="presentation" aria-hidden="true" style="position: absolute;"></div><div class="margin-view-overlays" role="presentation" aria-hidden="true" style="position: absolute; font-family: monospace, Consolas, &quot;Courier New&quot;, monospace; font-weight: normal; font-size: 14px; font-feature-settings: &quot;liga&quot; 0, &quot;calt&quot; 0; font-variation-settings: normal; line-height: 19px; letter-spacing: 0px; width: 6px; height: 67px;"><div style="position:absolute;top:0px;width:100%;height:19px;"><div class="current-line current-line-margin-both" style="width:6px; height:19px;"></div></div><div style="position:absolute;top:19px;width:100%;height:19px;"></div><div style="position:absolute;top:38px;width:100%;height:19px;"></div></div><div class="glyph-margin-widgets" style="position: absolute; top: 0px;"></div></div><div class="monaco-scrollable-element editor-scrollable vs" role="presentation" data-mprt="5" style="position: absolute; overflow: hidden; left: 6px; width: 635px; height: 67px;"><div class="lines-content monaco-editor-background" style="position: absolute; overflow: hidden; width: 1e+06px; height: 67px; contain: strict; will-change: unset; top: 0px; left: 0px;"><div class="view-overlays" role="presentation" aria-hidden="true" style="position: absolute; font-family: monospace, Consolas, &quot;Courier New&quot;, monospace; font-weight: normal; font-size: 14px; font-feature-settings: &quot;liga&quot; 0, &quot;calt&quot; 0; font-variation-settings: normal; line-height: 19px; letter-spacing: 0px; height: 0px; width: 635px;"><div style="position:absolute;top:0px;width:100%;height:19px;"><div class="current-line" style="width:635px; height:19px;"></div></div><div style="position:absolute;top:19px;width:100%;height:19px;"></div><div style="position:absolute;top:38px;width:100%;height:19px;"></div></div><div role="presentation" aria-hidden="true" class="view-rulers"><div class="view-ruler" style="width: 2px; height: 67px; left: 615.938px;"></div></div><div class="view-zones" role="presentation" aria-hidden="true" style="position: absolute;"></div><div class="view-lines monaco-mouse-cursor-text" role="presentation" aria-hidden="true" data-mprt="7" style="position: absolute; font-family: monospace, Consolas, &quot;Courier New&quot;, monospace; font-weight: normal; font-size: 14px; font-feature-settings: &quot;liga&quot; 0, &quot;calt&quot; 0; font-variation-settings: normal; line-height: 19px; letter-spacing: 0px; width: 635px; height: 67px;"><div style="top:0px;height:19px;" class="view-line"><span><span class="mtk1">Question&nbsp;6:Train&nbsp;a&nbsp;KNN&nbsp;Classifier&nbsp;on&nbsp;the&nbsp;Wine&nbsp;data</span><span class="mtk1">set&nbsp;with&nbsp;and&nbsp;without&nbsp;feature</span></span></div><div style="top:19px;height:19px;" class="view-line"><span><span class="mtk1">scaling.&nbsp;Compare&nbsp;model&nbsp;accuracy&nbsp;in&nbsp;both&nbsp;cases.</span></span></div><div style="top:38px;height:19px;" class="view-line"><span><span></span></span></div></div><div data-mprt="1" class="contentWidgets" style="position: absolute; top: 0px;"><div class="lightBulbWidget codicon codicon-light-bulb" widgetid="LightBulbWidget" title="Show Code Actions (Ctrl+.)" style="position: absolute; display: none; visibility: hidden; max-width: 635px;"></div></div><div role="presentation" aria-hidden="true" class="cursors-layer cursor-line-style cursor-solid"><div class="cursor monaco-mouse-cursor-text " style="height: 19px; top: 0px; left: 84px; font-family: monospace, Consolas, &quot;Courier New&quot;, monospace; font-weight: normal; font-size: 14px; font-feature-settings: &quot;liga&quot; 0, &quot;calt&quot; 0; font-variation-settings: normal; line-height: 19px; letter-spacing: 0px; display: block; visibility: hidden; padding-left: 1px; width: 2px;"></div></div></div><div role="presentation" aria-hidden="true" class="invisible scrollbar horizontal" style="position: absolute; width: 621px; height: 10px; left: 0px; bottom: 0px;"><div class="slider" style="position: absolute; top: 0px; left: 0px; height: 10px; transform: translate3d(0px, 0px, 0px); contain: strict; will-change: unset; width: 621px;"></div></div><canvas class="decorationsOverviewRuler" aria-hidden="true" width="14" height="67" style="position: absolute; transform: translate3d(0px, 0px, 0px); contain: strict; top: 0px; right: 0px; width: 14px; height: 67px; will-change: unset; display: block;"></canvas><div role="presentation" aria-hidden="true" class="invisible scrollbar vertical" style="position: absolute; width: 14px; height: 67px; right: 0px; top: 0px;"><div class="slider" style="position: absolute; top: 0px; left: 0px; width: 14px; transform: translate3d(0px, 0px, 0px); contain: strict; will-change: unset; height: 67px;"></div></div></div><div role="presentation" aria-hidden="true" style="width: 641px;"></div><textarea data-mprt="6" class="inputarea monaco-mouse-cursor-text" wrap="on" autocorrect="off" autocapitalize="off" autocomplete="off" spellcheck="false" aria-label="Editor content;Press Alt+F1 for Accessibility Options." tabindex="0" role="textbox" aria-roledescription="editor" aria-multiline="true" aria-haspopup="false" aria-autocomplete="both" style="tab-size: 15.3984px; font-family: monospace, Consolas, &quot;Courier New&quot;, monospace; font-weight: normal; font-size: 14px; font-feature-settings: &quot;liga&quot; 0, &quot;calt&quot; 0; font-variation-settings: normal; line-height: 19px; letter-spacing: 0px; top: 0px; left: 6px; width: 616px; height: 1px;"></textarea><div style="position: absolute; top: 0px; left: 0px; width: 0px; height: 0px;" class="monaco-editor-background textAreaCover"></div><div data-mprt="4" class="overlayWidgets" style="width: 641px;"></div><div data-mprt="8" class="minimap slider-mouseover" role="presentation" aria-hidden="true" style="position: absolute; left: 0px; width: 0px; height: 67px;"><div class="minimap-shadow-hidden" style="height: 67px;"></div><canvas width="0" height="67" style="position: absolute; left: 0px; width: 0px; height: 67px;"></canvas><canvas class="minimap-decorations-layer" width="0" height="67" style="position: absolute; left: 0px; width: 0px; height: 67px;"></canvas><div class="minimap-slider" style="position: absolute; transform: translate3d(0px, 0px, 0px); contain: strict; width: 0px; will-change: unset;"><div class="minimap-slider-horizontal" style="position: absolute; width: 0px; height: 0px;"></div></div></div><div role="presentation" aria-hidden="true" class="blockDecorations-container"></div></div><div data-mprt="2" class="overflowingContentWidgets" style="display: none;"><div widgetid="editor.contrib.resizableContentHoverWidget" style="position: fixed; height: 10px; width: 10px; z-index: 50; display: none; visibility: hidden; max-width: 1360px;"><div class="monaco-sash vertical" style="left: 8px;"></div><div class="monaco-sash vertical" style="left: -2px;"></div><div class="monaco-sash orthogonal-edge-north horizontal" style="top: -2px;"><div class="orthogonal-drag-handle start"></div><div class="orthogonal-drag-handle end"></div></div><div class="monaco-sash orthogonal-edge-south horizontal" style="top: 8px;"><div class="orthogonal-drag-handle start"></div><div class="orthogonal-drag-handle end"></div></div><div class="monaco-hover hidden" tabindex="0" role="tooltip"><div class="monaco-scrollable-element " role="presentation" style="position: relative; overflow: hidden;"><div class="monaco-hover-content" style="overflow: hidden; font-size: 14px; line-height: 1.35714; max-width: 500px; max-height: 250px;"></div><div role="presentation" aria-hidden="true" class="invisible scrollbar horizontal" style="position: absolute;"><div class="slider" style="position: absolute; top: 0px; left: 0px; height: 10px; transform: translate3d(0px, 0px, 0px); contain: strict;"></div></div><div role="presentation" aria-hidden="true" class="invisible scrollbar vertical" style="position: absolute;"><div class="slider" style="position: absolute; top: 0px; left: 0px; width: 10px; transform: translate3d(0px, 0px, 0px); contain: strict;"></div></div><div class="shadow"></div><div class="shadow"></div><div class="shadow"></div></div></div></div></div><div class=".in-cell-overflowing"><div widgetid="editor.contrib.quickInputWidget" style="position: absolute; top: 0px; right: 50%;"></div></div></div></div></div>
        <div class="text-top-div">
          <div class="markdown"><span><p>Question 6:Train a KNN Classifier on the Wine dataset with and without feature
scaling. Compare model accuracy in both cases.</p>
</span></div>
        </div>
      </div>

      <div class="section-header" style="display: none;">
        <colab-run-button><template shadowrootmode="open"><!----> <div class="cell-execution">
      <button id="run-button" aria-label="Run cell" aria-disabled="false">
        <!--?lit$764029187$--><span class="execution-count"><!--?lit$764029187$-->[ ]</span>
        <span aria-hidden="true" class="cell-execution-indicator"><!--?lit$764029187$-->
<svg xmlns="http://www.w3.org/2000/svg" viewBox="0 0 24 24">
  <!--?lit$764029187$-->
  <mask id="playSymbolMask">
    <rect width="100%" height="100%" fill="white"></rect>
    <polygon points="10,8 17,12 10,16" fill="black"></polygon>
  </mask>
  <circle cx="12" cy="12" r="7.8" mask="url(#playSymbolMask)" id="filledCircle"></circle>
</svg></span>
      </button>
      <!--?lit$764029187$-->
      <!--?lit$764029187$--><!--?-->
    </div></template></colab-run-button>
        <div class="section-header-container" title="click to expand">
          <md-icon aria-hidden="true"><template shadowrootmode="open"><!----><slot></slot></template>subdirectory_arrow_right</md-icon>
          <span>0 cells hidden</span>
        </div>
      </div></div></div><div class="add-cell">
      <div class="add-cell-buttons">
        <md-outlined-button class="add-code add-button" data-aria-label="Add code cell
Ctrl+M B" title="Add code cell
Ctrl+M B" value="" has-icon=""><template shadowrootmode="open" shadowrootdelegatesfocus><!---->
      <!--?lit$764029187$--><div class="outline"></div>
      <div class="background"></div>
      <md-focus-ring part="focus-ring" for="button" aria-hidden="true"><template shadowrootmode="open"><!----></template></md-focus-ring>
      <md-ripple part="ripple" for="button" aria-hidden="true"><template shadowrootmode="open"><!----><div class="surface"></div></template></md-ripple>
      <!--?lit$764029187$--><button id="button" class="button" aria-label="Add code cell
Ctrl+M B">
      <!--?lit$764029187$-->
      <span class="touch"></span>
      <!--?lit$764029187$--><slot name="icon"></slot>
      <span class="label"><slot></slot></span>
      <!--?lit$764029187$-->
    
    </button>
    </template>
          <md-icon slot="icon" aria-hidden="true"><template shadowrootmode="open"><!----><slot></slot></template>add</md-icon>
          <!--?lit$764029187$-->Code
        </md-outlined-button>
        <md-outlined-button class="add-text add-button" data-aria-label="Add text cell" title="Add text cell" value="" has-icon=""><template shadowrootmode="open" shadowrootdelegatesfocus><!---->
      <!--?lit$764029187$--><div class="outline"></div>
      <div class="background"></div>
      <md-focus-ring part="focus-ring" for="button" aria-hidden="true"><template shadowrootmode="open"><!----></template></md-focus-ring>
      <md-ripple part="ripple" for="button" aria-hidden="true"><template shadowrootmode="open"><!----><div class="surface   "></div></template></md-ripple>
      <!--?lit$764029187$--><button id="button" class="button" aria-label="Add text cell">
      <!--?lit$764029187$-->
      <span class="touch"></span>
      <!--?lit$764029187$--><slot name="icon"></slot>
      <span class="label"><slot></slot></span>
      <!--?lit$764029187$-->
    
    </button>
    </template>
          <md-icon slot="icon" aria-hidden="true"><template shadowrootmode="open"><!----><slot></slot></template>add</md-icon>
          <!--?lit$764029187$-->Text
        </md-outlined-button>
        <!--?lit$764029187$-->
        <!--?lit$764029187$-->
      </div><hr>
    </div></div><div class="cell code code-has-output" id="cell--e9HIKMhcMMY" tabindex="-1" role="region" aria-label="Cell 4: Code cell: " style="opacity: 1;"><div class="cell-tag-editor sticky"></div><div class="agent-focus-label">
      <md-icon aria-hidden="true"><template shadowrootmode="open"><!----><slot></slot></template>spark</md-icon>
      <!--?lit$764029187$-->Gemini
    </div><div class="cell-toolbar sticky"></div><div class="main-content" elevation="0"><div class="cell-contents"><div class="cell-mask"></div><span class="imported-info-area"></span><div class="codecell-input-output">
      <div class="inputarea horizontal layout code">
        <div class="cell-gutter">
          <!-- Bounding range for vertical scrolling of icons -->
          <div class="cell-execution-container">
            <colab-run-button><template shadowrootmode="open"><!----> <div class="cell-execution">
      <button id="run-button" aria-describedby="run-button-tooltip" aria-label="Run cell" aria-disabled="false">
        <!--?lit$764029187$--><span class="execution-count"><!--?lit$764029187$-->[1]</span>
        <span aria-hidden="true" class="cell-execution-indicator"><!--?lit$764029187$-->
<svg xmlns="http://www.w3.org/2000/svg" viewBox="0 0 24 24">
  <!--?lit$764029187$-->
  <mask id="playSymbolMask">
    <rect width="100%" height="100%" fill="white"></rect>
    <polygon points="10,8 17,12 10,16" fill="black"></polygon>
  </mask>
  <circle cx="12" cy="12" r="7.8" mask="url(#playSymbolMask)" id="filledCircle"></circle>
</svg></span>
      </button>
      <!--?lit$764029187$--><colab-tooltip-trigger for="run-button" id="run-button-tooltip" aria-hidden="true" message="Run cell (Ctrl+Enter)
cell executed since last change

executed by kuldeep rajput
5:00 PM (8 minutes ago)
executed in 3.835s"><template shadowrootmode="open"><!----><!--?lit$764029187$--><!----><div><!--?lit$764029187$-->Run cell (Ctrl+Enter)</div><!----><!----><div><!--?lit$764029187$-->cell executed since last change</div><!----><!----><br><!----><!----><div><!--?lit$764029187$-->executed by kuldeep rajput</div><!----><!----><div><!--?lit$764029187$-->5:00 PM (8 minutes ago)</div><!----><!----><div><!--?lit$764029187$-->executed in 3.835s</div><!----><!--?--></template>
    </colab-tooltip-trigger>
      <!--?lit$764029187$--><div id="status" class="last-run">
      <md-icon aria-hidden="true"><template shadowrootmode="open"><!----><slot></slot></template><!--?lit$764029187$--><svg viewBox="0 0 24 24"><!--?lit$764029187$--><path d="M9 16.17L4.83 12l-1.42 1.41L9 19 21 7l-1.41-1.41z"></path></svg></md-icon>
      <div><!--?lit$764029187$-->3s</div>
    </div>
    </div></template></colab-run-button>
          </div>
        </div>
      <div class="editor flex lazy-editor" style=""><pre class="lazy-virtualized" style="font-size: 14px; line-height: 19px;"><pre class="lazy-gutter"></pre><pre class="monaco-colorized colab colab" data-lang="notebook-python"><span><span class="mtk8">#&nbsp;Import&nbsp;libraries</span></span><br><span><span class="mtk19">from</span><span class="mtk1">&nbsp;sklearn.datasets&nbsp;</span><span class="mtk19">import</span><span class="mtk1">&nbsp;load_wine</span></span><br><span><span class="mtk19">from</span><span class="mtk1">&nbsp;sklearn.model_selection&nbsp;</span><span class="mtk19">import</span><span class="mtk1">&nbsp;train_test_split</span></span><br><span><span class="mtk19">from</span><span class="mtk1">&nbsp;sklearn.neighbors&nbsp;</span><span class="mtk19">import</span><span class="mtk1">&nbsp;KNeighborsClassifier</span></span><br><span><span class="mtk19">from</span><span class="mtk1">&nbsp;sklearn.preprocessing&nbsp;</span><span class="mtk19">import</span><span class="mtk1">&nbsp;StandardScaler</span></span><br><span><span class="mtk19">from</span><span class="mtk1">&nbsp;sklearn.metrics&nbsp;</span><span class="mtk19">import</span><span class="mtk1">&nbsp;accuracy_score</span></span><br><span><span></span></span><br><span><span class="mtk8">#&nbsp;Load&nbsp;dataset</span></span><br><span><span class="mtk1">wine&nbsp;=&nbsp;load_wine()</span></span><br><span><span class="mtk1">X,&nbsp;y&nbsp;=&nbsp;wine.data,&nbsp;wine.target</span></span><br><span><span></span></span><br><span><span class="mtk8">#&nbsp;Train-test&nbsp;split</span></span><br><span><span class="mtk1">X_train,&nbsp;X_test,&nbsp;y_train,&nbsp;y_test&nbsp;=&nbsp;train_test_spli</span><span class="mtk1">t(X,&nbsp;y,&nbsp;test_size=</span><span class="mtk12">0.3</span><span class="mtk1">,&nbsp;random_state=</span><span class="mtk12">42</span><span class="mtk1">)</span></span><br><span><span></span></span><br><span><span class="mtk8">#&nbsp;------------------&nbsp;Without&nbsp;Feature&nbsp;Scaling&nbsp;-----</span><span class="mtk8">-------------</span></span><br><span><span class="mtk1">knn_no_scaling&nbsp;=&nbsp;KNeighborsClassifier(n_neighbors=</span><span class="mtk12">5</span><span class="mtk1">)</span></span><br><span><span class="mtk1">knn_no_scaling.fit(X_train,&nbsp;y_train)</span></span><br><span><span class="mtk1">y_pred_no_scaling&nbsp;=&nbsp;knn_no_scaling.predict(X_test)</span></span><br><span><span class="mtk1">acc_no_scaling&nbsp;=&nbsp;accuracy_score(y_test,&nbsp;y_pred_no_</span><span class="mtk1">scaling)</span></span><br><span><span></span></span><br><span><span class="mtk8">#&nbsp;------------------&nbsp;With&nbsp;Feature&nbsp;Scaling&nbsp;--------</span><span class="mtk8">----------</span></span><br><span><span class="mtk1">scaler&nbsp;=&nbsp;StandardScaler()</span></span><br><span><span class="mtk1">X_train_scaled&nbsp;=&nbsp;scaler.fit_transform(X_train)</span></span><br><span><span class="mtk1">X_test_scaled&nbsp;=&nbsp;scaler.transform(X_test)</span></span><br><span><span></span></span><br><span><span class="mtk1">knn_scaling&nbsp;=&nbsp;KNeighborsClassifier(n_neighbors=</span><span class="mtk12">5</span><span class="mtk1">)</span></span><br><span><span class="mtk1">knn_scaling.fit(X_train_scaled,&nbsp;y_train)</span></span><br><span><span class="mtk1">y_pred_scaling&nbsp;=&nbsp;knn_scaling.predict(X_test_scaled</span><span class="mtk1">)</span></span><br><span><span class="mtk1">acc_scaling&nbsp;=&nbsp;accuracy_score(y_test,&nbsp;y_pred_scalin</span><span class="mtk1">g)</span></span><br><span><span></span></span><br><span><span class="mtk8">#&nbsp;Print&nbsp;results</span></span><br><span><span class="mtk15">print</span><span class="mtk1">(</span><span class="mtk21">"Accuracy&nbsp;without&nbsp;scaling:"</span><span class="mtk1">,&nbsp;acc_no_scaling)</span></span><br><span><span class="mtk15">print</span><span class="mtk1">(</span><span class="mtk21">"Accuracy&nbsp;with&nbsp;scaling&nbsp;&nbsp;&nbsp;:"</span><span class="mtk1">,&nbsp;acc_scaling)</span></span><br><span><span></span></span><br></pre><colab-read-only-cell-placeholder style="display: none;"><template shadowrootmode="open"><!----><div><!--?lit$764029187$-->Start coding or <span tabindex="0" role="button" class="link">generate</span> with AI.</div></template></colab-read-only-cell-placeholder></pre></div><colab-form class="formview vertical layout flex"><div class="widget-area vertical layout"></div></colab-form></div>
    <div class="output" aria-label="Cell 4 output" role="region"><!----> <div class="output-header"> </div>
        <div class="output-content">
          <div class="output-info"><colab-output-info><template shadowrootmode="open"><!----><md-icon-button data-aria-expanded="false" data-aria-haspopup="menu" aria-describedby="button-output-actions-tooltip" data-aria-label="Code cell output actions" id="button-output-actions" value=""><template shadowrootmode="open" shadowrootdelegatesfocus><!----><button id="button" class="icon-button  standard " aria-label="Code cell output actions" aria-haspopup="menu" aria-expanded="false">
        <!--?lit$764029187$--><md-focus-ring part="focus-ring" for="button" aria-hidden="true"><template shadowrootmode="open"><!----></template></md-focus-ring>
        <!--?lit$764029187$--><md-ripple aria-hidden="true"><template shadowrootmode="open"><!----><div class="surface   "></div></template></md-ripple>
        <!--?lit$764029187$--><span class="icon"><slot></slot></span>
        <!--?lit$764029187$-->
        <!--?lit$764029187$--><span class="touch"></span>
  </button></template>
        <md-icon aria-hidden="true"><template shadowrootmode="open"><!----><slot></slot></template><!--?lit$764029187$--><svg viewBox="0 0 24 24"><!--?lit$764029187$--><path d="m15.9 3.07c-4.32 0.0742-8.64-0.0355-13 0.0568-1.37 0.307-1.74 2.1-1.41 3.26 0.469 0.606 1.86 0.384 1.66-0.525 0.0448-0.329-0.183-0.93 0.354-0.766h13.3v1.53h1.71c0.0709-1.13 0.141-2.62-0.968-3.3-0.511-0.264-1.11-0.252-1.67-0.259zm2.94 6.84v4.87c1.62-1.62 3.24-3.24 4.87-4.87h-4.87zm0 0h-1.71v3.43l1.57 1.57c0.32-1.65 0.0556-3.34 0.135-5zm-1.71 3.43v-3.43h-3.43c1.14 1.14 2.29 2.29 3.43 3.43zm1.4 4.27h-1.71v1.48h-13.6v-1.48h-1.71c-0.0473 1.15-0.16 2.72 1.09 3.29 1.47 0.506 3.02 0.0265 4.53 0.192 3.34-0.0051 6.68 0.0336 10-0.0245 1.49-0.366 1.56-2.22 1.42-3.45zm-10.1-1.12c-0.398-0.483-0.796-0.967-1.19-1.45 0.59-0.683 1.18-1.37 1.77-2.05h-8.67v-2h8.67c-0.59-0.683-1.18-1.37-1.77-2.05 0.398-0.483 0.796-0.967 1.19-1.45 1.28 1.5 2.56 3 3.84 4.5-1.28 1.5-2.56 3-3.84 4.5z"></path></svg></md-icon>
      </md-icon-button>
      <colab-tooltip-trigger aria-hidden="true" id="button-output-actions-tooltip" for="button-output-actions" message="Code cell output actions"><template shadowrootmode="open"><!----><!--?lit$764029187$--><!----><div><!--?lit$764029187$-->Code cell output actions</div><!----><!--?--></template></colab-tooltip-trigger></template></colab-output-info></div>
          <div class="output-iframe-container">
            <div class="output-iframe-sizer" style="min-height: 0px;"> <div><div><colab-static-output-renderer tabindex="0" role="group"><div><div class="stream output-id-1 output_text"><pre>Accuracy without scaling: 0.7407407407407407
Accuracy with scaling   : 0.9629629629629629
</pre></div></div><div></div></colab-static-output-renderer></div></div></div>
          </div>
        </div></div></div><colab-cell-next-steps><template shadowrootmode="open"><!----></template></colab-cell-next-steps></div></div><div class="add-cell">
      <div class="add-cell-buttons">
        <md-outlined-button class="add-code add-button" data-aria-label="Add code cell
Ctrl+M B" title="Add code cell
Ctrl+M B" value="" has-icon=""><template shadowrootmode="open" shadowrootdelegatesfocus><!---->
      <!--?lit$764029187$--><div class="outline"></div>
      <div class="background"></div>
      <md-focus-ring part="focus-ring" for="button" aria-hidden="true"><template shadowrootmode="open"><!----></template></md-focus-ring>
      <md-ripple part="ripple" for="button" aria-hidden="true"><template shadowrootmode="open"><!----><div class="surface"></div></template></md-ripple>
      <!--?lit$764029187$--><button id="button" class="button" aria-label="Add code cell
Ctrl+M B">
      <!--?lit$764029187$-->
      <span class="touch"></span>
      <!--?lit$764029187$--><slot name="icon"></slot>
      <span class="label"><slot></slot></span>
      <!--?lit$764029187$-->
    
    </button>
    </template>
          <md-icon slot="icon" aria-hidden="true"><template shadowrootmode="open"><!----><slot></slot></template>add</md-icon>
          <!--?lit$764029187$-->Code
        </md-outlined-button>
        <md-outlined-button class="add-text add-button" data-aria-label="Add text cell" title="Add text cell" value="" has-icon=""><template shadowrootmode="open" shadowrootdelegatesfocus><!---->
      <!--?lit$764029187$--><div class="outline"></div>
      <div class="background"></div>
      <md-focus-ring part="focus-ring" for="button" aria-hidden="true"><template shadowrootmode="open"><!----></template></md-focus-ring>
      <md-ripple part="ripple" for="button" aria-hidden="true"><template shadowrootmode="open"><!----><div class="surface"></div></template></md-ripple>
      <!--?lit$764029187$--><button id="button" class="button" aria-label="Add text cell">
      <!--?lit$764029187$-->
      <span class="touch"></span>
      <!--?lit$764029187$--><slot name="icon"></slot>
      <span class="label"><slot></slot></span>
      <!--?lit$764029187$-->
    
    </button>
    </template>
          <md-icon slot="icon" aria-hidden="true"><template shadowrootmode="open"><!----><slot></slot></template>add</md-icon>
          <!--?lit$764029187$-->Text
        </md-outlined-button>
        <!--?lit$764029187$-->
        <!--?lit$764029187$-->
      </div><hr>
    </div></div><div class="cell text" id="cell-XG2o177wcZah" tabindex="-1" role="region" aria-label="Cell 5: Text cell: " style="opacity: 1;"><div class="cell-tag-editor sticky"></div><div class="agent-focus-label">
      <md-icon aria-hidden="true"><template shadowrootmode="open"><!----><slot></slot></template>spark</md-icon>
      <!--?lit$764029187$-->Gemini
    </div><div class="cell-toolbar sticky"></div><div class="main-content" elevation="0"><div class="cell-contents"><div class="cell-mask"></div><span class="imported-info-area"></span><!----> <div class="toolbar-root"><div class="markdown-toolbar"><!----><!--?lit$764029187$--><!----><md-icon-button id="markdown-toolbar-header-XG2o177wcZah" class="markdown-toolbar-header" aria-describedby="markdown-toolbar-header-XG2o177wcZah-tooltip" data-aria-label="Toggle heading" value=""><template shadowrootmode="open" shadowrootdelegatesfocus><!----><button id="button" class="icon-button  standard " aria-label="Toggle heading">
        <!--?lit$764029187$--><md-focus-ring part="focus-ring" for="button" aria-hidden="true"><template shadowrootmode="open"><!----></template></md-focus-ring>
        <!--?lit$764029187$--><md-ripple aria-hidden="true"><template shadowrootmode="open"><!----><div class="surface   "></div></template></md-ripple>
        <!--?lit$764029187$--><span class="icon"><slot></slot></span>
        <!--?lit$764029187$-->
        <!--?lit$764029187$--><span class="touch"></span>
  </button></template>
        <!--?lit$764029187$--><md-icon aria-hidden="true"><template shadowrootmode="open"><!----><slot></slot></template><!--?lit$764029187$-->format_size</md-icon>
      </md-icon-button>
      <colab-tooltip-trigger aria-hidden="true" for="markdown-toolbar-header-XG2o177wcZah" id="markdown-toolbar-header-XG2o177wcZah-tooltip" message="Toggle heading"><template shadowrootmode="open"><!----><!--?lit$764029187$--><!----><div><!--?lit$764029187$-->Toggle heading</div><!----><!--?--></template></colab-tooltip-trigger><!----><!----><md-icon-button id="markdown-toolbar-bold-XG2o177wcZah" class="markdown-toolbar-bold" aria-describedby="markdown-toolbar-bold-XG2o177wcZah-tooltip" data-aria-label="Bold" value=""><template shadowrootmode="open" shadowrootdelegatesfocus><!----><button id="button" class="icon-button  standard " aria-label="Bold">
        <!--?lit$764029187$--><md-focus-ring part="focus-ring" for="button" aria-hidden="true"><template shadowrootmode="open"><!----></template></md-focus-ring>
        <!--?lit$764029187$--><md-ripple aria-hidden="true"><template shadowrootmode="open"><!----><div class="surface   "></div></template></md-ripple>
        <!--?lit$764029187$--><span class="icon"><slot></slot></span>
        <!--?lit$764029187$-->
        <!--?lit$764029187$--><span class="touch"></span>
  </button></template>
        <!--?lit$764029187$--><md-icon aria-hidden="true"><template shadowrootmode="open"><!----><slot></slot></template><!--?lit$764029187$-->format_bold</md-icon>
      </md-icon-button>
      <colab-tooltip-trigger aria-hidden="true" for="markdown-toolbar-bold-XG2o177wcZah" id="markdown-toolbar-bold-XG2o177wcZah-tooltip" message="Bold"><template shadowrootmode="open"><!----><!--?lit$764029187$--><!----><div><!--?lit$764029187$-->Bold</div><!----><!--?--></template></colab-tooltip-trigger><!----><!----><md-icon-button id="markdown-toolbar-italic-XG2o177wcZah" class="markdown-toolbar-italic" aria-describedby="markdown-toolbar-italic-XG2o177wcZah-tooltip" data-aria-label="Italicize" value=""><template shadowrootmode="open" shadowrootdelegatesfocus><!----><button id="button" class="icon-button  standard " aria-label="Italicize">
        <!--?lit$764029187$--><md-focus-ring part="focus-ring" for="button" aria-hidden="true"><template shadowrootmode="open"><!----></template></md-focus-ring>
        <!--?lit$764029187$--><md-ripple aria-hidden="true"><template shadowrootmode="open"><!----><div class="surface   "></div></template></md-ripple>
        <!--?lit$764029187$--><span class="icon"><slot></slot></span>
        <!--?lit$764029187$-->
        <!--?lit$764029187$--><span class="touch"></span>
  </button></template>
        <!--?lit$764029187$--><md-icon aria-hidden="true"><template shadowrootmode="open"><!----><slot></slot></template><!--?lit$764029187$-->format_italic</md-icon>
      </md-icon-button>
      <colab-tooltip-trigger aria-hidden="true" for="markdown-toolbar-italic-XG2o177wcZah" id="markdown-toolbar-italic-XG2o177wcZah-tooltip" message="Italicize"><template shadowrootmode="open"><!----><!--?lit$764029187$--><!----><div><!--?lit$764029187$-->Italicize</div><!----><!--?--></template></colab-tooltip-trigger><!----><!----><md-icon-button id="markdown-toolbar-code-XG2o177wcZah" class="markdown-toolbar-code" aria-describedby="markdown-toolbar-code-XG2o177wcZah-tooltip" data-aria-label="Format as code" value=""><template shadowrootmode="open" shadowrootdelegatesfocus><!----><button id="button" class="icon-button  standard " aria-label="Format as code">
        <!--?lit$764029187$--><md-focus-ring part="focus-ring" for="button" aria-hidden="true"><template shadowrootmode="open"><!----></template></md-focus-ring>
        <!--?lit$764029187$--><md-ripple aria-hidden="true"><template shadowrootmode="open"><!----><div class="surface   "></div></template></md-ripple>
        <!--?lit$764029187$--><span class="icon"><slot></slot></span>
        <!--?lit$764029187$-->
        <!--?lit$764029187$--><span class="touch"></span>
  </button></template>
        <!--?lit$764029187$--><md-icon aria-hidden="true"><template shadowrootmode="open"><!----><slot></slot></template><!--?lit$764029187$-->code</md-icon>
      </md-icon-button>
      <colab-tooltip-trigger aria-hidden="true" for="markdown-toolbar-code-XG2o177wcZah" id="markdown-toolbar-code-XG2o177wcZah-tooltip" message="Format as code"><template shadowrootmode="open"><!----><!--?lit$764029187$--><!----><div><!--?lit$764029187$-->Format as code</div><!----><!--?--></template></colab-tooltip-trigger><!----><!----><md-icon-button id="markdown-toolbar-link-XG2o177wcZah" class="markdown-toolbar-link" aria-describedby="markdown-toolbar-link-XG2o177wcZah-tooltip" data-aria-label="Insert link" value=""><template shadowrootmode="open" shadowrootdelegatesfocus><!----><button id="button" class="icon-button  standard " aria-label="Insert link">
        <!--?lit$764029187$--><md-focus-ring part="focus-ring" for="button" aria-hidden="true"><template shadowrootmode="open"><!----></template></md-focus-ring>
        <!--?lit$764029187$--><md-ripple aria-hidden="true"><template shadowrootmode="open"><!----><div class="surface   "></div></template></md-ripple>
        <!--?lit$764029187$--><span class="icon"><slot></slot></span>
        <!--?lit$764029187$-->
        <!--?lit$764029187$--><span class="touch"></span>
  </button></template>
        <!--?lit$764029187$--><md-icon aria-hidden="true"><template shadowrootmode="open"><!----><slot></slot></template><!--?lit$764029187$-->link</md-icon>
      </md-icon-button>
      <colab-tooltip-trigger aria-hidden="true" for="markdown-toolbar-link-XG2o177wcZah" id="markdown-toolbar-link-XG2o177wcZah-tooltip" message="Insert link"><template shadowrootmode="open"><!----><!--?lit$764029187$--><!----><div><!--?lit$764029187$-->Insert link</div><!----><!--?--></template></colab-tooltip-trigger><!----><!----><label for="markdown-image-input-XG2o177wcZah" class="colab-icon markdown-toolbar-insert-image">
        <md-ripple aria-hidden="true"><template shadowrootmode="open"><!----><div class="surface   "></div></template></md-ripple>
        <span role="button" tabindex="0" id="markdown-toolbar-insert-image-XG2o177wcZah" aria-describedby="markdown-toolbar-insert-image-XG2o177wcZah-tooltip" aria-label="Insert image">
          <md-focus-ring aria-hidden="true"><template shadowrootmode="open"><!----></template></md-focus-ring>
          <md-icon aria-hidden="true"><template shadowrootmode="open"><!----><slot></slot></template>image</md-icon>
        </span>
        <colab-tooltip-trigger aria-hidden="true" for="markdown-toolbar-insert-image-XG2o177wcZah" id="markdown-toolbar-insert-image-XG2o177wcZah-tooltip" message="Insert image"><template shadowrootmode="open"><!----><!--?lit$764029187$--><!----><div><!--?lit$764029187$-->Insert image</div><!----><!--?--></template></colab-tooltip-trigger>
      </label>
      <input class="markdown-image-input" type="file" multiple="" accept="image/*" id="markdown-image-input-XG2o177wcZah"><!----><!----><md-icon-button id="markdown-toolbar-blockquote-XG2o177wcZah" class="markdown-toolbar-blockquote" aria-describedby="markdown-toolbar-blockquote-XG2o177wcZah-tooltip" data-aria-label="Add blockquote" value=""><template shadowrootmode="open" shadowrootdelegatesfocus><!----><button id="button" class="icon-button  standard " aria-label="Add blockquote">
        <!--?lit$764029187$--><md-focus-ring part="focus-ring" for="button" aria-hidden="true"><template shadowrootmode="open"><!----></template></md-focus-ring>
        <!--?lit$764029187$--><md-ripple aria-hidden="true"><template shadowrootmode="open"><!----><div class="surface   "></div></template></md-ripple>
        <!--?lit$764029187$--><span class="icon"><slot></slot></span>
        <!--?lit$764029187$-->
        <!--?lit$764029187$--><span class="touch"></span>
  </button></template>
        <!--?lit$764029187$--><md-icon aria-hidden="true"><template shadowrootmode="open"><!----><slot></slot></template><!--?lit$764029187$-->format_quote</md-icon>
      </md-icon-button>
      <colab-tooltip-trigger aria-hidden="true" for="markdown-toolbar-blockquote-XG2o177wcZah" id="markdown-toolbar-blockquote-XG2o177wcZah-tooltip" message="Add blockquote"><template shadowrootmode="open"><!----><!--?lit$764029187$--><!----><div><!--?lit$764029187$-->Add blockquote</div><!----><!--?--></template></colab-tooltip-trigger><!----><!----><md-icon-button id="markdown-toolbar-ol-XG2o177wcZah" class="markdown-toolbar-ol" aria-describedby="markdown-toolbar-ol-XG2o177wcZah-tooltip" data-aria-label="Add numbered list" value=""><template shadowrootmode="open" shadowrootdelegatesfocus><!----><button id="button" class="icon-button  standard " aria-label="Add numbered list">
        <!--?lit$764029187$--><md-focus-ring part="focus-ring" for="button" aria-hidden="true"><template shadowrootmode="open"><!----></template></md-focus-ring>
        <!--?lit$764029187$--><md-ripple aria-hidden="true"><template shadowrootmode="open"><!----><div class="surface   "></div></template></md-ripple>
        <!--?lit$764029187$--><span class="icon"><slot></slot></span>
        <!--?lit$764029187$-->
        <!--?lit$764029187$--><span class="touch"></span>
  </button></template>
        <!--?lit$764029187$--><md-icon aria-hidden="true"><template shadowrootmode="open"><!----><slot></slot></template><!--?lit$764029187$-->format_list_numbered</md-icon>
      </md-icon-button>
      <colab-tooltip-trigger aria-hidden="true" for="markdown-toolbar-ol-XG2o177wcZah" id="markdown-toolbar-ol-XG2o177wcZah-tooltip" message="Add numbered list"><template shadowrootmode="open"><!----><!--?lit$764029187$--><!----><div><!--?lit$764029187$-->Add numbered list</div><!----><!--?--></template></colab-tooltip-trigger><!----><!----><md-icon-button id="markdown-toolbar-ul-XG2o177wcZah" class="markdown-toolbar-ul" aria-describedby="markdown-toolbar-ul-XG2o177wcZah-tooltip" data-aria-label="Add bulleted list" value=""><template shadowrootmode="open" shadowrootdelegatesfocus><!----><button id="button" class="icon-button  standard " aria-label="Add bulleted list">
        <!--?lit$764029187$--><md-focus-ring part="focus-ring" for="button" aria-hidden="true"><template shadowrootmode="open"><!----></template></md-focus-ring>
        <!--?lit$764029187$--><md-ripple aria-hidden="true"><template shadowrootmode="open"><!----><div class="surface   "></div></template></md-ripple>
        <!--?lit$764029187$--><span class="icon"><slot></slot></span>
        <!--?lit$764029187$-->
        <!--?lit$764029187$--><span class="touch"></span>
  </button></template>
        <!--?lit$764029187$--><md-icon aria-hidden="true"><template shadowrootmode="open"><!----><slot></slot></template><!--?lit$764029187$-->format_list_bulleted</md-icon>
      </md-icon-button>
      <colab-tooltip-trigger aria-hidden="true" for="markdown-toolbar-ul-XG2o177wcZah" id="markdown-toolbar-ul-XG2o177wcZah-tooltip" message="Add bulleted list"><template shadowrootmode="open"><!----><!--?lit$764029187$--><!----><div><!--?lit$764029187$-->Add bulleted list</div><!----><!--?--></template></colab-tooltip-trigger><!----><!----><md-icon-button id="markdown-toolbar-hr-XG2o177wcZah" class="markdown-toolbar-hr" aria-describedby="markdown-toolbar-hr-XG2o177wcZah-tooltip" data-aria-label="Add horizontal rule" value=""><template shadowrootmode="open" shadowrootdelegatesfocus><!----><button id="button" class="icon-button  standard " aria-label="Add horizontal rule">
        <!--?lit$764029187$--><md-focus-ring part="focus-ring" for="button" aria-hidden="true"><template shadowrootmode="open"><!----></template></md-focus-ring>
        <!--?lit$764029187$--><md-ripple aria-hidden="true"><template shadowrootmode="open"><!----><div class="surface"></div></template></md-ripple>
        <!--?lit$764029187$--><span class="icon"><slot></slot></span>
        <!--?lit$764029187$-->
        <!--?lit$764029187$--><span class="touch"></span>
  </button></template>
        <!--?lit$764029187$--><md-icon aria-hidden="true"><template shadowrootmode="open"><!----><slot></slot></template><!--?lit$764029187$-->horizontal_rule</md-icon>
      </md-icon-button>
      <colab-tooltip-trigger aria-hidden="true" for="markdown-toolbar-hr-XG2o177wcZah" id="markdown-toolbar-hr-XG2o177wcZah-tooltip" message="Add horizontal rule"><template shadowrootmode="open"><!----><!--?lit$764029187$--><!----><div><!--?lit$764029187$-->Add horizontal rule</div><!----><!--?--></template></colab-tooltip-trigger><!----><!----><md-icon-button id="markdown-toolbar-latex-XG2o177wcZah" class="markdown-toolbar-latex" aria-describedby="markdown-toolbar-latex-XG2o177wcZah-tooltip" data-aria-label="LaTeX" value=""><template shadowrootmode="open" shadowrootdelegatesfocus><!----><button id="button" class="icon-button  standard " aria-label="LaTeX">
        <!--?lit$764029187$--><md-focus-ring part="focus-ring" for="button" aria-hidden="true"><template shadowrootmode="open"><!----></template></md-focus-ring>
        <!--?lit$764029187$--><md-ripple aria-hidden="true"><template shadowrootmode="open"><!----><div class="surface"></div></template></md-ripple>
        <!--?lit$764029187$--><span class="icon"><slot></slot></span>
        <!--?lit$764029187$-->
        <!--?lit$764029187$--><span class="touch"></span>
  </button></template>
        <!--?lit$764029187$--><span aria-hidden="true">ψ</span>
      </md-icon-button>
      <colab-tooltip-trigger aria-hidden="true" for="markdown-toolbar-latex-XG2o177wcZah" id="markdown-toolbar-latex-XG2o177wcZah-tooltip" message="LaTeX"><template shadowrootmode="open"><!----><!--?lit$764029187$--><!----><div><!--?lit$764029187$-->LaTeX</div><!----><!--?--></template></colab-tooltip-trigger><!----><!----><md-icon-button id="markdown-toolbar-emoji-XG2o177wcZah" class="markdown-toolbar-emoji" aria-describedby="markdown-toolbar-emoji-XG2o177wcZah-tooltip" data-aria-label="Insert emoji" value=""><template shadowrootmode="open" shadowrootdelegatesfocus><!----><button id="button" class="icon-button  standard " aria-label="Insert emoji">
        <!--?lit$764029187$--><md-focus-ring part="focus-ring" for="button" aria-hidden="true"><template shadowrootmode="open"><!----></template></md-focus-ring>
        <!--?lit$764029187$--><md-ripple aria-hidden="true"><template shadowrootmode="open"><!----><div class="surface"></div></template></md-ripple>
        <!--?lit$764029187$--><span class="icon"><slot></slot></span>
        <!--?lit$764029187$-->
        <!--?lit$764029187$--><span class="touch"></span>
  </button></template>
        <!--?lit$764029187$--><md-icon aria-hidden="true"><template shadowrootmode="open"><!----><slot></slot></template><!--?lit$764029187$-->mood</md-icon>
      </md-icon-button>
      <colab-tooltip-trigger aria-hidden="true" for="markdown-toolbar-emoji-XG2o177wcZah" id="markdown-toolbar-emoji-XG2o177wcZah-tooltip" message="Insert emoji"><template shadowrootmode="open"><!----><!--?lit$764029187$--><!----><div><!--?lit$764029187$-->Insert emoji</div><!----><!--?--></template></colab-tooltip-trigger><!----><!----><md-icon-button id="markdown-toolbar-preview-XG2o177wcZah" class="markdown-toolbar-preview" aria-describedby="markdown-toolbar-preview-XG2o177wcZah-tooltip" data-aria-label="Reposition markdown preview" value=""><template shadowrootmode="open" shadowrootdelegatesfocus><!----><button id="button" class="icon-button  standard " aria-label="Reposition markdown preview">
        <!--?lit$764029187$--><md-focus-ring part="focus-ring" for="button" aria-hidden="true"><template shadowrootmode="open"><!----></template></md-focus-ring>
        <!--?lit$764029187$--><md-ripple aria-hidden="true"><template shadowrootmode="open"><!----><div class="surface"></div></template></md-ripple>
        <!--?lit$764029187$--><span class="icon"><slot></slot></span>
        <!--?lit$764029187$-->
        <!--?lit$764029187$--><span class="touch"></span>
  </button></template>
        <!--?lit$764029187$--><md-icon aria-hidden="true"><template shadowrootmode="open"><!----><slot></slot></template><!--?lit$764029187$--><svg viewBox="0 0 24 24"><!--?lit$764029187$--><g id="markdown-preview-below">
  <rect width="20" height="18" x="2" y="2" rx="2" ry="2" style="fill:none;stroke:var(--colab-icon-color)"></rect>
  <line x1="4.5" y1="13" x2="19.5" y2="13" style="stroke:var(--colab-primary-text-color);stroke-dasharray:2"></line>
  <line x1="2.5" y1="4" x2="21.5" y2="4" style="stroke:var(--colab-icon-color);stroke-width:3px;"></line>
</g></svg></md-icon>
      </md-icon-button>
      <colab-tooltip-trigger aria-hidden="true" for="markdown-toolbar-preview-XG2o177wcZah" id="markdown-toolbar-preview-XG2o177wcZah-tooltip" message="Reposition markdown preview"><template shadowrootmode="open"><!----><!--?lit$764029187$--><!----><div><!--?lit$764029187$-->Reposition markdown preview</div><!----><!--?--></template></colab-tooltip-trigger><!----><!--?--></div></div>
      <div class="editor-container horizontal">
        <div class="editor-root"><div class="editor flex monaco" data-keybinding-context="8" data-mode-id="markdown" style="height: 162px; --vscode-editorCodeLens-lineHeight: 16px; --vscode-editorCodeLens-fontSize: 12px; --vscode-editorCodeLens-fontFeatureSettings: &quot;liga&quot; off, &quot;calt&quot; off; display: none;"><div class="monaco-editor no-user-select  showUnused showDeprecated vs" role="code" data-uri="inmemory://model/9" style="width: 641px; height: 162px;"><div data-mprt="3" class="overflow-guard" style="width: 641px; height: 162px; overflow: clip;"><div class="margin" role="presentation" aria-hidden="true" style="position: absolute; contain: strict; will-change: unset; top: 0px; height: 162px; width: 6px;"><div class="glyph-margin" style="left: 0px; width: 0px; height: 162px;"></div><div class="margin-view-zones" role="presentation" aria-hidden="true" style="position: absolute;"></div><div class="margin-view-overlays" role="presentation" aria-hidden="true" style="position: absolute; font-family: monospace, Consolas, &quot;Courier New&quot;, monospace; font-weight: normal; font-size: 14px; font-feature-settings: &quot;liga&quot; 0, &quot;calt&quot; 0; font-variation-settings: normal; line-height: 19px; letter-spacing: 0px; width: 6px; height: 162px;"><div style="position:absolute;top:0px;width:100%;height:19px;"></div><div style="position:absolute;top:19px;width:100%;height:19px;"></div><div style="position:absolute;top:38px;width:100%;height:19px;"></div><div style="position:absolute;top:57px;width:100%;height:19px;"></div><div style="position:absolute;top:76px;width:100%;height:19px;"></div><div style="position:absolute;top:95px;width:100%;height:19px;"></div><div style="position:absolute;top:114px;width:100%;height:19px;"><div class="current-line current-line-margin-both" style="width:6px; height:19px;"></div></div><div style="position:absolute;top:133px;width:100%;height:19px;"></div></div><div class="glyph-margin-widgets" style="position: absolute; top: 0px;"></div></div><div class="monaco-scrollable-element editor-scrollable vs" role="presentation" data-mprt="5" style="position: absolute; overflow: hidden; left: 6px; width: 635px; height: 162px;"><div class="lines-content monaco-editor-background" style="position: absolute; overflow: hidden; width: 1e+06px; height: 162px; contain: strict; will-change: unset; top: 0px; left: 0px;"><div class="view-overlays" role="presentation" aria-hidden="true" style="position: absolute; font-family: monospace, Consolas, &quot;Courier New&quot;, monospace; font-weight: normal; font-size: 14px; font-feature-settings: &quot;liga&quot; 0, &quot;calt&quot; 0; font-variation-settings: normal; line-height: 19px; letter-spacing: 0px; height: 0px; width: 635px;"><div style="position:absolute;top:0px;width:100%;height:19px;"></div><div style="position:absolute;top:19px;width:100%;height:19px;"></div><div style="position:absolute;top:38px;width:100%;height:19px;"><div class="cdr unicode-highlight" style="left:470px;width:8px;height:19px;"></div></div><div style="position:absolute;top:57px;width:100%;height:19px;"></div><div style="position:absolute;top:76px;width:100%;height:19px;"></div><div style="position:absolute;top:95px;width:100%;height:19px;"></div><div style="position:absolute;top:114px;width:100%;height:19px;"><div class="current-line" style="width:635px; height:19px;"></div></div><div style="position:absolute;top:133px;width:100%;height:19px;"></div></div><div role="presentation" aria-hidden="true" class="view-rulers"><div class="view-ruler" style="width: 2px; height: 162px; left: 615.938px;"></div></div><div class="view-zones" role="presentation" aria-hidden="true" style="position: absolute;"></div><div class="view-lines monaco-mouse-cursor-text" role="presentation" aria-hidden="true" data-mprt="7" style="position: absolute; font-family: monospace, Consolas, &quot;Courier New&quot;, monospace; font-weight: normal; font-size: 14px; font-feature-settings: &quot;liga&quot; 0, &quot;calt&quot; 0; font-variation-settings: normal; line-height: 19px; letter-spacing: 0px; width: 635px; height: 162px;"><div style="top:0px;height:19px;" class="view-line"><span><span class="mtk1">Expected&nbsp;Result</span></span></div><div style="top:19px;height:19px;" class="view-line"><span><span></span></span></div><div style="top:38px;height:19px;" class="view-line"><span><span class="mtk1">Without&nbsp;scaling:&nbsp;Accuracy&nbsp;is&nbsp;usually&nbsp;much&nbsp;lower&nbsp;</span><span class="mtk1 bracket-highlighting-0">(</span><span class="mtk1">around&nbsp;~0.65–0.75</span><span class="mtk1 bracket-highlighting-0">)</span><span class="mtk1">.</span></span></div><div style="top:57px;height:19px;" class="view-line"><span><span></span></span></div><div style="top:76px;height:19px;" class="view-line"><span><span class="mtk1">With&nbsp;scaling:&nbsp;Accuracy&nbsp;improves&nbsp;significantly&nbsp;</span><span class="mtk1 bracket-highlighting-0">(</span><span class="mtk1">often&nbsp;0.95+</span><span class="mtk1 bracket-highlighting-0">)</span><span class="mtk1">.</span></span></div><div style="top:95px;height:19px;" class="view-line"><span><span></span></span></div><div style="top:114px;height:19px;" class="view-line"><span><span class="mtk6">-&nbsp;</span><span class="mtk1">Conclusion:&nbsp;Feature&nbsp;scaling&nbsp;is&nbsp;crucial&nbsp;for&nbsp;KNN&nbsp;bec</span><span class="mtk1">ause&nbsp;it&nbsp;ensures&nbsp;that&nbsp;all&nbsp;</span></span></div><div style="top:133px;height:19px;" class="view-line"><span><span class="mtk1">features&nbsp;contribute&nbsp;equally&nbsp;to&nbsp;the&nbsp;distance&nbsp;metric</span><span class="mtk1">.</span></span></div></div><div data-mprt="1" class="contentWidgets" style="position: absolute; top: 0px;"><div class="lightBulbWidget codicon codicon-light-bulb" widgetid="LightBulbWidget" title="Show Code Actions (Ctrl+.)" style="position: absolute; display: none; visibility: hidden; max-width: 635px;"></div></div><div role="presentation" aria-hidden="true" class="cursors-layer cursor-line-style cursor-solid"><div class="cursor monaco-mouse-cursor-text " style="height: 19px; top: 114px; left: 7px; font-family: monospace, Consolas, &quot;Courier New&quot;, monospace; font-weight: normal; font-size: 14px; font-feature-settings: &quot;liga&quot; 0, &quot;calt&quot; 0; font-variation-settings: normal; line-height: 19px; letter-spacing: 0px; display: block; visibility: hidden; padding-left: 1px; width: 2px;"></div></div></div><div role="presentation" aria-hidden="true" class="invisible scrollbar horizontal" style="position: absolute; width: 621px; height: 10px; left: 0px; bottom: 0px;"><div class="slider" style="position: absolute; top: 0px; left: 0px; height: 10px; transform: translate3d(0px, 0px, 0px); contain: strict; will-change: unset; width: 621px;"></div></div><canvas class="decorationsOverviewRuler" aria-hidden="true" width="14" height="162" style="position: absolute; transform: translate3d(0px, 0px, 0px); contain: strict; top: 0px; right: 0px; width: 14px; height: 162px; will-change: unset; display: block;"></canvas><div role="presentation" aria-hidden="true" class="invisible scrollbar vertical" style="position: absolute; width: 14px; height: 162px; right: 0px; top: 0px;"><div class="slider" style="position: absolute; top: 0px; left: 0px; width: 14px; transform: translate3d(0px, 0px, 0px); contain: strict; will-change: unset; height: 162px;"></div></div></div><div role="presentation" aria-hidden="true" style="width: 641px;"></div><textarea data-mprt="6" class="inputarea monaco-mouse-cursor-text" wrap="on" autocorrect="off" autocapitalize="off" autocomplete="off" spellcheck="false" aria-label="Editor content;Press Alt+F1 for Accessibility Options." tabindex="0" role="textbox" aria-roledescription="editor" aria-multiline="true" aria-haspopup="false" aria-autocomplete="both" style="tab-size: 15.3984px; font-family: monospace, Consolas, &quot;Courier New&quot;, monospace; font-weight: normal; font-size: 14px; font-feature-settings: &quot;liga&quot; 0, &quot;calt&quot; 0; font-variation-settings: normal; line-height: 19px; letter-spacing: 0px; top: 114px; left: 6px; width: 616px; height: 1px;"></textarea><div style="position: absolute; top: 0px; left: 0px; width: 0px; height: 0px;" class="monaco-editor-background textAreaCover"></div><div data-mprt="4" class="overlayWidgets" style="width: 641px;"></div><div data-mprt="8" class="minimap slider-mouseover" role="presentation" aria-hidden="true" style="position: absolute; left: 0px; width: 0px; height: 162px;"><div class="minimap-shadow-hidden" style="height: 162px;"></div><canvas width="0" height="162" style="position: absolute; left: 0px; width: 0px; height: 162px;"></canvas><canvas class="minimap-decorations-layer" width="0" height="162" style="position: absolute; left: 0px; width: 0px; height: 162px;"></canvas><div class="minimap-slider" style="position: absolute; transform: translate3d(0px, 0px, 0px); contain: strict; width: 0px; will-change: unset;"><div class="minimap-slider-horizontal" style="position: absolute; width: 0px; height: 0px;"></div></div></div><div role="presentation" aria-hidden="true" class="blockDecorations-container"></div></div><div data-mprt="2" class="overflowingContentWidgets" style="display: none;"><div widgetid="editor.contrib.resizableContentHoverWidget" style="position: fixed; height: 10px; width: 10px; z-index: 50; display: none; visibility: hidden; max-width: 1360px;"><div class="monaco-sash vertical" style="left: 8px;"></div><div class="monaco-sash vertical" style="left: -2px;"></div><div class="monaco-sash orthogonal-edge-north horizontal" style="top: -2px;"><div class="orthogonal-drag-handle start"></div><div class="orthogonal-drag-handle end"></div></div><div class="monaco-sash orthogonal-edge-south horizontal" style="top: 8px;"><div class="orthogonal-drag-handle start"></div><div class="orthogonal-drag-handle end"></div></div><div class="monaco-hover hidden" tabindex="0" role="tooltip"><div class="monaco-scrollable-element " role="presentation" style="position: relative; overflow: hidden;"><div class="monaco-hover-content" style="overflow: hidden; font-size: 14px; line-height: 1.35714; max-width: 500px; max-height: 250px;"></div><div role="presentation" aria-hidden="true" class="invisible scrollbar horizontal" style="position: absolute;"><div class="slider" style="position: absolute; top: 0px; left: 0px; height: 10px; transform: translate3d(0px, 0px, 0px); contain: strict;"></div></div><div role="presentation" aria-hidden="true" class="invisible scrollbar vertical" style="position: absolute;"><div class="slider" style="position: absolute; top: 0px; left: 0px; width: 10px; transform: translate3d(0px, 0px, 0px); contain: strict;"></div></div><div class="shadow"></div><div class="shadow"></div><div class="shadow"></div></div></div></div></div><div class=".in-cell-overflowing"><div widgetid="editor.contrib.quickInputWidget" style="position: absolute; top: 0px; right: 50%;"></div></div></div></div></div>
        <div class="text-top-div">
          <div class="markdown"><span><p>Expected Result</p>
<p>Without scaling: Accuracy is usually much lower (around ~0.65–0.75).</p>
<p>With scaling: Accuracy improves significantly (often 0.95+).</p>
<ul>
<li>Conclusion: Feature scaling is crucial for KNN because it ensures that all features contribute equally to the distance metric.</li>
</ul>
</span></div>
        </div>
      </div>

      <div class="section-header" style="display: none;">
        <colab-run-button><template shadowrootmode="open"><!----> <div class="cell-execution">
      <button id="run-button" aria-label="Run cell" aria-disabled="false">
        <!--?lit$764029187$--><span class="execution-count"><!--?lit$764029187$-->[ ]</span>
        <span aria-hidden="true" class="cell-execution-indicator"><!--?lit$764029187$-->
<svg xmlns="http://www.w3.org/2000/svg" viewBox="0 0 24 24">
  <!--?lit$764029187$-->
  <mask id="playSymbolMask">
    <rect width="100%" height="100%" fill="white"></rect>
    <polygon points="10,8 17,12 10,16" fill="black"></polygon>
  </mask>
  <circle cx="12" cy="12" r="7.8" mask="url(#playSymbolMask)" id="filledCircle"></circle>
</svg></span>
      </button>
      <!--?lit$764029187$-->
      <!--?lit$764029187$--><!--?-->
    </div></template></colab-run-button>
        <div class="section-header-container" title="click to expand">
          <md-icon aria-hidden="true"><template shadowrootmode="open"><!----><slot></slot></template>subdirectory_arrow_right</md-icon>
          <span>0 cells hidden</span>
        </div>
      </div></div></div><div class="add-cell">
      <div class="add-cell-buttons">
        <md-outlined-button class="add-code add-button" data-aria-label="Add code cell
Ctrl+M B" title="Add code cell
Ctrl+M B" value="" has-icon=""><template shadowrootmode="open" shadowrootdelegatesfocus><!---->
      <!--?lit$764029187$--><div class="outline"></div>
      <div class="background"></div>
      <md-focus-ring part="focus-ring" for="button" aria-hidden="true"><template shadowrootmode="open"><!----></template></md-focus-ring>
      <md-ripple part="ripple" for="button" aria-hidden="true"><template shadowrootmode="open"><!----><div class="surface"></div></template></md-ripple>
      <!--?lit$764029187$--><button id="button" class="button" aria-label="Add code cell
Ctrl+M B">
      <!--?lit$764029187$-->
      <span class="touch"></span>
      <!--?lit$764029187$--><slot name="icon"></slot>
      <span class="label"><slot></slot></span>
      <!--?lit$764029187$-->
    
    </button>
    </template>
          <md-icon slot="icon" aria-hidden="true"><template shadowrootmode="open"><!----><slot></slot></template>add</md-icon>
          <!--?lit$764029187$-->Code
        </md-outlined-button>
        <md-outlined-button class="add-text add-button" data-aria-label="Add text cell" title="Add text cell" value="" has-icon=""><template shadowrootmode="open" shadowrootdelegatesfocus><!---->
      <!--?lit$764029187$--><div class="outline"></div>
      <div class="background"></div>
      <md-focus-ring part="focus-ring" for="button" aria-hidden="true"><template shadowrootmode="open"><!----></template></md-focus-ring>
      <md-ripple part="ripple" for="button" aria-hidden="true"><template shadowrootmode="open"><!----><div class="surface"></div></template></md-ripple>
      <!--?lit$764029187$--><button id="button" class="button" aria-label="Add text cell">
      <!--?lit$764029187$-->
      <span class="touch"></span>
      <!--?lit$764029187$--><slot name="icon"></slot>
      <span class="label"><slot></slot></span>
      <!--?lit$764029187$-->
    
    </button>
    </template>
          <md-icon slot="icon" aria-hidden="true"><template shadowrootmode="open"><!----><slot></slot></template>add</md-icon>
          <!--?lit$764029187$-->Text
        </md-outlined-button>
        <!--?lit$764029187$-->
        <!--?lit$764029187$-->
      </div><hr>
    </div></div><div class="cell text" id="cell-jb3pBSjucf3Q" tabindex="-1" role="region" aria-label="Cell 6: Text cell: " style="opacity: 1;"><div class="cell-tag-editor sticky"></div><div class="agent-focus-label">
      <md-icon aria-hidden="true"><template shadowrootmode="open"><!----><slot></slot></template>spark</md-icon>
      <!--?lit$764029187$-->Gemini
    </div><div class="cell-toolbar sticky"></div><div class="main-content" elevation="0"><div class="cell-contents"><div class="cell-mask"></div><span class="imported-info-area"></span><!----> <div class="toolbar-root"><div class="markdown-toolbar"><!----><!--?lit$764029187$--><!----><md-icon-button id="markdown-toolbar-header-jb3pBSjucf3Q" class="markdown-toolbar-header" aria-describedby="markdown-toolbar-header-jb3pBSjucf3Q-tooltip" data-aria-label="Toggle heading" value=""><template shadowrootmode="open" shadowrootdelegatesfocus><!----><button id="button" class="icon-button  standard " aria-label="Toggle heading">
        <!--?lit$764029187$--><md-focus-ring part="focus-ring" for="button" aria-hidden="true"><template shadowrootmode="open"><!----></template></md-focus-ring>
        <!--?lit$764029187$--><md-ripple aria-hidden="true"><template shadowrootmode="open"><!----><div class="surface   "></div></template></md-ripple>
        <!--?lit$764029187$--><span class="icon"><slot></slot></span>
        <!--?lit$764029187$-->
        <!--?lit$764029187$--><span class="touch"></span>
  </button></template>
        <!--?lit$764029187$--><md-icon aria-hidden="true"><template shadowrootmode="open"><!----><slot></slot></template><!--?lit$764029187$-->format_size</md-icon>
      </md-icon-button>
      <colab-tooltip-trigger aria-hidden="true" for="markdown-toolbar-header-jb3pBSjucf3Q" id="markdown-toolbar-header-jb3pBSjucf3Q-tooltip" message="Toggle heading"><template shadowrootmode="open"><!----><!--?lit$764029187$--><!----><div><!--?lit$764029187$-->Toggle heading</div><!----><!--?--></template></colab-tooltip-trigger><!----><!----><md-icon-button id="markdown-toolbar-bold-jb3pBSjucf3Q" class="markdown-toolbar-bold" aria-describedby="markdown-toolbar-bold-jb3pBSjucf3Q-tooltip" data-aria-label="Bold" value=""><template shadowrootmode="open" shadowrootdelegatesfocus><!----><button id="button" class="icon-button  standard " aria-label="Bold">
        <!--?lit$764029187$--><md-focus-ring part="focus-ring" for="button" aria-hidden="true"><template shadowrootmode="open"><!----></template></md-focus-ring>
        <!--?lit$764029187$--><md-ripple aria-hidden="true"><template shadowrootmode="open"><!----><div class="surface   "></div></template></md-ripple>
        <!--?lit$764029187$--><span class="icon"><slot></slot></span>
        <!--?lit$764029187$-->
        <!--?lit$764029187$--><span class="touch"></span>
  </button></template>
        <!--?lit$764029187$--><md-icon aria-hidden="true"><template shadowrootmode="open"><!----><slot></slot></template><!--?lit$764029187$-->format_bold</md-icon>
      </md-icon-button>
      <colab-tooltip-trigger aria-hidden="true" for="markdown-toolbar-bold-jb3pBSjucf3Q" id="markdown-toolbar-bold-jb3pBSjucf3Q-tooltip" message="Bold"><template shadowrootmode="open"><!----><!--?lit$764029187$--><!----><div><!--?lit$764029187$-->Bold</div><!----><!--?--></template></colab-tooltip-trigger><!----><!----><md-icon-button id="markdown-toolbar-italic-jb3pBSjucf3Q" class="markdown-toolbar-italic" aria-describedby="markdown-toolbar-italic-jb3pBSjucf3Q-tooltip" data-aria-label="Italicize" value=""><template shadowrootmode="open" shadowrootdelegatesfocus><!----><button id="button" class="icon-button  standard " aria-label="Italicize">
        <!--?lit$764029187$--><md-focus-ring part="focus-ring" for="button" aria-hidden="true"><template shadowrootmode="open"><!----></template></md-focus-ring>
        <!--?lit$764029187$--><md-ripple aria-hidden="true"><template shadowrootmode="open"><!----><div class="surface   "></div></template></md-ripple>
        <!--?lit$764029187$--><span class="icon"><slot></slot></span>
        <!--?lit$764029187$-->
        <!--?lit$764029187$--><span class="touch"></span>
  </button></template>
        <!--?lit$764029187$--><md-icon aria-hidden="true"><template shadowrootmode="open"><!----><slot></slot></template><!--?lit$764029187$-->format_italic</md-icon>
      </md-icon-button>
      <colab-tooltip-trigger aria-hidden="true" for="markdown-toolbar-italic-jb3pBSjucf3Q" id="markdown-toolbar-italic-jb3pBSjucf3Q-tooltip" message="Italicize"><template shadowrootmode="open"><!----><!--?lit$764029187$--><!----><div><!--?lit$764029187$-->Italicize</div><!----><!--?--></template></colab-tooltip-trigger><!----><!----><md-icon-button id="markdown-toolbar-code-jb3pBSjucf3Q" class="markdown-toolbar-code" aria-describedby="markdown-toolbar-code-jb3pBSjucf3Q-tooltip" data-aria-label="Format as code" value=""><template shadowrootmode="open" shadowrootdelegatesfocus><!----><button id="button" class="icon-button  standard " aria-label="Format as code">
        <!--?lit$764029187$--><md-focus-ring part="focus-ring" for="button" aria-hidden="true"><template shadowrootmode="open"><!----></template></md-focus-ring>
        <!--?lit$764029187$--><md-ripple aria-hidden="true"><template shadowrootmode="open"><!----><div class="surface   "></div></template></md-ripple>
        <!--?lit$764029187$--><span class="icon"><slot></slot></span>
        <!--?lit$764029187$-->
        <!--?lit$764029187$--><span class="touch"></span>
  </button></template>
        <!--?lit$764029187$--><md-icon aria-hidden="true"><template shadowrootmode="open"><!----><slot></slot></template><!--?lit$764029187$-->code</md-icon>
      </md-icon-button>
      <colab-tooltip-trigger aria-hidden="true" for="markdown-toolbar-code-jb3pBSjucf3Q" id="markdown-toolbar-code-jb3pBSjucf3Q-tooltip" message="Format as code"><template shadowrootmode="open"><!----><!--?lit$764029187$--><!----><div><!--?lit$764029187$-->Format as code</div><!----><!--?--></template></colab-tooltip-trigger><!----><!----><md-icon-button id="markdown-toolbar-link-jb3pBSjucf3Q" class="markdown-toolbar-link" aria-describedby="markdown-toolbar-link-jb3pBSjucf3Q-tooltip" data-aria-label="Insert link" value=""><template shadowrootmode="open" shadowrootdelegatesfocus><!----><button id="button" class="icon-button  standard " aria-label="Insert link">
        <!--?lit$764029187$--><md-focus-ring part="focus-ring" for="button" aria-hidden="true"><template shadowrootmode="open"><!----></template></md-focus-ring>
        <!--?lit$764029187$--><md-ripple aria-hidden="true"><template shadowrootmode="open"><!----><div class="surface   "></div></template></md-ripple>
        <!--?lit$764029187$--><span class="icon"><slot></slot></span>
        <!--?lit$764029187$-->
        <!--?lit$764029187$--><span class="touch"></span>
  </button></template>
        <!--?lit$764029187$--><md-icon aria-hidden="true"><template shadowrootmode="open"><!----><slot></slot></template><!--?lit$764029187$-->link</md-icon>
      </md-icon-button>
      <colab-tooltip-trigger aria-hidden="true" for="markdown-toolbar-link-jb3pBSjucf3Q" id="markdown-toolbar-link-jb3pBSjucf3Q-tooltip" message="Insert link"><template shadowrootmode="open"><!----><!--?lit$764029187$--><!----><div><!--?lit$764029187$-->Insert link</div><!----><!--?--></template></colab-tooltip-trigger><!----><!----><label for="markdown-image-input-jb3pBSjucf3Q" class="colab-icon markdown-toolbar-insert-image">
        <md-ripple aria-hidden="true"><template shadowrootmode="open"><!----><div class="surface   "></div></template></md-ripple>
        <span role="button" tabindex="0" id="markdown-toolbar-insert-image-jb3pBSjucf3Q" aria-describedby="markdown-toolbar-insert-image-jb3pBSjucf3Q-tooltip" aria-label="Insert image">
          <md-focus-ring aria-hidden="true"><template shadowrootmode="open"><!----></template></md-focus-ring>
          <md-icon aria-hidden="true"><template shadowrootmode="open"><!----><slot></slot></template>image</md-icon>
        </span>
        <colab-tooltip-trigger aria-hidden="true" for="markdown-toolbar-insert-image-jb3pBSjucf3Q" id="markdown-toolbar-insert-image-jb3pBSjucf3Q-tooltip" message="Insert image"><template shadowrootmode="open"><!----><!--?lit$764029187$--><!----><div><!--?lit$764029187$-->Insert image</div><!----><!--?--></template></colab-tooltip-trigger>
      </label>
      <input class="markdown-image-input" type="file" multiple="" accept="image/*" id="markdown-image-input-jb3pBSjucf3Q"><!----><!----><md-icon-button id="markdown-toolbar-blockquote-jb3pBSjucf3Q" class="markdown-toolbar-blockquote" aria-describedby="markdown-toolbar-blockquote-jb3pBSjucf3Q-tooltip" data-aria-label="Add blockquote" value=""><template shadowrootmode="open" shadowrootdelegatesfocus><!----><button id="button" class="icon-button  standard " aria-label="Add blockquote">
        <!--?lit$764029187$--><md-focus-ring part="focus-ring" for="button" aria-hidden="true"><template shadowrootmode="open"><!----></template></md-focus-ring>
        <!--?lit$764029187$--><md-ripple aria-hidden="true"><template shadowrootmode="open"><!----><div class="surface   "></div></template></md-ripple>
        <!--?lit$764029187$--><span class="icon"><slot></slot></span>
        <!--?lit$764029187$-->
        <!--?lit$764029187$--><span class="touch"></span>
  </button></template>
        <!--?lit$764029187$--><md-icon aria-hidden="true"><template shadowrootmode="open"><!----><slot></slot></template><!--?lit$764029187$-->format_quote</md-icon>
      </md-icon-button>
      <colab-tooltip-trigger aria-hidden="true" for="markdown-toolbar-blockquote-jb3pBSjucf3Q" id="markdown-toolbar-blockquote-jb3pBSjucf3Q-tooltip" message="Add blockquote"><template shadowrootmode="open"><!----><!--?lit$764029187$--><!----><div><!--?lit$764029187$-->Add blockquote</div><!----><!--?--></template></colab-tooltip-trigger><!----><!----><md-icon-button id="markdown-toolbar-ol-jb3pBSjucf3Q" class="markdown-toolbar-ol" aria-describedby="markdown-toolbar-ol-jb3pBSjucf3Q-tooltip" data-aria-label="Add numbered list" value=""><template shadowrootmode="open" shadowrootdelegatesfocus><!----><button id="button" class="icon-button  standard " aria-label="Add numbered list">
        <!--?lit$764029187$--><md-focus-ring part="focus-ring" for="button" aria-hidden="true"><template shadowrootmode="open"><!----></template></md-focus-ring>
        <!--?lit$764029187$--><md-ripple aria-hidden="true"><template shadowrootmode="open"><!----><div class="surface"></div></template></md-ripple>
        <!--?lit$764029187$--><span class="icon"><slot></slot></span>
        <!--?lit$764029187$-->
        <!--?lit$764029187$--><span class="touch"></span>
  </button></template>
        <!--?lit$764029187$--><md-icon aria-hidden="true"><template shadowrootmode="open"><!----><slot></slot></template><!--?lit$764029187$-->format_list_numbered</md-icon>
      </md-icon-button>
      <colab-tooltip-trigger aria-hidden="true" for="markdown-toolbar-ol-jb3pBSjucf3Q" id="markdown-toolbar-ol-jb3pBSjucf3Q-tooltip" message="Add numbered list"><template shadowrootmode="open"><!----><!--?lit$764029187$--><!----><div><!--?lit$764029187$-->Add numbered list</div><!----><!--?--></template></colab-tooltip-trigger><!----><!----><md-icon-button id="markdown-toolbar-ul-jb3pBSjucf3Q" class="markdown-toolbar-ul" aria-describedby="markdown-toolbar-ul-jb3pBSjucf3Q-tooltip" data-aria-label="Add bulleted list" value=""><template shadowrootmode="open" shadowrootdelegatesfocus><!----><button id="button" class="icon-button  standard " aria-label="Add bulleted list">
        <!--?lit$764029187$--><md-focus-ring part="focus-ring" for="button" aria-hidden="true"><template shadowrootmode="open"><!----></template></md-focus-ring>
        <!--?lit$764029187$--><md-ripple aria-hidden="true"><template shadowrootmode="open"><!----><div class="surface"></div></template></md-ripple>
        <!--?lit$764029187$--><span class="icon"><slot></slot></span>
        <!--?lit$764029187$-->
        <!--?lit$764029187$--><span class="touch"></span>
  </button></template>
        <!--?lit$764029187$--><md-icon aria-hidden="true"><template shadowrootmode="open"><!----><slot></slot></template><!--?lit$764029187$-->format_list_bulleted</md-icon>
      </md-icon-button>
      <colab-tooltip-trigger aria-hidden="true" for="markdown-toolbar-ul-jb3pBSjucf3Q" id="markdown-toolbar-ul-jb3pBSjucf3Q-tooltip" message="Add bulleted list"><template shadowrootmode="open"><!----><!--?lit$764029187$--><!----><div><!--?lit$764029187$-->Add bulleted list</div><!----><!--?--></template></colab-tooltip-trigger><!----><!----><md-icon-button id="markdown-toolbar-hr-jb3pBSjucf3Q" class="markdown-toolbar-hr" aria-describedby="markdown-toolbar-hr-jb3pBSjucf3Q-tooltip" data-aria-label="Add horizontal rule" value=""><template shadowrootmode="open" shadowrootdelegatesfocus><!----><button id="button" class="icon-button  standard " aria-label="Add horizontal rule">
        <!--?lit$764029187$--><md-focus-ring part="focus-ring" for="button" aria-hidden="true"><template shadowrootmode="open"><!----></template></md-focus-ring>
        <!--?lit$764029187$--><md-ripple aria-hidden="true"><template shadowrootmode="open"><!----><div class="surface"></div></template></md-ripple>
        <!--?lit$764029187$--><span class="icon"><slot></slot></span>
        <!--?lit$764029187$-->
        <!--?lit$764029187$--><span class="touch"></span>
  </button></template>
        <!--?lit$764029187$--><md-icon aria-hidden="true"><template shadowrootmode="open"><!----><slot></slot></template><!--?lit$764029187$-->horizontal_rule</md-icon>
      </md-icon-button>
      <colab-tooltip-trigger aria-hidden="true" for="markdown-toolbar-hr-jb3pBSjucf3Q" id="markdown-toolbar-hr-jb3pBSjucf3Q-tooltip" message="Add horizontal rule"><template shadowrootmode="open"><!----><!--?lit$764029187$--><!----><div><!--?lit$764029187$-->Add horizontal rule</div><!----><!--?--></template></colab-tooltip-trigger><!----><!----><md-icon-button id="markdown-toolbar-latex-jb3pBSjucf3Q" class="markdown-toolbar-latex" aria-describedby="markdown-toolbar-latex-jb3pBSjucf3Q-tooltip" data-aria-label="LaTeX" value=""><template shadowrootmode="open" shadowrootdelegatesfocus><!----><button id="button" class="icon-button  standard " aria-label="LaTeX">
        <!--?lit$764029187$--><md-focus-ring part="focus-ring" for="button" aria-hidden="true"><template shadowrootmode="open"><!----></template></md-focus-ring>
        <!--?lit$764029187$--><md-ripple aria-hidden="true"><template shadowrootmode="open"><!----><div class="surface   "></div></template></md-ripple>
        <!--?lit$764029187$--><span class="icon"><slot></slot></span>
        <!--?lit$764029187$-->
        <!--?lit$764029187$--><span class="touch"></span>
  </button></template>
        <!--?lit$764029187$--><span aria-hidden="true">ψ</span>
      </md-icon-button>
      <colab-tooltip-trigger aria-hidden="true" for="markdown-toolbar-latex-jb3pBSjucf3Q" id="markdown-toolbar-latex-jb3pBSjucf3Q-tooltip" message="LaTeX"><template shadowrootmode="open"><!----><!--?lit$764029187$--><!----><div><!--?lit$764029187$-->LaTeX</div><!----><!--?--></template></colab-tooltip-trigger><!----><!----><md-icon-button id="markdown-toolbar-emoji-jb3pBSjucf3Q" class="markdown-toolbar-emoji" aria-describedby="markdown-toolbar-emoji-jb3pBSjucf3Q-tooltip" data-aria-label="Insert emoji" value=""><template shadowrootmode="open" shadowrootdelegatesfocus><!----><button id="button" class="icon-button  standard " aria-label="Insert emoji">
        <!--?lit$764029187$--><md-focus-ring part="focus-ring" for="button" aria-hidden="true"><template shadowrootmode="open"><!----></template></md-focus-ring>
        <!--?lit$764029187$--><md-ripple aria-hidden="true"><template shadowrootmode="open"><!----><div class="surface   "></div></template></md-ripple>
        <!--?lit$764029187$--><span class="icon"><slot></slot></span>
        <!--?lit$764029187$-->
        <!--?lit$764029187$--><span class="touch"></span>
  </button></template>
        <!--?lit$764029187$--><md-icon aria-hidden="true"><template shadowrootmode="open"><!----><slot></slot></template><!--?lit$764029187$-->mood</md-icon>
      </md-icon-button>
      <colab-tooltip-trigger aria-hidden="true" for="markdown-toolbar-emoji-jb3pBSjucf3Q" id="markdown-toolbar-emoji-jb3pBSjucf3Q-tooltip" message="Insert emoji"><template shadowrootmode="open"><!----><!--?lit$764029187$--><!----><div><!--?lit$764029187$-->Insert emoji</div><!----><!--?--></template></colab-tooltip-trigger><!----><!----><md-icon-button id="markdown-toolbar-preview-jb3pBSjucf3Q" class="markdown-toolbar-preview" aria-describedby="markdown-toolbar-preview-jb3pBSjucf3Q-tooltip" data-aria-label="Reposition markdown preview" value=""><template shadowrootmode="open" shadowrootdelegatesfocus><!----><button id="button" class="icon-button  standard " aria-label="Reposition markdown preview">
        <!--?lit$764029187$--><md-focus-ring part="focus-ring" for="button" aria-hidden="true"><template shadowrootmode="open"><!----></template></md-focus-ring>
        <!--?lit$764029187$--><md-ripple aria-hidden="true"><template shadowrootmode="open"><!----><div class="surface   "></div></template></md-ripple>
        <!--?lit$764029187$--><span class="icon"><slot></slot></span>
        <!--?lit$764029187$-->
        <!--?lit$764029187$--><span class="touch"></span>
  </button></template>
        <!--?lit$764029187$--><md-icon aria-hidden="true"><template shadowrootmode="open"><!----><slot></slot></template><!--?lit$764029187$--><svg viewBox="0 0 24 24"><!--?lit$764029187$--><g id="markdown-preview-below">
  <rect width="20" height="18" x="2" y="2" rx="2" ry="2" style="fill:none;stroke:var(--colab-icon-color)"></rect>
  <line x1="4.5" y1="13" x2="19.5" y2="13" style="stroke:var(--colab-primary-text-color);stroke-dasharray:2"></line>
  <line x1="2.5" y1="4" x2="21.5" y2="4" style="stroke:var(--colab-icon-color);stroke-width:3px;"></line>
</g></svg></md-icon>
      </md-icon-button>
      <colab-tooltip-trigger aria-hidden="true" for="markdown-toolbar-preview-jb3pBSjucf3Q" id="markdown-toolbar-preview-jb3pBSjucf3Q-tooltip" message="Reposition markdown preview"><template shadowrootmode="open"><!----><!--?lit$764029187$--><!----><div><!--?lit$764029187$-->Reposition markdown preview</div><!----><!--?--></template></colab-tooltip-trigger><!----><!--?--></div></div>
      <div class="editor-container horizontal">
        <div class="editor-root"><div class="editor flex monaco" data-keybinding-context="9" data-mode-id="markdown" style="height: 67px; --vscode-editorCodeLens-lineHeight: 16px; --vscode-editorCodeLens-fontSize: 12px; --vscode-editorCodeLens-fontFeatureSettings: &quot;liga&quot; off, &quot;calt&quot; off; display: none;"><div class="monaco-editor no-user-select  showUnused showDeprecated vs" role="code" data-uri="inmemory://model/10" style="width: 641px; height: 67px;"><div data-mprt="3" class="overflow-guard" style="width: 641px; height: 67px; overflow: clip;"><div class="margin" role="presentation" aria-hidden="true" style="position: absolute; contain: strict; will-change: unset; top: 0px; height: 67px; width: 6px;"><div class="glyph-margin" style="left: 0px; width: 0px; height: 67px;"></div><div class="margin-view-zones" role="presentation" aria-hidden="true" style="position: absolute;"></div><div class="margin-view-overlays" role="presentation" aria-hidden="true" style="position: absolute; font-family: monospace, Consolas, &quot;Courier New&quot;, monospace; font-weight: normal; font-size: 14px; font-feature-settings: &quot;liga&quot; 0, &quot;calt&quot; 0; font-variation-settings: normal; line-height: 19px; letter-spacing: 0px; width: 6px; height: 67px;"><div style="position:absolute;top:0px;width:100%;height:19px;"></div><div style="position:absolute;top:19px;width:100%;height:19px;"></div><div style="position:absolute;top:38px;width:100%;height:19px;"><div class="current-line current-line-margin-both" style="width:6px; height:19px;"></div></div></div><div class="glyph-margin-widgets" style="position: absolute; top: 0px;"></div></div><div class="monaco-scrollable-element editor-scrollable vs" role="presentation" data-mprt="5" style="position: absolute; overflow: hidden; left: 6px; width: 635px; height: 67px;"><div class="lines-content monaco-editor-background" style="position: absolute; overflow: hidden; width: 1e+06px; height: 67px; contain: strict; will-change: unset; top: 0px; left: 0px;"><div class="view-overlays" role="presentation" aria-hidden="true" style="position: absolute; font-family: monospace, Consolas, &quot;Courier New&quot;, monospace; font-weight: normal; font-size: 14px; font-feature-settings: &quot;liga&quot; 0, &quot;calt&quot; 0; font-variation-settings: normal; line-height: 19px; letter-spacing: 0px; height: 0px; width: 635px;"><div style="position:absolute;top:0px;width:100%;height:19px;"></div><div style="position:absolute;top:19px;width:100%;height:19px;"></div><div style="position:absolute;top:38px;width:100%;height:19px;"><div class="current-line" style="width:635px; height:19px;"></div></div></div><div role="presentation" aria-hidden="true" class="view-rulers"><div class="view-ruler" style="width: 2px; height: 67px; left: 615.938px;"></div></div><div class="view-zones" role="presentation" aria-hidden="true" style="position: absolute;"></div><div class="view-lines monaco-mouse-cursor-text" role="presentation" aria-hidden="true" data-mprt="7" style="position: absolute; font-family: monospace, Consolas, &quot;Courier New&quot;, monospace; font-weight: normal; font-size: 14px; font-feature-settings: &quot;liga&quot; 0, &quot;calt&quot; 0; font-variation-settings: normal; line-height: 19px; letter-spacing: 0px; width: 635px; height: 67px;"><div style="top:0px;height:19px;" class="view-line"><span><span class="mtk1">Question&nbsp;7:&nbsp;Train&nbsp;a&nbsp;PCA&nbsp;model&nbsp;on&nbsp;the&nbsp;Wine&nbsp;dataset&nbsp;</span><span class="mtk1">and&nbsp;print&nbsp;the&nbsp;explained&nbsp;</span></span></div><div style="top:19px;height:19px;" class="view-line"><span><span class="mtk1">variance</span></span></div><div style="top:38px;height:19px;" class="view-line"><span><span class="mtk1">ratio&nbsp;of&nbsp;each&nbsp;principal&nbsp;component.</span></span></div></div><div data-mprt="1" class="contentWidgets" style="position: absolute; top: 0px;"><div class="lightBulbWidget codicon codicon-light-bulb" widgetid="LightBulbWidget" title="Show Code Actions (Ctrl+.)" style="position: absolute; display: none; visibility: hidden; max-width: 635px;"></div></div><div role="presentation" aria-hidden="true" class="cursors-layer cursor-line-style cursor-solid"><div class="cursor monaco-mouse-cursor-text " style="height: 19px; top: 38px; left: 261px; font-family: monospace, Consolas, &quot;Courier New&quot;, monospace; font-weight: normal; font-size: 14px; font-feature-settings: &quot;liga&quot; 0, &quot;calt&quot; 0; font-variation-settings: normal; line-height: 19px; letter-spacing: 0px; display: block; visibility: hidden; padding-left: 1px; width: 2px;"></div></div></div><div role="presentation" aria-hidden="true" class="invisible scrollbar horizontal" style="position: absolute; width: 621px; height: 10px; left: 0px; bottom: 0px;"><div class="slider" style="position: absolute; top: 0px; left: 0px; height: 10px; transform: translate3d(0px, 0px, 0px); contain: strict; will-change: unset; width: 621px;"></div></div><canvas class="decorationsOverviewRuler" aria-hidden="true" width="14" height="67" style="position: absolute; transform: translate3d(0px, 0px, 0px); contain: strict; top: 0px; right: 0px; width: 14px; height: 67px; will-change: unset; display: block;"></canvas><div role="presentation" aria-hidden="true" class="invisible scrollbar vertical" style="position: absolute; width: 14px; height: 67px; right: 0px; top: 0px;"><div class="slider" style="position: absolute; top: 0px; left: 0px; width: 14px; transform: translate3d(0px, 0px, 0px); contain: strict; will-change: unset; height: 67px;"></div></div></div><div role="presentation" aria-hidden="true" style="width: 641px;"></div><textarea data-mprt="6" class="inputarea monaco-mouse-cursor-text" wrap="on" autocorrect="off" autocapitalize="off" autocomplete="off" spellcheck="false" aria-label="Editor content;Press Alt+F1 for Accessibility Options." tabindex="0" role="textbox" aria-roledescription="editor" aria-multiline="true" aria-haspopup="false" aria-autocomplete="both" style="tab-size: 15.3984px; font-family: monospace, Consolas, &quot;Courier New&quot;, monospace; font-weight: normal; font-size: 14px; font-feature-settings: &quot;liga&quot; 0, &quot;calt&quot; 0; font-variation-settings: normal; line-height: 19px; letter-spacing: 0px; top: 38px; left: 6px; width: 616px; height: 1px;"></textarea><div style="position: absolute; top: 0px; left: 0px; width: 0px; height: 0px;" class="monaco-editor-background textAreaCover"></div><div data-mprt="4" class="overlayWidgets" style="width: 641px;"></div><div data-mprt="8" class="minimap slider-mouseover" role="presentation" aria-hidden="true" style="position: absolute; left: 0px; width: 0px; height: 67px;"><div class="minimap-shadow-hidden" style="height: 67px;"></div><canvas width="0" height="67" style="position: absolute; left: 0px; width: 0px; height: 67px;"></canvas><canvas class="minimap-decorations-layer" width="0" height="67" style="position: absolute; left: 0px; width: 0px; height: 67px;"></canvas><div class="minimap-slider" style="position: absolute; transform: translate3d(0px, 0px, 0px); contain: strict; width: 0px; will-change: unset;"><div class="minimap-slider-horizontal" style="position: absolute; width: 0px; height: 0px;"></div></div></div><div role="presentation" aria-hidden="true" class="blockDecorations-container"></div></div><div data-mprt="2" class="overflowingContentWidgets" style="display: none;"><div widgetid="editor.contrib.resizableContentHoverWidget" style="position: fixed; height: 10px; width: 10px; z-index: 50; display: none; visibility: hidden; max-width: 1360px;"><div class="monaco-sash vertical" style="left: 8px;"></div><div class="monaco-sash vertical" style="left: -2px;"></div><div class="monaco-sash orthogonal-edge-north horizontal" style="top: -2px;"><div class="orthogonal-drag-handle start"></div><div class="orthogonal-drag-handle end"></div></div><div class="monaco-sash orthogonal-edge-south horizontal" style="top: 8px;"><div class="orthogonal-drag-handle start"></div><div class="orthogonal-drag-handle end"></div></div><div class="monaco-hover hidden" tabindex="0" role="tooltip"><div class="monaco-scrollable-element " role="presentation" style="position: relative; overflow: hidden;"><div class="monaco-hover-content" style="overflow: hidden; font-size: 14px; line-height: 1.35714; max-width: 500px; max-height: 250px;"></div><div role="presentation" aria-hidden="true" class="invisible scrollbar horizontal" style="position: absolute;"><div class="slider" style="position: absolute; top: 0px; left: 0px; height: 10px; transform: translate3d(0px, 0px, 0px); contain: strict;"></div></div><div role="presentation" aria-hidden="true" class="invisible scrollbar vertical" style="position: absolute;"><div class="slider" style="position: absolute; top: 0px; left: 0px; width: 10px; transform: translate3d(0px, 0px, 0px); contain: strict;"></div></div><div class="shadow"></div><div class="shadow"></div><div class="shadow"></div></div></div></div></div><div class=".in-cell-overflowing"><div widgetid="editor.contrib.quickInputWidget" style="position: absolute; top: 0px; right: 50%;"></div></div></div></div></div>
        <div class="text-top-div">
          <div class="markdown"><span><p>Question 7: Train a PCA model on the Wine dataset and print the explained variance
ratio of each principal component.</p>
</span></div>
        </div>
      </div>

      <div class="section-header" style="display: none;">
        <colab-run-button><template shadowrootmode="open"><!----> <div class="cell-execution">
      <button id="run-button" aria-label="Run cell" aria-disabled="false">
        <!--?lit$764029187$--><span class="execution-count"><!--?lit$764029187$-->[ ]</span>
        <span aria-hidden="true" class="cell-execution-indicator"><!--?lit$764029187$-->
<svg xmlns="http://www.w3.org/2000/svg" viewBox="0 0 24 24">
  <!--?lit$764029187$-->
  <mask id="playSymbolMask">
    <rect width="100%" height="100%" fill="white"></rect>
    <polygon points="10,8 17,12 10,16" fill="black"></polygon>
  </mask>
  <circle cx="12" cy="12" r="7.8" mask="url(#playSymbolMask)" id="filledCircle"></circle>
</svg></span>
      </button>
      <!--?lit$764029187$-->
      <!--?lit$764029187$--><!--?-->
    </div></template></colab-run-button>
        <div class="section-header-container" title="click to expand">
          <md-icon aria-hidden="true"><template shadowrootmode="open"><!----><slot></slot></template>subdirectory_arrow_right</md-icon>
          <span>0 cells hidden</span>
        </div>
      </div></div></div><div class="add-cell">
      <div class="add-cell-buttons">
        <md-outlined-button class="add-code add-button" data-aria-label="Add code cell
Ctrl+M B" title="Add code cell
Ctrl+M B" value="" has-icon=""><template shadowrootmode="open" shadowrootdelegatesfocus><!---->
      <!--?lit$764029187$--><div class="outline"></div>
      <div class="background"></div>
      <md-focus-ring part="focus-ring" for="button" aria-hidden="true"><template shadowrootmode="open"><!----></template></md-focus-ring>
      <md-ripple part="ripple" for="button" aria-hidden="true"><template shadowrootmode="open"><!----><div class="surface"></div></template></md-ripple>
      <!--?lit$764029187$--><button id="button" class="button" aria-label="Add code cell
Ctrl+M B">
      <!--?lit$764029187$-->
      <span class="touch"></span>
      <!--?lit$764029187$--><slot name="icon"></slot>
      <span class="label"><slot></slot></span>
      <!--?lit$764029187$-->
    
    </button>
    </template>
          <md-icon slot="icon" aria-hidden="true"><template shadowrootmode="open"><!----><slot></slot></template>add</md-icon>
          <!--?lit$764029187$-->Code
        </md-outlined-button>
        <md-outlined-button class="add-text add-button" data-aria-label="Add text cell" title="Add text cell" value="" has-icon=""><template shadowrootmode="open" shadowrootdelegatesfocus><!---->
      <!--?lit$764029187$--><div class="outline"></div>
      <div class="background"></div>
      <md-focus-ring part="focus-ring" for="button" aria-hidden="true"><template shadowrootmode="open"><!----></template></md-focus-ring>
      <md-ripple part="ripple" for="button" aria-hidden="true"><template shadowrootmode="open"><!----><div class="surface   "></div></template></md-ripple>
      <!--?lit$764029187$--><button id="button" class="button" aria-label="Add text cell">
      <!--?lit$764029187$-->
      <span class="touch"></span>
      <!--?lit$764029187$--><slot name="icon"></slot>
      <span class="label"><slot></slot></span>
      <!--?lit$764029187$-->
    
    </button>
    </template>
          <md-icon slot="icon" aria-hidden="true"><template shadowrootmode="open"><!----><slot></slot></template>add</md-icon>
          <!--?lit$764029187$-->Text
        </md-outlined-button>
        <!--?lit$764029187$-->
        <!--?lit$764029187$-->
      </div><hr>
    </div></div><div class="cell code code-has-output" id="cell-4llvbBfyck7S" tabindex="-1" role="region" aria-label="Cell 7: Code cell: " style="opacity: 1;"><div class="cell-tag-editor sticky"></div><div class="agent-focus-label">
      <md-icon aria-hidden="true"><template shadowrootmode="open"><!----><slot></slot></template>spark</md-icon>
      <!--?lit$764029187$-->Gemini
    </div><div class="cell-toolbar sticky"></div><div class="main-content" elevation="0"><div class="cell-contents"><div class="cell-mask"></div><span class="imported-info-area"></span><div class="codecell-input-output">
      <div class="inputarea horizontal layout code">
        <div class="cell-gutter">
          <!-- Bounding range for vertical scrolling of icons -->
          <div class="cell-execution-container">
            <colab-run-button><template shadowrootmode="open"><!----> <div class="cell-execution">
      <button id="run-button" aria-describedby="run-button-tooltip" aria-label="Run cell" aria-disabled="false">
        <!--?lit$764029187$--><span class="execution-count"><!--?lit$764029187$-->[2]</span>
        <span aria-hidden="true" class="cell-execution-indicator"><!--?lit$764029187$-->
<svg xmlns="http://www.w3.org/2000/svg" viewBox="0 0 24 24">
  <!--?lit$764029187$-->
  <mask id="playSymbolMask">
    <rect width="100%" height="100%" fill="white"></rect>
    <polygon points="10,8 17,12 10,16" fill="black"></polygon>
  </mask>
  <circle cx="12" cy="12" r="7.8" mask="url(#playSymbolMask)" id="filledCircle"></circle>
</svg></span>
      </button>
      <!--?lit$764029187$--><colab-tooltip-trigger for="run-button" id="run-button-tooltip" aria-hidden="true" message="Run cell (Ctrl+Enter)
cell executed since last change

executed by kuldeep rajput
5:01 PM (6 minutes ago)
executed in 0.526s"><template shadowrootmode="open"><!----><!--?lit$764029187$--><!----><div><!--?lit$764029187$-->Run cell (Ctrl+Enter)</div><!----><!----><div><!--?lit$764029187$-->cell executed since last change</div><!----><!----><br><!----><!----><div><!--?lit$764029187$-->executed by kuldeep rajput</div><!----><!----><div><!--?lit$764029187$-->5:01 PM (6 minutes ago)</div><!----><!----><div><!--?lit$764029187$-->executed in 0.526s</div><!----><!--?--></template>
    </colab-tooltip-trigger>
      <!--?lit$764029187$--><div id="status" class="last-run">
      <md-icon aria-hidden="true"><template shadowrootmode="open"><!----><slot></slot></template><!--?lit$764029187$--><svg viewBox="0 0 24 24"><!--?lit$764029187$--><path d="M9 16.17L4.83 12l-1.42 1.41L9 19 21 7l-1.41-1.41z"></path></svg></md-icon>
      <div><!--?lit$764029187$-->0s</div>
    </div>
    </div></template></colab-run-button>
          </div>
        </div>
      <div class="editor flex lazy-editor" style=""><div class="editor flex monaco" data-keybinding-context="10" data-mode-id="notebook-python" style="height: 428px; --vscode-editorCodeLens-lineHeight: 16px; --vscode-editorCodeLens-fontSize: 12px; --vscode-editorCodeLens-fontFeatureSettings: &quot;liga&quot; off, &quot;calt&quot; off;"><div class="monaco-editor no-user-select  showUnused showDeprecated vs" role="code" data-uri="inmemory://model/11" style="width: 1234px; height: 428px;"><div data-mprt="3" class="overflow-guard" style="width: 1234px; height: 428px; overflow: clip;"><div class="margin" role="presentation" aria-hidden="true" style="position: absolute; contain: strict; will-change: unset; top: 0px; height: 428px; width: 6px;"><div class="glyph-margin" style="left: 0px; width: 0px; height: 428px;"></div><div class="margin-view-zones" role="presentation" aria-hidden="true" style="position: absolute;"></div><div class="margin-view-overlays" role="presentation" aria-hidden="true" style="position: absolute; font-family: monospace, Consolas, &quot;Courier New&quot;, monospace; font-weight: normal; font-size: 14px; font-feature-settings: &quot;liga&quot; 0, &quot;calt&quot; 0; font-variation-settings: normal; line-height: 19px; letter-spacing: 0px; width: 6px; height: 428px;"><div style="position:absolute;top:0px;width:100%;height:19px;"></div><div style="position:absolute;top:19px;width:100%;height:19px;"></div><div style="position:absolute;top:38px;width:100%;height:19px;"></div><div style="position:absolute;top:57px;width:100%;height:19px;"></div><div style="position:absolute;top:76px;width:100%;height:19px;"></div><div style="position:absolute;top:95px;width:100%;height:19px;"></div><div style="position:absolute;top:114px;width:100%;height:19px;"></div><div style="position:absolute;top:133px;width:100%;height:19px;"></div><div style="position:absolute;top:152px;width:100%;height:19px;"></div><div style="position:absolute;top:171px;width:100%;height:19px;"></div><div style="position:absolute;top:190px;width:100%;height:19px;"></div><div style="position:absolute;top:209px;width:100%;height:19px;"></div><div style="position:absolute;top:228px;width:100%;height:19px;"></div><div style="position:absolute;top:247px;width:100%;height:19px;"></div><div style="position:absolute;top:266px;width:100%;height:19px;"></div><div style="position:absolute;top:285px;width:100%;height:19px;"></div><div style="position:absolute;top:304px;width:100%;height:19px;"></div><div style="position:absolute;top:323px;width:100%;height:19px;"></div><div style="position:absolute;top:342px;width:100%;height:19px;"></div><div style="position:absolute;top:361px;width:100%;height:19px;"></div><div style="position:absolute;top:380px;width:100%;height:19px;"></div><div style="position:absolute;top:399px;width:100%;height:19px;"><div class="current-line current-line-margin-both" style="width:6px; height:19px;"></div></div></div><div class="glyph-margin-widgets" style="position: absolute; top: 0px;"></div></div><div class="monaco-scrollable-element editor-scrollable vs" role="presentation" data-mprt="5" style="position: absolute; overflow: hidden; left: 6px; width: 1228px; height: 428px;"><div class="lines-content monaco-editor-background" style="position: absolute; overflow: hidden; width: 1e+06px; height: 428px; contain: strict; will-change: unset; top: 0px; left: 0px;"><div class="view-overlays" role="presentation" aria-hidden="true" style="position: absolute; font-family: monospace, Consolas, &quot;Courier New&quot;, monospace; font-weight: normal; font-size: 14px; font-feature-settings: &quot;liga&quot; 0, &quot;calt&quot; 0; font-variation-settings: normal; line-height: 19px; letter-spacing: 0px; height: 0px; width: 1228px;"><div style="position:absolute;top:0px;width:100%;height:19px;"></div><div style="position:absolute;top:19px;width:100%;height:19px;"></div><div style="position:absolute;top:38px;width:100%;height:19px;"></div><div style="position:absolute;top:57px;width:100%;height:19px;"></div><div style="position:absolute;top:76px;width:100%;height:19px;"></div><div style="position:absolute;top:95px;width:100%;height:19px;"></div><div style="position:absolute;top:114px;width:100%;height:19px;"></div><div style="position:absolute;top:133px;width:100%;height:19px;"></div><div style="position:absolute;top:152px;width:100%;height:19px;"></div><div style="position:absolute;top:171px;width:100%;height:19px;"></div><div style="position:absolute;top:190px;width:100%;height:19px;"></div><div style="position:absolute;top:209px;width:100%;height:19px;"></div><div style="position:absolute;top:228px;width:100%;height:19px;"></div><div style="position:absolute;top:247px;width:100%;height:19px;"></div><div style="position:absolute;top:266px;width:100%;height:19px;"></div><div style="position:absolute;top:285px;width:100%;height:19px;"></div><div style="position:absolute;top:304px;width:100%;height:19px;"></div><div style="position:absolute;top:323px;width:100%;height:19px;"></div><div style="position:absolute;top:342px;width:100%;height:19px;"></div><div style="position:absolute;top:361px;width:100%;height:19px;"></div><div style="position:absolute;top:380px;width:100%;height:19px;"></div><div style="position:absolute;top:399px;width:100%;height:19px;"><div class="current-line" style="width:1228px; height:19px;"></div></div></div><div role="presentation" aria-hidden="true" class="view-rulers"></div><div class="view-zones" role="presentation" aria-hidden="true" style="position: absolute;"></div><div class="view-lines monaco-mouse-cursor-text" role="presentation" aria-hidden="true" data-mprt="7" style="position: absolute; font-family: monospace, Consolas, &quot;Courier New&quot;, monospace; font-weight: normal; font-size: 14px; font-feature-settings: &quot;liga&quot; 0, &quot;calt&quot; 0; font-variation-settings: normal; line-height: 19px; letter-spacing: 0px; width: 1228px; height: 428px;"><div style="top:0px;height:19px;" class="view-line"><span><span class="mtk8">#&nbsp;Import&nbsp;libraries</span></span></div><div style="top:19px;height:19px;" class="view-line"><span><span class="mtk19">from</span><span class="mtk1">&nbsp;sklearn.datasets&nbsp;</span><span class="mtk19">import</span><span class="mtk1">&nbsp;load_wine</span></span></div><div style="top:38px;height:19px;" class="view-line"><span><span class="mtk19">from</span><span class="mtk1">&nbsp;sklearn.preprocessing&nbsp;</span><span class="mtk19">import</span><span class="mtk1">&nbsp;StandardScaler</span></span></div><div style="top:57px;height:19px;" class="view-line"><span><span class="mtk19">from</span><span class="mtk1">&nbsp;sklearn.decomposition&nbsp;</span><span class="mtk19">import</span><span class="mtk1">&nbsp;PCA</span></span></div><div style="top:76px;height:19px;" class="view-line"><span><span></span></span></div><div style="top:95px;height:19px;" class="view-line"><span><span class="mtk8">#&nbsp;Load&nbsp;dataset</span></span></div><div style="top:114px;height:19px;" class="view-line"><span><span class="mtk1">wine&nbsp;=&nbsp;load_wine</span><span class="mtk1 bracket-highlighting-0">(</span><span class="mtk1 bracket-highlighting-0">)</span></span></div><div style="top:133px;height:19px;" class="view-line"><span><span class="mtk1">X,&nbsp;y&nbsp;=&nbsp;wine.data,&nbsp;wine.target</span></span></div><div style="top:152px;height:19px;" class="view-line"><span><span></span></span></div><div style="top:171px;height:19px;" class="view-line"><span><span class="mtk8">#&nbsp;Standardize&nbsp;features&nbsp;(important&nbsp;before&nbsp;PCA)</span></span></div><div style="top:190px;height:19px;" class="view-line"><span><span class="mtk1">scaler&nbsp;=&nbsp;StandardScaler</span><span class="mtk1 bracket-highlighting-0">(</span><span class="mtk1 bracket-highlighting-0">)</span></span></div><div style="top:209px;height:19px;" class="view-line"><span><span class="mtk1">X_scaled&nbsp;=&nbsp;scaler.fit_transform</span><span class="mtk1 bracket-highlighting-0">(</span><span class="mtk1">X</span><span class="mtk1 bracket-highlighting-0">)</span></span></div><div style="top:228px;height:19px;" class="view-line"><span><span></span></span></div><div style="top:247px;height:19px;" class="view-line"><span><span class="mtk8">#&nbsp;Apply&nbsp;PCA</span></span></div><div style="top:266px;height:19px;" class="view-line"><span><span class="mtk1">pca&nbsp;=&nbsp;PCA</span><span class="mtk1 bracket-highlighting-0">(</span><span class="mtk1 bracket-highlighting-0">)</span></span></div><div style="top:285px;height:19px;" class="view-line"><span><span class="mtk1">pca.fit</span><span class="mtk1 bracket-highlighting-0">(</span><span class="mtk1">X_scaled</span><span class="mtk1 bracket-highlighting-0">)</span></span></div><div style="top:304px;height:19px;" class="view-line"><span><span></span></span></div><div style="top:323px;height:19px;" class="view-line"><span><span class="mtk8">#&nbsp;Print&nbsp;explained&nbsp;variance&nbsp;ratio</span></span></div><div style="top:342px;height:19px;" class="view-line"><span><span class="mtk15">print</span><span class="mtk1 bracket-highlighting-0">(</span><span class="mtk21">"Explained&nbsp;Variance&nbsp;Ratio&nbsp;of&nbsp;each&nbsp;Principal&nbsp;Compon</span><span class="mtk21">ent:"</span><span class="mtk1 bracket-highlighting-0">)</span></span></div><div style="top:361px;height:19px;" class="view-line"><span><span class="mtk19">for</span><span class="mtk1">&nbsp;i,&nbsp;ratio&nbsp;</span><span class="mtk6">in</span><span class="mtk1">&nbsp;</span><span class="mtk15">enumerate</span><span class="mtk1 bracket-highlighting-0">(</span><span class="mtk1">pca.explained_variance_ratio_</span><span class="mtk1 bracket-highlighting-0">)</span><span class="mtk1">:</span></span></div><div style="top:380px;height:19px;" class="view-line"><span><span class="mtk1">&nbsp;&nbsp;&nbsp;&nbsp;</span><span class="mtk15">print</span><span class="mtk1 bracket-highlighting-0">(</span><span class="mtk6">f</span><span class="mtk21">"PC</span><span class="mtk1 bracket-highlighting-1">{</span><span class="mtk1">i+</span><span class="mtk12">1</span><span class="mtk1 bracket-highlighting-1">}</span><span class="mtk21">:&nbsp;</span><span class="mtk1 bracket-highlighting-1">{</span><span class="mtk1">ratio</span><span class="mtk12">:.4f</span><span class="mtk1 bracket-highlighting-1">}</span><span class="mtk21">"</span><span class="mtk1 bracket-highlighting-0">)</span></span></div><div style="top:399px;height:19px;" class="view-line"><span><span></span></span></div></div><div data-mprt="1" class="contentWidgets" style="position: absolute; top: 0px;"></div><div role="presentation" aria-hidden="true" class="cursors-layer cursor-line-style cursor-solid"><div class="cursor monaco-mouse-cursor-text " style="height: 19px; top: 399px; left: 0px; font-family: monospace, Consolas, &quot;Courier New&quot;, monospace; font-weight: normal; font-size: 14px; font-feature-settings: &quot;liga&quot; 0, &quot;calt&quot; 0; font-variation-settings: normal; line-height: 19px; letter-spacing: 0px; display: block; visibility: hidden; padding-left: 0px; width: 2px;"></div></div></div><div role="presentation" aria-hidden="true" class="invisible scrollbar horizontal" style="position: absolute; width: 1214px; height: 10px; left: 0px; bottom: 0px;"><div class="slider" style="position: absolute; top: 0px; left: 0px; height: 10px; transform: translate3d(0px, 0px, 0px); contain: strict; will-change: unset; width: 1214px;"></div></div><canvas class="decorationsOverviewRuler" aria-hidden="true" width="14" height="428" style="position: absolute; transform: translate3d(0px, 0px, 0px); contain: strict; top: 0px; right: 0px; width: 14px; height: 428px; will-change: unset; display: block;"></canvas><div role="presentation" aria-hidden="true" class="invisible scrollbar vertical" style="position: absolute; width: 14px; height: 428px; right: 0px; top: 0px;"><div class="slider" style="position: absolute; top: 0px; left: 0px; width: 14px; transform: translate3d(0px, 0px, 0px); contain: strict; will-change: unset; height: 428px;"></div></div></div><div role="presentation" aria-hidden="true" style="width: 1234px;"></div><textarea data-mprt="6" class="inputarea monaco-mouse-cursor-text" wrap="on" autocorrect="off" autocapitalize="off" autocomplete="off" spellcheck="false" aria-label="Editor content;Press Alt+F1 for Accessibility Options." tabindex="0" role="textbox" aria-roledescription="editor" aria-multiline="true" aria-haspopup="false" aria-autocomplete="both" style="tab-size: 15.3984px; font-family: monospace, Consolas, &quot;Courier New&quot;, monospace; font-weight: normal; font-size: 14px; font-feature-settings: &quot;liga&quot; 0, &quot;calt&quot; 0; font-variation-settings: normal; line-height: 19px; letter-spacing: 0px; top: 399px; left: 6px; width: 76992px; height: 1px;"></textarea><div class="monaco-editor-background textAreaCover" style="position: absolute; top: 0px; left: 0px; width: 0px; height: 0px;"></div><div data-mprt="4" class="overlayWidgets" style="width: 1234px;"><div class="monaco-hover hidden" tabindex="0" role="tooltip" widgetid="editor.contrib.modesGlyphHoverWidget" style="position: absolute;"><div class="monaco-scrollable-element " role="presentation" style="position: relative; overflow: hidden;"><div class="monaco-hover-content" style="overflow: hidden;"></div><div role="presentation" aria-hidden="true" class="invisible scrollbar horizontal" style="position: absolute;"><div class="slider" style="position: absolute; top: 0px; left: 0px; height: 10px; transform: translate3d(0px, 0px, 0px); contain: strict;"></div></div><div role="presentation" aria-hidden="true" class="invisible scrollbar vertical" style="position: absolute;"><div class="slider" style="position: absolute; top: 0px; left: 0px; width: 10px; transform: translate3d(0px, 0px, 0px); contain: strict;"></div></div><div class="shadow"></div><div class="shadow"></div><div class="shadow"></div></div></div></div><div data-mprt="8" class="minimap slider-mouseover" role="presentation" aria-hidden="true" style="position: absolute; left: 0px; width: 0px; height: 428px;"><div class="minimap-shadow-hidden" style="height: 428px;"></div><canvas width="0" height="428" style="position: absolute; left: 0px; width: 0px; height: 428px;"></canvas><canvas class="minimap-decorations-layer" width="0" height="428" style="position: absolute; left: 0px; width: 0px; height: 428px;"></canvas><div class="minimap-slider" style="position: absolute; transform: translate3d(0px, 0px, 0px); contain: strict; width: 0px; will-change: unset;"><div class="minimap-slider-horizontal" style="position: absolute; width: 0px; height: 0px;"></div></div></div><div role="presentation" aria-hidden="true" class="blockDecorations-container"></div></div><div data-mprt="2" class="overflowingContentWidgets" style="display: none;"><div widgetid="editor.contrib.resizableContentHoverWidget" style="position: fixed; height: 10px; width: 10px; z-index: 50; display: none; visibility: hidden; max-width: 1360px; top: 194.844px; left: 194px;"><div class="monaco-sash vertical" style="left: 8px;"></div><div class="monaco-sash vertical disabled" style="left: -2px;"></div><div class="monaco-sash orthogonal-edge-north horizontal" style="top: -2px;"><div class="orthogonal-drag-handle end"></div></div><div class="monaco-sash orthogonal-edge-south horizontal disabled" style="top: 8px;"><div class="orthogonal-drag-handle end"></div></div><div class="monaco-hover hidden" tabindex="0" role="tooltip" style="width: 0px; height: 0px;"><div class="monaco-scrollable-element " role="presentation" style="position: relative; overflow: hidden;"><div class="monaco-hover-content" style="overflow: hidden; font-size: 14px; line-height: 1.35714; max-width: 814.44px; max-height: 250px; width: 0px; height: 0px;"><div class="hover-row markdown-hover"><div class="hover-contents"><div class="rendered-markdown"><p>Loading...</p></div></div></div></div><div role="presentation" aria-hidden="true" class="invisible scrollbar horizontal" style="position: absolute;"><div class="slider" style="position: absolute; top: 0px; left: 0px; height: 10px; transform: translate3d(0px, 0px, 0px); contain: strict;"></div></div><div role="presentation" aria-hidden="true" class="invisible scrollbar vertical" style="position: absolute;"><div class="slider" style="position: absolute; top: 0px; left: 0px; width: 10px; transform: translate3d(0px, 0px, 0px); contain: strict;"></div></div><div class="shadow"></div><div class="shadow"></div><div class="shadow"></div></div></div></div></div><div class=".in-cell-overflowing"><div widgetid="editor.contrib.quickInputWidget" style="position: absolute; top: 0px; right: 50%;"></div></div></div></div></div><colab-form class="formview vertical layout flex"><div class="widget-area vertical layout"></div></colab-form></div>
    <div class="output" aria-label="Cell 7 output" role="region"><!----> <div class="output-header"> </div>
        <div class="output-content">
          <div class="output-info"><colab-output-info><template shadowrootmode="open"><!----><md-icon-button data-aria-expanded="false" data-aria-haspopup="menu" aria-describedby="button-output-actions-tooltip" data-aria-label="Code cell output actions" id="button-output-actions" value=""><template shadowrootmode="open" shadowrootdelegatesfocus><!----><button id="button" class="icon-button  standard " aria-label="Code cell output actions" aria-haspopup="menu" aria-expanded="false">
        <!--?lit$764029187$--><md-focus-ring part="focus-ring" for="button" aria-hidden="true"><template shadowrootmode="open"><!----></template></md-focus-ring>
        <!--?lit$764029187$--><md-ripple aria-hidden="true"><template shadowrootmode="open"><!----><div class="surface   "></div></template></md-ripple>
        <!--?lit$764029187$--><span class="icon"><slot></slot></span>
        <!--?lit$764029187$-->
        <!--?lit$764029187$--><span class="touch"></span>
  </button></template>
        <md-icon aria-hidden="true"><template shadowrootmode="open"><!----><slot></slot></template><!--?lit$764029187$--><svg viewBox="0 0 24 24"><!--?lit$764029187$--><path d="m15.9 3.07c-4.32 0.0742-8.64-0.0355-13 0.0568-1.37 0.307-1.74 2.1-1.41 3.26 0.469 0.606 1.86 0.384 1.66-0.525 0.0448-0.329-0.183-0.93 0.354-0.766h13.3v1.53h1.71c0.0709-1.13 0.141-2.62-0.968-3.3-0.511-0.264-1.11-0.252-1.67-0.259zm2.94 6.84v4.87c1.62-1.62 3.24-3.24 4.87-4.87h-4.87zm0 0h-1.71v3.43l1.57 1.57c0.32-1.65 0.0556-3.34 0.135-5zm-1.71 3.43v-3.43h-3.43c1.14 1.14 2.29 2.29 3.43 3.43zm1.4 4.27h-1.71v1.48h-13.6v-1.48h-1.71c-0.0473 1.15-0.16 2.72 1.09 3.29 1.47 0.506 3.02 0.0265 4.53 0.192 3.34-0.0051 6.68 0.0336 10-0.0245 1.49-0.366 1.56-2.22 1.42-3.45zm-10.1-1.12c-0.398-0.483-0.796-0.967-1.19-1.45 0.59-0.683 1.18-1.37 1.77-2.05h-8.67v-2h8.67c-0.59-0.683-1.18-1.37-1.77-2.05 0.398-0.483 0.796-0.967 1.19-1.45 1.28 1.5 2.56 3 3.84 4.5-1.28 1.5-2.56 3-3.84 4.5z"></path></svg></md-icon>
      </md-icon-button>
      <colab-tooltip-trigger aria-hidden="true" id="button-output-actions-tooltip" for="button-output-actions" message="Code cell output actions"><template shadowrootmode="open"><!----><!--?lit$764029187$--><!----><div><!--?lit$764029187$-->Code cell output actions</div><!----><!--?--></template></colab-tooltip-trigger></template></colab-output-info></div>
          <div class="output-iframe-container">
            <div class="output-iframe-sizer" style="min-height: 0px;"> <div><div><colab-static-output-renderer tabindex="0" role="group"><div><div class="stream output-id-1 output_text"><pre>Explained Variance Ratio of each Principal Component:
PC1: 0.3620
PC2: 0.1921
PC3: 0.1112
PC4: 0.0707
PC5: 0.0656
PC6: 0.0494
PC7: 0.0424
PC8: 0.0268
PC9: 0.0222
PC10: 0.0193
PC11: 0.0174
PC12: 0.0130
PC13: 0.0080
</pre></div></div><div></div></colab-static-output-renderer></div></div></div>
          </div>
        </div></div></div><colab-cell-next-steps><template shadowrootmode="open"><!----></template></colab-cell-next-steps></div></div><div class="add-cell">
      <div class="add-cell-buttons">
        <md-outlined-button class="add-code add-button" data-aria-label="Add code cell
Ctrl+M B" title="Add code cell
Ctrl+M B" value="" has-icon=""><template shadowrootmode="open" shadowrootdelegatesfocus><!---->
      <!--?lit$764029187$--><div class="outline"></div>
      <div class="background"></div>
      <md-focus-ring part="focus-ring" for="button" aria-hidden="true"><template shadowrootmode="open"><!----></template></md-focus-ring>
      <md-ripple part="ripple" for="button" aria-hidden="true"><template shadowrootmode="open"><!----><div class="surface"></div></template></md-ripple>
      <!--?lit$764029187$--><button id="button" class="button" aria-label="Add code cell
Ctrl+M B">
      <!--?lit$764029187$-->
      <span class="touch"></span>
      <!--?lit$764029187$--><slot name="icon"></slot>
      <span class="label"><slot></slot></span>
      <!--?lit$764029187$-->
    
    </button>
    </template>
          <md-icon slot="icon" aria-hidden="true"><template shadowrootmode="open"><!----><slot></slot></template>add</md-icon>
          <!--?lit$764029187$-->Code
        </md-outlined-button>
        <md-outlined-button class="add-text add-button" data-aria-label="Add text cell" title="Add text cell" value="" has-icon=""><template shadowrootmode="open" shadowrootdelegatesfocus><!---->
      <!--?lit$764029187$--><div class="outline"></div>
      <div class="background"></div>
      <md-focus-ring part="focus-ring" for="button" aria-hidden="true"><template shadowrootmode="open"><!----></template></md-focus-ring>
      <md-ripple part="ripple" for="button" aria-hidden="true"><template shadowrootmode="open"><!----><div class="surface"></div></template></md-ripple>
      <!--?lit$764029187$--><button id="button" class="button" aria-label="Add text cell">
      <!--?lit$764029187$-->
      <span class="touch"></span>
      <!--?lit$764029187$--><slot name="icon"></slot>
      <span class="label"><slot></slot></span>
      <!--?lit$764029187$-->
    
    </button>
    </template>
          <md-icon slot="icon" aria-hidden="true"><template shadowrootmode="open"><!----><slot></slot></template>add</md-icon>
          <!--?lit$764029187$-->Text
        </md-outlined-button>
        <!--?lit$764029187$-->
        <!--?lit$764029187$-->
      </div><hr>
    </div></div><div class="cell text" id="cell-Am9JgzoVcwzB" tabindex="-1" role="region" aria-label="Cell 8: Text cell: " style="opacity: 1;"><div class="cell-tag-editor sticky"></div><div class="agent-focus-label">
      <md-icon aria-hidden="true"><template shadowrootmode="open"><!----><slot></slot></template>spark</md-icon>
      <!--?lit$764029187$-->Gemini
    </div><div class="cell-toolbar sticky"></div><div class="main-content" elevation="0"><div class="cell-contents"><div class="cell-mask"></div><span class="imported-info-area"></span><!----> <div class="toolbar-root"><div class="markdown-toolbar"><!----><!--?lit$764029187$--><!----><md-icon-button id="markdown-toolbar-header-Am9JgzoVcwzB" class="markdown-toolbar-header" aria-describedby="markdown-toolbar-header-Am9JgzoVcwzB-tooltip" data-aria-label="Toggle heading" value=""><template shadowrootmode="open" shadowrootdelegatesfocus><!----><button id="button" class="icon-button  standard " aria-label="Toggle heading">
        <!--?lit$764029187$--><md-focus-ring part="focus-ring" for="button" aria-hidden="true"><template shadowrootmode="open"><!----></template></md-focus-ring>
        <!--?lit$764029187$--><md-ripple aria-hidden="true"><template shadowrootmode="open"><!----><div class="surface   "></div></template></md-ripple>
        <!--?lit$764029187$--><span class="icon"><slot></slot></span>
        <!--?lit$764029187$-->
        <!--?lit$764029187$--><span class="touch"></span>
  </button></template>
        <!--?lit$764029187$--><md-icon aria-hidden="true"><template shadowrootmode="open"><!----><slot></slot></template><!--?lit$764029187$-->format_size</md-icon>
      </md-icon-button>
      <colab-tooltip-trigger aria-hidden="true" for="markdown-toolbar-header-Am9JgzoVcwzB" id="markdown-toolbar-header-Am9JgzoVcwzB-tooltip" message="Toggle heading"><template shadowrootmode="open"><!----><!--?lit$764029187$--><!----><div><!--?lit$764029187$-->Toggle heading</div><!----><!--?--></template></colab-tooltip-trigger><!----><!----><md-icon-button id="markdown-toolbar-bold-Am9JgzoVcwzB" class="markdown-toolbar-bold" aria-describedby="markdown-toolbar-bold-Am9JgzoVcwzB-tooltip" data-aria-label="Bold" value=""><template shadowrootmode="open" shadowrootdelegatesfocus><!----><button id="button" class="icon-button  standard " aria-label="Bold">
        <!--?lit$764029187$--><md-focus-ring part="focus-ring" for="button" aria-hidden="true"><template shadowrootmode="open"><!----></template></md-focus-ring>
        <!--?lit$764029187$--><md-ripple aria-hidden="true"><template shadowrootmode="open"><!----><div class="surface   "></div></template></md-ripple>
        <!--?lit$764029187$--><span class="icon"><slot></slot></span>
        <!--?lit$764029187$-->
        <!--?lit$764029187$--><span class="touch"></span>
  </button></template>
        <!--?lit$764029187$--><md-icon aria-hidden="true"><template shadowrootmode="open"><!----><slot></slot></template><!--?lit$764029187$-->format_bold</md-icon>
      </md-icon-button>
      <colab-tooltip-trigger aria-hidden="true" for="markdown-toolbar-bold-Am9JgzoVcwzB" id="markdown-toolbar-bold-Am9JgzoVcwzB-tooltip" message="Bold"><template shadowrootmode="open"><!----><!--?lit$764029187$--><!----><div><!--?lit$764029187$-->Bold</div><!----><!--?--></template></colab-tooltip-trigger><!----><!----><md-icon-button id="markdown-toolbar-italic-Am9JgzoVcwzB" class="markdown-toolbar-italic" aria-describedby="markdown-toolbar-italic-Am9JgzoVcwzB-tooltip" data-aria-label="Italicize" value=""><template shadowrootmode="open" shadowrootdelegatesfocus><!----><button id="button" class="icon-button  standard " aria-label="Italicize">
        <!--?lit$764029187$--><md-focus-ring part="focus-ring" for="button" aria-hidden="true"><template shadowrootmode="open"><!----></template></md-focus-ring>
        <!--?lit$764029187$--><md-ripple aria-hidden="true"><template shadowrootmode="open"><!----><div class="surface   "></div></template></md-ripple>
        <!--?lit$764029187$--><span class="icon"><slot></slot></span>
        <!--?lit$764029187$-->
        <!--?lit$764029187$--><span class="touch"></span>
  </button></template>
        <!--?lit$764029187$--><md-icon aria-hidden="true"><template shadowrootmode="open"><!----><slot></slot></template><!--?lit$764029187$-->format_italic</md-icon>
      </md-icon-button>
      <colab-tooltip-trigger aria-hidden="true" for="markdown-toolbar-italic-Am9JgzoVcwzB" id="markdown-toolbar-italic-Am9JgzoVcwzB-tooltip" message="Italicize"><template shadowrootmode="open"><!----><!--?lit$764029187$--><!----><div><!--?lit$764029187$-->Italicize</div><!----><!--?--></template></colab-tooltip-trigger><!----><!----><md-icon-button id="markdown-toolbar-code-Am9JgzoVcwzB" class="markdown-toolbar-code" aria-describedby="markdown-toolbar-code-Am9JgzoVcwzB-tooltip" data-aria-label="Format as code" value=""><template shadowrootmode="open" shadowrootdelegatesfocus><!----><button id="button" class="icon-button  standard " aria-label="Format as code">
        <!--?lit$764029187$--><md-focus-ring part="focus-ring" for="button" aria-hidden="true"><template shadowrootmode="open"><!----></template></md-focus-ring>
        <!--?lit$764029187$--><md-ripple aria-hidden="true"><template shadowrootmode="open"><!----><div class="surface   "></div></template></md-ripple>
        <!--?lit$764029187$--><span class="icon"><slot></slot></span>
        <!--?lit$764029187$-->
        <!--?lit$764029187$--><span class="touch"></span>
  </button></template>
        <!--?lit$764029187$--><md-icon aria-hidden="true"><template shadowrootmode="open"><!----><slot></slot></template><!--?lit$764029187$-->code</md-icon>
      </md-icon-button>
      <colab-tooltip-trigger aria-hidden="true" for="markdown-toolbar-code-Am9JgzoVcwzB" id="markdown-toolbar-code-Am9JgzoVcwzB-tooltip" message="Format as code"><template shadowrootmode="open"><!----><!--?lit$764029187$--><!----><div><!--?lit$764029187$-->Format as code</div><!----><!--?--></template></colab-tooltip-trigger><!----><!----><md-icon-button id="markdown-toolbar-link-Am9JgzoVcwzB" class="markdown-toolbar-link" aria-describedby="markdown-toolbar-link-Am9JgzoVcwzB-tooltip" data-aria-label="Insert link" value=""><template shadowrootmode="open" shadowrootdelegatesfocus><!----><button id="button" class="icon-button  standard " aria-label="Insert link">
        <!--?lit$764029187$--><md-focus-ring part="focus-ring" for="button" aria-hidden="true"><template shadowrootmode="open"><!----></template></md-focus-ring>
        <!--?lit$764029187$--><md-ripple aria-hidden="true"><template shadowrootmode="open"><!----><div class="surface   "></div></template></md-ripple>
        <!--?lit$764029187$--><span class="icon"><slot></slot></span>
        <!--?lit$764029187$-->
        <!--?lit$764029187$--><span class="touch"></span>
  </button></template>
        <!--?lit$764029187$--><md-icon aria-hidden="true"><template shadowrootmode="open"><!----><slot></slot></template><!--?lit$764029187$-->link</md-icon>
      </md-icon-button>
      <colab-tooltip-trigger aria-hidden="true" for="markdown-toolbar-link-Am9JgzoVcwzB" id="markdown-toolbar-link-Am9JgzoVcwzB-tooltip" message="Insert link"><template shadowrootmode="open"><!----><!--?lit$764029187$--><!----><div><!--?lit$764029187$-->Insert link</div><!----><!--?--></template></colab-tooltip-trigger><!----><!----><label for="markdown-image-input-Am9JgzoVcwzB" class="colab-icon markdown-toolbar-insert-image">
        <md-ripple aria-hidden="true"><template shadowrootmode="open"><!----><div class="surface   "></div></template></md-ripple>
        <span role="button" tabindex="0" id="markdown-toolbar-insert-image-Am9JgzoVcwzB" aria-describedby="markdown-toolbar-insert-image-Am9JgzoVcwzB-tooltip" aria-label="Insert image">
          <md-focus-ring aria-hidden="true"><template shadowrootmode="open"><!----></template></md-focus-ring>
          <md-icon aria-hidden="true"><template shadowrootmode="open"><!----><slot></slot></template>image</md-icon>
        </span>
        <colab-tooltip-trigger aria-hidden="true" for="markdown-toolbar-insert-image-Am9JgzoVcwzB" id="markdown-toolbar-insert-image-Am9JgzoVcwzB-tooltip" message="Insert image"><template shadowrootmode="open"><!----><!--?lit$764029187$--><!----><div><!--?lit$764029187$-->Insert image</div><!----><!--?--></template></colab-tooltip-trigger>
      </label>
      <input class="markdown-image-input" type="file" multiple="" accept="image/*" id="markdown-image-input-Am9JgzoVcwzB"><!----><!----><md-icon-button id="markdown-toolbar-blockquote-Am9JgzoVcwzB" class="markdown-toolbar-blockquote" aria-describedby="markdown-toolbar-blockquote-Am9JgzoVcwzB-tooltip" data-aria-label="Add blockquote" value=""><template shadowrootmode="open" shadowrootdelegatesfocus><!----><button id="button" class="icon-button  standard " aria-label="Add blockquote">
        <!--?lit$764029187$--><md-focus-ring part="focus-ring" for="button" aria-hidden="true"><template shadowrootmode="open"><!----></template></md-focus-ring>
        <!--?lit$764029187$--><md-ripple aria-hidden="true"><template shadowrootmode="open"><!----><div class="surface   "></div></template></md-ripple>
        <!--?lit$764029187$--><span class="icon"><slot></slot></span>
        <!--?lit$764029187$-->
        <!--?lit$764029187$--><span class="touch"></span>
  </button></template>
        <!--?lit$764029187$--><md-icon aria-hidden="true"><template shadowrootmode="open"><!----><slot></slot></template><!--?lit$764029187$-->format_quote</md-icon>
      </md-icon-button>
      <colab-tooltip-trigger aria-hidden="true" for="markdown-toolbar-blockquote-Am9JgzoVcwzB" id="markdown-toolbar-blockquote-Am9JgzoVcwzB-tooltip" message="Add blockquote"><template shadowrootmode="open"><!----><!--?lit$764029187$--><!----><div><!--?lit$764029187$-->Add blockquote</div><!----><!--?--></template></colab-tooltip-trigger><!----><!----><md-icon-button id="markdown-toolbar-ol-Am9JgzoVcwzB" class="markdown-toolbar-ol" aria-describedby="markdown-toolbar-ol-Am9JgzoVcwzB-tooltip" data-aria-label="Add numbered list" value=""><template shadowrootmode="open" shadowrootdelegatesfocus><!----><button id="button" class="icon-button  standard " aria-label="Add numbered list">
        <!--?lit$764029187$--><md-focus-ring part="focus-ring" for="button" aria-hidden="true"><template shadowrootmode="open"><!----></template></md-focus-ring>
        <!--?lit$764029187$--><md-ripple aria-hidden="true"><template shadowrootmode="open"><!----><div class="surface   "></div></template></md-ripple>
        <!--?lit$764029187$--><span class="icon"><slot></slot></span>
        <!--?lit$764029187$-->
        <!--?lit$764029187$--><span class="touch"></span>
  </button></template>
        <!--?lit$764029187$--><md-icon aria-hidden="true"><template shadowrootmode="open"><!----><slot></slot></template><!--?lit$764029187$-->format_list_numbered</md-icon>
      </md-icon-button>
      <colab-tooltip-trigger aria-hidden="true" for="markdown-toolbar-ol-Am9JgzoVcwzB" id="markdown-toolbar-ol-Am9JgzoVcwzB-tooltip" message="Add numbered list"><template shadowrootmode="open"><!----><!--?lit$764029187$--><!----><div><!--?lit$764029187$-->Add numbered list</div><!----><!--?--></template></colab-tooltip-trigger><!----><!----><md-icon-button id="markdown-toolbar-ul-Am9JgzoVcwzB" class="markdown-toolbar-ul" aria-describedby="markdown-toolbar-ul-Am9JgzoVcwzB-tooltip" data-aria-label="Add bulleted list" value=""><template shadowrootmode="open" shadowrootdelegatesfocus><!----><button id="button" class="icon-button  standard " aria-label="Add bulleted list">
        <!--?lit$764029187$--><md-focus-ring part="focus-ring" for="button" aria-hidden="true"><template shadowrootmode="open"><!----></template></md-focus-ring>
        <!--?lit$764029187$--><md-ripple aria-hidden="true"><template shadowrootmode="open"><!----><div class="surface   "></div></template></md-ripple>
        <!--?lit$764029187$--><span class="icon"><slot></slot></span>
        <!--?lit$764029187$-->
        <!--?lit$764029187$--><span class="touch"></span>
  </button></template>
        <!--?lit$764029187$--><md-icon aria-hidden="true"><template shadowrootmode="open"><!----><slot></slot></template><!--?lit$764029187$-->format_list_bulleted</md-icon>
      </md-icon-button>
      <colab-tooltip-trigger aria-hidden="true" for="markdown-toolbar-ul-Am9JgzoVcwzB" id="markdown-toolbar-ul-Am9JgzoVcwzB-tooltip" message="Add bulleted list"><template shadowrootmode="open"><!----><!--?lit$764029187$--><!----><div><!--?lit$764029187$-->Add bulleted list</div><!----><!--?--></template></colab-tooltip-trigger><!----><!----><md-icon-button id="markdown-toolbar-hr-Am9JgzoVcwzB" class="markdown-toolbar-hr" aria-describedby="markdown-toolbar-hr-Am9JgzoVcwzB-tooltip" data-aria-label="Add horizontal rule" value=""><template shadowrootmode="open" shadowrootdelegatesfocus><!----><button id="button" class="icon-button  standard " aria-label="Add horizontal rule">
        <!--?lit$764029187$--><md-focus-ring part="focus-ring" for="button" aria-hidden="true"><template shadowrootmode="open"><!----></template></md-focus-ring>
        <!--?lit$764029187$--><md-ripple aria-hidden="true"><template shadowrootmode="open"><!----><div class="surface   "></div></template></md-ripple>
        <!--?lit$764029187$--><span class="icon"><slot></slot></span>
        <!--?lit$764029187$-->
        <!--?lit$764029187$--><span class="touch"></span>
  </button></template>
        <!--?lit$764029187$--><md-icon aria-hidden="true"><template shadowrootmode="open"><!----><slot></slot></template><!--?lit$764029187$-->horizontal_rule</md-icon>
      </md-icon-button>
      <colab-tooltip-trigger aria-hidden="true" for="markdown-toolbar-hr-Am9JgzoVcwzB" id="markdown-toolbar-hr-Am9JgzoVcwzB-tooltip" message="Add horizontal rule"><template shadowrootmode="open"><!----><!--?lit$764029187$--><!----><div><!--?lit$764029187$-->Add horizontal rule</div><!----><!--?--></template></colab-tooltip-trigger><!----><!----><md-icon-button id="markdown-toolbar-latex-Am9JgzoVcwzB" class="markdown-toolbar-latex" aria-describedby="markdown-toolbar-latex-Am9JgzoVcwzB-tooltip" data-aria-label="LaTeX" value=""><template shadowrootmode="open" shadowrootdelegatesfocus><!----><button id="button" class="icon-button  standard " aria-label="LaTeX">
        <!--?lit$764029187$--><md-focus-ring part="focus-ring" for="button" aria-hidden="true"><template shadowrootmode="open"><!----></template></md-focus-ring>
        <!--?lit$764029187$--><md-ripple aria-hidden="true"><template shadowrootmode="open"><!----><div class="surface"></div></template></md-ripple>
        <!--?lit$764029187$--><span class="icon"><slot></slot></span>
        <!--?lit$764029187$-->
        <!--?lit$764029187$--><span class="touch"></span>
  </button></template>
        <!--?lit$764029187$--><span aria-hidden="true">ψ</span>
      </md-icon-button>
      <colab-tooltip-trigger aria-hidden="true" for="markdown-toolbar-latex-Am9JgzoVcwzB" id="markdown-toolbar-latex-Am9JgzoVcwzB-tooltip" message="LaTeX"><template shadowrootmode="open"><!----><!--?lit$764029187$--><!----><div><!--?lit$764029187$-->LaTeX</div><!----><!--?--></template></colab-tooltip-trigger><!----><!----><md-icon-button id="markdown-toolbar-emoji-Am9JgzoVcwzB" class="markdown-toolbar-emoji" aria-describedby="markdown-toolbar-emoji-Am9JgzoVcwzB-tooltip" data-aria-label="Insert emoji" value=""><template shadowrootmode="open" shadowrootdelegatesfocus><!----><button id="button" class="icon-button  standard " aria-label="Insert emoji">
        <!--?lit$764029187$--><md-focus-ring part="focus-ring" for="button" aria-hidden="true"><template shadowrootmode="open"><!----></template></md-focus-ring>
        <!--?lit$764029187$--><md-ripple aria-hidden="true"><template shadowrootmode="open"><!----><div class="surface   "></div></template></md-ripple>
        <!--?lit$764029187$--><span class="icon"><slot></slot></span>
        <!--?lit$764029187$-->
        <!--?lit$764029187$--><span class="touch"></span>
  </button></template>
        <!--?lit$764029187$--><md-icon aria-hidden="true"><template shadowrootmode="open"><!----><slot></slot></template><!--?lit$764029187$-->mood</md-icon>
      </md-icon-button>
      <colab-tooltip-trigger aria-hidden="true" for="markdown-toolbar-emoji-Am9JgzoVcwzB" id="markdown-toolbar-emoji-Am9JgzoVcwzB-tooltip" message="Insert emoji"><template shadowrootmode="open"><!----><!--?lit$764029187$--><!----><div><!--?lit$764029187$-->Insert emoji</div><!----><!--?--></template></colab-tooltip-trigger><!----><!----><md-icon-button id="markdown-toolbar-preview-Am9JgzoVcwzB" class="markdown-toolbar-preview" aria-describedby="markdown-toolbar-preview-Am9JgzoVcwzB-tooltip" data-aria-label="Reposition markdown preview" value=""><template shadowrootmode="open" shadowrootdelegatesfocus><!----><button id="button" class="icon-button  standard " aria-label="Reposition markdown preview">
        <!--?lit$764029187$--><md-focus-ring part="focus-ring" for="button" aria-hidden="true"><template shadowrootmode="open"><!----></template></md-focus-ring>
        <!--?lit$764029187$--><md-ripple aria-hidden="true"><template shadowrootmode="open"><!----><div class="surface   "></div></template></md-ripple>
        <!--?lit$764029187$--><span class="icon"><slot></slot></span>
        <!--?lit$764029187$-->
        <!--?lit$764029187$--><span class="touch"></span>
  </button></template>
        <!--?lit$764029187$--><md-icon aria-hidden="true"><template shadowrootmode="open"><!----><slot></slot></template><!--?lit$764029187$--><svg viewBox="0 0 24 24"><!--?lit$764029187$--><g id="markdown-preview-below">
  <rect width="20" height="18" x="2" y="2" rx="2" ry="2" style="fill:none;stroke:var(--colab-icon-color)"></rect>
  <line x1="4.5" y1="13" x2="19.5" y2="13" style="stroke:var(--colab-primary-text-color);stroke-dasharray:2"></line>
  <line x1="2.5" y1="4" x2="21.5" y2="4" style="stroke:var(--colab-icon-color);stroke-width:3px;"></line>
</g></svg></md-icon>
      </md-icon-button>
      <colab-tooltip-trigger aria-hidden="true" for="markdown-toolbar-preview-Am9JgzoVcwzB" id="markdown-toolbar-preview-Am9JgzoVcwzB-tooltip" message="Reposition markdown preview"><template shadowrootmode="open"><!----><!--?lit$764029187$--><!----><div><!--?lit$764029187$-->Reposition markdown preview</div><!----><!--?--></template></colab-tooltip-trigger><!----><!--?--></div></div>
      <div class="editor-container horizontal">
        <div class="editor-root"><div class="editor flex monaco" data-keybinding-context="11" data-mode-id="markdown" style="height: 238px; --vscode-editorCodeLens-lineHeight: 16px; --vscode-editorCodeLens-fontSize: 12px; --vscode-editorCodeLens-fontFeatureSettings: &quot;liga&quot; off, &quot;calt&quot; off; display: none;"><div class="monaco-editor no-user-select  showUnused showDeprecated vs" role="code" data-uri="inmemory://model/12" style="width: 641px; height: 238px;"><div data-mprt="3" class="overflow-guard" style="width: 641px; height: 238px; overflow: clip;"><div class="margin" role="presentation" aria-hidden="true" style="position: absolute; contain: strict; will-change: unset; top: 0px; height: 238px; width: 6px;"><div class="glyph-margin" style="left: 0px; width: 0px; height: 238px;"></div><div class="margin-view-zones" role="presentation" aria-hidden="true" style="position: absolute;"></div><div class="margin-view-overlays" role="presentation" aria-hidden="true" style="position: absolute; font-family: monospace, Consolas, &quot;Courier New&quot;, monospace; font-weight: normal; font-size: 14px; font-feature-settings: &quot;liga&quot; 0, &quot;calt&quot; 0; font-variation-settings: normal; line-height: 19px; letter-spacing: 0px; width: 6px; height: 238px;"><div style="position:absolute;top:0px;width:100%;height:19px;"></div><div style="position:absolute;top:19px;width:100%;height:19px;"></div><div style="position:absolute;top:38px;width:100%;height:19px;"></div><div style="position:absolute;top:57px;width:100%;height:19px;"></div><div style="position:absolute;top:76px;width:100%;height:19px;"></div><div style="position:absolute;top:95px;width:100%;height:19px;"></div><div style="position:absolute;top:114px;width:100%;height:19px;"></div><div style="position:absolute;top:133px;width:100%;height:19px;"></div><div style="position:absolute;top:152px;width:100%;height:19px;"></div><div style="position:absolute;top:171px;width:100%;height:19px;"></div><div style="position:absolute;top:190px;width:100%;height:19px;"><div class="current-line current-line-margin-both" style="width:6px; height:19px;"></div></div><div style="position:absolute;top:209px;width:100%;height:19px;"></div></div><div class="glyph-margin-widgets" style="position: absolute; top: 0px;"></div></div><div class="monaco-scrollable-element editor-scrollable vs" role="presentation" data-mprt="5" style="position: absolute; overflow: hidden; left: 6px; width: 635px; height: 238px;"><div class="lines-content monaco-editor-background" style="position: absolute; overflow: hidden; width: 1e+06px; height: 238px; contain: strict; will-change: unset; top: 0px; left: 0px;"><div class="view-overlays" role="presentation" aria-hidden="true" style="position: absolute; font-family: monospace, Consolas, &quot;Courier New&quot;, monospace; font-weight: normal; font-size: 14px; font-feature-settings: &quot;liga&quot; 0, &quot;calt&quot; 0; font-variation-settings: normal; line-height: 19px; letter-spacing: 0px; height: 0px; width: 635px;"><div style="position:absolute;top:0px;width:100%;height:19px;"></div><div style="position:absolute;top:19px;width:100%;height:19px;"></div><div style="position:absolute;top:38px;width:100%;height:19px;"></div><div style="position:absolute;top:57px;width:100%;height:19px;"></div><div style="position:absolute;top:76px;width:100%;height:19px;"></div><div style="position:absolute;top:95px;width:100%;height:19px;"></div><div style="position:absolute;top:114px;width:100%;height:19px;"></div><div style="position:absolute;top:133px;width:100%;height:19px;"></div><div style="position:absolute;top:152px;width:100%;height:19px;"><div class="cdr unicode-highlight" style="left:85px;width:8px;height:19px;"></div></div><div style="position:absolute;top:171px;width:100%;height:19px;"></div><div style="position:absolute;top:190px;width:100%;height:19px;"><div class="current-line" style="width:635px; height:19px;"></div></div><div style="position:absolute;top:209px;width:100%;height:19px;"><div class="cdr unicode-highlight" style="left:277px;width:8px;height:19px;"></div></div></div><div role="presentation" aria-hidden="true" class="view-rulers"><div class="view-ruler" style="width: 2px; height: 238px; left: 615.938px;"></div></div><div class="view-zones" role="presentation" aria-hidden="true" style="position: absolute;"></div><div class="view-lines monaco-mouse-cursor-text" role="presentation" aria-hidden="true" data-mprt="7" style="position: absolute; font-family: monospace, Consolas, &quot;Courier New&quot;, monospace; font-weight: normal; font-size: 14px; font-feature-settings: &quot;liga&quot; 0, &quot;calt&quot; 0; font-variation-settings: normal; line-height: 19px; letter-spacing: 0px; width: 635px; height: 238px;"><div style="top:0px;height:19px;" class="view-line"><span><span class="mtk1">What&nbsp;this&nbsp;does:</span></span></div><div style="top:19px;height:19px;" class="view-line"><span><span></span></span></div><div style="top:38px;height:19px;" class="view-line"><span><span class="mtk1">explained_variance</span><span class="mtk1 mtki">_ratio_</span><span class="mtk1">&nbsp;→&nbsp;fraction&nbsp;of&nbsp;variance&nbsp;explained&nbsp;by&nbsp;each&nbsp;</span><span class="mtk1">principal&nbsp;</span></span></div><div style="top:57px;height:19px;" class="view-line"><span><span class="mtk1">component.</span></span></div><div style="top:76px;height:19px;" class="view-line"><span><span></span></span></div><div style="top:95px;height:19px;" class="view-line"><span><span class="mtk1">The&nbsp;values&nbsp;add&nbsp;up&nbsp;to&nbsp;1&nbsp;</span><span class="mtk1 bracket-highlighting-0">(</span><span class="mtk1">100%</span><span class="mtk1 bracket-highlighting-0">)</span><span class="mtk1">.</span></span></div><div style="top:114px;height:19px;" class="view-line"><span><span></span></span></div><div style="top:133px;height:19px;" class="view-line"><span><span class="mtk1">The&nbsp;first&nbsp;few&nbsp;PCs&nbsp;usually&nbsp;capture&nbsp;most&nbsp;of&nbsp;the&nbsp;vari</span><span class="mtk1">ance&nbsp;</span><span class="mtk1 bracket-highlighting-0">(</span><span class="mtk1">e.g.,&nbsp;PC1&nbsp;+&nbsp;PC2&nbsp;may&nbsp;</span></span></div><div style="top:152px;height:19px;" class="view-line"><span><span class="mtk1">explain&nbsp;~60–70%</span><span class="mtk1 bracket-highlighting-0">)</span><span class="mtk1">.</span></span></div><div style="top:171px;height:19px;" class="view-line"><span><span></span></span></div><div style="top:190px;height:19px;" class="view-line"><span><span class="mtk6">-&nbsp;</span><span class="mtk1">Conclusion:&nbsp;This&nbsp;output&nbsp;tells&nbsp;you&nbsp;how&nbsp;many&nbsp;compone</span><span class="mtk1">nts&nbsp;you&nbsp;need&nbsp;to&nbsp;keep&nbsp;while&nbsp;</span></span></div><div style="top:209px;height:19px;" class="view-line"><span><span class="mtk1">still&nbsp;preserving&nbsp;most&nbsp;of&nbsp;the&nbsp;dataset’s&nbsp;</span><span class="mtk1">information.</span></span></div></div><div data-mprt="1" class="contentWidgets" style="position: absolute; top: 0px;"><div class="lightBulbWidget codicon codicon-light-bulb" widgetid="LightBulbWidget" title="Show Code Actions (Ctrl+.)" style="position: absolute; display: none; visibility: hidden; max-width: 635px;"></div></div><div role="presentation" aria-hidden="true" class="cursors-layer cursor-line-style cursor-solid"><div class="cursor monaco-mouse-cursor-text " style="height: 19px; top: 190px; left: 7px; font-family: monospace, Consolas, &quot;Courier New&quot;, monospace; font-weight: normal; font-size: 14px; font-feature-settings: &quot;liga&quot; 0, &quot;calt&quot; 0; font-variation-settings: normal; line-height: 19px; letter-spacing: 0px; display: block; visibility: hidden; padding-left: 1px; width: 2px;"></div></div></div><div role="presentation" aria-hidden="true" class="invisible scrollbar horizontal" style="position: absolute; width: 621px; height: 10px; left: 0px; bottom: 0px;"><div class="slider" style="position: absolute; top: 0px; left: 0px; height: 10px; transform: translate3d(0px, 0px, 0px); contain: strict; will-change: unset; width: 621px;"></div></div><canvas class="decorationsOverviewRuler" aria-hidden="true" width="14" height="238" style="position: absolute; transform: translate3d(0px, 0px, 0px); contain: strict; top: 0px; right: 0px; width: 14px; height: 238px; will-change: unset; display: block;"></canvas><div role="presentation" aria-hidden="true" class="invisible scrollbar vertical" style="position: absolute; width: 14px; height: 238px; right: 0px; top: 0px;"><div class="slider" style="position: absolute; top: 0px; left: 0px; width: 14px; transform: translate3d(0px, 0px, 0px); contain: strict; will-change: unset; height: 238px;"></div></div></div><div role="presentation" aria-hidden="true" style="width: 641px;"></div><textarea data-mprt="6" class="inputarea monaco-mouse-cursor-text" wrap="on" autocorrect="off" autocapitalize="off" autocomplete="off" spellcheck="false" aria-label="Editor content;Press Alt+F1 for Accessibility Options." tabindex="0" role="textbox" aria-roledescription="editor" aria-multiline="true" aria-haspopup="false" aria-autocomplete="both" style="tab-size: 15.3984px; font-family: monospace, Consolas, &quot;Courier New&quot;, monospace; font-weight: normal; font-size: 14px; font-feature-settings: &quot;liga&quot; 0, &quot;calt&quot; 0; font-variation-settings: normal; line-height: 19px; letter-spacing: 0px; top: 190px; left: 6px; width: 616px; height: 1px;"></textarea><div style="position: absolute; top: 0px; left: 0px; width: 0px; height: 0px;" class="monaco-editor-background textAreaCover"></div><div data-mprt="4" class="overlayWidgets" style="width: 641px;"></div><div data-mprt="8" class="minimap slider-mouseover" role="presentation" aria-hidden="true" style="position: absolute; left: 0px; width: 0px; height: 238px;"><div class="minimap-shadow-hidden" style="height: 238px;"></div><canvas width="0" height="238" style="position: absolute; left: 0px; width: 0px; height: 238px;"></canvas><canvas class="minimap-decorations-layer" width="0" height="238" style="position: absolute; left: 0px; width: 0px; height: 238px;"></canvas><div class="minimap-slider" style="position: absolute; transform: translate3d(0px, 0px, 0px); contain: strict; width: 0px; will-change: unset;"><div class="minimap-slider-horizontal" style="position: absolute; width: 0px; height: 0px;"></div></div></div><div role="presentation" aria-hidden="true" class="blockDecorations-container"></div></div><div data-mprt="2" class="overflowingContentWidgets" style="display: none;"><div widgetid="editor.contrib.resizableContentHoverWidget" style="position: fixed; height: 10px; width: 10px; z-index: 50; display: none; visibility: hidden; max-width: 1360px;"><div class="monaco-sash vertical" style="left: 8px;"></div><div class="monaco-sash vertical" style="left: -2px;"></div><div class="monaco-sash orthogonal-edge-north horizontal" style="top: -2px;"><div class="orthogonal-drag-handle start"></div><div class="orthogonal-drag-handle end"></div></div><div class="monaco-sash orthogonal-edge-south horizontal" style="top: 8px;"><div class="orthogonal-drag-handle start"></div><div class="orthogonal-drag-handle end"></div></div><div class="monaco-hover hidden" tabindex="0" role="tooltip"><div class="monaco-scrollable-element " role="presentation" style="position: relative; overflow: hidden;"><div class="monaco-hover-content" style="overflow: hidden; font-size: 14px; line-height: 1.35714; max-width: 500px; max-height: 250px;"></div><div role="presentation" aria-hidden="true" class="invisible scrollbar horizontal" style="position: absolute;"><div class="slider" style="position: absolute; top: 0px; left: 0px; height: 10px; transform: translate3d(0px, 0px, 0px); contain: strict;"></div></div><div role="presentation" aria-hidden="true" class="invisible scrollbar vertical" style="position: absolute;"><div class="slider" style="position: absolute; top: 0px; left: 0px; width: 10px; transform: translate3d(0px, 0px, 0px); contain: strict;"></div></div><div class="shadow"></div><div class="shadow"></div><div class="shadow"></div></div></div></div></div><div class=".in-cell-overflowing"><div widgetid="editor.contrib.quickInputWidget" style="position: absolute; top: 0px; right: 50%;"></div></div></div></div></div>
        <div class="text-top-div">
          <div class="markdown"><span><p>What this does:</p>
<p>explained_variance_ratio_ → fraction of variance explained by each principal component.</p>
<p>The values add up to 1 (100%).</p>
<p>The first few PCs usually capture most of the variance (e.g., PC1 + PC2 may explain ~60–70%).</p>
<ul>
<li>Conclusion: This output tells you how many components you need to keep while still preserving most of the dataset’s information.</li>
</ul>
</span></div>
        </div>
      </div>

      <div class="section-header" style="display: none;">
        <colab-run-button><template shadowrootmode="open"><!----> <div class="cell-execution">
      <button id="run-button" aria-label="Run cell" aria-disabled="false">
        <!--?lit$764029187$--><span class="execution-count"><!--?lit$764029187$-->[ ]</span>
        <span aria-hidden="true" class="cell-execution-indicator"><!--?lit$764029187$-->
<svg xmlns="http://www.w3.org/2000/svg" viewBox="0 0 24 24">
  <!--?lit$764029187$-->
  <mask id="playSymbolMask">
    <rect width="100%" height="100%" fill="white"></rect>
    <polygon points="10,8 17,12 10,16" fill="black"></polygon>
  </mask>
  <circle cx="12" cy="12" r="7.8" mask="url(#playSymbolMask)" id="filledCircle"></circle>
</svg></span>
      </button>
      <!--?lit$764029187$-->
      <!--?lit$764029187$--><!--?-->
    </div></template></colab-run-button>
        <div class="section-header-container" title="click to expand">
          <md-icon aria-hidden="true"><template shadowrootmode="open"><!----><slot></slot></template>subdirectory_arrow_right</md-icon>
          <span>0 cells hidden</span>
        </div>
      </div></div></div><div class="add-cell">
      <div class="add-cell-buttons">
        <md-outlined-button class="add-code add-button" data-aria-label="Add code cell
Ctrl+M B" title="Add code cell
Ctrl+M B" value="" has-icon=""><template shadowrootmode="open" shadowrootdelegatesfocus><!---->
      <!--?lit$764029187$--><div class="outline"></div>
      <div class="background"></div>
      <md-focus-ring part="focus-ring" for="button" aria-hidden="true"><template shadowrootmode="open"><!----></template></md-focus-ring>
      <md-ripple part="ripple" for="button" aria-hidden="true"><template shadowrootmode="open"><!----><div class="surface"></div></template></md-ripple>
      <!--?lit$764029187$--><button id="button" class="button" aria-label="Add code cell
Ctrl+M B">
      <!--?lit$764029187$-->
      <span class="touch"></span>
      <!--?lit$764029187$--><slot name="icon"></slot>
      <span class="label"><slot></slot></span>
      <!--?lit$764029187$-->
    
    </button>
    </template>
          <md-icon slot="icon" aria-hidden="true"><template shadowrootmode="open"><!----><slot></slot></template>add</md-icon>
          <!--?lit$764029187$-->Code
        </md-outlined-button>
        <md-outlined-button class="add-text add-button" data-aria-label="Add text cell" title="Add text cell" value="" has-icon=""><template shadowrootmode="open" shadowrootdelegatesfocus><!---->
      <!--?lit$764029187$--><div class="outline"></div>
      <div class="background"></div>
      <md-focus-ring part="focus-ring" for="button" aria-hidden="true"><template shadowrootmode="open"><!----></template></md-focus-ring>
      <md-ripple part="ripple" for="button" aria-hidden="true"><template shadowrootmode="open"><!----><div class="surface"></div></template></md-ripple>
      <!--?lit$764029187$--><button id="button" class="button" aria-label="Add text cell">
      <!--?lit$764029187$-->
      <span class="touch"></span>
      <!--?lit$764029187$--><slot name="icon"></slot>
      <span class="label"><slot></slot></span>
      <!--?lit$764029187$-->
    
    </button>
    </template>
          <md-icon slot="icon" aria-hidden="true"><template shadowrootmode="open"><!----><slot></slot></template>add</md-icon>
          <!--?lit$764029187$-->Text
        </md-outlined-button>
        <!--?lit$764029187$-->
        <!--?lit$764029187$-->
      </div><hr>
    </div></div><div class="cell text" id="cell-Dhyb536Yc2w4" tabindex="-1" role="region" aria-label="Cell 9: Text cell: " style="opacity: 1;"><div class="cell-tag-editor sticky"></div><div class="agent-focus-label">
      <md-icon aria-hidden="true"><template shadowrootmode="open"><!----><slot></slot></template>spark</md-icon>
      <!--?lit$764029187$-->Gemini
    </div><div class="cell-toolbar sticky"></div><div class="main-content" elevation="0"><div class="cell-contents"><div class="cell-mask"></div><span class="imported-info-area"></span><!----> <div class="toolbar-root"><div class="markdown-toolbar"><!----><!--?lit$764029187$--><!----><md-icon-button id="markdown-toolbar-header-Dhyb536Yc2w4" class="markdown-toolbar-header" aria-describedby="markdown-toolbar-header-Dhyb536Yc2w4-tooltip" data-aria-label="Toggle heading" value=""><template shadowrootmode="open" shadowrootdelegatesfocus><!----><button id="button" class="icon-button  standard " aria-label="Toggle heading">
        <!--?lit$764029187$--><md-focus-ring part="focus-ring" for="button" aria-hidden="true"><template shadowrootmode="open"><!----></template></md-focus-ring>
        <!--?lit$764029187$--><md-ripple aria-hidden="true"><template shadowrootmode="open"><!----><div class="surface   "></div></template></md-ripple>
        <!--?lit$764029187$--><span class="icon"><slot></slot></span>
        <!--?lit$764029187$-->
        <!--?lit$764029187$--><span class="touch"></span>
  </button></template>
        <!--?lit$764029187$--><md-icon aria-hidden="true"><template shadowrootmode="open"><!----><slot></slot></template><!--?lit$764029187$-->format_size</md-icon>
      </md-icon-button>
      <colab-tooltip-trigger aria-hidden="true" for="markdown-toolbar-header-Dhyb536Yc2w4" id="markdown-toolbar-header-Dhyb536Yc2w4-tooltip" message="Toggle heading"><template shadowrootmode="open"><!----><!--?lit$764029187$--><!----><div><!--?lit$764029187$-->Toggle heading</div><!----><!--?--></template></colab-tooltip-trigger><!----><!----><md-icon-button id="markdown-toolbar-bold-Dhyb536Yc2w4" class="markdown-toolbar-bold" aria-describedby="markdown-toolbar-bold-Dhyb536Yc2w4-tooltip" data-aria-label="Bold" value=""><template shadowrootmode="open" shadowrootdelegatesfocus><!----><button id="button" class="icon-button  standard " aria-label="Bold">
        <!--?lit$764029187$--><md-focus-ring part="focus-ring" for="button" aria-hidden="true"><template shadowrootmode="open"><!----></template></md-focus-ring>
        <!--?lit$764029187$--><md-ripple aria-hidden="true"><template shadowrootmode="open"><!----><div class="surface   "></div></template></md-ripple>
        <!--?lit$764029187$--><span class="icon"><slot></slot></span>
        <!--?lit$764029187$-->
        <!--?lit$764029187$--><span class="touch"></span>
  </button></template>
        <!--?lit$764029187$--><md-icon aria-hidden="true"><template shadowrootmode="open"><!----><slot></slot></template><!--?lit$764029187$-->format_bold</md-icon>
      </md-icon-button>
      <colab-tooltip-trigger aria-hidden="true" for="markdown-toolbar-bold-Dhyb536Yc2w4" id="markdown-toolbar-bold-Dhyb536Yc2w4-tooltip" message="Bold"><template shadowrootmode="open"><!----><!--?lit$764029187$--><!----><div><!--?lit$764029187$-->Bold</div><!----><!--?--></template></colab-tooltip-trigger><!----><!----><md-icon-button id="markdown-toolbar-italic-Dhyb536Yc2w4" class="markdown-toolbar-italic" aria-describedby="markdown-toolbar-italic-Dhyb536Yc2w4-tooltip" data-aria-label="Italicize" value=""><template shadowrootmode="open" shadowrootdelegatesfocus><!----><button id="button" class="icon-button  standard " aria-label="Italicize">
        <!--?lit$764029187$--><md-focus-ring part="focus-ring" for="button" aria-hidden="true"><template shadowrootmode="open"><!----></template></md-focus-ring>
        <!--?lit$764029187$--><md-ripple aria-hidden="true"><template shadowrootmode="open"><!----><div class="surface   "></div></template></md-ripple>
        <!--?lit$764029187$--><span class="icon"><slot></slot></span>
        <!--?lit$764029187$-->
        <!--?lit$764029187$--><span class="touch"></span>
  </button></template>
        <!--?lit$764029187$--><md-icon aria-hidden="true"><template shadowrootmode="open"><!----><slot></slot></template><!--?lit$764029187$-->format_italic</md-icon>
      </md-icon-button>
      <colab-tooltip-trigger aria-hidden="true" for="markdown-toolbar-italic-Dhyb536Yc2w4" id="markdown-toolbar-italic-Dhyb536Yc2w4-tooltip" message="Italicize"><template shadowrootmode="open"><!----><!--?lit$764029187$--><!----><div><!--?lit$764029187$-->Italicize</div><!----><!--?--></template></colab-tooltip-trigger><!----><!----><md-icon-button id="markdown-toolbar-code-Dhyb536Yc2w4" class="markdown-toolbar-code" aria-describedby="markdown-toolbar-code-Dhyb536Yc2w4-tooltip" data-aria-label="Format as code" value=""><template shadowrootmode="open" shadowrootdelegatesfocus><!----><button id="button" class="icon-button  standard " aria-label="Format as code">
        <!--?lit$764029187$--><md-focus-ring part="focus-ring" for="button" aria-hidden="true"><template shadowrootmode="open"><!----></template></md-focus-ring>
        <!--?lit$764029187$--><md-ripple aria-hidden="true"><template shadowrootmode="open"><!----><div class="surface   "></div></template></md-ripple>
        <!--?lit$764029187$--><span class="icon"><slot></slot></span>
        <!--?lit$764029187$-->
        <!--?lit$764029187$--><span class="touch"></span>
  </button></template>
        <!--?lit$764029187$--><md-icon aria-hidden="true"><template shadowrootmode="open"><!----><slot></slot></template><!--?lit$764029187$-->code</md-icon>
      </md-icon-button>
      <colab-tooltip-trigger aria-hidden="true" for="markdown-toolbar-code-Dhyb536Yc2w4" id="markdown-toolbar-code-Dhyb536Yc2w4-tooltip" message="Format as code"><template shadowrootmode="open"><!----><!--?lit$764029187$--><!----><div><!--?lit$764029187$-->Format as code</div><!----><!--?--></template></colab-tooltip-trigger><!----><!----><md-icon-button id="markdown-toolbar-link-Dhyb536Yc2w4" class="markdown-toolbar-link" aria-describedby="markdown-toolbar-link-Dhyb536Yc2w4-tooltip" data-aria-label="Insert link" value=""><template shadowrootmode="open" shadowrootdelegatesfocus><!----><button id="button" class="icon-button  standard " aria-label="Insert link">
        <!--?lit$764029187$--><md-focus-ring part="focus-ring" for="button" aria-hidden="true"><template shadowrootmode="open"><!----></template></md-focus-ring>
        <!--?lit$764029187$--><md-ripple aria-hidden="true"><template shadowrootmode="open"><!----><div class="surface   "></div></template></md-ripple>
        <!--?lit$764029187$--><span class="icon"><slot></slot></span>
        <!--?lit$764029187$-->
        <!--?lit$764029187$--><span class="touch"></span>
  </button></template>
        <!--?lit$764029187$--><md-icon aria-hidden="true"><template shadowrootmode="open"><!----><slot></slot></template><!--?lit$764029187$-->link</md-icon>
      </md-icon-button>
      <colab-tooltip-trigger aria-hidden="true" for="markdown-toolbar-link-Dhyb536Yc2w4" id="markdown-toolbar-link-Dhyb536Yc2w4-tooltip" message="Insert link"><template shadowrootmode="open"><!----><!--?lit$764029187$--><!----><div><!--?lit$764029187$-->Insert link</div><!----><!--?--></template></colab-tooltip-trigger><!----><!----><label for="markdown-image-input-Dhyb536Yc2w4" class="colab-icon markdown-toolbar-insert-image">
        <md-ripple aria-hidden="true"><template shadowrootmode="open"><!----><div class="surface   "></div></template></md-ripple>
        <span role="button" tabindex="0" id="markdown-toolbar-insert-image-Dhyb536Yc2w4" aria-describedby="markdown-toolbar-insert-image-Dhyb536Yc2w4-tooltip" aria-label="Insert image">
          <md-focus-ring aria-hidden="true"><template shadowrootmode="open"><!----></template></md-focus-ring>
          <md-icon aria-hidden="true"><template shadowrootmode="open"><!----><slot></slot></template>image</md-icon>
        </span>
        <colab-tooltip-trigger aria-hidden="true" for="markdown-toolbar-insert-image-Dhyb536Yc2w4" id="markdown-toolbar-insert-image-Dhyb536Yc2w4-tooltip" message="Insert image"><template shadowrootmode="open"><!----><!--?lit$764029187$--><!----><div><!--?lit$764029187$-->Insert image</div><!----><!--?--></template></colab-tooltip-trigger>
      </label>
      <input class="markdown-image-input" type="file" multiple="" accept="image/*" id="markdown-image-input-Dhyb536Yc2w4"><!----><!----><md-icon-button id="markdown-toolbar-blockquote-Dhyb536Yc2w4" class="markdown-toolbar-blockquote" aria-describedby="markdown-toolbar-blockquote-Dhyb536Yc2w4-tooltip" data-aria-label="Add blockquote" value=""><template shadowrootmode="open" shadowrootdelegatesfocus><!----><button id="button" class="icon-button  standard " aria-label="Add blockquote">
        <!--?lit$764029187$--><md-focus-ring part="focus-ring" for="button" aria-hidden="true"><template shadowrootmode="open"><!----></template></md-focus-ring>
        <!--?lit$764029187$--><md-ripple aria-hidden="true"><template shadowrootmode="open"><!----><div class="surface   "></div></template></md-ripple>
        <!--?lit$764029187$--><span class="icon"><slot></slot></span>
        <!--?lit$764029187$-->
        <!--?lit$764029187$--><span class="touch"></span>
  </button></template>
        <!--?lit$764029187$--><md-icon aria-hidden="true"><template shadowrootmode="open"><!----><slot></slot></template><!--?lit$764029187$-->format_quote</md-icon>
      </md-icon-button>
      <colab-tooltip-trigger aria-hidden="true" for="markdown-toolbar-blockquote-Dhyb536Yc2w4" id="markdown-toolbar-blockquote-Dhyb536Yc2w4-tooltip" message="Add blockquote"><template shadowrootmode="open"><!----><!--?lit$764029187$--><!----><div><!--?lit$764029187$-->Add blockquote</div><!----><!--?--></template></colab-tooltip-trigger><!----><!----><md-icon-button id="markdown-toolbar-ol-Dhyb536Yc2w4" class="markdown-toolbar-ol" aria-describedby="markdown-toolbar-ol-Dhyb536Yc2w4-tooltip" data-aria-label="Add numbered list" value=""><template shadowrootmode="open" shadowrootdelegatesfocus><!----><button id="button" class="icon-button  standard " aria-label="Add numbered list">
        <!--?lit$764029187$--><md-focus-ring part="focus-ring" for="button" aria-hidden="true"><template shadowrootmode="open"><!----></template></md-focus-ring>
        <!--?lit$764029187$--><md-ripple aria-hidden="true"><template shadowrootmode="open"><!----><div class="surface   "></div></template></md-ripple>
        <!--?lit$764029187$--><span class="icon"><slot></slot></span>
        <!--?lit$764029187$-->
        <!--?lit$764029187$--><span class="touch"></span>
  </button></template>
        <!--?lit$764029187$--><md-icon aria-hidden="true"><template shadowrootmode="open"><!----><slot></slot></template><!--?lit$764029187$-->format_list_numbered</md-icon>
      </md-icon-button>
      <colab-tooltip-trigger aria-hidden="true" for="markdown-toolbar-ol-Dhyb536Yc2w4" id="markdown-toolbar-ol-Dhyb536Yc2w4-tooltip" message="Add numbered list"><template shadowrootmode="open"><!----><!--?lit$764029187$--><!----><div><!--?lit$764029187$-->Add numbered list</div><!----><!--?--></template></colab-tooltip-trigger><!----><!----><md-icon-button id="markdown-toolbar-ul-Dhyb536Yc2w4" class="markdown-toolbar-ul" aria-describedby="markdown-toolbar-ul-Dhyb536Yc2w4-tooltip" data-aria-label="Add bulleted list" value=""><template shadowrootmode="open" shadowrootdelegatesfocus><!----><button id="button" class="icon-button  standard " aria-label="Add bulleted list">
        <!--?lit$764029187$--><md-focus-ring part="focus-ring" for="button" aria-hidden="true"><template shadowrootmode="open"><!----></template></md-focus-ring>
        <!--?lit$764029187$--><md-ripple aria-hidden="true"><template shadowrootmode="open"><!----><div class="surface   "></div></template></md-ripple>
        <!--?lit$764029187$--><span class="icon"><slot></slot></span>
        <!--?lit$764029187$-->
        <!--?lit$764029187$--><span class="touch"></span>
  </button></template>
        <!--?lit$764029187$--><md-icon aria-hidden="true"><template shadowrootmode="open"><!----><slot></slot></template><!--?lit$764029187$-->format_list_bulleted</md-icon>
      </md-icon-button>
      <colab-tooltip-trigger aria-hidden="true" for="markdown-toolbar-ul-Dhyb536Yc2w4" id="markdown-toolbar-ul-Dhyb536Yc2w4-tooltip" message="Add bulleted list"><template shadowrootmode="open"><!----><!--?lit$764029187$--><!----><div><!--?lit$764029187$-->Add bulleted list</div><!----><!--?--></template></colab-tooltip-trigger><!----><!----><md-icon-button id="markdown-toolbar-hr-Dhyb536Yc2w4" class="markdown-toolbar-hr" aria-describedby="markdown-toolbar-hr-Dhyb536Yc2w4-tooltip" data-aria-label="Add horizontal rule" value=""><template shadowrootmode="open" shadowrootdelegatesfocus><!----><button id="button" class="icon-button  standard " aria-label="Add horizontal rule">
        <!--?lit$764029187$--><md-focus-ring part="focus-ring" for="button" aria-hidden="true"><template shadowrootmode="open"><!----></template></md-focus-ring>
        <!--?lit$764029187$--><md-ripple aria-hidden="true"><template shadowrootmode="open"><!----><div class="surface   "></div></template></md-ripple>
        <!--?lit$764029187$--><span class="icon"><slot></slot></span>
        <!--?lit$764029187$-->
        <!--?lit$764029187$--><span class="touch"></span>
  </button></template>
        <!--?lit$764029187$--><md-icon aria-hidden="true"><template shadowrootmode="open"><!----><slot></slot></template><!--?lit$764029187$-->horizontal_rule</md-icon>
      </md-icon-button>
      <colab-tooltip-trigger aria-hidden="true" for="markdown-toolbar-hr-Dhyb536Yc2w4" id="markdown-toolbar-hr-Dhyb536Yc2w4-tooltip" message="Add horizontal rule"><template shadowrootmode="open"><!----><!--?lit$764029187$--><!----><div><!--?lit$764029187$-->Add horizontal rule</div><!----><!--?--></template></colab-tooltip-trigger><!----><!----><md-icon-button id="markdown-toolbar-latex-Dhyb536Yc2w4" class="markdown-toolbar-latex" aria-describedby="markdown-toolbar-latex-Dhyb536Yc2w4-tooltip" data-aria-label="LaTeX" value=""><template shadowrootmode="open" shadowrootdelegatesfocus><!----><button id="button" class="icon-button  standard " aria-label="LaTeX">
        <!--?lit$764029187$--><md-focus-ring part="focus-ring" for="button" aria-hidden="true"><template shadowrootmode="open"><!----></template></md-focus-ring>
        <!--?lit$764029187$--><md-ripple aria-hidden="true"><template shadowrootmode="open"><!----><div class="surface   "></div></template></md-ripple>
        <!--?lit$764029187$--><span class="icon"><slot></slot></span>
        <!--?lit$764029187$-->
        <!--?lit$764029187$--><span class="touch"></span>
  </button></template>
        <!--?lit$764029187$--><span aria-hidden="true">ψ</span>
      </md-icon-button>
      <colab-tooltip-trigger aria-hidden="true" for="markdown-toolbar-latex-Dhyb536Yc2w4" id="markdown-toolbar-latex-Dhyb536Yc2w4-tooltip" message="LaTeX"><template shadowrootmode="open"><!----><!--?lit$764029187$--><!----><div><!--?lit$764029187$-->LaTeX</div><!----><!--?--></template></colab-tooltip-trigger><!----><!----><md-icon-button id="markdown-toolbar-emoji-Dhyb536Yc2w4" class="markdown-toolbar-emoji" aria-describedby="markdown-toolbar-emoji-Dhyb536Yc2w4-tooltip" data-aria-label="Insert emoji" value=""><template shadowrootmode="open" shadowrootdelegatesfocus><!----><button id="button" class="icon-button  standard " aria-label="Insert emoji">
        <!--?lit$764029187$--><md-focus-ring part="focus-ring" for="button" aria-hidden="true"><template shadowrootmode="open"><!----></template></md-focus-ring>
        <!--?lit$764029187$--><md-ripple aria-hidden="true"><template shadowrootmode="open"><!----><div class="surface   "></div></template></md-ripple>
        <!--?lit$764029187$--><span class="icon"><slot></slot></span>
        <!--?lit$764029187$-->
        <!--?lit$764029187$--><span class="touch"></span>
  </button></template>
        <!--?lit$764029187$--><md-icon aria-hidden="true"><template shadowrootmode="open"><!----><slot></slot></template><!--?lit$764029187$-->mood</md-icon>
      </md-icon-button>
      <colab-tooltip-trigger aria-hidden="true" for="markdown-toolbar-emoji-Dhyb536Yc2w4" id="markdown-toolbar-emoji-Dhyb536Yc2w4-tooltip" message="Insert emoji"><template shadowrootmode="open"><!----><!--?lit$764029187$--><!----><div><!--?lit$764029187$-->Insert emoji</div><!----><!--?--></template></colab-tooltip-trigger><!----><!----><md-icon-button id="markdown-toolbar-preview-Dhyb536Yc2w4" class="markdown-toolbar-preview" aria-describedby="markdown-toolbar-preview-Dhyb536Yc2w4-tooltip" data-aria-label="Reposition markdown preview" value=""><template shadowrootmode="open" shadowrootdelegatesfocus><!----><button id="button" class="icon-button  standard " aria-label="Reposition markdown preview">
        <!--?lit$764029187$--><md-focus-ring part="focus-ring" for="button" aria-hidden="true"><template shadowrootmode="open"><!----></template></md-focus-ring>
        <!--?lit$764029187$--><md-ripple aria-hidden="true"><template shadowrootmode="open"><!----><div class="surface   "></div></template></md-ripple>
        <!--?lit$764029187$--><span class="icon"><slot></slot></span>
        <!--?lit$764029187$-->
        <!--?lit$764029187$--><span class="touch"></span>
  </button></template>
        <!--?lit$764029187$--><md-icon aria-hidden="true"><template shadowrootmode="open"><!----><slot></slot></template><!--?lit$764029187$--><svg viewBox="0 0 24 24"><!--?lit$764029187$--><g id="markdown-preview-below">
  <rect width="20" height="18" x="2" y="2" rx="2" ry="2" style="fill:none;stroke:var(--colab-icon-color)"></rect>
  <line x1="4.5" y1="13" x2="19.5" y2="13" style="stroke:var(--colab-primary-text-color);stroke-dasharray:2"></line>
  <line x1="2.5" y1="4" x2="21.5" y2="4" style="stroke:var(--colab-icon-color);stroke-width:3px;"></line>
</g></svg></md-icon>
      </md-icon-button>
      <colab-tooltip-trigger aria-hidden="true" for="markdown-toolbar-preview-Dhyb536Yc2w4" id="markdown-toolbar-preview-Dhyb536Yc2w4-tooltip" message="Reposition markdown preview"><template shadowrootmode="open"><!----><!--?lit$764029187$--><!----><div><!--?lit$764029187$-->Reposition markdown preview</div><!----><!--?--></template></colab-tooltip-trigger><!----><!--?--></div></div>
      <div class="editor-container horizontal">
        <div class="editor-root"><div class="editor flex monaco" data-keybinding-context="12" data-mode-id="markdown" style="height: 67px; --vscode-editorCodeLens-lineHeight: 16px; --vscode-editorCodeLens-fontSize: 12px; --vscode-editorCodeLens-fontFeatureSettings: &quot;liga&quot; off, &quot;calt&quot; off; display: none;"><div class="monaco-editor no-user-select  showUnused showDeprecated vs" role="code" data-uri="inmemory://model/13" style="width: 641px; height: 67px;"><div data-mprt="3" class="overflow-guard" style="width: 641px; height: 67px; overflow: clip;"><div class="margin" role="presentation" aria-hidden="true" style="position: absolute; contain: strict; will-change: unset; top: 0px; height: 67px; width: 6px;"><div class="glyph-margin" style="left: 0px; width: 0px; height: 67px;"></div><div class="margin-view-zones" role="presentation" aria-hidden="true" style="position: absolute;"></div><div class="margin-view-overlays" role="presentation" aria-hidden="true" style="position: absolute; font-family: monospace, Consolas, &quot;Courier New&quot;, monospace; font-weight: normal; font-size: 14px; font-feature-settings: &quot;liga&quot; 0, &quot;calt&quot; 0; font-variation-settings: normal; line-height: 19px; letter-spacing: 0px; width: 6px; height: 67px;"><div style="position:absolute;top:0px;width:100%;height:19px;"></div><div style="position:absolute;top:19px;width:100%;height:19px;"></div><div style="position:absolute;top:38px;width:100%;height:19px;"><div class="current-line current-line-margin-both" style="width:6px; height:19px;"></div></div></div><div class="glyph-margin-widgets" style="position: absolute; top: 0px;"></div></div><div class="monaco-scrollable-element editor-scrollable vs" role="presentation" data-mprt="5" style="position: absolute; overflow: hidden; left: 6px; width: 635px; height: 67px;"><div class="lines-content monaco-editor-background" style="position: absolute; overflow: hidden; width: 1e+06px; height: 67px; contain: strict; will-change: unset; top: 0px; left: 0px;"><div class="view-overlays" role="presentation" aria-hidden="true" style="position: absolute; font-family: monospace, Consolas, &quot;Courier New&quot;, monospace; font-weight: normal; font-size: 14px; font-feature-settings: &quot;liga&quot; 0, &quot;calt&quot; 0; font-variation-settings: normal; line-height: 19px; letter-spacing: 0px; height: 0px; width: 635px;"><div style="position:absolute;top:0px;width:100%;height:19px;"></div><div style="position:absolute;top:19px;width:100%;height:19px;"></div><div style="position:absolute;top:38px;width:100%;height:19px;"><div class="current-line" style="width:635px; height:19px;"></div></div></div><div role="presentation" aria-hidden="true" class="view-rulers"><div class="view-ruler" style="width: 2px; height: 67px; left: 615.938px;"></div></div><div class="view-zones" role="presentation" aria-hidden="true" style="position: absolute;"></div><div class="view-lines monaco-mouse-cursor-text" role="presentation" aria-hidden="true" data-mprt="7" style="position: absolute; font-family: monospace, Consolas, &quot;Courier New&quot;, monospace; font-weight: normal; font-size: 14px; font-feature-settings: &quot;liga&quot; 0, &quot;calt&quot; 0; font-variation-settings: normal; line-height: 19px; letter-spacing: 0px; width: 635px; height: 67px;"><div style="top:0px;height:19px;" class="view-line"><span><span class="mtk1">Question&nbsp;8:&nbsp;Train&nbsp;a&nbsp;KNN&nbsp;Classifier&nbsp;on&nbsp;the&nbsp;PCA-tran</span><span class="mtk1">sformed&nbsp;dataset&nbsp;</span><span class="mtk1 bracket-highlighting-0">(</span><span class="mtk1">retain&nbsp;top&nbsp;2</span></span></div><div style="top:19px;height:19px;" class="view-line"><span><span class="mtk1">components</span><span class="mtk1 bracket-highlighting-0">)</span><span class="mtk1">.&nbsp;Compare&nbsp;the&nbsp;accuracy&nbsp;with&nbsp;the&nbsp;original&nbsp;dataset.</span></span></div><div style="top:38px;height:19px;" class="view-line"><span><span></span></span></div></div><div data-mprt="1" class="contentWidgets" style="position: absolute; top: 0px;"></div><div role="presentation" aria-hidden="true" class="cursors-layer cursor-line-style cursor-solid"><div class="cursor monaco-mouse-cursor-text " style="height: 19px; top: 38px; left: 0px; font-family: monospace, Consolas, &quot;Courier New&quot;, monospace; font-weight: normal; font-size: 14px; font-feature-settings: &quot;liga&quot; 0, &quot;calt&quot; 0; font-variation-settings: normal; line-height: 19px; letter-spacing: 0px; display: block; visibility: hidden; padding-left: 0px; width: 2px;"></div></div></div><div role="presentation" aria-hidden="true" class="invisible scrollbar horizontal" style="position: absolute; width: 621px; height: 10px; left: 0px; bottom: 0px;"><div class="slider" style="position: absolute; top: 0px; left: 0px; height: 10px; transform: translate3d(0px, 0px, 0px); contain: strict; will-change: unset; width: 621px;"></div></div><canvas class="decorationsOverviewRuler" aria-hidden="true" width="14" height="67" style="position: absolute; transform: translate3d(0px, 0px, 0px); contain: strict; top: 0px; right: 0px; width: 14px; height: 67px; will-change: unset; display: block;"></canvas><div role="presentation" aria-hidden="true" class="invisible scrollbar vertical" style="position: absolute; width: 14px; height: 67px; right: 0px; top: 0px;"><div class="slider" style="position: absolute; top: 0px; left: 0px; width: 14px; transform: translate3d(0px, 0px, 0px); contain: strict; will-change: unset; height: 67px;"></div></div></div><div role="presentation" aria-hidden="true" style="width: 641px;"></div><textarea data-mprt="6" class="inputarea monaco-mouse-cursor-text" wrap="on" autocorrect="off" autocapitalize="off" autocomplete="off" spellcheck="false" aria-label="Editor content;Press Alt+F1 for Accessibility Options." tabindex="0" role="textbox" aria-roledescription="editor" aria-multiline="true" aria-haspopup="false" aria-autocomplete="both" style="tab-size: 15.3984px; font-family: monospace, Consolas, &quot;Courier New&quot;, monospace; font-weight: normal; font-size: 14px; font-feature-settings: &quot;liga&quot; 0, &quot;calt&quot; 0; font-variation-settings: normal; line-height: 19px; letter-spacing: 0px; top: 38px; left: 6px; width: 616px; height: 1px;"></textarea><div style="position: absolute; top: 0px; left: 0px; width: 0px; height: 0px;" class="monaco-editor-background textAreaCover"></div><div data-mprt="4" class="overlayWidgets" style="width: 641px;"></div><div data-mprt="8" class="minimap slider-mouseover" role="presentation" aria-hidden="true" style="position: absolute; left: 0px; width: 0px; height: 67px;"><div class="minimap-shadow-hidden" style="height: 67px;"></div><canvas width="0" height="67" style="position: absolute; left: 0px; width: 0px; height: 67px;"></canvas><canvas class="minimap-decorations-layer" width="0" height="67" style="position: absolute; left: 0px; width: 0px; height: 67px;"></canvas><div class="minimap-slider" style="position: absolute; transform: translate3d(0px, 0px, 0px); contain: strict; width: 0px; will-change: unset;"><div class="minimap-slider-horizontal" style="position: absolute; width: 0px; height: 0px;"></div></div></div><div role="presentation" aria-hidden="true" class="blockDecorations-container"></div></div><div data-mprt="2" class="overflowingContentWidgets" style="display: none;"><div widgetid="editor.contrib.resizableContentHoverWidget" style="position: fixed; height: 10px; width: 10px; z-index: 50; display: none; visibility: hidden; max-width: 1360px;"><div class="monaco-sash vertical" style="left: 8px;"></div><div class="monaco-sash vertical" style="left: -2px;"></div><div class="monaco-sash orthogonal-edge-north horizontal" style="top: -2px;"><div class="orthogonal-drag-handle start"></div><div class="orthogonal-drag-handle end"></div></div><div class="monaco-sash orthogonal-edge-south horizontal" style="top: 8px;"><div class="orthogonal-drag-handle start"></div><div class="orthogonal-drag-handle end"></div></div><div class="monaco-hover hidden" tabindex="0" role="tooltip"><div class="monaco-scrollable-element " role="presentation" style="position: relative; overflow: hidden;"><div class="monaco-hover-content" style="overflow: hidden; font-size: 14px; line-height: 1.35714; max-width: 500px; max-height: 250px;"></div><div role="presentation" aria-hidden="true" class="invisible scrollbar horizontal" style="position: absolute;"><div class="slider" style="position: absolute; top: 0px; left: 0px; height: 10px; transform: translate3d(0px, 0px, 0px); contain: strict;"></div></div><div role="presentation" aria-hidden="true" class="invisible scrollbar vertical" style="position: absolute;"><div class="slider" style="position: absolute; top: 0px; left: 0px; width: 10px; transform: translate3d(0px, 0px, 0px); contain: strict;"></div></div><div class="shadow"></div><div class="shadow"></div><div class="shadow"></div></div></div></div></div><div class=".in-cell-overflowing"><div widgetid="editor.contrib.quickInputWidget" style="position: absolute; top: 0px; right: 50%;"></div></div></div></div></div>
        <div class="text-top-div">
          <div class="markdown"><span><p>Question 8: Train a KNN Classifier on the PCA-transformed dataset (retain top 2
components). Compare the accuracy with the original dataset.</p>
</span></div>
        </div>
      </div>

      <div class="section-header" style="display: none;">
        <colab-run-button><template shadowrootmode="open"><!----> <div class="cell-execution">
      <button id="run-button" aria-label="Run cell" aria-disabled="false">
        <!--?lit$764029187$--><span class="execution-count"><!--?lit$764029187$-->[ ]</span>
        <span aria-hidden="true" class="cell-execution-indicator"><!--?lit$764029187$-->
<svg xmlns="http://www.w3.org/2000/svg" viewBox="0 0 24 24">
  <!--?lit$764029187$-->
  <mask id="playSymbolMask">
    <rect width="100%" height="100%" fill="white"></rect>
    <polygon points="10,8 17,12 10,16" fill="black"></polygon>
  </mask>
  <circle cx="12" cy="12" r="7.8" mask="url(#playSymbolMask)" id="filledCircle"></circle>
</svg></span>
      </button>
      <!--?lit$764029187$-->
      <!--?lit$764029187$--><!--?-->
    </div></template></colab-run-button>
        <div class="section-header-container" title="click to expand">
          <md-icon aria-hidden="true"><template shadowrootmode="open"><!----><slot></slot></template>subdirectory_arrow_right</md-icon>
          <span>0 cells hidden</span>
        </div>
      </div></div></div><div class="add-cell">
      <div class="add-cell-buttons">
        <md-outlined-button class="add-code add-button" data-aria-label="Add code cell
Ctrl+M B" title="Add code cell
Ctrl+M B" value="" has-icon=""><template shadowrootmode="open" shadowrootdelegatesfocus><!---->
      <!--?lit$764029187$--><div class="outline"></div>
      <div class="background"></div>
      <md-focus-ring part="focus-ring" for="button" aria-hidden="true"><template shadowrootmode="open"><!----></template></md-focus-ring>
      <md-ripple part="ripple" for="button" aria-hidden="true"><template shadowrootmode="open"><!----><div class="surface"></div></template></md-ripple>
      <!--?lit$764029187$--><button id="button" class="button" aria-label="Add code cell
Ctrl+M B">
      <!--?lit$764029187$-->
      <span class="touch"></span>
      <!--?lit$764029187$--><slot name="icon"></slot>
      <span class="label"><slot></slot></span>
      <!--?lit$764029187$-->
    
    </button>
    </template>
          <md-icon slot="icon" aria-hidden="true"><template shadowrootmode="open"><!----><slot></slot></template>add</md-icon>
          <!--?lit$764029187$-->Code
        </md-outlined-button>
        <md-outlined-button class="add-text add-button" data-aria-label="Add text cell" title="Add text cell" value="" has-icon=""><template shadowrootmode="open" shadowrootdelegatesfocus><!---->
      <!--?lit$764029187$--><div class="outline"></div>
      <div class="background"></div>
      <md-focus-ring part="focus-ring" for="button" aria-hidden="true"><template shadowrootmode="open"><!----></template></md-focus-ring>
      <md-ripple part="ripple" for="button" aria-hidden="true"><template shadowrootmode="open"><!----><div class="surface"></div></template></md-ripple>
      <!--?lit$764029187$--><button id="button" class="button" aria-label="Add text cell">
      <!--?lit$764029187$-->
      <span class="touch"></span>
      <!--?lit$764029187$--><slot name="icon"></slot>
      <span class="label"><slot></slot></span>
      <!--?lit$764029187$-->
    
    </button>
    </template>
          <md-icon slot="icon" aria-hidden="true"><template shadowrootmode="open"><!----><slot></slot></template>add</md-icon>
          <!--?lit$764029187$-->Text
        </md-outlined-button>
        <!--?lit$764029187$-->
        <!--?lit$764029187$-->
      </div><hr>
    </div></div><div class="cell code code-has-output" id="cell-Wn2BAVt9c36_" tabindex="-1" role="region" aria-label="Cell 10: Code cell: " style="opacity: 1;"><div class="cell-tag-editor sticky"></div><div class="agent-focus-label">
      <md-icon aria-hidden="true"><template shadowrootmode="open"><!----><slot></slot></template>spark</md-icon>
      <!--?lit$764029187$-->Gemini
    </div><div class="cell-toolbar sticky"></div><div class="main-content" elevation="0"><div class="cell-contents"><div class="cell-mask"></div><span class="imported-info-area"></span><div class="codecell-input-output">
      <div class="inputarea horizontal layout code">
        <div class="cell-gutter">
          <!-- Bounding range for vertical scrolling of icons -->
          <div class="cell-execution-container">
            <colab-run-button><template shadowrootmode="open"><!----> <div class="cell-execution hovered">
      <button id="run-button" aria-describedby="run-button-tooltip" aria-label="Run cell" aria-disabled="false">
        <!--?lit$764029187$--><span class="execution-count"><!--?lit$764029187$-->[3]</span>
        <span aria-hidden="true" class="cell-execution-indicator"><!--?lit$764029187$-->
<svg xmlns="http://www.w3.org/2000/svg" viewBox="0 0 24 24">
  <!--?lit$764029187$-->
  <mask id="playSymbolMask">
    <rect width="100%" height="100%" fill="white"></rect>
    <polygon points="10,8 17,12 10,16" fill="black"></polygon>
  </mask>
  <circle cx="12" cy="12" r="7.8" mask="url(#playSymbolMask)" id="filledCircle"></circle>
</svg></span>
      </button>
      <!--?lit$764029187$--><colab-tooltip-trigger for="run-button" id="run-button-tooltip" aria-hidden="true" message="Run cell (Ctrl+Enter)
cell executed since last change

executed by kuldeep rajput
5:02 PM (5 minutes ago)
executed in 0.503s"><template shadowrootmode="open"><!----><!--?lit$764029187$--><!----><div><!--?lit$764029187$-->Run cell (Ctrl+Enter)</div><!----><!----><div><!--?lit$764029187$-->cell executed since last change</div><!----><!----><br><!----><!----><div><!--?lit$764029187$-->executed by kuldeep rajput</div><!----><!----><div><!--?lit$764029187$-->5:02 PM (5 minutes ago)</div><!----><!----><div><!--?lit$764029187$-->executed in 0.503s</div><!----><!--?--></template>
    </colab-tooltip-trigger>
      <!--?lit$764029187$--><div id="status" class="last-run">
      <md-icon aria-hidden="true"><template shadowrootmode="open"><!----><slot></slot></template><!--?lit$764029187$--><svg viewBox="0 0 24 24"><!--?lit$764029187$--><path d="M9 16.17L4.83 12l-1.42 1.41L9 19 21 7l-1.41-1.41z"></path></svg></md-icon>
      <div><!--?lit$764029187$-->0s</div>
    </div>
    </div></template></colab-run-button>
          </div>
        </div>
      <div class="editor flex lazy-editor" style=""><pre class="lazy-virtualized" style="font-size: 14px; line-height: 19px;"><pre class="lazy-gutter"></pre><pre class="monaco-colorized colab colab colab colab" data-lang="notebook-python"><span><span class="mtk8">#&nbsp;Import&nbsp;libraries</span></span><br><span><span class="mtk19">from</span><span class="mtk1">&nbsp;sklearn.datasets&nbsp;</span><span class="mtk19">import</span><span class="mtk1">&nbsp;load_wine</span></span><br><span><span class="mtk19">from</span><span class="mtk1">&nbsp;sklearn.model_selection&nbsp;</span><span class="mtk19">import</span><span class="mtk1">&nbsp;train_test_split</span></span><br><span><span class="mtk19">from</span><span class="mtk1">&nbsp;sklearn.neighbors&nbsp;</span><span class="mtk19">import</span><span class="mtk1">&nbsp;KNeighborsClassifier</span></span><br><span><span class="mtk19">from</span><span class="mtk1">&nbsp;sklearn.preprocessing&nbsp;</span><span class="mtk19">import</span><span class="mtk1">&nbsp;StandardScaler</span></span><br><span><span class="mtk19">from</span><span class="mtk1">&nbsp;sklearn.decomposition&nbsp;</span><span class="mtk19">import</span><span class="mtk1">&nbsp;PCA</span></span><br><span><span class="mtk19">from</span><span class="mtk1">&nbsp;sklearn.metrics&nbsp;</span><span class="mtk19">import</span><span class="mtk1">&nbsp;accuracy_score</span></span><br><span><span></span></span><br><span><span class="mtk8">#&nbsp;Load&nbsp;dataset</span></span><br><span><span class="mtk1">wine&nbsp;=&nbsp;load_wine()</span></span><br><span><span class="mtk1">X,&nbsp;y&nbsp;=&nbsp;wine.data,&nbsp;wine.target</span></span><br><span><span></span></span><br><span><span class="mtk8">#&nbsp;Standardize&nbsp;features&nbsp;(important&nbsp;for&nbsp;PCA&nbsp;&amp;&nbsp;KNN)</span></span><br><span><span class="mtk1">scaler&nbsp;=&nbsp;StandardScaler()</span></span><br><span><span class="mtk1">X_scaled&nbsp;=&nbsp;scaler.fit_transform(X)</span></span><br><span><span></span></span><br><span><span class="mtk8">#&nbsp;Train-test&nbsp;split</span></span><br><span><span class="mtk1">X_train,&nbsp;X_test,&nbsp;y_train,&nbsp;y_test&nbsp;=&nbsp;train_test_spli</span><span class="mtk1">t(</span></span><br><span><span class="mtk1">&nbsp;&nbsp;&nbsp;&nbsp;X_scaled,&nbsp;y,&nbsp;test_size=</span><span class="mtk12">0.3</span><span class="mtk1">,&nbsp;random_state=</span><span class="mtk12">42</span></span><br><span><span class="mtk1">)</span></span><br><span><span></span></span><br><span><span class="mtk8">#&nbsp;------------------&nbsp;KNN&nbsp;on&nbsp;Original&nbsp;Data&nbsp;--------</span><span class="mtk8">----------</span></span><br><span><span class="mtk1">knn_orig&nbsp;=&nbsp;KNeighborsClassifier(n_neighbors=</span><span class="mtk12">5</span><span class="mtk1">)</span></span><br><span><span class="mtk1">knn_orig.fit(X_train,&nbsp;y_train)</span></span><br><span><span class="mtk1">y_pred_orig&nbsp;=&nbsp;knn_orig.predict(X_test)</span></span><br><span><span class="mtk1">acc_orig&nbsp;=&nbsp;accuracy_score(y_test,&nbsp;y_pred_orig)</span></span><br><span><span></span></span><br><span><span class="mtk8">#&nbsp;------------------&nbsp;PCA&nbsp;Transformation&nbsp;(Top&nbsp;2&nbsp;Com</span><span class="mtk8">ponents)&nbsp;------------------</span></span><br><span><span class="mtk1">pca&nbsp;=&nbsp;PCA(n_components=</span><span class="mtk12">2</span><span class="mtk1">)</span></span><br><span><span class="mtk1">X_pca&nbsp;=&nbsp;pca.fit_transform(X_scaled)</span></span><br><span><span></span></span><br><span><span class="mtk1">X_train_pca,&nbsp;X_test_pca,&nbsp;y_train_pca,&nbsp;y_test_pca&nbsp;=</span><span class="mtk1">&nbsp;train_test_split(</span></span><br><span><span class="mtk1">&nbsp;&nbsp;&nbsp;&nbsp;X_pca,&nbsp;y,&nbsp;test_size=</span><span class="mtk12">0.3</span><span class="mtk1">,&nbsp;random_state=</span><span class="mtk12">42</span></span><br><span><span class="mtk1">)</span></span><br><span><span></span></span><br><span><span class="mtk1">knn_pca&nbsp;=&nbsp;KNeighborsClassifier(n_neighbors=</span><span class="mtk12">5</span><span class="mtk1">)</span></span><br><span><span class="mtk1">knn_pca.fit(X_train_pca,&nbsp;y_train_pca)</span></span><br><span><span class="mtk1">y_pred_pca&nbsp;=&nbsp;knn_pca.predict(X_test_pca)</span></span><br><span><span class="mtk1">acc_pca&nbsp;=&nbsp;accuracy_score(y_test_pca,&nbsp;y_pred_pca)</span></span><br><span><span></span></span><br><span><span class="mtk8">#&nbsp;------------------&nbsp;Print&nbsp;Results&nbsp;---------------</span><span class="mtk8">---</span></span><br><span><span class="mtk15">print</span><span class="mtk1">(</span><span class="mtk21">"Accuracy&nbsp;on&nbsp;Original&nbsp;Dataset&nbsp;:"</span><span class="mtk1">,&nbsp;acc_orig)</span></span><br><span><span class="mtk15">print</span><span class="mtk1">(</span><span class="mtk21">"Accuracy&nbsp;on&nbsp;PCA&nbsp;(2&nbsp;components):"</span><span class="mtk1">,&nbsp;acc_pca)</span></span><br><span><span></span></span><br></pre><colab-read-only-cell-placeholder style="display: none;"><template shadowrootmode="open"><!----><div><!--?lit$764029187$-->Start coding or <span tabindex="0" role="button" class="link">generate</span> with AI.</div></template></colab-read-only-cell-placeholder></pre></div><colab-form class="formview vertical layout flex"><div class="widget-area vertical layout"></div></colab-form></div>
    <div class="output" aria-label="Cell 10 output" role="region"><!----> <div class="output-header"> </div>
        <div class="output-content">
          <div class="output-info"><colab-output-info><template shadowrootmode="open"><!----><md-icon-button data-aria-expanded="false" data-aria-haspopup="menu" aria-describedby="button-output-actions-tooltip" data-aria-label="Code cell output actions" id="button-output-actions" value=""><template shadowrootmode="open" shadowrootdelegatesfocus><!----><button id="button" class="icon-button  standard " aria-label="Code cell output actions" aria-haspopup="menu" aria-expanded="false">
        <!--?lit$764029187$--><md-focus-ring part="focus-ring" for="button" aria-hidden="true"><template shadowrootmode="open"><!----></template></md-focus-ring>
        <!--?lit$764029187$--><md-ripple aria-hidden="true"><template shadowrootmode="open"><!----><div class="surface   "></div></template></md-ripple>
        <!--?lit$764029187$--><span class="icon"><slot></slot></span>
        <!--?lit$764029187$-->
        <!--?lit$764029187$--><span class="touch"></span>
  </button></template>
        <md-icon aria-hidden="true"><template shadowrootmode="open"><!----><slot></slot></template><!--?lit$764029187$--><svg viewBox="0 0 24 24"><!--?lit$764029187$--><path d="m15.9 3.07c-4.32 0.0742-8.64-0.0355-13 0.0568-1.37 0.307-1.74 2.1-1.41 3.26 0.469 0.606 1.86 0.384 1.66-0.525 0.0448-0.329-0.183-0.93 0.354-0.766h13.3v1.53h1.71c0.0709-1.13 0.141-2.62-0.968-3.3-0.511-0.264-1.11-0.252-1.67-0.259zm2.94 6.84v4.87c1.62-1.62 3.24-3.24 4.87-4.87h-4.87zm0 0h-1.71v3.43l1.57 1.57c0.32-1.65 0.0556-3.34 0.135-5zm-1.71 3.43v-3.43h-3.43c1.14 1.14 2.29 2.29 3.43 3.43zm1.4 4.27h-1.71v1.48h-13.6v-1.48h-1.71c-0.0473 1.15-0.16 2.72 1.09 3.29 1.47 0.506 3.02 0.0265 4.53 0.192 3.34-0.0051 6.68 0.0336 10-0.0245 1.49-0.366 1.56-2.22 1.42-3.45zm-10.1-1.12c-0.398-0.483-0.796-0.967-1.19-1.45 0.59-0.683 1.18-1.37 1.77-2.05h-8.67v-2h8.67c-0.59-0.683-1.18-1.37-1.77-2.05 0.398-0.483 0.796-0.967 1.19-1.45 1.28 1.5 2.56 3 3.84 4.5-1.28 1.5-2.56 3-3.84 4.5z"></path></svg></md-icon>
      </md-icon-button>
      <colab-tooltip-trigger aria-hidden="true" id="button-output-actions-tooltip" for="button-output-actions" message="Code cell output actions"><template shadowrootmode="open"><!----><!--?lit$764029187$--><!----><div><!--?lit$764029187$-->Code cell output actions</div><!----><!--?--></template></colab-tooltip-trigger></template></colab-output-info></div>
          <div class="output-iframe-container">
            <div class="output-iframe-sizer" style="min-height: 0px;"> <div><div><colab-static-output-renderer tabindex="0" role="group"><div><div class="stream output-id-1 output_text"><pre>Accuracy on Original Dataset : 0.9629629629629629
Accuracy on PCA (2 components): 0.9814814814814815
</pre></div></div><div></div></colab-static-output-renderer></div></div></div>
          </div>
        </div></div></div><colab-cell-next-steps><template shadowrootmode="open"><!----></template></colab-cell-next-steps></div></div><div class="add-cell">
      <div class="add-cell-buttons">
        <md-outlined-button class="add-code add-button" data-aria-label="Add code cell
Ctrl+M B" title="Add code cell
Ctrl+M B" value="" has-icon=""><template shadowrootmode="open" shadowrootdelegatesfocus><!---->
      <!--?lit$764029187$--><div class="outline"></div>
      <div class="background"></div>
      <md-focus-ring part="focus-ring" for="button" aria-hidden="true"><template shadowrootmode="open"><!----></template></md-focus-ring>
      <md-ripple part="ripple" for="button" aria-hidden="true"><template shadowrootmode="open"><!----><div class="surface"></div></template></md-ripple>
      <!--?lit$764029187$--><button id="button" class="button" aria-label="Add code cell
Ctrl+M B">
      <!--?lit$764029187$-->
      <span class="touch"></span>
      <!--?lit$764029187$--><slot name="icon"></slot>
      <span class="label"><slot></slot></span>
      <!--?lit$764029187$-->
    
    </button>
    </template>
          <md-icon slot="icon" aria-hidden="true"><template shadowrootmode="open"><!----><slot></slot></template>add</md-icon>
          <!--?lit$764029187$-->Code
        </md-outlined-button>
        <md-outlined-button class="add-text add-button" data-aria-label="Add text cell" title="Add text cell" value="" has-icon=""><template shadowrootmode="open" shadowrootdelegatesfocus><!---->
      <!--?lit$764029187$--><div class="outline"></div>
      <div class="background"></div>
      <md-focus-ring part="focus-ring" for="button" aria-hidden="true"><template shadowrootmode="open"><!----></template></md-focus-ring>
      <md-ripple part="ripple" for="button" aria-hidden="true"><template shadowrootmode="open"><!----><div class="surface"></div></template></md-ripple>
      <!--?lit$764029187$--><button id="button" class="button" aria-label="Add text cell">
      <!--?lit$764029187$-->
      <span class="touch"></span>
      <!--?lit$764029187$--><slot name="icon"></slot>
      <span class="label"><slot></slot></span>
      <!--?lit$764029187$-->
    
    </button>
    </template>
          <md-icon slot="icon" aria-hidden="true"><template shadowrootmode="open"><!----><slot></slot></template>add</md-icon>
          <!--?lit$764029187$-->Text
        </md-outlined-button>
        <!--?lit$764029187$-->
        <!--?lit$764029187$-->
      </div><hr>
    </div></div><div class="cell text" id="cell-xYXVcnVzdFqp" tabindex="-1" role="region" aria-label="Cell 11: Text cell: " style="opacity: 1;"><div class="cell-tag-editor sticky"></div><div class="agent-focus-label">
      <md-icon aria-hidden="true"><template shadowrootmode="open"><!----><slot></slot></template>spark</md-icon>
      <!--?lit$764029187$-->Gemini
    </div><div class="cell-toolbar sticky"></div><div class="main-content" elevation="0"><div class="cell-contents"><div class="cell-mask"></div><span class="imported-info-area"></span><!----> <div class="toolbar-root"><div class="markdown-toolbar"><!----><!--?lit$764029187$--><!----><md-icon-button id="markdown-toolbar-header-xYXVcnVzdFqp" class="markdown-toolbar-header" aria-describedby="markdown-toolbar-header-xYXVcnVzdFqp-tooltip" data-aria-label="Toggle heading" value=""><template shadowrootmode="open" shadowrootdelegatesfocus><!----><button id="button" class="icon-button  standard " aria-label="Toggle heading">
        <!--?lit$764029187$--><md-focus-ring part="focus-ring" for="button" aria-hidden="true"><template shadowrootmode="open"><!----></template></md-focus-ring>
        <!--?lit$764029187$--><md-ripple aria-hidden="true"><template shadowrootmode="open"><!----><div class="surface   "></div></template></md-ripple>
        <!--?lit$764029187$--><span class="icon"><slot></slot></span>
        <!--?lit$764029187$-->
        <!--?lit$764029187$--><span class="touch"></span>
  </button></template>
        <!--?lit$764029187$--><md-icon aria-hidden="true"><template shadowrootmode="open"><!----><slot></slot></template><!--?lit$764029187$-->format_size</md-icon>
      </md-icon-button>
      <colab-tooltip-trigger aria-hidden="true" for="markdown-toolbar-header-xYXVcnVzdFqp" id="markdown-toolbar-header-xYXVcnVzdFqp-tooltip" message="Toggle heading"><template shadowrootmode="open"><!----><!--?lit$764029187$--><!----><div><!--?lit$764029187$-->Toggle heading</div><!----><!--?--></template></colab-tooltip-trigger><!----><!----><md-icon-button id="markdown-toolbar-bold-xYXVcnVzdFqp" class="markdown-toolbar-bold" aria-describedby="markdown-toolbar-bold-xYXVcnVzdFqp-tooltip" data-aria-label="Bold" value=""><template shadowrootmode="open" shadowrootdelegatesfocus><!----><button id="button" class="icon-button  standard " aria-label="Bold">
        <!--?lit$764029187$--><md-focus-ring part="focus-ring" for="button" aria-hidden="true"><template shadowrootmode="open"><!----></template></md-focus-ring>
        <!--?lit$764029187$--><md-ripple aria-hidden="true"><template shadowrootmode="open"><!----><div class="surface   "></div></template></md-ripple>
        <!--?lit$764029187$--><span class="icon"><slot></slot></span>
        <!--?lit$764029187$-->
        <!--?lit$764029187$--><span class="touch"></span>
  </button></template>
        <!--?lit$764029187$--><md-icon aria-hidden="true"><template shadowrootmode="open"><!----><slot></slot></template><!--?lit$764029187$-->format_bold</md-icon>
      </md-icon-button>
      <colab-tooltip-trigger aria-hidden="true" for="markdown-toolbar-bold-xYXVcnVzdFqp" id="markdown-toolbar-bold-xYXVcnVzdFqp-tooltip" message="Bold"><template shadowrootmode="open"><!----><!--?lit$764029187$--><!----><div><!--?lit$764029187$-->Bold</div><!----><!--?--></template></colab-tooltip-trigger><!----><!----><md-icon-button id="markdown-toolbar-italic-xYXVcnVzdFqp" class="markdown-toolbar-italic" aria-describedby="markdown-toolbar-italic-xYXVcnVzdFqp-tooltip" data-aria-label="Italicize" value=""><template shadowrootmode="open" shadowrootdelegatesfocus><!----><button id="button" class="icon-button  standard " aria-label="Italicize">
        <!--?lit$764029187$--><md-focus-ring part="focus-ring" for="button" aria-hidden="true"><template shadowrootmode="open"><!----></template></md-focus-ring>
        <!--?lit$764029187$--><md-ripple aria-hidden="true"><template shadowrootmode="open"><!----><div class="surface   "></div></template></md-ripple>
        <!--?lit$764029187$--><span class="icon"><slot></slot></span>
        <!--?lit$764029187$-->
        <!--?lit$764029187$--><span class="touch"></span>
  </button></template>
        <!--?lit$764029187$--><md-icon aria-hidden="true"><template shadowrootmode="open"><!----><slot></slot></template><!--?lit$764029187$-->format_italic</md-icon>
      </md-icon-button>
      <colab-tooltip-trigger aria-hidden="true" for="markdown-toolbar-italic-xYXVcnVzdFqp" id="markdown-toolbar-italic-xYXVcnVzdFqp-tooltip" message="Italicize"><template shadowrootmode="open"><!----><!--?lit$764029187$--><!----><div><!--?lit$764029187$-->Italicize</div><!----><!--?--></template></colab-tooltip-trigger><!----><!----><md-icon-button id="markdown-toolbar-code-xYXVcnVzdFqp" class="markdown-toolbar-code" aria-describedby="markdown-toolbar-code-xYXVcnVzdFqp-tooltip" data-aria-label="Format as code" value=""><template shadowrootmode="open" shadowrootdelegatesfocus><!----><button id="button" class="icon-button  standard " aria-label="Format as code">
        <!--?lit$764029187$--><md-focus-ring part="focus-ring" for="button" aria-hidden="true"><template shadowrootmode="open"><!----></template></md-focus-ring>
        <!--?lit$764029187$--><md-ripple aria-hidden="true"><template shadowrootmode="open"><!----><div class="surface   "></div></template></md-ripple>
        <!--?lit$764029187$--><span class="icon"><slot></slot></span>
        <!--?lit$764029187$-->
        <!--?lit$764029187$--><span class="touch"></span>
  </button></template>
        <!--?lit$764029187$--><md-icon aria-hidden="true"><template shadowrootmode="open"><!----><slot></slot></template><!--?lit$764029187$-->code</md-icon>
      </md-icon-button>
      <colab-tooltip-trigger aria-hidden="true" for="markdown-toolbar-code-xYXVcnVzdFqp" id="markdown-toolbar-code-xYXVcnVzdFqp-tooltip" message="Format as code"><template shadowrootmode="open"><!----><!--?lit$764029187$--><!----><div><!--?lit$764029187$-->Format as code</div><!----><!--?--></template></colab-tooltip-trigger><!----><!----><md-icon-button id="markdown-toolbar-link-xYXVcnVzdFqp" class="markdown-toolbar-link" aria-describedby="markdown-toolbar-link-xYXVcnVzdFqp-tooltip" data-aria-label="Insert link" value=""><template shadowrootmode="open" shadowrootdelegatesfocus><!----><button id="button" class="icon-button  standard " aria-label="Insert link">
        <!--?lit$764029187$--><md-focus-ring part="focus-ring" for="button" aria-hidden="true"><template shadowrootmode="open"><!----></template></md-focus-ring>
        <!--?lit$764029187$--><md-ripple aria-hidden="true"><template shadowrootmode="open"><!----><div class="surface   "></div></template></md-ripple>
        <!--?lit$764029187$--><span class="icon"><slot></slot></span>
        <!--?lit$764029187$-->
        <!--?lit$764029187$--><span class="touch"></span>
  </button></template>
        <!--?lit$764029187$--><md-icon aria-hidden="true"><template shadowrootmode="open"><!----><slot></slot></template><!--?lit$764029187$-->link</md-icon>
      </md-icon-button>
      <colab-tooltip-trigger aria-hidden="true" for="markdown-toolbar-link-xYXVcnVzdFqp" id="markdown-toolbar-link-xYXVcnVzdFqp-tooltip" message="Insert link"><template shadowrootmode="open"><!----><!--?lit$764029187$--><!----><div><!--?lit$764029187$-->Insert link</div><!----><!--?--></template></colab-tooltip-trigger><!----><!----><label for="markdown-image-input-xYXVcnVzdFqp" class="colab-icon markdown-toolbar-insert-image">
        <md-ripple aria-hidden="true"><template shadowrootmode="open"><!----><div class="surface   "></div></template></md-ripple>
        <span role="button" tabindex="0" id="markdown-toolbar-insert-image-xYXVcnVzdFqp" aria-describedby="markdown-toolbar-insert-image-xYXVcnVzdFqp-tooltip" aria-label="Insert image">
          <md-focus-ring aria-hidden="true"><template shadowrootmode="open"><!----></template></md-focus-ring>
          <md-icon aria-hidden="true"><template shadowrootmode="open"><!----><slot></slot></template>image</md-icon>
        </span>
        <colab-tooltip-trigger aria-hidden="true" for="markdown-toolbar-insert-image-xYXVcnVzdFqp" id="markdown-toolbar-insert-image-xYXVcnVzdFqp-tooltip" message="Insert image"><template shadowrootmode="open"><!----><!--?lit$764029187$--><!----><div><!--?lit$764029187$-->Insert image</div><!----><!--?--></template></colab-tooltip-trigger>
      </label>
      <input class="markdown-image-input" type="file" multiple="" accept="image/*" id="markdown-image-input-xYXVcnVzdFqp"><!----><!----><md-icon-button id="markdown-toolbar-blockquote-xYXVcnVzdFqp" class="markdown-toolbar-blockquote" aria-describedby="markdown-toolbar-blockquote-xYXVcnVzdFqp-tooltip" data-aria-label="Add blockquote" value=""><template shadowrootmode="open" shadowrootdelegatesfocus><!----><button id="button" class="icon-button  standard " aria-label="Add blockquote">
        <!--?lit$764029187$--><md-focus-ring part="focus-ring" for="button" aria-hidden="true"><template shadowrootmode="open"><!----></template></md-focus-ring>
        <!--?lit$764029187$--><md-ripple aria-hidden="true"><template shadowrootmode="open"><!----><div class="surface   "></div></template></md-ripple>
        <!--?lit$764029187$--><span class="icon"><slot></slot></span>
        <!--?lit$764029187$-->
        <!--?lit$764029187$--><span class="touch"></span>
  </button></template>
        <!--?lit$764029187$--><md-icon aria-hidden="true"><template shadowrootmode="open"><!----><slot></slot></template><!--?lit$764029187$-->format_quote</md-icon>
      </md-icon-button>
      <colab-tooltip-trigger aria-hidden="true" for="markdown-toolbar-blockquote-xYXVcnVzdFqp" id="markdown-toolbar-blockquote-xYXVcnVzdFqp-tooltip" message="Add blockquote"><template shadowrootmode="open"><!----><!--?lit$764029187$--><!----><div><!--?lit$764029187$-->Add blockquote</div><!----><!--?--></template></colab-tooltip-trigger><!----><!----><md-icon-button id="markdown-toolbar-ol-xYXVcnVzdFqp" class="markdown-toolbar-ol" aria-describedby="markdown-toolbar-ol-xYXVcnVzdFqp-tooltip" data-aria-label="Add numbered list" value=""><template shadowrootmode="open" shadowrootdelegatesfocus><!----><button id="button" class="icon-button  standard " aria-label="Add numbered list">
        <!--?lit$764029187$--><md-focus-ring part="focus-ring" for="button" aria-hidden="true"><template shadowrootmode="open"><!----></template></md-focus-ring>
        <!--?lit$764029187$--><md-ripple aria-hidden="true"><template shadowrootmode="open"><!----><div class="surface   "></div></template></md-ripple>
        <!--?lit$764029187$--><span class="icon"><slot></slot></span>
        <!--?lit$764029187$-->
        <!--?lit$764029187$--><span class="touch"></span>
  </button></template>
        <!--?lit$764029187$--><md-icon aria-hidden="true"><template shadowrootmode="open"><!----><slot></slot></template><!--?lit$764029187$-->format_list_numbered</md-icon>
      </md-icon-button>
      <colab-tooltip-trigger aria-hidden="true" for="markdown-toolbar-ol-xYXVcnVzdFqp" id="markdown-toolbar-ol-xYXVcnVzdFqp-tooltip" message="Add numbered list"><template shadowrootmode="open"><!----><!--?lit$764029187$--><!----><div><!--?lit$764029187$-->Add numbered list</div><!----><!--?--></template></colab-tooltip-trigger><!----><!----><md-icon-button id="markdown-toolbar-ul-xYXVcnVzdFqp" class="markdown-toolbar-ul" aria-describedby="markdown-toolbar-ul-xYXVcnVzdFqp-tooltip" data-aria-label="Add bulleted list" value=""><template shadowrootmode="open" shadowrootdelegatesfocus><!----><button id="button" class="icon-button  standard " aria-label="Add bulleted list">
        <!--?lit$764029187$--><md-focus-ring part="focus-ring" for="button" aria-hidden="true"><template shadowrootmode="open"><!----></template></md-focus-ring>
        <!--?lit$764029187$--><md-ripple aria-hidden="true"><template shadowrootmode="open"><!----><div class="surface   "></div></template></md-ripple>
        <!--?lit$764029187$--><span class="icon"><slot></slot></span>
        <!--?lit$764029187$-->
        <!--?lit$764029187$--><span class="touch"></span>
  </button></template>
        <!--?lit$764029187$--><md-icon aria-hidden="true"><template shadowrootmode="open"><!----><slot></slot></template><!--?lit$764029187$-->format_list_bulleted</md-icon>
      </md-icon-button>
      <colab-tooltip-trigger aria-hidden="true" for="markdown-toolbar-ul-xYXVcnVzdFqp" id="markdown-toolbar-ul-xYXVcnVzdFqp-tooltip" message="Add bulleted list"><template shadowrootmode="open"><!----><!--?lit$764029187$--><!----><div><!--?lit$764029187$-->Add bulleted list</div><!----><!--?--></template></colab-tooltip-trigger><!----><!----><md-icon-button id="markdown-toolbar-hr-xYXVcnVzdFqp" class="markdown-toolbar-hr" aria-describedby="markdown-toolbar-hr-xYXVcnVzdFqp-tooltip" data-aria-label="Add horizontal rule" value=""><template shadowrootmode="open" shadowrootdelegatesfocus><!----><button id="button" class="icon-button  standard " aria-label="Add horizontal rule">
        <!--?lit$764029187$--><md-focus-ring part="focus-ring" for="button" aria-hidden="true"><template shadowrootmode="open"><!----></template></md-focus-ring>
        <!--?lit$764029187$--><md-ripple aria-hidden="true"><template shadowrootmode="open"><!----><div class="surface   "></div></template></md-ripple>
        <!--?lit$764029187$--><span class="icon"><slot></slot></span>
        <!--?lit$764029187$-->
        <!--?lit$764029187$--><span class="touch"></span>
  </button></template>
        <!--?lit$764029187$--><md-icon aria-hidden="true"><template shadowrootmode="open"><!----><slot></slot></template><!--?lit$764029187$-->horizontal_rule</md-icon>
      </md-icon-button>
      <colab-tooltip-trigger aria-hidden="true" for="markdown-toolbar-hr-xYXVcnVzdFqp" id="markdown-toolbar-hr-xYXVcnVzdFqp-tooltip" message="Add horizontal rule"><template shadowrootmode="open"><!----><!--?lit$764029187$--><!----><div><!--?lit$764029187$-->Add horizontal rule</div><!----><!--?--></template></colab-tooltip-trigger><!----><!----><md-icon-button id="markdown-toolbar-latex-xYXVcnVzdFqp" class="markdown-toolbar-latex" aria-describedby="markdown-toolbar-latex-xYXVcnVzdFqp-tooltip" data-aria-label="LaTeX" value=""><template shadowrootmode="open" shadowrootdelegatesfocus><!----><button id="button" class="icon-button  standard " aria-label="LaTeX">
        <!--?lit$764029187$--><md-focus-ring part="focus-ring" for="button" aria-hidden="true"><template shadowrootmode="open"><!----></template></md-focus-ring>
        <!--?lit$764029187$--><md-ripple aria-hidden="true"><template shadowrootmode="open"><!----><div class="surface   "></div></template></md-ripple>
        <!--?lit$764029187$--><span class="icon"><slot></slot></span>
        <!--?lit$764029187$-->
        <!--?lit$764029187$--><span class="touch"></span>
  </button></template>
        <!--?lit$764029187$--><span aria-hidden="true">ψ</span>
      </md-icon-button>
      <colab-tooltip-trigger aria-hidden="true" for="markdown-toolbar-latex-xYXVcnVzdFqp" id="markdown-toolbar-latex-xYXVcnVzdFqp-tooltip" message="LaTeX"><template shadowrootmode="open"><!----><!--?lit$764029187$--><!----><div><!--?lit$764029187$-->LaTeX</div><!----><!--?--></template></colab-tooltip-trigger><!----><!----><md-icon-button id="markdown-toolbar-emoji-xYXVcnVzdFqp" class="markdown-toolbar-emoji" aria-describedby="markdown-toolbar-emoji-xYXVcnVzdFqp-tooltip" data-aria-label="Insert emoji" value=""><template shadowrootmode="open" shadowrootdelegatesfocus><!----><button id="button" class="icon-button  standard " aria-label="Insert emoji">
        <!--?lit$764029187$--><md-focus-ring part="focus-ring" for="button" aria-hidden="true"><template shadowrootmode="open"><!----></template></md-focus-ring>
        <!--?lit$764029187$--><md-ripple aria-hidden="true"><template shadowrootmode="open"><!----><div class="surface   "></div></template></md-ripple>
        <!--?lit$764029187$--><span class="icon"><slot></slot></span>
        <!--?lit$764029187$-->
        <!--?lit$764029187$--><span class="touch"></span>
  </button></template>
        <!--?lit$764029187$--><md-icon aria-hidden="true"><template shadowrootmode="open"><!----><slot></slot></template><!--?lit$764029187$-->mood</md-icon>
      </md-icon-button>
      <colab-tooltip-trigger aria-hidden="true" for="markdown-toolbar-emoji-xYXVcnVzdFqp" id="markdown-toolbar-emoji-xYXVcnVzdFqp-tooltip" message="Insert emoji"><template shadowrootmode="open"><!----><!--?lit$764029187$--><!----><div><!--?lit$764029187$-->Insert emoji</div><!----><!--?--></template></colab-tooltip-trigger><!----><!----><md-icon-button id="markdown-toolbar-preview-xYXVcnVzdFqp" class="markdown-toolbar-preview" aria-describedby="markdown-toolbar-preview-xYXVcnVzdFqp-tooltip" data-aria-label="Reposition markdown preview" value=""><template shadowrootmode="open" shadowrootdelegatesfocus><!----><button id="button" class="icon-button  standard " aria-label="Reposition markdown preview">
        <!--?lit$764029187$--><md-focus-ring part="focus-ring" for="button" aria-hidden="true"><template shadowrootmode="open"><!----></template></md-focus-ring>
        <!--?lit$764029187$--><md-ripple aria-hidden="true"><template shadowrootmode="open"><!----><div class="surface   "></div></template></md-ripple>
        <!--?lit$764029187$--><span class="icon"><slot></slot></span>
        <!--?lit$764029187$-->
        <!--?lit$764029187$--><span class="touch"></span>
  </button></template>
        <!--?lit$764029187$--><md-icon aria-hidden="true"><template shadowrootmode="open"><!----><slot></slot></template><!--?lit$764029187$--><svg viewBox="0 0 24 24"><!--?lit$764029187$--><g id="markdown-preview-below">
  <rect width="20" height="18" x="2" y="2" rx="2" ry="2" style="fill:none;stroke:var(--colab-icon-color)"></rect>
  <line x1="4.5" y1="13" x2="19.5" y2="13" style="stroke:var(--colab-primary-text-color);stroke-dasharray:2"></line>
  <line x1="2.5" y1="4" x2="21.5" y2="4" style="stroke:var(--colab-icon-color);stroke-width:3px;"></line>
</g></svg></md-icon>
      </md-icon-button>
      <colab-tooltip-trigger aria-hidden="true" for="markdown-toolbar-preview-xYXVcnVzdFqp" id="markdown-toolbar-preview-xYXVcnVzdFqp-tooltip" message="Reposition markdown preview"><template shadowrootmode="open"><!----><!--?lit$764029187$--><!----><div><!--?lit$764029187$-->Reposition markdown preview</div><!----><!--?--></template></colab-tooltip-trigger><!----><!--?--></div></div>
      <div class="editor-container horizontal">
        <div class="editor-root"><div class="editor flex monaco" data-keybinding-context="14" data-mode-id="markdown" style="height: 67px; --vscode-editorCodeLens-lineHeight: 16px; --vscode-editorCodeLens-fontSize: 12px; --vscode-editorCodeLens-fontFeatureSettings: &quot;liga&quot; off, &quot;calt&quot; off; display: none;"><div class="monaco-editor no-user-select  showUnused showDeprecated vs" role="code" data-uri="inmemory://model/15" style="width: 641px; height: 67px;"><div data-mprt="3" class="overflow-guard" style="width: 641px; height: 67px; overflow: clip;"><div class="margin" role="presentation" aria-hidden="true" style="position: absolute; contain: strict; will-change: unset; top: 0px; height: 67px; width: 6px;"><div class="glyph-margin" style="left: 0px; width: 0px; height: 67px;"></div><div class="margin-view-zones" role="presentation" aria-hidden="true" style="position: absolute;"></div><div class="margin-view-overlays" role="presentation" aria-hidden="true" style="position: absolute; font-family: monospace, Consolas, &quot;Courier New&quot;, monospace; font-weight: normal; font-size: 14px; font-feature-settings: &quot;liga&quot; 0, &quot;calt&quot; 0; font-variation-settings: normal; line-height: 19px; letter-spacing: 0px; width: 6px; height: 67px;"><div style="position:absolute;top:0px;width:100%;height:19px;"></div><div style="position:absolute;top:19px;width:100%;height:19px;"></div><div style="position:absolute;top:38px;width:100%;height:19px;"><div class="current-line current-line-margin-both" style="width:6px; height:19px;"></div></div></div><div class="glyph-margin-widgets" style="position: absolute; top: 0px;"></div></div><div class="monaco-scrollable-element editor-scrollable vs" role="presentation" data-mprt="5" style="position: absolute; overflow: hidden; left: 6px; width: 635px; height: 67px;"><div class="lines-content monaco-editor-background" style="position: absolute; overflow: hidden; width: 1e+06px; height: 67px; contain: strict; will-change: unset; top: 0px; left: 0px;"><div class="view-overlays" role="presentation" aria-hidden="true" style="position: absolute; font-family: monospace, Consolas, &quot;Courier New&quot;, monospace; font-weight: normal; font-size: 14px; font-feature-settings: &quot;liga&quot; 0, &quot;calt&quot; 0; font-variation-settings: normal; line-height: 19px; letter-spacing: 0px; height: 0px; width: 635px;"><div style="position:absolute;top:0px;width:100%;height:19px;"></div><div style="position:absolute;top:19px;width:100%;height:19px;"></div><div style="position:absolute;top:38px;width:100%;height:19px;"><div class="current-line" style="width:635px; height:19px;"></div></div></div><div role="presentation" aria-hidden="true" class="view-rulers"><div class="view-ruler" style="width: 2px; height: 67px; left: 615.938px;"></div></div><div class="view-zones" role="presentation" aria-hidden="true" style="position: absolute;"></div><div class="view-lines monaco-mouse-cursor-text" role="presentation" aria-hidden="true" data-mprt="7" style="position: absolute; font-family: monospace, Consolas, &quot;Courier New&quot;, monospace; font-weight: normal; font-size: 14px; font-feature-settings: &quot;liga&quot; 0, &quot;calt&quot; 0; font-variation-settings: normal; line-height: 19px; letter-spacing: 0px; width: 635px; height: 67px;"><div style="top:0px;height:19px;" class="view-line"><span><span class="mtk1">Question&nbsp;9:&nbsp;Train&nbsp;a&nbsp;KNN&nbsp;Classifier&nbsp;with&nbsp;different&nbsp;</span><span class="mtk1">distance&nbsp;metrics&nbsp;</span><span class="mtk1 bracket-highlighting-0">(</span><span class="mtk1">euclidean,</span></span></div><div style="top:19px;height:19px;" class="view-line"><span><span class="mtk1">manhattan</span><span class="mtk1 bracket-highlighting-0">)</span><span class="mtk1">&nbsp;on&nbsp;the&nbsp;scaled&nbsp;Wine&nbsp;dataset&nbsp;and&nbsp;compare&nbsp;the&nbsp;result</span><span class="mtk1">s.</span></span></div><div style="top:38px;height:19px;" class="view-line"><span><span></span></span></div></div><div data-mprt="1" class="contentWidgets" style="position: absolute; top: 0px;"></div><div role="presentation" aria-hidden="true" class="cursors-layer cursor-line-style cursor-solid"><div class="cursor monaco-mouse-cursor-text " style="height: 19px; top: 38px; left: 0px; font-family: monospace, Consolas, &quot;Courier New&quot;, monospace; font-weight: normal; font-size: 14px; font-feature-settings: &quot;liga&quot; 0, &quot;calt&quot; 0; font-variation-settings: normal; line-height: 19px; letter-spacing: 0px; display: block; visibility: hidden; padding-left: 0px; width: 2px;"></div></div></div><div role="presentation" aria-hidden="true" class="invisible scrollbar horizontal" style="position: absolute; width: 621px; height: 10px; left: 0px; bottom: 0px;"><div class="slider" style="position: absolute; top: 0px; left: 0px; height: 10px; transform: translate3d(0px, 0px, 0px); contain: strict; will-change: unset; width: 621px;"></div></div><canvas class="decorationsOverviewRuler" aria-hidden="true" width="14" height="67" style="position: absolute; transform: translate3d(0px, 0px, 0px); contain: strict; top: 0px; right: 0px; width: 14px; height: 67px; will-change: unset; display: block;"></canvas><div role="presentation" aria-hidden="true" class="invisible scrollbar vertical" style="position: absolute; width: 14px; height: 67px; right: 0px; top: 0px;"><div class="slider" style="position: absolute; top: 0px; left: 0px; width: 14px; transform: translate3d(0px, 0px, 0px); contain: strict; will-change: unset; height: 67px;"></div></div></div><div role="presentation" aria-hidden="true" style="width: 641px;"></div><textarea data-mprt="6" class="inputarea monaco-mouse-cursor-text" wrap="on" autocorrect="off" autocapitalize="off" autocomplete="off" spellcheck="false" aria-label="Editor content;Press Alt+F1 for Accessibility Options." tabindex="0" role="textbox" aria-roledescription="editor" aria-multiline="true" aria-haspopup="false" aria-autocomplete="both" style="tab-size: 15.3984px; font-family: monospace, Consolas, &quot;Courier New&quot;, monospace; font-weight: normal; font-size: 14px; font-feature-settings: &quot;liga&quot; 0, &quot;calt&quot; 0; font-variation-settings: normal; line-height: 19px; letter-spacing: 0px; top: 38px; left: 6px; width: 616px; height: 1px;"></textarea><div style="position: absolute; top: 0px; left: 0px; width: 0px; height: 0px;" class="monaco-editor-background textAreaCover"></div><div data-mprt="4" class="overlayWidgets" style="width: 641px;"></div><div data-mprt="8" class="minimap slider-mouseover" role="presentation" aria-hidden="true" style="position: absolute; left: 0px; width: 0px; height: 67px;"><div class="minimap-shadow-hidden" style="height: 67px;"></div><canvas width="0" height="67" style="position: absolute; left: 0px; width: 0px; height: 67px;"></canvas><canvas class="minimap-decorations-layer" width="0" height="67" style="position: absolute; left: 0px; width: 0px; height: 67px;"></canvas><div class="minimap-slider" style="position: absolute; transform: translate3d(0px, 0px, 0px); contain: strict; width: 0px; will-change: unset;"><div class="minimap-slider-horizontal" style="position: absolute; width: 0px; height: 0px;"></div></div></div><div role="presentation" aria-hidden="true" class="blockDecorations-container"></div></div><div data-mprt="2" class="overflowingContentWidgets" style="display: none;"><div widgetid="editor.contrib.resizableContentHoverWidget" style="position: fixed; height: 10px; width: 10px; z-index: 50; display: none; visibility: hidden; max-width: 1360px;"><div class="monaco-sash vertical" style="left: 8px;"></div><div class="monaco-sash vertical" style="left: -2px;"></div><div class="monaco-sash orthogonal-edge-north horizontal" style="top: -2px;"><div class="orthogonal-drag-handle start"></div><div class="orthogonal-drag-handle end"></div></div><div class="monaco-sash orthogonal-edge-south horizontal" style="top: 8px;"><div class="orthogonal-drag-handle start"></div><div class="orthogonal-drag-handle end"></div></div><div class="monaco-hover hidden" tabindex="0" role="tooltip"><div class="monaco-scrollable-element " role="presentation" style="position: relative; overflow: hidden;"><div class="monaco-hover-content" style="overflow: hidden; font-size: 14px; line-height: 1.35714; max-width: 500px; max-height: 250px;"></div><div role="presentation" aria-hidden="true" class="invisible scrollbar horizontal" style="position: absolute;"><div class="slider" style="position: absolute; top: 0px; left: 0px; height: 10px; transform: translate3d(0px, 0px, 0px); contain: strict;"></div></div><div role="presentation" aria-hidden="true" class="invisible scrollbar vertical" style="position: absolute;"><div class="slider" style="position: absolute; top: 0px; left: 0px; width: 10px; transform: translate3d(0px, 0px, 0px); contain: strict;"></div></div><div class="shadow"></div><div class="shadow"></div><div class="shadow"></div></div></div></div></div><div class=".in-cell-overflowing"><div widgetid="editor.contrib.quickInputWidget" style="position: absolute; top: 0px; right: 50%;"></div></div></div></div></div>
        <div class="text-top-div">
          <div class="markdown"><span><p>Question 9: Train a KNN Classifier with different distance metrics (euclidean,
manhattan) on the scaled Wine dataset and compare the results.</p>
</span></div>
        </div>
      </div>

      <div class="section-header" style="display: none;">
        <colab-run-button><template shadowrootmode="open"><!----> <div class="cell-execution">
      <button id="run-button" aria-label="Run cell" aria-disabled="false">
        <!--?lit$764029187$--><span class="execution-count"><!--?lit$764029187$-->[ ]</span>
        <span aria-hidden="true" class="cell-execution-indicator"><!--?lit$764029187$-->
<svg xmlns="http://www.w3.org/2000/svg" viewBox="0 0 24 24">
  <!--?lit$764029187$-->
  <mask id="playSymbolMask">
    <rect width="100%" height="100%" fill="white"></rect>
    <polygon points="10,8 17,12 10,16" fill="black"></polygon>
  </mask>
  <circle cx="12" cy="12" r="7.8" mask="url(#playSymbolMask)" id="filledCircle"></circle>
</svg></span>
      </button>
      <!--?lit$764029187$-->
      <!--?lit$764029187$--><!--?-->
    </div></template></colab-run-button>
        <div class="section-header-container" title="click to expand">
          <md-icon aria-hidden="true"><template shadowrootmode="open"><!----><slot></slot></template>subdirectory_arrow_right</md-icon>
          <span>0 cells hidden</span>
        </div>
      </div></div></div><div class="add-cell">
      <div class="add-cell-buttons">
        <md-outlined-button class="add-code add-button" data-aria-label="Add code cell
Ctrl+M B" title="Add code cell
Ctrl+M B" value="" has-icon=""><template shadowrootmode="open" shadowrootdelegatesfocus><!---->
      <!--?lit$764029187$--><div class="outline"></div>
      <div class="background"></div>
      <md-focus-ring part="focus-ring" for="button" aria-hidden="true"><template shadowrootmode="open"><!----></template></md-focus-ring>
      <md-ripple part="ripple" for="button" aria-hidden="true"><template shadowrootmode="open"><!----><div class="surface"></div></template></md-ripple>
      <!--?lit$764029187$--><button id="button" class="button" aria-label="Add code cell
Ctrl+M B">
      <!--?lit$764029187$-->
      <span class="touch"></span>
      <!--?lit$764029187$--><slot name="icon"></slot>
      <span class="label"><slot></slot></span>
      <!--?lit$764029187$-->
    
    </button>
    </template>
          <md-icon slot="icon" aria-hidden="true"><template shadowrootmode="open"><!----><slot></slot></template>add</md-icon>
          <!--?lit$764029187$-->Code
        </md-outlined-button>
        <md-outlined-button class="add-text add-button" data-aria-label="Add text cell" title="Add text cell" value="" has-icon=""><template shadowrootmode="open" shadowrootdelegatesfocus><!---->
      <!--?lit$764029187$--><div class="outline"></div>
      <div class="background"></div>
      <md-focus-ring part="focus-ring" for="button" aria-hidden="true"><template shadowrootmode="open"><!----></template></md-focus-ring>
      <md-ripple part="ripple" for="button" aria-hidden="true"><template shadowrootmode="open"><!----><div class="surface   "></div></template></md-ripple>
      <!--?lit$764029187$--><button id="button" class="button" aria-label="Add text cell">
      <!--?lit$764029187$-->
      <span class="touch"></span>
      <!--?lit$764029187$--><slot name="icon"></slot>
      <span class="label"><slot></slot></span>
      <!--?lit$764029187$-->
    
    </button>
    </template>
          <md-icon slot="icon" aria-hidden="true"><template shadowrootmode="open"><!----><slot></slot></template>add</md-icon>
          <!--?lit$764029187$-->Text
        </md-outlined-button>
        <!--?lit$764029187$-->
        <!--?lit$764029187$-->
      </div><hr>
    </div></div><div class="cell code code-has-output" id="cell-_28b-QBOdGvo" tabindex="-1" role="region" aria-label="Cell 12: Code cell: " style="opacity: 1;"><div class="cell-tag-editor sticky"></div><div class="agent-focus-label">
      <md-icon aria-hidden="true"><template shadowrootmode="open"><!----><slot></slot></template>spark</md-icon>
      <!--?lit$764029187$-->Gemini
    </div><div class="cell-toolbar sticky"></div><div class="main-content" elevation="0"><div class="cell-contents"><div class="cell-mask"></div><span class="imported-info-area"></span><div class="codecell-input-output">
      <div class="inputarea horizontal layout code">
        <div class="cell-gutter">
          <!-- Bounding range for vertical scrolling of icons -->
          <div class="cell-execution-container">
            <colab-run-button><template shadowrootmode="open"><!----> <div class="cell-execution">
      <button id="run-button" aria-describedby="run-button-tooltip" aria-label="Run cell" aria-disabled="false">
        <!--?lit$764029187$--><span class="execution-count"><!--?lit$764029187$-->[4]</span>
        <span aria-hidden="true" class="cell-execution-indicator"><!--?lit$764029187$-->
<svg xmlns="http://www.w3.org/2000/svg" viewBox="0 0 24 24">
  <!--?lit$764029187$-->
  <mask id="playSymbolMask">
    <rect width="100%" height="100%" fill="white"></rect>
    <polygon points="10,8 17,12 10,16" fill="black"></polygon>
  </mask>
  <circle cx="12" cy="12" r="7.8" mask="url(#playSymbolMask)" id="filledCircle"></circle>
</svg></span>
      </button>
      <!--?lit$764029187$--><colab-tooltip-trigger for="run-button" id="run-button-tooltip" aria-hidden="true" message="Run cell (Ctrl+Enter)
cell executed since last change

executed by kuldeep rajput
5:03 PM (4 minutes ago)
executed in 0.014s"><template shadowrootmode="open"><!----><!--?lit$764029187$--><!----><div><!--?lit$764029187$-->Run cell (Ctrl+Enter)</div><!----><!----><div><!--?lit$764029187$-->cell executed since last change</div><!----><!----><br><!----><!----><div><!--?lit$764029187$-->executed by kuldeep rajput</div><!----><!----><div><!--?lit$764029187$-->5:03 PM (4 minutes ago)</div><!----><!----><div><!--?lit$764029187$-->executed in 0.014s</div><!----><!--?--></template>
    </colab-tooltip-trigger>
      <!--?lit$764029187$--><div id="status" class="last-run">
      <md-icon aria-hidden="true"><template shadowrootmode="open"><!----><slot></slot></template><!--?lit$764029187$--><svg viewBox="0 0 24 24"><!--?lit$764029187$--><path d="M9 16.17L4.83 12l-1.42 1.41L9 19 21 7l-1.41-1.41z"></path></svg></md-icon>
      <div><!--?lit$764029187$-->0s</div>
    </div>
    </div></template></colab-run-button>
          </div>
        </div>
      <div class="editor flex lazy-editor" style=""><pre class="lazy-virtualized" style="font-size: 14px; line-height: 19px;"><pre class="lazy-gutter"></pre><pre class="monaco-colorized colab colab colab" data-lang="notebook-python"><span><span class="mtk8">#&nbsp;Import&nbsp;libraries</span></span><br><span><span class="mtk19">from</span><span class="mtk1">&nbsp;sklearn.datasets&nbsp;</span><span class="mtk19">import</span><span class="mtk1">&nbsp;load_wine</span></span><br><span><span class="mtk19">from</span><span class="mtk1">&nbsp;sklearn.model_selection&nbsp;</span><span class="mtk19">import</span><span class="mtk1">&nbsp;train_test_split</span></span><br><span><span class="mtk19">from</span><span class="mtk1">&nbsp;sklearn.neighbors&nbsp;</span><span class="mtk19">import</span><span class="mtk1">&nbsp;KNeighborsClassifier</span></span><br><span><span class="mtk19">from</span><span class="mtk1">&nbsp;sklearn.preprocessing&nbsp;</span><span class="mtk19">import</span><span class="mtk1">&nbsp;StandardScaler</span></span><br><span><span class="mtk19">from</span><span class="mtk1">&nbsp;sklearn.metrics&nbsp;</span><span class="mtk19">import</span><span class="mtk1">&nbsp;accuracy_score</span></span><br><span><span></span></span><br><span><span class="mtk8">#&nbsp;Load&nbsp;dataset</span></span><br><span><span class="mtk1">wine&nbsp;=&nbsp;load_wine()</span></span><br><span><span class="mtk1">X,&nbsp;y&nbsp;=&nbsp;wine.data,&nbsp;wine.target</span></span><br><span><span></span></span><br><span><span class="mtk8">#&nbsp;Standardize&nbsp;features&nbsp;(important&nbsp;for&nbsp;KNN)</span></span><br><span><span class="mtk1">scaler&nbsp;=&nbsp;StandardScaler()</span></span><br><span><span class="mtk1">X_scaled&nbsp;=&nbsp;scaler.fit_transform(X)</span></span><br><span><span></span></span><br><span><span class="mtk8">#&nbsp;Train-test&nbsp;split</span></span><br><span><span class="mtk1">X_train,&nbsp;X_test,&nbsp;y_train,&nbsp;y_test&nbsp;=&nbsp;train_test_spli</span><span class="mtk1">t(</span></span><br><span><span class="mtk1">&nbsp;&nbsp;&nbsp;&nbsp;X_scaled,&nbsp;y,&nbsp;test_size=</span><span class="mtk12">0.3</span><span class="mtk1">,&nbsp;random_state=</span><span class="mtk12">42</span></span><br><span><span class="mtk1">)</span></span><br><span><span></span></span><br><span><span class="mtk8">#&nbsp;------------------&nbsp;KNN&nbsp;with&nbsp;Euclidean&nbsp;Distance&nbsp;-</span><span class="mtk8">-----------------</span></span><br><span><span class="mtk1">knn_euclidean&nbsp;=&nbsp;KNeighborsClassifier(n_neighbors=</span><span class="mtk12">5</span><span class="mtk1">,&nbsp;metric=</span><span class="mtk21">"euclidean"</span><span class="mtk1">)</span></span><br><span><span class="mtk1">knn_euclidean.fit(X_train,&nbsp;y_train)</span></span><br><span><span class="mtk1">y_pred_euclidean&nbsp;=&nbsp;knn_euclidean.predict(X_test)</span></span><br><span><span class="mtk1">acc_euclidean&nbsp;=&nbsp;accuracy_score(y_test,&nbsp;y_pred_eucl</span><span class="mtk1">idean)</span></span><br><span><span></span></span><br><span><span class="mtk8">#&nbsp;------------------&nbsp;KNN&nbsp;with&nbsp;Manhattan&nbsp;Distance&nbsp;-</span><span class="mtk8">-----------------</span></span><br><span><span class="mtk1">knn_manhattan&nbsp;=&nbsp;KNeighborsClassifier(n_neighbors=</span><span class="mtk12">5</span><span class="mtk1">,&nbsp;metric=</span><span class="mtk21">"manhattan"</span><span class="mtk1">)</span></span><br><span><span class="mtk1">knn_manhattan.fit(X_train,&nbsp;y_train)</span></span><br><span><span class="mtk1">y_pred_manhattan&nbsp;=&nbsp;knn_manhattan.predict(X_test)</span></span><br><span><span class="mtk1">acc_manhattan&nbsp;=&nbsp;accuracy_score(y_test,&nbsp;y_pred_manh</span><span class="mtk1">attan)</span></span><br><span><span></span></span><br><span><span class="mtk8">#&nbsp;------------------&nbsp;Print&nbsp;Results&nbsp;---------------</span><span class="mtk8">---</span></span><br><span><span class="mtk15">print</span><span class="mtk1">(</span><span class="mtk21">"Accuracy&nbsp;with&nbsp;Euclidean&nbsp;Distance:"</span><span class="mtk1">,&nbsp;acc_euclidean)</span></span><br><span><span class="mtk15">print</span><span class="mtk1">(</span><span class="mtk21">"Accuracy&nbsp;with&nbsp;Manhattan&nbsp;Distance:"</span><span class="mtk1">,&nbsp;acc_manhattan)</span></span><br><span><span></span></span><br></pre><colab-read-only-cell-placeholder style="display: none;"><template shadowrootmode="open"><!----><div><!--?lit$764029187$-->Start coding or <span tabindex="0" role="button" class="link">generate</span> with AI.</div></template></colab-read-only-cell-placeholder></pre></div><colab-form class="formview vertical layout flex"><div class="widget-area vertical layout"></div></colab-form></div>
    <div class="output" aria-label="Cell 12 output" role="region"><!----> <div class="output-header"> </div>
        <div class="output-content">
          <div class="output-info"><colab-output-info><template shadowrootmode="open"><!----><md-icon-button data-aria-expanded="false" data-aria-haspopup="menu" aria-describedby="button-output-actions-tooltip" data-aria-label="Code cell output actions" id="button-output-actions" value=""><template shadowrootmode="open" shadowrootdelegatesfocus><!----><button id="button" class="icon-button  standard " aria-label="Code cell output actions" aria-haspopup="menu" aria-expanded="false">
        <!--?lit$764029187$--><md-focus-ring part="focus-ring" for="button" aria-hidden="true"><template shadowrootmode="open"><!----></template></md-focus-ring>
        <!--?lit$764029187$--><md-ripple aria-hidden="true"><template shadowrootmode="open"><!----><div class="surface   "></div></template></md-ripple>
        <!--?lit$764029187$--><span class="icon"><slot></slot></span>
        <!--?lit$764029187$-->
        <!--?lit$764029187$--><span class="touch"></span>
  </button></template>
        <md-icon aria-hidden="true"><template shadowrootmode="open"><!----><slot></slot></template><!--?lit$764029187$--><svg viewBox="0 0 24 24"><!--?lit$764029187$--><path d="m15.9 3.07c-4.32 0.0742-8.64-0.0355-13 0.0568-1.37 0.307-1.74 2.1-1.41 3.26 0.469 0.606 1.86 0.384 1.66-0.525 0.0448-0.329-0.183-0.93 0.354-0.766h13.3v1.53h1.71c0.0709-1.13 0.141-2.62-0.968-3.3-0.511-0.264-1.11-0.252-1.67-0.259zm2.94 6.84v4.87c1.62-1.62 3.24-3.24 4.87-4.87h-4.87zm0 0h-1.71v3.43l1.57 1.57c0.32-1.65 0.0556-3.34 0.135-5zm-1.71 3.43v-3.43h-3.43c1.14 1.14 2.29 2.29 3.43 3.43zm1.4 4.27h-1.71v1.48h-13.6v-1.48h-1.71c-0.0473 1.15-0.16 2.72 1.09 3.29 1.47 0.506 3.02 0.0265 4.53 0.192 3.34-0.0051 6.68 0.0336 10-0.0245 1.49-0.366 1.56-2.22 1.42-3.45zm-10.1-1.12c-0.398-0.483-0.796-0.967-1.19-1.45 0.59-0.683 1.18-1.37 1.77-2.05h-8.67v-2h8.67c-0.59-0.683-1.18-1.37-1.77-2.05 0.398-0.483 0.796-0.967 1.19-1.45 1.28 1.5 2.56 3 3.84 4.5-1.28 1.5-2.56 3-3.84 4.5z"></path></svg></md-icon>
      </md-icon-button>
      <colab-tooltip-trigger aria-hidden="true" id="button-output-actions-tooltip" for="button-output-actions" message="Code cell output actions"><template shadowrootmode="open"><!----><!--?lit$764029187$--><!----><div><!--?lit$764029187$-->Code cell output actions</div><!----><!--?--></template></colab-tooltip-trigger></template></colab-output-info></div>
          <div class="output-iframe-container">
            <div class="output-iframe-sizer" style="min-height: 0px;"> <div><div><colab-static-output-renderer tabindex="0" role="group"><div><div class="stream output-id-1 output_text"><pre>Accuracy with Euclidean Distance: 0.9629629629629629
Accuracy with Manhattan Distance: 0.9629629629629629
</pre></div></div><div></div></colab-static-output-renderer></div></div><div><div></div></div></div>
          </div>
        </div></div></div><colab-cell-next-steps><template shadowrootmode="open"><!----></template></colab-cell-next-steps></div></div><div class="add-cell">
      <div class="add-cell-buttons">
        <md-outlined-button class="add-code add-button" data-aria-label="Add code cell
Ctrl+M B" title="Add code cell
Ctrl+M B" value="" has-icon=""><template shadowrootmode="open" shadowrootdelegatesfocus><!---->
      <!--?lit$764029187$--><div class="outline"></div>
      <div class="background"></div>
      <md-focus-ring part="focus-ring" for="button" aria-hidden="true"><template shadowrootmode="open"><!----></template></md-focus-ring>
      <md-ripple part="ripple" for="button" aria-hidden="true"><template shadowrootmode="open"><!----><div class="surface"></div></template></md-ripple>
      <!--?lit$764029187$--><button id="button" class="button" aria-label="Add code cell
Ctrl+M B">
      <!--?lit$764029187$-->
      <span class="touch"></span>
      <!--?lit$764029187$--><slot name="icon"></slot>
      <span class="label"><slot></slot></span>
      <!--?lit$764029187$-->
    
    </button>
    </template>
          <md-icon slot="icon" aria-hidden="true"><template shadowrootmode="open"><!----><slot></slot></template>add</md-icon>
          <!--?lit$764029187$-->Code
        </md-outlined-button>
        <md-outlined-button class="add-text add-button" data-aria-label="Add text cell" title="Add text cell" value="" has-icon=""><template shadowrootmode="open" shadowrootdelegatesfocus><!---->
      <!--?lit$764029187$--><div class="outline"></div>
      <div class="background"></div>
      <md-focus-ring part="focus-ring" for="button" aria-hidden="true"><template shadowrootmode="open"><!----></template></md-focus-ring>
      <md-ripple part="ripple" for="button" aria-hidden="true"><template shadowrootmode="open"><!----><div class="surface"></div></template></md-ripple>
      <!--?lit$764029187$--><button id="button" class="button" aria-label="Add text cell">
      <!--?lit$764029187$-->
      <span class="touch"></span>
      <!--?lit$764029187$--><slot name="icon"></slot>
      <span class="label"><slot></slot></span>
      <!--?lit$764029187$-->
    
    </button>
    </template>
          <md-icon slot="icon" aria-hidden="true"><template shadowrootmode="open"><!----><slot></slot></template>add</md-icon>
          <!--?lit$764029187$-->Text
        </md-outlined-button>
        <!--?lit$764029187$-->
        <!--?lit$764029187$-->
      </div><hr>
    </div></div><div class="cell text focused edit" id="cell-mHSYsowmdTRP" tabindex="-1" role="region" aria-label="Cell 13: Text cell: " style="opacity: 1;"><div class="cell-tag-editor sticky"></div><div class="agent-focus-label">
      <md-icon aria-hidden="true"><template shadowrootmode="open"><!----><slot></slot></template>spark</md-icon>
      <!--?lit$764029187$-->Gemini
    </div><div class="cell-toolbar sticky"><colab-cell-toolbar><template shadowrootmode="open"><!----><!--?lit$764029187$--><!----> <md-icon-button touch-target="none" aria-describedby="button-move-cell-up-tooltip" data-aria-label="Move cell up
Ctrl+M K" command="move-cell-up" id="button-move-cell-up" value=""><template shadowrootmode="open" shadowrootdelegatesfocus><!----><button id="button" class="icon-button  standard " aria-label="Move cell up
Ctrl+M K">
        <!--?lit$764029187$--><md-focus-ring part="focus-ring" for="button" aria-hidden="true"><template shadowrootmode="open"><!----></template></md-focus-ring>
        <!--?lit$764029187$--><md-ripple aria-hidden="true"><template shadowrootmode="open"><!----><div class="surface   "></div></template></md-ripple>
        <!--?lit$764029187$--><span class="icon"><slot></slot></span>
        <!--?lit$764029187$-->
        <!--?lit$764029187$--><span class="touch"></span>
  </button></template>
        <md-icon aria-hidden="true"><template shadowrootmode="open"><!----><slot></slot></template><!--?lit$764029187$-->arrow_upward</md-icon>
        <!--?lit$764029187$-->
      </md-icon-button>
      <colab-tooltip-trigger aria-hidden="true" for="button-move-cell-up" id="button-move-cell-up-tooltip" message="Move cell up
Ctrl+M K"><template shadowrootmode="open"><!----><!--?lit$764029187$--><!----><div><!--?lit$764029187$-->Move cell up</div><!----><!----><div><!--?lit$764029187$-->Ctrl+M K</div><!----><!--?--></template>
      </colab-tooltip-trigger><!----><!----> <md-icon-button touch-target="none" aria-describedby="button-move-cell-down-tooltip" data-aria-label="Move cell down
Ctrl+M J" command="move-cell-down" id="button-move-cell-down" soft-disabled="" value=""><template shadowrootmode="open" shadowrootdelegatesfocus><!----><button id="button" class="icon-button  standard " aria-label="Move cell down
Ctrl+M J" aria-disabled="true">
        <!--?lit$764029187$--><md-focus-ring part="focus-ring" for="button" aria-hidden="true"><template shadowrootmode="open"><!----></template></md-focus-ring>
        <!--?lit$764029187$--><md-ripple disabled="" aria-hidden="true"><template shadowrootmode="open"><!----><div class="surface   "></div></template></md-ripple>
        <!--?lit$764029187$--><span class="icon"><slot></slot></span>
        <!--?lit$764029187$-->
        <!--?lit$764029187$--><span class="touch"></span>
  </button></template>
        <md-icon aria-hidden="true"><template shadowrootmode="open"><!----><slot></slot></template><!--?lit$764029187$-->arrow_downward</md-icon>
        <!--?lit$764029187$-->
      </md-icon-button>
      <colab-tooltip-trigger aria-hidden="true" for="button-move-cell-down" id="button-move-cell-down-tooltip" message="Move cell down
Ctrl+M J"><template shadowrootmode="open"><!----><!--?lit$764029187$--><!----><div><!--?lit$764029187$-->Move cell down</div><!----><!----><div><!--?lit$764029187$-->Ctrl+M J</div><!----><!--?--></template>
      </colab-tooltip-trigger><!----><!----> <md-icon-button touch-target="none" aria-describedby="button-copy-link-to-cell-tooltip" data-aria-label="Copy link to cell" command="copy-link-to-cell" id="button-copy-link-to-cell" value=""><template shadowrootmode="open" shadowrootdelegatesfocus><!----><button id="button" class="icon-button  standard " aria-label="Copy link to cell">
        <!--?lit$764029187$--><md-focus-ring part="focus-ring" for="button" aria-hidden="true"><template shadowrootmode="open"><!----></template></md-focus-ring>
        <!--?lit$764029187$--><md-ripple aria-hidden="true"><template shadowrootmode="open"><!----><div class="surface   "></div></template></md-ripple>
        <!--?lit$764029187$--><span class="icon"><slot></slot></span>
        <!--?lit$764029187$-->
        <!--?lit$764029187$--><span class="touch"></span>
  </button></template>
        <md-icon aria-hidden="true"><template shadowrootmode="open"><!----><slot></slot></template><!--?lit$764029187$-->link</md-icon>
        <!--?lit$764029187$-->
      </md-icon-button>
      <colab-tooltip-trigger aria-hidden="true" for="button-copy-link-to-cell" id="button-copy-link-to-cell-tooltip" message="Copy link to cell"><template shadowrootmode="open"><!----><!--?lit$764029187$--><!----><div><!--?lit$764029187$-->Copy link to cell</div><!----><!--?--></template>
      </colab-tooltip-trigger><!----><!----> <md-icon-button touch-target="none" aria-describedby="button-add-comment-tooltip" data-aria-label="Add a comment
Ctrl+Alt+M" command="add-comment" id="button-add-comment" value=""><template shadowrootmode="open" shadowrootdelegatesfocus><!----><button id="button" class="icon-button  standard " aria-label="Add a comment
Ctrl+Alt+M">
        <!--?lit$764029187$--><md-focus-ring part="focus-ring" for="button" aria-hidden="true"><template shadowrootmode="open"><!----></template></md-focus-ring>
        <!--?lit$764029187$--><md-ripple aria-hidden="true"><template shadowrootmode="open"><!----><div class="surface   "></div></template></md-ripple>
        <!--?lit$764029187$--><span class="icon"><slot></slot></span>
        <!--?lit$764029187$-->
        <!--?lit$764029187$--><span class="touch"></span>
  </button></template>
        <md-icon aria-hidden="true"><template shadowrootmode="open"><!----><slot></slot></template><!--?lit$764029187$-->comment</md-icon>
        <!--?lit$764029187$-->
      </md-icon-button>
      <colab-tooltip-trigger aria-hidden="true" for="button-add-comment" id="button-add-comment-tooltip" message="Add a comment
Ctrl+Alt+M"><template shadowrootmode="open"><!----><!--?lit$764029187$--><!----><div><!--?lit$764029187$-->Add a comment</div><!----><!----><div><!--?lit$764029187$-->Ctrl+Alt+M</div><!----><!--?--></template>
      </colab-tooltip-trigger><!----><!----> <md-icon-button touch-target="none" aria-describedby="button-editor-preferences-tooltip" data-aria-label="Open editor settings" command="editor-preferences" id="button-editor-preferences" value=""><template shadowrootmode="open" shadowrootdelegatesfocus><!----><button id="button" class="icon-button  standard " aria-label="Open editor settings">
        <!--?lit$764029187$--><md-focus-ring part="focus-ring" for="button" aria-hidden="true"><template shadowrootmode="open"><!----></template></md-focus-ring>
        <!--?lit$764029187$--><md-ripple aria-hidden="true"><template shadowrootmode="open"><!----><div class="surface   "></div></template></md-ripple>
        <!--?lit$764029187$--><span class="icon"><slot></slot></span>
        <!--?lit$764029187$-->
        <!--?lit$764029187$--><span class="touch"></span>
  </button></template>
        <md-icon filled="" aria-hidden="true"><template shadowrootmode="open"><!----><slot></slot></template><!--?lit$764029187$-->settings</md-icon>
        <!--?lit$764029187$-->
      </md-icon-button>
      <colab-tooltip-trigger aria-hidden="true" for="button-editor-preferences" id="button-editor-preferences-tooltip" message="Open editor settings"><template shadowrootmode="open"><!----><!--?lit$764029187$--><!----><div><!--?lit$764029187$-->Open editor settings</div><!----><!--?--></template>
      </colab-tooltip-trigger><!----><!----> <md-icon-button touch-target="none" aria-describedby="button-toggle-edit-markdown-tooltip" command="toggle-edit-markdown" id="button-toggle-edit-markdown" toggle="" data-aria-label="Close Markdown editor" selected="" value=""><template shadowrootmode="open" shadowrootdelegatesfocus><!----><button id="button" class="icon-button  selected standard " aria-label="Close Markdown editor" aria-pressed="true">
        <!--?lit$764029187$--><md-focus-ring part="focus-ring" for="button" aria-hidden="true"><template shadowrootmode="open"><!----></template></md-focus-ring>
        <!--?lit$764029187$--><md-ripple aria-hidden="true"><template shadowrootmode="open"><!----><div class="surface   "></div></template></md-ripple>
        <!--?lit$764029187$-->
        <!--?lit$764029187$--><span class="icon icon--selected"><slot name="selected"><slot></slot></slot></span>
        <!--?lit$764029187$--><span class="touch"></span>
  </button></template>
        <md-icon aria-hidden="true"><template shadowrootmode="open"><!----><slot></slot></template><!--?lit$764029187$-->edit</md-icon>
        <!--?lit$764029187$--><md-icon slot="selected" aria-hidden="true"><template shadowrootmode="open"><!----><slot></slot></template><!--?lit$764029187$-->edit_off</md-icon>
      </md-icon-button>
      <colab-tooltip-trigger aria-hidden="true" for="button-toggle-edit-markdown" id="button-toggle-edit-markdown-tooltip" message="Edit"><template shadowrootmode="open"><!----><!--?lit$764029187$--><!----><div><!--?lit$764029187$-->Close Markdown editor</div><!----><!--?--></template>
      </colab-tooltip-trigger><!----><!----> <md-icon-button touch-target="none" aria-describedby="button-mirror-cell-in-tab-tooltip" data-aria-label="Mirror cell in tab" command="mirror-cell-in-tab" id="button-mirror-cell-in-tab" value=""><template shadowrootmode="open" shadowrootdelegatesfocus><!----><button id="button" class="icon-button  standard " aria-label="Mirror cell in tab">
        <!--?lit$764029187$--><md-focus-ring part="focus-ring" for="button" aria-hidden="true"><template shadowrootmode="open"><!----></template></md-focus-ring>
        <!--?lit$764029187$--><md-ripple aria-hidden="true"><template shadowrootmode="open"><!----><div class="surface   "></div></template></md-ripple>
        <!--?lit$764029187$--><span class="icon"><slot></slot></span>
        <!--?lit$764029187$-->
        <!--?lit$764029187$--><span class="touch"></span>
  </button></template>
        <md-icon aria-hidden="true"><template shadowrootmode="open"><!----><slot></slot></template><!--?lit$764029187$--><svg viewBox="0 0 24 24"><!--?lit$764029187$-->
      <g id="mirror-cell">
        <path d="M4,21V7H2V21a2,2,0,0,0,2,2H18V21Z"></path>
        <path d="M6,13v2H8.6L5,18.6,6.4,20,10,16.4V19h2V13Z"></path>
        <path d="M19,1H8A2,2,0,0,0,6,3v8H8V3H19V17H14v2h5a2,2,0,0,0,2-2V3A2,2,0,0,0,19,1Z"></path>
      </g></svg></md-icon>
        <!--?lit$764029187$-->
      </md-icon-button>
      <colab-tooltip-trigger aria-hidden="true" for="button-mirror-cell-in-tab" id="button-mirror-cell-in-tab-tooltip" message="Mirror cell in tab"><template shadowrootmode="open"><!----><!--?lit$764029187$--><!----><div><!--?lit$764029187$-->Mirror cell in tab</div><!----><!--?--></template>
      </colab-tooltip-trigger><!----><!----> <md-icon-button touch-target="none" aria-describedby="button-delete-cell-or-selection-tooltip" data-aria-label="Delete cell
Ctrl+M D" command="delete-cell-or-selection" id="button-delete-cell-or-selection" value=""><template shadowrootmode="open" shadowrootdelegatesfocus><!----><button id="button" class="icon-button  standard " aria-label="Delete cell
Ctrl+M D">
        <!--?lit$764029187$--><md-focus-ring part="focus-ring" for="button" aria-hidden="true"><template shadowrootmode="open"><!----></template></md-focus-ring>
        <!--?lit$764029187$--><md-ripple aria-hidden="true"><template shadowrootmode="open"><!----><div class="surface   "></div></template></md-ripple>
        <!--?lit$764029187$--><span class="icon"><slot></slot></span>
        <!--?lit$764029187$-->
        <!--?lit$764029187$--><span class="touch"></span>
  </button></template>
        <md-icon aria-hidden="true"><template shadowrootmode="open"><!----><slot></slot></template><!--?lit$764029187$-->delete</md-icon>
        <!--?lit$764029187$-->
      </md-icon-button>
      <colab-tooltip-trigger aria-hidden="true" for="button-delete-cell-or-selection" id="button-delete-cell-or-selection-tooltip" message="Delete cell
Ctrl+M D"><template shadowrootmode="open"><!----><!--?lit$764029187$--><!----><div><!--?lit$764029187$-->Delete cell</div><!----><!----><div><!--?lit$764029187$-->Ctrl+M D</div><!----><!--?--></template>
      </colab-tooltip-trigger><!----><!--?lit$764029187$--><md-icon-button touch-target="none" data-aria-expanded="false" data-aria-haspopup="menu" aria-describedby="button-more-actions-tooltip" data-aria-label="More cell actions" class="cell-toolbar-more" id="button-more-actions" value=""><template shadowrootmode="open" shadowrootdelegatesfocus><!----><button id="button" class="icon-button  standard " aria-label="More cell actions" aria-haspopup="menu" aria-expanded="false">
        <!--?lit$764029187$--><md-focus-ring part="focus-ring" for="button" aria-hidden="true"><template shadowrootmode="open"><!----></template></md-focus-ring>
        <!--?lit$764029187$--><md-ripple aria-hidden="true"><template shadowrootmode="open"><!----><div class="surface   "></div></template></md-ripple>
        <!--?lit$764029187$--><span class="icon"><slot></slot></span>
        <!--?lit$764029187$-->
        <!--?lit$764029187$--><span class="touch"></span>
  </button></template><md-icon aria-hidden="true"><template shadowrootmode="open"><!----><slot></slot></template>more_vert</md-icon>
      </md-icon-button>
      <colab-tooltip-trigger aria-hidden="true" for="button-more-actions" id="button-more-actions-tooltip" message="More cell actions"><template shadowrootmode="open"><!----><!--?lit$764029187$--><!----><div><!--?lit$764029187$-->More cell actions</div><!----><!--?--></template>
      </colab-tooltip-trigger><!--?--></template></colab-cell-toolbar></div><div class="main-content" elevation="2"><div class="cell-contents"><div class="cell-mask"></div><span class="imported-info-area"></span><!----> <div class="toolbar-root"><div class="markdown-toolbar"><!----><!--?lit$764029187$--><!----><md-icon-button id="markdown-toolbar-header-mHSYsowmdTRP" class="markdown-toolbar-header" aria-describedby="markdown-toolbar-header-mHSYsowmdTRP-tooltip" data-aria-label="Toggle heading" value=""><template shadowrootmode="open" shadowrootdelegatesfocus><!----><button id="button" class="icon-button  standard " aria-label="Toggle heading">
        <!--?lit$764029187$--><md-focus-ring part="focus-ring" for="button" aria-hidden="true"><template shadowrootmode="open"><!----></template></md-focus-ring>
        <!--?lit$764029187$--><md-ripple aria-hidden="true"><template shadowrootmode="open"><!----><div class="surface   "></div></template></md-ripple>
        <!--?lit$764029187$--><span class="icon"><slot></slot></span>
        <!--?lit$764029187$-->
        <!--?lit$764029187$--><span class="touch"></span>
  </button></template>
        <!--?lit$764029187$--><md-icon aria-hidden="true"><template shadowrootmode="open"><!----><slot></slot></template><!--?lit$764029187$-->format_size</md-icon>
      </md-icon-button>
      <colab-tooltip-trigger aria-hidden="true" for="markdown-toolbar-header-mHSYsowmdTRP" id="markdown-toolbar-header-mHSYsowmdTRP-tooltip" message="Toggle heading"><template shadowrootmode="open"><!----><!--?lit$764029187$--><!----><div><!--?lit$764029187$-->Toggle heading</div><!----><!--?--></template></colab-tooltip-trigger><!----><!----><md-icon-button id="markdown-toolbar-bold-mHSYsowmdTRP" class="markdown-toolbar-bold" aria-describedby="markdown-toolbar-bold-mHSYsowmdTRP-tooltip" data-aria-label="Bold" value=""><template shadowrootmode="open" shadowrootdelegatesfocus><!----><button id="button" class="icon-button  standard " aria-label="Bold">
        <!--?lit$764029187$--><md-focus-ring part="focus-ring" for="button" aria-hidden="true"><template shadowrootmode="open"><!----></template></md-focus-ring>
        <!--?lit$764029187$--><md-ripple aria-hidden="true"><template shadowrootmode="open"><!----><div class="surface   "></div></template></md-ripple>
        <!--?lit$764029187$--><span class="icon"><slot></slot></span>
        <!--?lit$764029187$-->
        <!--?lit$764029187$--><span class="touch"></span>
  </button></template>
        <!--?lit$764029187$--><md-icon aria-hidden="true"><template shadowrootmode="open"><!----><slot></slot></template><!--?lit$764029187$-->format_bold</md-icon>
      </md-icon-button>
      <colab-tooltip-trigger aria-hidden="true" for="markdown-toolbar-bold-mHSYsowmdTRP" id="markdown-toolbar-bold-mHSYsowmdTRP-tooltip" message="Bold"><template shadowrootmode="open"><!----><!--?lit$764029187$--><!----><div><!--?lit$764029187$-->Bold</div><!----><!--?--></template></colab-tooltip-trigger><!----><!----><md-icon-button id="markdown-toolbar-italic-mHSYsowmdTRP" class="markdown-toolbar-italic" aria-describedby="markdown-toolbar-italic-mHSYsowmdTRP-tooltip" data-aria-label="Italicize" value=""><template shadowrootmode="open" shadowrootdelegatesfocus><!----><button id="button" class="icon-button  standard " aria-label="Italicize">
        <!--?lit$764029187$--><md-focus-ring part="focus-ring" for="button" aria-hidden="true"><template shadowrootmode="open"><!----></template></md-focus-ring>
        <!--?lit$764029187$--><md-ripple aria-hidden="true"><template shadowrootmode="open"><!----><div class="surface   "></div></template></md-ripple>
        <!--?lit$764029187$--><span class="icon"><slot></slot></span>
        <!--?lit$764029187$-->
        <!--?lit$764029187$--><span class="touch"></span>
  </button></template>
        <!--?lit$764029187$--><md-icon aria-hidden="true"><template shadowrootmode="open"><!----><slot></slot></template><!--?lit$764029187$-->format_italic</md-icon>
      </md-icon-button>
      <colab-tooltip-trigger aria-hidden="true" for="markdown-toolbar-italic-mHSYsowmdTRP" id="markdown-toolbar-italic-mHSYsowmdTRP-tooltip" message="Italicize"><template shadowrootmode="open"><!----><!--?lit$764029187$--><!----><div><!--?lit$764029187$-->Italicize</div><!----><!--?--></template></colab-tooltip-trigger><!----><!----><md-icon-button id="markdown-toolbar-code-mHSYsowmdTRP" class="markdown-toolbar-code" aria-describedby="markdown-toolbar-code-mHSYsowmdTRP-tooltip" data-aria-label="Format as code" value=""><template shadowrootmode="open" shadowrootdelegatesfocus><!----><button id="button" class="icon-button  standard " aria-label="Format as code">
        <!--?lit$764029187$--><md-focus-ring part="focus-ring" for="button" aria-hidden="true"><template shadowrootmode="open"><!----></template></md-focus-ring>
        <!--?lit$764029187$--><md-ripple aria-hidden="true"><template shadowrootmode="open"><!----><div class="surface   "></div></template></md-ripple>
        <!--?lit$764029187$--><span class="icon"><slot></slot></span>
        <!--?lit$764029187$-->
        <!--?lit$764029187$--><span class="touch"></span>
  </button></template>
        <!--?lit$764029187$--><md-icon aria-hidden="true"><template shadowrootmode="open"><!----><slot></slot></template><!--?lit$764029187$-->code</md-icon>
      </md-icon-button>
      <colab-tooltip-trigger aria-hidden="true" for="markdown-toolbar-code-mHSYsowmdTRP" id="markdown-toolbar-code-mHSYsowmdTRP-tooltip" message="Format as code"><template shadowrootmode="open"><!----><!--?lit$764029187$--><!----><div><!--?lit$764029187$-->Format as code</div><!----><!--?--></template></colab-tooltip-trigger><!----><!----><md-icon-button id="markdown-toolbar-link-mHSYsowmdTRP" class="markdown-toolbar-link" aria-describedby="markdown-toolbar-link-mHSYsowmdTRP-tooltip" data-aria-label="Insert link" value=""><template shadowrootmode="open" shadowrootdelegatesfocus><!----><button id="button" class="icon-button  standard " aria-label="Insert link">
        <!--?lit$764029187$--><md-focus-ring part="focus-ring" for="button" aria-hidden="true"><template shadowrootmode="open"><!----></template></md-focus-ring>
        <!--?lit$764029187$--><md-ripple aria-hidden="true"><template shadowrootmode="open"><!----><div class="surface   "></div></template></md-ripple>
        <!--?lit$764029187$--><span class="icon"><slot></slot></span>
        <!--?lit$764029187$-->
        <!--?lit$764029187$--><span class="touch"></span>
  </button></template>
        <!--?lit$764029187$--><md-icon aria-hidden="true"><template shadowrootmode="open"><!----><slot></slot></template><!--?lit$764029187$-->link</md-icon>
      </md-icon-button>
      <colab-tooltip-trigger aria-hidden="true" for="markdown-toolbar-link-mHSYsowmdTRP" id="markdown-toolbar-link-mHSYsowmdTRP-tooltip" message="Insert link"><template shadowrootmode="open"><!----><!--?lit$764029187$--><!----><div><!--?lit$764029187$-->Insert link</div><!----><!--?--></template></colab-tooltip-trigger><!----><!----><label for="markdown-image-input-mHSYsowmdTRP" class="colab-icon markdown-toolbar-insert-image">
        <md-ripple aria-hidden="true"><template shadowrootmode="open"><!----><div class="surface   "></div></template></md-ripple>
        <span role="button" tabindex="0" id="markdown-toolbar-insert-image-mHSYsowmdTRP" aria-describedby="markdown-toolbar-insert-image-mHSYsowmdTRP-tooltip" aria-label="Insert image">
          <md-focus-ring aria-hidden="true"><template shadowrootmode="open"><!----></template></md-focus-ring>
          <md-icon aria-hidden="true"><template shadowrootmode="open"><!----><slot></slot></template>image</md-icon>
        </span>
        <colab-tooltip-trigger aria-hidden="true" for="markdown-toolbar-insert-image-mHSYsowmdTRP" id="markdown-toolbar-insert-image-mHSYsowmdTRP-tooltip" message="Insert image"><template shadowrootmode="open"><!----><!--?lit$764029187$--><!----><div><!--?lit$764029187$-->Insert image</div><!----><!--?--></template></colab-tooltip-trigger>
      </label>
      <input class="markdown-image-input" type="file" multiple="" accept="image/*" id="markdown-image-input-mHSYsowmdTRP"><!----><!----><md-icon-button id="markdown-toolbar-blockquote-mHSYsowmdTRP" class="markdown-toolbar-blockquote" aria-describedby="markdown-toolbar-blockquote-mHSYsowmdTRP-tooltip" data-aria-label="Add blockquote" value=""><template shadowrootmode="open" shadowrootdelegatesfocus><!----><button id="button" class="icon-button  standard " aria-label="Add blockquote">
        <!--?lit$764029187$--><md-focus-ring part="focus-ring" for="button" aria-hidden="true"><template shadowrootmode="open"><!----></template></md-focus-ring>
        <!--?lit$764029187$--><md-ripple aria-hidden="true"><template shadowrootmode="open"><!----><div class="surface   "></div></template></md-ripple>
        <!--?lit$764029187$--><span class="icon"><slot></slot></span>
        <!--?lit$764029187$-->
        <!--?lit$764029187$--><span class="touch"></span>
  </button></template>
        <!--?lit$764029187$--><md-icon aria-hidden="true"><template shadowrootmode="open"><!----><slot></slot></template><!--?lit$764029187$-->format_quote</md-icon>
      </md-icon-button>
      <colab-tooltip-trigger aria-hidden="true" for="markdown-toolbar-blockquote-mHSYsowmdTRP" id="markdown-toolbar-blockquote-mHSYsowmdTRP-tooltip" message="Add blockquote"><template shadowrootmode="open"><!----><!--?lit$764029187$--><!----><div><!--?lit$764029187$-->Add blockquote</div><!----><!--?--></template></colab-tooltip-trigger><!----><!----><md-icon-button id="markdown-toolbar-ol-mHSYsowmdTRP" class="markdown-toolbar-ol" aria-describedby="markdown-toolbar-ol-mHSYsowmdTRP-tooltip" data-aria-label="Add numbered list" value=""><template shadowrootmode="open" shadowrootdelegatesfocus><!----><button id="button" class="icon-button  standard " aria-label="Add numbered list">
        <!--?lit$764029187$--><md-focus-ring part="focus-ring" for="button" aria-hidden="true"><template shadowrootmode="open"><!----></template></md-focus-ring>
        <!--?lit$764029187$--><md-ripple aria-hidden="true"><template shadowrootmode="open"><!----><div class="surface   "></div></template></md-ripple>
        <!--?lit$764029187$--><span class="icon"><slot></slot></span>
        <!--?lit$764029187$-->
        <!--?lit$764029187$--><span class="touch"></span>
  </button></template>
        <!--?lit$764029187$--><md-icon aria-hidden="true"><template shadowrootmode="open"><!----><slot></slot></template><!--?lit$764029187$-->format_list_numbered</md-icon>
      </md-icon-button>
      <colab-tooltip-trigger aria-hidden="true" for="markdown-toolbar-ol-mHSYsowmdTRP" id="markdown-toolbar-ol-mHSYsowmdTRP-tooltip" message="Add numbered list"><template shadowrootmode="open"><!----><!--?lit$764029187$--><!----><div><!--?lit$764029187$-->Add numbered list</div><!----><!--?--></template></colab-tooltip-trigger><!----><!----><md-icon-button id="markdown-toolbar-ul-mHSYsowmdTRP" class="markdown-toolbar-ul" aria-describedby="markdown-toolbar-ul-mHSYsowmdTRP-tooltip" data-aria-label="Add bulleted list" value=""><template shadowrootmode="open" shadowrootdelegatesfocus><!----><button id="button" class="icon-button  standard " aria-label="Add bulleted list">
        <!--?lit$764029187$--><md-focus-ring part="focus-ring" for="button" aria-hidden="true"><template shadowrootmode="open"><!----></template></md-focus-ring>
        <!--?lit$764029187$--><md-ripple aria-hidden="true"><template shadowrootmode="open"><!----><div class="surface   "></div></template></md-ripple>
        <!--?lit$764029187$--><span class="icon"><slot></slot></span>
        <!--?lit$764029187$-->
        <!--?lit$764029187$--><span class="touch"></span>
  </button></template>
        <!--?lit$764029187$--><md-icon aria-hidden="true"><template shadowrootmode="open"><!----><slot></slot></template><!--?lit$764029187$-->format_list_bulleted</md-icon>
      </md-icon-button>
      <colab-tooltip-trigger aria-hidden="true" for="markdown-toolbar-ul-mHSYsowmdTRP" id="markdown-toolbar-ul-mHSYsowmdTRP-tooltip" message="Add bulleted list"><template shadowrootmode="open"><!----><!--?lit$764029187$--><!----><div><!--?lit$764029187$-->Add bulleted list</div><!----><!--?--></template></colab-tooltip-trigger><!----><!----><md-icon-button id="markdown-toolbar-hr-mHSYsowmdTRP" class="markdown-toolbar-hr" aria-describedby="markdown-toolbar-hr-mHSYsowmdTRP-tooltip" data-aria-label="Add horizontal rule" value=""><template shadowrootmode="open" shadowrootdelegatesfocus><!----><button id="button" class="icon-button  standard " aria-label="Add horizontal rule">
        <!--?lit$764029187$--><md-focus-ring part="focus-ring" for="button" aria-hidden="true"><template shadowrootmode="open"><!----></template></md-focus-ring>
        <!--?lit$764029187$--><md-ripple aria-hidden="true"><template shadowrootmode="open"><!----><div class="surface   "></div></template></md-ripple>
        <!--?lit$764029187$--><span class="icon"><slot></slot></span>
        <!--?lit$764029187$-->
        <!--?lit$764029187$--><span class="touch"></span>
  </button></template>
        <!--?lit$764029187$--><md-icon aria-hidden="true"><template shadowrootmode="open"><!----><slot></slot></template><!--?lit$764029187$-->horizontal_rule</md-icon>
      </md-icon-button>
      <colab-tooltip-trigger aria-hidden="true" for="markdown-toolbar-hr-mHSYsowmdTRP" id="markdown-toolbar-hr-mHSYsowmdTRP-tooltip" message="Add horizontal rule"><template shadowrootmode="open"><!----><!--?lit$764029187$--><!----><div><!--?lit$764029187$-->Add horizontal rule</div><!----><!--?--></template></colab-tooltip-trigger><!----><!----><md-icon-button id="markdown-toolbar-latex-mHSYsowmdTRP" class="markdown-toolbar-latex" aria-describedby="markdown-toolbar-latex-mHSYsowmdTRP-tooltip" data-aria-label="LaTeX" value=""><template shadowrootmode="open" shadowrootdelegatesfocus><!----><button id="button" class="icon-button  standard " aria-label="LaTeX">
        <!--?lit$764029187$--><md-focus-ring part="focus-ring" for="button" aria-hidden="true"><template shadowrootmode="open"><!----></template></md-focus-ring>
        <!--?lit$764029187$--><md-ripple aria-hidden="true"><template shadowrootmode="open"><!----><div class="surface   "></div></template></md-ripple>
        <!--?lit$764029187$--><span class="icon"><slot></slot></span>
        <!--?lit$764029187$-->
        <!--?lit$764029187$--><span class="touch"></span>
  </button></template>
        <!--?lit$764029187$--><span aria-hidden="true">ψ</span>
      </md-icon-button>
      <colab-tooltip-trigger aria-hidden="true" for="markdown-toolbar-latex-mHSYsowmdTRP" id="markdown-toolbar-latex-mHSYsowmdTRP-tooltip" message="LaTeX"><template shadowrootmode="open"><!----><!--?lit$764029187$--><!----><div><!--?lit$764029187$-->LaTeX</div><!----><!--?--></template></colab-tooltip-trigger><!----><!----><md-icon-button id="markdown-toolbar-emoji-mHSYsowmdTRP" class="markdown-toolbar-emoji" aria-describedby="markdown-toolbar-emoji-mHSYsowmdTRP-tooltip" data-aria-label="Insert emoji" value=""><template shadowrootmode="open" shadowrootdelegatesfocus><!----><button id="button" class="icon-button  standard " aria-label="Insert emoji">
        <!--?lit$764029187$--><md-focus-ring part="focus-ring" for="button" aria-hidden="true"><template shadowrootmode="open"><!----></template></md-focus-ring>
        <!--?lit$764029187$--><md-ripple aria-hidden="true"><template shadowrootmode="open"><!----><div class="surface"></div></template></md-ripple>
        <!--?lit$764029187$--><span class="icon"><slot></slot></span>
        <!--?lit$764029187$-->
        <!--?lit$764029187$--><span class="touch"></span>
  </button></template>
        <!--?lit$764029187$--><md-icon aria-hidden="true"><template shadowrootmode="open"><!----><slot></slot></template><!--?lit$764029187$-->mood</md-icon>
      </md-icon-button>
      <colab-tooltip-trigger aria-hidden="true" for="markdown-toolbar-emoji-mHSYsowmdTRP" id="markdown-toolbar-emoji-mHSYsowmdTRP-tooltip" message="Insert emoji"><template shadowrootmode="open"><!----><!--?lit$764029187$--><!----><div><!--?lit$764029187$-->Insert emoji</div><!----><!--?--></template></colab-tooltip-trigger><!----><!----><md-icon-button id="markdown-toolbar-preview-mHSYsowmdTRP" class="markdown-toolbar-preview" aria-describedby="markdown-toolbar-preview-mHSYsowmdTRP-tooltip" data-aria-label="Reposition markdown preview" value=""><template shadowrootmode="open" shadowrootdelegatesfocus><!----><button id="button" class="icon-button  standard " aria-label="Reposition markdown preview">
        <!--?lit$764029187$--><md-focus-ring part="focus-ring" for="button" aria-hidden="true"><template shadowrootmode="open"><!----></template></md-focus-ring>
        <!--?lit$764029187$--><md-ripple aria-hidden="true"><template shadowrootmode="open"><!----><div class="surface"></div></template></md-ripple>
        <!--?lit$764029187$--><span class="icon"><slot></slot></span>
        <!--?lit$764029187$-->
        <!--?lit$764029187$--><span class="touch"></span>
  </button></template>
        <!--?lit$764029187$--><md-icon aria-hidden="true"><template shadowrootmode="open"><!----><slot></slot></template><!--?lit$764029187$--><svg viewBox="0 0 24 24"><!--?lit$764029187$--><g id="markdown-preview-below">
  <rect width="20" height="18" x="2" y="2" rx="2" ry="2" style="fill:none;stroke:var(--colab-icon-color)"></rect>
  <line x1="4.5" y1="13" x2="19.5" y2="13" style="stroke:var(--colab-primary-text-color);stroke-dasharray:2"></line>
  <line x1="2.5" y1="4" x2="21.5" y2="4" style="stroke:var(--colab-icon-color);stroke-width:3px;"></line>
</g></svg></md-icon>
      </md-icon-button>
      <colab-tooltip-trigger aria-hidden="true" for="markdown-toolbar-preview-mHSYsowmdTRP" id="markdown-toolbar-preview-mHSYsowmdTRP-tooltip" message="Reposition markdown preview"><template shadowrootmode="open"><!----><!--?lit$764029187$--><!----><div><!--?lit$764029187$-->Reposition markdown preview</div><!----><!--?--></template></colab-tooltip-trigger><!----><!--?--></div></div>
      <div class="editor-container horizontal">
        <div class="editor-root"><div class="editor flex monaco" data-keybinding-context="18" data-mode-id="markdown" style="height: 1758px; --vscode-editorCodeLens-lineHeight: 16px; --vscode-editorCodeLens-fontSize: 12px; --vscode-editorCodeLens-fontFeatureSettings: &quot;liga&quot; off, &quot;calt&quot; off;"><div class="monaco-editor no-user-select  showUnused showDeprecated vs" role="code" data-uri="inmemory://model/18" style="width: 641px; height: 1758px;"><div data-mprt="3" class="overflow-guard" style="width: 641px; height: 1758px; overflow: clip;"><div class="margin" role="presentation" aria-hidden="true" style="position: absolute; contain: strict; will-change: unset; top: 0px; height: 1758px; width: 6px;"><div class="glyph-margin" style="left: 0px; width: 0px; height: 1758px;"></div><div class="margin-view-zones" role="presentation" aria-hidden="true" style="position: absolute;"></div><div class="margin-view-overlays" role="presentation" aria-hidden="true" style="position: absolute; font-family: monospace, Consolas, &quot;Courier New&quot;, monospace; font-weight: normal; font-size: 14px; font-feature-settings: &quot;liga&quot; 0, &quot;calt&quot; 0; font-variation-settings: normal; line-height: 19px; letter-spacing: 0px; width: 6px; height: 1758px;"><div style="position:absolute;top:0px;width:100%;height:19px;"></div><div style="position:absolute;top:19px;width:100%;height:19px;"></div><div style="position:absolute;top:38px;width:100%;height:19px;"></div><div style="position:absolute;top:57px;width:100%;height:19px;"></div><div style="position:absolute;top:76px;width:100%;height:19px;"></div><div style="position:absolute;top:95px;width:100%;height:19px;"></div><div style="position:absolute;top:114px;width:100%;height:19px;"></div><div style="position:absolute;top:133px;width:100%;height:19px;"></div><div style="position:absolute;top:152px;width:100%;height:19px;"></div><div style="position:absolute;top:171px;width:100%;height:19px;"></div><div style="position:absolute;top:190px;width:100%;height:19px;"></div><div style="position:absolute;top:209px;width:100%;height:19px;"></div><div style="position:absolute;top:228px;width:100%;height:19px;"></div><div style="position:absolute;top:247px;width:100%;height:19px;"></div><div style="position:absolute;top:266px;width:100%;height:19px;"></div><div style="position:absolute;top:285px;width:100%;height:19px;"></div><div style="position:absolute;top:304px;width:100%;height:19px;"></div><div style="position:absolute;top:323px;width:100%;height:19px;"></div><div style="position:absolute;top:342px;width:100%;height:19px;"></div><div style="position:absolute;top:361px;width:100%;height:19px;"></div><div style="position:absolute;top:380px;width:100%;height:19px;"></div><div style="position:absolute;top:399px;width:100%;height:19px;"></div><div style="position:absolute;top:418px;width:100%;height:19px;"></div><div style="position:absolute;top:437px;width:100%;height:19px;"></div><div style="position:absolute;top:456px;width:100%;height:19px;"></div><div style="position:absolute;top:475px;width:100%;height:19px;"></div><div style="position:absolute;top:494px;width:100%;height:19px;"></div><div style="position:absolute;top:513px;width:100%;height:19px;"></div><div style="position:absolute;top:532px;width:100%;height:19px;"></div><div style="position:absolute;top:551px;width:100%;height:19px;"></div><div style="position:absolute;top:570px;width:100%;height:19px;"></div><div style="position:absolute;top:589px;width:100%;height:19px;"></div><div style="position:absolute;top:608px;width:100%;height:19px;"></div><div style="position:absolute;top:627px;width:100%;height:19px;"></div><div style="position:absolute;top:646px;width:100%;height:19px;"></div><div style="position:absolute;top:665px;width:100%;height:19px;"></div><div style="position:absolute;top:684px;width:100%;height:19px;"></div><div style="position:absolute;top:703px;width:100%;height:19px;"></div><div style="position:absolute;top:722px;width:100%;height:19px;"></div><div style="position:absolute;top:741px;width:100%;height:19px;"></div><div style="position:absolute;top:760px;width:100%;height:19px;"></div><div style="position:absolute;top:779px;width:100%;height:19px;"></div><div style="position:absolute;top:798px;width:100%;height:19px;"></div><div style="position:absolute;top:817px;width:100%;height:19px;"></div><div style="position:absolute;top:836px;width:100%;height:19px;"></div><div style="position:absolute;top:855px;width:100%;height:19px;"></div><div style="position:absolute;top:874px;width:100%;height:19px;"></div><div style="position:absolute;top:893px;width:100%;height:19px;"></div><div style="position:absolute;top:912px;width:100%;height:19px;"></div><div style="position:absolute;top:931px;width:100%;height:19px;"></div><div style="position:absolute;top:950px;width:100%;height:19px;"></div><div style="position:absolute;top:969px;width:100%;height:19px;"></div><div style="position:absolute;top:988px;width:100%;height:19px;"></div><div style="position:absolute;top:1007px;width:100%;height:19px;"></div><div style="position:absolute;top:1026px;width:100%;height:19px;"></div><div style="position:absolute;top:1045px;width:100%;height:19px;"></div><div style="position:absolute;top:1064px;width:100%;height:19px;"></div><div style="position:absolute;top:1083px;width:100%;height:19px;"></div><div style="position:absolute;top:1102px;width:100%;height:19px;"></div><div style="position:absolute;top:1121px;width:100%;height:19px;"></div><div style="position:absolute;top:1140px;width:100%;height:19px;"></div><div style="position:absolute;top:1159px;width:100%;height:19px;"></div><div style="position:absolute;top:1178px;width:100%;height:19px;"></div><div style="position:absolute;top:1197px;width:100%;height:19px;"></div><div style="position:absolute;top:1216px;width:100%;height:19px;"></div><div style="position:absolute;top:1235px;width:100%;height:19px;"></div><div style="position:absolute;top:1254px;width:100%;height:19px;"></div><div style="position:absolute;top:1273px;width:100%;height:19px;"></div><div style="position:absolute;top:1292px;width:100%;height:19px;"></div><div style="position:absolute;top:1311px;width:100%;height:19px;"></div><div style="position:absolute;top:1330px;width:100%;height:19px;"></div><div style="position:absolute;top:1349px;width:100%;height:19px;"></div><div style="position:absolute;top:1368px;width:100%;height:19px;"></div><div style="position:absolute;top:1387px;width:100%;height:19px;"></div><div style="position:absolute;top:1406px;width:100%;height:19px;"></div><div style="position:absolute;top:1425px;width:100%;height:19px;"></div><div style="position:absolute;top:1444px;width:100%;height:19px;"></div><div style="position:absolute;top:1463px;width:100%;height:19px;"></div><div style="position:absolute;top:1482px;width:100%;height:19px;"></div><div style="position:absolute;top:1501px;width:100%;height:19px;"></div><div style="position:absolute;top:1520px;width:100%;height:19px;"></div><div style="position:absolute;top:1539px;width:100%;height:19px;"></div><div style="position:absolute;top:1558px;width:100%;height:19px;"></div><div style="position:absolute;top:1577px;width:100%;height:19px;"></div><div style="position:absolute;top:1596px;width:100%;height:19px;"></div><div style="position:absolute;top:1615px;width:100%;height:19px;"></div><div style="position:absolute;top:1634px;width:100%;height:19px;"></div><div style="position: absolute; top: 1672px; width: 100%; height: 19px;"></div><div style="position: absolute; top: 1691px; width: 100%; height: 19px;"></div><div style="position: absolute; top: 1710px; width: 100%; height: 19px;"></div><div style="position:absolute;top:1653px;width:100%;height:19px;"><div class="current-line current-line-margin-both" style="width:6px; height:19px;"></div></div><div style="position:absolute;top:1729px;width:100%;height:19px;"></div></div><div class="glyph-margin-widgets" style="position: absolute; top: 0px;"></div></div><div class="monaco-scrollable-element editor-scrollable vs" role="presentation" data-mprt="5" style="position: absolute; overflow: hidden; left: 6px; width: 635px; height: 1758px;"><div class="lines-content monaco-editor-background" style="position: absolute; overflow: hidden; width: 1e+06px; height: 1758px; contain: strict; will-change: unset; top: 0px; left: 0px;"><div class="view-overlays" role="presentation" aria-hidden="true" style="position: absolute; font-family: monospace, Consolas, &quot;Courier New&quot;, monospace; font-weight: normal; font-size: 14px; font-feature-settings: &quot;liga&quot; 0, &quot;calt&quot; 0; font-variation-settings: normal; line-height: 19px; letter-spacing: 0px; height: 0px; width: 635px;"><div style="position:absolute;top:0px;width:100%;height:19px;"></div><div style="position:absolute;top:19px;width:100%;height:19px;"></div><div style="position:absolute;top:38px;width:100%;height:19px;"></div><div style="position:absolute;top:57px;width:100%;height:19px;"></div><div style="position:absolute;top:76px;width:100%;height:19px;"></div><div style="position:absolute;top:95px;width:100%;height:19px;"></div><div style="position:absolute;top:114px;width:100%;height:19px;"></div><div style="position:absolute;top:133px;width:100%;height:19px;"></div><div style="position:absolute;top:152px;width:100%;height:19px;"></div><div style="position:absolute;top:171px;width:100%;height:19px;"></div><div style="position:absolute;top:190px;width:100%;height:19px;"></div><div style="position:absolute;top:209px;width:100%;height:19px;"></div><div style="position:absolute;top:228px;width:100%;height:19px;"></div><div style="position:absolute;top:247px;width:100%;height:19px;"></div><div style="position:absolute;top:266px;width:100%;height:19px;"></div><div style="position:absolute;top:285px;width:100%;height:19px;"></div><div style="position:absolute;top:304px;width:100%;height:19px;"></div><div style="position:absolute;top:323px;width:100%;height:19px;"></div><div style="position:absolute;top:342px;width:100%;height:19px;"></div><div style="position:absolute;top:361px;width:100%;height:19px;"></div><div style="position:absolute;top:380px;width:100%;height:19px;"></div><div style="position:absolute;top:399px;width:100%;height:19px;"></div><div style="position:absolute;top:418px;width:100%;height:19px;"></div><div style="position:absolute;top:437px;width:100%;height:19px;"></div><div style="position:absolute;top:456px;width:100%;height:19px;"></div><div style="position:absolute;top:475px;width:100%;height:19px;"></div><div style="position:absolute;top:494px;width:100%;height:19px;"></div><div style="position:absolute;top:513px;width:100%;height:19px;"></div><div style="position:absolute;top:532px;width:100%;height:19px;"></div><div style="position:absolute;top:551px;width:100%;height:19px;"></div><div style="position:absolute;top:570px;width:100%;height:19px;"></div><div style="position:absolute;top:589px;width:100%;height:19px;"></div><div style="position:absolute;top:608px;width:100%;height:19px;"></div><div style="position:absolute;top:627px;width:100%;height:19px;"></div><div style="position:absolute;top:646px;width:100%;height:19px;"></div><div style="position:absolute;top:665px;width:100%;height:19px;"></div><div style="position:absolute;top:684px;width:100%;height:19px;"></div><div style="position:absolute;top:703px;width:100%;height:19px;"></div><div style="position:absolute;top:722px;width:100%;height:19px;"><div class="cdr unicode-highlight" style="left:423px;width:8px;height:19px;"></div></div><div style="position:absolute;top:741px;width:100%;height:19px;"></div><div style="position:absolute;top:760px;width:100%;height:19px;"><div class="cdr unicode-highlight" style="left:323px;width:8px;height:19px;"></div></div><div style="position:absolute;top:779px;width:100%;height:19px;"></div><div style="position:absolute;top:798px;width:100%;height:19px;"></div><div style="position:absolute;top:817px;width:100%;height:19px;"></div><div style="position:absolute;top:836px;width:100%;height:19px;"></div><div style="position:absolute;top:855px;width:100%;height:19px;"></div><div style="position:absolute;top:874px;width:100%;height:19px;"></div><div style="position:absolute;top:893px;width:100%;height:19px;"></div><div style="position:absolute;top:912px;width:100%;height:19px;"></div><div style="position:absolute;top:931px;width:100%;height:19px;"></div><div style="position:absolute;top:950px;width:100%;height:19px;"></div><div style="position:absolute;top:969px;width:100%;height:19px;"></div><div style="position:absolute;top:988px;width:100%;height:19px;"></div><div style="position:absolute;top:1007px;width:100%;height:19px;"></div><div style="position:absolute;top:1026px;width:100%;height:19px;"></div><div style="position:absolute;top:1045px;width:100%;height:19px;"></div><div style="position:absolute;top:1064px;width:100%;height:19px;"></div><div style="position:absolute;top:1083px;width:100%;height:19px;"></div><div style="position:absolute;top:1102px;width:100%;height:19px;"></div><div style="position:absolute;top:1121px;width:100%;height:19px;"></div><div style="position:absolute;top:1140px;width:100%;height:19px;"></div><div style="position:absolute;top:1159px;width:100%;height:19px;"></div><div style="position:absolute;top:1178px;width:100%;height:19px;"></div><div style="position:absolute;top:1197px;width:100%;height:19px;"></div><div style="position:absolute;top:1216px;width:100%;height:19px;"></div><div style="position:absolute;top:1235px;width:100%;height:19px;"></div><div style="position:absolute;top:1254px;width:100%;height:19px;"></div><div style="position:absolute;top:1273px;width:100%;height:19px;"></div><div style="position:absolute;top:1292px;width:100%;height:19px;"></div><div style="position:absolute;top:1311px;width:100%;height:19px;"></div><div style="position:absolute;top:1330px;width:100%;height:19px;"></div><div style="position:absolute;top:1349px;width:100%;height:19px;"></div><div style="position:absolute;top:1368px;width:100%;height:19px;"></div><div style="position:absolute;top:1387px;width:100%;height:19px;"><div class="cdr unicode-highlight" style="left:216px;width:8px;height:19px;"></div></div><div style="position:absolute;top:1406px;width:100%;height:19px;"></div><div style="position:absolute;top:1425px;width:100%;height:19px;"></div><div style="position:absolute;top:1444px;width:100%;height:19px;"></div><div style="position:absolute;top:1463px;width:100%;height:19px;"></div><div style="position:absolute;top:1482px;width:100%;height:19px;"></div><div style="position:absolute;top:1501px;width:100%;height:19px;"></div><div style="position:absolute;top:1520px;width:100%;height:19px;"></div><div style="position:absolute;top:1539px;width:100%;height:19px;"></div><div style="position:absolute;top:1558px;width:100%;height:19px;"></div><div style="position:absolute;top:1577px;width:100%;height:19px;"></div><div style="position:absolute;top:1596px;width:100%;height:19px;"></div><div style="position:absolute;top:1615px;width:100%;height:19px;"></div><div style="position:absolute;top:1634px;width:100%;height:19px;"></div><div style="position: absolute; top: 1672px; width: 100%; height: 19px;"></div><div style="position: absolute; top: 1691px; width: 100%; height: 19px;"></div><div style="position: absolute; top: 1710px; width: 100%; height: 19px;"></div><div style="position:absolute;top:1653px;width:100%;height:19px;"><div class="current-line" style="width:635px; height:19px;"></div></div><div style="position:absolute;top:1729px;width:100%;height:19px;"></div></div><div role="presentation" aria-hidden="true" class="view-rulers"><div class="view-ruler" style="width: 2px; height: 1758px; left: 615.938px;"></div></div><div class="view-zones" role="presentation" aria-hidden="true" style="position: absolute;"></div><div class="view-lines monaco-mouse-cursor-text" role="presentation" aria-hidden="true" data-mprt="7" style="position: absolute; font-family: monospace, Consolas, &quot;Courier New&quot;, monospace; font-weight: normal; font-size: 14px; font-feature-settings: &quot;liga&quot; 0, &quot;calt&quot; 0; font-variation-settings: normal; line-height: 19px; letter-spacing: 0px; width: 635px; height: 1758px;"><div style="top:0px;height:19px;" class="view-line"><span><span class="mtk1">Question&nbsp;10:&nbsp;You&nbsp;are&nbsp;working&nbsp;with&nbsp;a&nbsp;high-dimension</span><span class="mtk1">al&nbsp;gene&nbsp;expression&nbsp;dataset&nbsp;to</span></span></div><div style="top:19px;height:19px;" class="view-line"><span><span class="mtk1">classify&nbsp;patients&nbsp;with&nbsp;different&nbsp;types&nbsp;of&nbsp;cancer.</span></span></div><div style="top:38px;height:19px;" class="view-line"><span><span class="mtk1">Due&nbsp;to&nbsp;the&nbsp;large&nbsp;number&nbsp;of&nbsp;features&nbsp;and&nbsp;a&nbsp;small&nbsp;nu</span><span class="mtk1">mber&nbsp;of&nbsp;samples,&nbsp;traditional&nbsp;</span></span></div><div style="top:57px;height:19px;" class="view-line"><span><span class="mtk1">models</span></span></div><div style="top:76px;height:19px;" class="view-line"><span><span class="mtk1">overfit.</span></span></div><div style="top:95px;height:19px;" class="view-line"><span><span class="mtk1">Explain&nbsp;how&nbsp;you&nbsp;would:</span></span></div><div style="top:114px;height:19px;" class="view-line"><span><span class="mtk1">●&nbsp;Use&nbsp;PCA&nbsp;to&nbsp;reduce&nbsp;dimensionality</span></span></div><div style="top:133px;height:19px;" class="view-line"><span><span class="mtk1">●&nbsp;Decide&nbsp;how&nbsp;many&nbsp;components&nbsp;to&nbsp;keep</span></span></div><div style="top:152px;height:19px;" class="view-line"><span><span class="mtk1">●&nbsp;Use&nbsp;KNN&nbsp;for&nbsp;classification&nbsp;post-dimensionality&nbsp;</span><span class="mtk1">reduction</span></span></div><div style="top:171px;height:19px;" class="view-line"><span><span class="mtk1">●&nbsp;Evaluate&nbsp;the&nbsp;model</span></span></div><div style="top:190px;height:19px;" class="view-line"><span><span class="mtk1">●&nbsp;Justify&nbsp;this&nbsp;pipeline&nbsp;to&nbsp;your&nbsp;stakeholders&nbsp;as&nbsp;a&nbsp;</span><span class="mtk1">robust&nbsp;solution&nbsp;for&nbsp;real-world</span></span></div><div style="top:209px;height:19px;" class="view-line"><span><span class="mtk1">biomedical&nbsp;data</span></span></div><div style="top:228px;height:19px;" class="view-line"><span><span></span></span></div><div style="top:247px;height:19px;" class="view-line"><span><span class="mtk1">Ans.&nbsp;&nbsp;Problem&nbsp;Context</span></span></div><div style="top:266px;height:19px;" class="view-line"><span><span></span></span></div><div style="top:285px;height:19px;" class="view-line"><span><span class="mtk1">Dataset:&nbsp;High-dimensional&nbsp;gene&nbsp;expression&nbsp;data&nbsp;</span><span class="mtk1 bracket-highlighting-0">(</span><span class="mtk1">thousands&nbsp;of&nbsp;genes&nbsp;=&nbsp;features</span><span class="mtk1 bracket-highlighting-0">)</span><span class="mtk1">.</span></span></div><div style="top:304px;height:19px;" class="view-line"><span><span></span></span></div><div style="top:323px;height:19px;" class="view-line"><span><span class="mtk1">Samples:&nbsp;Relatively&nbsp;few&nbsp;patient&nbsp;cases&nbsp;</span><span class="mtk1 bracket-highlighting-0">(</span><span class="mtk1">small&nbsp;n,&nbsp;large&nbsp;p&nbsp;problem</span><span class="mtk1 bracket-highlighting-0">)</span><span class="mtk1">.</span></span></div><div style="top:342px;height:19px;" class="view-line"><span><span></span></span></div><div style="top:361px;height:19px;" class="view-line"><span><span class="mtk1">Challenge:&nbsp;Models&nbsp;tend&nbsp;to&nbsp;overfit&nbsp;due&nbsp;to&nbsp;high&nbsp;dime</span><span class="mtk1">nsionality&nbsp;and&nbsp;noise.</span></span></div><div style="top:380px;height:19px;" class="view-line"><span><span></span></span></div><div style="top:399px;height:19px;" class="view-line"><span><span class="mtk6">-&nbsp;</span><span class="mtk1">1&nbsp;Use&nbsp;PCA&nbsp;to&nbsp;Reduce&nbsp;Dimensionality</span></span></div><div style="top:418px;height:19px;" class="view-line"><span><span></span></span></div><div style="top:437px;height:19px;" class="view-line"><span><span class="mtk1">Apply&nbsp;feature&nbsp;scaling&nbsp;first&nbsp;</span><span class="mtk1 bracket-highlighting-0">(</span><span class="mtk1">Standardization</span><span class="mtk1 bracket-highlighting-0">)</span><span class="mtk1">.</span></span></div><div style="top:456px;height:19px;" class="view-line"><span><span></span></span></div><div style="top:475px;height:19px;" class="view-line"><span><span class="mtk1">Run&nbsp;PCA&nbsp;on&nbsp;the&nbsp;scaled&nbsp;dataset.</span></span></div><div style="top:494px;height:19px;" class="view-line"><span><span></span></span></div><div style="top:513px;height:19px;" class="view-line"><span><span class="mtk1">PCA&nbsp;will&nbsp;transform&nbsp;thousands&nbsp;of&nbsp;gene&nbsp;features&nbsp;into</span><span class="mtk1">&nbsp;a&nbsp;smaller&nbsp;set&nbsp;of&nbsp;principal&nbsp;</span></span></div><div style="top:532px;height:19px;" class="view-line"><span><span class="mtk1">components&nbsp;</span><span class="mtk1 bracket-highlighting-0">(</span><span class="mtk1">PCs</span><span class="mtk1 bracket-highlighting-0">)</span><span class="mtk1">&nbsp;that&nbsp;capture&nbsp;the&nbsp;majority&nbsp;of&nbsp;variance&nbsp;</span><span class="mtk1 bracket-highlighting-0">(</span><span class="mtk1">biological&nbsp;signal</span><span class="mtk1 bracket-highlighting-0">)</span><span class="mtk1">.</span></span></div><div style="top:551px;height:19px;" class="view-line"><span><span></span></span></div><div style="top:570px;height:19px;" class="view-line"><span><span class="mtk1">This&nbsp;reduces&nbsp;noise,&nbsp;eliminates&nbsp;redundancy,&nbsp;and&nbsp;mak</span><span class="mtk1">es&nbsp;the&nbsp;data&nbsp;more&nbsp;manageable.</span></span></div><div style="top:589px;height:19px;" class="view-line"><span><span></span></span></div><div style="top:608px;height:19px;" class="view-line"><span><span class="mtk6">-&nbsp;</span><span class="mtk1">2&nbsp;Decide&nbsp;How&nbsp;Many&nbsp;Components&nbsp;to&nbsp;Keep</span></span></div><div style="top:627px;height:19px;" class="view-line"><span><span></span></span></div><div style="top:646px;height:19px;" class="view-line"><span><span class="mtk1">Look&nbsp;at&nbsp;the&nbsp;explained&nbsp;variance&nbsp;ratio&nbsp;from&nbsp;PCA.</span></span></div><div style="top:665px;height:19px;" class="view-line"><span><span></span></span></div><div style="top:684px;height:19px;" class="view-line"><span><span class="mtk1">Plot&nbsp;a&nbsp;cumulative&nbsp;variance&nbsp;curve&nbsp;</span><span class="mtk1 bracket-highlighting-0">(</span><span class="mtk1">scree&nbsp;plot</span><span class="mtk1 bracket-highlighting-0">)</span><span class="mtk1">.</span></span></div><div style="top:703px;height:19px;" class="view-line"><span><span></span></span></div><div style="top:722px;height:19px;" class="view-line"><span><span class="mtk1">Choose&nbsp;the&nbsp;smallest&nbsp;number&nbsp;of&nbsp;PCs&nbsp;that&nbsp;explain,&nbsp;</span><span class="mtk1">say,&nbsp;90–95%&nbsp;of&nbsp;the&nbsp;variance.</span></span></div><div style="top:741px;height:19px;" class="view-line"><span><span></span></span></div><div style="top:760px;height:19px;" class="view-line"><span><span class="mtk1">Example:&nbsp;From&nbsp;10,000&nbsp;genes&nbsp;→&nbsp;maybe&nbsp;only&nbsp;50–100&nbsp;PCs&nbsp;</span><span class="mtk1">are&nbsp;enough.</span></span></div><div style="top:779px;height:19px;" class="view-line"><span><span></span></span></div><div style="top:798px;height:19px;" class="view-line"><span><span class="mtk6">-&nbsp;</span><span class="mtk1">3&nbsp;Use&nbsp;KNN&nbsp;for&nbsp;Classification&nbsp;</span><span class="mtk1 bracket-highlighting-0">(</span><span class="mtk1">Post-PCA</span><span class="mtk1 bracket-highlighting-0">)</span></span></div><div style="top:817px;height:19px;" class="view-line"><span><span></span></span></div><div style="top:836px;height:19px;" class="view-line"><span><span class="mtk1">Train&nbsp;a&nbsp;KNN&nbsp;classifier&nbsp;on&nbsp;the&nbsp;PCA-transformed&nbsp;data</span><span class="mtk1">set.</span></span></div><div style="top:855px;height:19px;" class="view-line"><span><span></span></span></div><div style="top:874px;height:19px;" class="view-line"><span><span class="mtk1">Use&nbsp;grid&nbsp;search&nbsp;with&nbsp;cross-validation&nbsp;to&nbsp;tune&nbsp;hype</span><span class="mtk1">rparameters:</span></span></div><div style="top:893px;height:19px;" class="view-line"><span><span></span></span></div><div style="top:912px;height:19px;" class="view-line"><span><span class="mtk1">k&nbsp;</span><span class="mtk1 bracket-highlighting-0">(</span><span class="mtk1">number&nbsp;of&nbsp;neighbors</span><span class="mtk1 bracket-highlighting-0">)</span><span class="mtk1">.</span></span></div><div style="top:931px;height:19px;" class="view-line"><span><span></span></span></div><div style="top:950px;height:19px;" class="view-line"><span><span class="mtk1">Distance&nbsp;metric&nbsp;</span><span class="mtk1 bracket-highlighting-0">(</span><span class="mtk1">Euclidean,&nbsp;Manhattan</span><span class="mtk1 bracket-highlighting-0">)</span><span class="mtk1">.</span></span></div><div style="top:969px;height:19px;" class="view-line"><span><span></span></span></div><div style="top:988px;height:19px;" class="view-line"><span><span class="mtk1">Since&nbsp;PCA&nbsp;removed&nbsp;noise&nbsp;and&nbsp;correlated&nbsp;features,&nbsp;d</span><span class="mtk1">istance&nbsp;measures&nbsp;in&nbsp;KNN&nbsp;are&nbsp;</span></span></div><div style="top:1007px;height:19px;" class="view-line"><span><span class="mtk1">now&nbsp;more&nbsp;reliable.</span></span></div><div style="top:1026px;height:19px;" class="view-line"><span><span></span></span></div><div style="top:1045px;height:19px;" class="view-line"><span><span class="mtk6">-&nbsp;</span><span class="mtk1">4&nbsp;Evaluate&nbsp;the&nbsp;Model</span></span></div><div style="top:1064px;height:19px;" class="view-line"><span><span></span></span></div><div style="top:1083px;height:19px;" class="view-line"><span><span class="mtk1">Use&nbsp;stratified&nbsp;cross-validation&nbsp;</span><span class="mtk1 bracket-highlighting-0">(</span><span class="mtk1">important&nbsp;with&nbsp;small&nbsp;samples</span><span class="mtk1 bracket-highlighting-0">)</span><span class="mtk1">.</span></span></div><div style="top:1102px;height:19px;" class="view-line"><span><span></span></span></div><div style="top:1121px;height:19px;" class="view-line"><span><span class="mtk1">Metrics:&nbsp;Accuracy,&nbsp;Precision,&nbsp;Recall,&nbsp;F1-score&nbsp;</span><span class="mtk1 bracket-highlighting-0">(</span><span class="mtk1">since&nbsp;misclassification&nbsp;in&nbsp;</span></span></div><div style="top:1140px;height:19px;" class="view-line"><span><span class="mtk1">medical&nbsp;settings&nbsp;has&nbsp;high&nbsp;cost</span><span class="mtk1 bracket-highlighting-0">)</span><span class="mtk1">.</span></span></div><div style="top:1159px;height:19px;" class="view-line"><span><span></span></span></div><div style="top:1178px;height:19px;" class="view-line"><span><span class="mtk1">Compare&nbsp;results&nbsp;with&nbsp;and&nbsp;without&nbsp;PCA&nbsp;to&nbsp;demonstrat</span><span class="mtk1">e&nbsp;improvements&nbsp;in&nbsp;</span></span></div><div style="top:1197px;height:19px;" class="view-line"><span><span class="mtk1">generalization.</span></span></div><div style="top:1216px;height:19px;" class="view-line"><span><span></span></span></div><div style="top:1235px;height:19px;" class="view-line"><span><span class="mtk6">-&nbsp;</span><span class="mtk1">5&nbsp;Justification&nbsp;to&nbsp;Stakeholders</span></span></div><div style="top:1254px;height:19px;" class="view-line"><span><span></span></span></div><div style="top:1273px;height:19px;" class="view-line"><span><span class="mtk1">Why&nbsp;PCA?</span></span></div><div style="top:1292px;height:19px;" class="view-line"><span><span class="mtk1">Gene&nbsp;expression&nbsp;datasets&nbsp;are&nbsp;high-dimensional&nbsp;and&nbsp;</span><span class="mtk1">noisy.&nbsp;PCA&nbsp;compresses&nbsp;data&nbsp;</span></span></div><div style="top:1311px;height:19px;" class="view-line"><span><span class="mtk1">into&nbsp;fewer,&nbsp;biologically&nbsp;meaningful&nbsp;components,&nbsp;re</span><span class="mtk1">ducing&nbsp;overfitting&nbsp;risk.</span></span></div><div style="top:1330px;height:19px;" class="view-line"><span><span></span></span></div><div style="top:1349px;height:19px;" class="view-line"><span><span class="mtk1">Why&nbsp;KNN?</span></span></div><div style="top:1368px;height:19px;" class="view-line"><span><span class="mtk1">KNN&nbsp;is&nbsp;a&nbsp;simple,&nbsp;interpretable,&nbsp;and&nbsp;effective&nbsp;algo</span><span class="mtk1">rithm&nbsp;when&nbsp;features&nbsp;are&nbsp;</span></span></div><div style="top:1387px;height:19px;" class="view-line"><span><span class="mtk1">reduced&nbsp;and&nbsp;scaled.&nbsp;It&nbsp;doesn’t&nbsp;assume&nbsp;linearity,&nbsp;</span><span class="mtk1">which&nbsp;is&nbsp;important&nbsp;for&nbsp;complex&nbsp;</span></span></div><div style="top:1406px;height:19px;" class="view-line"><span><span class="mtk1">biological&nbsp;patterns.</span></span></div><div style="top:1425px;height:19px;" class="view-line"><span><span></span></span></div><div style="top:1444px;height:19px;" class="view-line"><span><span class="mtk1">Why&nbsp;this&nbsp;pipeline&nbsp;is&nbsp;robust?</span></span></div><div style="top:1463px;height:19px;" class="view-line"><span><span></span></span></div><div style="top:1482px;height:19px;" class="view-line"><span><span class="mtk1">Handles&nbsp;curse&nbsp;of&nbsp;dimensionality.</span></span></div><div style="top:1501px;height:19px;" class="view-line"><span><span></span></span></div><div style="top:1520px;height:19px;" class="view-line"><span><span class="mtk1">Prevents&nbsp;overfitting&nbsp;by&nbsp;keeping&nbsp;only&nbsp;the&nbsp;most&nbsp;info</span><span class="mtk1">rmative&nbsp;signals.</span></span></div><div style="top:1539px;height:19px;" class="view-line"><span><span></span></span></div><div style="top:1558px;height:19px;" class="view-line"><span><span class="mtk1">Computationally&nbsp;efficient&nbsp;</span><span class="mtk1 bracket-highlighting-0">(</span><span class="mtk1">fewer&nbsp;features</span><span class="mtk1 bracket-highlighting-0">)</span><span class="mtk1">.</span></span></div><div style="top:1577px;height:19px;" class="view-line"><span><span></span></span></div><div style="top:1596px;height:19px;" class="view-line"><span><span class="mtk1">Transparent:&nbsp;PCA&nbsp;variance&nbsp;ratios&nbsp;and&nbsp;KNN&nbsp;neighborh</span><span class="mtk1">ood&nbsp;decisions&nbsp;can&nbsp;be&nbsp;</span></span></div><div style="top:1615px;height:19px;" class="view-line"><span><span class="mtk1">communicated&nbsp;to&nbsp;clinicians.</span></span></div><div style="top:1634px;height:19px;" class="view-line"><span><span></span></span></div><div style="top: 1672px; height: 19px;" class="view-line"><span><span class="mtk1">We&nbsp;reduce&nbsp;thousands&nbsp;of&nbsp;gene&nbsp;features&nbsp;into&nbsp;a&nbsp;small&nbsp;</span><span class="mtk1">set&nbsp;of&nbsp;principal&nbsp;components&nbsp;</span></span></div><div style="top: 1691px; height: 19px;" class="view-line"><span><span class="mtk1">with&nbsp;PCA,&nbsp;train&nbsp;a&nbsp;tuned&nbsp;KNN&nbsp;classifier&nbsp;on&nbsp;this&nbsp;low</span><span class="mtk1">er-dimensional&nbsp;space,&nbsp;and&nbsp;</span></span></div><div style="top: 1710px; height: 19px;" class="view-line"><span><span class="mtk1">evaluate&nbsp;with&nbsp;cross-validation&nbsp;—&nbsp;ensuring&nbsp;a&nbsp;</span><span class="mtk1">robust,&nbsp;interpretable,&nbsp;and&nbsp;</span></span></div><div style="top:1653px;height:19px;" class="view-line"><span><span class="mtk6">-&nbsp;</span><span class="mtk1">Summary&nbsp;in&nbsp;one&nbsp;line:</span></span></div><div style="top:1729px;height:19px;" class="view-line"><span><span class="mtk1">generalizable&nbsp;cancer&nbsp;classification&nbsp;model.</span></span></div></div><div data-mprt="1" class="contentWidgets" style="position: absolute; top: 0px;"><div class="lightBulbWidget codicon codicon-light-bulb" widgetid="LightBulbWidget" title="Show Code Actions (Ctrl+.)" style="position: absolute; display: none; visibility: hidden; max-width: 635px;"></div></div><div role="presentation" aria-hidden="true" class="cursors-layer cursor-line-style cursor-solid"><div class="cursor monaco-mouse-cursor-text " style="height: 19px; top: 1653px; left: 14px; font-family: monospace, Consolas, &quot;Courier New&quot;, monospace; font-weight: normal; font-size: 14px; font-feature-settings: &quot;liga&quot; 0, &quot;calt&quot; 0; font-variation-settings: normal; line-height: 19px; letter-spacing: 0px; display: block; visibility: hidden; padding-left: 1px; width: 2px;"></div></div></div><div role="presentation" aria-hidden="true" class="invisible scrollbar horizontal" style="position: absolute; width: 621px; height: 10px; left: 0px; bottom: 0px;"><div class="slider" style="position: absolute; top: 0px; left: 0px; height: 10px; transform: translate3d(0px, 0px, 0px); contain: strict; will-change: unset; width: 621px;"></div></div><canvas class="decorationsOverviewRuler" aria-hidden="true" width="14" height="1758" style="position: absolute; transform: translate3d(0px, 0px, 0px); contain: strict; top: 0px; right: 0px; width: 14px; height: 1758px; will-change: unset; display: block;"></canvas><div role="presentation" aria-hidden="true" class="invisible scrollbar vertical" style="position: absolute; width: 14px; height: 1758px; right: 0px; top: 0px;"><div class="slider" style="position: absolute; top: 0px; left: 0px; width: 14px; transform: translate3d(0px, 0px, 0px); contain: strict; will-change: unset; height: 1758px;"></div></div></div><div role="presentation" aria-hidden="true" style="width: 641px;"></div><textarea data-mprt="6" class="inputarea monaco-mouse-cursor-text" wrap="on" autocorrect="off" autocapitalize="off" autocomplete="off" spellcheck="false" aria-label="Editor content;Press Alt+F1 for Accessibility Options." tabindex="0" role="textbox" aria-roledescription="editor" aria-multiline="true" aria-haspopup="false" aria-autocomplete="both" style="tab-size: 15.3984px; font-family: monospace, Consolas, &quot;Courier New&quot;, monospace; font-weight: normal; font-size: 14px; font-feature-settings: &quot;liga&quot; 0, &quot;calt&quot; 0; font-variation-settings: normal; line-height: 19px; letter-spacing: 0px; top: 1653px; left: 6px; width: 616px; height: 1px;"></textarea><div style="position: absolute; top: 0px; left: 0px; width: 0px; height: 0px;" class="monaco-editor-background textAreaCover"></div><div data-mprt="4" class="overlayWidgets" style="width: 641px;"></div><div data-mprt="8" class="minimap slider-mouseover" role="presentation" aria-hidden="true" style="position: absolute; left: 0px; width: 0px; height: 1758px;"><div class="minimap-shadow-hidden" style="height: 1758px;"></div><canvas width="0" height="1758" style="position: absolute; left: 0px; width: 0px; height: 1758px;"></canvas><canvas class="minimap-decorations-layer" width="0" height="1758" style="position: absolute; left: 0px; width: 0px; height: 1758px;"></canvas><div class="minimap-slider" style="position: absolute; transform: translate3d(0px, 0px, 0px); contain: strict; width: 0px; will-change: unset;"><div class="minimap-slider-horizontal" style="position: absolute; width: 0px; height: 0px;"></div></div></div><div role="presentation" aria-hidden="true" class="blockDecorations-container"></div></div><div data-mprt="2" class="overflowingContentWidgets" style="display: none;"><div widgetid="editor.contrib.resizableContentHoverWidget" style="position: fixed; height: 31px; width: 327px; z-index: 50; display: none; visibility: hidden; max-width: 1360px; top: 278.656px; left: 68px;"><div class="monaco-sash vertical" style="left: 325px;"></div><div class="monaco-sash vertical disabled" style="left: -2px;"></div><div class="monaco-sash orthogonal-edge-north horizontal" style="top: -2px;"><div class="orthogonal-drag-handle end"></div></div><div class="monaco-sash orthogonal-edge-south horizontal disabled" style="top: 29px;"><div class="orthogonal-drag-handle end"></div></div><div class="monaco-hover hidden" tabindex="0" role="tooltip" style="width: 327px; height: 31px;"><div class="monaco-scrollable-element " role="presentation" style="position: relative; overflow: hidden;"><div class="monaco-hover-content" style="overflow: hidden; font-size: 14px; line-height: 1.35714; max-width: 500px; max-height: 439.5px; width: 327px; height: 31px;"><div class="hover-row markdown-hover"><div class="hover-contents"><div class="rendered-markdown"><p>The character <code>U+fe0f</code> is invisible.&nbsp;<a data-href="command:editor.action.unicodeHighlight.showExcludeOptions?%7B%22codePoint%22%3A65039%2C%22reason%22%3A%7B%22kind%22%3A1%7D%2C%22inComment%22%3Afalse%2C%22inString%22%3Afalse%7D" href="https://colab.research.google.com/drive/1lKj2PjoA--Rqc0XIHJeDcimLU4iwhyW3" title="command:editor.action.unicodeHighlight.showExcludeOptions?%7B%22codePoint%22%3A65039%2C%22reason%22%3A%7B%22kind%22%3A1%7D%2C%22inComment%22%3Afalse%2C%22inString%22%3Afalse%7D">Adjust settings</a></p></div></div></div></div><div role="presentation" aria-hidden="true" class="invisible scrollbar horizontal" style="position: absolute; width: 317px; height: 10px; left: 0px; bottom: 0px;"><div class="slider" style="position: absolute; top: 0px; left: 0px; height: 10px; transform: translate3d(0px, 0px, 0px); contain: strict; width: 317px;"></div></div><div role="presentation" aria-hidden="true" class="invisible scrollbar vertical" style="position: absolute; width: 10px; height: 31px; right: 0px; top: 0px;"><div class="slider" style="position: absolute; top: 0px; left: 0px; width: 10px; transform: translate3d(0px, 0px, 0px); contain: strict; height: 31px;"></div></div><div class="shadow"></div><div class="shadow"></div><div class="shadow"></div></div></div></div></div><div class=".in-cell-overflowing"><div widgetid="editor.contrib.quickInputWidget" style="position: absolute; top: 0px; right: 50%;"></div></div></div></div></div>
        <div class="text-top-div">
          <div class="markdown"><span><p>Question 10: You are working with a high-dimensional gene expression dataset to
classify patients with different types of cancer.
Due to the large number of features and a small number of samples, traditional models
overfit.
Explain how you would:
● Use PCA to reduce dimensionality
● Decide how many components to keep
● Use KNN for classification post-dimensionality reduction
● Evaluate the model
● Justify this pipeline to your stakeholders as a robust solution for real-world
biomedical data</p>
<p>Ans.  Problem Context</p>
<p>Dataset: High-dimensional gene expression data (thousands of genes = features).</p>
<p>Samples: Relatively few patient cases (small n, large p problem).</p>
<p>Challenge: Models tend to overfit due to high dimensionality and noise.</p>
<ul>
<li>1 Use PCA to Reduce Dimensionality</li>
</ul>
<p>Apply feature scaling first (Standardization).</p>
<p>Run PCA on the scaled dataset.</p>
<p>PCA will transform thousands of gene features into a smaller set of principal components (PCs) that capture the majority of variance (biological signal).</p>
<p>This reduces noise, eliminates redundancy, and makes the data more manageable.</p>
<ul>
<li>2 Decide How Many Components to Keep</li>
</ul>
<p>Look at the explained variance ratio from PCA.</p>
<p>Plot a cumulative variance curve (scree plot).</p>
<p>Choose the smallest number of PCs that explain, say, 90–95% of the variance.</p>
<p>Example: From 10,000 genes → maybe only 50–100 PCs are enough.</p>
<ul>
<li>3 Use KNN for Classification (Post-PCA)</li>
</ul>
<p>Train a KNN classifier on the PCA-transformed dataset.</p>
<p>Use grid search with cross-validation to tune hyperparameters:</p>
<p>k (number of neighbors).</p>
<p>Distance metric (Euclidean, Manhattan).</p>
<p>Since PCA removed noise and correlated features, distance measures in KNN are now more reliable.</p>
<ul>
<li>4 Evaluate the Model</li>
</ul>
<p>Use stratified cross-validation (important with small samples).</p>
<p>Metrics: Accuracy, Precision, Recall, F1-score (since misclassification in medical settings has high cost).</p>
<p>Compare results with and without PCA to demonstrate improvements in generalization.</p>
<ul>
<li>5 Justification to Stakeholders</li>
</ul>
<p>Why PCA?
Gene expression datasets are high-dimensional and noisy. PCA compresses data into fewer, biologically meaningful components, reducing overfitting risk.</p>
<p>Why KNN?
KNN is a simple, interpretable, and effective algorithm when features are reduced and scaled. It doesn’t assume linearity, which is important for complex biological patterns.</p>
<p>Why this pipeline is robust?</p>
<p>Handles curse of dimensionality.</p>
<p>Prevents overfitting by keeping only the most informative signals.</p>
<p>Computationally efficient (fewer features).</p>
<p>Transparent: PCA variance ratios and KNN neighborhood decisions can be communicated to clinicians.</p>
<ul>
<li>Summary in one line:
We reduce thousands of gene features into a small set of principal components with PCA, train a tuned KNN classifier on this lower-dimensional space, and evaluate with cross-validation — ensuring a robust, interpretable, and generalizable cancer classification model.</li>
</ul>
</span></div>
        </div>
      </div>

      <div class="section-header" style="display: none;">
        <colab-run-button><template shadowrootmode="open"><!----> <div class="cell-execution focused">
      <button id="run-button" aria-label="Run cell" aria-disabled="false">
        <!--?lit$764029187$--><span class="execution-count"><!--?lit$764029187$-->[ ]</span>
        <span aria-hidden="true" class="cell-execution-indicator"><!--?lit$764029187$-->
<svg xmlns="http://www.w3.org/2000/svg" viewBox="0 0 24 24">
  <!--?lit$764029187$-->
  <mask id="playSymbolMask">
    <rect width="100%" height="100%" fill="white"></rect>
    <polygon points="10,8 17,12 10,16" fill="black"></polygon>
  </mask>
  <circle cx="12" cy="12" r="7.8" mask="url(#playSymbolMask)" id="filledCircle"></circle>
</svg></span>
      </button>
      <!--?lit$764029187$-->
      <!--?lit$764029187$--><!--?-->
    </div></template></colab-run-button>
        <div class="section-header-container" title="click to expand">
          <md-icon aria-hidden="true"><template shadowrootmode="open"><!----><slot></slot></template>subdirectory_arrow_right</md-icon>
          <span>0 cells hidden</span>
        </div>
      </div></div></div><div class="add-cell">
      <div class="add-cell-buttons">
        <md-outlined-button class="add-code add-button" data-aria-label="Add code cell
Ctrl+M B" title="Add code cell
Ctrl+M B" value="" has-icon=""><template shadowrootmode="open" shadowrootdelegatesfocus><!---->
      <!--?lit$764029187$--><div class="outline"></div>
      <div class="background"></div>
      <md-focus-ring part="focus-ring" for="button" aria-hidden="true"><template shadowrootmode="open"><!----></template></md-focus-ring>
      <md-ripple part="ripple" for="button" aria-hidden="true"><template shadowrootmode="open"><!----><div class="surface"></div></template></md-ripple>
      <!--?lit$764029187$--><button id="button" class="button" aria-label="Add code cell
Ctrl+M B">
      <!--?lit$764029187$-->
      <span class="touch"></span>
      <!--?lit$764029187$--><slot name="icon"></slot>
      <span class="label"><slot></slot></span>
      <!--?lit$764029187$-->
    
    </button>
    </template>
          <md-icon slot="icon" aria-hidden="true"><template shadowrootmode="open"><!----><slot></slot></template>add</md-icon>
          <!--?lit$764029187$-->Code
        </md-outlined-button>
        <md-outlined-button class="add-text add-button" data-aria-label="Add text cell" title="Add text cell" value="" has-icon=""><template shadowrootmode="open" shadowrootdelegatesfocus><!---->
      <!--?lit$764029187$--><div class="outline"></div>
      <div class="background"></div>
      <md-focus-ring part="focus-ring" for="button" aria-hidden="true"><template shadowrootmode="open"><!----></template></md-focus-ring>
      <md-ripple part="ripple" for="button" aria-hidden="true"><template shadowrootmode="open"><!----><div class="surface   "></div></template></md-ripple>
      <!--?lit$764029187$--><button id="button" class="button" aria-label="Add text cell">
      <!--?lit$764029187$-->
      <span class="touch"></span>
      <!--?lit$764029187$--><slot name="icon"></slot>
      <span class="label"><slot></slot></span>
      <!--?lit$764029187$-->
    
    </button>
    </template>
          <md-icon slot="icon" aria-hidden="true"><template shadowrootmode="open"><!----><slot></slot></template>add</md-icon>
          <!--?lit$764029187$-->Text
        </md-outlined-button>
        <!--?lit$764029187$-->
        <!--?lit$764029187$-->
      </div><hr>
    </div></div></div>
              </div>
            </div>
          <section class="sidebar" aria-label="Comments" style="display: none;"></section></div>
          <!--?lit$764029187$--> <div class="footer-links" style="padding-bottom: 66px;">
      <a target="_blank" href="https://colab.research.google.com/signup?utm_source=footer&amp;utm_medium=link&amp;utm_campaign=footer_links">
        <!--?lit$764029187$-->Colab paid products
      </a>
      -
      <a href="https://colab.research.google.com/cancel-subscription" target="_blank">
        <!--?lit$764029187$-->Cancel contracts here
      </a>
    </div>
        </div>
      </colab-shaded-scroller>
      <div class="notebook-scroll-shadow" style="box-shadow: rgba(0, 0, 0, 0.15) 0px 4px 4px -2px inset;"></div>
    </div><div class="right-pane-snap-hint"></div></colab-tab></div>
  </div></colab-tab-pane>
      <colab-resizer style="height: 40%" class="sn-resize no-tabs"><div class="resizer-thumb"></div>
        <!--?lit$764029187$--><colab-tab-pane class="layout vertical grow no-tabs" align="horizontal"><!----> <div class="layout vertical grow">
    <div class="tab-pane-header layout horizontal noshrink">
      <md-tabs><template shadowrootmode="open"><!---->
      <div class="tabs">
        <slot></slot>
      </div>
      <md-divider part="divider"><template shadowrootmode="open"><!----></template></md-divider>
    </template></md-tabs>
      <div class="layout grow"></div>
      <!--?lit$764029187$--> <md-icon-button data-aria-expanded="false" data-aria-haspopup="menu" title="More tab actions" data-aria-label="More tab actions" value=""><template shadowrootmode="open" shadowrootdelegatesfocus><!----><button id="button" class="icon-button  standard " aria-label="More tab actions" aria-haspopup="menu" aria-expanded="false">
        <!--?lit$764029187$--><md-focus-ring part="focus-ring" for="button" aria-hidden="true"><template shadowrootmode="open"><!----></template></md-focus-ring>
        <!--?lit$764029187$--><md-ripple aria-hidden="true"><template shadowrootmode="open"><!----><div class="surface   "></div></template></md-ripple>
        <!--?lit$764029187$--><span class="icon"><slot></slot></span>
        <!--?lit$764029187$-->
        <!--?lit$764029187$--><span class="touch"></span>
  </button></template>
    <md-icon aria-hidden="true"><template shadowrootmode="open"><!----><slot></slot></template>more_horiz</md-icon>
  </md-icon-button>
    </div>
    <div class="layout vertical grow tab-pane-container"> </div>
  </div></colab-tab-pane>
      </colab-resizer>
    </div>
      <colab-resizer style="width: 37%" class="we-resize no-tabs"><div class="resizer-thumb"></div>
        <!--?lit$764029187$--> <div class="layout vertical tab-pane-parent">
      <!--?lit$764029187$--><colab-tab-pane class="layout vertical grow no-tabs" align="horizontal"><!----> <div class="layout vertical grow">
    <div class="tab-pane-header layout horizontal noshrink">
      <md-tabs><template shadowrootmode="open"><!---->
      <div class="tabs">
        <slot></slot>
      </div>
      <md-divider part="divider"><template shadowrootmode="open"><!----></template></md-divider>
    </template></md-tabs>
      <div class="layout grow"></div>
      <!--?lit$764029187$--> <md-icon-button data-aria-expanded="false" data-aria-haspopup="menu" title="More tab actions" data-aria-label="More tab actions" value=""><template shadowrootmode="open" shadowrootdelegatesfocus><!----><button id="button" class="icon-button  standard " aria-label="More tab actions" aria-haspopup="menu" aria-expanded="false">
        <!--?lit$764029187$--><md-focus-ring part="focus-ring" for="button" aria-hidden="true"><template shadowrootmode="open"><!----></template></md-focus-ring>
        <!--?lit$764029187$--><md-ripple aria-hidden="true"><template shadowrootmode="open"><!----><div class="surface   "></div></template></md-ripple>
        <!--?lit$764029187$--><span class="icon"><slot></slot></span>
        <!--?lit$764029187$-->
        <!--?lit$764029187$--><span class="touch"></span>
  </button></template>
    <md-icon aria-hidden="true"><template shadowrootmode="open"><!----><slot></slot></template>more_horiz</md-icon>
  </md-icon-button>
    </div>
    <div class="layout vertical grow tab-pane-container"> </div>
  </div></colab-tab-pane>
      <colab-resizer style="height: 40%" class="sn-resize no-tabs"><div class="resizer-thumb"></div>
        <!--?lit$764029187$--><colab-tab-pane class="layout vertical grow no-tabs" align="horizontal"><!----> <div class="layout vertical grow">
    <div class="tab-pane-header layout horizontal noshrink">
      <md-tabs><template shadowrootmode="open"><!---->
      <div class="tabs">
        <slot></slot>
      </div>
      <md-divider part="divider"><template shadowrootmode="open"><!----></template></md-divider>
    </template></md-tabs>
      <div class="layout grow"></div>
      <!--?lit$764029187$--> <md-icon-button data-aria-expanded="false" data-aria-haspopup="menu" title="More tab actions" data-aria-label="More tab actions" value=""><template shadowrootmode="open" shadowrootdelegatesfocus><!----><button id="button" class="icon-button  standard " aria-label="More tab actions" aria-haspopup="menu" aria-expanded="false">
        <!--?lit$764029187$--><md-focus-ring part="focus-ring" for="button" aria-hidden="true"><template shadowrootmode="open"><!----></template></md-focus-ring>
        <!--?lit$764029187$--><md-ripple aria-hidden="true"><template shadowrootmode="open"><!----><div class="surface   "></div></template></md-ripple>
        <!--?lit$764029187$--><span class="icon"><slot></slot></span>
        <!--?lit$764029187$-->
        <!--?lit$764029187$--><span class="touch"></span>
  </button></template>
    <md-icon aria-hidden="true"><template shadowrootmode="open"><!----><slot></slot></template>more_horiz</md-icon>
  </md-icon-button>
    </div>
    <div class="layout vertical grow tab-pane-container"> </div>
  </div></colab-tab-pane>
      </colab-resizer>
    </div>
      </colab-resizer>
    </div></colab-tab-layout-container>
        </div>
        <div class="proxies"><div><colab-dom-lifecycle-events style="display: none;"></colab-dom-lifecycle-events><iframe allow="" sandbox="allow-downloads allow-forms allow-pointer-lock allow-popups allow-popups-to-escape-sandbox allow-same-origin allow-scripts allow-storage-access-by-user-activation" src="./KNN &amp; PCA Assignment_files/outputframe.html" style="width: 1px; height: 1px; position: absolute; top: -100px;"></iframe></div><div><colab-dom-lifecycle-events style="display: none;"></colab-dom-lifecycle-events><iframe allow="accelerometer; autoplay; gyroscope; magnetometer; xr-spatial-tracking; clipboard-write" sandbox="allow-downloads allow-forms allow-pointer-lock allow-popups allow-popups-to-escape-sandbox allow-same-origin allow-scripts allow-storage-access-by-user-activation allow-modals" src="./KNN &amp; PCA Assignment_files/outputframe(1).html" style="width: 1px; height: 1px; position: absolute; top: -100px;"></iframe></div></div>
      <colab-file-viewer-manager></colab-file-viewer-manager></div>
    <colab-composer view-mode="floating" class="" style="transform: translate(0px, 0px);"><template shadowrootmode="open"><!---->
      <colab-composer-conversation><template shadowrootmode="open"><!---->
      <div class="scrollable">
        <!--?lit$764029187$-->
        <!--?lit$764029187$-->
      </div>
    </template>
      </colab-composer-conversation>
      <!--?lit$764029187$-->
      <div class="footer">
        <!--?lit$764029187$--> <!--?lit$764029187$-->
        <div class="input-container">
          <colab-composer-input><template shadowrootmode="open"><!---->
      <div class="wrapper">
        <!--?lit$764029187$-->
        <!--?lit$764029187$-->
              <div class="text-field-and-spark">
                <md-icon aria-hidden="true"><template shadowrootmode="open"><!----><slot></slot></template>spark</md-icon>
                <div class="text-field-wrapper" data-value="">
                  <md-outlined-text-field type="textarea" aria-controls="autocomplete-menu" rows="1" data-aria-autocomplete="list" data-aria-expanded="false" maxlength="2000" placeholder="What can I help you build?" inputmode="" autocomplete=""><template shadowrootmode="open" shadowrootdelegatesfocus><!---->
      <span class="text-field  textarea ">
        <!--?lit$764029187$--><md-outlined-field class="field" count="0" error-text="" label="" max="2000" resizable="" supporting-text=""><template shadowrootmode="open"><!---->
      <div class="field  resizable no-label ">
        <div class="container-overflow">
          <!--?lit$764029187$-->
          <slot name="container"></slot>
          <!--?lit$764029187$--> <!--?lit$764029187$--> <!--?lit$764029187$-->
      <div class="outline">
        <div class="outline-start"></div>
        <div class="outline-notch">
          <div class="outline-panel-inactive"></div>
          <div class="outline-panel-active"></div>
          <div class="outline-label"><!--?lit$764029187$--></div>
        </div>
        <div class="outline-end"></div>
      </div>
    
          <div class="container">
            <div class="start">
              <slot name="start"></slot>
            </div>
            <div class="middle">
              <div class="label-wrapper">
                <!--?lit$764029187$--> <!--?lit$764029187$-->
              </div>
              <div class="content">
                <slot></slot>
              </div>
            </div>
            <div class="end">
              <slot name="end"></slot>
            </div>
          </div>
        </div>
        <!--?lit$764029187$-->
      <div class="supporting-text"><!--?lit$764029187$--><span><!--?lit$764029187$--></span><!--?lit$764029187$--><span class="counter"><!--?lit$764029187$-->0 / 2000</span></div>
      <slot name="aria-describedby"></slot>
    
      </div>
    </template>
      <!--?lit$764029187$-->
      <span class="icon leading" slot="start">
        <slot name="leading-icon"></slot>
      </span>
    
      <!--?lit$764029187$-->
        <textarea class="input" aria-describedby="description" aria-invalid="false" maxlength="2000" placeholder="What can I help you build?" rows="1" cols="20"></textarea>
      
      <!--?lit$764029187$-->
      <span class="icon trailing" slot="end">
        <slot name="trailing-icon"></slot>
      </span>
    
      <div id="description" slot="aria-describedby" hidden=""><!----><!--?lit$764029187$--> <!--?lit$764029187$-->0 / 2000<!--?--></div>
      <slot name="container" slot="container"></slot>
    </md-outlined-field>
      </span>
    </template>
                  </md-outlined-text-field>
                  <!--?lit$764029187$-->
                </div>
              </div>
              <div class="actions">
                <!--?lit$764029187$--><md-icon-button data-aria-haspopup="true" id="add-context" data-aria-label="Add to Gemini" data-aria-expanded="false" value=""><template shadowrootmode="open" shadowrootdelegatesfocus><!----><button id="button" class="icon-button  standard " aria-label="Add to Gemini" aria-haspopup="true" aria-expanded="false">
        <!--?lit$764029187$--><md-focus-ring part="focus-ring" for="button" aria-hidden="true"><template shadowrootmode="open"><!----></template></md-focus-ring>
        <!--?lit$764029187$--><md-ripple aria-hidden="true"><template shadowrootmode="open"><!----><div class="surface   "></div></template></md-ripple>
        <!--?lit$764029187$--><span class="icon"><slot></slot></span>
        <!--?lit$764029187$-->
        <!--?lit$764029187$--><span class="touch"></span>
  </button></template>
        <md-icon aria-hidden="true"><template shadowrootmode="open"><!----><slot></slot></template>add_circle</md-icon>
      </md-icon-button>
      <colab-tooltip-trigger aria-hidden="true" for="add-context" message="Add to Gemini"><template shadowrootmode="open"><!----><!--?lit$764029187$--><!----><div><!--?lit$764029187$-->Add to Gemini</div><!----><!--?--></template>
      </colab-tooltip-trigger>
      <md-menu positioning="popover" quick="" aria-labelledby="add-context" anchor="add-context" aria-hidden="true"><template shadowrootmode="open"><!---->
      <div class="menu   " popover="manual" style="display: none;">
        <!--?lit$764029187$--><md-elevation part="elevation" aria-hidden="true"><template shadowrootmode="open"><!----><span class="shadow"></span></template></md-elevation>
        <div class="items">
          <div class="item-padding"> <!--?lit$764029187$--><slot></slot> </div>
        </div>
      </div>
    </template>
        <!--?lit$764029187$-->
      <md-menu-item md-menu-item="" tabindex="0"><template shadowrootmode="open" shadowrootdelegatesfocus><!---->
      <li id="item" tabindex="0" role="menuitem" class="list-item   "><!--?lit$764029187$-->
      <md-item><template shadowrootmode="open"><!---->
      <slot name="container"></slot>
      <slot class="non-text" name="start"></slot>
      <div class="text">
        <slot name="overline"></slot>
        <slot class="default-slot"></slot>
        <slot name="headline"></slot>
        <slot name="supporting-text"></slot>
      </div>
      <slot class="non-text" name="trailing-supporting-text"></slot>
      <slot class="non-text" name="end"></slot>
    </template>
        <div slot="container">
          <!--?lit$764029187$--> <md-ripple part="ripple" for="item" aria-hidden="true"><template shadowrootmode="open"><!----><div class="surface   "></div></template></md-ripple> <!--?lit$764029187$--> <md-focus-ring part="focus-ring" for="item" inward="" aria-hidden="true"><template shadowrootmode="open"><!----></template></md-focus-ring>
        </div>
        <slot name="start" slot="start"></slot>
        <slot name="end" slot="end"></slot>
        <!--?lit$764029187$-->
      <slot></slot>
      <slot name="overline" slot="overline"></slot>
      <slot name="headline" slot="headline"></slot>
      <slot name="supporting-text" slot="supporting-text"></slot>
      <slot name="trailing-supporting-text" slot="trailing-supporting-text"></slot>
    
      </md-item>
    </li>
    </template>
        <md-icon slot="start" aria-hidden="true"><template shadowrootmode="open"><!----><slot></slot></template>folder</md-icon>
        <span slot="headline"><!--?lit$764029187$-->Select files</span>
      </md-menu-item>
      <md-menu-item md-menu-item="" tabindex="-1"><template shadowrootmode="open" shadowrootdelegatesfocus><!---->
      <li id="item" tabindex="0" role="menuitem" class="list-item   "><!--?lit$764029187$-->
      <md-item><template shadowrootmode="open"><!---->
      <slot name="container"></slot>
      <slot class="non-text" name="start"></slot>
      <div class="text">
        <slot name="overline"></slot>
        <slot class="default-slot"></slot>
        <slot name="headline"></slot>
        <slot name="supporting-text"></slot>
      </div>
      <slot class="non-text" name="trailing-supporting-text"></slot>
      <slot class="non-text" name="end"></slot>
    </template>
        <div slot="container">
          <!--?lit$764029187$--> <md-ripple part="ripple" for="item" aria-hidden="true"><template shadowrootmode="open"><!----><div class="surface   "></div></template></md-ripple> <!--?lit$764029187$--> <md-focus-ring part="focus-ring" for="item" inward="" aria-hidden="true"><template shadowrootmode="open"><!----></template></md-focus-ring>
        </div>
        <slot name="start" slot="start"></slot>
        <slot name="end" slot="end"></slot>
        <!--?lit$764029187$-->
      <slot></slot>
      <slot name="overline" slot="overline"></slot>
      <slot name="headline" slot="headline"></slot>
      <slot name="supporting-text" slot="supporting-text"></slot>
      <slot name="trailing-supporting-text" slot="trailing-supporting-text"></slot>
    
      </md-item>
    </li>
    </template>
        <md-icon slot="start" aria-hidden="true"><template shadowrootmode="open"><!----><slot></slot></template>upload</md-icon>
        <span slot="headline"><!--?lit$764029187$-->Upload</span>
      </md-menu-item>
    
        <!--?lit$764029187$-->
      </md-menu>
                <!--?lit$764029187$--><md-icon-button id="send" data-aria-label="Send" aria-describedby="send-tooltip" soft-disabled="" value=""><template shadowrootmode="open" shadowrootdelegatesfocus><!----><button id="button" class="icon-button  standard " aria-label="Send" aria-disabled="true">
        <!--?lit$764029187$--><md-focus-ring part="focus-ring" for="button" aria-hidden="true"><template shadowrootmode="open"><!----></template></md-focus-ring>
        <!--?lit$764029187$--><md-ripple disabled="" aria-hidden="true"><template shadowrootmode="open"><!----><div class="surface   "></div></template></md-ripple>
        <!--?lit$764029187$--><span class="icon"><slot></slot></span>
        <!--?lit$764029187$-->
        <!--?lit$764029187$--><span class="touch"></span>
  </button></template>
        <md-icon aria-hidden="true"><template shadowrootmode="open"><!----><slot></slot></template>send</md-icon>
      </md-icon-button>
      <colab-tooltip-trigger aria-hidden="true" for="send" id="send-tooltip" message="Send"><template shadowrootmode="open"><!----><!--?lit$764029187$--><!----><div><!--?lit$764029187$-->Send</div><!----><!--?--></template>
      </colab-tooltip-trigger>
              </div>
            
      </div>
      <!--?lit$764029187$-->
      <input type="file" hidden="" multiple="">
    </template></colab-composer-input>
          <!--?lit$764029187$--><div class="floating-actions">
      <!--?lit$764029187$--><!--?lit$764029187$-->
      <md-icon-button id="move-to-side-panel" data-aria-label="Move to panel" value=""><template shadowrootmode="open" shadowrootdelegatesfocus><!----><button id="button" class="icon-button  standard " aria-label="Move to panel">
        <!--?lit$764029187$--><md-focus-ring part="focus-ring" for="button" aria-hidden="true"><template shadowrootmode="open"><!----></template></md-focus-ring>
        <!--?lit$764029187$--><md-ripple aria-hidden="true"><template shadowrootmode="open"><!----><div class="surface   "></div></template></md-ripple>
        <!--?lit$764029187$--><span class="icon"><slot></slot></span>
        <!--?lit$764029187$-->
        <!--?lit$764029187$--><span class="touch"></span>
  </button></template>
        <md-icon aria-hidden="true"><template shadowrootmode="open"><!----><slot></slot></template>dock_to_left</md-icon>
      </md-icon-button>
      <colab-tooltip-trigger aria-hidden="true" for="move-to-side-panel" message="Move to panel"><template shadowrootmode="open"><!----><!--?lit$764029187$--><!----><div><!--?lit$764029187$-->Move to panel</div><!----><!--?--></template>
      </colab-tooltip-trigger>
    <!--?lit$764029187$--><md-icon-button id="close" data-aria-label="Close" value=""><template shadowrootmode="open" shadowrootdelegatesfocus><!----><button id="button" class="icon-button  standard " aria-label="Close">
        <!--?lit$764029187$--><md-focus-ring part="focus-ring" for="button" aria-hidden="true"><template shadowrootmode="open"><!----></template></md-focus-ring>
        <!--?lit$764029187$--><md-ripple aria-hidden="true"><template shadowrootmode="open"><!----><div class="surface   "></div></template></md-ripple>
        <!--?lit$764029187$--><span class="icon"><slot></slot></span>
        <!--?lit$764029187$-->
        <!--?lit$764029187$--><span class="touch"></span>
  </button></template>
        <md-icon aria-hidden="true"><template shadowrootmode="open"><!----><slot></slot></template>close</md-icon>
      </md-icon-button>
      <colab-tooltip-trigger aria-hidden="true" for="close" message="Close"><template shadowrootmode="open"><!----><!--?lit$764029187$--><!----><div><!--?lit$764029187$-->Close</div><!----><!--?--></template>
      </colab-tooltip-trigger><!--?-->
    </div>
        </div>
        <!--?lit$764029187$--> <!--?lit$764029187$-->
      </div>
      <!--?lit$764029187$-->
    
    </template></colab-composer><colab-status-bar role="region" aria-label="Runtime status bar"><template shadowrootmode="open"><!----><span class="left">
        <slot name="bottom-pane-buttons"></slot>
      </span>
      <span class="middle"><!--?lit$764029187$-->
      <md-icon-button toggle="" id="toggle-composer" data-aria-label="Toggle Gemini" value=""><template shadowrootmode="open" shadowrootdelegatesfocus><!----><button id="button" class="icon-button  standard " aria-label="Toggle Gemini" aria-pressed="false">
        <!--?lit$764029187$--><md-focus-ring part="focus-ring" for="button" aria-hidden="true"><template shadowrootmode="open"><!----></template></md-focus-ring>
        <!--?lit$764029187$--><md-ripple aria-hidden="true"><template shadowrootmode="open"><!----><div class="surface   "></div></template></md-ripple>
        <!--?lit$764029187$--><span class="icon"><slot></slot></span>
        <!--?lit$764029187$-->
        <!--?lit$764029187$--><span class="touch"></span>
  </button></template>
        <!--?lit$764029187$--><md-icon aria-hidden="true"><template shadowrootmode="open"><!----><slot></slot></template>spark</md-icon>
      </md-icon-button>
      <colab-tooltip-trigger aria-hidden="true" for="toggle-composer" message="Toggle Gemini"><template shadowrootmode="open"><!----><!--?lit$764029187$--><!----><div><!--?lit$764029187$-->Toggle Gemini</div><!----><!--?--></template>
      </colab-tooltip-trigger>
    </span>
      <span class="right">
        <!--?lit$764029187$--><colab-execution-status><template shadowrootmode="open"><!----><md-text-button id="execution-status" aria-describedby="execution-status-tooltip" value="" has-icon=""><template shadowrootmode="open" shadowrootdelegatesfocus><!---->
      <!--?lit$764029187$-->
      <div class="background"></div>
      <md-focus-ring part="focus-ring" for="button" aria-hidden="true"><template shadowrootmode="open"><!----></template></md-focus-ring>
      <md-ripple part="ripple" for="button" aria-hidden="true"><template shadowrootmode="open"><!----><div class="surface   "></div></template></md-ripple>
      <!--?lit$764029187$--><button id="button" class="button">
      <!--?lit$764029187$-->
      <span class="touch"></span>
      <!--?lit$764029187$--><slot name="icon"></slot>
      <span class="label"><slot></slot></span>
      <!--?lit$764029187$-->
    
    </button>
    </template><!--?lit$764029187$--><md-icon slot="icon" aria-hidden="true"><template shadowrootmode="open"><!----><slot></slot></template>check</md-icon><!--?lit$764029187$-->5:03 PM</md-text-button>
      <colab-tooltip-trigger aria-hidden="true" id="execution-status-tooltip" for="execution-status" message="Focus the last run cell

5:03 PM (4 minutes ago)
executed in 0.016s"><template shadowrootmode="open"><!----><!--?lit$764029187$--><!----><div><!--?lit$764029187$-->Focus the last run cell</div><!----><!----><br><!----><!----><div><!--?lit$764029187$-->5:03 PM (4 minutes ago)</div><!----><!----><div><!--?lit$764029187$-->executed in 0.016s</div><!----><!--?--></template>
      </colab-tooltip-trigger></template></colab-execution-status><!--?lit$764029187$--><!--?lit$764029187$--><!--?lit$764029187$--><colab-runtime-status><template shadowrootmode="open"><!----><md-text-button data-aria-expanded="false" data-aria-haspopup="menu" id="runtime-options" aria-describedby="runtime-options-tooltip" value="" has-icon=""><template shadowrootmode="open" shadowrootdelegatesfocus><!---->
      <!--?lit$764029187$-->
      <div class="background"></div>
      <md-focus-ring part="focus-ring" for="button" aria-hidden="true"><template shadowrootmode="open"><!----></template></md-focus-ring>
      <md-ripple part="ripple" for="button" aria-hidden="true"><template shadowrootmode="open"><!----><div class="surface   "></div></template></md-ripple>
      <!--?lit$764029187$--><button id="button" class="button" aria-haspopup="menu" aria-expanded="false">
      <!--?lit$764029187$-->
      <span class="touch"></span>
      <!--?lit$764029187$--><slot name="icon"></slot>
      <span class="label"><slot></slot></span>
      <!--?lit$764029187$-->
    
    </button>
    </template><md-icon slot="icon" aria-hidden="true"><template shadowrootmode="open"><!----><slot></slot></template>dns</md-icon><!--?lit$764029187$-->Python 3</md-text-button><colab-tooltip-trigger aria-hidden="true" for="runtime-options" id="runtime-options-tooltip" message="Runtime options"><template shadowrootmode="open"><!----><!--?lit$764029187$--><!----><div><!--?lit$764029187$-->Runtime options</div><!----><!--?--></template></colab-tooltip-trigger></template></colab-runtime-status>
      </span></template><md-text-button slot="bottom-pane-buttons" command="show-variables" value="" has-icon=""><template shadowrootmode="open" shadowrootdelegatesfocus><!---->
      <!--?lit$764029187$-->
      <div class="background"></div>
      <md-focus-ring part="focus-ring" for="button" aria-hidden="true"><template shadowrootmode="open"><!----></template></md-focus-ring>
      <md-ripple part="ripple" for="button" aria-hidden="true"><template shadowrootmode="open"><!----><div class="surface"></div></template></md-ripple>
      <!--?lit$764029187$--><button id="button" class="button">
      <!--?lit$764029187$-->
      <span class="touch"></span>
      <!--?lit$764029187$--><slot name="icon"></slot>
      <span class="label"><slot></slot></span>
      <!--?lit$764029187$-->
    
    </button>
    </template>
        <md-icon slot="icon" aria-hidden="true"><template shadowrootmode="open"><!----><slot></slot></template><!--?lit$764029187$-->data_object</md-icon>
        <!--?lit$764029187$-->Variables</md-text-button><md-text-button slot="bottom-pane-buttons" command="show-terminal" value="" has-icon=""><template shadowrootmode="open" shadowrootdelegatesfocus><!---->
      <!--?lit$764029187$-->
      <div class="background"></div>
      <md-focus-ring part="focus-ring" for="button" aria-hidden="true"><template shadowrootmode="open"><!----></template></md-focus-ring>
      <md-ripple part="ripple" for="button" aria-hidden="true"><template shadowrootmode="open"><!----><div class="surface   "></div></template></md-ripple>
      <!--?lit$764029187$--><button id="button" class="button">
      <!--?lit$764029187$-->
      <span class="touch"></span>
      <!--?lit$764029187$--><slot name="icon"></slot>
      <span class="label"><slot></slot></span>
      <!--?lit$764029187$-->
    
    </button>
    </template>
        <md-icon slot="icon" aria-hidden="true"><template shadowrootmode="open"><!----><slot></slot></template><!--?lit$764029187$-->terminal</md-icon>
        <!--?lit$764029187$-->Terminal</md-text-button></colab-status-bar></div><div class="goog-menu" id="file-menu" role="menu" aria-haspopup="true" style="display: none; user-select: none;"><!--?lit$764029187$--><div command="locate-in-drive" class=" goog-menuitem " role="menuitem" id=":2" style="user-select: none;"><div class="goog-menuitem-content" style="user-select: none;"><!--?lit$764029187$-->Locate in Drive<!--?lit$764029187$--></div></div><div command="open-in-playground" class=" goog-menuitem " role="menuitem" id=":3" style="user-select: none;"><div class="goog-menuitem-content" style="user-select: none;"><!--?lit$764029187$-->Open in playground mode<!--?lit$764029187$--></div></div><div class="goog-menuseparator goog-menuitem-disabled" aria-disabled="true" role="separator" id=":4" style="user-select: none;"></div><div command="new" class=" goog-menuitem " role="menuitem" id=":5" style="user-select: none;"><div class="goog-menuitem-content" style="user-select: none;"><!--?lit$764029187$-->New notebook in Drive<!--?lit$764029187$--></div></div><div command="open" class=" goog-menuitem " role="menuitem" id=":6" style="user-select: none;"><div class="goog-menuitem-content" style="user-select: none;"><!--?lit$764029187$-->Open notebook<!--?lit$764029187$--></div></div><div command="import-notebook" class=" goog-menuitem " role="menuitem" id=":7" style="user-select: none;"><div class="goog-menuitem-content" style="user-select: none;"><!--?lit$764029187$-->Upload notebook<!--?lit$764029187$--></div></div><div class="goog-menuseparator goog-menuitem-disabled" aria-disabled="true" role="separator" id=":8" style="user-select: none;"></div><div command="rename" class=" goog-menuitem " role="menuitem" id=":9" style="user-select: none;"><div class="goog-menuitem-content" style="user-select: none;"><!--?lit$764029187$-->Rename<!--?lit$764029187$--></div></div><div command="move-notebook" class=" goog-menuitem " role="menuitem" id=":a" style="user-select: none;"><div class="goog-menuitem-content" style="user-select: none;"><!--?lit$764029187$-->Move<!--?lit$764029187$--></div></div><div command="trash" class=" goog-menuitem " role="menuitem" id=":b" style="user-select: none;"><div class="goog-menuitem-content" style="user-select: none;"><!--?lit$764029187$-->Move to trash<!--?lit$764029187$--></div></div><div class="goog-menuseparator goog-menuitem-disabled" aria-disabled="true" role="separator" id=":c" style="user-select: none;"></div><div command="clone" class=" goog-menuitem " role="menuitem" id=":d" style="user-select: none;"><div class="goog-menuitem-content" style="user-select: none;"><!--?lit$764029187$-->Save a copy in Drive<!--?lit$764029187$--></div></div><div command="copy-to-gist" class=" goog-menuitem " role="menuitem" id=":e" style="user-select: none;"><div class="goog-menuitem-content" style="user-select: none;"><!--?lit$764029187$-->Save a copy as a GitHub Gist<!--?lit$764029187$--></div></div><div command="copy-to-github" class=" goog-menuitem " role="menuitem" id=":f" style="user-select: none;"><div class="goog-menuitem-content" style="user-select: none;"><!--?lit$764029187$-->Save a copy in GitHub<!--?lit$764029187$--></div></div><div class="goog-menuseparator goog-menuitem-disabled" aria-disabled="true" role="separator" id=":g" style="user-select: none;"></div><div command="save" class=" goog-menuitem " role="menuitem" id=":h" style="user-select: none;"><div class="goog-menuitem-content" style="user-select: none;"><!--?lit$764029187$-->Save<!--?lit$764029187$--></div></div><div command="save-and-checkpoint" class=" goog-menuitem " role="menuitem" id=":i" style="user-select: none;"><div class="goog-menuitem-content" style="user-select: none;"><!--?lit$764029187$-->Save and pin revision<!--?lit$764029187$--></div></div><div command="show-history" class=" goog-menuitem " role="menuitem" id=":j" style="user-select: none;"><div class="goog-menuitem-content" style="user-select: none;"><!--?lit$764029187$-->Revision history<!--?lit$764029187$--></div></div><div class="goog-menuseparator goog-menuitem-disabled" aria-disabled="true" role="separator" id=":k" style="user-select: none;"></div><div class="goog-submenu goog-menuitem" id="download-submenu-menu-button" role="menuitem" aria-haspopup="true" style="user-select: none;"><div class="goog-menuitem-content" style="user-select: none;">
      <!--?lit$764029187$-->Download
    <span class="goog-submenu-arrow" style="user-select: none;">►</span></div></div><div command="print" class=" goog-menuitem " role="menuitem" id=":o" style="user-select: none;"><div class="goog-menuitem-content" style="user-select: none;"><!--?lit$764029187$-->Print<!--?lit$764029187$--></div></div></div><div class="goog-menu" id="download-submenu-menu" role="menu" aria-haspopup="true" style="display: none; user-select: none;"><!--?lit$764029187$--><div command="download-ipynb" class=" goog-menuitem " role="menuitem" id=":m" style="user-select: none;"><div class="goog-menuitem-content" style="user-select: none;"><!--?lit$764029187$-->Download .ipynb<!--?lit$764029187$--></div></div><div command="download-python" class=" goog-menuitem " role="menuitem" id=":n" style="user-select: none;"><div class="goog-menuitem-content" style="user-select: none;"><!--?lit$764029187$-->Download .py<!--?lit$764029187$--></div></div></div><div class="goog-menu" id="edit-menu" role="menu" aria-haspopup="true" style="display: none; user-select: none;"><!--?lit$764029187$--><div command="undo" class=" goog-menuitem " role="menuitem" id=":q" style="user-select: none;"><div class="goog-menuitem-content" style="user-select: none;"><!--?lit$764029187$-->Undo<!--?lit$764029187$--></div></div><div command="redo" class=" goog-menuitem " role="menuitem" id=":r" style="user-select: none;"><div class="goog-menuitem-content" style="user-select: none;"><!--?lit$764029187$-->Redo<!--?lit$764029187$--></div></div><div class="goog-menuseparator goog-menuitem-disabled" aria-disabled="true" role="separator" id=":s" style="user-select: none;"></div><div command="select-all" class=" goog-menuitem " role="menuitem" id=":t" style="user-select: none;"><div class="goog-menuitem-content" style="user-select: none;"><!--?lit$764029187$-->Select all cells<!--?lit$764029187$--></div></div><div command="cut" class=" goog-menuitem " role="menuitem" id=":u" style="user-select: none;"><div class="goog-menuitem-content" style="user-select: none;"><!--?lit$764029187$-->Cut cell or selection<!--?lit$764029187$--></div></div><div command="copy" class=" goog-menuitem " role="menuitem" id=":v" style="user-select: none;"><div class="goog-menuitem-content" style="user-select: none;"><!--?lit$764029187$-->Copy cell or selection<!--?lit$764029187$--></div></div><div command="paste" class=" goog-menuitem " role="menuitem" id=":w" style="user-select: none;"><div class="goog-menuitem-content" style="user-select: none;"><!--?lit$764029187$-->Paste<!--?lit$764029187$--></div></div><div command="delete-cell-or-selection" class=" goog-menuitem " role="menuitem" id=":x" style="user-select: none;"><div class="goog-menuitem-content" style="user-select: none;"><!--?lit$764029187$-->Delete selected cells<!--?lit$764029187$--></div></div><div class="goog-menuseparator goog-menuitem-disabled" aria-disabled="true" role="separator" id=":y" style="user-select: none;"></div><div command="find" class=" goog-menuitem " role="menuitem" id=":z" style="user-select: none;"><div class="goog-menuitem-content" style="user-select: none;"><!--?lit$764029187$-->Find and replace<!--?lit$764029187$--></div></div><div command="find-next" class=" goog-menuitem " role="menuitem" id=":10" style="user-select: none;"><div class="goog-menuitem-content" style="user-select: none;"><!--?lit$764029187$-->Find next<!--?lit$764029187$--></div></div><div command="find-previous" class=" goog-menuitem " role="menuitem" id=":11" style="user-select: none;"><div class="goog-menuitem-content" style="user-select: none;"><!--?lit$764029187$-->Find previous<!--?lit$764029187$--></div></div><div class="goog-menuseparator goog-menuitem-disabled" aria-disabled="true" role="separator" id=":12" style="user-select: none;"></div><div command="notebook-settings" class=" goog-menuitem " role="menuitem" id=":13" style="user-select: none;"><div class="goog-menuitem-content" style="user-select: none;"><!--?lit$764029187$-->Notebook settings<!--?lit$764029187$--></div></div><div class="goog-menuseparator goog-menuitem-disabled" aria-disabled="true" role="separator" id=":14" style="user-select: none;"></div><div command="clear-outputs" class=" goog-menuitem " role="menuitem" id=":15" style="user-select: none;"><div class="goog-menuitem-content" style="user-select: none;"><!--?lit$764029187$-->Clear all outputs<!--?lit$764029187$--></div></div></div><div class="goog-menu" id="view-menu" role="menu" aria-haspopup="true" style="display: none; user-select: none;"><!--?lit$764029187$--><div command="show-toc-pane" class="goog-menuitem goog-option" role="menuitemcheckbox" aria-checked="false" id=":17" style="user-select: none;"><div class="goog-menuitem-content" style="user-select: none;"><div class="goog-menuitem-checkbox" style="user-select: none;"><!----><md-icon aria-hidden="true"><template shadowrootmode="open"><!----><slot></slot></template>check</md-icon> </div><!--?lit$764029187$-->Table of contents<!--?lit$764029187$--></div></div><div command="show-fileinfo" class=" goog-menuitem " role="menuitem" id=":18" style="user-select: none;"><div class="goog-menuitem-content" style="user-select: none;"><!--?lit$764029187$-->Notebook info<!--?lit$764029187$--></div></div><div command="show-executedcode" class=" goog-menuitem " role="menuitem" id=":19" style="user-select: none;"><div class="goog-menuitem-content" style="user-select: none;"><!--?lit$764029187$-->Executed code history<!--?lit$764029187$--></div></div><div command="start-presentation" class=" goog-menuitem " role="menuitem" id=":1a" style="user-select: none;"><div class="goog-menuitem-content" style="user-select: none;"><!--?lit$764029187$-->Start slideshow<!--?lit$764029187$--></div></div><div command="start-presentation-beginning" class=" goog-menuitem " role="menuitem" id=":1b" style="user-select: none;"><div class="goog-menuitem-content" style="user-select: none;"><!--?lit$764029187$-->Start slideshow from beginning<!--?lit$764029187$--></div></div><div class="goog-submenu goog-menuitem" id="comments-submenu-menu-button" role="menuitem" aria-haspopup="true" style="user-select: none;"><div class="goog-menuitem-content" style="user-select: none;">
      <!--?lit$764029187$-->Comments
    <span class="goog-submenu-arrow" style="user-select: none;">►</span></div></div><div class="goog-menuseparator goog-menuitem-disabled" aria-disabled="true" role="separator" id=":1g" style="user-select: none;"></div><div command="collapse-sections" class=" goog-menuitem " role="menuitem" id=":1h" style="user-select: none;"><div class="goog-menuitem-content" style="user-select: none;"><!--?lit$764029187$-->Collapse sections<!--?lit$764029187$--></div></div><div command="expand-sections" class=" goog-menuitem " role="menuitem" id=":1i" style="user-select: none;"><div class="goog-menuitem-content" style="user-select: none;"><!--?lit$764029187$-->Expand sections<!--?lit$764029187$--></div></div><div command="save-section-layout" class=" goog-menuitem " role="menuitem" id=":1j" style="user-select: none;"><div class="goog-menuitem-content" style="user-select: none;"><!--?lit$764029187$-->Save collapsed section layout<!--?lit$764029187$--></div></div><div class="goog-menuseparator goog-menuitem-disabled" aria-disabled="true" role="separator" id=":1k" style="user-select: none;"></div><div command="hide-code" class=" goog-menuitem " role="menuitem" id=":1l" style="user-select: none;"><div class="goog-menuitem-content" style="user-select: none;"><!--?lit$764029187$-->Show/hide code<!--?lit$764029187$--></div></div><div command="toggle-output" class=" goog-menuitem " role="menuitem" id=":1m" style="user-select: none;"><div class="goog-menuitem-content" style="user-select: none;"><!--?lit$764029187$-->Show/hide output<!--?lit$764029187$--></div></div><div class="goog-menuseparator goog-menuitem-disabled" aria-disabled="true" role="separator" id=":1n" style="user-select: none;"></div><div command="focus-next-tab" class=" goog-menuitem " role="menuitem" id=":1o" style="user-select: none;"><div class="goog-menuitem-content" style="user-select: none;"><!--?lit$764029187$-->Focus next tab<!--?lit$764029187$--></div></div><div command="focus-previous-tab" class=" goog-menuitem " role="menuitem" id=":1p" style="user-select: none;"><div class="goog-menuitem-content" style="user-select: none;"><!--?lit$764029187$-->Focus previous tab<!--?lit$764029187$--></div></div><div command="move-tab-to-next" class=" goog-menuitem " role="menuitem" id=":1q" style="user-select: none;"><div class="goog-menuitem-content" style="user-select: none;"><!--?lit$764029187$-->Move tab to next pane<!--?lit$764029187$--></div></div><div command="move-tab-to-prev" class=" goog-menuitem " role="menuitem" id=":1r" style="user-select: none;"><div class="goog-menuitem-content" style="user-select: none;"><!--?lit$764029187$-->Move tab to previous pane<!--?lit$764029187$--></div></div></div><div class="goog-menu" id="comments-submenu-menu" role="menu" aria-haspopup="true" style="display: none; user-select: none;"><!--?lit$764029187$--><div command="hide-sidebar-comments" class=" goog-menuitem goog-option-selectable " role="menuitem" id=":1d" style="user-select: none;"><div class="goog-menuitem-content" style="user-select: none;"><!--?lit$764029187$-->Hide comments<!--?lit$764029187$--></div></div><div command="show-minimized-sidebar-comments" class=" goog-menuitem goog-option-selectable " role="menuitem" id=":1e" style="user-select: none;"><div class="goog-menuitem-content" style="user-select: none;"><!--?lit$764029187$-->Minimize comments<!--?lit$764029187$--></div></div><div command="show-expanded-sidebar-comments" class=" goog-menuitem goog-option-selectable " role="menuitem" id=":1f" style="user-select: none;"><div class="goog-menuitem-content" style="user-select: none;"><!--?lit$764029187$-->Expand comments<!--?lit$764029187$--></div></div></div><div class="goog-menu" id="insert-menu" role="menu" aria-haspopup="true" style="display: none; user-select: none;"><!--?lit$764029187$--><div command="insert-cell-below" class=" goog-menuitem " role="menuitem" id=":1t" style="user-select: none;"><div class="goog-menuitem-content" style="user-select: none;"><!--?lit$764029187$-->Code cell<!--?lit$764029187$--></div></div><div command="add-text" class=" goog-menuitem " role="menuitem" id=":1u" style="user-select: none;"><div class="goog-menuitem-content" style="user-select: none;"><!--?lit$764029187$-->Text cell<!--?lit$764029187$--></div></div><div command="add-section-header" class=" goog-menuitem " role="menuitem" id=":1v" style="user-select: none;"><div class="goog-menuitem-content" style="user-select: none;"><!--?lit$764029187$-->Section header cell<!--?lit$764029187$--></div></div><div class="goog-menuseparator goog-menuitem-disabled" aria-disabled="true" role="separator" id=":1w" style="user-select: none;"></div><div command="open-scratch-code-cell" class=" goog-menuitem " role="menuitem" id=":1x" style="user-select: none;"><div class="goog-menuitem-content" style="user-select: none;"><!--?lit$764029187$-->Scratch code cell<!--?lit$764029187$--></div></div><div command="snippets" class=" goog-menuitem " role="menuitem" id=":1y" style="user-select: none;"><div class="goog-menuitem-content" style="user-select: none;"><!--?lit$764029187$-->Code snippets<!--?lit$764029187$--></div></div><div class="goog-menuseparator goog-menuitem-disabled" aria-disabled="true" role="separator" id=":1z" style="user-select: none;"></div><div command="add-form-field" class=" goog-menuitem " role="menuitem" id=":20" style="user-select: none;"><div class="goog-menuitem-content" style="user-select: none;"><!--?lit$764029187$-->Add a form field<!--?lit$764029187$--></div></div></div><div class="goog-menu" id="runtime-menu" role="menu" aria-haspopup="true" style="display: none; user-select: none;"><!--?lit$764029187$--><div command="runall" class=" goog-menuitem " role="menuitem" id=":22" style="user-select: none;"><div class="goog-menuitem-content" style="user-select: none;"><!--?lit$764029187$-->Run all<!--?lit$764029187$--></div></div><div command="runbefore" class=" goog-menuitem " role="menuitem" id=":23" style="user-select: none;"><div class="goog-menuitem-content" style="user-select: none;"><!--?lit$764029187$-->Run before<!--?lit$764029187$--></div></div><div command="runfocused" class=" goog-menuitem " role="menuitem" id=":24" style="user-select: none;"><div class="goog-menuitem-content" style="user-select: none;"><!--?lit$764029187$-->Run the focused cell<!--?lit$764029187$--></div></div><div command="runselected" class=" goog-menuitem " role="menuitem" id=":25" style="user-select: none;"><div class="goog-menuitem-content" style="user-select: none;"><!--?lit$764029187$-->Run selection<!--?lit$764029187$--></div></div><div command="runafter" class=" goog-menuitem " role="menuitem" id=":26" style="user-select: none;"><div class="goog-menuitem-content" style="user-select: none;"><!--?lit$764029187$-->Run cell and below<!--?lit$764029187$--></div></div><div class="goog-menuseparator goog-menuitem-disabled" aria-disabled="true" role="separator" id=":27" style="user-select: none;"></div><div command="interrupt" class=" goog-menuitem " role="menuitem" id=":28" style="user-select: none;"><div class="goog-menuitem-content" style="user-select: none;"><!--?lit$764029187$-->Interrupt execution<!--?lit$764029187$--></div></div><div command="restart" class=" goog-menuitem " role="menuitem" id=":29" style="user-select: none;"><div class="goog-menuitem-content" style="user-select: none;"><!--?lit$764029187$-->Restart session<!--?lit$764029187$--></div></div><div command="restart-and-run-all" class=" goog-menuitem " role="menuitem" id=":2a" style="user-select: none;"><div class="goog-menuitem-content" style="user-select: none;"><!--?lit$764029187$-->Restart session and run all<!--?lit$764029187$--></div></div><div command="powerwash-current-vm" class=" goog-menuitem " role="menuitem" id=":2b" style="user-select: none;"><div class="goog-menuitem-content" style="user-select: none;"><!--?lit$764029187$-->Disconnect and delete runtime<!--?lit$764029187$--></div></div><div class="goog-menuseparator goog-menuitem-disabled" aria-disabled="true" role="separator" id=":2c" style="user-select: none;"></div><div command="change-runtime-type" class=" goog-menuitem " role="menuitem" id=":2d" style="user-select: none;"><div class="goog-menuitem-content" style="user-select: none;"><!--?lit$764029187$-->Change runtime type<!--?lit$764029187$--></div></div><div class="goog-menuseparator goog-menuitem-disabled" aria-disabled="true" role="separator" id=":2e" style="user-select: none;"></div><div command="manage-sessions" class=" goog-menuitem " role="menuitem" id=":2f" style="user-select: none;"><div class="goog-menuitem-content" style="user-select: none;"><!--?lit$764029187$-->Manage sessions<!--?lit$764029187$--></div></div><div command="open-resource-viewer" class=" goog-menuitem " role="menuitem" id=":2g" style="user-select: none;"><div class="goog-menuitem-content" style="user-select: none;"><!--?lit$764029187$-->View resources<!--?lit$764029187$--></div></div><div command="view-runtime-logs" class=" goog-menuitem " role="menuitem" id=":2h" style="user-select: none;"><div class="goog-menuitem-content" style="user-select: none;"><!--?lit$764029187$-->View runtime logs<!--?lit$764029187$--></div></div></div><div class="goog-menu" id="tools-menu" role="menu" aria-haspopup="true" style="display: none; user-select: none;"><!--?lit$764029187$--><div command="show-command-palette" class=" goog-menuitem " role="menuitem" id=":2j" style="user-select: none;"><div class="goog-menuitem-content" style="user-select: none;"><!--?lit$764029187$-->Command palette<!--?lit$764029187$--></div></div><div class="goog-menuseparator goog-menuitem-disabled" aria-disabled="true" role="separator" id=":2k" style="user-select: none;"></div><div command="preferences" class=" goog-menuitem " role="menuitem" id=":2l" style="user-select: none;"><div class="goog-menuitem-content" style="user-select: none;"><!--?lit$764029187$-->Settings<!--?lit$764029187$--></div></div><div command="shortcuts" class=" goog-menuitem " role="menuitem" id=":2m" style="user-select: none;"><div class="goog-menuitem-content" style="user-select: none;"><!--?lit$764029187$-->Keyboard shortcuts<!--?lit$764029187$--></div></div><div class="goog-menuseparator goog-menuitem-disabled" aria-disabled="true" role="separator" id=":2n" style="user-select: none;"></div><div command="open-differ" class=" goog-menuitem " role="menuitem" id=":2o" style="user-select: none;"><div class="goog-menuitem-content" style="user-select: none;"><!--?lit$764029187$-->Diff notebooks<!--?lit$764029187$--> <span class="screenreader-only" style="user-select: none;"><!--?lit$764029187$-->(opens in a new tab)</span></div></div></div><div class="goog-menu" id="help-menu" role="menu" aria-haspopup="true" style="display: none; user-select: none;"><!--?lit$764029187$--><div command="faq" class=" goog-menuitem " role="menuitem" id=":2q" style="user-select: none;"><div class="goog-menuitem-content" style="user-select: none;"><!--?lit$764029187$-->Frequently asked questions<!--?lit$764029187$--></div></div><div command="view-relnotes" class=" goog-menuitem " role="menuitem" id=":2r" style="user-select: none;"><div class="goog-menuitem-content" style="user-select: none;"><!--?lit$764029187$-->View release notes<!--?lit$764029187$--></div></div><div command="snippets" class=" goog-menuitem " role="menuitem" id=":2s" style="user-select: none;"><div class="goog-menuitem-content" style="user-select: none;"><!--?lit$764029187$-->Search code snippets<!--?lit$764029187$--></div></div><div class="goog-menuseparator goog-menuitem-disabled" aria-disabled="true" role="separator" id=":2t" style="user-select: none;"></div><div command="report-bug" class=" goog-menuitem " role="menuitem" id=":2u" style="user-select: none;"><div class="goog-menuitem-content" style="user-select: none;"><!--?lit$764029187$-->Report a bug<!--?lit$764029187$--></div></div><div command="report-abuse" class=" goog-menuitem " role="menuitem" id=":2v" style="user-select: none;"><div class="goog-menuitem-content" style="user-select: none;"><!--?lit$764029187$-->Report Drive abuse<!--?lit$764029187$--></div></div><div command="send-feedback" class=" goog-menuitem " role="menuitem" id=":2w" style="user-select: none;"><div class="goog-menuitem-content" style="user-select: none;"><!--?lit$764029187$-->Send feedback<!--?lit$764029187$--></div></div><div command="view-tos" class=" goog-menuitem " role="menuitem" id=":2x" style="user-select: none;"><div class="goog-menuitem-content" style="user-select: none;"><!--?lit$764029187$-->View terms of service<!--?lit$764029187$--></div></div></div><dialog class="doc-comments-area" aria-label="Comments"><!----><div class="doc-comments-buttons">
        <md-text-button command="add-comment" value="" has-icon=""><template shadowrootmode="open" shadowrootdelegatesfocus><!---->
      <!--?lit$764029187$-->
      <div class="background"></div>
      <md-focus-ring part="focus-ring" for="button" aria-hidden="true"><template shadowrootmode="open"><!----></template></md-focus-ring>
      <md-ripple part="ripple" for="button" aria-hidden="true"><template shadowrootmode="open"><!----><div class="surface   "></div></template></md-ripple>
      <!--?lit$764029187$--><button id="button" class="button">
      <!--?lit$764029187$-->
      <span class="touch"></span>
      <!--?lit$764029187$--><slot name="icon"></slot>
      <span class="label"><slot></slot></span>
      <!--?lit$764029187$-->
    
    </button>
    </template>
          <md-icon slot="icon" filled="" aria-hidden="true"><template shadowrootmode="open"><!----><slot></slot></template>comment</md-icon>
          <!--?lit$764029187$-->Add a comment
        </md-text-button>
      </div></dialog><div class="thumbnail"></div><div class="monaco-aria-container"><div class="monaco-alert" role="alert" aria-atomic="true"></div><div class="monaco-alert" role="alert" aria-atomic="true"></div><div class="monaco-status" role="complementary" aria-live="polite" aria-atomic="true"></div><div class="monaco-status" role="complementary" aria-live="polite" aria-atomic="true"></div></div><iframe id="apiproxy788a7c9dc68e756eb2da844404158205b0e0c41a0.3428117493" name="apiproxy788a7c9dc68e756eb2da844404158205b0e0c41a0.3428117493" src="./KNN &amp; PCA Assignment_files/proxy.html" tabindex="-1" aria-hidden="true" style="width: 1px; height: 1px; position: absolute; top: -100px; display: none;"></iframe><div><div class="grecaptcha-badge" data-style="bottomright" style="width: 256px; height: 60px; position: fixed; visibility: hidden; display: block; transition: right 0.3s; bottom: 14px; right: -186px; box-shadow: gray 0px 0px 5px; border-radius: 2px; overflow: hidden;"><div class="grecaptcha-logo"><iframe title="reCAPTCHA" width="256" height="60" role="presentation" name="a-ltmj3hklhv5y" frameborder="0" scrolling="no" sandbox="allow-forms allow-popups allow-same-origin allow-scripts allow-top-navigation allow-modals allow-popups-to-escape-sandbox allow-storage-access-by-user-activation" src="./KNN &amp; PCA Assignment_files/anchor.html"></iframe></div><div class="grecaptcha-error"></div><textarea id="g-recaptcha-response-100000" name="g-recaptcha-response" class="g-recaptcha-response" style="width: 250px; height: 40px; border: 1px solid rgb(193, 193, 193); margin: 10px 25px; padding: 0px; resize: none; display: none;"></textarea></div><iframe style="display: none;" src="./KNN &amp; PCA Assignment_files/saved_resource.html"></iframe></div><iframe src="./KNN &amp; PCA Assignment_files/bscframe.html" style="display: none;"></iframe></body></html>